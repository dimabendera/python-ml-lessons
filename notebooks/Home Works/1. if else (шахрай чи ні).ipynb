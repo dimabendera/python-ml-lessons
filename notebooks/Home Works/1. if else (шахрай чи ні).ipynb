{
 "cells": [
  {
   "cell_type": "markdown",
   "id": "992b0dc4",
   "metadata": {},
   "source": [
    "ДОМАШНЕ ЗАВДАННЯ\n",
    "\n",
    "є датасет\n",
    "\n",
    "* Бінарний параметр: Використання VPN (0 або 1).\n",
    "* Категоріальний параметр: Тип транзакції (A, B, C, D).\n",
    "* Два числових параметра: Сума транзакції і Кількість транзакцій за годину.\n",
    "* Бінарна відповідь: Шахрай (0 або 1). (таргет)\n",
    "\n",
    "Тренувальний датасет:\n",
    "```\n",
    "Використання VPN\tТип транзакції\tСума транзакції\tТранзакцій за годину\tШахрай\n",
    "0\tA\t100.5\t1\t0\n",
    "1\tB\t1000.0\t5\t1\n",
    "0\tC\t50.0\t2\t0\n",
    "1\tD\t1200.0\t10\t1\n",
    "0\tA\t150.0\t1\t0\n",
    "1\tB\t750.0\t4\t1\n",
    "0\tC\t80.0\t3\t0\n",
    "1\tD\t900.0\t8\t1\n",
    "0\tB\t200.0\t2\t0\n",
    "1\tC\t600.0\t3\t0\n",
    "0\tA\t110.0\t1\t0\n",
    "1\tD\t950.0\t7\t1\n",
    "0\tC\t70.0\t2\t0\n",
    "1\tB\t700.0\t5\t1\n",
    "0\tD\t250.0\t3\t0\n",
    "1\tA\t800.0\t4\t0\n",
    "0\tB\t140.0\t2\t0\n",
    "1\tC\t650.0\t5\t1\n",
    "0\tD\t220.0\t3\t0\n",
    "1\tA\t850.0\t6\t1\n",
    "```\n",
    "\n",
    "Треба конструкціями if else зробити визначення таргету в залежності від інших параметрів (Використання VPN, Тип транзакції, Сума транзакції, Кількість транзакцій за годину)"
   ]
  },
  {
   "cell_type": "code",
   "execution_count": null,
   "id": "f8b70afe",
   "metadata": {},
   "outputs": [],
   "source": []
  }
 ],
 "metadata": {
  "kernelspec": {
   "display_name": "Python 3",
   "language": "python",
   "name": "python3"
  },
  "language_info": {
   "codemirror_mode": {
    "name": "ipython",
    "version": 3
   },
   "file_extension": ".py",
   "mimetype": "text/x-python",
   "name": "python",
   "nbconvert_exporter": "python",
   "pygments_lexer": "ipython3",
   "version": "3.8.10"
  }
 },
 "nbformat": 4,
 "nbformat_minor": 5
}
