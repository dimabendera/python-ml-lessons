{
 "cells": [
  {
   "cell_type": "markdown",
   "id": "b2cc4d98",
   "metadata": {},
   "source": [
    "# Побудувати просту систему рекомендацій з фільмами\n",
    "Треба побудувати рекомендації фільмів для нових юзерів по схемі \"Разом з цим дивились\"\n",
    "\n",
    "Для початку качаємо датасет за посиланням http://files.grouplens.org/datasets/movielens/ml-1m.zip\n",
    "і розпаковуємо в папку з проектом\n",
    "\n",
    "Там буде три файли з них нам потрібно тільки `ratings.dat` і `movies.dat`\n",
    "\n",
    "ratings.dat має формат\n",
    "`user_id`::`movie_id`::`rating`::`timestamp`\n",
    "\n",
    "movies.dat має формат\n",
    "`movie_id`::`movie_name`::`genre`\n",
    "\n",
    "Необхідно прочитати ці два файли і сформувати словник, де ключом буде id юзера, а значенням всі назви фільмів які він подивився (поставив рейтінг)\n",
    "```\n",
    "{\n",
    "    \"user_id_1\": [\"movie_name_1\", \"movie_name_2\", ... ],\n",
    "    \"user_id_2\": [\"movie_name_2\", \"movie_name_4\", ... ],\n",
    "    ...\n",
    "}\n",
    "```\n",
    "\n",
    "Після цього зробити словник з рекомендаціями фільма по фільмам які дивляться разом з ним і кількість разів скільки дивились і зберегти цей файл\n",
    "```\n",
    "{\n",
    "    \"movie_name_1\": {\n",
    "        \"movie_name_2\": 2,\n",
    "        \"movie_name_3\": 3,\n",
    "        ...\n",
    "    },\n",
    "    \"movie_name_2\": {\n",
    "        \"movie_name_2\": 1,\n",
    "        \"movie_name_3\": 3,\n",
    "        ...\n",
    "    },\n",
    "    ...\n",
    "}\n",
    "```\n",
    "\n",
    "\n",
    "Написати функцію яка б по назві фільму, рекомендовала топ фільмів які люди найбільше дивляться разом з цим фільмом"
   ]
  },
  {
   "cell_type": "code",
   "execution_count": null,
   "id": "40660139",
   "metadata": {},
   "outputs": [],
   "source": []
  }
 ],
 "metadata": {
  "kernelspec": {
   "display_name": "Python 3",
   "language": "python",
   "name": "python3"
  },
  "language_info": {
   "codemirror_mode": {
    "name": "ipython",
    "version": 3
   },
   "file_extension": ".py",
   "mimetype": "text/x-python",
   "name": "python",
   "nbconvert_exporter": "python",
   "pygments_lexer": "ipython3",
   "version": "3.8.10"
  }
 },
 "nbformat": 4,
 "nbformat_minor": 5
}
