{
 "cells": [
  {
   "cell_type": "markdown",
   "id": "5597da33",
   "metadata": {},
   "source": [
    "ДОМАШНЕ ЗАВДАННЯ\n",
    "\n",
    "Завдання 1: Зробити нормалізацію табличних данних\n",
    "\n",
    "є датасет\n",
    "\n",
    "* Бінарний параметр: Використання VPN (0 або 1).\n",
    "* Категоріальний параметр: Тип транзакції (A, B, C, D).\n",
    "* Два числових параметра: Сума транзакції і Кількість транзакцій за годину.\n",
    "* Бінарна відповідь: Шахрай (0 або 1). (таргет)\n",
    "\n",
    "Тренувальний датасет:\n",
    "```\n",
    "Використання VPN\tТип транзакції\tСума транзакції\tТранзакцій за годину\tШахрай\n",
    "0\tA\t100.5\t1\t0\n",
    "1\tB\t1000.0\t5\t1\n",
    "0\tC\t50.0\t2\t0\n",
    "1\tD\t1200.0\t10\t1\n",
    "0\tA\t150.0\t1\t0\n",
    "1\tB\t750.0\t4\t1\n",
    "0\tC\t80.0\t3\t0\n",
    "1\tD\t900.0\t8\t1\n",
    "0\tB\t200.0\t2\t0\n",
    "1\tC\t600.0\t3\t0\n",
    "0\tA\t110.0\t1\t0\n",
    "1\tD\t950.0\t7\t1\n",
    "0\tC\t70.0\t2\t0\n",
    "1\tB\t700.0\t5\t1\n",
    "0\tD\t250.0\t3\t0\n",
    "1\tA\t800.0\t4\t0\n",
    "0\tB\t140.0\t2\t0\n",
    "1\tC\t650.0\t5\t1\n",
    "0\tD\t220.0\t3\t0\n",
    "1\tA\t850.0\t6\t1\n",
    "```\n",
    "\n",
    "Треба зробити нормалізацію данних\n",
    "   * Для нормалізації числових даних від 0 до 1, можна використовувати Min-Max нормалізацію\n",
    "   * Для категоріальниз параметрів ми можемо використовувати one-hot encoding. (Приклад в на є 3 класси 1, 2, 4, тоді ми иожемо представити їх як 1 = [1, 0, 0]; 2 = [0, 1, 0]; 3 = [0, 0, 1])\n",
    "   \n",
    "В результаті ми повинні отримати такий массив з масивів\n",
    "\n",
    "```\n",
    "    Використання VPN\tСума транзакції\tТранзакцій за годину\tШахрай\tТип_A\tТип_B\tТип_C\tТип_D\n",
    "    0\t0.043913\t0.000000\t0\t1\t0\t0\t0\n",
    "    1\t0.826087\t0.444444\t1\t0\t1\t0\t0\n",
    "```\n",
    "\n",
    "\n",
    "Завдання 2: Розробити функцію для нормалізації тексту.\n",
    "\n",
    "Опис завдання:\n",
    "Текстова нормалізація — це процес перетворення тексту в уніфіковану форму. Цей процес допомагає підготувати текст до подальшого аналізу та обробки.\n",
    "\n",
    "Кроки виконання:\n",
    "\n",
    "Прибрання тексту:\n",
    "* a. Перевести текст у нижній регістр.\n",
    "* b. Видалити знаки пунктуації, цифри та інші непотрібні символи.\n",
    "* c. Видалити зайві пробіли.\n",
    "\n",
    "Токенізація:\n",
    "* a. Розбити текст на окремі слова (токени). Підрахувати скільки разів кожен токен (слово) зустрічаеться в тексті\n",
    "\n",
    "Видалення стоп-слів:\n",
    "* a. Створити список стоп-слів. Це загальноприйняті слова, які зазвичай видаляються з тексту перед обробкою (наприклад, \"і\", \"а\", \"у\", \"з\", \"до\" тощо для української мови).\n",
    "* b. Видалити стоп-слова зі списку токенів.\n",
    "\n",
    "Приклад:\n",
    "Вхідний текст:\n",
    "```\n",
    "\"Це просто приклад Тексту, який має бути просто Нормалізованим!\"\n",
    "```\n",
    "\n",
    "Результат:\n",
    "```\n",
    "{\n",
    "    \"просто\": 2,\n",
    "    \"приклад\": 1,\n",
    "    \"тексту\": 1,\n",
    "    \"має\": 1,\n",
    "    \"нормалізованим\": 1\n",
    "}\n",
    "```\n",
    "\n",
    "(припускаючи, що слова \"це\", \"який\" та \"бути\" є стоп-словами у вашому списку)."
   ]
  },
  {
   "cell_type": "markdown",
   "id": "57bbc724",
   "metadata": {},
   "source": []
  },
  {
   "cell_type": "code",
   "execution_count": 1,
   "id": "66f734af",
   "metadata": {},
   "outputs": [],
   "source": [
    "dataset = \"\"\"0    A    100.5    1    0\n",
    "1    B    1000.0    5    1\n",
    "0    C    50.0    2    0\n",
    "1    D    1200.0    10    1\n",
    "0    A    150.0    1    0\n",
    "1    B    750.0    4    1\n",
    "0    C    80.0    3    0\n",
    "1    D    900.0    8    1\n",
    "0    B    200.0    2    0\n",
    "1    C    600.0    3    0\n",
    "0    A    110.0    1    0\n",
    "1    D    950.0    7    1\n",
    "0    C    70.0    2    0\n",
    "1    B    700.0    5    1\n",
    "0    D    250.0    3    0\n",
    "1    A    800.0    4    0\n",
    "0    B    140.0    2    0\n",
    "1    C    650.0    5    1\n",
    "0    D    220.0    3    0\n",
    "1    A    850.0    6    1\"\"\""
   ]
  },
  {
   "cell_type": "code",
   "execution_count": 7,
   "id": "b16ebec8",
   "metadata": {},
   "outputs": [
    {
     "data": {
      "text/plain": [
       "[1.0, 0.0, 0.25, 0.375]"
      ]
     },
     "execution_count": 7,
     "metadata": {},
     "output_type": "execute_result"
    }
   ],
   "source": [
    "a = [10, 2, 4, 5]\n",
    "[(item-min(a))/(max(a)-min(a)) for item in a]"
   ]
  },
  {
   "cell_type": "code",
   "execution_count": 4,
   "id": "8ccfbdd6",
   "metadata": {},
   "outputs": [
    {
     "name": "stdout",
     "output_type": "stream",
     "text": [
      "0    A    100.5    1    0\n"
     ]
    }
   ],
   "source": [
    "\n",
    "for line in dataset.split(\"\\n\"):\n",
    "    print(line)\n",
    "    break"
   ]
  },
  {
   "cell_type": "code",
   "execution_count": 8,
   "id": "e4579b0c",
   "metadata": {},
   "outputs": [],
   "source": [
    "cats = [\"A\", \"B\", \"C\", \"D\", \"A\", \"B\", \"C\", \"D\", \"A\", \"B\", \"C\", \"D\"] "
   ]
  },
  {
   "cell_type": "code",
   "execution_count": 25,
   "id": "901f2964",
   "metadata": {},
   "outputs": [
    {
     "name": "stdout",
     "output_type": "stream",
     "text": [
      "[0, 0, 0, 1]\n",
      "[0, 1, 0, 0]\n",
      "[0, 0, 1, 0]\n",
      "[1, 0, 0, 0]\n",
      "[0, 0, 0, 1]\n",
      "[0, 1, 0, 0]\n",
      "[0, 0, 1, 0]\n",
      "[1, 0, 0, 0]\n",
      "[0, 0, 0, 1]\n",
      "[0, 1, 0, 0]\n",
      "[0, 0, 1, 0]\n",
      "[1, 0, 0, 0]\n"
     ]
    }
   ],
   "source": [
    "vals = list(set(cats))\n",
    "\n",
    "for value in cats:\n",
    "    normalized_cat = [0 for _ in range(len(vals))]\n",
    "    index = vals.index(value)\n",
    "    normalized_cat[index] = 1\n",
    "    print(normalized_cat)"
   ]
  },
  {
   "cell_type": "code",
   "execution_count": 30,
   "id": "5d86b208",
   "metadata": {},
   "outputs": [],
   "source": [
    "from pandas import DataFrame as DF"
   ]
  },
  {
   "cell_type": "code",
   "execution_count": 34,
   "id": "2c6fad9f",
   "metadata": {},
   "outputs": [
    {
     "data": {
      "text/html": [
       "<div>\n",
       "<style scoped>\n",
       "    .dataframe tbody tr th:only-of-type {\n",
       "        vertical-align: middle;\n",
       "    }\n",
       "\n",
       "    .dataframe tbody tr th {\n",
       "        vertical-align: top;\n",
       "    }\n",
       "\n",
       "    .dataframe thead th {\n",
       "        text-align: right;\n",
       "    }\n",
       "</style>\n",
       "<table border=\"1\" class=\"dataframe\">\n",
       "  <thead>\n",
       "    <tr style=\"text-align: right;\">\n",
       "      <th></th>\n",
       "      <th>name</th>\n",
       "      <th>age</th>\n",
       "    </tr>\n",
       "  </thead>\n",
       "  <tbody>\n",
       "    <tr>\n",
       "      <th>0</th>\n",
       "      <td>Alice</td>\n",
       "      <td>20</td>\n",
       "    </tr>\n",
       "    <tr>\n",
       "      <th>1</th>\n",
       "      <td>Alice</td>\n",
       "      <td>20</td>\n",
       "    </tr>\n",
       "  </tbody>\n",
       "</table>\n",
       "</div>"
      ],
      "text/plain": [
       "    name  age\n",
       "0  Alice   20\n",
       "1  Alice   20"
      ]
     },
     "execution_count": 34,
     "metadata": {},
     "output_type": "execute_result"
    }
   ],
   "source": [
    "DF([{\n",
    "    \"name\": \"Alice\",\n",
    "    \"age\": 20,\n",
    "},\n",
    "{\n",
    "    \"name\": \"Alice\",\n",
    "    \"age\": 20,\n",
    "}])"
   ]
  },
  {
   "cell_type": "code",
   "execution_count": null,
   "id": "b4ba9ec9",
   "metadata": {},
   "outputs": [],
   "source": []
  }
 ],
 "metadata": {
  "kernelspec": {
   "display_name": "Python 3",
   "language": "python",
   "name": "python3"
  },
  "language_info": {
   "codemirror_mode": {
    "name": "ipython",
    "version": 3
   },
   "file_extension": ".py",
   "mimetype": "text/x-python",
   "name": "python",
   "nbconvert_exporter": "python",
   "pygments_lexer": "ipython3",
   "version": "3.8.10"
  }
 },
 "nbformat": 4,
 "nbformat_minor": 5
}
