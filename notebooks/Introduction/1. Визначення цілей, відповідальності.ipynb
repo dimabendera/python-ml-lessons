{
 "cells": [
  {
   "cell_type": "markdown",
   "id": "8568ac83",
   "metadata": {},
   "source": [
    "<h1> 1. Визначення цілей, відповідальності </h1>\n",
    "\n",
    "\n",
    "<h3>Цілі:</h3>\n",
    "<p style=\"color:#FF0000\">TODO: доповнити цілі</p>\n",
    "<ol> \n",
    "  <li type=\"1\">Навчитись програмувати на Python</li>\n",
    "  <li type=\"1\">Вивчення допоміжних бібліотек/фраемворків python</li>\n",
    "  <li type=\"1\">Збір датасету, інстументи для збору та розмітки датасету</li>\n",
    "  <li type=\"1\">Базовове розуміння ML/DS, Навчання моделі</li>\n",
    "  <li type=\"1\">Back-end розробка, Інференс моделі</li>\n",
    "  <li type=\"1\">Командний проект з машинного навчання</li>\n",
    "</ol>\n",
    "\n",
    "\n",
    "<h3>Відповідальність:</h3>\n",
    "Розподіл ролей до фінального проекту\n",
    "\n",
    "<p style=\"color:#FF0000\">TODO: додати Data Science Lead</p>\n",
    "<p style=\"color:#FF0000\">TODO: додати Data Science Manager</p>\n",
    "\n",
    "<h4>Основні ролі:</h4>\n",
    "\n",
    "\n",
    "<h5>Data Scientist</h5>\n",
    "<b>Hard skills.</b> Мають сильні статистичні та математичні навички. Працюють з усіма базовими типами моделей (classification, regression, unsupervised learning, time series etc), проте не обов’язково з Deep Learning. Багато програмують (зазвичай у Python). Працюють з Big Data (здебільшого у Spark). Активно займаються feature mining. Уміють деплоїти свій код щонайменше на базовому рівні, створюють Machine Learning pipelines.\n",
    "\n",
    "<b>Soft skills/Business mindset.</b> Мають сильні презентаційні та комунікаційні навички. Часто займаються візуалізацією даних, проте порівняно Data Analysts частіше створюють дашборди в Python/Databricks.\n",
    "\n",
    "Багато працюють із бізнес-стейкхолдерами, щоб зібрати вимоги для нових задач і створити моделі прогнозу, фокусуються на довгострокових проєктах.\n",
    "\n",
    "<b>Типові завдання.</b> Розробка моделей прогнозу та алгоритмів автоматизації рішень. Exploratory Data Analysis з акцентом на великих даних, формуванні гіпотез та експериментів для їх валідації.\n",
    "\n",
    "<b>Обов’язки</b> Багато працюють з Data Engineers, створюють прототипи трансформації даних, які останні потім масштабують та автоматизують. Data Scientists роблять і підтримують базові моделі, які використовують для оптимізації маркетингових витрат (наприклад, передбачення конверсії користувача) або оптимального ціноутворення (алгоритм оптимізації ціни товару). Створюють багато автоматичних дашбордів та аналізують дані у Spark.\n",
    "\n",
    "<h5>Machine Learning Engineer</h5>\n",
    "\n",
    "<b>Hard skills.</b> Сильні програмні скіли (Python, Scala, Java). Уміння працювати зі стримінговими даними та великими даними (у Spark). Знають, як деплоїти Machine Learning models будь-якої складності та інтегрувати їх з іншими системами. Щонайменше розуміють специфіку Machine Learning, в ідеалі самі роблять моделі.\n",
    "\n",
    "<b>Soft skills/Business mindset.</b> Працюють зі стейкхолдерами, якщо займаються продуктовими фічами. Створюють автоматичні дашборди. Менше зосереджені на візуалізації даних і презентаціях.\n",
    "\n",
    "Можуть рідше працювати зі стейкхолдерами й більше з інженерними командами, розробляти platform features. Якщо хочуть і вміють презентувати власні результати, стають надцінними спеціалістами.\n",
    "\n",
    "<b>Типові завдання.</b> Оптимізують перфоманс ML solutions. Можуть працювати зі складними алгоритмами для search optimization, відповідати як за production ML pipelines, так і за складні Data Transformation pipelines.\n",
    "\n",
    "<b>Обов’язки.</b> Реалізують алгоритми, розроблені разом із Data Scientists у вигляді мікросервісів (наприклад, повністю інтегрували новий алгоритм ціноутворення у продакшн). Працюють над технічними розв’язками складних задач на кшталт search algorithms optimization або product ranking.\n",
    "\n",
    "<img src=\"./assets/image3_l7F3xFX.png\"></img>\n",
    "\n",
    "<h5>Data Analyst</h5>\n",
    "<b>Hard skills.</b> Часто користуються BI tools для аналізу даних (Looker, Tableau). Працюють в R. Переважно добре знають SQL. Уміння працювати з Big Data і програмувати завжди буде плюсом, але зазвичай не є головною вимогою. Знають статистику.\n",
    "\n",
    "<b>Soft skills/Business mindset.</b> Дуже сильні у комунікації та візуалізації даних і презентаціях. Гуру Google Spreadsheets (Excel) та Google Slides (PowerPoint). Багато спілкуються з бізнес-стейкхолдерами, чудово розуміють бізнес-контекст. Зазвичай не тільки знаходять інсайти у даних, а й планують подальші дії на основі цього разом із Product Managers.\n",
    "\n",
    "<b>Типові завдання.</b> Усі види EDA (Exploratory Data Analysis), A/B testing, user segmentation.\n",
    "\n",
    "<b>Обов’язки</b> Data Analysts — найкращі друзі Product Managers. Вони орієнтуються в усіх деталях продукту, допомагають розробляти дизайн нових фіч і аналізувати їхню ефективність. Дуже швидко всі наші аналітики перетворюються на віртуозів Looker і створюють основу для більшості reports.\n",
    "\n",
    "\n",
    "<img src=\"./assets/image1_EdiFSgr.png\"></img>\n",
    "\n",
    "<h5>Хто Я?</h5>\n",
    "\n",
    "<img src=\"./assets/image2_GGiapn7.png\"></img>\n",
    "\n",
    "\n",
    "<h4>Джерела:</h4>\n",
    "<ol> \n",
    "  <li type=\"1\">https://dou.ua/lenta/columns/choosing-position-in-data-science/</li>\n",
    "  <li type=\"1\">https://blog.gramener.com/5-job-roles-to-build-data-science-team/</li>\n",
    "  <li type=\"1\">https://www.datascience-pm.com/how-to-lead-data-science-teams/</li>\n",
    "</ol>"
   ]
  },
  {
   "cell_type": "code",
   "execution_count": 2,
   "id": "35338dcf",
   "metadata": {},
   "outputs": [],
   "source": [
    "import antigravity"
   ]
  },
  {
   "attachments": {},
   "cell_type": "markdown",
   "id": "c7d1f08b",
   "metadata": {},
   "source": [
    "<img src=\"./assets/0_gnndoXbf2xjZNc6Q.webp\"></img>"
   ]
  },
  {
   "cell_type": "code",
   "execution_count": null,
   "id": "73ce0327",
   "metadata": {},
   "outputs": [],
   "source": []
  }
 ],
 "metadata": {
  "kernelspec": {
   "display_name": "Python 3",
   "language": "python",
   "name": "python3"
  },
  "language_info": {
   "codemirror_mode": {
    "name": "ipython",
    "version": 3
   },
   "file_extension": ".py",
   "mimetype": "text/x-python",
   "name": "python",
   "nbconvert_exporter": "python",
   "pygments_lexer": "ipython3",
   "version": "3.8.10"
  }
 },
 "nbformat": 4,
 "nbformat_minor": 5
}
