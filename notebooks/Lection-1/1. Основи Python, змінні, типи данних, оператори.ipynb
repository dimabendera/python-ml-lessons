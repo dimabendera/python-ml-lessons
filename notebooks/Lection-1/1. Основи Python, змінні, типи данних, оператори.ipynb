{
 "cells": [
  {
   "cell_type": "markdown",
   "id": "4581e447",
   "metadata": {},
   "source": [
    "<h2>Python - об'єктно-орієнтована мова зі строгою та динамічною типізацією</h2>\n",
    "\n",
    "<p>Переваги:</p>\n",
    "<ol> \n",
    "    <li type=\"1\">легкість освоєння</li>\n",
    "    <li type=\"1\">швидка швидкість розробки</li>\n",
    "    <li type=\"1\">кросплатформність</li>\n",
    "    <li type=\"1\">велика стандартна бібліотека</li>\n",
    "    <li type=\"1\">інструменти для аналізу даних та наукових завдань</li>\n",
    "</ol>\n",
    "\n",
    "<p>Недоліки:</p>\n",
    "<ol> \n",
    "    <li type=\"1\">чистий Python - повільний</li>\n",
    "    <li type=\"1\">крива багатопоточність</li>\n",
    "    <li type=\"1\">слабкий у мобільній та фронтенд розробці</li>\n",
    "    <li type=\"1\">Python2 (RIP 1 січ. 2020)</li>\n",
    "</ol>\n",
    "\n",
    "<h2>Області застосування Python</h2>\n",
    "<ol> \n",
    "    <li type=\"1\">веб розробка</li>\n",
    "    <li type=\"1\">аналіз даних</li>\n",
    "    <li type=\"1\">машинне навчання</li>\n",
    "    <li type=\"1\">DevOps</li>\n",
    "    <li type=\"1\">Тестування</li>\n",
    "    <li type=\"1\">прототипування проектів</li>\n",
    "    <li type=\"1\">etc</li>\n",
    "</ol>\n",
    "\n",
    "\n",
    "<p>На Python розробка дуже швидка</p>\n",
    "\n",
    "<p>А швидкість самого python у багатьох випадках не критична,\n",
    "так як багато модулів написані на C/C++ і python просто викликає їх функціонал</p>\n",
    "\n",
    "<p>Таким чином, ми можемо швидко писати продуктивний код</p>\n",
    "\n",
    "<p>У ml виклики си-шного коду можуть займати багато часу, тому зазвичай будується граф обчислень, який буде повністю оброблятися плюсами</p>"
   ]
  },
  {
   "cell_type": "markdown",
   "id": "eb662dc3",
   "metadata": {},
   "source": [
    "<h2>Базовий синтаксис</h2>"
   ]
  },
  {
   "cell_type": "code",
   "execution_count": 7,
   "id": "b1f78c5d",
   "metadata": {},
   "outputs": [],
   "source": [
    "# This is a comment.\n",
    "# That means Python will let you write notes to yourself and to the other coders checking out your code\n",
    "# And Python won't run this at all, or even notice it.\n",
    "\n",
    "# The # symbol is what creates a comment.\n",
    "# You can have a comment on a line all by itself"
   ]
  },
  {
   "cell_type": "code",
   "execution_count": 9,
   "id": "de082982",
   "metadata": {},
   "outputs": [
    {
     "name": "stdout",
     "output_type": "stream",
     "text": [
      "The print statement will output some text to the screen.\n"
     ]
    }
   ],
   "source": [
    "# The print statement is a good place to start -- it allows us to see results right away.\n",
    "print(\"The print statement will output some text to the screen.\")  # as a command that Python WILL run"
   ]
  },
  {
   "cell_type": "code",
   "execution_count": null,
   "id": "3283d9d1",
   "metadata": {},
   "outputs": [],
   "source": [
    "# Python will run commands from top to bottom, left to right\n",
    "# So the print statement on line 3 will run before the print statement on line 4\n",
    "print(\"You can use lots of newlines to space things out if you like\")\n",
    "print(\"Or you can keep your statements close to one another.\")"
   ]
  },
  {
   "cell_type": "code",
   "execution_count": 12,
   "id": "91e7f7d0",
   "metadata": {},
   "outputs": [
    {
     "name": "stdout",
     "output_type": "stream",
     "text": [
      "It's really up to you, but generally speaking, you'll want to make your code as readable as possible.\n",
      "8\n",
      "8\n"
     ]
    }
   ],
   "source": [
    "print(\"It's really up to you, but generally speaking, you'll want to make your code as readable as possible.\")\n",
    "\n",
    "# These two statements are identical\n",
    "print(4+4)\n",
    "print(4 + 4)"
   ]
  },
  {
   "cell_type": "code",
   "execution_count": 5,
   "id": "2e8ebd7e",
   "metadata": {},
   "outputs": [
    {
     "ename": "IndentationError",
     "evalue": "unexpected indent (<ipython-input-5-ae9a7a8e39a1>, line 4)",
     "output_type": "error",
     "traceback": [
      "\u001b[0;36m  File \u001b[0;32m\"<ipython-input-5-ae9a7a8e39a1>\"\u001b[0;36m, line \u001b[0;32m4\u001b[0m\n\u001b[0;31m    print(4 + 4)\u001b[0m\n\u001b[0m    ^\u001b[0m\n\u001b[0;31mIndentationError\u001b[0m\u001b[0;31m:\u001b[0m unexpected indent\n"
     ]
    }
   ],
   "source": [
    "# Indentation levels matter a lot, even if other kinds of whitespace like newlines or spacing don't matter as much\n",
    "# So if you run the next line and ran this, you'd get an error.\n",
    "    print(4 + 4)"
   ]
  },
  {
   "cell_type": "markdown",
   "id": "4efe4760",
   "metadata": {},
   "source": [
    "<h2>Базові типи данних</h2>"
   ]
  },
  {
   "cell_type": "code",
   "execution_count": null,
   "id": "f875ea29",
   "metadata": {},
   "outputs": [],
   "source": [
    "# Data types: int, float, bool, str"
   ]
  },
  {
   "cell_type": "code",
   "execution_count": 14,
   "id": "223d4286",
   "metadata": {},
   "outputs": [
    {
     "name": "stdout",
     "output_type": "stream",
     "text": [
      "7 2 25 2.5\n",
      "7.5 2.0 29.64 2.5\n",
      "True\n",
      "False\n",
      "Yep, all those print statements you saw before? Those things between the quotes are strings! Yes, I'm a string, too. \n",
      "Python usually isn't too strict about data types, but there are some things you can't do.\n"
     ]
    }
   ],
   "source": [
    "# In Simple Math and Variable Assignment, we saw ints and floats in action.\n",
    "# Here's a quick refresher.\n",
    "\n",
    "# ints are whole numbers\n",
    "print(5 + 2, 5 - 3, 5 * 5, 5 / 2) # 7, 2, 25, 2\n",
    "\n",
    "# floats are decimal numbers\n",
    "print(5.4 + 2.1, 5.0 - 3, 5.7 * 5.2, 5 / 2.0) # 7.5, 2.0, 29.64, 2.5\n",
    "\n",
    "# boolean values store True or False (yes or no)\n",
    "print(5 > 4) # True\n",
    "print(3 + 3 <= 1) # False\n",
    "\n",
    "# Comparison Operators Sneak Peek\n",
    "#   >    greater than\n",
    "#   <    less than\n",
    "#   >=   greater than or equal to\n",
    "#   <=   less than or equal to\n",
    "#   !=   not equal to\n",
    "#   ==   is equal to\n",
    "\n",
    "# strings are covered in greater detail in Section 2\n",
    "# But essentially, they contain words, or really, anything you could type on a keyboard\n",
    "print(\"Yep, all those print statements you saw before? Those things between the quotes are strings! Yes, I'm a string, too. \")\n",
    "\n",
    "print(\"Python usually isn't too strict about data types, but there are some things you can't do.\")\n",
    "\n",
    "# Uncomment out the next line to get an error!\n",
    "#print \"This line here will cause an error, because you can't add strings to numbers. This is Lesson Section #\" + 1"
   ]
  },
  {
   "cell_type": "markdown",
   "id": "c28d32cc",
   "metadata": {},
   "source": [
    "<h2>Базові матиматичні дії</h2>"
   ]
  },
  {
   "cell_type": "code",
   "execution_count": 19,
   "id": "e47a2559",
   "metadata": {},
   "outputs": [
    {
     "name": "stdout",
     "output_type": "stream",
     "text": [
      "Four times four is  16\n"
     ]
    }
   ],
   "source": [
    "# We're going to work with print statements to output the results to the screen.\n",
    "\n",
    "# You can separate multiple print items with a comma, as shown below:\n",
    "print(\"Four times four is \", 4 * 4)"
   ]
  },
  {
   "cell_type": "code",
   "execution_count": 20,
   "id": "13eb61da",
   "metadata": {},
   "outputs": [
    {
     "name": "stdout",
     "output_type": "stream",
     "text": [
      "5 + 3 is  8\n"
     ]
    }
   ],
   "source": [
    "# Addition\n",
    "print(\"5 + 3 is \", 5 + 3)"
   ]
  },
  {
   "cell_type": "code",
   "execution_count": 21,
   "id": "8a023abd",
   "metadata": {},
   "outputs": [
    {
     "name": "stdout",
     "output_type": "stream",
     "text": [
      "6 - 2 is  4\n"
     ]
    }
   ],
   "source": [
    "# Subtraction\n",
    "print(\"6 - 2 is \", 6 - 2)"
   ]
  },
  {
   "cell_type": "code",
   "execution_count": 22,
   "id": "c2a2b389",
   "metadata": {},
   "outputs": [
    {
     "name": "stdout",
     "output_type": "stream",
     "text": [
      "10 * 20 is  200\n"
     ]
    }
   ],
   "source": [
    "# Multiplication\n",
    "print(\"10 * 20 is \", 10 * 20)"
   ]
  },
  {
   "cell_type": "code",
   "execution_count": 26,
   "id": "8777d644",
   "metadata": {},
   "outputs": [
    {
     "name": "stdout",
     "output_type": "stream",
     "text": [
      "55 / 2 is  27.5\n",
      "55.0 / 2 is  27.5\n",
      "55.0 / 2.0 is  27.5\n"
     ]
    }
   ],
   "source": [
    "# Division\n",
    "print(\"55 / 2 is \", 55 / 2)\n",
    "print(\"55.0 / 2 is \", 55.0 / 2)\n",
    "print(\"55.0 / 2.0 is \", 55.0 / 2.0)"
   ]
  },
  {
   "cell_type": "code",
   "execution_count": 32,
   "id": "86055e7f",
   "metadata": {},
   "outputs": [
    {
     "name": "stdout",
     "output_type": "stream",
     "text": [
      "3 % 2 is  1\n",
      "5 % 2 is  1\n",
      "4 % 2 is  0\n",
      "0 % 2 is  0\n"
     ]
    }
   ],
   "source": [
    "# Remainder Division\n",
    "print(\"3 % 2 is \", 3 % 2) # This is super useful for determining whether a number is odd or even\n",
    "print(\"5 % 2 is \", 5 % 2)\n",
    "print(\"4 % 2 is \", 4 % 2)\n",
    "print(\"0 % 2 is \", 0 % 2)"
   ]
  },
  {
   "cell_type": "code",
   "execution_count": 36,
   "id": "0b27b0c3",
   "metadata": {},
   "outputs": [
    {
     "name": "stdout",
     "output_type": "stream",
     "text": [
      "2 ** 2 is  4\n",
      "2 ** 4 is  16\n",
      "2 ** 10 is  1024\n"
     ]
    }
   ],
   "source": [
    "# Powers\n",
    "print(\"2 ** 2 is \", 2 ** 2) # (2*2)\n",
    "print(\"2 ** 4 is \", 2 ** 4) # (2*2*2*2)\n",
    "print(\"2 ** 10 is \", 2 ** 10)"
   ]
  },
  {
   "cell_type": "markdown",
   "id": "b5cffc39",
   "metadata": {},
   "source": [
    "# Присвоєння змінної"
   ]
  },
  {
   "cell_type": "code",
   "execution_count": 37,
   "id": "0a1e97e7",
   "metadata": {},
   "outputs": [],
   "source": [
    "# In Python (or any programming language), variables hold information that you can access, use, and change\n",
    "# In Python, there are lots of different types of information that you can hold\n",
    "\n",
    "# Some languages make you decide early on what type of information you want to store, or even what the name of a variable is, before you even get started.\n",
    "# I like Python because it's flexible and forgiving.\n",
    "\n",
    "\n",
    "# Rules of variable names\n",
    "# -----------------------\n",
    "# Variables must begin with a letter or underscore\n",
    "# Variables may contain letters and numbers and underscores, but not spaces\n",
    "# Variables can't be named the same thing as built-in Python commands\n",
    "\n",
    "# If you see a word on its own that isn't reserved to Python, chances are it's a variable.\n",
    "# In next line I'm telling Python I want to create a variable called 'lesson_section' and set it equal to 1\n",
    "\n",
    "lesson_section = 1 # General Programming Basics\n",
    "lesson_subsection = 2 # Variable Assignment"
   ]
  },
  {
   "cell_type": "code",
   "execution_count": 40,
   "id": "6021f018",
   "metadata": {},
   "outputs": [],
   "source": [
    "# Shannon's Rules of variable names\n",
    "# ---------------------------------\n",
    "# Variables should be descriptive, even if it means their names are long\n",
    "# You should be able to show your code to anyone and they'll know exactly what information a given variable holds\n",
    "# Use underscores to break up words!\n",
    "\n",
    "# We've stored values inside of lesson_section and lesson_subsection, so now let's use them!"
   ]
  },
  {
   "cell_type": "code",
   "execution_count": 41,
   "id": "ddcfb137",
   "metadata": {},
   "outputs": [
    {
     "name": "stdout",
     "output_type": "stream",
     "text": [
      "We are on Section # 1\n",
      "And this is unit # 2 , which covers Variable Assignment\n"
     ]
    }
   ],
   "source": [
    "print(\"We are on Section #\", lesson_section)\n",
    "print(\"And this is unit #\", lesson_subsection, \", which covers Variable Assignment\")"
   ]
  },
  {
   "cell_type": "code",
   "execution_count": 43,
   "id": "818f3d53",
   "metadata": {},
   "outputs": [],
   "source": [
    "# Take another look at the code for the basic math unit.\n",
    "# Anywhere you see a number in that code, you can replace it with a variable that holds a number instead."
   ]
  },
  {
   "cell_type": "code",
   "execution_count": 45,
   "id": "729a413a",
   "metadata": {},
   "outputs": [
    {
     "name": "stdout",
     "output_type": "stream",
     "text": [
      "My age is  21 , and I've been alive for  7665  days, give or take.\n",
      "My age is  21 , and I've been alive for  7670.25  days, give or take, now that I'm including leap years.\n"
     ]
    }
   ],
   "source": [
    "# Let's see that in practice:\n",
    "days_in_a_year = 365 # Beautifully descriptive variable names are their own comments\n",
    "my_age = 21 # yeah, right!\n",
    "\n",
    "print(\"My age is \", my_age, \", and I've been alive for \", days_in_a_year * my_age, \" days, give or take.\")\n",
    "\n",
    "# Now let's change the value stored in days_in_a_year to account for leap years and try it again.\n",
    "\n",
    "days_in_a_year = days_in_a_year + .25 # Equivalent to days_in_a_year = 365 + .25\n",
    "\n",
    "print(\"My age is \", my_age, \", and I've been alive for \", days_in_a_year * my_age, \" days, give or take, now that I'm including leap years.\")"
   ]
  },
  {
   "cell_type": "code",
   "execution_count": 57,
   "id": "c24ef425",
   "metadata": {},
   "outputs": [
    {
     "name": "stdout",
     "output_type": "stream",
     "text": [
      "Сума 7\n",
      "Віднімання 3\n",
      "добуток 3\n",
      "Ступінь 25\n",
      "Корінь 2.23606797749979\n",
      "Поділ 2.5\n",
      "Поділ націло 2\n",
      "Залишок від ділення 1\n"
     ]
    }
   ],
   "source": [
    "x, y = 5, 2\n",
    "print('Сума', x + y)\n",
    "print('Віднімання', x - y)\n",
    "print('добуток', x - y)\n",
    "print('Ступінь', x ** y)\n",
    "print('Корінь', x ** 0.5)\n",
    "print('Поділ', x / y)\n",
    "print('Поділ націло', x // y)\n",
    "print('Залишок від ділення', x % y)"
   ]
  },
  {
   "cell_type": "code",
   "execution_count": 47,
   "id": "b88e90a1",
   "metadata": {},
   "outputs": [
    {
     "data": {
      "text/plain": [
       "19950631168807583848837421626835850838234968318861924548520089498529438830221946631919961684036194597899331129423209124271556491349413781117593785932096323957855730046793794526765246551266059895520550086918193311542508608460618104685509074866089624888090489894838009253941633257850621568309473902556912388065225096643874441046759871626985453222868538161694315775629640762836880760732228535091641476183956381458969463899410840960536267821064621427333394036525565649530603142680234969400335934316651459297773279665775606172582031407994198179607378245683762280037302885487251900834464581454650557929601414833921615734588139257095379769119277800826957735674444123062018757836325502728323789270710373802866393031428133241401624195671690574061419654342324638801248856147305207431992259611796250130992860241708340807605932320161268492288496255841312844061536738951487114256315111089745514203313820202931640957596464756010405845841566072044962867016515061920631004186422275908670900574606417856951911456055068251250406007519842261898059237118054444788072906395242548339221982707404473162376760846613033778706039803413197133493654622700563169937455508241780972810983291314403571877524768509857276937926433221599399876886660808368837838027643282775172273657572744784112294389733810861607423253291974813120197604178281965697475898164531258434135959862784130128185406283476649088690521047580882615823961985770122407044330583075869039319604603404973156583208672105913300903752823415539745394397715257455290510212310947321610753474825740775273986348298498340756937955646638621874569499279016572103701364433135817214311791398222983845847334440270964182851005072927748364550578634501100852987812389473928699540834346158807043959118985815145779177143619698728131459483783202081474982171858011389071228250905826817436220577475921417653715687725614904582904992461028630081535583308130101987675856234343538955409175623400844887526162643568648833519463720377293240094456246923254350400678027273837755376406726898636241037491410966718557050759098100246789880178271925953381282421954028302759408448955014676668389697996886241636313376393903373455801407636741877711055384225739499110186468219696581651485130494222369947714763069155468217682876200362777257723781365331611196811280792669481887201298643660768551639860534602297871557517947385246369446923087894265948217008051120322365496288169035739121368338393591756418733850510970271613915439590991598154654417336311656936031122249937969999226781732358023111862644575299135758175008199839236284615249881088960232244362173771618086357015468484058622329792853875623486556440536962622018963571028812361567512543338303270029097668650568557157505516727518899194129711337690149916181315171544007728650573189557450920330185304847113818315407324053319038462084036421763703911550639789000742853672196280903477974533320468368795868580237952218629120080742819551317948157624448298518461509704888027274721574688131594750409732115080498190455803416826949787141316063210686391511681774304792596709376"
      ]
     },
     "execution_count": 47,
     "metadata": {},
     "output_type": "execute_result"
    }
   ],
   "source": [
    "# Вбудована робота з великими числами\n",
    "2**10000"
   ]
  },
  {
   "cell_type": "code",
   "execution_count": 56,
   "id": "596b0516",
   "metadata": {},
   "outputs": [
    {
     "name": "stdout",
     "output_type": "stream",
     "text": [
      "1 у двійковій системі 0b1\n",
      "2 у двійковій системі 0b10\n",
      "and 001 & 010: 0\n",
      "or 001 | 010: 3\n",
      "xor 001 ^ 010 = (0 != 0, 0 != 1, 1 != 0): 3\n",
      "побітове зрушення 001 -> 000: 0\n",
      "побітове зрушення 001 -> 010: 2\n"
     ]
    }
   ],
   "source": [
    "# бітові операції\n",
    "x, y = 1, 2\n",
    "print(x, \"у двійковій системі\", bin(x))\n",
    "print(y, \"у двійковій системі\", bin(y))\n",
    "\n",
    "print(f'and 001 & 010: {x & y}', \n",
    "      f'or 001 | 010: {x | y}', \n",
    "      f'xor 001 ^ 010 = (0 != 0, 0 != 1, 1 != 0): {x ^ y}',\n",
    "      f'побітове зрушення 001 -> 000: {x >> 1}',\n",
    "      f'побітове зрушення 001 -> 010: {x << 1}',\n",
    "      sep='\\n')"
   ]
  },
  {
   "cell_type": "code",
   "execution_count": 63,
   "id": "cb61e011",
   "metadata": {},
   "outputs": [
    {
     "name": "stdout",
     "output_type": "stream",
     "text": [
      "and: False\n",
      "or: True\n",
      "not: False\n",
      "xor: True\n"
     ]
    }
   ],
   "source": [
    "# bool-евий операції\n",
    "x, y = True, False\n",
    "print(f'and: {x and y}', \n",
    "      f'or: {x or y}', \n",
    "      f'not: {not x}',\n",
    "      f'xor: {x ^ y}',\n",
    "      sep='\\n')"
   ]
  },
  {
   "cell_type": "code",
   "execution_count": 60,
   "id": "b650706b",
   "metadata": {},
   "outputs": [
    {
     "name": "stdout",
     "output_type": "stream",
     "text": [
      "Equal to 1\n"
     ]
    }
   ],
   "source": [
    "# Умовний оператор\n",
    "x = 1\n",
    "if x > 1:\n",
    "    print('Greater than 1')\n",
    "elif x == 1:\n",
    "    print('Equal to 1')\n",
    "else:\n",
    "    print('Less than 1')"
   ]
  },
  {
   "cell_type": "code",
   "execution_count": 64,
   "id": "451ad15a",
   "metadata": {},
   "outputs": [
    {
     "data": {
      "text/plain": [
       "2"
      ]
     },
     "execution_count": 64,
     "metadata": {},
     "output_type": "execute_result"
    }
   ],
   "source": [
    "# \"тернарный оператор\"\n",
    "x = 1\n",
    "t = 2 if x == 1 else 0\n",
    "t"
   ]
  },
  {
   "cell_type": "markdown",
   "id": "baeb6998",
   "metadata": {},
   "source": [
    "# Приклад"
   ]
  },
  {
   "cell_type": "code",
   "execution_count": 101,
   "id": "09317ddf",
   "metadata": {},
   "outputs": [
    {
     "name": "stdout",
     "output_type": "stream",
     "text": [
      "Enter your age:17\n",
      "Enter your gender ('f' or 'm'):f\n",
      "High school was probably the worst\n",
      "Why on earth did everyone say it was the best time of their life?\n",
      "But you can drive, so you've got that going for you\n"
     ]
    }
   ],
   "source": [
    "# What you can do in life\n",
    "# Change the age and gender to change the behavior of this program\n",
    "\n",
    "# Note the indentation levels and the nesting of different if and elif statements.\n",
    "\n",
    "age = 15\n",
    "#age = int(input(\"Enter your age:\"))\n",
    "gender = 'f'\n",
    "#gender = input(\"Enter your gender ('f' or 'm'):\")\n",
    "\n",
    "if age < 2:\n",
    "    print(\"You can eat and poo all day and people will fall all over themselves over how adorable you are\")\n",
    "\n",
    "elif age == 2:\n",
    "    print(\"You can throw tantrums and it's pretty much expected\")\n",
    "\n",
    "elif age == 3:\n",
    "    print(\"By this point, you are the master of object permanence.\")\n",
    "\n",
    "elif 4 <= age <= 6: # is age between 4 and 6?\n",
    "    print(\"This seems like a good time to learn how to read.\")\n",
    "\n",
    "    if age == 4:\n",
    "        print(\"How about some preschool?\")\n",
    "    elif age == 5:\n",
    "        print(\"Kindergarten is cool -- nap time rocks.  Don't forget to share.\")\n",
    "    elif age == 6:\n",
    "        print(\"First grade.  Naptime is a thing of the past. You're probably too stubborn to be upset much by this.\")\n",
    "\n",
    "elif 7 <= age <= 9: # is age between 7 and 9?\n",
    "    print(\"Grade school goes by so quickly\")\n",
    "\n",
    "elif 10 <= age <= 11: # is age between 10 and 11?\n",
    "    print(\"Middle school is kind of neat.\")\n",
    "\n",
    "    if age == 10:\n",
    "        print(\"Health class for the first time ...\")\n",
    "\n",
    "        if gender.lower() == 'f':\n",
    "            print(\"... Well, that explains a lot, really.\")\n",
    "        elif gender.lower() == 'm':\n",
    "            print(\"Wonder what the girls are all talking about?\")\n",
    "\n",
    "    elif age == 11:\n",
    "        print(\"The periodic table is SO COOL\")\n",
    "\n",
    "elif 12 <= age <= 13: # is age between 12 and 13?\n",
    "    print(\"Junior high, aka welcome to hormone land\")\n",
    "    print(\"PS: sucks to be you\")\n",
    "\n",
    "elif 14 <= age <= 17: # is age between 14 and 17?\n",
    "    print(\"High school was probably the worst\")\n",
    "    print(\"Why on earth did everyone say it was the best time of their life?\")\n",
    "\n",
    "    if age >= 16:\n",
    "        print(\"But you can drive, so you've got that going for you\")\n",
    "\n",
    "elif age == 18:\n",
    "    print(\"So you're technically an adult now. But not really.\")\n",
    "    print(\"But you can vote, so you've got that going for you.\")\n",
    "    print(\"PS: you have responsibilities now. sucks to be you\")\n",
    "\n",
    "    if gender.lower() == 'm':\n",
    "        print(\"Better register for the draft.\")\n",
    "\n",
    "elif 19 <= age <= 20:\n",
    "    print(\"Now's a good time to be in college.\")\n",
    "\n",
    "elif age == 21:\n",
    "    print(\"Well, you can drink now.\")\n",
    "\n",
    "elif 22 <= age <= 24:\n",
    "    print(\"Graduating college and spoiling your liver, mostly.\")\n",
    "\n",
    "elif age == 25:\n",
    "    print(\"You can rent a car now.  You know, that's never actually come up for me, but apparently it's a thing ...\")\n",
    "\n",
    "else: # In all other cases not covered by the ifs and elifs above\n",
    "\n",
    "    print(\"You're an adult.  Do what you want.\")\n",
    "\n",
    "    if age > 30 and gender.lower() == 'f': # Note that both of these conditions must be true\n",
    "        print(\"Meddling folks are going to start hectoring you about your love life.  Yawn.\")\n",
    "\n",
    "    # Notice how the if statements below are all evaluated independently\n",
    "\n",
    "    if age > 40:\n",
    "        print(\"You're over the hill\")\n",
    "\n",
    "    if age > 50:\n",
    "        print(\"Everything hurts and your children never call.\")\n",
    "\n",
    "    if age > 70:\n",
    "        print(\"You're old enough not to care about anything.  You can now do what you like with total impunity.\")"
   ]
  },
  {
   "cell_type": "markdown",
   "id": "229418a8",
   "metadata": {},
   "source": [
    "# Строки"
   ]
  },
  {
   "cell_type": "markdown",
   "id": "8b9d344f",
   "metadata": {},
   "source": [
    "#### Slicing examples\n",
    "Slicing allows us to see one piece or 'slice' of an item, like a single character (or set of characters) within a string"
   ]
  },
  {
   "cell_type": "code",
   "execution_count": 76,
   "id": "19f589aa",
   "metadata": {},
   "outputs": [
    {
     "name": "stdout",
     "output_type": "stream",
     "text": [
      "My github handle is  @shannonturner\n",
      "My first name is  shannon\n",
      "My last name is  turner\n",
      "My last name is  turner\n",
      "My twitter handle is NOT  @shannon\n",
      "My last name is  turner\n",
      "My first name is  shannon\n"
     ]
    }
   ],
   "source": [
    "\n",
    "# Let's start by creating a variable called github_handle; it will hold a string with my GitHub handle in it\n",
    "github_handle = '@shannonturner'\n",
    "\n",
    "\n",
    "# You can use a comma to separate different items that you want to print as shown below\n",
    "print(\"My github handle is \", github_handle)\n",
    "\n",
    "\n",
    "# This is our first slicing example.  Notice the square brackets attached directly to the variable name with no spaces in between.\n",
    "# The two numbers in the middle, separated by a colon, are called the slicing indexes\n",
    "print(\"My first name is \", github_handle[1:8])\n",
    "\n",
    "\n",
    "# Here's how you can visualize the print statement above.\n",
    "\n",
    "#       @shannonturner\n",
    "#       0123456789....\n",
    "\n",
    "# A note about the above: Python starts counting at zero, and the last few letters (r, n, e, r) are tied to 10, 11, 12, 13\n",
    "\n",
    "# Or, shown vertically, it looks like this:\n",
    "\n",
    "##      0\t\t@\n",
    "##      1\t\ts\n",
    "##      2\t\th\n",
    "##      3\t\ta\n",
    "##      4\t\tn\n",
    "##      5\t\tn\n",
    "##      6\t\to\n",
    "##      7\t\tn\n",
    "##      8\t\tt\n",
    "##      9\t\tu\n",
    "##      10\t\tr\n",
    "##      11\t\tn\n",
    "##      12\t\te\n",
    "##      13\t\tr\n",
    "\n",
    "# So in the example of github_handle[1:8], notice that the t (at slice #8) is not included, but the s (at slice #1), is.\n",
    "# That's because the first slice value is inclusive, but the second slice value is exclusive.\n",
    "# I think of it as: Python starts at 1 and walks UNTIL it gets to 8 and then stops, gathering up everything in between.\n",
    "\n",
    "\n",
    "print(\"My last name is \", github_handle[8:14])\n",
    "\n",
    "# Notice that there is no index 14.  If the second index is higher than what exists, Python will assume you mean \"until the very end\"\n",
    "\n",
    "# You can omit the second index; Python understands this as \"go to the end\"\n",
    "print(\"My last name is \", github_handle[8:])\n",
    "\n",
    "# And if you omit the first index, Python understands this as \"start from the beginning\"\n",
    "print(\"My twitter handle is NOT \", github_handle[:8])\n",
    "\n",
    "# What happens if you use a negative slicing index?\n",
    "\n",
    "# You can use negative slicing indexes to count backwards from the end, like this:\n",
    "\n",
    "##      -14\t\t@\n",
    "##      -13\t\ts\n",
    "##      -12\t\th\n",
    "##      -11\t\ta\n",
    "##      -10\t\tn\n",
    "##      -9\t\tn\n",
    "##      -8\t\to\n",
    "##      -7\t\tn\n",
    "##      -6\t\tt\n",
    "##      -5\t\tu\n",
    "##      -4\t\tr\n",
    "##      -3\t\tn\n",
    "##      -2\t\te\n",
    "##      -1\t\tr\n",
    "\n",
    "print(\"My last name is \", github_handle[-6:])\n",
    "\n",
    "# You can also mix and match positive and negative slicing indexes as needed\n",
    "\n",
    "print(\"My first name is \", github_handle[1:-6])\n",
    "\n",
    "# In these examples, we're relying on knowing the exact slicing indexes.  But what if our string changes in size or content?\n",
    "# With short strings, it's fairly easy (especially if you write it out as above) to figure out which slices you need.\n",
    "\n",
    "# But a more common and practical way to slice, rather than using numbers directly, is to create a variable that holds the number you need (but can change as needed)\n",
    "\n",
    "# If this part is confusing, you may want to revisit this section when you're comfortable with string methods like str.find()"
   ]
  },
  {
   "cell_type": "markdown",
   "id": "3ccaa744",
   "metadata": {},
   "source": [
    "#### String methods: string.find()\n",
    "```\n",
    "string.find() tells you where you can find a part of one string in a larger string.\n",
    "string.find() will return a number:\n",
    " \t\tif string.find() returns -1, it could not find the string inside the larger string.\n",
    "\t\totherwise, string.find() will return the slicing number/index of where it found that string\n",
    "```"
   ]
  },
  {
   "cell_type": "code",
   "execution_count": 80,
   "id": "a68b85c9",
   "metadata": {},
   "outputs": [
    {
     "name": "stdout",
     "output_type": "stream",
     "text": [
      "snail_index is:  20\n"
     ]
    }
   ],
   "source": [
    "text = \"My GitHub handle is @shannonturner and my Twitter handle is @svt827\"\n",
    "\n",
    "# Let's extract the GitHub handle using str.find() and slicing.\n",
    "snail_index = text.find('@')\n",
    "print(\"snail_index is: \", snail_index)"
   ]
  },
  {
   "cell_type": "code",
   "execution_count": 79,
   "id": "4933219b",
   "metadata": {},
   "outputs": [
    {
     "name": "stdout",
     "output_type": "stream",
     "text": [
      "@shannonturner\n",
      "space_after_first_snail_index is:  14\n"
     ]
    }
   ],
   "source": [
    "print(text[snail_index:snail_index + 14]) # So the first slicing index is given by the variable, but we're still relying on knowing the exact number of characters (14).  We can improve this.\n",
    "\n",
    "space_after_first_snail_index = text[snail_index:].find(' ') # Note that we're using slicing here to say start the .find() after the first snail is found.\n",
    "print(\"space_after_first_snail_index is: \", space_after_first_snail_index)"
   ]
  },
  {
   "cell_type": "code",
   "execution_count": 81,
   "id": "3c5e6915",
   "metadata": {},
   "outputs": [
    {
     "name": "stdout",
     "output_type": "stream",
     "text": [
      "@shannonturner\n"
     ]
    }
   ],
   "source": [
    "print(text[snail_index:snail_index + space_after_first_snail_index]) # Why do we need to add snail_index to the second slicing index? Take a look:"
   ]
  },
  {
   "cell_type": "markdown",
   "id": "fe4ead83",
   "metadata": {},
   "source": [
    "##### String methods: string.count()"
   ]
  },
  {
   "cell_type": "code",
   "execution_count": null,
   "id": "6bd33416",
   "metadata": {},
   "outputs": [],
   "source": [
    "# string.count() tells you how many times one string appears in a larger string\n",
    "\n",
    "gettysburg_address = \"\"\"\n",
    "Four score and seven years ago our fathers brought forth on this continent a new nation, conceived in liberty, and dedicated to the proposition that all men are created equal.\n",
    "Now we are engaged in a great civil war, testing whether that nation, or any nation so conceived and so dedicated, can long endure. \n",
    "We are met on a great battlefield of that war. \n",
    "We have come to dedicate a portion of that field, as a final resting place for those who here gave their lives that that nation might live. \n",
    "It is altogether fitting and proper that we should do this.\n",
    "But, in a larger sense, we can not dedicate, we can not consecrate, we can not hallow this ground. \n",
    "The brave men, living and dead, who struggled here, have consecrated it, far above our poor power to add or detract. \n",
    "The world will little note, nor long remember what we say here, but it can never forget what they did here. \n",
    "It is for us the living, rather, to be dedicated here to the unfinished work which they who fought here have thus far so nobly advanced. \n",
    "It is rather for us to be here dedicated to the great task remaining before us -- that from these honored dead we take increased devotion to that cause \n",
    "for which they gave the last full measure of devotion -- that we here highly resolve that these dead shall not have died in vain -- that this nation, under God, \n",
    "shall have a new birth of freedom -- and that government of the people, by the people, for the people, shall not perish from the earth.\n",
    "\"\"\""
   ]
  },
  {
   "cell_type": "code",
   "execution_count": 84,
   "id": "9bd5f8b9",
   "metadata": {},
   "outputs": [
    {
     "name": "stdout",
     "output_type": "stream",
     "text": [
      "3\n"
     ]
    }
   ],
   "source": [
    "# Now that we have a fairly long string to search through, let's see how many times the word \"people\" appears in the text\n",
    "print(gettysburg_address.count(\"people\")) # appears 3 times"
   ]
  },
  {
   "cell_type": "code",
   "execution_count": 85,
   "id": "b8b4a6c8",
   "metadata": {},
   "outputs": [
    {
     "name": "stdout",
     "output_type": "stream",
     "text": [
      "2\n"
     ]
    }
   ],
   "source": [
    "# What goes inside the parentheses is the string that you're looking for; the larger string to look inside is the string that comes before the dot.\n",
    "print(gettysburg_address.count(\"here, \")) # appears 2 times"
   ]
  },
  {
   "cell_type": "code",
   "execution_count": 86,
   "id": "a3115768",
   "metadata": {},
   "outputs": [
    {
     "name": "stdout",
     "output_type": "stream",
     "text": [
      "165\n"
     ]
    }
   ],
   "source": [
    "print(gettysburg_address.count(\"e\")) # appears 165 times"
   ]
  },
  {
   "cell_type": "code",
   "execution_count": 87,
   "id": "286a1812",
   "metadata": {},
   "outputs": [
    {
     "name": "stdout",
     "output_type": "stream",
     "text": [
      "0\n"
     ]
    }
   ],
   "source": [
    "print(gettysburg_address.count(\"!!!!!!\")) # doesn't appear at all"
   ]
  },
  {
   "cell_type": "markdown",
   "id": "010d53db",
   "metadata": {},
   "source": [
    "#### String Formatting\n",
    "\n",
    "String formatting is how we can use variables (which store information including numbers, strings, and other types of data) inside of strings\n",
    "We can do this by using the .format() string method."
   ]
  },
  {
   "cell_type": "code",
   "execution_count": 91,
   "id": "4eaba350",
   "metadata": {},
   "outputs": [
    {
     "name": "stdout",
     "output_type": "stream",
     "text": [
      "My name is Shannon\n"
     ]
    }
   ],
   "source": [
    "# Here's how it works:\n",
    "\n",
    "# First, we'll need a variable:\n",
    "name = \"Shannon\"\n",
    "\n",
    "# Now, let's insert it into the print statement:\n",
    "print(\"My name is {0}\".format(name)) # This will print \"My name is Shannon\""
   ]
  },
  {
   "cell_type": "code",
   "execution_count": 92,
   "id": "bc5bb0bd",
   "metadata": {},
   "outputs": [
    {
     "name": "stdout",
     "output_type": "stream",
     "text": [
      "My name is Pumpkin\n"
     ]
    }
   ],
   "source": [
    "# We'll analyze each part of the syntax in a moment.  For now, why is this preferable to doing a print \"My name is Shannon\"?\n",
    "# Using .format() is more flexible and allows your strings to change as your variables change.\n",
    "# So let's give the name variable a new value.\n",
    "name = \"Pumpkin\"\n",
    "\n",
    "# Now, let's print it again\n",
    "print(\"My name is {0}\".format(name)) # This will print \"My name is Pumpkin\""
   ]
  },
  {
   "cell_type": "code",
   "execution_count": 93,
   "id": "f4f7c110",
   "metadata": {},
   "outputs": [
    {
     "name": "stdout",
     "output_type": "stream",
     "text": [
      "My name is Pumpkin and my age is 100 and I live in The Pumpkin Patch\n"
     ]
    }
   ],
   "source": [
    "# Remember that Python runs commands from top to bottom, left to right.\n",
    "# The two new parts of this print statement are the {0} and the .format(name)\n",
    "# The {0} is a placeholder for the 0th variable in the list that appears inside the parentheses of .format() -- remember Python starts counting at 0, not 1\n",
    "# So it really just keeps the spot warm.\n",
    "# To see why it's {0}, let's define a few more variables.\n",
    "\n",
    "age = 100\n",
    "location = \"The Pumpkin Patch\"\n",
    "\n",
    "# Now if we want to include those variables, we'll need to put placeholders in the string as well.\n",
    "print(\"My name is {0} and my age is {1} and I live in {2}\".format(name, age, location))"
   ]
  },
  {
   "cell_type": "code",
   "execution_count": 95,
   "id": "fc93491c",
   "metadata": {},
   "outputs": [
    {
     "name": "stdout",
     "output_type": "stream",
     "text": [
      "My name is Pumpkin and my age is 100 and I live in The Pumpkin Patch\n"
     ]
    }
   ],
   "source": [
    "# Note how we put the placeholders exactly in the string where we want them; and the variables go inside the parentheses of the .format()\n",
    "# Remember how Python counts.\n",
    "# So {0} is a placeholder for name;\n",
    "# {1} is a placeholder for age;\n",
    "# and {2} is a placeholder for location\n",
    "# If we had more variables to include, we'd continue in the same way.\n",
    "\n",
    "# But there's more than one way to do this:\n",
    "print(\"My name is {name} and my age is {age} and I live in {location}\".format(name=name, age=age, location=location)) # This way feels more explicit\n",
    "\n",
    "# Only some of the ways string formatting is used are covered here. If you'd like to continue to learn all of the ways to use it:"
   ]
  },
  {
   "cell_type": "code",
   "execution_count": 98,
   "id": "115fdc34",
   "metadata": {},
   "outputs": [
    {
     "name": "stdout",
     "output_type": "stream",
     "text": [
      "My name is Pumpkin and my age is 100 and I live in The Pumpkin Patch\n"
     ]
    }
   ],
   "source": [
    "# from python 3.6\n",
    "print(f\"My name is {name} and my age is {age} and I live in {location}\")"
   ]
  },
  {
   "cell_type": "markdown",
   "id": "b1d0a814",
   "metadata": {},
   "source": [
    "####  String methods: string.lower()\n",
    "string.lower() is used for turning all characters in your string lowercase.\n",
    "There are some related string methods too, like string.upper()"
   ]
  },
  {
   "cell_type": "code",
   "execution_count": 102,
   "id": "9312ccdf",
   "metadata": {},
   "outputs": [
    {
     "name": "stdout",
     "output_type": "stream",
     "text": [
      "shannon!!\n",
      "SHANNON!!\n"
     ]
    }
   ],
   "source": [
    "name = \"SHANNON!!\"\n",
    "\n",
    "print(name.lower()) # shannon!!\n",
    "print(name) # it's back to the original of SHANNON!!"
   ]
  },
  {
   "cell_type": "code",
   "execution_count": 103,
   "id": "84c3f7bc",
   "metadata": {},
   "outputs": [
    {
     "name": "stdout",
     "output_type": "stream",
     "text": [
      "shannon!!\n"
     ]
    }
   ],
   "source": [
    "# To make the changes stick:\n",
    "name = name.lower()\n",
    "\n",
    "print(name) # shannon!!"
   ]
  },
  {
   "cell_type": "markdown",
   "id": "9b9c786b",
   "metadata": {},
   "source": [
    "#### string.upper() \n",
    "will turn all characters in your string uppercase but otherwise works in the same manner as string.lower()"
   ]
  },
  {
   "cell_type": "code",
   "execution_count": 104,
   "id": "d6e1218d",
   "metadata": {},
   "outputs": [
    {
     "name": "stdout",
     "output_type": "stream",
     "text": [
      "HELLO, HI\n",
      "HELLO, HI\n",
      "Hi lady!\n",
      "Hi lady!\n"
     ]
    }
   ],
   "source": [
    "greeting = \"hello, hi\" # not very exuberant ...\n",
    "\n",
    "print(greeting.upper()) # MUCH BETTER!\n",
    "\n",
    "# Making the changes stick:\n",
    "greeting = greeting.upper()\n",
    "\n",
    "print(greeting) # HELLO, hi\n",
    "\n",
    "\n",
    "# string.lower() and .upper() are primarily used for testing strings in a case-insensitive manner\n",
    "\n",
    "gender = 'F'\n",
    "\n",
    "if gender.lower() == 'f':\n",
    "    print(\"Hi lady!\")\n",
    "\n",
    "# To accomplish the same thing without string.lower(), you would have to do:\n",
    "if gender == 'F' or gender == 'f':\n",
    "    print(\"Hi lady!\")"
   ]
  },
  {
   "cell_type": "markdown",
   "id": "897c65e3",
   "metadata": {},
   "source": [
    "#### String methods: string.replace()\n",
    "string.replace() is similar to the find -> replace feature in Word, Excel, or other office-y type programs"
   ]
  },
  {
   "cell_type": "code",
   "execution_count": 109,
   "id": "11baeede",
   "metadata": {},
   "outputs": [
    {
     "name": "stdout",
     "output_type": "stream",
     "text": [
      "I like to ... eot, eot, eot, opples ond bononos\n",
      "I like to ... sleep, sleep, sleep, apples and bananas\n"
     ]
    }
   ],
   "source": [
    "song = \"eat, eat, eat, apples and bananas\"\n",
    "\n",
    "# string.replace() lets us replace all instances of one string with another.\n",
    "print(f\"I like to ... {song.replace('a', 'o')}\")\n",
    "print(f\"I like to ... {song.replace('eat', 'sleep')}\")"
   ]
  },
  {
   "cell_type": "code",
   "execution_count": null,
   "id": "f970cf49",
   "metadata": {},
   "outputs": [],
   "source": []
  }
 ],
 "metadata": {
  "kernelspec": {
   "display_name": "Python 3",
   "language": "python",
   "name": "python3"
  },
  "language_info": {
   "codemirror_mode": {
    "name": "ipython",
    "version": 3
   },
   "file_extension": ".py",
   "mimetype": "text/x-python",
   "name": "python",
   "nbconvert_exporter": "python",
   "pygments_lexer": "ipython3",
   "version": "3.8.10"
  }
 },
 "nbformat": 4,
 "nbformat_minor": 5
}
