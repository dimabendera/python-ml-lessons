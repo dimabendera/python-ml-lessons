{
 "cells": [
  {
   "cell_type": "markdown",
   "id": "c6a7b05b",
   "metadata": {},
   "source": [
    "# Проста математика"
   ]
  },
  {
   "cell_type": "markdown",
   "id": "9320687d",
   "metadata": {},
   "source": [
    "Ми працюватимемо з операторами друку, щоб вивести результати на екран."
   ]
  },
  {
   "cell_type": "markdown",
   "id": "150602be",
   "metadata": {},
   "source": [
    "Ви можете відокремити кілька елементів друку комою, як показано нижче:"
   ]
  },
  {
   "cell_type": "code",
   "execution_count": 38,
   "id": "c3546e8e",
   "metadata": {},
   "outputs": [
    {
     "name": "stdout",
     "output_type": "stream",
     "text": [
      "Four times four is  16\n"
     ]
    }
   ],
   "source": [
    "print(\"Four times four is \", 4 * 4)"
   ]
  },
  {
   "cell_type": "code",
   "execution_count": 39,
   "id": "b93d89ba",
   "metadata": {},
   "outputs": [
    {
     "name": "stdout",
     "output_type": "stream",
     "text": [
      "5 + 3 is  8\n"
     ]
    }
   ],
   "source": [
    "# додавання\n",
    "print(\"5 + 3 is \", 5 + 3)"
   ]
  },
  {
   "cell_type": "code",
   "execution_count": 40,
   "id": "67cd6d73",
   "metadata": {},
   "outputs": [
    {
     "name": "stdout",
     "output_type": "stream",
     "text": [
      "6 - 2 is  4\n"
     ]
    }
   ],
   "source": [
    "# віднімання\n",
    "print(\"6 - 2 is \", 6 - 2)"
   ]
  },
  {
   "cell_type": "code",
   "execution_count": 41,
   "id": "87c94b48",
   "metadata": {},
   "outputs": [
    {
     "name": "stdout",
     "output_type": "stream",
     "text": [
      "10 * 20 is  200\n"
     ]
    }
   ],
   "source": [
    "# множення\n",
    "print(\"10 * 20 is \", 10 * 20)"
   ]
  },
  {
   "cell_type": "code",
   "execution_count": 42,
   "id": "c1704077",
   "metadata": {},
   "outputs": [
    {
     "name": "stdout",
     "output_type": "stream",
     "text": [
      "55 / 2 is  27.5\n"
     ]
    }
   ],
   "source": [
    "# ділення\n",
    "print(\"55 / 2 is \", 55 / 2)  # Хм...!"
   ]
  },
  {
   "cell_type": "code",
   "execution_count": 44,
   "id": "fb0b0acc",
   "metadata": {},
   "outputs": [
    {
     "name": "stdout",
     "output_type": "stream",
     "text": [
      "55 % 2 is  1\n"
     ]
    }
   ],
   "source": [
    "# Залишок від ділення\n",
    "print(\"55 % 2 is \", 55 % 2)  # Це дуже корисно для визначення того, парне чи непарне число"
   ]
  },
  {
   "cell_type": "code",
   "execution_count": 45,
   "id": "a37ff1cf",
   "metadata": {},
   "outputs": [
    {
     "name": "stdout",
     "output_type": "stream",
     "text": [
      "2 ** 10 is  1024\n"
     ]
    }
   ],
   "source": [
    "# Степінь\n",
    "print(\"2 ** 10 is \", 2 ** 10)"
   ]
  },
  {
   "cell_type": "code",
   "execution_count": 46,
   "id": "f1650750",
   "metadata": {},
   "outputs": [
    {
     "name": "stdout",
     "output_type": "stream",
     "text": [
      "2 ** 10 is  2.0\n"
     ]
    }
   ],
   "source": [
    "# Корінь\n",
    "print(\"2 ** 10 is \", 4 ** 1/2)"
   ]
  },
  {
   "cell_type": "code",
   "execution_count": 11,
   "id": "f0e05275",
   "metadata": {},
   "outputs": [
    {
     "data": {
      "text/plain": [
       "19950631168807583848837421626835850838234968318861924548520089498529438830221946631919961684036194597899331129423209124271556491349413781117593785932096323957855730046793794526765246551266059895520550086918193311542508608460618104685509074866089624888090489894838009253941633257850621568309473902556912388065225096643874441046759871626985453222868538161694315775629640762836880760732228535091641476183956381458969463899410840960536267821064621427333394036525565649530603142680234969400335934316651459297773279665775606172582031407994198179607378245683762280037302885487251900834464581454650557929601414833921615734588139257095379769119277800826957735674444123062018757836325502728323789270710373802866393031428133241401624195671690574061419654342324638801248856147305207431992259611796250130992860241708340807605932320161268492288496255841312844061536738951487114256315111089745514203313820202931640957596464756010405845841566072044962867016515061920631004186422275908670900574606417856951911456055068251250406007519842261898059237118054444788072906395242548339221982707404473162376760846613033778706039803413197133493654622700563169937455508241780972810983291314403571877524768509857276937926433221599399876886660808368837838027643282775172273657572744784112294389733810861607423253291974813120197604178281965697475898164531258434135959862784130128185406283476649088690521047580882615823961985770122407044330583075869039319604603404973156583208672105913300903752823415539745394397715257455290510212310947321610753474825740775273986348298498340756937955646638621874569499279016572103701364433135817214311791398222983845847334440270964182851005072927748364550578634501100852987812389473928699540834346158807043959118985815145779177143619698728131459483783202081474982171858011389071228250905826817436220577475921417653715687725614904582904992461028630081535583308130101987675856234343538955409175623400844887526162643568648833519463720377293240094456246923254350400678027273837755376406726898636241037491410966718557050759098100246789880178271925953381282421954028302759408448955014676668389697996886241636313376393903373455801407636741877711055384225739499110186468219696581651485130494222369947714763069155468217682876200362777257723781365331611196811280792669481887201298643660768551639860534602297871557517947385246369446923087894265948217008051120322365496288169035739121368338393591756418733850510970271613915439590991598154654417336311656936031122249937969999226781732358023111862644575299135758175008199839236284615249881088960232244362173771618086357015468484058622329792853875623486556440536962622018963571028812361567512543338303270029097668650568557157505516727518899194129711337690149916181315171544007728650573189557450920330185304847113818315407324053319038462084036421763703911550639789000742853672196280903477974533320468368795868580237952218629120080742819551317948157624448298518461509704888027274721574688131594750409732115080498190455803416826949787141316063210686391511681774304792596709376"
      ]
     },
     "execution_count": 11,
     "metadata": {},
     "output_type": "execute_result"
    }
   ],
   "source": [
    "# Вбудована робота з великими числами\n",
    "2**10000"
   ]
  },
  {
   "cell_type": "code",
   "execution_count": 47,
   "id": "a740e728",
   "metadata": {},
   "outputs": [
    {
     "data": {
      "text/plain": [
       "1000001"
      ]
     },
     "execution_count": 47,
     "metadata": {},
     "output_type": "execute_result"
    }
   ],
   "source": [
    "# Великі числа можна для зручності читання можна писати через _\n",
    "1_000_001"
   ]
  },
  {
   "cell_type": "code",
   "execution_count": 2,
   "id": "43852bdd",
   "metadata": {},
   "outputs": [
    {
     "data": {
      "text/plain": [
       "1"
      ]
     },
     "execution_count": 2,
     "metadata": {},
     "output_type": "execute_result"
    }
   ],
   "source": [
    "# abs() - функція повертає абсолютне значення заданого числа. \n",
    "abs(-1)"
   ]
  },
  {
   "cell_type": "code",
   "execution_count": 3,
   "id": "5284c320",
   "metadata": {},
   "outputs": [
    {
     "data": {
      "text/plain": [
       "3.14"
      ]
     },
     "execution_count": 3,
     "metadata": {},
     "output_type": "execute_result"
    }
   ],
   "source": [
    "# round - Округлює число до вказаної кількості знаків після коми.\n",
    "round(3.14159, 2)  # 3.14"
   ]
  },
  {
   "cell_type": "markdown",
   "id": "0044e5b3",
   "metadata": {},
   "source": [
    "### оператори між різними типами данних"
   ]
  },
  {
   "cell_type": "code",
   "execution_count": 48,
   "id": "f2a5a835",
   "metadata": {},
   "outputs": [
    {
     "data": {
      "text/plain": [
       "4.3"
      ]
     },
     "execution_count": 48,
     "metadata": {},
     "output_type": "execute_result"
    }
   ],
   "source": [
    "2 + 2.3"
   ]
  },
  {
   "cell_type": "code",
   "execution_count": 49,
   "id": "f0cd20f6",
   "metadata": {},
   "outputs": [
    {
     "data": {
      "text/plain": [
       "3"
      ]
     },
     "execution_count": 49,
     "metadata": {},
     "output_type": "execute_result"
    }
   ],
   "source": [
    "True+2"
   ]
  },
  {
   "cell_type": "code",
   "execution_count": 51,
   "id": "05c60f8b",
   "metadata": {},
   "outputs": [
    {
     "data": {
      "text/plain": [
       "0"
      ]
     },
     "execution_count": 51,
     "metadata": {},
     "output_type": "execute_result"
    }
   ],
   "source": [
    "4*False"
   ]
  },
  {
   "cell_type": "code",
   "execution_count": 54,
   "id": "fa44919b",
   "metadata": {},
   "outputs": [
    {
     "ename": "TypeError",
     "evalue": "unsupported operand type(s) for -: 'str' and 'bool'",
     "output_type": "error",
     "traceback": [
      "\u001b[0;31m---------------------------------------------------------------------------\u001b[0m",
      "\u001b[0;31mTypeError\u001b[0m                                 Traceback (most recent call last)",
      "\u001b[0;32m<ipython-input-54-f53e16820ecd>\u001b[0m in \u001b[0;36m<module>\u001b[0;34m\u001b[0m\n\u001b[0;32m----> 1\u001b[0;31m \u001b[0;34m\"1\"\u001b[0m\u001b[0;34m-\u001b[0m\u001b[0;32mTrue\u001b[0m\u001b[0;34m\u001b[0m\u001b[0;34m\u001b[0m\u001b[0m\n\u001b[0m",
      "\u001b[0;31mTypeError\u001b[0m: unsupported operand type(s) for -: 'str' and 'bool'"
     ]
    }
   ],
   "source": [
    "\"1\"-True"
   ]
  },
  {
   "cell_type": "code",
   "execution_count": 56,
   "id": "ff6000fe",
   "metadata": {},
   "outputs": [
    {
     "data": {
      "text/plain": [
       "'la_la_la_la_la_la_la_la_la_la_la_la_la_la_la_la_la_la_la_la_la_la_la_la_la_la_la_la_la_la_la_la_la_la_la_la_la_la_la_la_la_la_la_la_la_la_la_la_la_la_la_la_la_la_la_la_la_la_la_la_la_la_la_la_la_la_la_la_la_la_la_la_la_la_la_la_la_la_la_la_la_la_la_la_la_la_la_la_la_la_la_la_la_la_la_la_la_la_la_'"
      ]
     },
     "execution_count": 56,
     "metadata": {},
     "output_type": "execute_result"
    }
   ],
   "source": [
    "\"la_\"*99"
   ]
  },
  {
   "cell_type": "code",
   "execution_count": 57,
   "id": "690aef0f",
   "metadata": {},
   "outputs": [
    {
     "data": {
      "text/plain": [
       "'23as67'"
      ]
     },
     "execution_count": 57,
     "metadata": {},
     "output_type": "execute_result"
    }
   ],
   "source": [
    "\"23\"+\"as67\""
   ]
  },
  {
   "cell_type": "markdown",
   "id": "85a79dec",
   "metadata": {},
   "source": [
    "конвертація типів данних"
   ]
  },
  {
   "cell_type": "code",
   "execution_count": 58,
   "id": "eff158b3",
   "metadata": {},
   "outputs": [
    {
     "data": {
      "text/plain": [
       "2"
      ]
     },
     "execution_count": 58,
     "metadata": {},
     "output_type": "execute_result"
    }
   ],
   "source": [
    "int(2.3)"
   ]
  },
  {
   "cell_type": "code",
   "execution_count": 59,
   "id": "88e186f0",
   "metadata": {},
   "outputs": [
    {
     "data": {
      "text/plain": [
       "2.0"
      ]
     },
     "execution_count": 59,
     "metadata": {},
     "output_type": "execute_result"
    }
   ],
   "source": [
    "float(2)"
   ]
  },
  {
   "cell_type": "code",
   "execution_count": 60,
   "id": "8bcd8b22",
   "metadata": {},
   "outputs": [
    {
     "data": {
      "text/plain": [
       "2"
      ]
     },
     "execution_count": 60,
     "metadata": {},
     "output_type": "execute_result"
    }
   ],
   "source": [
    "int(\"2\")"
   ]
  },
  {
   "cell_type": "code",
   "execution_count": 61,
   "id": "908f237d",
   "metadata": {},
   "outputs": [
    {
     "ename": "ValueError",
     "evalue": "invalid literal for int() with base 10: '2.3'",
     "output_type": "error",
     "traceback": [
      "\u001b[0;31m---------------------------------------------------------------------------\u001b[0m",
      "\u001b[0;31mValueError\u001b[0m                                Traceback (most recent call last)",
      "\u001b[0;32m<ipython-input-61-5ed61bf3052f>\u001b[0m in \u001b[0;36m<module>\u001b[0;34m\u001b[0m\n\u001b[0;32m----> 1\u001b[0;31m \u001b[0mint\u001b[0m\u001b[0;34m(\u001b[0m\u001b[0;34m\"2.3\"\u001b[0m\u001b[0;34m)\u001b[0m\u001b[0;34m\u001b[0m\u001b[0;34m\u001b[0m\u001b[0m\n\u001b[0m",
      "\u001b[0;31mValueError\u001b[0m: invalid literal for int() with base 10: '2.3'"
     ]
    }
   ],
   "source": [
    "int(\"2.3\")"
   ]
  },
  {
   "cell_type": "code",
   "execution_count": 62,
   "id": "a6ff60d4",
   "metadata": {},
   "outputs": [
    {
     "data": {
      "text/plain": [
       "2.3"
      ]
     },
     "execution_count": 62,
     "metadata": {},
     "output_type": "execute_result"
    }
   ],
   "source": [
    "float(\"2.3\")"
   ]
  },
  {
   "cell_type": "code",
   "execution_count": 63,
   "id": "ae5bcbc4",
   "metadata": {},
   "outputs": [
    {
     "ename": "ValueError",
     "evalue": "could not convert string to float: '2.3s'",
     "output_type": "error",
     "traceback": [
      "\u001b[0;31m---------------------------------------------------------------------------\u001b[0m",
      "\u001b[0;31mValueError\u001b[0m                                Traceback (most recent call last)",
      "\u001b[0;32m<ipython-input-63-be8f210991a7>\u001b[0m in \u001b[0;36m<module>\u001b[0;34m\u001b[0m\n\u001b[0;32m----> 1\u001b[0;31m \u001b[0mfloat\u001b[0m\u001b[0;34m(\u001b[0m\u001b[0;34m\"2.3s\"\u001b[0m\u001b[0;34m)\u001b[0m\u001b[0;34m\u001b[0m\u001b[0;34m\u001b[0m\u001b[0m\n\u001b[0m",
      "\u001b[0;31mValueError\u001b[0m: could not convert string to float: '2.3s'"
     ]
    }
   ],
   "source": [
    "float(\"2.3s\")"
   ]
  },
  {
   "cell_type": "code",
   "execution_count": 64,
   "id": "b4d55d13",
   "metadata": {},
   "outputs": [
    {
     "data": {
      "text/plain": [
       "True"
      ]
     },
     "execution_count": 64,
     "metadata": {},
     "output_type": "execute_result"
    }
   ],
   "source": [
    "bool(1)"
   ]
  },
  {
   "cell_type": "code",
   "execution_count": 65,
   "id": "f10a1708",
   "metadata": {},
   "outputs": [
    {
     "data": {
      "text/plain": [
       "False"
      ]
     },
     "execution_count": 65,
     "metadata": {},
     "output_type": "execute_result"
    }
   ],
   "source": [
    "bool(0.0)"
   ]
  },
  {
   "cell_type": "code",
   "execution_count": 68,
   "id": "9347b322",
   "metadata": {},
   "outputs": [
    {
     "data": {
      "text/plain": [
       "True"
      ]
     },
     "execution_count": 68,
     "metadata": {},
     "output_type": "execute_result"
    }
   ],
   "source": [
    "bool(\"032df\")"
   ]
  },
  {
   "cell_type": "code",
   "execution_count": 69,
   "id": "b07d9164",
   "metadata": {},
   "outputs": [
    {
     "data": {
      "text/plain": [
       "False"
      ]
     },
     "execution_count": 69,
     "metadata": {},
     "output_type": "execute_result"
    }
   ],
   "source": [
    "bool(\"\")"
   ]
  },
  {
   "cell_type": "code",
   "execution_count": null,
   "id": "8061e979",
   "metadata": {},
   "outputs": [],
   "source": []
  }
 ],
 "metadata": {
  "jupytext": {
   "cell_metadata_filter": "-all",
   "main_language": "python",
   "notebook_metadata_filter": "-all"
  },
  "kernelspec": {
   "display_name": "Python 3",
   "language": "python",
   "name": "python3"
  },
  "language_info": {
   "codemirror_mode": {
    "name": "ipython",
    "version": 3
   },
   "file_extension": ".py",
   "mimetype": "text/x-python",
   "name": "python",
   "nbconvert_exporter": "python",
   "pygments_lexer": "ipython3",
   "version": "3.8.10"
  }
 },
 "nbformat": 4,
 "nbformat_minor": 5
}
