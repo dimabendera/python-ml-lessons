{
 "cells": [
  {
   "cell_type": "code",
   "execution_count": null,
   "id": "1c089b9b",
   "metadata": {
    "lines_to_next_cell": 0
   },
   "outputs": [],
   "source": []
  },
  {
   "cell_type": "markdown",
   "id": "ea646ba0",
   "metadata": {},
   "source": [
    "Базовий синтаксис"
   ]
  },
  {
   "cell_type": "markdown",
   "id": "479ba0a7",
   "metadata": {},
   "source": [
    "Це коментар.\n",
    "Це означає, що Python дозволить вам писати примітки собі та іншим програмістам, які перевіряють ваш код\n",
    "І Python не запустить це взагалі або навіть не помітить."
   ]
  },
  {
   "cell_type": "markdown",
   "id": "97b15970",
   "metadata": {},
   "source": [
    "Символ # створює коментар.\n",
    "Ви можете мати коментар до рядка окремо"
   ]
  },
  {
   "cell_type": "markdown",
   "id": "d8ef2d74",
   "metadata": {},
   "source": [
    "Інструкція для друку є хорошим місцем для початку, вона дозволяє нам побачити результати відразу."
   ]
  },
  {
   "cell_type": "code",
   "execution_count": null,
   "id": "21d91e1f",
   "metadata": {},
   "outputs": [],
   "source": [
    "print(\"Або ви можете залишити коментар у цьому ж рядку\")  # як команду, яку Python БУДЕ виконувати"
   ]
  },
  {
   "cell_type": "code",
   "execution_count": null,
   "id": "c221103d",
   "metadata": {},
   "outputs": [],
   "source": [
    "print(\"Інструкція друку виведе деякий текст на екран.\")"
   ]
  },
  {
   "cell_type": "markdown",
   "id": "5ad689af",
   "metadata": {},
   "source": [
    "Python виконуватиме команди зверху вниз, зліва направо"
   ]
  },
  {
   "cell_type": "markdown",
   "id": "632a4073",
   "metadata": {},
   "source": [
    "Таким чином, оператор print у рядку 11 буде виконуватися перед оператором print у рядку 13"
   ]
  },
  {
   "cell_type": "code",
   "execution_count": null,
   "id": "a93b5c52",
   "metadata": {},
   "outputs": [],
   "source": [
    "print(\"Ви можете використовувати багато нових рядків, щоб розділити інструкції\")"
   ]
  },
  {
   "cell_type": "code",
   "execution_count": null,
   "id": "e15f1df8",
   "metadata": {},
   "outputs": [],
   "source": [
    "print(\"Або ви можете тримати інструкції близько одне до одного.\")\n",
    "print(\"Це залежить від вас, але загалом вам потрібно зробити свій код максимально читабельним.\")"
   ]
  },
  {
   "cell_type": "code",
   "execution_count": null,
   "id": "0b5e2cd0",
   "metadata": {},
   "outputs": [],
   "source": [
    "# Ці два твердження ідентичні\n",
    "print(4+4)\n",
    "print(4 + 4)"
   ]
  },
  {
   "cell_type": "markdown",
   "id": "d13e4560",
   "metadata": {},
   "source": [
    "Рівні відступів tab та інші види пробілів мають велике значення"
   ]
  },
  {
   "cell_type": "markdown",
   "id": "e2b047bb",
   "metadata": {},
   "source": [
    "Отже, якщо ви розкоментували наступний рядок і запустили це, ви отримаєте повідомлення про помилку.\n",
    "   print(4 + 4)"
   ]
  }
 ],
 "metadata": {
  "jupytext": {
   "cell_metadata_filter": "-all",
   "main_language": "python",
   "notebook_metadata_filter": "-all"
  }
 },
 "nbformat": 4,
 "nbformat_minor": 5
}
