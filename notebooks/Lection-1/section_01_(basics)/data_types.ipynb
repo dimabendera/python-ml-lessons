{
 "cells": [
  {
   "cell_type": "code",
   "execution_count": null,
   "id": "cf0f484c",
   "metadata": {
    "lines_to_next_cell": 0
   },
   "outputs": [],
   "source": []
  },
  {
   "cell_type": "markdown",
   "id": "16c1a47b",
   "metadata": {},
   "source": [
    "Типи даних: int, float, bool, str"
   ]
  },
  {
   "cell_type": "markdown",
   "id": "7d6b9181",
   "metadata": {},
   "source": [
    "У простій математиці та присвоєнні змінних ми побачили цілі і плаваючі значень.\n",
    "Ось швидке оновлення."
   ]
  },
  {
   "cell_type": "code",
   "execution_count": null,
   "id": "c3472fe2",
   "metadata": {},
   "outputs": [],
   "source": [
    "# int є цілими числами\n",
    "print(5 + 2, 5 - 3, 5 * 5, 5 / 2)  # 7, 2, 25, 2"
   ]
  },
  {
   "cell_type": "code",
   "execution_count": null,
   "id": "3ef78cc2",
   "metadata": {},
   "outputs": [],
   "source": [
    "# floats є десятковими числами\n",
    "print(5.4 + 2.1, 5.0 - 3, 5.7 * 5.2, 5 / 2.0)  # 7.5, 2.0, 29.64, 2.5"
   ]
  },
  {
   "cell_type": "code",
   "execution_count": null,
   "id": "67536a9e",
   "metadata": {},
   "outputs": [],
   "source": [
    "# логічні значення зберігати True або False (так чи ні)\n",
    "print(5 > 4)  # True\n",
    "print(3 + 3 <= 1)  # False"
   ]
  },
  {
   "cell_type": "markdown",
   "id": "1bfd77c7",
   "metadata": {},
   "source": [
    "Оператори порівняння\n",
    "  >    більш чим\n",
    "  <    менше ніж\n",
    "  >=   більше або дорівнює\n",
    "  <=   менше або дорівнює\n",
    "  !=   не дорівнює\n",
    "  ==   дорівнює"
   ]
  },
  {
   "cell_type": "code",
   "execution_count": null,
   "id": "c438c1a3",
   "metadata": {},
   "outputs": [],
   "source": [
    "# string більш детально розглядаються в розділі 2\n",
    "# Але, по суті, вони містять слова або взагалі все, що можна набрати на клавіатурі\n",
    "print(\"Ці речі між лапками - рядки!\")"
   ]
  },
  {
   "cell_type": "code",
   "execution_count": null,
   "id": "aaf1ade3",
   "metadata": {},
   "outputs": [],
   "source": [
    "print(\"Python зазвичай не дуже суворий щодо типів даних, але є деякі речі, які ви не можете робити.\")\n",
    "print(\"Цей рядок спричинить помилку, оскільки ви не можете додавати рядки до чисел. Це розділ № уроку\" + 1)"
   ]
  }
 ],
 "metadata": {
  "jupytext": {
   "cell_metadata_filter": "-all",
   "main_language": "python",
   "notebook_metadata_filter": "-all"
  }
 },
 "nbformat": 4,
 "nbformat_minor": 5
}
