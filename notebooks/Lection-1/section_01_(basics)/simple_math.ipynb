{
 "cells": [
  {
   "cell_type": "code",
   "execution_count": null,
   "id": "0a45181c",
   "metadata": {
    "lines_to_next_cell": 0
   },
   "outputs": [],
   "source": []
  },
  {
   "cell_type": "markdown",
   "id": "c6a7b05b",
   "metadata": {},
   "source": [
    "Проста математика"
   ]
  },
  {
   "cell_type": "markdown",
   "id": "9320687d",
   "metadata": {},
   "source": [
    "Ми працюватимемо з операторами друку, щоб вивести результати на екран."
   ]
  },
  {
   "cell_type": "markdown",
   "id": "150602be",
   "metadata": {},
   "source": [
    "Ви можете відокремити кілька елементів друку комою, як показано нижче:"
   ]
  },
  {
   "cell_type": "code",
   "execution_count": null,
   "id": "c3546e8e",
   "metadata": {},
   "outputs": [],
   "source": [
    "print(\"Four times four is \", 4 * 4)"
   ]
  },
  {
   "cell_type": "code",
   "execution_count": null,
   "id": "b93d89ba",
   "metadata": {},
   "outputs": [],
   "source": [
    "# додавання\n",
    "print(\"5 + 3 is \", 5 + 3)"
   ]
  },
  {
   "cell_type": "code",
   "execution_count": null,
   "id": "67cd6d73",
   "metadata": {},
   "outputs": [],
   "source": [
    "# віднімання\n",
    "print(\"6 - 2 is \", 6 - 2)"
   ]
  },
  {
   "cell_type": "code",
   "execution_count": null,
   "id": "87c94b48",
   "metadata": {},
   "outputs": [],
   "source": [
    "# множення\n",
    "print(\"10 * 20 is \", 10 * 20)"
   ]
  },
  {
   "cell_type": "code",
   "execution_count": null,
   "id": "c1704077",
   "metadata": {},
   "outputs": [],
   "source": [
    "# ділення\n",
    "print(\"55 / 2 is \", 55 / 2)  # Хм...!"
   ]
  },
  {
   "cell_type": "code",
   "execution_count": null,
   "id": "35d16530",
   "metadata": {},
   "outputs": [],
   "source": [
    "print(\"За замовчуванням Python розглядає числа як int (цілі числа)\")\n",
    "print(\"Тож у певному сенсі відповідь Python 55/2 = 27 має сенс, навіть якщо це не зовсім те, що ми шукаємо.\")\n",
    "print(\"На щастя, є інші способи отримати потрібну відповідь.\")"
   ]
  },
  {
   "cell_type": "code",
   "execution_count": null,
   "id": "c2542c59",
   "metadata": {},
   "outputs": [],
   "source": [
    "# Точне ділення (using floats)\n",
    "print(\"55.0 / 2 is \", 55.0 / 2)\n",
    "print(\"55 / 2.0 is \", 55 / 2.0)\n",
    "print(\"55.0 / 2.0 is \", 55.0 / 2.0)"
   ]
  },
  {
   "cell_type": "code",
   "execution_count": null,
   "id": "fb0b0acc",
   "metadata": {},
   "outputs": [],
   "source": [
    "# Залишок від ділення\n",
    "print(\"55 % 2 is \", 55 % 2)  # Це дуже корисно для визначення того, парне чи непарне число"
   ]
  },
  {
   "cell_type": "code",
   "execution_count": null,
   "id": "a37ff1cf",
   "metadata": {},
   "outputs": [],
   "source": [
    "# Степінь\n",
    "print(\"2 ** 10 is \", 2 ** 10)"
   ]
  }
 ],
 "metadata": {
  "jupytext": {
   "cell_metadata_filter": "-all",
   "main_language": "python",
   "notebook_metadata_filter": "-all"
  }
 },
 "nbformat": 4,
 "nbformat_minor": 5
}
