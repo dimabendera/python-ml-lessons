{
 "cells": [
  {
   "cell_type": "code",
   "execution_count": null,
   "id": "a2efd382",
   "metadata": {
    "lines_to_next_cell": 0
   },
   "outputs": [],
   "source": []
  },
  {
   "cell_type": "markdown",
   "id": "0f2f49d9",
   "metadata": {},
   "source": [
    "Присвоєння змінної"
   ]
  },
  {
   "cell_type": "markdown",
   "id": "500502cb",
   "metadata": {},
   "source": [
    "У Python (або будь-якій мові програмування) змінні містять інформацію,\n",
    "до якої ви можете отримати доступ, використовувати та змінювати"
   ]
  },
  {
   "cell_type": "markdown",
   "id": "23b24c0b",
   "metadata": {},
   "source": [
    "У Python існує багато різних типів інформації, яку можна зберігати"
   ]
  },
  {
   "cell_type": "markdown",
   "id": "13885371",
   "metadata": {
    "lines_to_next_cell": 2
   },
   "source": [
    "У деяких мовах ви завчасно вказуете, який тип інформації ви хочете зберігати,\n",
    "або навіть назву змінної, ще до того, як ви присвоете їй значення.\n",
    "Мені подобається Python, тому що він гнучкий і щадливий."
   ]
  },
  {
   "cell_type": "markdown",
   "id": "9ddeb64e",
   "metadata": {},
   "source": [
    "Правила імен змінних\n",
    "-----------------------\n",
    "Змінні повинні починатися з букви або підкреслення\n",
    "Змінні можуть містити літери, цифри та підкреслення, але не пробіли\n",
    "Змінні не можуть бути названі так само, як вбудовані команди Python"
   ]
  },
  {
   "cell_type": "markdown",
   "id": "5e532f3d",
   "metadata": {},
   "source": [
    "Якщо ви бачите саме по собі слово, яке не зарезервовано для Python, швидше за все, це змінна."
   ]
  },
  {
   "cell_type": "code",
   "execution_count": null,
   "id": "e089bd0c",
   "metadata": {},
   "outputs": [],
   "source": [
    "lesson_section = 1  # Загальні основи програмування\n",
    "lesson_subsection = 2  # Призначення змінної"
   ]
  },
  {
   "cell_type": "markdown",
   "id": "2fb58145",
   "metadata": {},
   "source": [
    "У рядку вище я кажу Python, що хочу створити змінну під назвою 'lesson_section' і встановити її значення 1"
   ]
  },
  {
   "cell_type": "markdown",
   "id": "91496053",
   "metadata": {},
   "source": [
    "Правила Шеннона імен змінних\n",
    "---------------------------------\n",
    "Змінні повинні бути описовими, навіть якщо це означає, що їх імена довгі\n",
    "Ви повинні мати можливість показати свій код будь-кому, і вони точно знатимуть, яку інформацію містить дана змінна\n",
    "Використовуйте підкреслення, щоб розбити слова!"
   ]
  },
  {
   "cell_type": "markdown",
   "id": "bd6d8331",
   "metadata": {},
   "source": [
    "Ми зберегли значення всередині lesson_section і lesson_subsection, тому тепер давайте використовувати їх!"
   ]
  },
  {
   "cell_type": "code",
   "execution_count": null,
   "id": "d85ce5c0",
   "metadata": {},
   "outputs": [],
   "source": [
    "print(\"Ми знаходимося на секції #\", lesson_section)\n",
    "print(\"І це підсекція #\", lesson_subsection, \", який охоплює призначення змінної\")"
   ]
  },
  {
   "cell_type": "code",
   "execution_count": null,
   "id": "018538ea",
   "metadata": {},
   "outputs": [],
   "source": [
    "print(\"Погляньте ще раз на код базових математичних операцій.\")\n",
    "print(\"Скрізь, де ви бачите число в цьому коді, ви можете замінити його змінною, яка містить число.\")"
   ]
  },
  {
   "cell_type": "code",
   "execution_count": null,
   "id": "9a0a2fd2",
   "metadata": {},
   "outputs": [],
   "source": [
    "# Давайте подивимося це на практиці:\n",
    "days_in_a_year = 365  # Красиво описові назви змінних - це власні коментарі\n",
    "my_age = 21  # Так, вірно!"
   ]
  },
  {
   "cell_type": "code",
   "execution_count": null,
   "id": "6924160b",
   "metadata": {},
   "outputs": [],
   "source": [
    "print(\"Мій вік \", my_age, \", і я живу \", days_in_a_year * my_age, \" днів.\")"
   ]
  },
  {
   "cell_type": "markdown",
   "id": "1825ac43",
   "metadata": {},
   "source": [
    "Тепер давайте змінимо значення, що зберігається в days_in_a_year, щоб врахувати високосні роки, і спробуємо ще раз."
   ]
  },
  {
   "cell_type": "code",
   "execution_count": null,
   "id": "e8418924",
   "metadata": {},
   "outputs": [],
   "source": [
    "days_in_a_year = days_in_a_year + .25  # Еквівалент days_in_a_year = 365 + .25"
   ]
  },
  {
   "cell_type": "code",
   "execution_count": null,
   "id": "55513248",
   "metadata": {},
   "outputs": [],
   "source": [
    "print(\"Мій вік \", my_age, \", і я живу \", days_in_a_year * my_age, \" днів, не додати не відняти.\")"
   ]
  }
 ],
 "metadata": {
  "jupytext": {
   "cell_metadata_filter": "-all",
   "main_language": "python",
   "notebook_metadata_filter": "-all"
  }
 },
 "nbformat": 4,
 "nbformat_minor": 5
}
