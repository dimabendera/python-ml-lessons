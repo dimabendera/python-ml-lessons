{
 "cells": [
  {
   "cell_type": "code",
   "execution_count": null,
   "id": "6d81fa5c",
   "metadata": {},
   "outputs": [],
   "source": [
    "def is_alphaspace(string):\n",
    "\n",
    "    \"\"\"\n",
    "    Повертає значення \"True\", якщо всі символи в рядку складаються з пробілів або літер; інакше повертає значення False.\n",
    "\n",
    "    використання str.isalpha() повертає bool про те, чи ВСІ символи в рядку є літерами\n",
    "    використання str.isspace() повертає bool щодо того, чи ВСІ символи в рядку є пробілами;\n",
    "\n",
    "    Хоча це не строковий метод, ця функція поєднує в собі функціональність строковий методів, наведених вище\n",
    "    \"\"\"\n",
    "    \n",
    "    return all([any([char.isspace(), char.isalpha()]) for char in string])"
   ]
  },
  {
   "cell_type": "markdown",
   "id": "437f4735",
   "metadata": {
    "lines_to_next_cell": 2
   },
   "source": [
    "Ця користувацька функція працюватиме подібно до str.isalpha() та str.isspace(), об'єднаних разом."
   ]
  },
  {
   "cell_type": "code",
   "execution_count": null,
   "id": "2b8f1931",
   "metadata": {},
   "outputs": [],
   "source": [
    "test_string = \"Цей рядок поверне false для кожної з isalpha та isspace, але повернеться true для користувацької функції\""
   ]
  },
  {
   "cell_type": "code",
   "execution_count": null,
   "id": "2e4b4933",
   "metadata": {},
   "outputs": [],
   "source": [
    "print(\"test_string.isalpha() gives us: \", test_string.isalpha())\n",
    "print(\"test_string.isspace() gives us: \", test_string.isspace())"
   ]
  },
  {
   "cell_type": "code",
   "execution_count": null,
   "id": "8ff07643",
   "metadata": {
    "lines_to_next_cell": 2
   },
   "outputs": [],
   "source": [
    "# Зверніть увагу на те, чим відрізняється синтаксис.\n",
    "# Це тому, що is_alphaspace() не є рядковим методом, це користувацька функція.\n",
    "print(\"But is_alphaspace(test_string) gives us: \", is_alphaspace(test_string))"
   ]
  }
 ],
 "metadata": {
  "jupytext": {
   "cell_metadata_filter": "-all",
   "main_language": "python",
   "notebook_metadata_filter": "-all"
  }
 },
 "nbformat": 4,
 "nbformat_minor": 5
}
