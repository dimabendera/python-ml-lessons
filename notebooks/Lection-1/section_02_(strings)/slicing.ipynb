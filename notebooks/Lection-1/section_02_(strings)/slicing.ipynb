{
 "cells": [
  {
   "cell_type": "markdown",
   "id": "fd117965",
   "metadata": {
    "lines_to_next_cell": 2
   },
   "source": [
    "Приклади slice\n",
    "Slicing дозволяє нам бачити один шматок або «фрагмент» елемента, як один символ (або набір символів) у рядку"
   ]
  },
  {
   "cell_type": "code",
   "execution_count": null,
   "id": "bf790a45",
   "metadata": {
    "lines_to_next_cell": 2
   },
   "outputs": [],
   "source": [
    "# Почнемо зі створення змінної з назвою github_handle; він буде містити рядок з моїм маркером GitHub\n",
    "github_handle = '@dimabendera'"
   ]
  },
  {
   "cell_type": "code",
   "execution_count": null,
   "id": "68341a93",
   "metadata": {
    "lines_to_next_cell": 2
   },
   "outputs": [],
   "source": [
    "# За допомогою коми можна відокремити різні елементи, які потрібно надрукувати, як показано нижче\n",
    "print(\"My github handle is \", github_handle)"
   ]
  },
  {
   "cell_type": "code",
   "execution_count": null,
   "id": "93184803",
   "metadata": {
    "lines_to_next_cell": 2
   },
   "outputs": [],
   "source": [
    "# Це наш перший приклад slice.\n",
    "# Зверніть увагу на квадратні дужки, прикріплені безпосередньо до імені змінної без пробілів між ними.\n",
    "# Два числа посередині, розділені двокрапкою, називаються індексами slice\n",
    "print(\"My first name is \", github_handle[1:5])"
   ]
  },
  {
   "cell_type": "markdown",
   "id": "25e87701",
   "metadata": {},
   "source": [
    "Ось як можна візуалізувати наведену вище інструкцію\n",
    "      @dimabendera\n",
    "      01234567...."
   ]
  },
  {
   "cell_type": "markdown",
   "id": "0c4e9d11",
   "metadata": {},
   "source": [
    "Примітка: Python починає відлік з нуля, а останні кілька букв (d, e, r, a) прив'язані до 8, 9, 10, 11"
   ]
  },
  {
   "cell_type": "markdown",
   "id": "3713b731",
   "metadata": {},
   "source": [
    "Всі індекси виглядабть так:"
   ]
  },
  {
   "cell_type": "markdown",
   "id": "47ed8361",
   "metadata": {
    "lines_to_next_cell": 2
   },
   "source": [
    "-      0\t\t@\n",
    "-      1\t\td\n",
    "-      2\t\ti\n",
    "-      3\t\tm\n",
    "-      4\t\ta\n",
    "-      5\t\tb\n",
    "-      6\t\te\n",
    "-      7\t\tn\n",
    "-      8\t\td\n",
    "-      9\t\te\n",
    "-      10\t\tr\n",
    "-      11\t\ta"
   ]
  },
  {
   "cell_type": "markdown",
   "id": "3dc7241b",
   "metadata": {
    "lines_to_next_cell": 2
   },
   "source": [
    "Отже, у прикладі github_handle[1:5] зверніть увагу, що b (на фрагменті #5) не включено, але d (на фрагменті #1) є.\n",
    "Це тому, що значення першого фрагмента є інклюзивним, але значення другого фрагмента є ексклюзивним."
   ]
  },
  {
   "cell_type": "code",
   "execution_count": null,
   "id": "716365a8",
   "metadata": {},
   "outputs": [],
   "source": [
    "print(\"My last name is \", github_handle[5:12])"
   ]
  },
  {
   "cell_type": "markdown",
   "id": "8b87b6b6",
   "metadata": {},
   "source": [
    "Зверніть увагу, що індексу 12 немає.\n",
    "Якщо другий індекс вищий за існуючий, Python вважатиме, що ви маєте на увазі \"до самого кінця\""
   ]
  },
  {
   "cell_type": "code",
   "execution_count": null,
   "id": "3082512f",
   "metadata": {},
   "outputs": [],
   "source": [
    "# Другий індекс можна опустити; Python розуміє це як «йти до кінця»\n",
    "print(\"My last name is \", github_handle[5:])"
   ]
  },
  {
   "cell_type": "code",
   "execution_count": null,
   "id": "4b69d1d1",
   "metadata": {},
   "outputs": [],
   "source": [
    "# І якщо ви опустите перший індекс, Python розуміє це як \"почати з початку\"\n",
    "print(\"My twitter handle is NOT \", github_handle[:5])"
   ]
  },
  {
   "cell_type": "markdown",
   "id": "4e0f4ec9",
   "metadata": {},
   "source": [
    "Що станеться, якщо використовувати від'ємний індекс розрізання?"
   ]
  },
  {
   "cell_type": "markdown",
   "id": "0f76bb0d",
   "metadata": {},
   "source": [
    "Від'ємні індекси фрагментів можна використовувати для зворотного відліку від кінця, наприклад:"
   ]
  },
  {
   "cell_type": "markdown",
   "id": "d02e2b95",
   "metadata": {},
   "source": [
    "-       -12\t\t@\n",
    "-       -11\t\td\n",
    "-       -10\t\ti\n",
    "-       -9\t\tm\n",
    "-       -8\t\ta\n",
    "-       -7\t\tb\n",
    "-       -6\t\te\n",
    "-       -5\t\tn\n",
    "-       -4\t\td\n",
    "-       -3\t\te\n",
    "-       -2\t\tr\n",
    "-       -1\t\ta"
   ]
  },
  {
   "cell_type": "code",
   "execution_count": null,
   "id": "4da4effd",
   "metadata": {},
   "outputs": [],
   "source": [
    "print(\"My last name is \", github_handle[-7:])"
   ]
  },
  {
   "cell_type": "markdown",
   "id": "34ae3493",
   "metadata": {},
   "source": [
    "Ви також можете змішувати та поєднувати позитивні та негативні індекси slice за потреби"
   ]
  },
  {
   "cell_type": "code",
   "execution_count": null,
   "id": "0eb4c156",
   "metadata": {},
   "outputs": [],
   "source": [
    "print(\"My first name is \", github_handle[1:-7])"
   ]
  },
  {
   "cell_type": "markdown",
   "id": "2064e6a9",
   "metadata": {},
   "source": [
    "У цих прикладах ми покладаємося на знання точних індексів.\n",
    "Але що робити, якщо наш рядок зміниться в розмірі або вмісті?\n",
    "З короткими рядками досить легко розібратися, які slice-и вам потрібні."
   ]
  },
  {
   "cell_type": "markdown",
   "id": "e1b9e0ab",
   "metadata": {},
   "source": [
    "Але більш поширеним і практичним способом поділу, а не прямим використанням чисел, є створення змінної,\n",
    "яка містить потрібне число (але може змінюватися в міру необхідності)"
   ]
  },
  {
   "cell_type": "markdown",
   "id": "1db2044b",
   "metadata": {},
   "source": [
    "Примітка: тут можна використовувати str.find()"
   ]
  },
  {
   "cell_type": "code",
   "execution_count": null,
   "id": "6d00713d",
   "metadata": {},
   "outputs": [],
   "source": [
    "print(\"### Part Two ###\")"
   ]
  },
  {
   "cell_type": "code",
   "execution_count": null,
   "id": "d470fe6d",
   "metadata": {},
   "outputs": [],
   "source": [
    "text = \"My GitHub handle is @dimabendera and my Instagram handle is @dm.bendea\""
   ]
  },
  {
   "cell_type": "markdown",
   "id": "9c17ad85",
   "metadata": {},
   "source": [
    "Давайте витягнемо дескриптор GitHub за допомогою str.find() та slice-ів."
   ]
  },
  {
   "cell_type": "code",
   "execution_count": null,
   "id": "7fceba74",
   "metadata": {},
   "outputs": [],
   "source": [
    "snail_index = text.find('@')"
   ]
  },
  {
   "cell_type": "code",
   "execution_count": null,
   "id": "40c8fdd9",
   "metadata": {},
   "outputs": [],
   "source": [
    "# Отже, перший індекс нарізки задається змінною,\n",
    "# але ми все ще покладаємося на знання точної кількості символів (14).  Ми можемо це покращити.\n",
    "print(text[snail_index:snail_index + 12])"
   ]
  },
  {
   "cell_type": "code",
   "execution_count": null,
   "id": "8e8e26ed",
   "metadata": {},
   "outputs": [],
   "source": [
    "# Зауважте, що ми використовуємо slice тут, щоб вказати початок .find() після того, як перша собачка знайдена.\n",
    "space_after_first_snail_index = text[snail_index:].find(' ')"
   ]
  },
  {
   "cell_type": "code",
   "execution_count": null,
   "id": "6ed245d6",
   "metadata": {},
   "outputs": [],
   "source": [
    "# Навіщо нам додавати snail_index до другого індексу slice? Погляньте:\n",
    "print(text[snail_index:snail_index + space_after_first_snail_index])"
   ]
  },
  {
   "cell_type": "code",
   "execution_count": null,
   "id": "aaf01a01",
   "metadata": {},
   "outputs": [],
   "source": [
    "print(\"snail_index is: \", snail_index)\n",
    "print(\"space_after_first_snail_index is: \", space_after_first_snail_index)"
   ]
  },
  {
   "cell_type": "code",
   "execution_count": null,
   "id": "dfd7de91",
   "metadata": {},
   "outputs": [],
   "source": [
    "print(\"Отже, це, по суті, text[20:32] --> \", text[20:32])"
   ]
  },
  {
   "cell_type": "code",
   "execution_count": null,
   "id": "9bf20a26",
   "metadata": {},
   "outputs": [],
   "source": [
    "# Замість того, щоб створювати окрему змінну, ви можете просто додати str.find(), прямо в slice, наприклад:\n",
    "print(text[text.find('@'):text.find('@')+text[text.find('@'):].find(' ')])  # Але, як бачите, він не дуже читабельний."
   ]
  },
  {
   "cell_type": "code",
   "execution_count": null,
   "id": "6ed54a53",
   "metadata": {},
   "outputs": [],
   "source": [
    "print(\"Чи можете ви використовувати методи строк(такі як str.find()) та slice-и, \"\n",
    "      \"щоб витягти маркер Instagram з тексту?\")"
   ]
  }
 ],
 "metadata": {
  "jupytext": {
   "cell_metadata_filter": "-all",
   "main_language": "python",
   "notebook_metadata_filter": "-all"
  }
 },
 "nbformat": 4,
 "nbformat_minor": 5
}
