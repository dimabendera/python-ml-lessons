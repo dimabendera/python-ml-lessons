{
 "cells": [
  {
   "cell_type": "markdown",
   "id": "770110e8",
   "metadata": {},
   "source": [
    "Рядкові методи: string.count()"
   ]
  },
  {
   "cell_type": "markdown",
   "id": "6898585c",
   "metadata": {},
   "source": [
    "string.count() повідомляє, скільки разів один рядок з'являється у більшому рядку"
   ]
  },
  {
   "cell_type": "code",
   "execution_count": null,
   "id": "48c2e7dd",
   "metadata": {},
   "outputs": [],
   "source": [
    "gettysburg_address = \"\"\"\n",
    "Four score and seven years ago our fathers brought forth on this continent a new nation, conceived in liberty, \n",
    "and dedicated to the proposition that all men are created equal.\n",
    "Now we are engaged in a great civil war, testing whether that nation, or any nation so conceived and so dedicated, \n",
    "can long endure. \n",
    "We are met on a great battlefield of that war. \n",
    "We have come to dedicate a portion of that field, as a final resting place for those who here gave their lives that \n",
    "that nation might live. \n",
    "It is altogether fitting and proper that we should do this.\n",
    "But, in a larger sense, we can not dedicate, we can not consecrate, we can not hallow this ground. \n",
    "The brave men, living and dead, who struggled here, have consecrated it, far above our poor power to add or detract. \n",
    "The world will little note, nor long remember what we say here, but it can never forget what they did here. \n",
    "It is for us the living, rather, to be dedicated here to the unfinished work which they who fought here have thus far \n",
    "so nobly advanced. \n",
    "It is rather for us to be here dedicated to the great task remaining before us -- that from these honored dead we take \n",
    "increased devotion to that cause \n",
    "for which they gave the last full measure of devotion -- that we here highly resolve that these dead shall not have \n",
    "died in vain -- that this nation, under God, \n",
    "shall have a new birth of freedom -- and that government of the people, by the people, for the people, shall not perish \n",
    "from the earth.\n",
    "\"\"\""
   ]
  },
  {
   "cell_type": "code",
   "execution_count": null,
   "id": "155e48d6",
   "metadata": {},
   "outputs": [],
   "source": [
    "# Тепер, коли у нас є досить довгий рядок для пошуку,\n",
    "# давайте подивимося, скільки разів слово «people» з'являється в тексті\n",
    "print(gettysburg_address.count(\"people\"))  # з'являється 3 рази"
   ]
  },
  {
   "cell_type": "code",
   "execution_count": null,
   "id": "96872515",
   "metadata": {},
   "outputs": [],
   "source": [
    "# Те, що йде всередині дужок, - це рядок, який ви шукаєте;\n",
    "print(gettysburg_address.count(\"here, \"))  # з'являється 2 рази\n",
    "print(gettysburg_address.count(\"e\"))  # з'являється 165 разів\n",
    "print(gettysburg_address.count(\"!!!!!!\"))  # не з'являється взагалі"
   ]
  }
 ],
 "metadata": {
  "jupytext": {
   "cell_metadata_filter": "-all",
   "main_language": "python",
   "notebook_metadata_filter": "-all"
  }
 },
 "nbformat": 4,
 "nbformat_minor": 5
}
