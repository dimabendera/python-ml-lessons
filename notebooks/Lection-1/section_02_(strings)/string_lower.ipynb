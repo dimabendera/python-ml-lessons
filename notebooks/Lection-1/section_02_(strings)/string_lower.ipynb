{
 "cells": [
  {
   "cell_type": "markdown",
   "id": "b4611f8a",
   "metadata": {},
   "source": [
    "Методи рядків: string.lower()"
   ]
  },
  {
   "cell_type": "markdown",
   "id": "ba26c9e8",
   "metadata": {},
   "source": [
    "string.lower() використовується для перетворення всіх символів у рядку нижнього регістру.\n",
    "Існують також деякі пов'язані методи рядка, такі як string.upper()"
   ]
  },
  {
   "cell_type": "code",
   "execution_count": null,
   "id": "648d1c7c",
   "metadata": {},
   "outputs": [],
   "source": [
    "name = \"SHANNON!!\""
   ]
  },
  {
   "cell_type": "code",
   "execution_count": null,
   "id": "6bc4a5ee",
   "metadata": {},
   "outputs": [],
   "source": [
    "print(name.lower())  # shannon!!\n",
    "print(name)  # Це повернення до оригіналу SHANNON!!"
   ]
  },
  {
   "cell_type": "code",
   "execution_count": null,
   "id": "acee35e8",
   "metadata": {},
   "outputs": [],
   "source": [
    "# Щоб внести зміни:\n",
    "name = name.lower()"
   ]
  },
  {
   "cell_type": "code",
   "execution_count": null,
   "id": "c50b186b",
   "metadata": {
    "lines_to_next_cell": 2
   },
   "outputs": [],
   "source": [
    "print(name)  # shannon!!"
   ]
  },
  {
   "cell_type": "markdown",
   "id": "d7451584",
   "metadata": {},
   "source": [
    "string.upper() перетворить усі символи у верхньому регістрі рядка,\n",
    "але в іншому випадку працюватиме так само, як string.lower()"
   ]
  },
  {
   "cell_type": "code",
   "execution_count": null,
   "id": "36d0afae",
   "metadata": {},
   "outputs": [],
   "source": [
    "greeting = \"hello, hi\"  # не дуже буйний..."
   ]
  },
  {
   "cell_type": "code",
   "execution_count": null,
   "id": "40f83f1a",
   "metadata": {},
   "outputs": [],
   "source": [
    "print(greeting.upper())  # НАБАГАТО КРАЩЕ!"
   ]
  },
  {
   "cell_type": "code",
   "execution_count": null,
   "id": "06ce9a10",
   "metadata": {},
   "outputs": [],
   "source": [
    "# Внесення змін залишається:\n",
    "greeting = greeting.upper()"
   ]
  },
  {
   "cell_type": "code",
   "execution_count": null,
   "id": "ce9661f7",
   "metadata": {
    "lines_to_next_cell": 2
   },
   "outputs": [],
   "source": [
    "print(greeting)  # HELLO, hi"
   ]
  },
  {
   "cell_type": "markdown",
   "id": "1dfe971a",
   "metadata": {},
   "source": [
    "string.lower() і .upper() в основному використовуються для тестування рядків нечутливим до регістру способом"
   ]
  },
  {
   "cell_type": "code",
   "execution_count": null,
   "id": "a0dd45fa",
   "metadata": {},
   "outputs": [],
   "source": [
    "gender = 'F'"
   ]
  },
  {
   "cell_type": "code",
   "execution_count": null,
   "id": "88c90d31",
   "metadata": {},
   "outputs": [],
   "source": [
    "if gender.lower() == 'f':\n",
    "    print(\"Hi lady!\")"
   ]
  },
  {
   "cell_type": "code",
   "execution_count": null,
   "id": "89c207ab",
   "metadata": {},
   "outputs": [],
   "source": [
    "# Щоб виконати те ж саме без string.lower(), вам доведеться зробити:\n",
    "if gender == 'F' or gender == 'f':\n",
    "    print(\"Hi lady!\")"
   ]
  }
 ],
 "metadata": {
  "jupytext": {
   "cell_metadata_filter": "-all",
   "main_language": "python",
   "notebook_metadata_filter": "-all"
  }
 },
 "nbformat": 4,
 "nbformat_minor": 5
}
