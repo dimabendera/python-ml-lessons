{
 "cells": [
  {
   "cell_type": "markdown",
   "id": "a651fd19",
   "metadata": {},
   "source": [
    "Рядкові методи: string.replace()"
   ]
  },
  {
   "cell_type": "markdown",
   "id": "5a7b6e97",
   "metadata": {},
   "source": [
    "string.replace() схожа на функцію find -> replace у програмах Word, Excel або інших програмах типу Office Y"
   ]
  },
  {
   "cell_type": "code",
   "execution_count": null,
   "id": "ad88405f",
   "metadata": {},
   "outputs": [],
   "source": [
    "song = \"eat, eat, eat, apples and bananas\""
   ]
  },
  {
   "cell_type": "code",
   "execution_count": null,
   "id": "f915632f",
   "metadata": {
    "lines_to_next_cell": 2
   },
   "outputs": [],
   "source": [
    "# Почнемо тут:\n",
    "print(\"I like to ... {0}\".format(song))"
   ]
  },
  {
   "cell_type": "code",
   "execution_count": null,
   "id": "5a1a760d",
   "metadata": {},
   "outputs": [],
   "source": [
    "# string.replace() дозволяє замінити всі екземпляри одного рядка іншим.\n",
    "print(\"I like to ... {0}\".format(song.replace(\"a\", \"o\")))  # Ми замінюємо всі малі літери *a*s у пісні на *o*s"
   ]
  },
  {
   "cell_type": "markdown",
   "id": "d11567fd",
   "metadata": {},
   "source": [
    "Давайте подивимося на синтаксис.\n",
    "Ми бачили синтаксис {0}; Це заповнювач, який string.format() використовує для вставки змінної в рядок,\n",
    "що стоїть перед крапкою в .format()\n",
    "0 відповідає першій змінній у списку в дужках (пам'ятайте, що Python починає рахувати з нуля)\n",
    "Яку змінну ми збираємося вставити в {0}? Це song.replace(\"a\", \"o\")\n",
    "Python оцінить song.replace(\"a\", \"o\") і помістить результат всередину {0}\n",
    "Як працює song.replace(\"a\", \"o\"): .replace() замінить кожну \"a\", яку він знайде в пісні, на \"o\"\n",
    "Як я пам'ятаю, це .replace() виконає свою дію на те, що стоїть перед крапкою (що в song.replace(\"a\", \"o\"), є піснею)"
   ]
  },
  {
   "cell_type": "code",
   "execution_count": null,
   "id": "9f032084",
   "metadata": {},
   "outputs": [],
   "source": [
    "print(\"But note that the original song itself is unchanged: {0}\".format(song))"
   ]
  },
  {
   "cell_type": "code",
   "execution_count": null,
   "id": "af37131b",
   "metadata": {},
   "outputs": [],
   "source": [
    "print(\"string.replace() is case-sensitive.\")\n",
    "print(song.replace(\"Eat\", \"chop\"))  # Це нічого не замінить!"
   ]
  },
  {
   "cell_type": "code",
   "execution_count": null,
   "id": "33678365",
   "metadata": {},
   "outputs": [],
   "source": [
    "print(song)\n",
    "print(song.replace(\"eat\", \"chop\"))\n",
    "print(song)  # оригінал незмінний"
   ]
  },
  {
   "cell_type": "code",
   "execution_count": null,
   "id": "0e913ff9",
   "metadata": {},
   "outputs": [],
   "source": [
    "# Якщо ви хочете, щоб ваші зміни залишилися, вам потрібно буде призначити змінній пісні нове значення\n",
    "song = song.replace(\"eat\", \"chop\")\n",
    "# Те, що ми тут говоримо, по суті:\n",
    "# Пісня тепер дорівнює новому значенню song.replace(\"їсти\", \"рубати\")"
   ]
  },
  {
   "cell_type": "code",
   "execution_count": null,
   "id": "5ef39c76",
   "metadata": {},
   "outputs": [],
   "source": [
    "# Якщо у вас є багато замін на рядку, ви * могли б * зробити це так:\n",
    "song = song.replace(\"apples\", \"mangos\")\n",
    "song = song.replace(\" and\", \", pears, and\")\n",
    "song = song.replace(\"bananas\", \"kiwis\")"
   ]
  },
  {
   "cell_type": "code",
   "execution_count": null,
   "id": "3d21042d",
   "metadata": {},
   "outputs": [],
   "source": [
    "print(song)"
   ]
  },
  {
   "cell_type": "code",
   "execution_count": null,
   "id": "1cdfda66",
   "metadata": {},
   "outputs": [],
   "source": [
    "# Або ви можете об'єднати багато замін разом - пам'ятайте, що замінюється те, що передує крапці!\n",
    "# Іншими словами, заміни будуть відбуватися в порядку зліва направо\n",
    "song = \"eat, eat, eat, apples and bananas\"  # setting it back to the original\n",
    "song = song.replace(\"eat\", \"chop\").replace(\"apples\", \"mangos\").replace(\" and\", \", pears, and\")\\\n",
    "    .replace(\"bananas\", \"kiwis\")"
   ]
  },
  {
   "cell_type": "code",
   "execution_count": null,
   "id": "2a5f7c33",
   "metadata": {},
   "outputs": [],
   "source": [
    "print(song)"
   ]
  }
 ],
 "metadata": {
  "jupytext": {
   "cell_metadata_filter": "-all",
   "main_language": "python",
   "notebook_metadata_filter": "-all"
  }
 },
 "nbformat": 4,
 "nbformat_minor": 5
}
