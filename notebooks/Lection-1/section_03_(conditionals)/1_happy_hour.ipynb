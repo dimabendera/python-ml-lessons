{
 "cells": [
  {
   "cell_type": "markdown",
   "id": "db0c8c8e",
   "metadata": {},
   "source": [
    "Щаслива година!\n",
    "Змініть вік, щоб змінити поведінку цієї програми"
   ]
  },
  {
   "cell_type": "code",
   "execution_count": 1,
   "id": "ea87e021",
   "metadata": {},
   "outputs": [],
   "source": [
    "age = 30"
   ]
  },
  {
   "cell_type": "code",
   "execution_count": null,
   "id": "a6fbc938",
   "metadata": {},
   "outputs": [],
   "source": [
    "if age >= 21:\n",
    "    print(\"I would like a three philosophers, please\")\n",
    "elif age >= 18:  # Якщо вік менше 21 року, але більше або дорівнює 18\n",
    "    print(\"I'm here to vote -- you can vote at bars, right?\")\n",
    "else:\n",
    "    print(\"I really shouldn't even be here but can I have a cherry coke please?\")"
   ]
  },
  {
   "cell_type": "code",
   "execution_count": null,
   "id": "f711ce95",
   "metadata": {},
   "outputs": [],
   "source": []
  }
 ],
 "metadata": {
  "jupytext": {
   "cell_metadata_filter": "-all",
   "main_language": "python",
   "notebook_metadata_filter": "-all"
  },
  "kernelspec": {
   "display_name": "Python 3",
   "language": "python",
   "name": "python3"
  },
  "language_info": {
   "codemirror_mode": {
    "name": "ipython",
    "version": 3
   },
   "file_extension": ".py",
   "mimetype": "text/x-python",
   "name": "python",
   "nbconvert_exporter": "python",
   "pygments_lexer": "ipython3",
   "version": "3.8.10"
  }
 },
 "nbformat": 4,
 "nbformat_minor": 5
}
