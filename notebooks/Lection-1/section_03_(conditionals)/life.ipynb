{
 "cells": [
  {
   "cell_type": "markdown",
   "id": "498e88e8",
   "metadata": {},
   "source": [
    "Чим можна займатися в житті\n",
    "Змініть вік і стать, щоб змінити поведінку цієї програми"
   ]
  },
  {
   "cell_type": "markdown",
   "id": "45668030",
   "metadata": {},
   "source": [
    "Зверніть увагу на рівні відступів і вкладення різних операторів if та elif."
   ]
  },
  {
   "cell_type": "code",
   "execution_count": null,
   "id": "2621bd0f",
   "metadata": {},
   "outputs": [],
   "source": [
    "age = 10\n",
    "gender = 'f'"
   ]
  },
  {
   "cell_type": "code",
   "execution_count": null,
   "id": "70c3aedc",
   "metadata": {},
   "outputs": [],
   "source": [
    "if age < 2:\n",
    "    print(\"You can eat and poo all day and people will fall all over themselves over how adorable you are\")"
   ]
  },
  {
   "cell_type": "code",
   "execution_count": null,
   "id": "e32d93df",
   "metadata": {},
   "outputs": [],
   "source": [
    "elif age == 2:\n",
    "    print(\"You can throw tantrums and it's pretty much expected\")"
   ]
  },
  {
   "cell_type": "code",
   "execution_count": null,
   "id": "09802037",
   "metadata": {},
   "outputs": [],
   "source": [
    "elif age == 3:\n",
    "    print(\"By this point, you are the master of object permanence.\")"
   ]
  },
  {
   "cell_type": "code",
   "execution_count": null,
   "id": "67e81ac8",
   "metadata": {},
   "outputs": [],
   "source": [
    "elif 4 <= age <= 6:  # Вік від 4 до 6 років?\n",
    "    print(\"This seems like a good time to learn how to read.\")\n",
    "\n",
    "    if age == 4:\n",
    "        print(\"How about some preschool?\")\n",
    "    elif age == 5:\n",
    "        print(\"Kindergarten is cool -- nap time rocks.  Don't forget to share.\")\n",
    "    elif age == 6:\n",
    "        print(\"First grade.  Naptime is a thing of the past. You're probably too stubborn to be upset much by this.\")"
   ]
  },
  {
   "cell_type": "code",
   "execution_count": null,
   "id": "d8af8598",
   "metadata": {},
   "outputs": [],
   "source": [
    "elif 7 <= age <= 9:  # Вік від 7 до 9 років?\n",
    "    print(\"Grade school goes by so quickly\")"
   ]
  },
  {
   "cell_type": "code",
   "execution_count": null,
   "id": "302cd8d7",
   "metadata": {},
   "outputs": [],
   "source": [
    "elif 10 <= age <= 11:  # Вік від 10 до 11 років?\n",
    "    print(\"Middle school is kind of neat.\")\n",
    "\n",
    "    if age == 10:\n",
    "        print(\"Health class for the first time ...\")\n",
    "\n",
    "        if gender.lower() == 'f':\n",
    "            print(\"... Well, that explains a lot, really.\")\n",
    "        elif gender.lower() == 'm':\n",
    "            print(\"Wonder what the girls are all talking about?\")\n",
    "\n",
    "    elif age == 11:\n",
    "        print(\"The periodic table is SO COOL\")"
   ]
  },
  {
   "cell_type": "code",
   "execution_count": null,
   "id": "b63a09ae",
   "metadata": {},
   "outputs": [],
   "source": [
    "elif 12 <= age <= 13:  # Вік від 12 до 13 років?\n",
    "    print(\"Junior high, aka welcome to hormone land\")\n",
    "    print(\"PS: sucks to be you\")"
   ]
  },
  {
   "cell_type": "code",
   "execution_count": null,
   "id": "75dda9e7",
   "metadata": {},
   "outputs": [],
   "source": [
    "elif 14 <= age <= 17:  # Вік від 14 до 17 років?\n",
    "    print(\"High school was probably the worst\")\n",
    "    print(\"Why on earth did everyone say it was the best time of their life?\")\n",
    "\n",
    "    if age >= 16:\n",
    "        print(\"But you can drive, so you've got that going for you\")"
   ]
  },
  {
   "cell_type": "code",
   "execution_count": null,
   "id": "197183fe",
   "metadata": {},
   "outputs": [],
   "source": [
    "elif age == 18:\n",
    "    print(\"So you're technically an adult now. But not really.\")\n",
    "    print(\"But you can vote, so you've got that going for you.\")\n",
    "    print(\"PS: you have responsibilities now. sucks to be you\")\n",
    "\n",
    "    if gender.lower() == 'm':\n",
    "        print(\"Better register for the draft.\")"
   ]
  },
  {
   "cell_type": "code",
   "execution_count": null,
   "id": "4f2eed85",
   "metadata": {},
   "outputs": [],
   "source": [
    "elif 19 <= age <= 20:\n",
    "    print(\"Now's a good time to be in college.\")"
   ]
  },
  {
   "cell_type": "code",
   "execution_count": null,
   "id": "8f3a4722",
   "metadata": {},
   "outputs": [],
   "source": [
    "elif age == 21:\n",
    "    print(\"Well, you can drink now.\")"
   ]
  },
  {
   "cell_type": "code",
   "execution_count": null,
   "id": "2ffa052e",
   "metadata": {},
   "outputs": [],
   "source": [
    "elif 22 <= age <= 24:\n",
    "    print(\"Graduating college and spoiling your liver, mostly.\")"
   ]
  },
  {
   "cell_type": "code",
   "execution_count": null,
   "id": "0dce1081",
   "metadata": {},
   "outputs": [],
   "source": [
    "elif age == 25:\n",
    "    print(\"You can rent a car now.  You know, that's never actually come up for me, but apparently it's a thing ...\")"
   ]
  },
  {
   "cell_type": "code",
   "execution_count": null,
   "id": "af1cbbcf",
   "metadata": {},
   "outputs": [],
   "source": [
    "else:  # У всіх інших випадках, не охоплених вищезазначеними ifs та elifs\n",
    "\n",
    "    print(\"You're an adult.  Do what you want.\")\n",
    "\n",
    "    if age > 30 and gender.lower() == 'f':  # Зверніть увагу, що обидві ці умови повинні бути вірними\n",
    "        print(\"Meddling folks are going to start hectoring you about your love life.  Yawn.\")\n",
    "\n",
    "    # Зверніть увагу, як усі наведені нижче твердження if оцінюються незалежно\n",
    "\n",
    "    if age > 40:\n",
    "        print(\"You're over the hill\")\n",
    "\n",
    "    if age > 50:\n",
    "        print(\"Everything hurts and your children never call.\")\n",
    "\n",
    "    if age > 70:\n",
    "        print(\"You're old enough not to care about anything.  You can now do what you like with total impunity.\")"
   ]
  }
 ],
 "metadata": {
  "jupytext": {
   "cell_metadata_filter": "-all",
   "main_language": "python",
   "notebook_metadata_filter": "-all"
  }
 },
 "nbformat": 4,
 "nbformat_minor": 5
}
