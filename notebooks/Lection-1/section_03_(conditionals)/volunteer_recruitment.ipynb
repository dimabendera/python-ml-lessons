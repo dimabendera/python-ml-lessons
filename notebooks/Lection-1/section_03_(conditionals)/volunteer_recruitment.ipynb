{
 "cells": [
  {
   "cell_type": "code",
   "execution_count": null,
   "id": "9d9bef91",
   "metadata": {},
   "outputs": [],
   "source": [
    "# Набір волонтерів\n",
    "# Змініть ці змінні, щоб змінити поведінку програми\n",
    "volunteers_goal = 20\n",
    "current_volunteers = 100"
   ]
  },
  {
   "cell_type": "markdown",
   "id": "b4311265",
   "metadata": {},
   "source": [
    "Чи current_volunteers менше, дорівнює або більше volunteers_goal?"
   ]
  },
  {
   "cell_type": "code",
   "execution_count": null,
   "id": "ddda77bf",
   "metadata": {},
   "outputs": [],
   "source": [
    "if current_volunteers < volunteers_goal:\n",
    "    print(\"You still have {0} volunteers to recruit!\".format(volunteers_goal - current_volunteers))\n",
    "elif current_volunteers == volunteers_goal:\n",
    "    print(\"You met your goal exactly! Way to go!\")\n",
    "elif current_volunteers > volunteers_goal:\n",
    "    print(\"You exceeded your recruitment goals by {0}! Way to go!\".format(current_volunteers - volunteers_goal))"
   ]
  }
 ],
 "metadata": {
  "jupytext": {
   "cell_metadata_filter": "-all",
   "main_language": "python",
   "notebook_metadata_filter": "-all"
  }
 },
 "nbformat": 4,
 "nbformat_minor": 5
}
