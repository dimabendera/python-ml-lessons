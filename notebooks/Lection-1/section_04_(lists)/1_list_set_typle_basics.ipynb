{
 "cells": [
  {
   "cell_type": "markdown",
   "id": "e49e7bf9",
   "metadata": {},
   "source": [
    "У Python list, set, та tuple є трема основними структурами даних для зберігання колекцій об'єктів. Вони мають різні характеристики та призначення:\n",
    "\n",
    "### list\n",
    "\n",
    "* Тип: Змінюваний (mutable)\n",
    "* Приклад: [1, 2, 3, 4]\n",
    "* Особливості:\n",
    "    * Зберігає елементи у впорядкованому вигляді\n",
    "    * Може містити дублікати\n",
    "    * Елементи можуть додаватися, видалятися або модифікуватися\n",
    "   \n",
    "### set\n",
    "\n",
    "* Тип: Змінюваний (mutable)\n",
    "* Приклад: {1, 2, 3, 4}\n",
    "* Особливості:\n",
    "    * Не зберігає елементи у впорядкованому вигляді\n",
    "    * Не містить дублікатів (унікальні значення)\n",
    "    * Підтримує операції множин, такі як об'єднання, перетин та ін.\n",
    "\n",
    "### tuple\n",
    "\n",
    "* Тип: Незмінюваний (immutable)\n",
    "* Приклад: (1, 2, 3, 4)\n",
    "* Особливості:\n",
    "    * Зберігає елементи у впорядкованому вигляді\n",
    "    * Може містити дублікати\n",
    "    * Елементи не можна змінювати після створення кортежу\n",
    "    \n",
    "### dict\n",
    "* Тип: Змінюваний (Mutable)\n",
    "* Приклад: {'a': 1, 'b': 2}\n",
    "* Особливості:\n",
    "    * Словники містять пари ключ-значення.\n",
    "    * Ключі у словнику повинні бути унікальними.\n",
    "    * Ключі у словнику можуть бути будь-якого імутабельного типу, наприклад, числа, рядки, кортежі.\n",
    "    * Значення у словнику можуть належати будь-якому типу: імутабельному та змінюваному.\n",
    "    * Починаючи з Python 3.7, словники зберігають порядок вставки елементів.\n",
    "    * Оскільки словники є змінювані, їх можна модифікувати на місці.\n",
    "    * Словники використовують хеш-таблиці, тому доступ до значень за ключами є дуже швидким.\n",
    "\n",
    "\n",
    "## Порівняння:\n",
    "\n",
    "Щодо зміни: Лише списки та множини можна змінювати. Кортежі - ні.\n",
    "\n",
    "Щодо порядку: Списки та кортежі зберігають порядок елементів, а множини - ні.\n",
    "\n",
    "Щодо дублікатів: Списки та кортежі можуть містити дублікати, а множини - ні.\n",
    "\n",
    "Щодо використання: Коли вам потрібно зберігати незмінну послідовність, використовуйте кортежі. Якщо вам потрібна змінна послідовність, використовуйте списки. І коли вам потрібно зберігати унікальні значення без конкретного порядку, використовуйте множини."
   ]
  },
  {
   "cell_type": "markdown",
   "id": "92738b75",
   "metadata": {},
   "source": [
    "# list"
   ]
  },
  {
   "cell_type": "code",
   "execution_count": 2,
   "id": "a57c9bf9",
   "metadata": {},
   "outputs": [
    {
     "data": {
      "text/plain": [
       "['some text', 1.23, True]"
      ]
     },
     "execution_count": 2,
     "metadata": {},
     "output_type": "execute_result"
    }
   ],
   "source": [
    "some_list = [\"some text\", 1.23, True]\n",
    "some_list"
   ]
  },
  {
   "cell_type": "code",
   "execution_count": 3,
   "id": "fc3ed8c3",
   "metadata": {},
   "outputs": [
    {
     "name": "stdout",
     "output_type": "stream",
     "text": [
      "[]\n"
     ]
    }
   ],
   "source": [
    "names = []  # пустий список\n",
    "print(names)"
   ]
  },
  {
   "cell_type": "code",
   "execution_count": 4,
   "id": "e292e534",
   "metadata": {},
   "outputs": [
    {
     "name": "stdout",
     "output_type": "stream",
     "text": [
      "['Shannon']\n"
     ]
    }
   ],
   "source": [
    "names.append('Shannon')  # Додавання одного елемента в кінець списку\n",
    "print(names)"
   ]
  },
  {
   "cell_type": "code",
   "execution_count": 5,
   "id": "b5485c10",
   "metadata": {},
   "outputs": [
    {
     "name": "stdout",
     "output_type": "stream",
     "text": [
      "Shannon\n"
     ]
    }
   ],
   "source": [
    "# Доступ до імен за допомогою нарізки:\n",
    "print(names[0])  # Shannon"
   ]
  },
  {
   "cell_type": "code",
   "execution_count": 6,
   "id": "694663d9",
   "metadata": {},
   "outputs": [
    {
     "name": "stdout",
     "output_type": "stream",
     "text": [
      "['Finn', 'Shannon']\n"
     ]
    }
   ],
   "source": [
    "# Вставлення елемента (а не просто додавання його в кінець):\n",
    "names.insert(0, 'Finn')\n",
    "print(names)"
   ]
  },
  {
   "cell_type": "markdown",
   "id": "6c6eb603",
   "metadata": {},
   "source": [
    "0 – номер фрагмента, куди потрібно вставити елемент ПЕРЕД\n",
    "Іншими словами, це вставить 'Finn' просто *до* індексу 0"
   ]
  },
  {
   "cell_type": "code",
   "execution_count": 7,
   "id": "a4e91fc3",
   "metadata": {},
   "outputs": [],
   "source": [
    "many_more = ['Jake', 'Princess Bubblegum', 'Marceline the Vampire Queen', 'Peppermint Butler']"
   ]
  },
  {
   "cell_type": "code",
   "execution_count": 8,
   "id": "3485309d",
   "metadata": {},
   "outputs": [
    {
     "name": "stdout",
     "output_type": "stream",
     "text": [
      "['Finn', 'Shannon', 'Jake', 'Princess Bubblegum', 'Marceline the Vampire Queen', 'Peppermint Butler']\n"
     ]
    }
   ],
   "source": [
    "# Тепер ми можемо додати всі імена many_more кінця списку\n",
    "names.extend(many_more)\n",
    "print(names)"
   ]
  },
  {
   "cell_type": "markdown",
   "id": "47de9896",
   "metadata": {},
   "source": [
    "Тепер ми збираємося піти без цукру, тому всі з цукеркового королівства повинні піти.\n",
    "Давайте видалимо з нашого списку м'яту дворецьку та принцесу Бубблегум."
   ]
  },
  {
   "cell_type": "code",
   "execution_count": 9,
   "id": "e4ce73e3",
   "metadata": {},
   "outputs": [
    {
     "name": "stdout",
     "output_type": "stream",
     "text": [
      "['Finn', 'Shannon', 'Jake', 'Princess Bubblegum', 'Marceline the Vampire Queen']\n"
     ]
    }
   ],
   "source": [
    "names.pop()  # це видалить останній елемент зі списку, яким виявляється Peppermint Butler\n",
    "print(names)"
   ]
  },
  {
   "cell_type": "code",
   "execution_count": 10,
   "id": "ef7d73fb",
   "metadata": {},
   "outputs": [
    {
     "name": "stdout",
     "output_type": "stream",
     "text": [
      "['Finn', 'Shannon', 'Jake', 'Marceline the Vampire Queen']\n"
     ]
    }
   ],
   "source": [
    "names.pop(3)  # це видалить елемент під номером нарізки / індексом 3, який є Princess Bubblegum\n",
    "print(names)"
   ]
  },
  {
   "cell_type": "code",
   "execution_count": 11,
   "id": "2031b19a",
   "metadata": {},
   "outputs": [
    {
     "name": "stdout",
     "output_type": "stream",
     "text": [
      "I found Jake at slicing number / index #2\n",
      "Now I can use .pop() to remove that item.\n",
      "['Finn', 'Shannon', 'Marceline the Vampire Queen']\n"
     ]
    }
   ],
   "source": [
    "# Тепер ми збираємося шукати елемент і видаляти його.\n",
    "remove_this = names.index('Jake')\n",
    "print(\"I found Jake at slicing number / index #{0}\".format(remove_this))\n",
    "print(\"Now I can use .pop() to remove that item.\")\n",
    "names.pop(remove_this)\n",
    "print(names)"
   ]
  },
  {
   "cell_type": "code",
   "execution_count": 13,
   "id": "cae99fe2",
   "metadata": {},
   "outputs": [
    {
     "name": "stdout",
     "output_type": "stream",
     "text": [
      "['Shannon', 'Marceline the Vampire Queen']\n"
     ]
    }
   ],
   "source": [
    "# Ми також можемо використовувати .remove(), щоб скоротити це.\n",
    "names.remove('Finn')\n",
    "print(names)"
   ]
  },
  {
   "cell_type": "code",
   "execution_count": 8,
   "id": "3c77c9a3",
   "metadata": {},
   "outputs": [],
   "source": [
    "# Інші методи list"
   ]
  },
  {
   "cell_type": "code",
   "execution_count": 14,
   "id": "58b0d1df",
   "metadata": {},
   "outputs": [
    {
     "name": "stdout",
     "output_type": "stream",
     "text": [
      "3\n"
     ]
    }
   ],
   "source": [
    "# count(): Повертає кількість входжень заданого елемента в список.\n",
    "lst = [1, 2, 3, 2, 2]\n",
    "cnt = lst.count(2)\n",
    "print(cnt)  # Виведе: 3"
   ]
  },
  {
   "cell_type": "code",
   "execution_count": 15,
   "id": "76db223f",
   "metadata": {},
   "outputs": [
    {
     "name": "stdout",
     "output_type": "stream",
     "text": [
      "[1, 2, 3]\n"
     ]
    }
   ],
   "source": [
    "# sort(): Сортує список на місці.\n",
    "lst = [3, 1, 2]\n",
    "lst.sort()\n",
    "print(lst)  # Виведе: [1, 2, 3]"
   ]
  },
  {
   "cell_type": "code",
   "execution_count": 16,
   "id": "6e010023",
   "metadata": {},
   "outputs": [
    {
     "name": "stdout",
     "output_type": "stream",
     "text": [
      "[3, 2, 1]\n"
     ]
    }
   ],
   "source": [
    "# sort(): reverse\n",
    "lst = [3, 1, 2]\n",
    "lst.sort(reverse=True)\n",
    "print(lst)"
   ]
  },
  {
   "cell_type": "code",
   "execution_count": 17,
   "id": "770d8fe3",
   "metadata": {},
   "outputs": [
    {
     "name": "stdout",
     "output_type": "stream",
     "text": [
      "[2, 3, 1]\n"
     ]
    }
   ],
   "source": [
    "# reverse(): Обертає список.\n",
    "lst = [1, 3, 2]\n",
    "lst.reverse()\n",
    "print(lst)  # Виведе: [3, 2, 1]"
   ]
  },
  {
   "cell_type": "code",
   "execution_count": 18,
   "id": "876cf056",
   "metadata": {},
   "outputs": [
    {
     "name": "stdout",
     "output_type": "stream",
     "text": [
      "[]\n"
     ]
    }
   ],
   "source": [
    "# clear(): Видаляє всі елементи зі списку.\n",
    "lst = [1, 2, 3]\n",
    "lst.clear()\n",
    "print(lst)  # Виведе: []"
   ]
  },
  {
   "cell_type": "code",
   "execution_count": 19,
   "id": "e261e05e",
   "metadata": {},
   "outputs": [
    {
     "name": "stdout",
     "output_type": "stream",
     "text": [
      "3\n"
     ]
    }
   ],
   "source": [
    "# len(): Цей метод повертає кількість елементів у списку. Функція len() використовує цей метод під капотом.\n",
    "lst = [1, 2, 3]\n",
    "print(len(lst))  # Виведе: 3"
   ]
  },
  {
   "cell_type": "code",
   "execution_count": 21,
   "id": "1c207de3",
   "metadata": {},
   "outputs": [],
   "source": [
    "# getitem() та setitem(): Ці \"магічні\" методи використовуються для доступу та зміни "
   ]
  },
  {
   "cell_type": "code",
   "execution_count": 22,
   "id": "3b5539cf",
   "metadata": {},
   "outputs": [
    {
     "name": "stdout",
     "output_type": "stream",
     "text": [
      "2\n",
      "[1, 4, 3]\n"
     ]
    }
   ],
   "source": [
    "lst = [1, 2, 3]\n",
    "print(lst[1])  # Використовує __getitem__ і виведе: 2\n",
    "\n",
    "lst[1] = 4     # Використовує __setitem__\n",
    "print(lst)  # Виведе: [1, 4, 3]"
   ]
  },
  {
   "cell_type": "code",
   "execution_count": 23,
   "id": "40dd7da8",
   "metadata": {},
   "outputs": [
    {
     "name": "stdout",
     "output_type": "stream",
     "text": [
      "[2, 3]\n",
      "[1, 4, 5]\n"
     ]
    }
   ],
   "source": [
    "# slice\n",
    "lst = [1, 2, 3]\n",
    "print(lst[1:3])  # Використовує __getitem__ і виведе: 2\n",
    "\n",
    "lst[1:3] = [4, 5]\n",
    "print(lst)"
   ]
  },
  {
   "cell_type": "code",
   "execution_count": 25,
   "id": "98a57ea5",
   "metadata": {},
   "outputs": [
    {
     "ename": "TypeError",
     "evalue": "'<' not supported between instances of 'str' and 'int'",
     "output_type": "error",
     "traceback": [
      "\u001b[0;31m---------------------------------------------------------------------------\u001b[0m",
      "\u001b[0;31mTypeError\u001b[0m                                 Traceback (most recent call last)",
      "\u001b[0;32m<ipython-input-25-7a01c07f2756>\u001b[0m in \u001b[0;36m<module>\u001b[0;34m\u001b[0m\n\u001b[1;32m      1\u001b[0m \u001b[0;31m# sort(): by key\u001b[0m\u001b[0;34m\u001b[0m\u001b[0;34m\u001b[0m\u001b[0;34m\u001b[0m\u001b[0m\n\u001b[1;32m      2\u001b[0m \u001b[0mlst\u001b[0m \u001b[0;34m=\u001b[0m \u001b[0;34m[\u001b[0m\u001b[0;36m1\u001b[0m\u001b[0;34m,\u001b[0m \u001b[0;36m2\u001b[0m\u001b[0;34m,\u001b[0m \u001b[0;36m3\u001b[0m\u001b[0;34m,\u001b[0m \u001b[0;34m\"as\"\u001b[0m\u001b[0;34m]\u001b[0m\u001b[0;34m\u001b[0m\u001b[0;34m\u001b[0m\u001b[0m\n\u001b[0;32m----> 3\u001b[0;31m \u001b[0mlst\u001b[0m\u001b[0;34m.\u001b[0m\u001b[0msort\u001b[0m\u001b[0;34m(\u001b[0m\u001b[0;34m)\u001b[0m\u001b[0;34m\u001b[0m\u001b[0;34m\u001b[0m\u001b[0m\n\u001b[0m\u001b[1;32m      4\u001b[0m \u001b[0mprint\u001b[0m\u001b[0;34m(\u001b[0m\u001b[0mlst\u001b[0m\u001b[0;34m)\u001b[0m\u001b[0;34m\u001b[0m\u001b[0;34m\u001b[0m\u001b[0m\n\u001b[1;32m      5\u001b[0m \u001b[0;34m\u001b[0m\u001b[0m\n",
      "\u001b[0;31mTypeError\u001b[0m: '<' not supported between instances of 'str' and 'int'"
     ]
    }
   ],
   "source": [
    "# sort(): by key\n",
    "lst = [1, 2, 3, \"as\"]\n",
    "lst.sort()\n",
    "print(lst)\n",
    "\n",
    "lst.sort()\n",
    "print(lst)"
   ]
  },
  {
   "cell_type": "code",
   "execution_count": 26,
   "id": "a5ab4a49",
   "metadata": {},
   "outputs": [
    {
     "name": "stdout",
     "output_type": "stream",
     "text": [
      "[[1, 'b'], [2, 'c'], [3, 'a']]\n",
      "[[3, 'a'], [1, 'b'], [2, 'c']]\n"
     ]
    }
   ],
   "source": [
    "# sort(): by key\n",
    "lst = [[3, \"a\"], [2, \"c\"], [1, \"b\"]]\n",
    "lst.sort()\n",
    "print(lst)\n",
    "\n",
    "lst.sort(key=lambda item: item[1])\n",
    "print(lst)"
   ]
  },
  {
   "cell_type": "code",
   "execution_count": 29,
   "id": "bfde1185",
   "metadata": {},
   "outputs": [
    {
     "name": "stdout",
     "output_type": "stream",
     "text": [
      "[{'name': 'Fin', 'surname': 'Ajksdf'}, {'name': 'Fin2', 'surname': 'Ajksdf'}]\n"
     ]
    }
   ],
   "source": [
    "# sort(): by key\n",
    "lst = [{\"name\": \"Fin\",\n",
    "        \"surname\": \"Ajksdf\"\n",
    "       },\n",
    "      {\"name\": \"Fin2\",\n",
    "        \"surname\": \"Ajksdf\"\n",
    "       }]\n",
    "\n",
    "lst.sort(key=lambda item: item[\"name\"])\n",
    "print(lst)"
   ]
  },
  {
   "cell_type": "markdown",
   "id": "ea68cbf3",
   "metadata": {},
   "source": [
    "також можна використовувати sort"
   ]
  },
  {
   "cell_type": "code",
   "execution_count": 30,
   "id": "6b69b371",
   "metadata": {},
   "outputs": [
    {
     "data": {
      "text/plain": [
       "[1, 2, 3, 3, 5]"
      ]
     },
     "execution_count": 30,
     "metadata": {},
     "output_type": "execute_result"
    }
   ],
   "source": [
    "# конкатенація списків\n",
    "[1, 2, 3] + [3, 5]"
   ]
  },
  {
   "cell_type": "code",
   "execution_count": 31,
   "id": "2baf2902",
   "metadata": {},
   "outputs": [
    {
     "data": {
      "text/plain": [
       "[1, 2, 3, 1, 2, 3, 1, 2, 3]"
      ]
     },
     "execution_count": 31,
     "metadata": {},
     "output_type": "execute_result"
    }
   ],
   "source": [
    "# дублювання списків\n",
    "[1, 2, 3] * 3"
   ]
  },
  {
   "cell_type": "markdown",
   "id": "3b58a179",
   "metadata": {},
   "source": [
    "# set"
   ]
  },
  {
   "cell_type": "code",
   "execution_count": 32,
   "id": "6af5f2ae",
   "metadata": {},
   "outputs": [
    {
     "name": "stdout",
     "output_type": "stream",
     "text": [
      "{'cherry', 'apple', 'banana'}\n"
     ]
    }
   ],
   "source": [
    "# Створення множини:\n",
    "fruits = {\"apple\", \"banana\", \"cherry\", \"apple\"}\n",
    "print(fruits)  # {'banana', 'cherry', 'apple'}"
   ]
  },
  {
   "cell_type": "code",
   "execution_count": 33,
   "id": "e6fb54e3",
   "metadata": {},
   "outputs": [
    {
     "name": "stdout",
     "output_type": "stream",
     "text": [
      "{'cherry', 'apple', 'orange', 'banana'}\n"
     ]
    }
   ],
   "source": [
    "# Додавання елемента до множини:\n",
    "fruits = {\"apple\", \"banana\", \"cherry\"}\n",
    "fruits.add(\"orange\")\n",
    "print(fruits)  # {'banana', 'orange', 'cherry', 'apple'}"
   ]
  },
  {
   "cell_type": "code",
   "execution_count": 38,
   "id": "6f798e6f",
   "metadata": {},
   "outputs": [
    {
     "name": "stdout",
     "output_type": "stream",
     "text": [
      "{'cherry', 'apple'}\n"
     ]
    }
   ],
   "source": [
    "# Видалення елемента з множини:\n",
    "fruits = {\"apple\", \"banana\", \"cherry\"}\n",
    "fruits.remove(\"banana\")\n",
    "print(fruits)  # {'orange', 'cherry', 'apple'}"
   ]
  },
  {
   "cell_type": "code",
   "execution_count": 39,
   "id": "39bf7e40",
   "metadata": {},
   "outputs": [
    {
     "name": "stdout",
     "output_type": "stream",
     "text": [
      "{1, 3}\n"
     ]
    }
   ],
   "source": [
    "# discard(): Видаляє елемент з множини, якщо він існує, ігноруючи помилки.\n",
    "s = {1, 2, 3}\n",
    "s.discard(2)\n",
    "s.discard(4)  # Не викличе помилку, незважаючи на те, що 4 відсутнє\n",
    "print(s)  # Виведе: {1, 3}"
   ]
  },
  {
   "cell_type": "code",
   "execution_count": 40,
   "id": "23138421",
   "metadata": {},
   "outputs": [
    {
     "name": "stdout",
     "output_type": "stream",
     "text": [
      "1\n"
     ]
    }
   ],
   "source": [
    "# pop(): Видаляє і повертає довільний елемент з множини. Викликає KeyError, якщо множина порожня.\n",
    "s = {1, 2, 3}\n",
    "x = s.pop()\n",
    "print(x)  # Виведе один з елементів множини, наприклад, 1"
   ]
  },
  {
   "cell_type": "code",
   "execution_count": 41,
   "id": "fe429fcc",
   "metadata": {},
   "outputs": [
    {
     "name": "stdout",
     "output_type": "stream",
     "text": [
      "set()\n"
     ]
    }
   ],
   "source": [
    "# clear(): Видаляє всі елементи з множини.\n",
    "s = {1, 2, 3}\n",
    "s.clear()\n",
    "print(s)  # Виведе: set()"
   ]
  },
  {
   "cell_type": "code",
   "execution_count": 44,
   "id": "12148395",
   "metadata": {},
   "outputs": [
    {
     "name": "stdout",
     "output_type": "stream",
     "text": [
      "Apple is in the set\n"
     ]
    }
   ],
   "source": [
    "# Перевірка наявності елемента в множині:\n",
    "fruits = {\"apple\", \"banana\", \"cherry\"}\n",
    "if \"apple\" in fruits:\n",
    "    print(\"Apple is in the set\")"
   ]
  },
  {
   "cell_type": "code",
   "execution_count": 45,
   "id": "570b05d2",
   "metadata": {},
   "outputs": [
    {
     "name": "stdout",
     "output_type": "stream",
     "text": [
      "Apple is in the list\n"
     ]
    }
   ],
   "source": [
    "# Перевірка наявності елемента в множині:\n",
    "fruits = [\"apple\", \"banana\", \"cherry\"]\n",
    "if \"apple\" in fruits:\n",
    "    print(\"Apple is in the list\")"
   ]
  },
  {
   "cell_type": "code",
   "execution_count": 36,
   "id": "5876aa1f",
   "metadata": {},
   "outputs": [
    {
     "name": "stdout",
     "output_type": "stream",
     "text": [
      "{1, 2, 3, 4, 5, 6}\n",
      "{3, 4}\n",
      "{1, 2}\n",
      "{1, 2, 5, 6}\n"
     ]
    }
   ],
   "source": [
    "# Операції над множинами:\n",
    "set1 = {1, 2, 3, 4}\n",
    "set2 = {3, 4, 5, 6}\n",
    "\n",
    "# Об'єднання\n",
    "union_set = set1 | set2 # union\n",
    "print(union_set)  # {1, 2, 3, 4, 5, 6}\n",
    "\n",
    "# Перетин\n",
    "intersection_set = set1 & set2 # intersection\n",
    "print(intersection_set)  # {3, 4}\n",
    "\n",
    "# Різниця\n",
    "difference_set = set1 - set2 # difference\n",
    "print(difference_set)  # {1, 2}\n",
    "\n",
    "symmetric_difference_set = set1 ^ set2 # symmetric_difference\n",
    "print(symmetric_difference_set) # {1, 2, 5, 6}"
   ]
  },
  {
   "cell_type": "code",
   "execution_count": 46,
   "id": "e256aa29",
   "metadata": {},
   "outputs": [
    {
     "name": "stdout",
     "output_type": "stream",
     "text": [
      "{1, 2, 3, 4, 5}\n"
     ]
    }
   ],
   "source": [
    "# Створення множини зі списку:\n",
    "numbers = [1, 1, 2, 3, 4, 4, 5]\n",
    "unique_numbers = set(numbers)\n",
    "print(unique_numbers)  # {1, 2, 3, 4, 5}"
   ]
  },
  {
   "cell_type": "code",
   "execution_count": 47,
   "id": "41bb5473",
   "metadata": {},
   "outputs": [
    {
     "name": "stdout",
     "output_type": "stream",
     "text": [
      "True\n"
     ]
    }
   ],
   "source": [
    "# issubset(): Перевіряє, чи є одна множина підмножиною іншої.\n",
    "s1 = {1, 2}\n",
    "s2 = {1, 2, 3, 4}\n",
    "print(s1.issubset(s2))  # Виведе: True"
   ]
  },
  {
   "cell_type": "code",
   "execution_count": 48,
   "id": "5c2c4407",
   "metadata": {},
   "outputs": [
    {
     "name": "stdout",
     "output_type": "stream",
     "text": [
      "True\n"
     ]
    }
   ],
   "source": [
    "# issuperset(): Перевіряє, чи є одна множина надмножиною для іншої.\n",
    "s1 = {1, 2, 3, 4}\n",
    "s2 = {2, 3}\n",
    "print(s1.issuperset(s2))  # Виведе: True"
   ]
  },
  {
   "cell_type": "code",
   "execution_count": 49,
   "id": "3a5d0a22",
   "metadata": {},
   "outputs": [
    {
     "name": "stdout",
     "output_type": "stream",
     "text": [
      "True\n"
     ]
    }
   ],
   "source": [
    "# isdisjoint(): Перевіряє, чи немає спільних елементів у двох множинах.\n",
    "s1 = {1, 2}\n",
    "s2 = {3, 4}\n",
    "print(s1.isdisjoint(s2))  # Виведе: True"
   ]
  },
  {
   "cell_type": "markdown",
   "id": "db2c4114",
   "metadata": {},
   "source": [
    "# tuple\n",
    "\n",
    "Кортежі (tuple) в Python є незмінюваними впорядкованими колекціями. Це означає, що ви не можете змінити, додати або видалити елементи після створення кортежу. Ось декілька прикладів використання кортежів:"
   ]
  },
  {
   "cell_type": "code",
   "execution_count": 50,
   "id": "84338546",
   "metadata": {},
   "outputs": [
    {
     "name": "stdout",
     "output_type": "stream",
     "text": [
      "('red', 'green', 'blue')\n"
     ]
    }
   ],
   "source": [
    "# Створення кортежу:\n",
    "colors = (\"red\", \"green\", \"blue\")\n",
    "print(colors)  # ('red', 'green', 'blue')"
   ]
  },
  {
   "cell_type": "code",
   "execution_count": 51,
   "id": "d496b0dd",
   "metadata": {},
   "outputs": [
    {
     "name": "stdout",
     "output_type": "stream",
     "text": [
      "red\n"
     ]
    }
   ],
   "source": [
    "# Отримання значення за індексом:\n",
    "first_color = colors[0]\n",
    "print(first_color)  # 'red'"
   ]
  },
  {
   "cell_type": "code",
   "execution_count": 52,
   "id": "772ae90f",
   "metadata": {},
   "outputs": [
    {
     "ename": "TypeError",
     "evalue": "'tuple' object does not support item assignment",
     "output_type": "error",
     "traceback": [
      "\u001b[0;31m---------------------------------------------------------------------------\u001b[0m",
      "\u001b[0;31mTypeError\u001b[0m                                 Traceback (most recent call last)",
      "\u001b[0;32m<ipython-input-52-171d414390a6>\u001b[0m in \u001b[0;36m<module>\u001b[0;34m\u001b[0m\n\u001b[1;32m      1\u001b[0m \u001b[0;31m# Намагаємося змінити значення кортежу (викличе помилку):\u001b[0m\u001b[0;34m\u001b[0m\u001b[0;34m\u001b[0m\u001b[0;34m\u001b[0m\u001b[0m\n\u001b[0;32m----> 2\u001b[0;31m \u001b[0mcolors\u001b[0m\u001b[0;34m[\u001b[0m\u001b[0;36m0\u001b[0m\u001b[0;34m]\u001b[0m \u001b[0;34m=\u001b[0m \u001b[0;34m\"yellow\"\u001b[0m  \u001b[0;31m# TypeError: 'tuple' object does not support item assignment\u001b[0m\u001b[0;34m\u001b[0m\u001b[0;34m\u001b[0m\u001b[0m\n\u001b[0m",
      "\u001b[0;31mTypeError\u001b[0m: 'tuple' object does not support item assignment"
     ]
    }
   ],
   "source": [
    "# Намагаємося змінити значення кортежу (викличе помилку):\n",
    "colors[0] = \"yellow\"  # TypeError: 'tuple' object does not support item assignment"
   ]
  },
  {
   "cell_type": "code",
   "execution_count": 53,
   "id": "4ecfac19",
   "metadata": {},
   "outputs": [
    {
     "name": "stdout",
     "output_type": "stream",
     "text": [
      "green\n"
     ]
    }
   ],
   "source": [
    "# Вкладені кортежі:\n",
    "point = (3, 4, (\"red\", \"green\"))\n",
    "print(point[2][1])  # 'green'"
   ]
  },
  {
   "cell_type": "code",
   "execution_count": 56,
   "id": "ae402856",
   "metadata": {},
   "outputs": [
    {
     "name": "stdout",
     "output_type": "stream",
     "text": [
      "red\n",
      "green\n"
     ]
    }
   ],
   "source": [
    "# Пакування та розпакування кортежів:\n",
    "x, y, z = colors  # розпакування кортежу\n",
    "print(x)  # 'red'\n",
    "print(y)  # 'green'"
   ]
  },
  {
   "cell_type": "code",
   "execution_count": 25,
   "id": "e6aed09a",
   "metadata": {},
   "outputs": [
    {
     "name": "stdout",
     "output_type": "stream",
     "text": [
      "point at y-axis\n"
     ]
    }
   ],
   "source": [
    "# Кортежі в якості ключів словників:\n",
    "# Так як кортежі є незмінюваними, вони можуть використовуватися як ключі для словників\n",
    "coordinate_map = {\n",
    "    (0, 0): \"origin\",\n",
    "    (0, 1): \"point at y-axis\",\n",
    "    (1, 0): \"point at x-axis\"\n",
    "}\n",
    "print(coordinate_map[(0, 1)])  # 'point at y-axis'"
   ]
  },
  {
   "cell_type": "code",
   "execution_count": 58,
   "id": "de2ee9b6",
   "metadata": {},
   "outputs": [
    {
     "data": {
      "text/plain": [
       "('red', 'green', 'blue')"
      ]
     },
     "execution_count": 58,
     "metadata": {},
     "output_type": "execute_result"
    }
   ],
   "source": [
    "colors"
   ]
  },
  {
   "cell_type": "code",
   "execution_count": 57,
   "id": "c7d957bc",
   "metadata": {},
   "outputs": [
    {
     "name": "stdout",
     "output_type": "stream",
     "text": [
      "1\n",
      "2\n"
     ]
    }
   ],
   "source": [
    "# використання методів з кортежами:\n",
    "count_of_red = colors.count(\"red\")\n",
    "print(count_of_red)  # 1\n",
    "\n",
    "index_of_blue = colors.index(\"blue\")\n",
    "print(index_of_blue)  # 2"
   ]
  },
  {
   "cell_type": "markdown",
   "id": "df136e8d",
   "metadata": {},
   "source": [
    "Кортежі корисні, коли вам потрібно зберігати впорядковану колекцію, яка не змінюється протягом часу, або коли вам потрібна гарантія того, що дані не будуть модифіковані."
   ]
  },
  {
   "cell_type": "code",
   "execution_count": 59,
   "id": "c88cdb89",
   "metadata": {},
   "outputs": [
    {
     "name": "stdout",
     "output_type": "stream",
     "text": [
      "5\n"
     ]
    }
   ],
   "source": [
    "# len() (хоча це і не метод кортежу, але корисна функція для роботи з ним): Повертає кількість елементів у кортежі.\n",
    "t = (1, 2, 3, 4, 5)\n",
    "print(len(t))  # Виведе: 5"
   ]
  },
  {
   "cell_type": "code",
   "execution_count": 60,
   "id": "d6848215",
   "metadata": {},
   "outputs": [
    {
     "name": "stdout",
     "output_type": "stream",
     "text": [
      "2\n",
      "(2, 3, 4)\n"
     ]
    }
   ],
   "source": [
    "# Також, кортежі підтримують всі стандартні операції для послідовностей, такі як індексація, розрізання (slicing) і т. д.:\n",
    "t = (1, 2, 3, 4, 5)\n",
    "print(t[1])       # Виведе: 2\n",
    "print(t[1:4])     # Виведе: (2, 3, 4)"
   ]
  },
  {
   "cell_type": "markdown",
   "id": "1389adc3",
   "metadata": {},
   "source": [
    "# dict"
   ]
  },
  {
   "cell_type": "code",
   "execution_count": 62,
   "id": "4bc8859b",
   "metadata": {},
   "outputs": [
    {
     "data": {
      "text/plain": [
       "{'a': 1, 1: [3, 4], (2, 3): 'a'}"
      ]
     },
     "execution_count": 62,
     "metadata": {},
     "output_type": "execute_result"
    }
   ],
   "source": [
    "# обьявлення\n",
    "a = {\"a\": 1, \n",
    "     1: [3, 4], \n",
    "     (2, 3): \"a\"}\n",
    "a"
   ]
  },
  {
   "cell_type": "code",
   "execution_count": 63,
   "id": "12f0f552",
   "metadata": {},
   "outputs": [
    {
     "data": {
      "text/plain": [
       "{'a': 1, 'b': 2, 'c': 3}"
      ]
     },
     "execution_count": 63,
     "metadata": {},
     "output_type": "execute_result"
    }
   ],
   "source": [
    "dict(a=1, b=2, c=3)"
   ]
  },
  {
   "cell_type": "code",
   "execution_count": 64,
   "id": "ef099286",
   "metadata": {},
   "outputs": [
    {
     "name": "stdout",
     "output_type": "stream",
     "text": [
      "1\n",
      "None\n",
      "3\n"
     ]
    }
   ],
   "source": [
    "# get(): Повертає значення для зазначеного ключа, якщо ключ існує у словнику; \n",
    "# інакше повертає задане значення (або None, якщо значення не вказано).\n",
    "d = {'a': 1, 'b': 2}\n",
    "print(d.get('a'))  # Виведе: 1\n",
    "print(d.get('c'))  # Виведе: None\n",
    "print(d.get('c', 3))  # Виведе: 3"
   ]
  },
  {
   "cell_type": "code",
   "execution_count": 66,
   "id": "7a00fbe0",
   "metadata": {},
   "outputs": [
    {
     "name": "stdout",
     "output_type": "stream",
     "text": [
      "dict_keys(['a', 'b'])\n"
     ]
    }
   ],
   "source": [
    "# keys(): Повертає список усіх ключів у словнику.\n",
    "d = {'a': 1, 'b': 2}\n",
    "print(d.keys())  # Виведе: dict_keys(['a', 'b'])"
   ]
  },
  {
   "cell_type": "code",
   "execution_count": 67,
   "id": "06a4ebda",
   "metadata": {},
   "outputs": [
    {
     "name": "stdout",
     "output_type": "stream",
     "text": [
      "dict_values([1, 2])\n"
     ]
    }
   ],
   "source": [
    "# values(): Повертає список усіх значень у словнику.\n",
    "d = {'a': 1, 'b': 2}\n",
    "print(d.values())  # Виведе: dict_values([1, 2])"
   ]
  },
  {
   "cell_type": "code",
   "execution_count": 68,
   "id": "ac7d6fb9",
   "metadata": {},
   "outputs": [
    {
     "name": "stdout",
     "output_type": "stream",
     "text": [
      "dict_items([('a', 1), ('b', 2)])\n"
     ]
    }
   ],
   "source": [
    "# items(): Повертає список пар (ключ, значення) у словнику.\n",
    "d = {'a': 1, 'b': 2}\n",
    "print(d.items())  # Виведе: dict_items([('a', 1), ('b', 2)])"
   ]
  },
  {
   "cell_type": "code",
   "execution_count": 69,
   "id": "652a31c3",
   "metadata": {},
   "outputs": [
    {
     "name": "stdout",
     "output_type": "stream",
     "text": [
      "1\n",
      "{'b': 2}\n"
     ]
    }
   ],
   "source": [
    "# pop(): Видаляє зі словника елемент з заданим ключем і повертає його значення.\n",
    "d = {'a': 1, 'b': 2}\n",
    "print(d.pop('a'))  # Виведе: 1\n",
    "print(d)  # Виведе: {'b': 2}"
   ]
  },
  {
   "cell_type": "code",
   "execution_count": 71,
   "id": "b958af32",
   "metadata": {},
   "outputs": [
    {
     "name": "stdout",
     "output_type": "stream",
     "text": [
      "('c', 3)\n"
     ]
    }
   ],
   "source": [
    "# popitem(): Видаляє та повертає пару (ключ, значення) з словника. \n",
    "# Починаючи з версії Python 3.7, цей метод видаляє останню додану пару.\n",
    "d = {'a': 1, 'b': 2, 'c': 3}\n",
    "print(d.popitem())  # Виведе: ('c', 3)"
   ]
  },
  {
   "cell_type": "code",
   "execution_count": 62,
   "id": "d9f56151",
   "metadata": {},
   "outputs": [
    {
     "name": "stdout",
     "output_type": "stream",
     "text": [
      "1\n",
      "3\n",
      "{'a': 1, 'b': 2, 'c': 3}\n"
     ]
    }
   ],
   "source": [
    "# setdefault(): Повертає значення ключа, якщо ключ існує у словнику. \n",
    "# Якщо ключу немає, додає ключ з заданим значенням.\n",
    "d = {'a': 1, 'b': 2}\n",
    "print(d.setdefault('a', 3))  # Виведе: 1\n",
    "print(d.setdefault('c', 3))  # Виведе: 3\n",
    "print(d)  # Виведе: {'a': 1, 'b': 2, 'c': 3}"
   ]
  },
  {
   "cell_type": "code",
   "execution_count": 63,
   "id": "283220b2",
   "metadata": {},
   "outputs": [
    {
     "name": "stdout",
     "output_type": "stream",
     "text": [
      "{'a': 1, 'b': 3, 'c': 4}\n"
     ]
    }
   ],
   "source": [
    "# update(): Додає ключі та значення до словника з іншого словника або ітерабельного об'єкта.\n",
    "d1 = {'a': 1, 'b': 2}\n",
    "d2 = {'b': 3, 'c': 4}\n",
    "d1.update(d2)\n",
    "print(d1)  # Виведе: {'a': 1, 'b': 3, 'c': 4}"
   ]
  },
  {
   "cell_type": "code",
   "execution_count": 64,
   "id": "17f8312a",
   "metadata": {},
   "outputs": [
    {
     "name": "stdout",
     "output_type": "stream",
     "text": [
      "{}\n"
     ]
    }
   ],
   "source": [
    "# clear(): Видаляє всі елементи зі словника.\n",
    "d = {'a': 1, 'b': 2}\n",
    "d.clear()\n",
    "print(d)  # Виведе: {}"
   ]
  },
  {
   "cell_type": "markdown",
   "id": "fa1a4a90",
   "metadata": {},
   "source": [
    "# Приклад\n",
    "Давайте розглянемо реальний кейс у сфері машинного навчання, де можуть бути використані set, tuple, dict, і list.\n",
    "\n",
    "Задача: Побудова системи рекомендацій фільмів для користувача."
   ]
  },
  {
   "cell_type": "markdown",
   "id": "7a157968",
   "metadata": {},
   "source": [
    "list: Застосування: Зберігання списку фільмів, які користувач подивився.\n",
    "\n"
   ]
  },
  {
   "cell_type": "code",
   "execution_count": 65,
   "id": "1ce63c24",
   "metadata": {},
   "outputs": [],
   "source": [
    "watched_movies = ['Інтерстеллар', 'Начало', 'Хороший рік']"
   ]
  },
  {
   "cell_type": "markdown",
   "id": "d5d14b7b",
   "metadata": {},
   "source": [
    "set: Застосування: Видалення дублікатів. Якщо система збирає дані з різних джерел, можуть виникнути дублікати в назвах фільмів."
   ]
  },
  {
   "cell_type": "code",
   "execution_count": 66,
   "id": "7d8202a5",
   "metadata": {},
   "outputs": [],
   "source": [
    "all_movies = ['Інтерстеллар', 'Хороший рік', 'Інтерстеллар', 'Начало']\n",
    "unique_movies = set(all_movies)"
   ]
  },
  {
   "cell_type": "markdown",
   "id": "04e037e1",
   "metadata": {},
   "source": [
    "tuple: Застосування: Зберігання інформації про фільм, яка не змінюється, наприклад, (назва, рік виходу, режисер)."
   ]
  },
  {
   "cell_type": "code",
   "execution_count": 67,
   "id": "f7db0f64",
   "metadata": {},
   "outputs": [],
   "source": [
    "movie_info = ('Інтерстеллар', 2014, 'Крістофер Нолан')"
   ]
  },
  {
   "cell_type": "markdown",
   "id": "472d977d",
   "metadata": {},
   "source": [
    "dict: Застосування: Зберігання рейтингів, які користувач виставив фільмам. Ключем є назва фільму, а значенням - виставлений рейтинг."
   ]
  },
  {
   "cell_type": "code",
   "execution_count": 68,
   "id": "3e25204b",
   "metadata": {},
   "outputs": [],
   "source": [
    "user_ratings = {\n",
    "    'Інтерстеллар': 5.0,\n",
    "    'Начало': 4.8,\n",
    "    'Хороший рік': 3.9\n",
    "}"
   ]
  },
  {
   "cell_type": "markdown",
   "id": "76befb65",
   "metadata": {},
   "source": [
    "У процесі побудови системи рекомендацій, ці структури даних можуть бути використані для збору, обробки та аналізу даних про перегляди та вподобання користувача. Крім того, вони можуть бути використані у більш складних алгоритмах, таких як колаборативна фільтрація, для визначення схожості між користувачами та рекомендації відповідних фільмів."
   ]
  },
  {
   "cell_type": "code",
   "execution_count": null,
   "id": "dff32243",
   "metadata": {},
   "outputs": [],
   "source": []
  }
 ],
 "metadata": {
  "finalized": {
   "timestamp": 1695050702220,
   "trusted": false
  },
  "jupytext": {
   "cell_metadata_filter": "-all",
   "main_language": "python",
   "notebook_metadata_filter": "-all"
  },
  "kernelspec": {
   "display_name": "Python 3",
   "language": "python",
   "name": "python3"
  },
  "language_info": {
   "codemirror_mode": {
    "name": "ipython",
    "version": 3
   },
   "file_extension": ".py",
   "mimetype": "text/x-python",
   "name": "python",
   "nbconvert_exporter": "python",
   "pygments_lexer": "ipython3",
   "version": "3.8.10"
  }
 },
 "nbformat": 4,
 "nbformat_minor": 5
}
