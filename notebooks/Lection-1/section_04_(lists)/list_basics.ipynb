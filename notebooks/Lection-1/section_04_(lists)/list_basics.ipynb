{
 "cells": [
  {
   "cell_type": "markdown",
   "id": "92738b75",
   "metadata": {},
   "source": [
    "Основи зі списком: додавання елементів, видалення елементів, вставлення елементів, поділ на фрагменти"
   ]
  },
  {
   "cell_type": "code",
   "execution_count": null,
   "id": "fc3ed8c3",
   "metadata": {},
   "outputs": [],
   "source": [
    "names = []  # пустий список\n",
    "print(names)"
   ]
  },
  {
   "cell_type": "code",
   "execution_count": null,
   "id": "e292e534",
   "metadata": {},
   "outputs": [],
   "source": [
    "names.append('Shannon')  # Додавання одного елемента в кінець списку\n",
    "print(names)"
   ]
  },
  {
   "cell_type": "code",
   "execution_count": null,
   "id": "b5485c10",
   "metadata": {},
   "outputs": [],
   "source": [
    "# Доступ до імен за допомогою нарізки:\n",
    "print(names[0])  # Shannon"
   ]
  },
  {
   "cell_type": "code",
   "execution_count": null,
   "id": "694663d9",
   "metadata": {},
   "outputs": [],
   "source": [
    "# Вставлення елемента (а не просто додавання його в кінець):\n",
    "names.insert(0, 'Finn')\n",
    "print(names)"
   ]
  },
  {
   "cell_type": "markdown",
   "id": "6c6eb603",
   "metadata": {},
   "source": [
    "0 – номер фрагмента, куди потрібно вставити елемент ПЕРЕД\n",
    "Іншими словами, це вставить 'Finn' просто *до* індексу 0"
   ]
  },
  {
   "cell_type": "code",
   "execution_count": null,
   "id": "a4e91fc3",
   "metadata": {},
   "outputs": [],
   "source": [
    "many_more = ['Jake', 'Princess Bubblegum', 'Marceline the Vampire Queen', 'Peppermint Butler']"
   ]
  },
  {
   "cell_type": "code",
   "execution_count": null,
   "id": "3485309d",
   "metadata": {},
   "outputs": [],
   "source": [
    "# Тепер ми можемо додати всі імена many_more кінця списку\n",
    "names.extend(many_more)\n",
    "print(names)"
   ]
  },
  {
   "cell_type": "markdown",
   "id": "47de9896",
   "metadata": {},
   "source": [
    "Тепер ми збираємося піти без цукру, тому всі з цукеркового королівства повинні піти.\n",
    "Давайте видалимо з нашого списку м'яту дворецьку та принцесу Бубблегум."
   ]
  },
  {
   "cell_type": "code",
   "execution_count": null,
   "id": "e4ce73e3",
   "metadata": {},
   "outputs": [],
   "source": [
    "names.pop()  # це видалить останній елемент зі списку, яким виявляється Peppermint Butler\n",
    "print(names)"
   ]
  },
  {
   "cell_type": "code",
   "execution_count": null,
   "id": "ef7d73fb",
   "metadata": {},
   "outputs": [],
   "source": [
    "names.pop(3)  # це видалить елемент під номером нарізки / індексом 3, який є Princess Bubblegum\n",
    "print(names)"
   ]
  },
  {
   "cell_type": "code",
   "execution_count": null,
   "id": "2031b19a",
   "metadata": {},
   "outputs": [],
   "source": [
    "# Тепер ми збираємося шукати елемент і видаляти його.\n",
    "remove_this = names.index('Jake')\n",
    "print(\"I found Jake at slicing number / index #{0}\".format(remove_this))\n",
    "print(\"Now I can use .pop() to remove that item.\")\n",
    "names.pop(remove_this)\n",
    "print(names)"
   ]
  },
  {
   "cell_type": "code",
   "execution_count": null,
   "id": "cae99fe2",
   "metadata": {},
   "outputs": [],
   "source": [
    "# Ми також можемо використовувати .remove(), щоб скоротити це.\n",
    "names.remove('Finn')\n",
    "print(names)"
   ]
  }
 ],
 "metadata": {
  "jupytext": {
   "cell_metadata_filter": "-all",
   "main_language": "python",
   "notebook_metadata_filter": "-all"
  }
 },
 "nbformat": 4,
 "nbformat_minor": 5
}
