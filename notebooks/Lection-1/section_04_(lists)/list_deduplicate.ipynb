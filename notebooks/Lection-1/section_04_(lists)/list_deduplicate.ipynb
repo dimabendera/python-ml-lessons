{
 "cells": [
  {
   "cell_type": "markdown",
   "id": "569ef37d",
   "metadata": {},
   "source": [
    "Дедублювання списку"
   ]
  },
  {
   "cell_type": "markdown",
   "id": "8e08a6b3",
   "metadata": {},
   "source": [
    "Дедублювання списку є одним з найбільш часто використовуваних дій в комп'ютерному програмуванні"
   ]
  },
  {
   "cell_type": "code",
   "execution_count": null,
   "id": "a1b19356",
   "metadata": {},
   "outputs": [],
   "source": [
    "# Ось, у нас є список абревіатур штатів ... Але в нашому списку багато дублікатів!\n",
    "list_with_duplicates = ['CT', 'DE', 'MN', 'OH', 'CT', 'OK', 'MT', 'FL', 'TX', 'CT', 'OK', 'TX', 'PA', 'OK']"
   ]
  },
  {
   "cell_type": "code",
   "execution_count": null,
   "id": "597334e8",
   "metadata": {},
   "outputs": [],
   "source": [
    "# Спочатку перетворюємо наш список з дублікатами в заданий тип, що усуне дублікати\n",
    "# Далі ми перетворюємо цей набір назад у список, щоб ми могли використовувати його за призначенням.\n",
    "list_without_duplicates = list(set(list_with_duplicates))"
   ]
  },
  {
   "cell_type": "code",
   "execution_count": null,
   "id": "c857ffb2",
   "metadata": {},
   "outputs": [],
   "source": [
    "print(\"List with duplicates: {0}\".format(list_with_duplicates))"
   ]
  },
  {
   "cell_type": "code",
   "execution_count": null,
   "id": "6c0181d2",
   "metadata": {},
   "outputs": [],
   "source": [
    "print(\"List without duplicates: {0}\".format(list_without_duplicates))"
   ]
  }
 ],
 "metadata": {
  "jupytext": {
   "cell_metadata_filter": "-all",
   "main_language": "python",
   "notebook_metadata_filter": "-all"
  }
 },
 "nbformat": 4,
 "nbformat_minor": 5
}
