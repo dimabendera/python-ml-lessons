{
 "cells": [
  {
   "cell_type": "markdown",
   "id": "781fc5fd",
   "metadata": {},
   "source": [
    "# join\n",
    "\n",
    ".join() — це метод string (функція, яка працює лише з рядками), який склеює список назад у рядок.\n",
    "\n"
   ]
  },
  {
   "cell_type": "code",
   "execution_count": 2,
   "id": "e31fb39c",
   "metadata": {},
   "outputs": [],
   "source": [
    "states = [\"Alabama\", \"Alaska\", \"Arizona\", \"Arkansas\", \"California\", \"Colorado\", \"Connecticut\", \"Delaware\",\n",
    "          \"District Of Columbia\", \"Florida\", \"Georgia\", \"Hawaii\", \"Idaho\", \"Illinois\", \"Indiana\", \"Iowa\",\n",
    "          \"Kansas\", \"Kentucky\", \"Louisiana\", \"Maine\", \"Maryland\", \"Massachusetts\", \"Michigan\", \"Minnesota\",\n",
    "          \"Mississippi\", \"Missouri\", \"Montana\", \"Nebraska\", \"Nevada\", \"New Hampshire\", \"New Jersey\",\n",
    "          \"New Mexico\", \"New York\", \"North Carolina\", \"North Dakota\", \"Ohio\", \"Oklahoma\", \"Oregon\", \"PALAU\",\n",
    "          \"Pennsylvania\", \"PUERTO RICO\", \"Rhode Island\", \"South Carolina\", \"South Dakota\", \"Tennessee\", \"Texas\",\n",
    "          \"Utah\", \"Vermont\", \"Virginia\", \"Washington\", \"West Virginia\", \"Wisconsin\", \"Wyoming\"]"
   ]
  },
  {
   "cell_type": "code",
   "execution_count": 4,
   "id": "f356a299",
   "metadata": {},
   "outputs": [
    {
     "name": "stdout",
     "output_type": "stream",
     "text": [
      "Alabama - Alaska - Arizona - Arkansas - California - Colorado - Connecticut - Delaware - District Of Columbia - Florida - Georgia - Hawaii - Idaho - Illinois - Indiana - Iowa - Kansas - Kentucky - Louisiana - Maine - Maryland - Massachusetts - Michigan - Minnesota - Mississippi - Missouri - Montana - Nebraska - Nevada - New Hampshire - New Jersey - New Mexico - New York - North Carolina - North Dakota - Ohio - Oklahoma - Oregon - PALAU - Pennsylvania - PUERTO RICO - Rhode Island - South Carolina - South Dakota - Tennessee - Texas - Utah - Vermont - Virginia - Washington - West Virginia - Wisconsin - Wyoming\n"
     ]
    }
   ],
   "source": [
    "# Отже, якщо ми запустили таку команду:\n",
    "print(\" - \".join(states))"
   ]
  },
  {
   "cell_type": "code",
   "execution_count": 5,
   "id": "559c8670",
   "metadata": {},
   "outputs": [
    {
     "name": "stdout",
     "output_type": "stream",
     "text": [
      "Alabama\n",
      "Alaska\n",
      "Arizona\n",
      "Arkansas\n",
      "California\n",
      "Colorado\n",
      "Connecticut\n",
      "Delaware\n",
      "District Of Columbia\n",
      "Florida\n",
      "Georgia\n",
      "Hawaii\n",
      "Idaho\n",
      "Illinois\n",
      "Indiana\n",
      "Iowa\n",
      "Kansas\n",
      "Kentucky\n",
      "Louisiana\n",
      "Maine\n",
      "Maryland\n",
      "Massachusetts\n",
      "Michigan\n",
      "Minnesota\n",
      "Mississippi\n",
      "Missouri\n",
      "Montana\n",
      "Nebraska\n",
      "Nevada\n",
      "New Hampshire\n",
      "New Jersey\n",
      "New Mexico\n",
      "New York\n",
      "North Carolina\n",
      "North Dakota\n",
      "Ohio\n",
      "Oklahoma\n",
      "Oregon\n",
      "PALAU\n",
      "Pennsylvania\n",
      "PUERTO RICO\n",
      "Rhode Island\n",
      "South Carolina\n",
      "South Dakota\n",
      "Tennessee\n",
      "Texas\n",
      "Utah\n",
      "Vermont\n",
      "Virginia\n",
      "Washington\n",
      "West Virginia\n",
      "Wisconsin\n",
      "Wyoming\n"
     ]
    }
   ],
   "source": [
    "# Замість цього давайте скористаємося корисним шматочком клею.\n",
    "# Давайте склеїмо його разом з новою лінією між кожним станом.\n",
    "print(\"\\n\".join(states))"
   ]
  },
  {
   "cell_type": "markdown",
   "id": "b8c57449",
   "metadata": {},
   "source": [
    "# split\n",
    ".split() — метод string (функція, яка працює тільки з рядками),\n",
    "який розбиває рядок на список на основі деякого роздільника."
   ]
  },
  {
   "cell_type": "code",
   "execution_count": 6,
   "id": "670d6b32",
   "metadata": {},
   "outputs": [],
   "source": [
    "address = \"1600 Pennsylvania Ave NW Washington, DC\""
   ]
  },
  {
   "cell_type": "code",
   "execution_count": 9,
   "id": "4495d9d3",
   "metadata": {},
   "outputs": [
    {
     "data": {
      "text/plain": [
       "['1600', 'Pennsylvania', 'Ave', 'NW', 'Washington,', 'DC']"
      ]
     },
     "execution_count": 9,
     "metadata": {},
     "output_type": "execute_result"
    }
   ],
   "source": [
    "# У цьому прикладі ми розділяємо адресу на список \n",
    "address.split(\" \")"
   ]
  },
  {
   "cell_type": "markdown",
   "id": "fb46b8b4",
   "metadata": {},
   "source": [
    "Адреса тепер дорівнює списку:\n",
    "['1600', 'Pennsylvania', 'Ave', 'NW', 'Washington,', 'DC']\n",
    "Зверніть увагу, що створений список є списком рядків.\n",
    "\n",
    "Кожного разу, коли вам потрібно розділити рядок на кілька частин, ви можете використовувати .split()"
   ]
  },
  {
   "cell_type": "markdown",
   "id": "3f8cbc53",
   "metadata": {},
   "source": [
    "# len\n",
    "Призначення: Повертає довжину об'єкта.\n",
    "\n",
    "Використання:"
   ]
  },
  {
   "cell_type": "code",
   "execution_count": 11,
   "id": "a164e895",
   "metadata": {},
   "outputs": [
    {
     "name": "stdout",
     "output_type": "stream",
     "text": [
      "3\n",
      "6\n",
      "1\n"
     ]
    }
   ],
   "source": [
    "print(len([1, 2, 3])) # 3\n",
    "print(len(\"string\"))  # 6\n",
    "\n",
    "print(len({\"a\": 1}))"
   ]
  },
  {
   "cell_type": "markdown",
   "id": "524b4dac",
   "metadata": {},
   "source": [
    "# max\n",
    "Призначення: Повертає максимальний елемент з послідовності.\n",
    "\n",
    "Використання:"
   ]
  },
  {
   "cell_type": "code",
   "execution_count": 12,
   "id": "857ee726",
   "metadata": {},
   "outputs": [
    {
     "name": "stdout",
     "output_type": "stream",
     "text": [
      "3\n",
      "t\n"
     ]
    }
   ],
   "source": [
    "print(max([1, 2, 3]))  # 3\n",
    "print(max(\"string\"))   # 't'"
   ]
  },
  {
   "cell_type": "markdown",
   "id": "ea8c5d05",
   "metadata": {},
   "source": [
    "# min\n",
    "Призначення: Повертає мінімальний елемент з послідовності.\n",
    "\n",
    "Використання:"
   ]
  },
  {
   "cell_type": "code",
   "execution_count": 13,
   "id": "96bf3788",
   "metadata": {},
   "outputs": [
    {
     "name": "stdout",
     "output_type": "stream",
     "text": [
      "1\n",
      "g\n",
      "1\n",
      "1\n",
      "a\n"
     ]
    }
   ],
   "source": [
    "print(min([1, 2, 3]))  # 1\n",
    "print(min(\"string\"))   # 'g'\n",
    "print(min({2, 1, 4}))   # 1\n",
    "print(min((2, 1, 4)))   # 1\n",
    "print(min({\"a\": 2, \"b\": 1}))   # 'a'"
   ]
  },
  {
   "cell_type": "markdown",
   "id": "16c9a2a6",
   "metadata": {},
   "source": [
    "# sum\n",
    "Призначення: Сумує всі елементи в послідовності\n",
    "    \n",
    "Використання:"
   ]
  },
  {
   "cell_type": "code",
   "execution_count": 15,
   "id": "7e661dbc",
   "metadata": {},
   "outputs": [
    {
     "name": "stdout",
     "output_type": "stream",
     "text": [
      "6\n",
      "6\n",
      "3\n",
      "3\n"
     ]
    }
   ],
   "source": [
    "print(sum([1, 2, 3]))  # 6\n",
    "print(sum((1, 2, 3)))  # 6\n",
    "print(sum({1, 1, 2, 1}))  # 3\n",
    "print(sum({1: 1, 2: 1})) # 3"
   ]
  },
  {
   "cell_type": "markdown",
   "id": "b9476b32",
   "metadata": {},
   "source": [
    "# enumerate\n",
    "Призначення: Повертає ітератор, який виробляє пари (індекс, елемент) для кожного елемента послідовності.\n",
    "\n",
    "Використання:"
   ]
  },
  {
   "cell_type": "code",
   "execution_count": 26,
   "id": "46a11066",
   "metadata": {},
   "outputs": [
    {
     "data": {
      "text/plain": [
       "[(0, 'a'), (1, 'b'), (2, 'c')]"
      ]
     },
     "execution_count": 26,
     "metadata": {},
     "output_type": "execute_result"
    }
   ],
   "source": [
    "list(enumerate(['a', 'b', 'c']))  # [(0, 'a'), (1, 'b'), (2, 'c')]"
   ]
  },
  {
   "cell_type": "code",
   "execution_count": 16,
   "id": "e3a47230",
   "metadata": {},
   "outputs": [
    {
     "data": {
      "text/plain": [
       "[(0, 1), (1, 2)]"
      ]
     },
     "execution_count": 16,
     "metadata": {},
     "output_type": "execute_result"
    }
   ],
   "source": [
    "list(enumerate({1: 1, 2: 1}))  # [(0, 'a'), (1, 'b'), (2, 'c')]"
   ]
  },
  {
   "cell_type": "markdown",
   "id": "e72ff776",
   "metadata": {},
   "source": [
    "# range\n",
    "Призначення: Генерує послідовність чисел.\n",
    "\n",
    "Використання:\n"
   ]
  },
  {
   "cell_type": "code",
   "execution_count": 20,
   "id": "e78f3060",
   "metadata": {},
   "outputs": [
    {
     "name": "stdout",
     "output_type": "stream",
     "text": [
      "[0, 1, 2]\n",
      "[1, 2, 3]\n",
      "[1, 3, 5]\n"
     ]
    }
   ],
   "source": [
    "print(list(range(3)))      # [0, 1, 2]\n",
    "print(list(range(1, 4)))   # [1, 2, 3]\n",
    "print(list(range(1, 6, 2)))   # [1, 3, 5]"
   ]
  },
  {
   "cell_type": "markdown",
   "id": "09288237",
   "metadata": {},
   "source": [
    "# reversed\n",
    "Призначення: Повертає ітератор для оберненої послідовності.\n",
    "\n",
    "Використання:"
   ]
  },
  {
   "cell_type": "code",
   "execution_count": 21,
   "id": "261c7c24",
   "metadata": {},
   "outputs": [
    {
     "data": {
      "text/plain": [
       "[3, 2, 1]"
      ]
     },
     "execution_count": 21,
     "metadata": {},
     "output_type": "execute_result"
    }
   ],
   "source": [
    "list(reversed([1, 2, 3]))  # [3, 2, 1]"
   ]
  },
  {
   "cell_type": "markdown",
   "id": "322aeebc",
   "metadata": {},
   "source": [
    "# sorted\n",
    "Призначення: Повертає новий відсортований список з елементів вхідної послідовності.\n",
    "\n",
    "Використання:"
   ]
  },
  {
   "cell_type": "code",
   "execution_count": 25,
   "id": "28ea60fa",
   "metadata": {},
   "outputs": [
    {
     "data": {
      "text/plain": [
       "[1, 2, 3]"
      ]
     },
     "execution_count": 25,
     "metadata": {},
     "output_type": "execute_result"
    }
   ],
   "source": [
    "sorted([3, 1, 2])  # [1, 2, 3]"
   ]
  },
  {
   "cell_type": "markdown",
   "id": "54af318f",
   "metadata": {},
   "source": [
    "# zip\n",
    "Призначення: Повертає ітератор з кортежами, де перший елемент у кожному переданому аргументі об'єднаний разом, потім другий елемент і так далі.\n",
    "    \n",
    "Використання:"
   ]
  },
  {
   "cell_type": "code",
   "execution_count": 29,
   "id": "bf8646a6",
   "metadata": {},
   "outputs": [
    {
     "data": {
      "text/plain": [
       "[(1, 'a'), (2, 'b'), (3, 'c')]"
      ]
     },
     "execution_count": 29,
     "metadata": {},
     "output_type": "execute_result"
    }
   ],
   "source": [
    "list(zip([1, 2, 3], ['a', 'b', 'c']))  # [(1, 'a'), (2, 'b'), (3, 'c')]"
   ]
  },
  {
   "cell_type": "code",
   "execution_count": null,
   "id": "ad548809",
   "metadata": {},
   "outputs": [],
   "source": []
  }
 ],
 "metadata": {
  "kernelspec": {
   "display_name": "Python 3",
   "language": "python",
   "name": "python3"
  },
  "language_info": {
   "codemirror_mode": {
    "name": "ipython",
    "version": 3
   },
   "file_extension": ".py",
   "mimetype": "text/x-python",
   "name": "python",
   "nbconvert_exporter": "python",
   "pygments_lexer": "ipython3",
   "version": "3.8.10"
  }
 },
 "nbformat": 4,
 "nbformat_minor": 5
}
