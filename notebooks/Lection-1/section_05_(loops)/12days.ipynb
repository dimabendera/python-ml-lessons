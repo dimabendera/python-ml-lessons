{
 "cells": [
  {
   "cell_type": "code",
   "execution_count": null,
   "id": "2088033b",
   "metadata": {
    "lines_to_next_cell": 0
   },
   "outputs": [],
   "source": []
  },
  {
   "cell_type": "markdown",
   "id": "1c57da56",
   "metadata": {},
   "source": [
    "Дванадцять днів Різдва, стиль Python"
   ]
  },
  {
   "cell_type": "code",
   "execution_count": 1,
   "id": "287cf36b",
   "metadata": {},
   "outputs": [],
   "source": [
    "gifts = [\"A partridge in a pear tree\",\n",
    "         \"Two turtle doves\",\n",
    "         \"Three french hens\",\n",
    "         \"Four colly birds\",\n",
    "         \"Five golden rings\",\n",
    "         \"Six geese-a-laying\",\n",
    "         \"Seven swans-a-swimming\",\n",
    "         \"Eight maids-a-milking\",\n",
    "         \"Nine ladies dancing\",\n",
    "         \"Ten lords-a-leaping\",\n",
    "         \"Eleven pipers piping\",\n",
    "         \"Twelve drummers drumming\"\n",
    "         ]"
   ]
  },
  {
   "cell_type": "code",
   "execution_count": 2,
   "id": "feb05f86",
   "metadata": {},
   "outputs": [],
   "source": [
    "gifts_given = []"
   ]
  },
  {
   "cell_type": "code",
   "execution_count": 3,
   "id": "9a48e22a",
   "metadata": {},
   "outputs": [
    {
     "name": "stdout",
     "output_type": "stream",
     "text": [
      "---------------------------------------------------------\n",
      "On the 1st day of Christmas, my true love gave to me: \n",
      "---------------------------------------------------------\n",
      "\tA partridge in a pear tree\n",
      "---------------------------------------------------------\n",
      "On the 2nd day of Christmas, my true love gave to me: \n",
      "---------------------------------------------------------\n",
      "\tTwo turtle doves\n",
      "\tA partridge in a pear tree\n",
      "---------------------------------------------------------\n",
      "On the 3rd day of Christmas, my true love gave to me: \n",
      "---------------------------------------------------------\n",
      "\tThree french hens\n",
      "\tTwo turtle doves\n",
      "\tA partridge in a pear tree\n",
      "---------------------------------------------------------\n",
      "On the 4th day of Christmas, my true love gave to me: \n",
      "---------------------------------------------------------\n",
      "\tFour colly birds\n",
      "\tThree french hens\n",
      "\tTwo turtle doves\n",
      "\tA partridge in a pear tree\n",
      "---------------------------------------------------------\n",
      "On the 5th day of Christmas, my true love gave to me: \n",
      "---------------------------------------------------------\n",
      "\tFive golden rings\n",
      "\tFour colly birds\n",
      "\tThree french hens\n",
      "\tTwo turtle doves\n",
      "\tA partridge in a pear tree\n",
      "---------------------------------------------------------\n",
      "On the 6th day of Christmas, my true love gave to me: \n",
      "---------------------------------------------------------\n",
      "\tSix geese-a-laying\n",
      "\tFive golden rings\n",
      "\tFour colly birds\n",
      "\tThree french hens\n",
      "\tTwo turtle doves\n",
      "\tA partridge in a pear tree\n",
      "---------------------------------------------------------\n",
      "On the 7th day of Christmas, my true love gave to me: \n",
      "---------------------------------------------------------\n",
      "\tSeven swans-a-swimming\n",
      "\tSix geese-a-laying\n",
      "\tFive golden rings\n",
      "\tFour colly birds\n",
      "\tThree french hens\n",
      "\tTwo turtle doves\n",
      "\tA partridge in a pear tree\n",
      "---------------------------------------------------------\n",
      "On the 8th day of Christmas, my true love gave to me: \n",
      "---------------------------------------------------------\n",
      "\tEight maids-a-milking\n",
      "\tSeven swans-a-swimming\n",
      "\tSix geese-a-laying\n",
      "\tFive golden rings\n",
      "\tFour colly birds\n",
      "\tThree french hens\n",
      "\tTwo turtle doves\n",
      "\tA partridge in a pear tree\n",
      "---------------------------------------------------------\n",
      "On the 9th day of Christmas, my true love gave to me: \n",
      "---------------------------------------------------------\n",
      "\tNine ladies dancing\n",
      "\tEight maids-a-milking\n",
      "\tSeven swans-a-swimming\n",
      "\tSix geese-a-laying\n",
      "\tFive golden rings\n",
      "\tFour colly birds\n",
      "\tThree french hens\n",
      "\tTwo turtle doves\n",
      "\tA partridge in a pear tree\n",
      "---------------------------------------------------------\n",
      "On the 10th day of Christmas, my true love gave to me: \n",
      "---------------------------------------------------------\n",
      "\tTen lords-a-leaping\n",
      "\tNine ladies dancing\n",
      "\tEight maids-a-milking\n",
      "\tSeven swans-a-swimming\n",
      "\tSix geese-a-laying\n",
      "\tFive golden rings\n",
      "\tFour colly birds\n",
      "\tThree french hens\n",
      "\tTwo turtle doves\n",
      "\tA partridge in a pear tree\n",
      "---------------------------------------------------------\n",
      "On the 11th day of Christmas, my true love gave to me: \n",
      "---------------------------------------------------------\n",
      "\tEleven pipers piping\n",
      "\tTen lords-a-leaping\n",
      "\tNine ladies dancing\n",
      "\tEight maids-a-milking\n",
      "\tSeven swans-a-swimming\n",
      "\tSix geese-a-laying\n",
      "\tFive golden rings\n",
      "\tFour colly birds\n",
      "\tThree french hens\n",
      "\tTwo turtle doves\n",
      "\tA partridge in a pear tree\n",
      "---------------------------------------------------------\n",
      "On the 12th day of Christmas, my true love gave to me: \n",
      "---------------------------------------------------------\n",
      "\tTwelve drummers drumming\n",
      "\tEleven pipers piping\n",
      "\tTen lords-a-leaping\n",
      "\tNine ladies dancing\n",
      "\tEight maids-a-milking\n",
      "\tSeven swans-a-swimming\n",
      "\tSix geese-a-laying\n",
      "\tFive golden rings\n",
      "\tFour colly birds\n",
      "\tThree french hens\n",
      "\tTwo turtle doves\n",
      "\tA partridge in a pear tree\n"
     ]
    }
   ],
   "source": [
    "for day in range(1, 13):  # ідентичні заяві за день в [1,2,3,4,5,6,7,8,9,10,11,12]:\n",
    "    # використовувати list.extend() при додаванні одного або декількох елементів в кінець списку;\n",
    "    gifts_given.extend(gifts[:day])\n",
    "    # Якби ви використовували тут .append() замість .extend(), ви отримали б список списків\n",
    "    # - не зовсім те, що ми хочемо в цьому випадку.\n",
    "\n",
    "    if day == 1:\n",
    "        suffix = \"st\"\n",
    "    elif day == 2:\n",
    "        suffix = \"nd\"\n",
    "    elif day == 3:\n",
    "        suffix = \"rd\"\n",
    "    elif day >= 4:\n",
    "        suffix = \"th\"\n",
    "\n",
    "    print(\"---------------------------------------------------------\")\n",
    "    print(\"On the {0}{1} day of Christmas, my true love gave to me: \".format(day, suffix))\n",
    "    print(\"---------------------------------------------------------\")\n",
    "\n",
    "    print(\"\\t\" + \"\\n\\t\".join(reversed(gifts[:day])))"
   ]
  },
  {
   "cell_type": "code",
   "execution_count": 4,
   "id": "2895a426",
   "metadata": {},
   "outputs": [
    {
     "name": "stdout",
     "output_type": "stream",
     "text": [
      "---------------------------------------------------------\n",
      "The gifts I have received in total are: \n",
      "---------------------------------------------------------\n"
     ]
    }
   ],
   "source": [
    "print(\"---------------------------------------------------------\")\n",
    "print(\"The gifts I have received in total are: \")\n",
    "print(\"---------------------------------------------------------\")"
   ]
  },
  {
   "cell_type": "code",
   "execution_count": 5,
   "id": "2994e302",
   "metadata": {},
   "outputs": [
    {
     "name": "stdout",
     "output_type": "stream",
     "text": [
      "\tA partridge in a pear tree\n",
      "\tA partridge in a pear tree\n",
      "\tA partridge in a pear tree\n",
      "\tA partridge in a pear tree\n",
      "\tA partridge in a pear tree\n",
      "\tA partridge in a pear tree\n",
      "\tA partridge in a pear tree\n",
      "\tA partridge in a pear tree\n",
      "\tA partridge in a pear tree\n",
      "\tA partridge in a pear tree\n",
      "\tA partridge in a pear tree\n",
      "\tA partridge in a pear tree\n",
      "\tEight maids-a-milking\n",
      "\tEight maids-a-milking\n",
      "\tEight maids-a-milking\n",
      "\tEight maids-a-milking\n",
      "\tEight maids-a-milking\n",
      "\tEleven pipers piping\n",
      "\tEleven pipers piping\n",
      "\tFive golden rings\n",
      "\tFive golden rings\n",
      "\tFive golden rings\n",
      "\tFive golden rings\n",
      "\tFive golden rings\n",
      "\tFive golden rings\n",
      "\tFive golden rings\n",
      "\tFive golden rings\n",
      "\tFour colly birds\n",
      "\tFour colly birds\n",
      "\tFour colly birds\n",
      "\tFour colly birds\n",
      "\tFour colly birds\n",
      "\tFour colly birds\n",
      "\tFour colly birds\n",
      "\tFour colly birds\n",
      "\tFour colly birds\n",
      "\tNine ladies dancing\n",
      "\tNine ladies dancing\n",
      "\tNine ladies dancing\n",
      "\tNine ladies dancing\n",
      "\tSeven swans-a-swimming\n",
      "\tSeven swans-a-swimming\n",
      "\tSeven swans-a-swimming\n",
      "\tSeven swans-a-swimming\n",
      "\tSeven swans-a-swimming\n",
      "\tSeven swans-a-swimming\n",
      "\tSix geese-a-laying\n",
      "\tSix geese-a-laying\n",
      "\tSix geese-a-laying\n",
      "\tSix geese-a-laying\n",
      "\tSix geese-a-laying\n",
      "\tSix geese-a-laying\n",
      "\tSix geese-a-laying\n",
      "\tTen lords-a-leaping\n",
      "\tTen lords-a-leaping\n",
      "\tTen lords-a-leaping\n",
      "\tThree french hens\n",
      "\tThree french hens\n",
      "\tThree french hens\n",
      "\tThree french hens\n",
      "\tThree french hens\n",
      "\tThree french hens\n",
      "\tThree french hens\n",
      "\tThree french hens\n",
      "\tThree french hens\n",
      "\tThree french hens\n",
      "\tTwelve drummers drumming\n",
      "\tTwo turtle doves\n",
      "\tTwo turtle doves\n",
      "\tTwo turtle doves\n",
      "\tTwo turtle doves\n",
      "\tTwo turtle doves\n",
      "\tTwo turtle doves\n",
      "\tTwo turtle doves\n",
      "\tTwo turtle doves\n",
      "\tTwo turtle doves\n",
      "\tTwo turtle doves\n",
      "\tTwo turtle doves\n"
     ]
    }
   ],
   "source": [
    "print(\"\\t\" + \"\\n\\t\".join(sorted(gifts_given)))"
   ]
  },
  {
   "cell_type": "code",
   "execution_count": 6,
   "id": "3f9c0f92",
   "metadata": {},
   "outputs": [
    {
     "name": "stdout",
     "output_type": "stream",
     "text": [
      "---------------------------------------------------------\n",
      "Over all twelve days I received: \n",
      "---------------------------------------------------------\n"
     ]
    }
   ],
   "source": [
    "print(\"---------------------------------------------------------\")\n",
    "print(\"Over all twelve days I received: \")\n",
    "print(\"---------------------------------------------------------\")"
   ]
  },
  {
   "cell_type": "code",
   "execution_count": 7,
   "id": "e6a9c9c4",
   "metadata": {},
   "outputs": [],
   "source": [
    "total_gifts = 0"
   ]
  },
  {
   "cell_type": "code",
   "execution_count": 8,
   "id": "fff74516",
   "metadata": {},
   "outputs": [
    {
     "name": "stdout",
     "output_type": "stream",
     "text": [
      "12 of partridge in a pear tree\n",
      "22 of turtle doves\n",
      "30 of french hens\n",
      "36 of colly birds\n",
      "40 of golden rings\n",
      "42 of geese-a-laying\n",
      "42 of swans-a-swimming\n",
      "40 of maids-a-milking\n",
      "36 of ladies dancing\n",
      "30 of lords-a-leaping\n",
      "22 of pipers piping\n",
      "12 of drummers drumming\n"
     ]
    }
   ],
   "source": [
    "for repetitions, day in zip(reversed(list(range(1, 13))), list(range(1, 13))):\n",
    "    # Тут відбувається складна нарізка!\n",
    "    print(\"{0} of {1}\".format(repetitions * day, gifts[day-1][gifts[day-1].index(' ')+1:]))\n",
    "    total_gifts += repetitions * day"
   ]
  },
  {
   "cell_type": "code",
   "execution_count": 9,
   "id": "e9f71fc7",
   "metadata": {},
   "outputs": [
    {
     "name": "stdout",
     "output_type": "stream",
     "text": [
      "I received 364 gifts in total\n"
     ]
    }
   ],
   "source": [
    "print(\"I received {0} gifts in total\".format(total_gifts))"
   ]
  },
  {
   "cell_type": "markdown",
   "id": "108a8173",
   "metadata": {},
   "source": [
    "Примітка про складну нарізку:"
   ]
  },
  {
   "cell_type": "markdown",
   "id": "fae2d0bf",
   "metadata": {},
   "source": [
    "Перше слово в кожному подарунку - скільки було отримано в той день.\n",
    "Таким чином, я можу отримати доступ до самого подарунка (а не до отриманого номера) за допомогою\n",
    "розрізання повз індекс першого пробілу в кожному рядку."
   ]
  },
  {
   "cell_type": "markdown",
   "id": "d6bfadfb",
   "metadata": {},
   "source": [
    "gifts[day-1] це поточний подарунок, який представляє собою рядок, що містить назву подарунка (включно з номером)\n",
    "Нарізка на цьому рядку (починаючи з індексу, де відбувається перший пробіл)\n",
    "дозволяє нам вийняти номер і просто отримати сам подарунок."
   ]
  },
  {
   "cell_type": "markdown",
   "id": "92572958",
   "metadata": {},
   "source": [
    "Отже, іншими словами:"
   ]
  },
  {
   "cell_type": "markdown",
   "id": "f1b91f34",
   "metadata": {},
   "source": [
    "gifts = [\"A partridge in a pear tree\", ... ]\n",
    "Оскільки подарунки - це список, ми можемо отримати доступ до подарункових предметів шляхом нарізки."
   ]
  },
  {
   "cell_type": "markdown",
   "id": "5f9ad78e",
   "metadata": {},
   "source": [
    "gifts[2] – рядок, \"Three french hens\"\n",
    "gifts[2][0] – рядок, \"T\""
   ]
  },
  {
   "cell_type": "markdown",
   "id": "fffd55b0",
   "metadata": {},
   "source": [
    "Але ми не хочемо починати з gifts[2][0].\n",
    "Ми хочемо почати з gifts[2][5] -але кожного разу це не буде 5; Для кожного подарунка вона буде різною."
   ]
  },
  {
   "cell_type": "markdown",
   "id": "371811b0",
   "metadata": {},
   "source": [
    "Якби ми зробили \"Three french hens\".index(' ')+1, Ми отримаємо індекс лише за першим пробілом, який з'явиться."
   ]
  },
  {
   "cell_type": "markdown",
   "id": "5aabce6d",
   "metadata": {},
   "source": [
    "Отже, ми вставляємо це в індекс другого фрагмента і додаємо : щоб гарантувати, що він триватиме до кінця."
   ]
  },
  {
   "cell_type": "markdown",
   "id": "659a0c07",
   "metadata": {},
   "source": [
    "Так: gifts[day-1][gifts[day-1].index(' ')+1:]"
   ]
  }
 ],
 "metadata": {
  "jupytext": {
   "cell_metadata_filter": "-all",
   "main_language": "python",
   "notebook_metadata_filter": "-all"
  },
  "kernelspec": {
   "display_name": "Python 3",
   "language": "python",
   "name": "python3"
  },
  "language_info": {
   "codemirror_mode": {
    "name": "ipython",
    "version": 3
   },
   "file_extension": ".py",
   "mimetype": "text/x-python",
   "name": "python",
   "nbconvert_exporter": "python",
   "pygments_lexer": "ipython3",
   "version": "3.8.10"
  }
 },
 "nbformat": 4,
 "nbformat_minor": 5
}
