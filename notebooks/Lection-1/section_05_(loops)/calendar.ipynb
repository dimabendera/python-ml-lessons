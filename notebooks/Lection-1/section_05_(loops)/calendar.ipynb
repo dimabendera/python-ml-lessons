{
 "cells": [
  {
   "cell_type": "code",
   "execution_count": 1,
   "id": "4124d1ff",
   "metadata": {},
   "outputs": [],
   "source": [
    "months_in_year = ['Jan', 'Feb', 'Mar', 'Apr', 'May', 'Jun', 'Jul', 'Aug', 'Sep', 'Oct', 'Nov', 'Dec']"
   ]
  },
  {
   "cell_type": "code",
   "execution_count": 2,
   "id": "0c4f0b20",
   "metadata": {},
   "outputs": [],
   "source": [
    "days_of_week = ['Mon', 'Tue', 'Wed', 'Thu', 'Fri', 'Sat', 'Sun']"
   ]
  },
  {
   "cell_type": "code",
   "execution_count": 3,
   "id": "9b1c7eb3",
   "metadata": {},
   "outputs": [
    {
     "name": "stdout",
     "output_type": "stream",
     "text": [
      "\n",
      "\n",
      "Jan\n",
      "\n",
      "\n",
      "Week 1\n",
      "Sat\n",
      "Sun\n",
      "Week 2\n",
      "Sat\n",
      "Sun\n",
      "Week 3\n",
      "Sat\n",
      "Sun\n",
      "Week 4\n",
      "Sat\n",
      "Sun\n",
      "\n",
      "\n",
      "Feb\n",
      "\n",
      "\n",
      "Week 1\n",
      "Sat\n",
      "Sun\n",
      "Week 2\n",
      "Sat\n",
      "Sun\n",
      "Week 3\n",
      "Sat\n",
      "Sun\n",
      "Week 4\n",
      "Sat\n",
      "Sun\n",
      "\n",
      "\n",
      "Mar\n",
      "\n",
      "\n",
      "Week 1\n",
      "Sat\n",
      "Sun\n",
      "Week 2\n",
      "Sat\n",
      "Sun\n",
      "Week 3\n",
      "Sat\n",
      "Sun\n",
      "Week 4\n",
      "Sat\n",
      "Sun\n",
      "\n",
      "\n",
      "Apr\n",
      "\n",
      "\n",
      "Week 1\n",
      "Sat\n",
      "Sun\n",
      "Week 2\n",
      "Sat\n",
      "Sun\n",
      "Week 3\n",
      "Sat\n",
      "Sun\n",
      "Week 4\n",
      "Sat\n",
      "Sun\n",
      "\n",
      "\n",
      "May\n",
      "\n",
      "\n",
      "Week 1\n",
      "Sat\n",
      "Sun\n",
      "Week 2\n",
      "Sat\n",
      "Sun\n",
      "Week 3\n",
      "Sat\n",
      "Sun\n",
      "Week 4\n",
      "Sat\n",
      "Sun\n",
      "\n",
      "\n",
      "Jun\n",
      "\n",
      "\n",
      "Week 1\n",
      "Sat\n",
      "Sun\n",
      "Week 2\n",
      "Sat\n",
      "Sun\n",
      "Week 3\n",
      "Sat\n",
      "Sun\n",
      "Week 4\n",
      "Sat\n",
      "Sun\n"
     ]
    }
   ],
   "source": [
    "# Зверніть увагу, як у рядку 6 ми розрізаємо список,\n",
    "# який ми зациклюємо, замість того, щоб циклічно переглядати весь список місяців.\n",
    "for month in months_in_year[0:6]:  # На кожен місяць у перші півроку ...\n",
    "\tprint(\"\\n\")\n",
    "\tprint(month)\n",
    "\tprint(\"\\n\")\n",
    "\n",
    "\tfor week in range(1, 5):\n",
    "\t\tprint(\"Week {0}\".format(week))\n",
    "\n",
    "\t\t# Зверніть увагу, що ми знову нарізаємо в рядку 15, а не циклічно протягом усього тижня.\n",
    "\t\tfor day in days_of_week[-2:]:  # За останні два дні тижня (субота та неділя)\n",
    "\t\t\t\tprint(day)"
   ]
  },
  {
   "cell_type": "markdown",
   "id": "32b0d069",
   "metadata": {},
   "source": [
    "Прибравши нарізку з рядків 6 і 15, отримуємо повний рік (або хоча б 12 місяців при 4 тижнях по 7 днів)"
   ]
  }
 ],
 "metadata": {
  "jupytext": {
   "cell_metadata_filter": "-all",
   "main_language": "python",
   "notebook_metadata_filter": "-all"
  },
  "kernelspec": {
   "display_name": "Python 3",
   "language": "python",
   "name": "python3"
  },
  "language_info": {
   "codemirror_mode": {
    "name": "ipython",
    "version": 3
   },
   "file_extension": ".py",
   "mimetype": "text/x-python",
   "name": "python",
   "nbconvert_exporter": "python",
   "pygments_lexer": "ipython3",
   "version": "3.8.10"
  }
 },
 "nbformat": 4,
 "nbformat_minor": 5
}
