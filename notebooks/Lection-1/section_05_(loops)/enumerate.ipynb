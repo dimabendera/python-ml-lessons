{
 "cells": [
  {
   "cell_type": "markdown",
   "id": "8059e722",
   "metadata": {},
   "source": [
    "enumerate() приклад"
   ]
  },
  {
   "cell_type": "markdown",
   "id": "eaae8c07",
   "metadata": {},
   "source": [
    "enumerate() використовується для циклічного перегляду списку та для кожного елемента списку,\n",
    "щоб також надати індекс, де цей елемент можна знайти"
   ]
  },
  {
   "cell_type": "code",
   "execution_count": null,
   "id": "1b83cf06",
   "metadata": {},
   "outputs": [],
   "source": [
    "days = ['Monday', 'Tuesday', 'Wednesday', 'Thursday', 'Friday', 'Saturday', 'Sunday']"
   ]
  },
  {
   "cell_type": "code",
   "execution_count": null,
   "id": "e4ee7ab3",
   "metadata": {
    "lines_to_next_cell": 2
   },
   "outputs": [],
   "source": [
    "# Ось як ми звикли циклічно - для кожного елемента в цьому списку надрукуйте цей елемент\n",
    "for day in days:\n",
    "\tprint(day)"
   ]
  },
  {
   "cell_type": "code",
   "execution_count": null,
   "id": "8bbbc89c",
   "metadata": {
    "lines_to_next_cell": 2
   },
   "outputs": [],
   "source": [
    "# Тепер додаємо шар складності.  Зверніть увагу, як дві змінні (індекс, день) створюються циклом for.\n",
    "for index, day in enumerate(days):\n",
    "\tprint(\"days[{0}] contains {1}\".format(index, day))\n",
    "\tprint(\"day contains {0}\".format(day))"
   ]
  },
  {
   "cell_type": "code",
   "execution_count": null,
   "id": "a7e4c61b",
   "metadata": {},
   "outputs": [],
   "source": [
    "# Since we humans aren't counting days by zero, we do a little addition inside the .format()\n",
    "for index, day in enumerate(days):\n",
    "\tprint(\"{0} is day # {1}\".format(day, index+1))"
   ]
  }
 ],
 "metadata": {
  "jupytext": {
   "cell_metadata_filter": "-all",
   "main_language": "python",
   "notebook_metadata_filter": "-all"
  }
 },
 "nbformat": 4,
 "nbformat_minor": 5
}
