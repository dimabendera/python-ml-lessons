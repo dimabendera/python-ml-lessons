{
 "cells": [
  {
   "cell_type": "markdown",
   "id": "0a5336d4",
   "metadata": {},
   "source": [
    "Почніть зі створення чотирьох списків квадрантів.  Ми дізнаємося про кращий спосіб зробити це на наступному уроці."
   ]
  },
  {
   "cell_type": "code",
   "execution_count": null,
   "id": "2c3b1bc1",
   "metadata": {},
   "outputs": [],
   "source": [
    "nw_addresses = []\n",
    "ne_addresses = []\n",
    "sw_addresses = []\n",
    "se_addresses = []\n",
    "no_quadrant = []"
   ]
  },
  {
   "cell_type": "code",
   "execution_count": null,
   "id": "c95e6992",
   "metadata": {
    "lines_to_next_cell": 2
   },
   "outputs": [],
   "source": [
    "for entry in range(3):  # Зробіть це три рази:\n",
    "    address = input(\"What is your address? \")  # отримати адресу від користувача\n",
    "\n",
    "    address = address.split(\" \")  # Розділення адреси на список на основі пробілів\n",
    "\n",
    "    if 'NW' in address:\n",
    "        # якщо в адресі відображається \"NW\", додайте адресу (приєднану назад у вигляді рядка) до відповідного списку\n",
    "        nw_addresses.append(' '.join(address))\n",
    "    elif 'NE' in address:\n",
    "        ne_addresses.append(' '.join(address))\n",
    "    elif 'SW' in address:\n",
    "        sw_addresses.append(' '.join(address))\n",
    "    elif 'SE' in address:\n",
    "        se_addresses.append(' '.join(address))\n",
    "    else:\n",
    "        # У всіх інших випадках\n",
    "        no_quadrant.append(' '.join(address))"
   ]
  },
  {
   "cell_type": "code",
   "execution_count": null,
   "id": "92616dff",
   "metadata": {},
   "outputs": [],
   "source": [
    "print(\"NW addresses include: {0}\".format(nw_addresses))\n",
    "print(\"NE addresses include: {0}\".format(ne_addresses))\n",
    "print(\"SW addresses include: {0}\".format(sw_addresses))\n",
    "print(\"SE addresses include: {0}\".format(se_addresses))\n",
    "print(\"Addresses without a quadrant include: {0}\".format(no_quadrant))"
   ]
  },
  {
   "cell_type": "markdown",
   "id": "86b22e66",
   "metadata": {},
   "source": [
    "Про що варто подумати:"
   ]
  },
  {
   "cell_type": "markdown",
   "id": "e64fbf1b",
   "metadata": {},
   "source": [
    "1) До якого списку буде додано 1500 CORNWALL ST? Чому так?\n",
    "2) Іншими словами, як працює оператор 'in', коли ви використовуєте його в рядку проти списку?\n",
    "3) Подумайте про це по-іншому, якби ви прокоментували рядок 12 і провели цю адресу, ви отримали б інший результат."
   ]
  }
 ],
 "metadata": {
  "jupytext": {
   "cell_metadata_filter": "-all",
   "main_language": "python",
   "notebook_metadata_filter": "-all"
  }
 },
 "nbformat": 4,
 "nbformat_minor": 5
}
