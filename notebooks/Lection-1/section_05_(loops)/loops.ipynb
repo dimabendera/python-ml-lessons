{
 "cells": [
  {
   "cell_type": "code",
   "execution_count": null,
   "id": "b76002df",
   "metadata": {
    "lines_to_next_cell": 0
   },
   "outputs": [],
   "source": []
  },
  {
   "cell_type": "code",
   "execution_count": null,
   "id": "d35ac00b",
   "metadata": {
    "lines_to_next_cell": 2
   },
   "outputs": [],
   "source": [
    "def loop_example(list_to_loop_through):\n",
    "\n",
    "    \"\"\" Assuming each item in list_to_loop_through is a number, return a list of each item in that list squared. \"\"\"\n",
    "\n",
    "    print(\"I'm going to begin to loop through this list: \", list_to_loop_through, \"\\n\")\n",
    "\n",
    "    list_items_squared = []\n",
    "\n",
    "    for each_item in list_to_loop_through:\n",
    "\n",
    "        print(\"Now I'm on: \", each_item)\n",
    "        print(\"{0} squared is {1}\\n\".format(each_item, each_item**2))\n",
    "        \n",
    "        list_items_squared.append(each_item**2)\n",
    "\n",
    "    print(\"Now I'm done looping through the list, and I'm going to return the new list, \"\n",
    "          \"where each list item has been squared.\")\n",
    "\n",
    "    return list_items_squared"
   ]
  },
  {
   "cell_type": "markdown",
   "id": "7703b32f",
   "metadata": {},
   "source": [
    "Sample Output\n",
    "\n",
    ">>> my_list = [1, 3, 4, 5, 6, 78, 2334]\n",
    ">>> loop_example(my_list)\n",
    "I'm going to begin to loop through this list:  [1, 3, 4, 5, 6, 78, 2334]\n",
    "Now I'm on:  1\n",
    "1 squared is 1\n",
    "\n",
    "Now I'm on:  3\n",
    "3 squared is 9\n",
    "\n",
    "Now I'm on:  4\n",
    "4 squared is 16\n",
    "\n",
    "Now I'm on:  5\n",
    "5 squared is 25\n",
    "\n",
    "Now I'm on:  6\n",
    "6 squared is 36\n",
    "\n",
    "Now I'm on:  78\n",
    "78 squared is 6084\n",
    "\n",
    "Now I'm on:  2334\n",
    "2334 squared is 5447556\n",
    "\n",
    "[1, 9, 16, 25, 36, 6084, 5447556]"
   ]
  }
 ],
 "metadata": {
  "jupytext": {
   "cell_metadata_filter": "-all",
   "main_language": "python",
   "notebook_metadata_filter": "-all"
  }
 },
 "nbformat": 4,
 "nbformat_minor": 5
}
