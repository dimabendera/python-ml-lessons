{
 "cells": [
  {
   "cell_type": "code",
   "execution_count": 1,
   "id": "c91dd9ab",
   "metadata": {},
   "outputs": [],
   "source": [
    "days_of_week = ['Monday', 'Tuesday', 'Wednesday', 'Thursday', 'Friday', 'Saturday', 'Sunday']\n",
    "foods_of_day = ['Manicotti', 'Tacos', 'Waffles', 'Raspberries', 'Franks', 'Salad', 'Soup']"
   ]
  },
  {
   "cell_type": "code",
   "execution_count": 2,
   "id": "382b27f6",
   "metadata": {
    "lines_to_next_cell": 2
   },
   "outputs": [
    {
     "name": "stdout",
     "output_type": "stream",
     "text": [
      "Today is Monday\n",
      "Today is Tuesday\n",
      "Today is Wednesday\n",
      "Today is Thursday\n",
      "Today is Friday\n",
      "Today is Saturday\n",
      "Today is Sunday\n",
      "\n",
      "\n"
     ]
    }
   ],
   "source": [
    "# Приклад #1\n",
    "for day in days_of_week:\n",
    "    print(\"Today is {0}\".format(day))\n",
    "print(\"\\n\")"
   ]
  },
  {
   "cell_type": "code",
   "execution_count": 3,
   "id": "786c617f",
   "metadata": {},
   "outputs": [
    {
     "name": "stdout",
     "output_type": "stream",
     "text": [
      "Today is the 0th day of the week, which is Monday\n",
      "So day_of_week[0] is: Monday, which is the same as day, which is: Monday\n",
      "Today is the 1th day of the week, which is Tuesday\n",
      "So day_of_week[1] is: Tuesday, which is the same as day, which is: Tuesday\n",
      "Today is the 2th day of the week, which is Wednesday\n",
      "So day_of_week[2] is: Wednesday, which is the same as day, which is: Wednesday\n",
      "Today is the 3th day of the week, which is Thursday\n",
      "So day_of_week[3] is: Thursday, which is the same as day, which is: Thursday\n",
      "Today is the 4th day of the week, which is Friday\n",
      "So day_of_week[4] is: Friday, which is the same as day, which is: Friday\n",
      "Today is the 5th day of the week, which is Saturday\n",
      "So day_of_week[5] is: Saturday, which is the same as day, which is: Saturday\n",
      "Today is the 6th day of the week, which is Sunday\n",
      "So day_of_week[6] is: Sunday, which is the same as day, which is: Sunday\n",
      "\n",
      "\n"
     ]
    }
   ],
   "source": [
    "# Приклад #2: Перерахувати (повертає індекс елемента списку)\n",
    "for (index, day) in enumerate(days_of_week):\n",
    "    # Будь ласка, вибачте/ігноруйте 0-й день та граматику для \"1-го\", \"2-го\", \"3-го\"\n",
    "    print(\"Today is the {0}th day of the week, which is {1}\".format(index, day))\n",
    "\n",
    "    # У цьому циклі за допомогою enumerate ми можемо отримати доступ до значень елементів списку двома способами:\n",
    "    # безпосередньо за допомогою циклічної змінної day (що краще) або за допомогою індексу.\n",
    "    print(\"So day_of_week[{0}] is: {1}, which is the same as day, which is: {2}\".format(index,\n",
    "                                                                                        days_of_week[index],\n",
    "                                                                                        day))\n",
    "print(\"\\n\")"
   ]
  },
  {
   "cell_type": "code",
   "execution_count": 4,
   "id": "70de82eb",
   "metadata": {},
   "outputs": [
    {
     "name": "stdout",
     "output_type": "stream",
     "text": [
      "Today is Monday so obviously I'm having Manicotti for dinner.\n",
      "Today is Tuesday so obviously I'm having Tacos for dinner.\n",
      "Today is Wednesday so obviously I'm having Waffles for dinner.\n",
      "Today is Thursday so obviously I'm having Raspberries for dinner.\n",
      "Today is Friday so obviously I'm having Franks for dinner.\n",
      "Today is Saturday so obviously I'm having Salad for dinner.\n",
      "Today is Sunday so obviously I'm having Soup for dinner.\n"
     ]
    }
   ],
   "source": [
    "# Приклад #3: Zip\n",
    "for (day, food) in zip(days_of_week, foods_of_day):\n",
    "    print(\"Today is {0} so obviously I'm having {1} for dinner.\".format(day, food))"
   ]
  },
  {
   "cell_type": "markdown",
   "id": "c54e6e9f",
   "metadata": {},
   "source": [
    "ПРИМІТКА: zip покладається на те, що кожен список має однакову довжину! Якщо списки не однакової довжини,\n",
    "zip буде циклічно переглядати лише стільки елементів, скільки є в коротшому списку!"
   ]
  }
 ],
 "metadata": {
  "jupytext": {
   "cell_metadata_filter": "-all",
   "main_language": "python",
   "notebook_metadata_filter": "-all"
  },
  "kernelspec": {
   "display_name": "Python 3",
   "language": "python",
   "name": "python3"
  },
  "language_info": {
   "codemirror_mode": {
    "name": "ipython",
    "version": 3
   },
   "file_extension": ".py",
   "mimetype": "text/x-python",
   "name": "python",
   "nbconvert_exporter": "python",
   "pygments_lexer": "ipython3",
   "version": "3.8.10"
  }
 },
 "nbformat": 4,
 "nbformat_minor": 5
}
