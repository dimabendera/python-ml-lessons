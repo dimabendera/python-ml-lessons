{
 "cells": [
  {
   "cell_type": "code",
   "execution_count": null,
   "id": "c91dd9ab",
   "metadata": {},
   "outputs": [],
   "source": [
    "days_of_week = ['Monday', 'Tuesday', 'Wednesday', 'Thursday', 'Friday', 'Saturday', 'Sunday']\n",
    "foods_of_day = ['Manicotti', 'Tacos', 'Waffles', 'Raspberries', 'Franks', 'Salad', 'Soup']"
   ]
  },
  {
   "cell_type": "code",
   "execution_count": null,
   "id": "382b27f6",
   "metadata": {
    "lines_to_next_cell": 2
   },
   "outputs": [],
   "source": [
    "# Приклад #1\n",
    "for day in days_of_week:\n",
    "    print(\"Today is {0}\".format(day))\n",
    "print(\"\\n\")"
   ]
  },
  {
   "cell_type": "code",
   "execution_count": null,
   "id": "786c617f",
   "metadata": {},
   "outputs": [],
   "source": [
    "# Приклад #2: Перерахувати (повертає індекс елемента списку)\n",
    "for (index, day) in enumerate(days_of_week):\n",
    "    # Будь ласка, вибачте/ігноруйте 0-й день та граматику для \"1-го\", \"2-го\", \"3-го\"\n",
    "    print(\"Today is the {0}th day of the week, which is {1}\".format(index, day))\n",
    "\n",
    "    # У цьому циклі за допомогою enumerate ми можемо отримати доступ до значень елементів списку двома способами:\n",
    "    # безпосередньо за допомогою циклічної змінної day (що краще) або за допомогою індексу.\n",
    "    print(\"So day_of_week[{0}] is: {1}, which is the same as day, which is: {2}\".format(index,\n",
    "                                                                                        days_of_week[index],\n",
    "                                                                                        day))\n",
    "print(\"\\n\")"
   ]
  },
  {
   "cell_type": "code",
   "execution_count": null,
   "id": "70de82eb",
   "metadata": {},
   "outputs": [],
   "source": [
    "# Приклад #3: Zip\n",
    "for (day, food) in zip(days_of_week, foods_of_day):\n",
    "    print(\"Today is {0} so obviously I'm having {1} for dinner.\".format(day, food))"
   ]
  },
  {
   "cell_type": "markdown",
   "id": "c54e6e9f",
   "metadata": {},
   "source": [
    "ПРИМІТКА: zip покладається на те, що кожен список має однакову довжину! Якщо списки не однакової довжини,\n",
    "zip буде циклічно переглядати лише стільки елементів, скільки є в коротшому списку!"
   ]
  }
 ],
 "metadata": {
  "jupytext": {
   "cell_metadata_filter": "-all",
   "main_language": "python",
   "notebook_metadata_filter": "-all"
  }
 },
 "nbformat": 4,
 "nbformat_minor": 5
}
