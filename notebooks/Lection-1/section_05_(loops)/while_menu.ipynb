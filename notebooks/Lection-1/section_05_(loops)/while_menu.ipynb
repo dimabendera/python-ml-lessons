{
 "cells": [
  {
   "cell_type": "code",
   "execution_count": null,
   "id": "5051bedc",
   "metadata": {},
   "outputs": [],
   "source": []
  },
  {
   "cell_type": "code",
   "execution_count": 1,
   "id": "5e87737b",
   "metadata": {},
   "outputs": [],
   "source": [
    "instructions = \"\"\"Введіть однобуквену команду та натисніть Enter:\n",
    "A, щоб додати ім'я до списку\n",
    "R, щоб видалити ім'я зі списку\n",
    "S, щоб відобразити імена у списку\n",
    "Q, щоб вийти\n",
    ">\"\"\""
   ]
  },
  {
   "cell_type": "code",
   "execution_count": 2,
   "id": "60a13809",
   "metadata": {},
   "outputs": [],
   "source": [
    "allowed_commands = ['a', 'r', 's', 'q']\n",
    "names = []"
   ]
  },
  {
   "cell_type": "code",
   "execution_count": null,
   "id": "c53da736",
   "metadata": {},
   "outputs": [],
   "source": [
    "command = input(instructions)"
   ]
  },
  {
   "cell_type": "code",
   "execution_count": null,
   "id": "4f12556e",
   "metadata": {},
   "outputs": [],
   "source": [
    "while command.lower() in allowed_commands:\n",
    "    \n",
    "    if command.lower() == 'a':\n",
    "        name = input(\"Введіть ім'я, яке потрібно додати до списку. \")\n",
    "        names.append(name)\n",
    "    elif command.lower() == 'r':\n",
    "        name = input(\"Введіть ім'я, яке потрібно видалити зі списку: \")\n",
    "        # Це видалить перший екземпляр цього імені, який з'явиться; Якщо дублікати є, буде видалений тільки перший\n",
    "        names.pop(names.index(name))\n",
    "    elif command.lower() == 's':\n",
    "        print('\\n'.join(names))\n",
    "    elif command.lower() == 'q':\n",
    "        break  # Це вирветься з циклу While\n",
    "\n",
    "    command = input(instructions)"
   ]
  }
 ],
 "metadata": {
  "jupytext": {
   "cell_metadata_filter": "-all",
   "main_language": "python",
   "notebook_metadata_filter": "-all"
  },
  "kernelspec": {
   "display_name": "Python 3",
   "language": "python",
   "name": "python3"
  },
  "language_info": {
   "codemirror_mode": {
    "name": "ipython",
    "version": 3
   },
   "file_extension": ".py",
   "mimetype": "text/x-python",
   "name": "python",
   "nbconvert_exporter": "python",
   "pygments_lexer": "ipython3",
   "version": "3.8.10"
  }
 },
 "nbformat": 4,
 "nbformat_minor": 5
}
