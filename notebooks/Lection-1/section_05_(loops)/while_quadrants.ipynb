{
 "cells": [
  {
   "cell_type": "code",
   "execution_count": null,
   "id": "7b4aa4f4",
   "metadata": {
    "lines_to_next_cell": 0
   },
   "outputs": [],
   "source": []
  },
  {
   "cell_type": "code",
   "execution_count": null,
   "id": "09242b8a",
   "metadata": {},
   "outputs": [],
   "source": [
    "nw_addresses = []\n",
    "ne_addresses = []\n",
    "sw_addresses = []\n",
    "se_addresses = []\n",
    "no_quadrant = []"
   ]
  },
  {
   "cell_type": "code",
   "execution_count": null,
   "id": "bec81743",
   "metadata": {},
   "outputs": [],
   "source": [
    "address = input(\"Enter an address: \")"
   ]
  },
  {
   "cell_type": "code",
   "execution_count": null,
   "id": "3e45f811",
   "metadata": {
    "lines_to_next_cell": 2
   },
   "outputs": [],
   "source": [
    "# Кожного разу, коли він досягає кінця циклу, він запитує:\n",
    "# як тільки ви видалите всі зайві пробіли, адреса є порожнім рядком?\n",
    "while address.strip() != \"\":\n",
    "    \n",
    "    address = address.split(\" \") # Розділення адреси на список на основі пробілів\n",
    "\n",
    "    if 'NW' in address:\n",
    "        # якщо в адресі відображається \"NW\", додайте адресу (приєднану назад у вигляді рядка) до відповідного списку\n",
    "        nw_addresses.append(' '.join(address))\n",
    "    elif 'NE' in address:\n",
    "        ne_addresses.append(' '.join(address))\n",
    "    elif 'SW' in address:\n",
    "        sw_addresses.append(' '.join(address))\n",
    "    elif 'SE' in address:\n",
    "        se_addresses.append(' '.join(address))\n",
    "    else:\n",
    "        # У всіх інших випадках\n",
    "        no_quadrant.append(' '.join(address))\n",
    "    # Дуже важливо, щоб ми включили цей рядок, щоб дати йому можливість змінити значення, яке перевіряє цикл time.\n",
    "    address = input(\"Enter an address: \")"
   ]
  },
  {
   "cell_type": "code",
   "execution_count": null,
   "id": "9aad232d",
   "metadata": {},
   "outputs": [],
   "source": [
    "print(\"NW addresses include: {0}\".format(nw_addresses))\n",
    "print(\"NE addresses include: {0}\".format(ne_addresses))\n",
    "print(\"SW addresses include: {0}\".format(sw_addresses))\n",
    "print(\"SE addresses include: {0}\".format(se_addresses))\n",
    "print(\"Addresses without a quadrant include: {0}\".format(no_quadrant))"
   ]
  },
  {
   "cell_type": "markdown",
   "id": "64118aa2",
   "metadata": {},
   "source": [
    "Це дуже схоже на for_quadrants.py приклад, але є деякі ключові відмінності."
   ]
  },
  {
   "cell_type": "markdown",
   "id": "9cd913c4",
   "metadata": {},
   "source": [
    "Зокрема, в for_quadrants.py потрібно вказати, скільки адрес приймати.\n",
    "Ця програма дозволить продовжувати вводити адреси до тих пір, поки ви не введете порожній рядок\n",
    "На старих комп'ютерах це чимось схоже на те, як вони змушували працювати \"Натисніть будь-яку клавішу для продовження\""
   ]
  }
 ],
 "metadata": {
  "jupytext": {
   "cell_metadata_filter": "-all",
   "main_language": "python",
   "notebook_metadata_filter": "-all"
  }
 },
 "nbformat": 4,
 "nbformat_minor": 5
}
