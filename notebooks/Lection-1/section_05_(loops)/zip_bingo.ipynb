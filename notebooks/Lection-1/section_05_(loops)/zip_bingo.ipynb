{
 "cells": [
  {
   "cell_type": "markdown",
   "id": "ce08860e",
   "metadata": {},
   "source": [
    "Базове бінго з використанням zip()"
   ]
  },
  {
   "cell_type": "code",
   "execution_count": null,
   "id": "198a0803",
   "metadata": {},
   "outputs": [],
   "source": [
    "words = ['apple', 'banana', 'carrot', 'danke', 'elephant', 'fruit', 'gorilla', 'horse, michael', 'ice cream',\n",
    "         'jack, one eye', 'kazoo', 'lollerskates', 'mango', 'noodles', 'oboe', 'porcupine', 'quill', 'rowboat',\n",
    "         'sailboat', 'trolley', 'umbrella', 'voltage', 'watermelon', 'xylophobe', 'yarn', 'zebra-clops']"
   ]
  },
  {
   "cell_type": "code",
   "execution_count": null,
   "id": "8dae4126",
   "metadata": {},
   "outputs": [],
   "source": [
    "print(\"words has {0} words in the list.\".format(len(words)))"
   ]
  },
  {
   "cell_type": "code",
   "execution_count": null,
   "id": "c1b54e38",
   "metadata": {},
   "outputs": [],
   "source": [
    "output = ''"
   ]
  },
  {
   "cell_type": "markdown",
   "id": "376b3dd5",
   "metadata": {},
   "source": [
    "Звичайний для циклів дозволяє циклічно переглядати список і робити щось для кожного елемента в цьому списку.\n",
    "Цикл for за допомогою zip() дозволяє циклічно переглядати декілька списків\n",
    "і робити щось із кожним елементом цих списків одночасно.\n",
    "Зазвичай це потрібно зробити зі списками однакового розміру.\n",
    "Але це все одно працює, якщо один список коротший; Просто він поводиться трохи інакше."
   ]
  },
  {
   "cell_type": "markdown",
   "id": "f790b236",
   "metadata": {},
   "source": [
    "У цьому випадку довжина слів становить 26 елементів, а довжина діапазону (25) становить 25 елементів\n",
    "Таким чином, for цикл буде запущений лише 25 разів у цьому випадку."
   ]
  },
  {
   "cell_type": "markdown",
   "id": "a2390b0d",
   "metadata": {},
   "source": [
    "Незалежно від того, скільки ще предметів ви додаєте до слів, ваша дошка бінго повинна мати лише 25 квадратів."
   ]
  },
  {
   "cell_type": "markdown",
   "id": "b5649cfe",
   "metadata": {},
   "source": [
    "Якщо ви розкоментуєте наступні рядки , ви отримуватимете випадкову дошку бінго щоразу, коли запускаєтесь!\n",
    "import random\n",
    "random.shuffle(words)"
   ]
  },
  {
   "cell_type": "code",
   "execution_count": null,
   "id": "737fdbcc",
   "metadata": {},
   "outputs": [],
   "source": [
    "for word, position in zip(words, list(range(25))):\n",
    "    if position == 12:\n",
    "        output += 'Free space,'\n",
    "    else:\n",
    "        output += \"{0},\".format(word)\n",
    "    if position in (4, 9, 14, 19, 24):\n",
    "        output += \"\\n\""
   ]
  },
  {
   "cell_type": "code",
   "execution_count": null,
   "id": "43341d2b",
   "metadata": {},
   "outputs": [],
   "source": [
    "print(output)"
   ]
  },
  {
   "cell_type": "markdown",
   "id": "64f1b12b",
   "metadata": {},
   "source": [
    "apple,banana,carrot,danke,elephant,\n",
    "fruit,gorilla,horse, michael,ice cream,jack, one eye,\n",
    "kazoo,lollerskates,Free space,noodles,oboe,\n",
    "porcupine,quill,rowboat,sailboat,trolley,\n",
    "umbrella,voltage,watermelon,xylophobe,yarn,"
   ]
  }
 ],
 "metadata": {
  "jupytext": {
   "cell_metadata_filter": "-all",
   "main_language": "python",
   "notebook_metadata_filter": "-all"
  }
 },
 "nbformat": 4,
 "nbformat_minor": 5
}
