{
 "cells": [
  {
   "cell_type": "markdown",
   "id": "a93cd0a6",
   "metadata": {},
   "source": [
    "# Функції"
   ]
  },
  {
   "cell_type": "markdown",
   "id": "4f95c576",
   "metadata": {},
   "source": [
    "Функції в Python є основним інструментом структуризації коду. Вони дозволяють групувати набір інструкцій так, що вони можуть виконуватися багато разів. Функції можуть також отримувати параметри та повертати значення."
   ]
  },
  {
   "cell_type": "markdown",
   "id": "0ca77214",
   "metadata": {},
   "source": [
    "## Оголошення функції\n",
    "Для створення функції використовується ключове слово def:"
   ]
  },
  {
   "cell_type": "code",
   "execution_count": 1,
   "id": "96514d10",
   "metadata": {},
   "outputs": [],
   "source": [
    "def greet():\n",
    "    print(\"Hello, World!\")"
   ]
  },
  {
   "cell_type": "markdown",
   "id": "91e46732",
   "metadata": {},
   "source": [
    "## Виклик функції\n",
    "Для виклику функції просто використовуйте її ім'я з дужками:"
   ]
  },
  {
   "cell_type": "code",
   "execution_count": 2,
   "id": "23f643bb",
   "metadata": {},
   "outputs": [
    {
     "name": "stdout",
     "output_type": "stream",
     "text": [
      "Hello, World!\n"
     ]
    }
   ],
   "source": [
    "greet()  # Виведе: Hello, World!"
   ]
  },
  {
   "cell_type": "markdown",
   "id": "c14ff022",
   "metadata": {},
   "source": [
    "## Параметри\n",
    "Функції можуть отримувати аргументи:"
   ]
  },
  {
   "cell_type": "code",
   "execution_count": 3,
   "id": "7af0183c",
   "metadata": {},
   "outputs": [],
   "source": [
    "def greet(name):\n",
    "    print(f\"Hello, {name}!\")"
   ]
  },
  {
   "cell_type": "code",
   "execution_count": 4,
   "id": "ef781e27",
   "metadata": {},
   "outputs": [
    {
     "name": "stdout",
     "output_type": "stream",
     "text": [
      "Hello, Alice!\n"
     ]
    }
   ],
   "source": [
    "greet(\"Alice\")  # Виведе: Hello, Alice!"
   ]
  },
  {
   "cell_type": "markdown",
   "id": "e2651807",
   "metadata": {},
   "source": [
    "# Значення за замовчуванням\n",
    "Ви можете встановлювати значення за замовчуванням для параметрів:"
   ]
  },
  {
   "cell_type": "code",
   "execution_count": 6,
   "id": "5fef492b",
   "metadata": {},
   "outputs": [],
   "source": [
    "def greet(name=\"World\"):\n",
    "    print(f\"Hello, {name}!\")"
   ]
  },
  {
   "cell_type": "code",
   "execution_count": 7,
   "id": "97babee5",
   "metadata": {},
   "outputs": [
    {
     "name": "stdout",
     "output_type": "stream",
     "text": [
      "Hello, World!\n"
     ]
    }
   ],
   "source": [
    "greet()         # Виведе: Hello, World!"
   ]
  },
  {
   "cell_type": "code",
   "execution_count": 8,
   "id": "f0b91d69",
   "metadata": {},
   "outputs": [
    {
     "name": "stdout",
     "output_type": "stream",
     "text": [
      "Hello, Alice!\n"
     ]
    }
   ],
   "source": [
    "greet(\"Alice\")  # Виведе: Hello, Alice!"
   ]
  },
  {
   "cell_type": "code",
   "execution_count": 11,
   "id": "7906ac3c",
   "metadata": {},
   "outputs": [],
   "source": [
    "def greet(name, greeting=\"Hello\"):\n",
    "    print(f\"{greeting}, {name}!\")"
   ]
  },
  {
   "cell_type": "code",
   "execution_count": 12,
   "id": "858efb20",
   "metadata": {},
   "outputs": [
    {
     "name": "stdout",
     "output_type": "stream",
     "text": [
      "Hello, Alice!\n"
     ]
    }
   ],
   "source": [
    "greet(\"Alice\")"
   ]
  },
  {
   "cell_type": "code",
   "execution_count": 17,
   "id": "e0f02344",
   "metadata": {},
   "outputs": [
    {
     "name": "stdout",
     "output_type": "stream",
     "text": [
      "Good morning, Alice!\n"
     ]
    }
   ],
   "source": [
    "greet(\"Alice\", \"Good morning\")"
   ]
  },
  {
   "cell_type": "markdown",
   "id": "6d5a2c8a",
   "metadata": {},
   "source": [
    "## Повернення значення\n",
    "Використовуйте ключове слово return, щоб повернути значення:"
   ]
  },
  {
   "cell_type": "code",
   "execution_count": 15,
   "id": "0f4fa370",
   "metadata": {},
   "outputs": [],
   "source": [
    "def add(a, b):\n",
    "    return a + b"
   ]
  },
  {
   "cell_type": "code",
   "execution_count": 16,
   "id": "d2aafe4b",
   "metadata": {},
   "outputs": [
    {
     "name": "stdout",
     "output_type": "stream",
     "text": [
      "3\n"
     ]
    }
   ],
   "source": [
    "result = add(1, 2)\n",
    "print(result)  # Виведе: 3"
   ]
  },
  {
   "cell_type": "markdown",
   "id": "5f3a6e3a",
   "metadata": {},
   "source": [
    "## Повернення декількох значень з функції\n",
    "Коли функція повертає декілька значень, вони зазвичай пакуються в кортеж. Давайте розглянемо приклад:"
   ]
  },
  {
   "cell_type": "code",
   "execution_count": 29,
   "id": "64efccb6",
   "metadata": {},
   "outputs": [
    {
     "name": "stdout",
     "output_type": "stream",
     "text": [
      "('Alice', 30)\n"
     ]
    }
   ],
   "source": [
    "def get_name_age():\n",
    "    return \"Alice\", 30\n",
    "\n",
    "result = get_name_age()\n",
    "print(result)  # Виведе: ('Alice', 30)"
   ]
  },
  {
   "cell_type": "markdown",
   "id": "40cd3974",
   "metadata": {},
   "source": [
    "## Sequence unpacking\n",
    "Ви можете використовувати sequence unpacking, щоб присвоїти ці значення окремим змінним:"
   ]
  },
  {
   "cell_type": "code",
   "execution_count": 30,
   "id": "351d653b",
   "metadata": {},
   "outputs": [
    {
     "name": "stdout",
     "output_type": "stream",
     "text": [
      "Alice\n",
      "30\n"
     ]
    }
   ],
   "source": [
    "name, age = get_name_age()\n",
    "print(name)  # Виведе: Alice\n",
    "print(age)   # Виведе: 30"
   ]
  },
  {
   "cell_type": "markdown",
   "id": "c232a469",
   "metadata": {},
   "source": [
    "## Аргументи-ключові слова\n",
    "Ви можете передавати аргументи за допомогою імені:"
   ]
  },
  {
   "cell_type": "code",
   "execution_count": 18,
   "id": "0739bc54",
   "metadata": {},
   "outputs": [
    {
     "name": "stdout",
     "output_type": "stream",
     "text": [
      "I have a hamster named Harry.\n",
      "I have a hamster named Harry.\n"
     ]
    }
   ],
   "source": [
    "def describe_pet(animal, name):\n",
    "    print(f\"I have a {animal} named {name}.\")\n",
    "\n",
    "describe_pet(animal=\"hamster\", name=\"Harry\")\n",
    "describe_pet(name=\"Harry\", animal=\"hamster\")"
   ]
  },
  {
   "cell_type": "markdown",
   "id": "4a7a39b3",
   "metadata": {},
   "source": [
    "## `*args` та `**kwargs`\n",
    "Ці спеціальні параметри дозволяють передавати довільну кількість аргументів:\n",
    "\n",
    "* *args: для передачі довільної кількості позиційних аргументів.\n",
    "* **kwargs: для передачі довільної кількості аргументів-ключових слів."
   ]
  },
  {
   "cell_type": "code",
   "execution_count": 21,
   "id": "a73b51ae",
   "metadata": {},
   "outputs": [
    {
     "name": "stdout",
     "output_type": "stream",
     "text": [
      "(1, 2, 3, 4)\n"
     ]
    }
   ],
   "source": [
    "def many_args(*args):\n",
    "    print(args)\n",
    "\n",
    "many_args(1, 2, 3, 4)  # Виведе: (1, 2, 3, 4)"
   ]
  },
  {
   "cell_type": "markdown",
   "id": "28f099cc",
   "metadata": {},
   "source": [
    "Варто зауважити що в Python 3, ви також можете використовувати * в sequence unpacking для захоплення декількох елементів:"
   ]
  },
  {
   "cell_type": "code",
   "execution_count": 31,
   "id": "8c5e80ff",
   "metadata": {},
   "outputs": [
    {
     "name": "stdout",
     "output_type": "stream",
     "text": [
      "1\n",
      "[2, 3, 4]\n"
     ]
    }
   ],
   "source": [
    "head, *tail = [1, 2, 3, 4]\n",
    "print(head)  # Виведе: 1\n",
    "print(tail)  # Виведе: [2, 3, 4]"
   ]
  },
  {
   "cell_type": "code",
   "execution_count": null,
   "id": "b99d5435",
   "metadata": {},
   "outputs": [],
   "source": []
  },
  {
   "cell_type": "code",
   "execution_count": 26,
   "id": "007a7a4a",
   "metadata": {},
   "outputs": [
    {
     "name": "stdout",
     "output_type": "stream",
     "text": [
      "{'a': 1, 'b': 2}\n"
     ]
    }
   ],
   "source": [
    "def many_kwargs(**kwargs):\n",
    "    print(kwargs)\n",
    "\n",
    "many_kwargs(a=1, b=2)  # Виведе: {'a': 1, 'b': 2}"
   ]
  },
  {
   "cell_type": "code",
   "execution_count": 24,
   "id": "5467d110",
   "metadata": {},
   "outputs": [],
   "source": [
    "def many_args_and_kwargs(*args, **kwargs):\n",
    "    print(\"args\", args)\n",
    "    print(\"kwargs\", kwargs)"
   ]
  },
  {
   "cell_type": "code",
   "execution_count": 25,
   "id": "7037457e",
   "metadata": {},
   "outputs": [
    {
     "name": "stdout",
     "output_type": "stream",
     "text": [
      "args (1, 2, 3, 4)\n",
      "kwargs {'a': 5, 'b': 6, 'c': 7}\n"
     ]
    }
   ],
   "source": [
    "many_args_and_kwargs(1, 2, 3, 4, a=5, b=6, c=7)"
   ]
  },
  {
   "cell_type": "markdown",
   "id": "405ca031",
   "metadata": {},
   "source": [
    "## namespace\n",
    "\n",
    "В Python, namespace – це контейнер, який зберігає символьні імена та їх значення. Різні namespaces існують незалежно один від одного і ізолюють об'єкти від інших namespaces, таким чином, імена, які використовуються в одному namespace, можуть бути такими ж, як і імена в інших namespaces, без жодних конфліктів.\n",
    "\n",
    "В Python є декілька рівнів namespaces:\n",
    "* Built-in namespace: це базовий рівень, який містить вбудовані імена (наприклад, print, int, list тощо).\n",
    "* Global (Module) namespace: цей рівень існує на рівні модуля або скрипта. Якщо ви пишете код в модулі, усі змінні та функції на верхньому рівні будуть частиною глобального namespace.\n",
    "* Enclosing (Non-local) namespace: Це специфічні namespaces для вкладених функцій.\n",
    "* Local namespace: це рівень функції. Кожен раз, коли викликається функція, створюється новий локальний namespace для цієї функції, який існує лише під час виконання цієї функції.\n",
    "\n",
    "#### Пошук змінних (LEGB rule)\n",
    "\n",
    "Коли Python намагається знайти значення, пов'язане з певним ім'ям, він слідує правилу LEGB:\n",
    "* L - Local: перевірка локальних змінних.\n",
    "* E - Enclosing: перевірка в зовнішніх функціях, від внутрішньої до зовнішньої.\n",
    "* G - Global: перевірка на рівні модуля.\n",
    "* B - Built-in: перевірка у вбудованому namespace."
   ]
  },
  {
   "cell_type": "code",
   "execution_count": 32,
   "id": "b6a263b7",
   "metadata": {},
   "outputs": [
    {
     "name": "stdout",
     "output_type": "stream",
     "text": [
      "10 20 30\n"
     ]
    }
   ],
   "source": [
    "x = 10  # Глобальний namespace\n",
    "\n",
    "def outer_function():\n",
    "    y = 20  # Enclosing namespace\n",
    "\n",
    "    def inner_function():\n",
    "        z = 30  # Локальний namespace\n",
    "        print(x, y, z)  # пошук здійснюється за правилом LEGB\n",
    "\n",
    "    inner_function()\n",
    "\n",
    "outer_function()"
   ]
  },
  {
   "cell_type": "markdown",
   "id": "508c429f",
   "metadata": {},
   "source": [
    "У вищенаведеному прикладі, коли ми викликаємо inner_function, Python спочатку шукає змінні у локальному namespace (z), потім у enclosing (y), потім у глобальному (x), і якщо не знаходить змінну на цих рівнях, він перевіряє вбудований namespace.\n",
    "\n",
    "Знання про namespaces є важливим для розуміння області видимості змінних в Python і того, як Python визначає, до якої змінної звертатися в конкретний момент часу."
   ]
  },
  {
   "cell_type": "markdown",
   "id": "03000bd8",
   "metadata": {},
   "source": [
    "## Локальні та глобальні змінні\n",
    "У Python ключове слово global використовується для того, щоб вказати, що змінна є глобальною, і ви маєте намір змінити її у межах функції. Якщо ви не використовуєте global, то будь-яка змінна, присвоєна у функції, є локальною змінною цієї функції."
   ]
  },
  {
   "cell_type": "markdown",
   "id": "301c5a53",
   "metadata": {},
   "source": [
    "#### Без використання global:"
   ]
  },
  {
   "cell_type": "code",
   "execution_count": 27,
   "id": "58411406",
   "metadata": {},
   "outputs": [
    {
     "name": "stdout",
     "output_type": "stream",
     "text": [
      "Value inside function: 20\n",
      "Value outside function: 10\n"
     ]
    }
   ],
   "source": [
    "x = 10\n",
    "\n",
    "def test_function():\n",
    "    x = 20\n",
    "    print(\"Value inside function:\", x)\n",
    "\n",
    "test_function()\n",
    "print(\"Value outside function:\", x)"
   ]
  },
  {
   "cell_type": "markdown",
   "id": "fc2a070a",
   "metadata": {},
   "source": [
    "Зверніть увагу, що змінна x всередині функції є локальною і не змінює глобальну змінну x."
   ]
  },
  {
   "cell_type": "markdown",
   "id": "95c286fa",
   "metadata": {},
   "source": [
    "#### З використанням global"
   ]
  },
  {
   "cell_type": "code",
   "execution_count": 28,
   "id": "0512465d",
   "metadata": {},
   "outputs": [
    {
     "name": "stdout",
     "output_type": "stream",
     "text": [
      "Value inside function: 20\n",
      "Value outside function: 20\n"
     ]
    }
   ],
   "source": [
    "x = 10\n",
    "\n",
    "def test_function():\n",
    "    global x\n",
    "    x = 20\n",
    "    print(\"Value inside function:\", x)\n",
    "\n",
    "test_function()\n",
    "print(\"Value outside function:\", x)"
   ]
  },
  {
   "cell_type": "markdown",
   "id": "7c8488de",
   "metadata": {},
   "source": [
    "Тут, завдяки ключовому слову global, ми змінили глобальну змінну x всередині функції.\n",
    "\n",
    "Це корисно знати, особливо коли ви плануєте використовувати функції для модифікації змінних, оголошених за межами цих функцій. Однак важливо бути обережним при використанні глобальних змінних, так як це може призвести до неочікуваного поведінки програми і зробити код менш передбачуваним. Зазвичай рекомендується уникати глобальних змінних, де це можливо, і передавати змінні як аргументи функціям."
   ]
  },
  {
   "cell_type": "markdown",
   "id": "63064941",
   "metadata": {},
   "source": [
    "# Генератори\n",
    "Генератори в Python - це простий спосіб створення ітераторів. Вони дозволяють вам ітерувати по набору значень, але, на відміну від списків, не зберігають ці значення у пам'яті. Генератори виготовляють значення \"на льоту\" і видають їх одне за одним."
   ]
  },
  {
   "cell_type": "markdown",
   "id": "6432c5d9",
   "metadata": {},
   "source": [
    "### Створення генераторів\n",
    "Генератори створюються за допомогою двох основних методів:"
   ]
  },
  {
   "cell_type": "markdown",
   "id": "349e5c37",
   "metadata": {},
   "source": [
    "Використанням генераторних виразів:\n",
    "\n",
    "Це виглядає як спискова інклюзія, але використовуються круглі дужки замість квадратних."
   ]
  },
  {
   "cell_type": "code",
   "execution_count": 35,
   "id": "21d70a10",
   "metadata": {},
   "outputs": [],
   "source": [
    "gen = (x**2 for x in range(5))"
   ]
  },
  {
   "cell_type": "markdown",
   "id": "bf9ca0da",
   "metadata": {},
   "source": [
    "Використанням функцій та оператора yield:\n",
    "\n",
    "Замість ключового слова return у звичайній функції, генератор використовує yield."
   ]
  },
  {
   "cell_type": "code",
   "execution_count": 36,
   "id": "329c319f",
   "metadata": {},
   "outputs": [],
   "source": [
    "def gen_func():\n",
    "    for x in range(5):\n",
    "        yield x**2"
   ]
  },
  {
   "cell_type": "markdown",
   "id": "175bd501",
   "metadata": {},
   "source": [
    "### Робота з генераторами\n",
    "\n",
    "Коли ви викликаєте функцію генератора, вона не виконує свій код. Замість цього, вона повертає об'єкт генератора. Щоб отримати значення з генератора, ви можете використовувати метод next()."
   ]
  },
  {
   "cell_type": "code",
   "execution_count": 37,
   "id": "9cd7e4b7",
   "metadata": {},
   "outputs": [
    {
     "name": "stdout",
     "output_type": "stream",
     "text": [
      "0\n",
      "1\n"
     ]
    }
   ],
   "source": [
    "generator = gen_func()\n",
    "print(next(generator))  # Виведе: 0\n",
    "print(next(generator))  # Виведе: 1"
   ]
  },
  {
   "cell_type": "markdown",
   "id": "279c2b5b",
   "metadata": {},
   "source": [
    "Також, ви можете легко ітерувати по генератору за допомогою циклу for:"
   ]
  },
  {
   "cell_type": "code",
   "execution_count": 38,
   "id": "5853fddb",
   "metadata": {},
   "outputs": [
    {
     "name": "stdout",
     "output_type": "stream",
     "text": [
      "0\n",
      "1\n",
      "4\n",
      "9\n",
      "16\n"
     ]
    }
   ],
   "source": [
    "for value in gen_func():\n",
    "    print(value)"
   ]
  },
  {
   "cell_type": "markdown",
   "id": "d0e4ff09",
   "metadata": {},
   "source": [
    "Переваги генераторів:\n",
    "* Ефективність пам'яті: Генератори дозволяють ітерувати по величезним множинам даних без потреби зберігати їх цілком у пам'яті.\n",
    "* Ліниві обчислення: Генератори виробляють значення лише тоді, коли це потрібно, що може бути корисним для великих обчислень або коли вам потрібно обробити дані послідовно.\n",
    "    \n",
    "Зазначимо, що генератори можуть бути використані тільки для ітерації. Вони не підтримують індексацію, зрізи або інші операції, доступні для списків."
   ]
  },
  {
   "cell_type": "markdown",
   "id": "269c75a6",
   "metadata": {},
   "source": [
    "# callback\n",
    "Колбек (від англ. \"callback\") - це функціональний підхід, коли функція передається як аргумент іншій функції, і викликається після завершення виконання цієї функції. В Python, завдяки тому, що функції є об'єктами першого класу, колбеки використовуються досить часто і в широкому спектрі застосувань."
   ]
  },
  {
   "cell_type": "markdown",
   "id": "2a282946",
   "metadata": {},
   "source": [
    "### Приклад використання колбеків:\n",
    "Припустимо, у вас є функція, яка обчислює квадрат числа, і ви хочете вивести результат після обчислення:"
   ]
  },
  {
   "cell_type": "code",
   "execution_count": 39,
   "id": "22c28320",
   "metadata": {},
   "outputs": [
    {
     "name": "stdout",
     "output_type": "stream",
     "text": [
      "Result is 16\n"
     ]
    }
   ],
   "source": [
    "def square(n, callback):\n",
    "    result = n ** 2\n",
    "    callback(result)\n",
    "\n",
    "def print_result(result):\n",
    "    print(f\"Result is {result}\")\n",
    "\n",
    "square(4, print_result)  # Виведе: \"Result is 16\""
   ]
  },
  {
   "cell_type": "markdown",
   "id": "5811a428",
   "metadata": {},
   "source": [
    "У цьому прикладі, print_result - це колбек-функція для square."
   ]
  },
  {
   "cell_type": "markdown",
   "id": "69288113",
   "metadata": {},
   "source": [
    "### Ще декілька прикладів, де використовуються колбеки:\n",
    "* Обробники подій в графічних інтерфейсах: Коли користувач натискає кнопку або виконує іншу дію, може викликатися колбек-функція.\n",
    "* Асинхронне програмування: Колбеки часто використовуються в асинхронних операціях, таких як мережеві запити або читання файлів, де колбек виконується після завершення асинхронної операції.\n",
    "* Функції вищого порядку: В Python багато функцій приймають інші функції як аргументи, наприклад, map, filter, sorted."
   ]
  },
  {
   "cell_type": "markdown",
   "id": "223c3df8",
   "metadata": {},
   "source": [
    "### Недоліки колбеків:\n",
    "* \"Ад колбеків\": Якщо ви маєте багато вкладених колбеків, код може стати вкрай заплутаним і важко читаємим. Це часто зустрічається в асинхронному програмуванні.\n",
    "* Контроль потоку: Управління потоком виконання при використанні великої кількості колбеків може бути важким."
   ]
  },
  {
   "cell_type": "markdown",
   "id": "e1e8293b",
   "metadata": {},
   "source": [
    "У відповідь на ці проблеми, інші підходи, такі як проміси (в JavaScript) або корутини (в Python за допомогою asyncio), були розроблені для більш структурованого і зрозумілого управління асинхронним кодом."
   ]
  },
  {
   "cell_type": "markdown",
   "id": "f1fb65c8",
   "metadata": {},
   "source": [
    "# Рекурсивна функція\n",
    "\n",
    "\n",
    "Рекурсивна функція - це функція, яка викликає сама себе прямо або непрямо в своєму тілі. Рекурсія може бути вкрай корисною, якщо вам потрібно розкласти складну задачу на більш прості підзадачі.\n",
    "\n",
    "Розглянемо деякі основні аспекти рекурсивних функцій:\n",
    "* Базовий випадок: Кожна рекурсивна функція має базовий випадок - умову, за якої вона перестає викликати сама себе, щоб запобігти нескінченній рекурсії.\n",
    "* Рекурсивний випадок: Це частина функції, де відбувається виклик функції самої себе."
   ]
  },
  {
   "cell_type": "markdown",
   "id": "a79f6297",
   "metadata": {},
   "source": [
    "### Приклад: обчислення факторіалу\n",
    "Факторіал числа n (n!) - це добуток всіх натуральних чисел від 1 до n.\n",
    "\n",
    "Функція для обчислення факторіалу за допомогою рекурсії:"
   ]
  },
  {
   "cell_type": "code",
   "execution_count": 41,
   "id": "0c41d6b8",
   "metadata": {},
   "outputs": [
    {
     "name": "stdout",
     "output_type": "stream",
     "text": [
      "120\n"
     ]
    }
   ],
   "source": [
    "def factorial(n):\n",
    "    # Базовий випадок\n",
    "    if n == 1:\n",
    "        return 1\n",
    "    # Рекурсивний випадок\n",
    "    return n * factorial(n - 1)\n",
    "\n",
    "print(factorial(5))  # Виведе: 120"
   ]
  },
  {
   "cell_type": "markdown",
   "id": "6a107123",
   "metadata": {},
   "source": [
    "Тут factorial(5) обчислюється як 5*factorial(4), factorial(4) як 4×factorial(3) і так далі, доки не дійде до базового випадку."
   ]
  },
  {
   "cell_type": "markdown",
   "id": "48e3b772",
   "metadata": {},
   "source": [
    "### Обмеження рекурсії в Python:\n",
    "Python має обмеження на максимальну глибину рекурсії (стандартно це біля 1000 викликів), що зумовлено метою запобігання нескінченній рекурсії та переповненню стека. Якщо ви досягнете цього обмеження, отримаєте помилку RecursionError.\n",
    "\n",
    "Щоб змінити це обмеження, можна використати модуль sys:"
   ]
  },
  {
   "cell_type": "code",
   "execution_count": 42,
   "id": "200e18b6",
   "metadata": {},
   "outputs": [],
   "source": [
    "import sys\n",
    "sys.setrecursionlimit(3000)"
   ]
  },
  {
   "cell_type": "markdown",
   "id": "7ff3a6ac",
   "metadata": {},
   "source": [
    "Однак будьте обережні, велика глибина рекурсії може призвести до великого використання пам'яті і, в кінцевому рахунку, до завершення програми через нестачу пам'яті."
   ]
  },
  {
   "cell_type": "markdown",
   "id": "ba9a3268",
   "metadata": {},
   "source": [
    "# Декоратори "
   ]
  },
  {
   "cell_type": "markdown",
   "id": "7add0c2d",
   "metadata": {},
   "source": [
    "Декоратори — це могутній інструмент в Python, який дозволяє модифікувати або розширювати поведінку функцій або методів без зміни їхнього вихідного коду. Вони представляють собою функції вищого порядку, тобто функції, які приймають іншу функцію в якості аргументу та повертають функцію.\n",
    "\n",
    "Основна ідея: декоратор \"обгортає\" або \"декорує\" іншу функцію, додаючи до неї додаткову функціональність.\n",
    "\n",
    "Синтаксис декораторів:\n",
    "    \n",
    "```python3\n",
    "@decorator_function\n",
    "def function_to_decorate():\n",
    "    ...\n",
    "```\n",
    "\n",
    "Це еквівалентно такому коду:\n",
    "```python3\n",
    "function_to_decorate = decorator_function(function_to_decorate)\n",
    "```"
   ]
  },
  {
   "cell_type": "markdown",
   "id": "cf34454f",
   "metadata": {},
   "source": [
    "### Приклад простого декоратора:"
   ]
  },
  {
   "cell_type": "code",
   "execution_count": 45,
   "id": "b50e7cd4",
   "metadata": {},
   "outputs": [
    {
     "name": "stdout",
     "output_type": "stream",
     "text": [
      "dummy_function took 2.00154 seconds to run.\n",
      "Function Done!\n"
     ]
    }
   ],
   "source": [
    "import time\n",
    "\n",
    "def timer_decorator(func):\n",
    "    def wrapper(*args, **kwargs):\n",
    "        start_time = time.time()\n",
    "        result = func(*args, **kwargs)\n",
    "        end_time = time.time()\n",
    "        print(f\"{func.__name__} took {end_time - start_time:.5f} seconds to run.\")\n",
    "        return result\n",
    "    return wrapper\n",
    "\n",
    "@timer_decorator\n",
    "def dummy_function(duration):\n",
    "    time.sleep(duration)\n",
    "    return \"Function Done!\"\n",
    "\n",
    "print(dummy_function(2))"
   ]
  },
  {
   "cell_type": "markdown",
   "id": "e7ac41f5",
   "metadata": {},
   "source": [
    "Тут timer_decorator є декоратором для dummy_function. Коли ми викликаємо dummy_function, спочатку виконується код у wrapper, який заміряє час виконання та потім викликає оригінальну функцію."
   ]
  },
  {
   "cell_type": "markdown",
   "id": "018e3ae2",
   "metadata": {},
   "source": [
    "### Параметризовані декоратори:\n",
    "Ми можемо створити декоратори, які приймають аргументи, для більш гнучкого їх застосування:"
   ]
  },
  {
   "cell_type": "code",
   "execution_count": 46,
   "id": "fe1e6f27",
   "metadata": {},
   "outputs": [
    {
     "name": "stdout",
     "output_type": "stream",
     "text": [
      "Hello!\n",
      "Hello!\n",
      "Hello!\n"
     ]
    }
   ],
   "source": [
    "def repeat_decorator(num_repeats):\n",
    "    def actual_decorator(func):\n",
    "        def wrapper(*args, **kwargs):\n",
    "            for _ in range(num_repeats):\n",
    "                result = func(*args, **kwargs)\n",
    "            return result\n",
    "        return wrapper\n",
    "    return actual_decorator\n",
    "\n",
    "@repeat_decorator(3)\n",
    "def say_hello():\n",
    "    print(\"Hello!\")\n",
    "\n",
    "say_hello()  # Виведе \"Hello!\" тричі"
   ]
  },
  {
   "cell_type": "markdown",
   "id": "4c159ea7",
   "metadata": {},
   "source": [
    "У цьому прикладі repeat_decorator приймає кількість повторів, і виводить результат функції цю кількість разів.\n",
    "\n",
    "Декоратори широко використовуються в Python, особливо в web-фреймворках, тестуванні, логуванні та багатьох інших областях."
   ]
  },
  {
   "cell_type": "code",
   "execution_count": null,
   "id": "9db2c5f5",
   "metadata": {},
   "outputs": [],
   "source": []
  }
 ],
 "metadata": {
  "kernelspec": {
   "display_name": "Python 3",
   "language": "python",
   "name": "python3"
  },
  "language_info": {
   "codemirror_mode": {
    "name": "ipython",
    "version": 3
   },
   "file_extension": ".py",
   "mimetype": "text/x-python",
   "name": "python",
   "nbconvert_exporter": "python",
   "pygments_lexer": "ipython3",
   "version": "3.8.10"
  }
 },
 "nbformat": 4,
 "nbformat_minor": 5
}
