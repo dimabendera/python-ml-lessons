{
 "cells": [
  {
   "cell_type": "code",
   "execution_count": null,
   "id": "4ebdb35c",
   "metadata": {
    "lines_to_next_cell": 0
   },
   "outputs": [],
   "source": []
  },
  {
   "cell_type": "code",
   "execution_count": null,
   "id": "3a65cf98",
   "metadata": {},
   "outputs": [],
   "source": [
    "def dropdown_states():\n",
    "    \n",
    "    \"\"\" Що рядок робить сам по собі, запитаєте ви?\n",
    "        Чи не повинен я бути прив'язаний до змінної?\n",
    "\n",
    "        Ну, я спеціальний рядок, який Python шукає на самому початку функції.\n",
    "        Я звик описувати функцію.\n",
    "\n",
    "        Ця функція поверне рядок зі спадним меню HTML штатів США.\n",
    "    \"\"\"\n",
    "\n",
    "    states = ['Alabama', 'Alaska', 'Arizona', 'Arkansas', 'California', 'Colorado', 'Connecticut', 'Delaware',\n",
    "              'Florida', 'Georgia', 'Hawaii', 'Idaho', 'Illinois', 'Indiana', 'Iowa', 'Kansas', 'Kentucky',\n",
    "              'Louisiana', 'Maine', 'Maryland', 'Massachusetts', 'Michigan', 'Minnesota', 'Mississippi', 'Missouri',\n",
    "              'Montana', 'Nebraska', 'Nevada', 'New Hampshire', 'New Jersey', 'New Mexico', 'New York',\n",
    "              'North Carolina', 'North Dakota', 'Ohio', 'Oklahoma', 'Oregon', 'Pennsylvania', 'Rhode Island',\n",
    "              'South Carolina', 'South Dakota', 'Tennessee', 'Texas', 'Utah', 'Vermont', 'Virginia', 'Washington',\n",
    "              'West Virginia', 'Wisconsin', 'Wyoming']\n",
    "    abbreviations = ['AL', 'AK', 'AZ', 'AR', 'CA', 'CO', 'CT', 'DE', 'FL', 'GA', 'HI', 'ID', 'IL', 'IN', 'IA', 'KS',\n",
    "                     'KY', 'LA', 'ME', 'MD', 'MA', 'MI', 'MN', 'MS', 'MO', 'MT', 'NE', 'NV', 'NH', 'NJ', 'NM', 'NY',\n",
    "                     'NC', 'ND', 'OH', 'OK', 'OR', 'PA', 'RI', 'SC', 'SD', 'TN', 'TX', 'UT', 'VT', 'VA', 'WA', 'WV',\n",
    "                     'WI', 'WY']\n",
    "\n",
    "    output = ['<select>']\n",
    "\n",
    "    for state, abbreviation in zip(states, abbreviations):\n",
    "        output.append('\\t<option value=\"{0}\">{1}</option>'.format(abbreviation, state))\n",
    "\n",
    "    output.append('</select>')\n",
    "\n",
    "    output = '\\n'.join(output)  # Склейте список новим рядком між кожним елементом списку.\n",
    "\n",
    "    return output"
   ]
  }
 ],
 "metadata": {
  "jupytext": {
   "cell_metadata_filter": "-all",
   "main_language": "python",
   "notebook_metadata_filter": "-all"
  }
 },
 "nbformat": 4,
 "nbformat_minor": 5
}
