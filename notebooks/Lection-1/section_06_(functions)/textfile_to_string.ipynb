{
 "cells": [
  {
   "cell_type": "code",
   "execution_count": null,
   "id": "c11e7d87",
   "metadata": {},
   "outputs": [],
   "source": [
    "def textfile_to_string(filename):\n",
    "\n",
    "    with open(filename, \"r\") as text_file:      \n",
    "        text = text_file.read()\n",
    "\n",
    "    return text"
   ]
  }
 ],
 "metadata": {
  "jupytext": {
   "cell_metadata_filter": "-all",
   "main_language": "python",
   "notebook_metadata_filter": "-all"
  }
 },
 "nbformat": 4,
 "nbformat_minor": 5
}
