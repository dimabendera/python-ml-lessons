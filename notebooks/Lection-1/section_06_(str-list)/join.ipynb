{
 "cells": [
  {
   "cell_type": "code",
   "execution_count": null,
   "id": "11ea39a2",
   "metadata": {},
   "outputs": [],
   "source": [
    "states = [\"Alabama\", \"Alaska\", \"Arizona\", \"Arkansas\", \"California\", \"Colorado\", \"Connecticut\", \"Delaware\",\n",
    "          \"District Of Columbia\", \"Florida\", \"Georgia\", \"Hawaii\", \"Idaho\", \"Illinois\", \"Indiana\", \"Iowa\",\n",
    "          \"Kansas\", \"Kentucky\", \"Louisiana\", \"Maine\", \"Maryland\", \"Massachusetts\", \"Michigan\", \"Minnesota\",\n",
    "          \"Mississippi\", \"Missouri\", \"Montana\", \"Nebraska\", \"Nevada\", \"New Hampshire\", \"New Jersey\",\n",
    "          \"New Mexico\", \"New York\", \"North Carolina\", \"North Dakota\", \"Ohio\", \"Oklahoma\", \"Oregon\", \"PALAU\",\n",
    "          \"Pennsylvania\", \"PUERTO RICO\", \"Rhode Island\", \"South Carolina\", \"South Dakota\", \"Tennessee\", \"Texas\",\n",
    "          \"Utah\", \"Vermont\", \"Virginia\", \"Washington\", \"West Virginia\", \"Wisconsin\", \"Wyoming\"]"
   ]
  },
  {
   "cell_type": "markdown",
   "id": "66fb75e5",
   "metadata": {},
   "source": [
    ".join() — це метод string (функція, яка працює лише з рядками), який склеює список назад у рядок."
   ]
  },
  {
   "cell_type": "markdown",
   "id": "d1c2c93e",
   "metadata": {},
   "source": [
    ".join() має дві основні частини: клей і список"
   ]
  },
  {
   "cell_type": "markdown",
   "id": "6bf54860",
   "metadata": {},
   "source": [
    "Клей - це нитка, яку ви хочете вклеїти між кожним фрагментом списку, коли ви збираєте його разом як рядок.\n",
    "Клей - це нитка, яка йде безпосередньо перед точкою."
   ]
  },
  {
   "cell_type": "markdown",
   "id": "089959eb",
   "metadata": {},
   "source": [
    "Список - це список, який ви хочете склеїти."
   ]
  },
  {
   "cell_type": "code",
   "execution_count": null,
   "id": "9a232928",
   "metadata": {},
   "outputs": [],
   "source": [
    "# Отже, якщо ми запустили таку команду:\n",
    "print(\"glue\".join(states))"
   ]
  },
  {
   "cell_type": "markdown",
   "id": "7da0e266",
   "metadata": {},
   "source": [
    "Смішно (і корисно для запам'ятовування), але це виглядає не дуже добре."
   ]
  },
  {
   "cell_type": "code",
   "execution_count": null,
   "id": "6d566ac4",
   "metadata": {},
   "outputs": [],
   "source": [
    "# Замість цього давайте скористаємося корисним шматочком клею.\n",
    "# Давайте склеїмо його разом з новою лінією між кожним станом.\n",
    "print(\"\\n\".join(states))"
   ]
  },
  {
   "cell_type": "markdown",
   "id": "b7a479ec",
   "metadata": {},
   "source": [
    "Тепер отримуємо:\n",
    "Alabama\n",
    "Alaska\n",
    "Arizona\n",
    "Arkansas\n",
    "California\n",
    "Colorado\n",
    "Connecticut\n",
    "Delaware\n",
    "District Of Columbia\n",
    "Florida\n",
    "Georgia\n",
    "Hawaii\n",
    "Idaho\n",
    "Illinois\n",
    "Indiana\n",
    "Iowa\n",
    "Kansas\n",
    "Kentucky\n",
    "Louisiana\n",
    "Maine\n",
    "Maryland\n",
    "Massachusetts\n",
    "Michigan\n",
    "Minnesota\n",
    "Mississippi\n",
    "Missouri\n",
    "Montana\n",
    "Nebraska\n",
    "Nevada\n",
    "New Hampshire\n",
    "New Jersey\n",
    "New Mexico\n",
    "New York\n",
    "North Carolina\n",
    "North Dakota\n",
    "Ohio\n",
    "Oklahoma\n",
    "Oregon\n",
    "PALAU\n",
    "Pennsylvania\n",
    "PUERTO RICO\n",
    "Rhode Island\n",
    "South Carolina\n",
    "South Dakota\n",
    "Tennessee\n",
    "Texas\n",
    "Utah\n",
    "Vermont\n",
    "Virginia\n",
    "Washington\n",
    "West Virginia\n",
    "Wisconsin\n",
    "Wyoming"
   ]
  }
 ],
 "metadata": {
  "jupytext": {
   "cell_metadata_filter": "-all",
   "main_language": "python",
   "notebook_metadata_filter": "-all"
  }
 },
 "nbformat": 4,
 "nbformat_minor": 5
}
