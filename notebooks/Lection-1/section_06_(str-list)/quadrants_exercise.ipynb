{
 "cells": [
  {
   "cell_type": "markdown",
   "id": "757e69b1",
   "metadata": {},
   "source": [
    "Вправа, яку ви будете виконувати перед групою під час групової вправи.\n",
    "Це приблизне наближення коду, яке ви в кінцевому підсумку отримаєте.\n",
    "Це не те, з чого ви почнете.\n",
    "Перша версія вашого коду буде неповною і трохи неправильною.\n",
    "Ви будете говорити про вправу, запитуючи відгуки від класу.\n",
    "Обов'язково задавайте багато питань, особливо \"що ми очікуємо, що тут станеться?\"\n",
    "Кожну проблему спеціально розроблено, щоб спричинити неочікувану поведінку, якщо програму написано неретельно.\n",
    "Добре перейматися цими проблемними рішеннями. Студенти нічого не дізнаються, побачивши,\n",
    "як ви робите це ідеально за один раз.\n",
    "Але вони багато чому навчаться з процесу повторення, пошуку проблеми та вдосконалення."
   ]
  },
  {
   "cell_type": "code",
   "execution_count": null,
   "id": "696a3db9",
   "metadata": {},
   "outputs": [],
   "source": [
    "NW = []\n",
    "NE = []\n",
    "SE = []\n",
    "SW = []\n",
    "Other = []"
   ]
  },
  {
   "cell_type": "code",
   "execution_count": null,
   "id": "908dadf9",
   "metadata": {},
   "outputs": [],
   "source": [
    "address = \"\"  # Введіть свої адреси тут.\n",
    "# Problem 1: 123 SEA LANE SW\n",
    "# Problem 2: 456 fake st se\n",
    "# Problem 3: 678 lincoln ave"
   ]
  },
  {
   "cell_type": "code",
   "execution_count": null,
   "id": "72f45998",
   "metadata": {},
   "outputs": [],
   "source": [
    "print(address)"
   ]
  },
  {
   "cell_type": "code",
   "execution_count": null,
   "id": "c581210b",
   "metadata": {},
   "outputs": [],
   "source": [
    "address_as_list = address.upper().split(' ')"
   ]
  },
  {
   "cell_type": "code",
   "execution_count": null,
   "id": "ce9969dc",
   "metadata": {},
   "outputs": [],
   "source": [
    "if 'NW' in address_as_list:\n",
    "    NW.append(address)\n",
    "elif 'NE' in address_as_list:\n",
    "    NE.append(address)\n",
    "elif 'SE' in address_as_list:\n",
    "    SE.append(address)\n",
    "elif 'SW' in address_as_list:\n",
    "    SW.append(address)\n",
    "else:\n",
    "    Other.append(address)"
   ]
  },
  {
   "cell_type": "code",
   "execution_count": null,
   "id": "d2dc4a34",
   "metadata": {},
   "outputs": [],
   "source": [
    "print(\"NW is {0}\".format(NW))\n",
    "print(\"NE is {0}\".format(NE))\n",
    "print(\"SE is {0}\".format(SE))\n",
    "print(\"SW is {0}\".format(SW))\n",
    "print(\"Other is {0}\".format(Other))"
   ]
  }
 ],
 "metadata": {
  "jupytext": {
   "cell_metadata_filter": "-all",
   "main_language": "python",
   "notebook_metadata_filter": "-all"
  }
 },
 "nbformat": 4,
 "nbformat_minor": 5
}
