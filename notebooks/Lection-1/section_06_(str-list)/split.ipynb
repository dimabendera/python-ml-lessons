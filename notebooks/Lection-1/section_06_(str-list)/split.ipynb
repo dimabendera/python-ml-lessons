{
 "cells": [
  {
   "cell_type": "code",
   "execution_count": null,
   "id": "8f2e05e7",
   "metadata": {},
   "outputs": [],
   "source": [
    "address = \"1600 Pennsylvania Ave NW Washington, DC\""
   ]
  },
  {
   "cell_type": "code",
   "execution_count": null,
   "id": "0b5f9e19",
   "metadata": {},
   "outputs": [],
   "source": [
    "# .split() — метод string (функція, яка працює тільки з рядками),\n",
    "# який розбиває рядок на список на основі деякого роздільника.\n",
    "# У цьому прикладі ми розділяємо адресу на список у кожному просторі.\n",
    "address = address.split(\" \")"
   ]
  },
  {
   "cell_type": "markdown",
   "id": "43e3d198",
   "metadata": {},
   "source": [
    "Адреса тепер дорівнює списку:\n",
    "['1600', 'Pennsylvania', 'Ave', 'NW', 'Washington,', 'DC']\n",
    "Зверніть увагу, що створений список є списком рядків."
   ]
  },
  {
   "cell_type": "markdown",
   "id": "78534e6d",
   "metadata": {},
   "source": [
    "А оскільки це список, ви можете зациклитися на ньому!"
   ]
  },
  {
   "cell_type": "markdown",
   "id": "cd8a9b44",
   "metadata": {},
   "source": [
    ".split() зазвичай використовується для розділення текстових файлів на список (у кожному новому рядку)\n",
    ".split() також зазвичай використовується для розділення файлів електронних таблиць у форматі CSV,\n",
    "розділених комами (CSV), на список (біля кожної коми)"
   ]
  },
  {
   "cell_type": "markdown",
   "id": "d57f3282",
   "metadata": {},
   "source": [
    "Кожного разу, коли вам потрібно розділити рядок на кілька частин, ви можете використовувати .split()"
   ]
  }
 ],
 "metadata": {
  "jupytext": {
   "cell_metadata_filter": "-all",
   "main_language": "python",
   "notebook_metadata_filter": "-all"
  }
 },
 "nbformat": 4,
 "nbformat_minor": 5
}
