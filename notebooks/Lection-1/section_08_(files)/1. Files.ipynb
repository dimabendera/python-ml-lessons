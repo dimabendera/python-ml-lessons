{
 "cells": [
  {
   "cell_type": "markdown",
   "id": "23028b10",
   "metadata": {},
   "source": [
    "# Відкриття файлу:\n",
    "Python використовує вбудовану функцію open() для відкриття файлу."
   ]
  },
  {
   "cell_type": "code",
   "execution_count": 1,
   "id": "6a51d545",
   "metadata": {},
   "outputs": [],
   "source": [
    "file = open(\"filename.txt\", \"r\")"
   ]
  },
  {
   "cell_type": "markdown",
   "id": "6f0630f5",
   "metadata": {},
   "source": [
    "Тут \"r\" - це режим читання. Є декілька режимів:\n",
    "\n",
    "* 'r': читання (за замовчуванням)\n",
    "* 'w': запис (якщо файл існує, його вміст буде стертий)\n",
    "* 'a': додавання (запис в кінець файлу, якщо файл не існує, він буде створений)\n",
    "* 'b': бінарний режим\n",
    "* 'x': ексклюзивне створення (створює новий файл, повертає помилку, якщо файл вже існує)"
   ]
  },
  {
   "cell_type": "markdown",
   "id": "414b0482",
   "metadata": {},
   "source": [
    "# Читання з файлу:\n",
    "Читання всього файлу:"
   ]
  },
  {
   "cell_type": "code",
   "execution_count": 10,
   "id": "ac601ebd",
   "metadata": {},
   "outputs": [
    {
     "data": {
      "text/plain": [
       "'sas\\nsfddf\\ngfh'"
      ]
     },
     "execution_count": 10,
     "metadata": {},
     "output_type": "execute_result"
    }
   ],
   "source": [
    "file = open(\"filename.txt\", \"r\")\n",
    "content = file.read()\n",
    "file.close()\n",
    "content\n"
   ]
  },
  {
   "cell_type": "markdown",
   "id": "3e44edda",
   "metadata": {},
   "source": [
    "Читання певної кількості байтів:"
   ]
  },
  {
   "cell_type": "code",
   "execution_count": 3,
   "id": "ad2dc70e",
   "metadata": {},
   "outputs": [],
   "source": [
    "part = file.read(10)  # читає перші 10 байтів"
   ]
  },
  {
   "cell_type": "markdown",
   "id": "36f57d6a",
   "metadata": {},
   "source": [
    "Читання рядка:"
   ]
  },
  {
   "cell_type": "code",
   "execution_count": 4,
   "id": "60fff24c",
   "metadata": {},
   "outputs": [],
   "source": [
    "line = file.readline()"
   ]
  },
  {
   "cell_type": "code",
   "execution_count": 5,
   "id": "fa344090",
   "metadata": {},
   "outputs": [
    {
     "data": {
      "text/plain": [
       "''"
      ]
     },
     "execution_count": 5,
     "metadata": {},
     "output_type": "execute_result"
    }
   ],
   "source": [
    "line"
   ]
  },
  {
   "cell_type": "markdown",
   "id": "87f00330",
   "metadata": {},
   "source": [
    "Читання усіх рядків у список:"
   ]
  },
  {
   "cell_type": "code",
   "execution_count": 11,
   "id": "b941b95f",
   "metadata": {},
   "outputs": [
    {
     "data": {
      "text/plain": [
       "['sas\\n', 'sfddf\\n', 'gfh']"
      ]
     },
     "execution_count": 11,
     "metadata": {},
     "output_type": "execute_result"
    }
   ],
   "source": [
    "file = open(\"filename.txt\", \"r\")\n",
    "lines = file.readlines()\n",
    "file.close()\n",
    "lines"
   ]
  },
  {
   "cell_type": "markdown",
   "id": "ff53827e",
   "metadata": {},
   "source": [
    "# Запис в файл:\n",
    "Щоб записати в файл, його потрібно відкрити в режимі 'w' або 'a'.\n"
   ]
  },
  {
   "cell_type": "code",
   "execution_count": 8,
   "id": "f464c044",
   "metadata": {},
   "outputs": [
    {
     "data": {
      "text/plain": [
       "19"
      ]
     },
     "execution_count": 8,
     "metadata": {},
     "output_type": "execute_result"
    }
   ],
   "source": [
    "file = open(\"filename2.txt\", \"w\")\n",
    "file.write(\"This is a new line.\")"
   ]
  },
  {
   "cell_type": "markdown",
   "id": "a42d429b",
   "metadata": {},
   "source": [
    "Закриття файлу:"
   ]
  },
  {
   "cell_type": "code",
   "execution_count": 9,
   "id": "f5d10b76",
   "metadata": {},
   "outputs": [],
   "source": [
    "file.close()"
   ]
  },
  {
   "cell_type": "markdown",
   "id": "229c26c9",
   "metadata": {},
   "source": [
    "# WITH"
   ]
  },
  {
   "cell_type": "markdown",
   "id": "586ca57d",
   "metadata": {},
   "source": [
    "Робота з файлами за допомогою with:\n",
    "\n",
    "Використання контекстного менеджера with автоматично закриває файл після використання, що є корисним."
   ]
  },
  {
   "cell_type": "code",
   "execution_count": 9,
   "id": "18522674",
   "metadata": {},
   "outputs": [],
   "source": [
    "with open(\"filename.txt\", \"r\") as file:\n",
    "    content = file.read()"
   ]
  },
  {
   "cell_type": "markdown",
   "id": "5e7039a2",
   "metadata": {},
   "source": [
    "Конструкція with в Python використовується для забезпечення \"чистого\" виконання коду. Основне призначення цієї конструкції - впровадження контекстного менеджменту, який гарантує, що певні завдання будуть виконані перед тим, як вихід з блоку with.\n",
    "\n",
    "\n",
    "Ось декілька основних властивостей та переваг використання with:"
   ]
  },
  {
   "cell_type": "markdown",
   "id": "b8e66f55",
   "metadata": {},
   "source": [
    "##### Автоматичне закриття файлів:\n",
    "    \n",
    "Коли ви відкриваєте файл з використанням with, Python гарантує, що файл буде закритий відразу після виходу з блоку with, незалежно від того, чи виникли помилки чи ні."
   ]
  },
  {
   "cell_type": "code",
   "execution_count": 14,
   "id": "923c92d9",
   "metadata": {},
   "outputs": [],
   "source": [
    "with open(\"filename.txt\", \"r\") as file:\n",
    "    content = file.read()\n",
    "# Після виходу з блоку файл автоматично закривається."
   ]
  },
  {
   "cell_type": "markdown",
   "id": "f4fd18e0",
   "metadata": {},
   "source": [
    "##### Контекстні менеджери:\n",
    "Об'єкти, які можна використовувати з конструкцією with, називаються контекстними менеджерами. Щоб об'єкт міг бути використаний як контекстний менеджер, він повинен мати два методи: __enter__() та __exit__().\n",
    "\n",
    "* __enter__(): цей метод викликається, коли входимо в блок with.\n",
    "* __exit__(): цей метод викликається, коли виходимо з блоку with.\n",
    "Вбудована функція open є контекстним менеджером, оскільки вона має ці два методи. Однак ви також можете створити власні контекстні менеджери, оголосивши ці методи у вашому класі."
   ]
  },
  {
   "cell_type": "markdown",
   "id": "8f971d1f",
   "metadata": {},
   "source": [
    "##### Використання для інших ресурсів:\n",
    "\n",
    "Хоча найбільш поширеним випадком використання with є робота з файлами, ця конструкція може бути корисною й для інших ресурсів, таких як мережеві з'єднання, бази даних або м'ютьікси (mutexes) для синхронізації потоків."
   ]
  },
  {
   "cell_type": "markdown",
   "id": "fd525fc8",
   "metadata": {},
   "source": [
    "##### Зменшення помилок:\n",
    "Однією з основних переваг використання with є те, що він зменшує ймовірність помилок, таких як незакриті файли або незвільнені ресурси. Він також робить код чіткішим і більш зрозумілим.\n",
    "\n",
    "Підсумовуючи, конструкція with в Python є потужним засобом для забезпечення того, що певний код виконується в контексті певних ресурсів або умов, і вона є корисною для уникнення поширених помилок управління ресурсами."
   ]
  },
  {
   "cell_type": "markdown",
   "id": "5e451883",
   "metadata": {},
   "source": [
    "# Інші операції з файлами"
   ]
  },
  {
   "cell_type": "markdown",
   "id": "8a14a10c",
   "metadata": {},
   "source": [
    "Перевірка наявності файлу:\n",
    "\n",
    "Щоб уникнути помилок при відкритті неіснуючого файлу, можна використовувати модуль os."
   ]
  },
  {
   "cell_type": "code",
   "execution_count": 15,
   "id": "8c9d3166",
   "metadata": {},
   "outputs": [],
   "source": [
    "import os\n",
    "\n",
    "if os.path.exists(\"filename.txt\"):\n",
    "    with open(\"filename.txt\", \"r\") as file:\n",
    "        content = file.read()\n",
    "else:\n",
    "    print(\"Файл не знайдено.\")"
   ]
  },
  {
   "cell_type": "markdown",
   "id": "c5293b11",
   "metadata": {},
   "source": [
    "Видалення файлу:\n",
    "\n",
    "Ви можете видалити файл за допомогою модулю os."
   ]
  },
  {
   "cell_type": "code",
   "execution_count": 16,
   "id": "693a00e2",
   "metadata": {},
   "outputs": [],
   "source": [
    "os.remove(\"filename.txt\")"
   ]
  },
  {
   "cell_type": "code",
   "execution_count": null,
   "id": "fef5eef3",
   "metadata": {},
   "outputs": [],
   "source": []
  }
 ],
 "metadata": {
  "kernelspec": {
   "display_name": "Python 3",
   "language": "python",
   "name": "python3"
  },
  "language_info": {
   "codemirror_mode": {
    "name": "ipython",
    "version": 3
   },
   "file_extension": ".py",
   "mimetype": "text/x-python",
   "name": "python",
   "nbconvert_exporter": "python",
   "pygments_lexer": "ipython3",
   "version": "3.8.10"
  }
 },
 "nbformat": 4,
 "nbformat_minor": 5
}
