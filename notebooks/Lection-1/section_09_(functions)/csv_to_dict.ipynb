{
 "cells": [
  {
   "cell_type": "code",
   "execution_count": null,
   "id": "be92a732",
   "metadata": {
    "lines_to_next_cell": 0
   },
   "outputs": [],
   "source": []
  },
  {
   "cell_type": "code",
   "execution_count": null,
   "id": "8810b524",
   "metadata": {},
   "outputs": [],
   "source": [
    "def csvtodict(filename):\n",
    "    \n",
    "    with open(filename, 'r') as csv_file:\n",
    "        text = csv_file.read().strip().split('\\n')\n",
    "\n",
    "    header_row = text[0].split(',')\n",
    "\n",
    "    dictionary = {}\n",
    "\n",
    "    for row, line in enumerate(text[1:]):\n",
    "\n",
    "        dictionary[row] = {}\n",
    "\n",
    "        for col, cell in enumerate(line.split(',')):\n",
    "\n",
    "            dictionary[row][header_row[col]] = cell\n",
    "\n",
    "    return dictionary"
   ]
  },
  {
   "cell_type": "code",
   "execution_count": null,
   "id": "f68bd3fe",
   "metadata": {},
   "outputs": [],
   "source": [
    "print(csvtodict('events.csv'))"
   ]
  }
 ],
 "metadata": {
  "jupytext": {
   "cell_metadata_filter": "-all",
   "main_language": "python",
   "notebook_metadata_filter": "-all"
  }
 },
 "nbformat": 4,
 "nbformat_minor": 5
}
