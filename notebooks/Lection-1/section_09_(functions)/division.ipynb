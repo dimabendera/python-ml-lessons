{
 "cells": [
  {
   "cell_type": "code",
   "execution_count": null,
   "id": "14d5d62f",
   "metadata": {},
   "outputs": [],
   "source": [
    "def division(x, y):\n",
    "    if y == 0:\n",
    "        return  # Ділити на нуль не можна! Якщо ви це зробите, з'явиться повідомлення про помилку.\n",
    "    return x/y\n",
    "    # Мається на увазі, що це відбувається тільки тоді, коли y != 0,\n",
    "    # оскільки в іншому випадку функція закінчилася б на рядку 3"
   ]
  }
 ],
 "metadata": {
  "jupytext": {
   "cell_metadata_filter": "-all",
   "main_language": "python",
   "notebook_metadata_filter": "-all"
  }
 },
 "nbformat": 4,
 "nbformat_minor": 5
}
