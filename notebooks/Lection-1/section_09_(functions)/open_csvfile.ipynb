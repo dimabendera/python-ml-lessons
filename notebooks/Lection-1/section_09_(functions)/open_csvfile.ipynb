{
 "cells": [
  {
   "cell_type": "code",
   "execution_count": null,
   "id": "f130c652",
   "metadata": {},
   "outputs": [],
   "source": [
    "def open_csvfile(filename, delimiter=','):\n",
    "\n",
    "    with open(filename, \"r\") as csv_file:        \n",
    "        rows = csv_file.read().split(\"\\n\")\n",
    "\n",
    "    for index, row in enumerate(rows):\n",
    "        rows[index] = row.split(delimiter)\n",
    "\n",
    "    return rows"
   ]
  }
 ],
 "metadata": {
  "jupytext": {
   "cell_metadata_filter": "-all",
   "main_language": "python",
   "notebook_metadata_filter": "-all"
  }
 },
 "nbformat": 4,
 "nbformat_minor": 5
}
