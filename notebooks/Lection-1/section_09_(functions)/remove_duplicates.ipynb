{
 "cells": [
  {
   "cell_type": "code",
   "execution_count": null,
   "id": "bed4be04",
   "metadata": {},
   "outputs": [],
   "source": [
    "def remove_duplicates(from_list):\n",
    "\n",
    "    \"\"\" \n",
    "        Функція list() перетворить елемент на список.\n",
    "        Функція set() перетворить елемент на множину.\n",
    "\n",
    "        Набір схожий на список, але всі значення мають бути унікальними.\n",
    "\n",
    "        Перетворення списку на набір видаляє всі повторювані значення.\n",
    "        Потім ми перетворюємо його назад на список, оскільки нам найзручніше працювати зі списками.\n",
    "\n",
    "    \"\"\"\n",
    "\n",
    "    from_list = list(set(from_list))\n",
    "\n",
    "    return from_list"
   ]
  }
 ],
 "metadata": {
  "jupytext": {
   "cell_metadata_filter": "-all",
   "main_language": "python",
   "notebook_metadata_filter": "-all"
  }
 },
 "nbformat": 4,
 "nbformat_minor": 5
}
