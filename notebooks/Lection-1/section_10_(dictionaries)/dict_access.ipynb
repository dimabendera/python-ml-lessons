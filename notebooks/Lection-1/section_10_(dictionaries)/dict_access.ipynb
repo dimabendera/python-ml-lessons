{
 "cells": [
  {
   "cell_type": "markdown",
   "id": "3271c640",
   "metadata": {},
   "source": [
    "Це, мабуть, найкраще місце для початку зі словників."
   ]
  },
  {
   "cell_type": "markdown",
   "id": "6af6dff4",
   "metadata": {},
   "source": [
    "Спочатку давайте створимо рядок, список і словник."
   ]
  },
  {
   "cell_type": "code",
   "execution_count": null,
   "id": "a09f69e1",
   "metadata": {},
   "outputs": [],
   "source": [
    "name = \"Shannon\""
   ]
  },
  {
   "cell_type": "code",
   "execution_count": null,
   "id": "918c64ef",
   "metadata": {},
   "outputs": [],
   "source": [
    "attendees = ['Shannon', 'Amy', 'Jen', 'Julie']"
   ]
  },
  {
   "cell_type": "code",
   "execution_count": null,
   "id": "fad4698a",
   "metadata": {},
   "outputs": [],
   "source": [
    "contacts = {\n",
    "    'Shannon': '202-555-1234',\n",
    "    'Amy': '410-515-3000',\n",
    "    'Jen': '301-600-5555',\n",
    "    'Julie': '202-333-9876'\n",
    "}"
   ]
  },
  {
   "cell_type": "code",
   "execution_count": null,
   "id": "706b655e",
   "metadata": {},
   "outputs": [],
   "source": [
    "# Ми можемо отримати доступ до частини рядка за допомогою нарізки:\n",
    "print(name[0])  # S"
   ]
  },
  {
   "cell_type": "code",
   "execution_count": null,
   "id": "a903a3f0",
   "metadata": {},
   "outputs": [],
   "source": [
    "# Ми можемо отримати доступ до частини списку за допомогою нарізки:\n",
    "print(attendees[0:2])  # Shannon, Amy"
   ]
  },
  {
   "cell_type": "code",
   "execution_count": null,
   "id": "b52f1341",
   "metadata": {},
   "outputs": [],
   "source": [
    "# Ми можемо отримати доступ до частини словника, якщо знаємо його ключ.\n",
    "print(contacts['Jen'])  # 301-600-5555"
   ]
  },
  {
   "cell_type": "markdown",
   "id": "ff1c0616",
   "metadata": {},
   "source": [
    "У рядках 9-14 ми створили словник.\n",
    "Словники - це ще один спосіб зберігання інформації в Python.\n",
    "Словники складаються з пар ключ + значення."
   ]
  },
  {
   "cell_type": "markdown",
   "id": "02f4b61e",
   "metadata": {},
   "source": [
    "У контактах словника ключами є Шеннон, Емі, Джен і Джулі.\n",
    "Ключі словника — це рядки, які можна використовувати для перегляду вмісту.\n",
    "Значеннями словника можуть бути будь-які типи інформації - рядок, список, число, навіть словник!\n",
    "Те значення прив'язане до ключа - воно належить ключу."
   ]
  },
  {
   "cell_type": "markdown",
   "id": "63d51019",
   "metadata": {},
   "source": [
    "Кращий спосіб думати про словник - телефонна книга або список контактів.\n",
    "Наскільки складно було б, якби нам довелося зберігати такі контакти?"
   ]
  },
  {
   "cell_type": "code",
   "execution_count": null,
   "id": "1f9c737d",
   "metadata": {},
   "outputs": [],
   "source": [
    "contacts_as_list = [\n",
    "    ['Shannon', '202-555-1234'],\n",
    "    ['Amy', '410-515-3000'],\n",
    "    ['Jen', '301-600-5555'],\n",
    "    ['Julie', '202-333-9876']\n",
    "]"
   ]
  },
  {
   "cell_type": "markdown",
   "id": "6166f286",
   "metadata": {},
   "source": [
    "Що, якби ми хотіли отримати номер телефону Джен? Було б боляче його отримати!\n",
    "Нам доведеться зациклити кожен елемент у списку та перевірити назву, наприклад:"
   ]
  },
  {
   "cell_type": "code",
   "execution_count": null,
   "id": "5a503a55",
   "metadata": {},
   "outputs": [],
   "source": [
    "phone_we_want = 'Jen'"
   ]
  },
  {
   "cell_type": "code",
   "execution_count": null,
   "id": "540eac35",
   "metadata": {},
   "outputs": [],
   "source": [
    "for contact in contacts_as_list:\n",
    "    if contact[0] == phone_we_want:\n",
    "        print(contact[1]) # The phone number"
   ]
  },
  {
   "cell_type": "markdown",
   "id": "173af6b5",
   "metadata": {},
   "source": [
    "Вид болю.  На щастя, словники означають, що нам не потрібно цього робити!"
   ]
  },
  {
   "cell_type": "code",
   "execution_count": null,
   "id": "9df09c6f",
   "metadata": {},
   "outputs": [],
   "source": [
    "print(contacts['Jen'])"
   ]
  }
 ],
 "metadata": {
  "jupytext": {
   "cell_metadata_filter": "-all",
   "main_language": "python",
   "notebook_metadata_filter": "-all"
  }
 },
 "nbformat": 4,
 "nbformat_minor": 5
}
