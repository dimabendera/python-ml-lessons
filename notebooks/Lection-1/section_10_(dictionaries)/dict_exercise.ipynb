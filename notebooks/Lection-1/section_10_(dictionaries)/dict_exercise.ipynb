{
 "cells": [
  {
   "cell_type": "code",
   "execution_count": null,
   "id": "6e11a548",
   "metadata": {},
   "outputs": [],
   "source": [
    "schools = {\n",
    "    \"geometry\": {\n",
    "        \"coordinates\": [\n",
    "            -81.50572799999999, \n",
    "            39.21675500000001\n",
    "        ], \n",
    "        \"type\": \"Point\"\n",
    "    }, \n",
    "    \"properties\": {\n",
    "        \"address\": \"300 Campus Drive, Parkersburg, WV 26104\", \n",
    "        \"marker-color\": \"#3F3040\", \n",
    "        \"marker-symbol\": \"circle\", \n",
    "        \"name\": \"West Virginia University at Parkersburg\"\n",
    "    }, \n",
    "    \"type\": \"Feature\"\n",
    "}"
   ]
  },
  {
   "cell_type": "markdown",
   "id": "795024fa",
   "metadata": {},
   "source": [
    "Приклад питання: Як ви могли «нарізати» словник для друку «Особливість» з рядка 15?\n",
    "Відповідь: друковані школи[\"тип\"]"
   ]
  },
  {
   "cell_type": "markdown",
   "id": "508d9e74",
   "metadata": {},
   "source": [
    "Питання 1: Який фрагмент дасть вам словник\n",
    "  з ключем \"координати\" і значенням, що містить список\n",
    "  з пунктами -81.505727999999999 та 39.21675500000001?"
   ]
  },
  {
   "cell_type": "markdown",
   "id": "ea1b281f",
   "metadata": {},
   "source": [
    "Питання 2: Який фрагмент дасть вам адресу школи?"
   ]
  },
  {
   "cell_type": "markdown",
   "id": "4ea069d3",
   "metadata": {},
   "source": [
    "Питання 3: Який фрагмент дасть вам назву школи?"
   ]
  },
  {
   "cell_type": "markdown",
   "id": "1be182c6",
   "metadata": {},
   "source": [
    "Питання 4: Який шматочок дасть вам широту школи?\n",
    "  (Підказка: широта 39.216...)"
   ]
  },
  {
   "cell_type": "markdown",
   "id": "f822dc47",
   "metadata": {},
   "source": [
    "Питання 5 (бонус): Який зріз додасть вам маркер-колір\n",
    "  без хештегу спереду?"
   ]
  }
 ],
 "metadata": {
  "jupytext": {
   "cell_metadata_filter": "-all",
   "main_language": "python",
   "notebook_metadata_filter": "-all"
  }
 },
 "nbformat": 4,
 "nbformat_minor": 5
}
