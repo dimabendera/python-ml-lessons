{
 "cells": [
  {
   "cell_type": "code",
   "execution_count": null,
   "id": "a14cfee3",
   "metadata": {},
   "outputs": [],
   "source": [
    "contacts = {\n",
    "    \"Hear Me Code\": {\n",
    "        \"twitter\": \"@hearmecode\",\n",
    "        \"github\": \"https://github.com/hearmecode\"\n",
    "    },\n",
    "    \"Shannon Turner\": {\n",
    "        \"twitter\": \"@svthmc\",\n",
    "        \"github\": \"https://github.com/shannonturner\"\n",
    "    },\n",
    "}"
   ]
  },
  {
   "cell_type": "code",
   "execution_count": null,
   "id": "4af210c9",
   "metadata": {},
   "outputs": [],
   "source": [
    "# Як додати новий елемент в існуючий словник:\n",
    "contacts[\"Aliya Rahman\"] = {\n",
    "    \"twitter\": \"@AliyaRahman\",\n",
    "    \"github\": \"https://github.com/aliyarahman\"\n",
    "}"
   ]
  },
  {
   "cell_type": "markdown",
   "id": "2c329198",
   "metadata": {},
   "source": [
    "Вправа 1: Додайте новий елемент словника до контактів кожної людини за вашим столом.\n",
    "  Замість того, щоб редагувати рядки 1-10 вище, додайте нові статті до словника контактів нижче.\n",
    "  Майте на увазі, що деякі люди можуть не мати облікового запису Twitter, і це нормально!"
   ]
  },
  {
   "cell_type": "markdown",
   "id": "e9a82ffb",
   "metadata": {},
   "source": [
    "Вправа 2: Циклічно гортайте словник контактів, щоб відобразити контактну інформацію кожного.\n",
    "  Ваш результат має виглядати так:"
   ]
  },
  {
   "cell_type": "markdown",
   "id": "2c1e0f47",
   "metadata": {},
   "source": [
    "Hear Me Code's info:\n",
    "    twitter: @hearmecode\n",
    "    github: https://github.com/hearmecode\n",
    "Shannon Turner's info: \n",
    "    twitter: @svthmc\n",
    "    github: https://github.com/shannonturner"
   ]
  }
 ],
 "metadata": {
  "jupytext": {
   "cell_metadata_filter": "-all",
   "main_language": "python",
   "notebook_metadata_filter": "-all"
  }
 },
 "nbformat": 4,
 "nbformat_minor": 5
}
