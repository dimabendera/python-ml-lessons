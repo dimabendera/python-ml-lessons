{
 "cells": [
  {
   "cell_type": "markdown",
   "id": "5e2df86e",
   "metadata": {},
   "source": [
    "Якщо ви новачок у словниках, ви можете почати з dict_access.py"
   ]
  },
  {
   "cell_type": "markdown",
   "id": "209daa0f",
   "metadata": {},
   "source": [
    "Створюємо словник."
   ]
  },
  {
   "cell_type": "code",
   "execution_count": null,
   "id": "fcbc24a3",
   "metadata": {},
   "outputs": [],
   "source": [
    "contacts = {\n",
    "    'Shannon': '202-555-1234',\n",
    "    'Amy': '410-515-3000',\n",
    "    'Jen': '301-600-5555',\n",
    "    'Julie': '202-333-9876'\n",
    "}"
   ]
  },
  {
   "cell_type": "code",
   "execution_count": null,
   "id": "e65e02ef",
   "metadata": {},
   "outputs": [],
   "source": [
    "name = input(\"Enter the name of the person whose phone number you want: \")"
   ]
  },
  {
   "cell_type": "code",
   "execution_count": null,
   "id": "7c613bf0",
   "metadata": {},
   "outputs": [],
   "source": [
    "print(\"We will get a KeyError if you entered a name that wasn't in the dictionary.\")\n",
    "print(\"{0}'s number is: {1}\".format(name, contacts[name]))"
   ]
  },
  {
   "cell_type": "code",
   "execution_count": null,
   "id": "3cf2e521",
   "metadata": {},
   "outputs": [],
   "source": [
    "print(\"But there's a way we don't need to worry about KeyErrors.\")"
   ]
  },
  {
   "cell_type": "code",
   "execution_count": null,
   "id": "6c26ee7e",
   "metadata": {},
   "outputs": [],
   "source": [
    "name = input(\"Enter the name of the person whose phone number you want ... might I suggest Frankenstein? \")"
   ]
  },
  {
   "cell_type": "markdown",
   "id": "5c09bf6e",
   "metadata": {},
   "source": [
    ".get() - це метод словника, який дозволяє нам безпечно отримати доступ до словника, навіть якщо цього ключа не існує."
   ]
  },
  {
   "cell_type": "code",
   "execution_count": null,
   "id": "0cd16949",
   "metadata": {},
   "outputs": [],
   "source": [
    "print(\"{0}'s number is ... {1}\".format(name, contacts.get(name, \" ... I couldn't find it!\")))"
   ]
  }
 ],
 "metadata": {
  "jupytext": {
   "cell_metadata_filter": "-all",
   "main_language": "python",
   "notebook_metadata_filter": "-all"
  }
 },
 "nbformat": 4,
 "nbformat_minor": 5
}
