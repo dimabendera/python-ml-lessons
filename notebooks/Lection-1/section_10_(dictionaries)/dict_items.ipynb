{
 "cells": [
  {
   "cell_type": "markdown",
   "id": "e3ed611a",
   "metadata": {},
   "source": [
    "Якщо ви новачок у словниках, ви можете почати з dict_access.py"
   ]
  },
  {
   "cell_type": "markdown",
   "id": "8c74c2a1",
   "metadata": {},
   "source": [
    "Створюємо словник."
   ]
  },
  {
   "cell_type": "code",
   "execution_count": null,
   "id": "71357edd",
   "metadata": {},
   "outputs": [],
   "source": [
    "contacts = {\n",
    "    'Shannon': '202-555-1234',\n",
    "    'Amy': '410-515-3000',\n",
    "    'Jen': '301-600-5555',\n",
    "    'Julie': '202-333-9876'\n",
    "}"
   ]
  },
  {
   "cell_type": "markdown",
   "id": "8946c034",
   "metadata": {},
   "source": [
    "Ми можемо використовувати метод словника .items(), щоб дати нам список усіх елементів у контактах."
   ]
  },
  {
   "cell_type": "code",
   "execution_count": null,
   "id": "db9a9442",
   "metadata": {},
   "outputs": [],
   "source": [
    "print(list(contacts.items()))"
   ]
  },
  {
   "cell_type": "markdown",
   "id": "55241acd",
   "metadata": {},
   "source": [
    "Строго кажучи, .items() не дає нам список, він дає нам *кортеж*,\n",
    "що є ще одним способом зберігання інформації в Python.\n",
    "Кортежі майже ідентичні спискам, за винятком того, що вони доступні лише для читання.\n",
    "Ви не можете додавати/видаляти з кортежу.\n",
    "Але доступ до них і вони використовуються майже однаково, тому ми будемо ставитися до цього так,\n",
    "ніби Python дає нам список, і він буде вести себе так, як ми очікуємо."
   ]
  },
  {
   "cell_type": "markdown",
   "id": "2e4bf9a1",
   "metadata": {},
   "source": [
    ".items() дає нам ключ і ціннісну пару разом - щоб ми могли використовувати це безпосередньо, коли ми циклічно."
   ]
  },
  {
   "cell_type": "code",
   "execution_count": null,
   "id": "9f81f02b",
   "metadata": {},
   "outputs": [],
   "source": [
    "for contact, phone in list(contacts.items()):\n",
    "    print(\"{0}'s number is {1}\".format(contact, phone))"
   ]
  },
  {
   "cell_type": "markdown",
   "id": "88cd431e",
   "metadata": {},
   "source": [
    ".items() ймовірно, найчастіше використовується з .keys(), .values() і .items(),\n",
    "оскільки він надає вам ключ і значення разом."
   ]
  }
 ],
 "metadata": {
  "jupytext": {
   "cell_metadata_filter": "-all",
   "main_language": "python",
   "notebook_metadata_filter": "-all"
  }
 },
 "nbformat": 4,
 "nbformat_minor": 5
}
