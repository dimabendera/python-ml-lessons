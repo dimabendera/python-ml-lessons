{
 "cells": [
  {
   "cell_type": "markdown",
   "id": "5e6ef2d5",
   "metadata": {},
   "source": [
    "Якщо ви новачок у словниках, ви можете почати з dict_access.py"
   ]
  },
  {
   "cell_type": "code",
   "execution_count": null,
   "id": "d939a5f1",
   "metadata": {},
   "outputs": [],
   "source": [
    "# Створюємо словник.\n",
    "contacts = {\n",
    "    'Shannon': '202-555-1234',\n",
    "    'Amy': '410-515-3000',\n",
    "    'Jen': '301-600-5555',\n",
    "    'Julie': '202-333-9876'\n",
    "}"
   ]
  },
  {
   "cell_type": "code",
   "execution_count": null,
   "id": "a50a1ea5",
   "metadata": {},
   "outputs": [],
   "source": [
    "# Ми можемо використовувати метод словника .keys(), щоб дати нам список усіх ключів у контактах.\n",
    "print(list(contacts.keys()))"
   ]
  },
  {
   "cell_type": "code",
   "execution_count": null,
   "id": "69ef63f4",
   "metadata": {},
   "outputs": [],
   "source": [
    "for contact in list(contacts.keys()):\n",
    "    print(\"{0}'s number is {1}\".format(contact, contacts[contact]))"
   ]
  },
  {
   "cell_type": "markdown",
   "id": "4eebf142",
   "metadata": {},
   "source": [
    "Словники невпорядковані, тому ключі (та їхні значення) можуть бути в іншому порядку кожного разу.\n",
    "А можуть і ні.  У будь-якому випадку, це нормально."
   ]
  },
  {
   "cell_type": "markdown",
   "id": "44ff29be",
   "metadata": {},
   "source": [
    "Іншими словами, ви не можете покладатися на впорядкування чого-небудь у словнику.\n",
    "Але ви можете застосувати замовлення до ключів."
   ]
  },
  {
   "cell_type": "markdown",
   "id": "06e43a99",
   "metadata": {},
   "source": [
    "Вбудована функція sorted() відсортує список за зростанням."
   ]
  },
  {
   "cell_type": "code",
   "execution_count": null,
   "id": "49d6dfb8",
   "metadata": {},
   "outputs": [],
   "source": [
    "for contact in sorted(contacts.keys()):\n",
    "    print(\"{0}'s number is {1}\".format(contact, contacts[contact]))"
   ]
  }
 ],
 "metadata": {
  "jupytext": {
   "cell_metadata_filter": "-all",
   "main_language": "python",
   "notebook_metadata_filter": "-all"
  }
 },
 "nbformat": 4,
 "nbformat_minor": 5
}
