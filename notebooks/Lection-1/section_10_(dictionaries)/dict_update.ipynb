{
 "cells": [
  {
   "cell_type": "markdown",
   "id": "6bd3ca9e",
   "metadata": {},
   "source": [
    "Якщо ви новачок у словниках, ви можете почати з dict_access.py"
   ]
  },
  {
   "cell_type": "code",
   "execution_count": null,
   "id": "4496bb05",
   "metadata": {},
   "outputs": [],
   "source": [
    "# Створюємо словник.\n",
    "contacts = {\n",
    "    'Shannon': '202-555-1234',\n",
    "    'Amy': '410-515-3000',\n",
    "    'Jen': '301-600-5555',\n",
    "    'Julie': '202-333-9876'\n",
    "}"
   ]
  },
  {
   "cell_type": "code",
   "execution_count": null,
   "id": "f2c3c1dc",
   "metadata": {},
   "outputs": [],
   "source": [
    "# Якщо ми хочемо додати новий елемент до словника, ми можемо використовувати прямий доступ, щоб змінити його.\n",
    "contacts['Rachel'] = '202-888-1234'"
   ]
  },
  {
   "cell_type": "code",
   "execution_count": null,
   "id": "ea149424",
   "metadata": {},
   "outputs": [],
   "source": [
    "# Ми також можемо зробити те ж саме, щоб змінити існуючий словниковий елемент.\n",
    "contacts['Amy'] = '703-444-8888'"
   ]
  },
  {
   "cell_type": "markdown",
   "id": "f1dea9a7",
   "metadata": {},
   "source": [
    "Це чудово підходить для зміни словника по одному ключу за раз, але, скажімо, у нас є багато оновлень.\n",
    "У нас є два варіанти."
   ]
  },
  {
   "cell_type": "code",
   "execution_count": null,
   "id": "c19114c4",
   "metadata": {},
   "outputs": [],
   "source": [
    "new_contacts = {\n",
    "    'Kristin': '703-333-1234',\n",
    "    'Katie': '301-555-9876',\n",
    "    'Grace': '202-777-2222',\n",
    "    'Charlotte': '410-555-9999'\n",
    "}"
   ]
  },
  {
   "cell_type": "markdown",
   "id": "332534c6",
   "metadata": {},
   "source": [
    "Варіант 1: Циклічний перегляд змін по одному."
   ]
  },
  {
   "cell_type": "code",
   "execution_count": null,
   "id": "754c33d1",
   "metadata": {},
   "outputs": [],
   "source": [
    "for name, phone in list(new_contacts.items()):\n",
    "    contacts[name] = phone"
   ]
  },
  {
   "cell_type": "code",
   "execution_count": null,
   "id": "159f048d",
   "metadata": {
    "lines_to_next_cell": 2
   },
   "outputs": [],
   "source": [
    "# Тепер у контактах є все в new_contacts.\n",
    "print(contacts, \"\\n\")"
   ]
  },
  {
   "cell_type": "code",
   "execution_count": null,
   "id": "518e2910",
   "metadata": {},
   "outputs": [],
   "source": [
    "# Давайте повернемо контакти до значення, яке вони мали до того, як ми додали new_contacts.\n",
    "contacts = {\n",
    "    'Shannon': '202-555-1234',\n",
    "    'Amy': '410-515-3000',\n",
    "    'Jen': '301-600-5555',\n",
    "    'Julie': '202-333-9876',\n",
    "    'Rachel': '202-888-1234'\n",
    "}"
   ]
  },
  {
   "cell_type": "code",
   "execution_count": null,
   "id": "5505c5a1",
   "metadata": {},
   "outputs": [],
   "source": [
    "# Варіант 2: Використовуйте словниковий метод .update()\n",
    "contacts.update(new_contacts)"
   ]
  },
  {
   "cell_type": "code",
   "execution_count": null,
   "id": "add5a592",
   "metadata": {},
   "outputs": [],
   "source": [
    "print(contacts)"
   ]
  }
 ],
 "metadata": {
  "jupytext": {
   "cell_metadata_filter": "-all",
   "main_language": "python",
   "notebook_metadata_filter": "-all"
  }
 },
 "nbformat": 4,
 "nbformat_minor": 5
}
