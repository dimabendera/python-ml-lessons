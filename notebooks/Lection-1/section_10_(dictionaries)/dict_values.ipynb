{
 "cells": [
  {
   "cell_type": "markdown",
   "id": "4be87501",
   "metadata": {},
   "source": [
    "Якщо ви новачок у словниках, ви можете почати з dict_access.py"
   ]
  },
  {
   "cell_type": "code",
   "execution_count": null,
   "id": "744051a7",
   "metadata": {},
   "outputs": [],
   "source": [
    "# Створюємо словник.\n",
    "contacts = {\n",
    "    'Shannon': '202-555-1234',\n",
    "    'Amy': '410-515-3000',\n",
    "    'Jen': '301-600-5555',\n",
    "    'Julie': '202-333-9876'\n",
    "}"
   ]
  },
  {
   "cell_type": "code",
   "execution_count": null,
   "id": "1c5daa2c",
   "metadata": {},
   "outputs": [],
   "source": [
    "# Ми можемо використовувати метод словника .values(), щоб дати нам список усіх значень у контактах.\n",
    "print(list(contacts.values()))"
   ]
  },
  {
   "cell_type": "code",
   "execution_count": null,
   "id": "30f20d0f",
   "metadata": {},
   "outputs": [],
   "source": [
    "for phone in list(contacts.values()):\n",
    "    print(\"{0}\".format(phone))"
   ]
  },
  {
   "cell_type": "markdown",
   "id": "9cf8f652",
   "metadata": {},
   "source": [
    ".values() використовується рідше, ніж .keys(), оскільки ви не можете отримати ключ зі значення\n",
    "(але ви можете отримати значення, якщо знаєте ключ)"
   ]
  },
  {
   "cell_type": "markdown",
   "id": "b457a271",
   "metadata": {},
   "source": [
    "Використовуйте .values(), якщо вам байдуже, що це за ключ, вам просто потрібен список усіх значень.\n",
    "Це рідше, але все ж добре знати."
   ]
  }
 ],
 "metadata": {
  "jupytext": {
   "cell_metadata_filter": "-all",
   "main_language": "python",
   "notebook_metadata_filter": "-all"
  }
 },
 "nbformat": 4,
 "nbformat_minor": 5
}
