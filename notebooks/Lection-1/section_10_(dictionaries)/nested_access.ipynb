{
 "cells": [
  {
   "cell_type": "code",
   "execution_count": null,
   "id": "d7fa4ffc",
   "metadata": {},
   "outputs": [],
   "source": [
    "def access(dictionary, nested_keys):\n",
    "\n",
    "    \"\"\" Спробуйте отримати доступ до вкладених клавіш у словнику.\n",
    "        Повертає значення False (хибність) замість помилки ключа (KeyError) у разі помилки.\n",
    "\n",
    "        Написано, щоб уникнути необхідності виконувати кілька спроб/за винятком\n",
    "        блоків при спробі отримати доступ до певних значень у JSON.\n",
    "\n",
    "        Раніше:\n",
    "            try:\n",
    "                title = response['response']['docs'][0]['descriptiveNonRepeating']['title']['content']\n",
    "            except KeyError:\n",
    "                pass\n",
    "\n",
    "            # ... і повторюючи цю структуру для кожної змінної, яку ми хотіли б зберегти.\n",
    "            # Ми могли б загорнути *цілу* річ у спробу/крім, але тоді це спровокувало б хіба що на першій невдачі.\n",
    "\n",
    "        Зараз:\n",
    "            title = access(response, ['response', 'docs', 0, 'descriptiveNonRepeating', 'title', 'content'])\n",
    "\n",
    "            # ... і повторюючи цю структуру для кожної змінної, яку ми хотіли б зберегти.\n",
    "\n",
    "    \"\"\"\n",
    "\n",
    "    for index, key in enumerate(nested_keys):\n",
    "\n",
    "        print(index, key)\n",
    "\n",
    "        try:\n",
    "            if key in dictionary:\n",
    "                if nested_keys[index + 1:] != []:\n",
    "                    return access(dictionary[key], nested_keys[index + 1:])\n",
    "                else:\n",
    "                    return dictionary[key]\n",
    "            else:\n",
    "                return False\n",
    "        except AttributeError:  # На даний момент словник являє собою список, можливо, містить словники\n",
    "            if key < len(dictionary):\n",
    "                if nested_keys[index + 1:] != []:\n",
    "                    return access(dictionary[key], nested_keys[index + 1:])\n",
    "                else:\n",
    "                    return dictionary[key]\n",
    "            else:\n",
    "                return False"
   ]
  }
 ],
 "metadata": {
  "jupytext": {
   "cell_metadata_filter": "-all",
   "main_language": "python",
   "notebook_metadata_filter": "-all"
  }
 },
 "nbformat": 4,
 "nbformat_minor": 5
}
