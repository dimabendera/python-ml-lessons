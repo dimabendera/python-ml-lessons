{
 "cells": [
  {
   "cell_type": "markdown",
   "id": "8aa2830b",
   "metadata": {},
   "source": [
    "Перетворення словників (а також списків, рядків тощо) у JSON"
   ]
  },
  {
   "cell_type": "code",
   "execution_count": null,
   "id": "b9ae1586",
   "metadata": {},
   "outputs": [],
   "source": [
    "# Для початку використовуйте вбудовану бібліотеку json.  Вам не потрібно встановлювати це, він поставляється з python.\n",
    "import json"
   ]
  },
  {
   "cell_type": "code",
   "execution_count": null,
   "id": "e50b4d1f",
   "metadata": {},
   "outputs": [],
   "source": [
    "# Тепер завантажте файл (contacts.json) section_11_(api)/dict_to_json.py\n",
    "with open('contacts.json', 'r') as contacts_file:\n",
    "    contacts = contacts_file.read()"
   ]
  },
  {
   "cell_type": "code",
   "execution_count": null,
   "id": "943b1f02",
   "metadata": {},
   "outputs": [],
   "source": [
    "print(contacts)"
   ]
  },
  {
   "cell_type": "code",
   "execution_count": null,
   "id": "5e2d84e1",
   "metadata": {},
   "outputs": [],
   "source": [
    "print(\"\\n\\n contacts above is a string\")"
   ]
  },
  {
   "cell_type": "code",
   "execution_count": null,
   "id": "5a6f5361",
   "metadata": {},
   "outputs": [],
   "source": [
    "# Тепер ми завантажили вміст файлу у вигляді рядка, який виглядає як JSON.\n",
    "# json.loads() дозволить нам завантажити його назад у форму, яку Python може використовувати (і циклічно переключити)\n",
    "contacts = json.loads(contacts)"
   ]
  },
  {
   "cell_type": "code",
   "execution_count": null,
   "id": "1d5a910e",
   "metadata": {},
   "outputs": [],
   "source": [
    "print(contacts)"
   ]
  },
  {
   "cell_type": "code",
   "execution_count": null,
   "id": "599a0a4a",
   "metadata": {},
   "outputs": [],
   "source": [
    "print(\"\\n\\n Тепер ви можете циклічно переглядати контакти, оскільки це список \"\n",
    "      \"(зі словниками та іншими смаколиками, вкладеними всередині)\")"
   ]
  }
 ],
 "metadata": {
  "jupytext": {
   "cell_metadata_filter": "-all",
   "main_language": "python",
   "notebook_metadata_filter": "-all"
  }
 },
 "nbformat": 4,
 "nbformat_minor": 5
}
