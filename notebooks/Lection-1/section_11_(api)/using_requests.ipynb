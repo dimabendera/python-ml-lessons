{
 "cells": [
  {
   "cell_type": "code",
   "execution_count": null,
   "id": "40bfffe1",
   "metadata": {},
   "outputs": [],
   "source": [
    "import requests"
   ]
  },
  {
   "cell_type": "code",
   "execution_count": null,
   "id": "79b8779a",
   "metadata": {},
   "outputs": [],
   "source": [
    "title = input(\"Enter your movie: \")"
   ]
  },
  {
   "cell_type": "code",
   "execution_count": null,
   "id": "0ab06bf0",
   "metadata": {},
   "outputs": [],
   "source": [
    "url = 'http://bechdeltest.com/api/v1/getMoviesByTitle?title={0}'.format(title).replace(\" \", \"+\").replace(\"'\", \"&#39;\")"
   ]
  },
  {
   "cell_type": "code",
   "execution_count": null,
   "id": "db38f62a",
   "metadata": {},
   "outputs": [],
   "source": [
    "print(url)"
   ]
  },
  {
   "cell_type": "code",
   "execution_count": null,
   "id": "a9d1a427",
   "metadata": {},
   "outputs": [],
   "source": [
    "response = requests.get(url).json()"
   ]
  },
  {
   "cell_type": "code",
   "execution_count": null,
   "id": "55d02f63",
   "metadata": {},
   "outputs": [],
   "source": [
    "print(response)"
   ]
  },
  {
   "cell_type": "markdown",
   "id": "2f0cbceb",
   "metadata": {},
   "source": [
    "Пошук за запитом «матриця» дає наступну відповідь JSON (це надруковано в рядку 11):"
   ]
  },
  {
   "cell_type": "markdown",
   "id": "69265317",
   "metadata": {},
   "source": [
    "[\n",
    "    {\n",
    "        u'rating': u'3', \n",
    "        u'submitterid': u'1', \n",
    "        u'imdbid': u'0234215', \n",
    "        u'title': u'Matrix Reloaded, The', \n",
    "        u'dubious': u'0', \n",
    "        u'visible': u'1', \n",
    "        u'year': u'2003', \n",
    "        u'date': u'2008-07-21 00:00:00', \n",
    "        u'id': u'58'\n",
    "    },"
   ]
  },
  {
   "cell_type": "markdown",
   "id": "26aa740a",
   "metadata": {},
   "source": [
    "    {\n",
    "        u'rating': u'3', \n",
    "        u'submitterid': u'1', \n",
    "        u'imdbid': u'0242653', \n",
    "        u'title': u'Matrix Revolutions, The', \n",
    "        u'dubious': u'0', \n",
    "        u'visible': u'1', \n",
    "        u'year': u'2003', \n",
    "        u'date': u'2008-07-21 00:00:00', \n",
    "        u'id': u'59'\n",
    "    }, "
   ]
  },
  {
   "cell_type": "markdown",
   "id": "aad397b0",
   "metadata": {},
   "source": [
    "    {\n",
    "        u'rating': u'1', \n",
    "        u'submitterid': u'7916', \n",
    "        u'imdbid': u'0303678', \n",
    "        u'title': u'Armitage: Dual Matrix', \n",
    "        u'dubious': u'1', \n",
    "        u'visible': u'1', \n",
    "        u'year': u'2002', \n",
    "        u'date': u'2013-08-01 15:26:03', \n",
    "        u'id': u'4429'\n",
    "    }, "
   ]
  },
  {
   "cell_type": "markdown",
   "id": "480e92ce",
   "metadata": {},
   "source": [
    "    {\n",
    "        u'rating': u'3', \n",
    "        u'submitterid': u'1', \n",
    "        u'imdbid': u'0133093', \n",
    "        u'title': u'Matrix, The', \n",
    "        u'dubious': u'0', \n",
    "        u'visible': u'1', \n",
    "        u'year': u'1999', \n",
    "        u'date': u'2008-07-20 00:00:00', \n",
    "        u'id': u'36'\n",
    "    }\n",
    "]"
   ]
  },
  {
   "cell_type": "code",
   "execution_count": null,
   "id": "747ec8c8",
   "metadata": {},
   "outputs": [],
   "source": [
    "# Який потім зациклюється\n",
    "for movie in response:\n",
    "    print(movie['title'], movie['rating'])"
   ]
  },
  {
   "cell_type": "markdown",
   "id": "201758e4",
   "metadata": {},
   "source": [
    "Matrix Reloaded, The 3\n",
    "Matrix Revolutions, The 3\n",
    "Armitage: Dual Matrix 1\n",
    "Matrix, The 3"
   ]
  }
 ],
 "metadata": {
  "jupytext": {
   "cell_metadata_filter": "-all",
   "main_language": "python",
   "notebook_metadata_filter": "-all"
  }
 },
 "nbformat": 4,
 "nbformat_minor": 5
}
