{
 "cells": [
  {
   "cell_type": "markdown",
   "id": "a327dc56",
   "metadata": {},
   "source": [
    "Example #2: Винятки запускають блок except і пропускають будь-який код після помилки."
   ]
  },
  {
   "cell_type": "code",
   "execution_count": null,
   "id": "a6f4e067",
   "metadata": {},
   "outputs": [],
   "source": [
    "try:\n",
    "    print(1/0)  # Зробити це не вдасться.\n",
    "    print(\"I'm code that will never run!\")\n",
    "\n",
    "    print(555/0)  # Це не вдасться, якщо ми ніколи не потрапимо сюди.\n",
    "    # Ось чому найкраще використовувати блок проб на найменшій кількості рядків коду."
   ]
  },
  {
   "cell_type": "code",
   "execution_count": null,
   "id": "f5fca006",
   "metadata": {},
   "outputs": [],
   "source": [
    "except ZeroDivisionError:\n",
    "    print(\"You still can't divide by zero!\")"
   ]
  }
 ],
 "metadata": {
  "jupytext": {
   "cell_metadata_filter": "-all",
   "main_language": "python",
   "notebook_metadata_filter": "-all"
  }
 },
 "nbformat": 4,
 "nbformat_minor": 5
}
