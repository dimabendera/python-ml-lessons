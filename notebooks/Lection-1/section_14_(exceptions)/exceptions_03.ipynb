{
 "cells": [
  {
   "cell_type": "markdown",
   "id": "f5cb0428",
   "metadata": {},
   "source": [
    "Example #3: Можуть бути спіймані різні види винятків."
   ]
  },
  {
   "cell_type": "code",
   "execution_count": null,
   "id": "5cf78dba",
   "metadata": {},
   "outputs": [],
   "source": [
    "print(\"Example #3: Phonebook!\")"
   ]
  },
  {
   "cell_type": "code",
   "execution_count": null,
   "id": "c55f1051",
   "metadata": {},
   "outputs": [],
   "source": [
    "phonebook = {}"
   ]
  },
  {
   "cell_type": "code",
   "execution_count": null,
   "id": "9de6af9b",
   "metadata": {
    "lines_to_next_cell": 2
   },
   "outputs": [],
   "source": [
    "while True:  # Це буде циклічно вічно, поки ми не зробимо перерву!\n",
    "\n",
    "    key = input(\" (Ex #3, Phonebook) Please enter a person's name, or leave blank to quit: \")\n",
    "\n",
    "    if key == '':\n",
    "        break\n",
    "    \n",
    "    value = input(\" (Ex #3, Phonebook) Please enter {0}'s phone number with no punctuation: \")\n",
    "\n",
    "    phonebook[key] = value"
   ]
  },
  {
   "cell_type": "code",
   "execution_count": null,
   "id": "e6479dde",
   "metadata": {},
   "outputs": [],
   "source": [
    "user_input = input(\"Okay, now we're done entering names. \"\n",
    "                   \"Please enter the name of the person whose number you would like: \")"
   ]
  },
  {
   "cell_type": "code",
   "execution_count": null,
   "id": "43fc5356",
   "metadata": {},
   "outputs": [],
   "source": [
    "try:\n",
    "    print(int(phonebook[user_input]))\n",
    "except KeyError:\n",
    "    print(\"You don't have {0}'s phone number!\".format(user_input))\n",
    "except ValueError:\n",
    "    print(\"You typed in punctuation, didn't you?\")\n",
    "    print(\"Here's the number anyway ... {0}\".format(phonebook[user_input]))"
   ]
  }
 ],
 "metadata": {
  "jupytext": {
   "cell_metadata_filter": "-all",
   "main_language": "python",
   "notebook_metadata_filter": "-all"
  }
 },
 "nbformat": 4,
 "nbformat_minor": 5
}
