{
 "cells": [
  {
   "cell_type": "markdown",
   "id": "fb8002e2",
   "metadata": {},
   "source": [
    "Example #4: Універсальний обробник: виняток"
   ]
  },
  {
   "cell_type": "code",
   "execution_count": null,
   "id": "a75f3f07",
   "metadata": {},
   "outputs": [],
   "source": [
    "print(\"Now we'll just repeat the try ... except block from Example #3 but with a catch-all for any exception.\")"
   ]
  },
  {
   "cell_type": "code",
   "execution_count": null,
   "id": "5db355b4",
   "metadata": {},
   "outputs": [],
   "source": [
    "phonebook = {}"
   ]
  },
  {
   "cell_type": "code",
   "execution_count": null,
   "id": "992405ad",
   "metadata": {},
   "outputs": [],
   "source": [
    "while True:  # Це буде циклічно вічно, поки ми не зробимо перерву!\n",
    "    key = input(\" (Ex #3, Phonebook) Please enter a person's name, or leave blank to quit: \")\n",
    "    if key == '':\n",
    "        break\n",
    "    value = input(\" (Ex #3, Phonebook) Please enter {0}'s phone number with no punctuation: \")\n",
    "    phonebook[key] = value"
   ]
  },
  {
   "cell_type": "code",
   "execution_count": null,
   "id": "8d897844",
   "metadata": {},
   "outputs": [],
   "source": [
    "user_input = input(\" Okay, now we're done entering names. \"\n",
    "                   \"Please enter the name of the person whose number you would like: \")"
   ]
  },
  {
   "cell_type": "code",
   "execution_count": null,
   "id": "90ad2066",
   "metadata": {},
   "outputs": [],
   "source": [
    "try:\n",
    "    print(int(phonebook[user_input]))\n",
    "except Exception as e:\n",
    "    print(\"With any exception type (not just Exception), \"\n",
    "          \"you can find out the detailed message specific to the error by using ', e' afterward.\")\n",
    "    print(\"In this case, the detailed message was: {0}\".format(e))\n",
    "    print(\"Exception is best used in addition to other specific exceptions first.\")\n",
    "    print(\"For best results, think of each except as being similar \"\n",
    "          \"to an 'elif' statement targeting something specific; \"\n",
    "          \"except Exception is similar to an 'else' statement being the catch-all.\")"
   ]
  }
 ],
 "metadata": {
  "jupytext": {
   "cell_metadata_filter": "-all",
   "main_language": "python",
   "notebook_metadata_filter": "-all"
  }
 },
 "nbformat": 4,
 "nbformat_minor": 5
}
