{
 "cells": [
  {
   "cell_type": "markdown",
   "id": "f4235c75",
   "metadata": {},
   "source": [
    "Example #6: Raise (без аргументів)"
   ]
  },
  {
   "cell_type": "code",
   "execution_count": null,
   "id": "bfce1d1f",
   "metadata": {},
   "outputs": [],
   "source": [
    "import time"
   ]
  },
  {
   "cell_type": "code",
   "execution_count": null,
   "id": "0e60a711",
   "metadata": {},
   "outputs": [],
   "source": [
    "print(\"I'm going to count down from 1000 as fast as I can.  Hit Ctrl+C three times to stop.\")"
   ]
  },
  {
   "cell_type": "code",
   "execution_count": null,
   "id": "0926e902",
   "metadata": {},
   "outputs": [],
   "source": [
    "x = 1000\n",
    "times_paused = 0"
   ]
  },
  {
   "cell_type": "code",
   "execution_count": null,
   "id": "22e0a78a",
   "metadata": {},
   "outputs": [],
   "source": [
    "while x > 0:\n",
    "\n",
    "    try:\n",
    "        print(x)\n",
    "        x-=1\n",
    "    except KeyboardInterrupt:\n",
    "\n",
    "        times_paused += 1\n",
    "        \n",
    "        print(\" You have paused {0} time(s).\".format(times_paused))\n",
    "\n",
    "        if times_paused == 3:\n",
    "            print(\"You paused 3 times.  Ending early by raising the original exception (KeyboardInterrupt)\")\n",
    "            raise  # це підніме *оригінальний* виняток, яким у цьому випадку є KeyboardInterrupt\n",
    "\n",
    "        print(\"Pausing for {0} seconds.\".format(times_paused))\n",
    "        time.sleep(times_paused)"
   ]
  }
 ],
 "metadata": {
  "jupytext": {
   "cell_metadata_filter": "-all",
   "main_language": "python",
   "notebook_metadata_filter": "-all"
  }
 },
 "nbformat": 4,
 "nbformat_minor": 5
}
