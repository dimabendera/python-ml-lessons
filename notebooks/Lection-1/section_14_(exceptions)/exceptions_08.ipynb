{
 "cells": [
  {
   "cell_type": "markdown",
   "id": "88a88de0",
   "metadata": {},
   "source": [
    "Example #8: try-finally"
   ]
  },
  {
   "cell_type": "markdown",
   "id": "54cb13da",
   "metadata": {},
   "source": [
    "Використовуйте остаточний блок, приєднаний до блоку проб, для виконання коду незалежно від того, що станеться"
   ]
  },
  {
   "cell_type": "code",
   "execution_count": null,
   "id": "d3a3210d",
   "metadata": {},
   "outputs": [],
   "source": [
    "user_input = input(\"Please enter a number: \")"
   ]
  },
  {
   "cell_type": "code",
   "execution_count": null,
   "id": "30b1d162",
   "metadata": {},
   "outputs": [],
   "source": [
    "try:\n",
    "    user_input = int(float(user_input))\n",
    "except ValueError:\n",
    "    print(\"You didn't enter a number, did you?\")\n",
    "else:  # помилок не сталося\n",
    "    print(\"Hooray! We didn't encounter any errors!\")\n",
    "finally:  # Незважаючи ні на що\n",
    "    print(\"Here was your input: {0}\".format(user_input))"
   ]
  },
  {
   "cell_type": "code",
   "execution_count": null,
   "id": "d21be832",
   "metadata": {},
   "outputs": [],
   "source": [
    "print(\"'finally' isn't that common though, and you could really just put your code outside of the block entirely.\")\n",
    "print(\"Here was your input: {0}\".format(user_input))"
   ]
  }
 ],
 "metadata": {
  "jupytext": {
   "cell_metadata_filter": "-all",
   "main_language": "python",
   "notebook_metadata_filter": "-all"
  }
 },
 "nbformat": 4,
 "nbformat_minor": 5
}
