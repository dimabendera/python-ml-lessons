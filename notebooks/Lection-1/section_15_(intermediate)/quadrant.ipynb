{
 "cells": [
  {
   "cell_type": "code",
   "execution_count": null,
   "id": "2a6e25b4",
   "metadata": {
    "lines_to_next_cell": 2
   },
   "outputs": [],
   "source": [
    "def quadrant(address):\n",
    "    \"\"\"\n",
    "    Повертає квадрант постійного струму для вказаної адреси.\n",
    "    \"\"\"\n",
    "    return [_quadrant for _quadrant in address.split(' ') if _quadrant in ['NW', 'NE', 'SW', 'SE']] or None"
   ]
  }
 ],
 "metadata": {
  "jupytext": {
   "cell_metadata_filter": "-all",
   "main_language": "python",
   "notebook_metadata_filter": "-all"
  }
 },
 "nbformat": 4,
 "nbformat_minor": 5
}
