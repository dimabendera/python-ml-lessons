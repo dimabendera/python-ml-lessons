{
 "cells": [
  {
   "cell_type": "code",
   "execution_count": null,
   "id": "bbcd1002",
   "metadata": {
    "lines_to_next_cell": 0
   },
   "outputs": [],
   "source": []
  },
  {
   "cell_type": "markdown",
   "id": "851a90dd",
   "metadata": {},
   "source": [
    "Отримання мітки часу в форматі YYYYMMDDHHMMSS"
   ]
  },
  {
   "cell_type": "markdown",
   "id": "c67383c7",
   "metadata": {},
   "source": [
    "ПРИМІТКИ: Для ясності та послідовності\n",
    "всі приклади нижче використовуватимуть однакову мітку часу; 2013 20 жовтня 09:38:26"
   ]
  },
  {
   "cell_type": "code",
   "execution_count": null,
   "id": "1534b2a3",
   "metadata": {},
   "outputs": [],
   "source": [
    "import time"
   ]
  },
  {
   "cell_type": "code",
   "execution_count": null,
   "id": "605dfdb9",
   "metadata": {},
   "outputs": [],
   "source": [
    "print(time.localtime())  # Часові шматки менше десяти не є нульовими\n",
    "# time.struct_time(tm_year=2013, tm_mon=10, tm_mday=20,\n",
    "#                  tm_hour=9, tm_min=38, tm_sec=26, tm_wday=6, tm_yday=293, tm_isdst=1)"
   ]
  },
  {
   "cell_type": "markdown",
   "id": "7e9ca706",
   "metadata": {},
   "source": [
    "Потрібні фрагменти від року (від нуля) до секунди (фрагмент п'ять), тому мені потрібні індекси нарізки [0:6]"
   ]
  },
  {
   "cell_type": "code",
   "execution_count": null,
   "id": "2829a450",
   "metadata": {},
   "outputs": [],
   "source": [
    "print(time.localtime()[:6])\n",
    "# (2013, 10, 20, 9, 38, 26"
   ]
  },
  {
   "cell_type": "markdown",
   "id": "2dbb5d90",
   "metadata": {},
   "source": [
    "Тому мій інстинкт полягає в тому, щоб використовувати str.join(), щоб склеїти всі шматочки, які я хочу, скибочки [0:6]\n",
    ">>> ''.join(time.localtime()[:6])\n",
    "\n",
    "Traceback (most recent call last):\n",
    "  File \"<pyshell#9>\", line 1, in <module>\n",
    "    ''.join(time.localtime()[:6])\n",
    "TypeError: sequence item 0: expected string, int found"
   ]
  },
  {
   "cell_type": "markdown",
   "id": "790cd4d3",
   "metadata": {
    "lines_to_next_cell": 2
   },
   "source": [
    "Але цей інстинкт виявляється неправильним, тому що з'єднання хоче склеїти струни, а не інтри."
   ]
  },
  {
   "cell_type": "markdown",
   "id": "9bc42bc0",
   "metadata": {},
   "source": [
    "Існує безліч варіантів вирішення цієї проблеми."
   ]
  },
  {
   "cell_type": "code",
   "execution_count": null,
   "id": "e9ff75f6",
   "metadata": {},
   "outputs": [],
   "source": [
    "# Method #1: Циклічність (легкий, але довгий шлях)\n",
    "timestamp = []"
   ]
  },
  {
   "cell_type": "code",
   "execution_count": null,
   "id": "0e6f414c",
   "metadata": {},
   "outputs": [],
   "source": [
    "for time_chunk in time.localtime()[:6]:\n",
    "    timestamp.append(str(time_chunk))"
   ]
  },
  {
   "cell_type": "code",
   "execution_count": null,
   "id": "e97bc56f",
   "metadata": {},
   "outputs": [],
   "source": [
    "print(\"Method #1: \", ''.join(timestamp))"
   ]
  },
  {
   "cell_type": "markdown",
   "id": "5077cfd1",
   "metadata": {},
   "source": [
    "Method #2: Проходження довільної кількості аргументів (швидко, але дещо некрасиво)"
   ]
  },
  {
   "cell_type": "code",
   "execution_count": null,
   "id": "944dff4c",
   "metadata": {},
   "outputs": [],
   "source": [
    "print(\"Method #2: \", '{0}{1}{2}{3}{4}{5}'.format(*time.localtime()[:6]))"
   ]
  },
  {
   "cell_type": "markdown",
   "id": "104d201f",
   "metadata": {},
   "source": [
    "Method #3: Розуміння списку"
   ]
  },
  {
   "cell_type": "code",
   "execution_count": null,
   "id": "248c70d3",
   "metadata": {},
   "outputs": [],
   "source": [
    "print(\"Method #3: \", ''.join([str(time_chunk) for time_chunk in time.localtime()[:6]]))"
   ]
  }
 ],
 "metadata": {
  "jupytext": {
   "cell_metadata_filter": "-all",
   "main_language": "python",
   "notebook_metadata_filter": "-all"
  }
 },
 "nbformat": 4,
 "nbformat_minor": 5
}
