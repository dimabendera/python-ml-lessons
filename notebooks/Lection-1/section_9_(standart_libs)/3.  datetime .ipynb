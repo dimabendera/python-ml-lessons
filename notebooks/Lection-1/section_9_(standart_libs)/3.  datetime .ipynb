{
 "cells": [
  {
   "cell_type": "code",
   "execution_count": 3,
   "id": "d2b66803",
   "metadata": {},
   "outputs": [],
   "source": [
    "import datetime"
   ]
  },
  {
   "cell_type": "markdown",
   "id": "063c5f95",
   "metadata": {},
   "source": [
    "Бібліотека datetime в Python надає класи для роботи з датами та часом. З її допомогою можна виконувати операції з датами, часом, комбінацією дати та часу, а також з часовими інтервалами та часовими зонами.\n",
    "\n",
    "Ось детальний огляд компонентів модуля datetime:\n",
    "\n",
    "* datetime.date - клас для роботи з датою (рік, місяць, день)."
   ]
  },
  {
   "cell_type": "code",
   "execution_count": 4,
   "id": "b8a0afa1",
   "metadata": {},
   "outputs": [],
   "source": [
    "today = datetime.date.today()  # Поточна дата\n",
    "some_date = datetime.date(2023, 9, 16)  # Створення дати"
   ]
  },
  {
   "cell_type": "markdown",
   "id": "fdebae72",
   "metadata": {},
   "source": [
    "* datetime.time - клас для роботи з часом (година, хвилина, секунда, мікросекунда).\n"
   ]
  },
  {
   "cell_type": "code",
   "execution_count": 6,
   "id": "9ca816ca",
   "metadata": {},
   "outputs": [],
   "source": [
    "noon = datetime.time(12, 0)  # Середина дня"
   ]
  },
  {
   "cell_type": "markdown",
   "id": "4ba85971",
   "metadata": {},
   "source": [
    "* datetime.datetime - клас для роботи з комбінацією дати та часу."
   ]
  },
  {
   "cell_type": "code",
   "execution_count": 7,
   "id": "338534fc",
   "metadata": {},
   "outputs": [],
   "source": [
    "now = datetime.datetime.now()  # Поточний момент часу\n",
    "some_datetime = datetime.datetime(2023, 9, 16, 12, 0)  # Створення дати і часу"
   ]
  },
  {
   "cell_type": "markdown",
   "id": "665178b8",
   "metadata": {},
   "source": [
    "* datetime.timedelta - клас для роботи з інтервалами часу."
   ]
  },
  {
   "cell_type": "code",
   "execution_count": 8,
   "id": "73d30063",
   "metadata": {},
   "outputs": [],
   "source": [
    "week = datetime.timedelta(days=7)  # Інтервал в 7 днів\n",
    "future_date = today + week  # Додавання інтервалу до дати"
   ]
  },
  {
   "cell_type": "markdown",
   "id": "5acbfc8d",
   "metadata": {},
   "source": [
    "* datetime.tzinfo - базовий клас для роботи з часовими зонами.\n",
    "* datetime.timezone - підклас tzinfo, який може представити фіксований зсув часової зони відносно UTC."
   ]
  },
  {
   "cell_type": "code",
   "execution_count": 10,
   "id": "cc76e551",
   "metadata": {},
   "outputs": [],
   "source": [
    "utc_offset = datetime.timedelta(hours=3)\n",
    "tz = datetime.timezone(utc_offset)  # Створення часової зони з зсувом +3 години від UTC"
   ]
  },
  {
   "cell_type": "markdown",
   "id": "e83b45e2",
   "metadata": {},
   "source": [
    "Часто використовувані методи та атрибути:\n",
    "* date.year, date.month, date.day: Атрибути для отримання року, місяця та дня.\n",
    "* time.hour, time.minute, time.second, time.microsecond: Атрибути для отримання години, хвилини, секунди та мікросекунди.\n",
    "* datetime.combine(date, time): Об'єднання об'єктів date та time в один об'єкт datetime.\n",
    "* date.isoformat(), datetime.isoformat(): Повертає дату/час у форматі ISO.\n",
    "* date.strftime(format), datetime.strftime(format): Форматування дати/часу відповідно до вказаного шаблону.\n",
    "* date.weekday(): Повертає день тижня як число (Понеділок = 0, Неділя = 6).\n",
    "\n",
    "Це лише загальний огляд можливостей бібліотеки datetime. Для детального вивчення та додаткових прикладів використання рекомендується звертатися до офіційної документації Python."
   ]
  },
  {
   "cell_type": "code",
   "execution_count": null,
   "id": "acb9e6f9",
   "metadata": {},
   "outputs": [],
   "source": []
  }
 ],
 "metadata": {
  "kernelspec": {
   "display_name": "Python 3",
   "language": "python",
   "name": "python3"
  },
  "language_info": {
   "codemirror_mode": {
    "name": "ipython",
    "version": 3
   },
   "file_extension": ".py",
   "mimetype": "text/x-python",
   "name": "python",
   "nbconvert_exporter": "python",
   "pygments_lexer": "ipython3",
   "version": "3.8.10"
  }
 },
 "nbformat": 4,
 "nbformat_minor": 5
}
