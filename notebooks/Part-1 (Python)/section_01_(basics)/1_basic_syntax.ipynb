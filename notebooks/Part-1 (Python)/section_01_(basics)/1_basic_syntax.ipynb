{
 "cells": [
  {
   "cell_type": "markdown",
   "id": "b630d078",
   "metadata": {},
   "source": [
    "<h2>Python - об'єктно-орієнтована мова зі строгою та динамічною типізацією</h2>\n",
    "\n",
    "<p>Переваги:</p>\n",
    "<ol> \n",
    "    <li type=\"1\">легкість освоєння</li>\n",
    "    <li type=\"1\">швидка швидкість розробки</li>\n",
    "    <li type=\"1\">кросплатформність</li>\n",
    "    <li type=\"1\">велика стандартна бібліотека</li>\n",
    "    <li type=\"1\">інструменти для аналізу даних та наукових завдань</li>\n",
    "</ol>\n",
    "\n",
    "<p>Недоліки:</p>\n",
    "<ol> \n",
    "    <li type=\"1\">чистий Python - повільний</li>\n",
    "    <li type=\"1\">крива багатопоточність</li>\n",
    "    <li type=\"1\">слабкий у мобільній та фронтенд розробці</li>\n",
    "    <li type=\"1\">Python2 (RIP 1 січ. 2020)</li>\n",
    "</ol>\n",
    "\n",
    "<h2>Області застосування Python</h2>\n",
    "<ol> \n",
    "    <li type=\"1\">веб розробка</li>\n",
    "    <li type=\"1\">аналіз даних</li>\n",
    "    <li type=\"1\">машинне навчання</li>\n",
    "    <li type=\"1\">DevOps</li>\n",
    "    <li type=\"1\">Тестування</li>\n",
    "    <li type=\"1\">прототипування проектів</li>\n",
    "    <li type=\"1\">etc</li>\n",
    "</ol>\n",
    "\n",
    "\n",
    "<p>На Python розробка дуже швидка</p>\n",
    "\n",
    "<p>А швидкість самого python у багатьох випадках не критична,\n",
    "так як багато модулів написані на C/C++ і python просто викликає їх функціонал</p>\n",
    "\n",
    "<p>Таким чином, ми можемо швидко писати продуктивний код</p>\n",
    "\n",
    "<p>У ml виклики си-шного коду можуть займати багато часу, тому зазвичай будується граф обчислень, який буде повністю оброблятися плюсами</p>"
   ]
  },
  {
   "cell_type": "markdown",
   "id": "ea646ba0",
   "metadata": {},
   "source": [
    "# Базовий синтаксис"
   ]
  },
  {
   "cell_type": "code",
   "execution_count": 9,
   "id": "a28f5478",
   "metadata": {},
   "outputs": [],
   "source": [
    "# Це коментар.\n",
    "# Це означає, що Python дозволить вам писати примітки собі та іншим програмістам, які перевіряють ваш код\n",
    "# І Python не запустить це взагалі або навіть не помітить."
   ]
  },
  {
   "cell_type": "markdown",
   "id": "97b15970",
   "metadata": {},
   "source": [
    "Символ # створює коментар.\n",
    "\n",
    "Ви можете мати коментар для кожного рядка"
   ]
  },
  {
   "cell_type": "markdown",
   "id": "d8ef2d74",
   "metadata": {},
   "source": [
    "Інструкція для друку, вона дозволяє нам побачити результати виводу відразу як команда буде виконана."
   ]
  },
  {
   "cell_type": "code",
   "execution_count": 17,
   "id": "21d91e1f",
   "metadata": {},
   "outputs": [
    {
     "name": "stdout",
     "output_type": "stream",
     "text": [
      "Або ви можете залишити коментар у цьому ж рядку sa\n"
     ]
    }
   ],
   "source": [
    "print(\"Або ви можете залишити коментар у цьому ж рядку\",\"sa\")  # як команду, яку Python БУДЕ виконувати"
   ]
  },
  {
   "cell_type": "code",
   "execution_count": 16,
   "id": "5452c713",
   "metadata": {},
   "outputs": [
    {
     "name": "stdout",
     "output_type": "stream",
     "text": [
      "Написати щось1\n"
     ]
    },
    {
     "data": {
      "text/plain": [
       "'1'"
      ]
     },
     "execution_count": 16,
     "metadata": {},
     "output_type": "execute_result"
    }
   ],
   "source": [
    "input(\"Написати щось\")"
   ]
  },
  {
   "cell_type": "code",
   "execution_count": 3,
   "id": "c221103d",
   "metadata": {},
   "outputs": [
    {
     "name": "stdout",
     "output_type": "stream",
     "text": [
      "Інструкція друку виведе деякий текст на екран.\n"
     ]
    }
   ],
   "source": [
    "print(\"Інструкція друку виведе деякий текст на екран.\")"
   ]
  },
  {
   "cell_type": "markdown",
   "id": "5ad689af",
   "metadata": {},
   "source": [
    "Python виконуватиме команди зверху вниз, зліва направо"
   ]
  },
  {
   "cell_type": "code",
   "execution_count": 18,
   "id": "e15f1df8",
   "metadata": {},
   "outputs": [
    {
     "name": "stdout",
     "output_type": "stream",
     "text": [
      "Ви можете використовувати багато нових рядків, щоб розділити інструкції\n",
      "Або ви можете тримати інструкції близько одне до одного.\n",
      "Це залежить від вас, але загалом вам потрібно зробити свій код максимально читабельним.\n"
     ]
    }
   ],
   "source": [
    "print(\"Ви можете використовувати багато нових рядків, щоб розділити інструкції\")\n",
    "\n",
    "print(\"Або ви можете тримати інструкції близько одне до одного.\")\n",
    "print(\"Це залежить від вас, але загалом вам потрібно зробити свій код максимально читабельним.\")"
   ]
  },
  {
   "cell_type": "code",
   "execution_count": 19,
   "id": "0b5e2cd0",
   "metadata": {},
   "outputs": [
    {
     "name": "stdout",
     "output_type": "stream",
     "text": [
      "8\n",
      "8\n"
     ]
    }
   ],
   "source": [
    "# Ці два твердження ідентичні\n",
    "print(4+4)\n",
    "print(4   +    4  )"
   ]
  },
  {
   "cell_type": "markdown",
   "id": "d13e4560",
   "metadata": {},
   "source": [
    "Рівні відступів tab та інші види пробілів мають велике значення"
   ]
  },
  {
   "cell_type": "markdown",
   "id": "2cad5609",
   "metadata": {},
   "source": [
    "Отже, якщо ви розкоментували наступний рядок і запустили це, ви отримаєте повідомлення про помилку."
   ]
  },
  {
   "cell_type": "code",
   "execution_count": 25,
   "id": "f0433e5b",
   "metadata": {},
   "outputs": [
    {
     "ename": "IndentationError",
     "evalue": "unexpected indent (<ipython-input-25-5258cc6fe651>, line 2)",
     "output_type": "error",
     "traceback": [
      "\u001b[0;36m  File \u001b[0;32m\"<ipython-input-25-5258cc6fe651>\"\u001b[0;36m, line \u001b[0;32m2\u001b[0m\n\u001b[0;31m    print(4 + 4)\u001b[0m\n\u001b[0m    ^\u001b[0m\n\u001b[0;31mIndentationError\u001b[0m\u001b[0;31m:\u001b[0m unexpected indent\n"
     ]
    }
   ],
   "source": [
    "print(4+4)\n",
    "    print(4 + 4)"
   ]
  },
  {
   "cell_type": "code",
   "execution_count": null,
   "id": "fd445c30",
   "metadata": {},
   "outputs": [],
   "source": []
  }
 ],
 "metadata": {
  "jupytext": {
   "cell_metadata_filter": "-all",
   "main_language": "python",
   "notebook_metadata_filter": "-all"
  },
  "kernelspec": {
   "display_name": "Python 3",
   "language": "python",
   "name": "python3"
  },
  "language_info": {
   "codemirror_mode": {
    "name": "ipython",
    "version": 3
   },
   "file_extension": ".py",
   "mimetype": "text/x-python",
   "name": "python",
   "nbconvert_exporter": "python",
   "pygments_lexer": "ipython3",
   "version": "3.8.10"
  }
 },
 "nbformat": 4,
 "nbformat_minor": 5
}
