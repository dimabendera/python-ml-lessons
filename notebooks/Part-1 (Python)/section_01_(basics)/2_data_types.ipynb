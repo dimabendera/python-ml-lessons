{
 "cells": [
  {
   "cell_type": "markdown",
   "id": "d89ad94a",
   "metadata": {
    "lines_to_next_cell": 0
   },
   "source": [
    "<h2>Базові типи данних</h2>"
   ]
  },
  {
   "cell_type": "markdown",
   "id": "16c1a47b",
   "metadata": {},
   "source": [
    "Типи даних: int, float, bool, str"
   ]
  },
  {
   "cell_type": "markdown",
   "id": "7d6b9181",
   "metadata": {},
   "source": [
    "У простій математиці та присвоєнні змінних ми побачили цілі і плаваючі значень.\n",
    "Ось швидке оновлення."
   ]
  },
  {
   "cell_type": "code",
   "execution_count": 25,
   "id": "c3472fe2",
   "metadata": {},
   "outputs": [
    {
     "name": "stdout",
     "output_type": "stream",
     "text": [
      "7 2 25 2.5\n"
     ]
    }
   ],
   "source": [
    "# int є цілими числами\n",
    "print(5 + 2, 5 - 3, 5 * 5, 5 / 2)  # 7, 2, 25, 2.5"
   ]
  },
  {
   "cell_type": "code",
   "execution_count": 3,
   "id": "3ef78cc2",
   "metadata": {},
   "outputs": [
    {
     "name": "stdout",
     "output_type": "stream",
     "text": [
      "7.5 2.0 29.64 2.5\n"
     ]
    }
   ],
   "source": [
    "# floats є десятковими числами\n",
    "print(5.4 + 2.1, 5.0 - 3, 5.7 * 5.2, 5 / 2.0)  # 7.5, 2.0, 29.64, 2.5"
   ]
  },
  {
   "cell_type": "code",
   "execution_count": 4,
   "id": "67536a9e",
   "metadata": {},
   "outputs": [
    {
     "name": "stdout",
     "output_type": "stream",
     "text": [
      "True\n",
      "False\n"
     ]
    }
   ],
   "source": [
    "# логічні значення зберігати True або False (так чи ні)\n",
    "print(5 > 4)  # True\n",
    "print(3 + 3 <= 1)  # False"
   ]
  },
  {
   "cell_type": "code",
   "execution_count": 27,
   "id": "ee2bf35d",
   "metadata": {},
   "outputs": [
    {
     "data": {
      "text/plain": [
       "(True, False)"
      ]
     },
     "execution_count": 27,
     "metadata": {},
     "output_type": "execute_result"
    }
   ],
   "source": [
    "True, False"
   ]
  },
  {
   "cell_type": "markdown",
   "id": "1bfd77c7",
   "metadata": {},
   "source": [
    "Оператори порівняння:\n",
    "* '>'    більш чим\n",
    "* '<'    менше ніж\n",
    "* '>='   більше або дорівнює\n",
    "* '<='   менше або дорівнює\n",
    "* '!='   не дорівнює\n",
    "* '=='   дорівнює"
   ]
  },
  {
   "cell_type": "code",
   "execution_count": 31,
   "id": "c438c1a3",
   "metadata": {},
   "outputs": [
    {
     "name": "stdout",
     "output_type": "stream",
     "text": [
      "Ці речі між лапками - строки!\n"
     ]
    }
   ],
   "source": [
    "# string більш детально розглядаються в розділі 2\n",
    "# Але, по суті, вони містять слова або взагалі все, що можна набрати на клавіатурі\n",
    "print(\"Ці речі між лапками - строки!\")"
   ]
  },
  {
   "cell_type": "code",
   "execution_count": 29,
   "id": "0b94e78f",
   "metadata": {},
   "outputs": [
    {
     "name": "stdout",
     "output_type": "stream",
     "text": [
      "Строки можна писати в одинарних кавичках!\n"
     ]
    }
   ],
   "source": [
    "print('Строки можна писати в одинарних кавичках!')"
   ]
  },
  {
   "cell_type": "code",
   "execution_count": 10,
   "id": "07c63fb2",
   "metadata": {},
   "outputs": [
    {
     "name": "stdout",
     "output_type": "stream",
     "text": [
      "Також строки\n",
      "можна \n",
      "писати в декілька рядків\n",
      "використовуючі три одинарних або три двойних кавички\n",
      "!\n"
     ]
    }
   ],
   "source": [
    "print('''Також строки\n",
    "можна \n",
    "писати в декілька рядків\n",
    "використовуючі три одинарних або три двойних кавички\n",
    "!''')"
   ]
  },
  {
   "cell_type": "code",
   "execution_count": 7,
   "id": "eb275384",
   "metadata": {},
   "outputs": [
    {
     "name": "stdout",
     "output_type": "stream",
     "text": [
      "Python зазвичай не дуже суворий щодо типів даних, але є деякі речі, які ви не можете робити.\n"
     ]
    }
   ],
   "source": [
    "print(\"Python зазвичай не дуже суворий щодо типів даних, але є деякі речі, які ви не можете робити.\")"
   ]
  },
  {
   "cell_type": "code",
   "execution_count": 32,
   "id": "aaf1ade3",
   "metadata": {},
   "outputs": [
    {
     "ename": "TypeError",
     "evalue": "can only concatenate str (not \"int\") to str",
     "output_type": "error",
     "traceback": [
      "\u001b[0;31m---------------------------------------------------------------------------\u001b[0m",
      "\u001b[0;31mTypeError\u001b[0m                                 Traceback (most recent call last)",
      "\u001b[0;32m<ipython-input-32-df61edf4af48>\u001b[0m in \u001b[0;36m<module>\u001b[0;34m\u001b[0m\n\u001b[0;32m----> 1\u001b[0;31m \u001b[0mprint\u001b[0m\u001b[0;34m(\u001b[0m\u001b[0;34m\"Цей рядок спричинить помилку, оскільки ви не можете додавати рядки до чисел. Це розділ № уроку\"\u001b[0m \u001b[0;34m+\u001b[0m \u001b[0;36m1\u001b[0m\u001b[0;34m)\u001b[0m\u001b[0;34m\u001b[0m\u001b[0;34m\u001b[0m\u001b[0m\n\u001b[0m",
      "\u001b[0;31mTypeError\u001b[0m: can only concatenate str (not \"int\") to str"
     ]
    }
   ],
   "source": [
    "print(\"Цей рядок спричинить помилку, оскільки ви не можете додавати рядки до чисел. Це розділ № уроку\" + 1)"
   ]
  },
  {
   "cell_type": "markdown",
   "id": "35cc13d7",
   "metadata": {},
   "source": [
    "None\n",
    "\n",
    "None у Python є спеціальним значенням, яке використовується для позначення \"відсутності значення\" або \"нічого\". В інших мовах програмування може використовуватися аналогічне поняття, таке як null в Java або C#.\n",
    "\n",
    "Ось деякі ключові моменти про None:\n",
    "\n",
    "Тип: None є єдиним екземпляром класу NoneType.\n",
    "\n",
    "Логічне значення: У булевому контексті (наприклад, у умовах if) None вважається False.\n",
    "\n",
    "Призначення: None часто використовується для вказівки на те, що змінна не має значення або що функція нічого не повертає."
   ]
  },
  {
   "cell_type": "code",
   "execution_count": 34,
   "id": "f478fb21",
   "metadata": {},
   "outputs": [
    {
     "name": "stdout",
     "output_type": "stream",
     "text": [
      "None\n"
     ]
    }
   ],
   "source": [
    "print(None)"
   ]
  },
  {
   "cell_type": "markdown",
   "id": "46457d86",
   "metadata": {},
   "source": [
    "# порівняння строк"
   ]
  },
  {
   "cell_type": "code",
   "execution_count": 35,
   "id": "5512f072",
   "metadata": {},
   "outputs": [
    {
     "data": {
      "text/plain": [
       "True"
      ]
     },
     "execution_count": 35,
     "metadata": {},
     "output_type": "execute_result"
    }
   ],
   "source": [
    "\"a\" < \"b\""
   ]
  },
  {
   "cell_type": "code",
   "execution_count": 36,
   "id": "ff0c70a5",
   "metadata": {},
   "outputs": [
    {
     "data": {
      "text/plain": [
       "False"
      ]
     },
     "execution_count": 36,
     "metadata": {},
     "output_type": "execute_result"
    }
   ],
   "source": [
    "\"a\" > \"b\""
   ]
  },
  {
   "cell_type": "code",
   "execution_count": 37,
   "id": "eb7030eb",
   "metadata": {},
   "outputs": [
    {
     "data": {
      "text/plain": [
       "True"
      ]
     },
     "execution_count": 37,
     "metadata": {},
     "output_type": "execute_result"
    }
   ],
   "source": [
    "\"aa\" < \"ab\""
   ]
  },
  {
   "cell_type": "code",
   "execution_count": 38,
   "id": "ac11fd1f",
   "metadata": {},
   "outputs": [
    {
     "data": {
      "text/plain": [
       "True"
      ]
     },
     "execution_count": 38,
     "metadata": {},
     "output_type": "execute_result"
    }
   ],
   "source": [
    "\"92\" < \"a\""
   ]
  },
  {
   "cell_type": "code",
   "execution_count": 23,
   "id": "d6c6a2cb",
   "metadata": {},
   "outputs": [
    {
     "data": {
      "text/plain": [
       "True"
      ]
     },
     "execution_count": 23,
     "metadata": {},
     "output_type": "execute_result"
    }
   ],
   "source": [
    "\"aa1\" < \"aa2\""
   ]
  },
  {
   "cell_type": "code",
   "execution_count": null,
   "id": "570d2db9",
   "metadata": {},
   "outputs": [],
   "source": []
  }
 ],
 "metadata": {
  "jupytext": {
   "cell_metadata_filter": "-all",
   "main_language": "python",
   "notebook_metadata_filter": "-all"
  },
  "kernelspec": {
   "display_name": "Python 3",
   "language": "python",
   "name": "python3"
  },
  "language_info": {
   "codemirror_mode": {
    "name": "ipython",
    "version": 3
   },
   "file_extension": ".py",
   "mimetype": "text/x-python",
   "name": "python",
   "nbconvert_exporter": "python",
   "pygments_lexer": "ipython3",
   "version": "3.8.10"
  }
 },
 "nbformat": 4,
 "nbformat_minor": 5
}
