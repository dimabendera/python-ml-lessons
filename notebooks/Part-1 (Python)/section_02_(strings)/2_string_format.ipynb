{
 "cells": [
  {
   "cell_type": "markdown",
   "id": "5c299959",
   "metadata": {},
   "source": [
    "# Форматування рядків"
   ]
  },
  {
   "cell_type": "markdown",
   "id": "6ef72190",
   "metadata": {},
   "source": [
    "Форматування рядків - це те, як ми можемо використовувати змінні\n",
    "(які зберігають інформацію, включаючи числа, рядки та інші типи даних) всередині рядків\n",
    "Ми можемо зробити це за допомогою рядкового методу .format()."
   ]
  },
  {
   "cell_type": "markdown",
   "id": "3eec83cb",
   "metadata": {},
   "source": [
    "Ось як це працює:"
   ]
  },
  {
   "cell_type": "code",
   "execution_count": 8,
   "id": "878ca8eb",
   "metadata": {},
   "outputs": [],
   "source": [
    "# По-перше, нам знадобиться змінна:\n",
    "name = \"Shannon\""
   ]
  },
  {
   "cell_type": "code",
   "execution_count": 12,
   "id": "6dff175f",
   "metadata": {},
   "outputs": [
    {
     "name": "stdout",
     "output_type": "stream",
     "text": [
      "My name is Shannon\n"
     ]
    }
   ],
   "source": [
    "# Тепер давайте вставимо його в інструкцію для друку:\n",
    "print(\"My name is {0}\".format(name, \"1\"+name))  # Це надрукує \"Мене звуть Шеннон\""
   ]
  },
  {
   "cell_type": "markdown",
   "id": "8960b783",
   "metadata": {},
   "source": [
    "Ми розберемо кожну частину синтаксису за мить.  Наразі, чому це краще, ніж друк «Мене звуть Шеннон»?"
   ]
  },
  {
   "cell_type": "markdown",
   "id": "9875d67d",
   "metadata": {},
   "source": [
    "Використання .format() є більш гнучким і дозволяє вашим рядкам змінюватися при зміні змінних."
   ]
  },
  {
   "cell_type": "code",
   "execution_count": 13,
   "id": "42d9ba67",
   "metadata": {},
   "outputs": [],
   "source": [
    "# Отже, давайте дамо змінній імені нове значення.\n",
    "name = \"Pumpkin\""
   ]
  },
  {
   "cell_type": "code",
   "execution_count": 14,
   "id": "82670429",
   "metadata": {},
   "outputs": [
    {
     "name": "stdout",
     "output_type": "stream",
     "text": [
      "My name is Pumpkin\n"
     ]
    }
   ],
   "source": [
    "# Тепер давайте надрукуємо його ще раз\n",
    "print(\"My name is {0}\".format(name))  # Це надрукує \"Мене звуть Гарбуз\""
   ]
  },
  {
   "cell_type": "markdown",
   "id": "3c301061",
   "metadata": {},
   "source": [
    "Пам'ятайте, що Python виконує команди зверху вниз, зліва направо."
   ]
  },
  {
   "cell_type": "markdown",
   "id": "78bfdc8e",
   "metadata": {},
   "source": [
    "Двома новими частинами цієї інструкції для друку є {0} і .format(ім'я)"
   ]
  },
  {
   "cell_type": "markdown",
   "id": "42fedf38",
   "metadata": {},
   "source": [
    "{0} є заповнювачем для 0-ї змінної у списку, який з'являється в дужках .format() -- пам'ятайте,\n",
    "що Python починає відлік з 0, а не з 1\n",
    "Таким чином, він дійсно просто зберігає місце теплим."
   ]
  },
  {
   "cell_type": "markdown",
   "id": "78c55d92",
   "metadata": {},
   "source": [
    "Щоб зрозуміти, чому це {0}, давайте визначимо ще кілька змінних."
   ]
  },
  {
   "cell_type": "code",
   "execution_count": 15,
   "id": "3c768815",
   "metadata": {},
   "outputs": [],
   "source": [
    "age = 100\n",
    "location = \"The Pumpkin Patch\""
   ]
  },
  {
   "cell_type": "code",
   "execution_count": 16,
   "id": "a50598a7",
   "metadata": {},
   "outputs": [
    {
     "name": "stdout",
     "output_type": "stream",
     "text": [
      "My name is Pumpkin and my age is 100 and I live in The Pumpkin Patch\n"
     ]
    }
   ],
   "source": [
    "# Тепер, якщо ми хочемо включити ці змінні, нам також потрібно буде помістити заповнювачі в рядок.\n",
    "print(\"My name is {0} and my age is {1} and I live in {2}\".format(name, age, location))"
   ]
  },
  {
   "cell_type": "markdown",
   "id": "7352094a",
   "metadata": {},
   "source": [
    "Зверніть увагу, як ми поміщаємо заповнювачі саме в рядок, де ми хочемо; і змінні знаходяться всередині дужок .format()"
   ]
  },
  {
   "cell_type": "markdown",
   "id": "e5e6f29f",
   "metadata": {},
   "source": [
    "Запам'ятайте, як рахує Python.\n",
    "Отже, {0} є заповнювачем для імені;\n",
    "{1} є заповнювачем для віку;\n",
    "і {2} є заповнювачем для розташування"
   ]
  },
  {
   "cell_type": "markdown",
   "id": "327f7cb0",
   "metadata": {},
   "source": [
    "Якби у нас було більше змінних, ми б продовжували так само."
   ]
  },
  {
   "cell_type": "code",
   "execution_count": 17,
   "id": "8836e75a",
   "metadata": {},
   "outputs": [
    {
     "name": "stdout",
     "output_type": "stream",
     "text": [
      "My name is Pumpkin and my age is 100 and I live in The Pumpkin Patch\n"
     ]
    }
   ],
   "source": [
    "# Але це можна зробити кількома способами:\n",
    "print(\"My name is {name} and my age is {age} and I live in {location}\".format(name=name, \n",
    "                                                                              age=age, location=location))\n",
    "# Цей спосіб відчувається більш явним"
   ]
  },
  {
   "cell_type": "markdown",
   "id": "6c05e3a2",
   "metadata": {},
   "source": [
    "Тут розглянуто лише деякі способи використання форматування рядків."
   ]
  },
  {
   "cell_type": "code",
   "execution_count": 18,
   "id": "562e2427",
   "metadata": {},
   "outputs": [
    {
     "name": "stdout",
     "output_type": "stream",
     "text": [
      "My name is Pumpkin and my age is 100 and I live in The Pumpkin Patch\n"
     ]
    }
   ],
   "source": [
    "print(f\"My name is {name} and my age is {age} and I live in {location}\")"
   ]
  },
  {
   "cell_type": "code",
   "execution_count": null,
   "id": "76f89cf7",
   "metadata": {},
   "outputs": [],
   "source": []
  }
 ],
 "metadata": {
  "jupytext": {
   "cell_metadata_filter": "-all",
   "main_language": "python",
   "notebook_metadata_filter": "-all"
  },
  "kernelspec": {
   "display_name": "Python 3",
   "language": "python",
   "name": "python3"
  },
  "language_info": {
   "codemirror_mode": {
    "name": "ipython",
    "version": 3
   },
   "file_extension": ".py",
   "mimetype": "text/x-python",
   "name": "python",
   "nbconvert_exporter": "python",
   "pygments_lexer": "ipython3",
   "version": "3.8.10"
  }
 },
 "nbformat": 4,
 "nbformat_minor": 5
}
