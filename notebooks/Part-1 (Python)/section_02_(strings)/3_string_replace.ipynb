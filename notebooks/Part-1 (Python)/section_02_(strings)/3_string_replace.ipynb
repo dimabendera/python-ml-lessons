{
 "cells": [
  {
   "cell_type": "markdown",
   "id": "a651fd19",
   "metadata": {},
   "source": [
    "Рядкові методи: string.replace()"
   ]
  },
  {
   "cell_type": "markdown",
   "id": "5a7b6e97",
   "metadata": {},
   "source": [
    "string.replace() схожа на функцію find -> replace у програмах Word, Excel або інших програмах типу Office Y"
   ]
  },
  {
   "cell_type": "code",
   "execution_count": 13,
   "id": "ad88405f",
   "metadata": {},
   "outputs": [],
   "source": [
    "song = \"eat, eat, eat, apples and bananas\""
   ]
  },
  {
   "cell_type": "code",
   "execution_count": 14,
   "id": "f915632f",
   "metadata": {
    "lines_to_next_cell": 2
   },
   "outputs": [
    {
     "name": "stdout",
     "output_type": "stream",
     "text": [
      "I like to ... eat, eat, eat, apples and bananas\n"
     ]
    }
   ],
   "source": [
    "# Почнемо тут:\n",
    "print(\"I like to ... {0}\".format(song))"
   ]
  },
  {
   "cell_type": "code",
   "execution_count": 15,
   "id": "5a1a760d",
   "metadata": {},
   "outputs": [
    {
     "name": "stdout",
     "output_type": "stream",
     "text": [
      "I like to ... eot, eot, eot, opples ond bononos\n"
     ]
    }
   ],
   "source": [
    "# string.replace() дозволяє замінити всі екземпляри одного рядка іншим.\n",
    "print(\"I like to ... {0}\".format(song.replace(\"a\", \"o\")))  # Ми замінюємо всі малі літери *a*s у пісні на *o*s"
   ]
  },
  {
   "cell_type": "markdown",
   "id": "d11567fd",
   "metadata": {},
   "source": [
    "Давайте подивимося на синтаксис.\n",
    "\n",
    "Ми бачили синтаксис {0}; Це заповнювач, який string.format() використовує для вставки змінної в рядок,\n",
    "що стоїть перед крапкою в .format()\n",
    "\n",
    "0 відповідає першій змінній у списку в дужках (пам'ятайте, що Python починає рахувати з нуля)\n",
    "\n",
    "Яку змінну ми збираємося вставити в {0}? Це song.replace(\"a\", \"o\")\n",
    "\n",
    "Python оцінить song.replace(\"a\", \"o\") і помістить результат всередину {0}\n",
    "\n",
    "Як працює song.replace(\"a\", \"o\"): .replace() замінить кожну \"a\", яку він знайде в пісні, на \"o\"\n",
    "\n",
    "Як я пам'ятаю, це .replace() виконає свою дію на те, що стоїть перед крапкою (що в song.replace(\"a\", \"o\"), є піснею)"
   ]
  },
  {
   "cell_type": "code",
   "execution_count": 16,
   "id": "9f032084",
   "metadata": {},
   "outputs": [
    {
     "name": "stdout",
     "output_type": "stream",
     "text": [
      "But note that the original song itself is unchanged: eat, eat, eat, apples and bananas\n"
     ]
    }
   ],
   "source": [
    "print(\"But note that the original song itself is unchanged: {0}\".format(song))"
   ]
  },
  {
   "cell_type": "code",
   "execution_count": 17,
   "id": "af37131b",
   "metadata": {},
   "outputs": [
    {
     "name": "stdout",
     "output_type": "stream",
     "text": [
      "string.replace() is case-sensitive.\n",
      "eat, eat, eat, apples and bananas\n"
     ]
    }
   ],
   "source": [
    "print(\"string.replace() is case-sensitive.\")\n",
    "print(song.replace(\"Eat\", \"chop\"))  # Це нічого не замінить!"
   ]
  },
  {
   "cell_type": "code",
   "execution_count": 18,
   "id": "33678365",
   "metadata": {},
   "outputs": [
    {
     "name": "stdout",
     "output_type": "stream",
     "text": [
      "eat, eat, eat, apples and bananas\n",
      "chop, chop, chop, apples and bananas\n",
      "eat, eat, eat, apples and bananas\n"
     ]
    }
   ],
   "source": [
    "print(song)\n",
    "print(song.replace(\"eat\", \"chop\"))\n",
    "print(song)  # оригінал незмінний"
   ]
  },
  {
   "cell_type": "code",
   "execution_count": 19,
   "id": "0e913ff9",
   "metadata": {},
   "outputs": [],
   "source": [
    "# Якщо ви хочете, щоб ваші зміни залишилися, вам потрібно буде призначити змінній пісні нове значення\n",
    "song = song.replace(\"eat\", \"chop\")\n",
    "# Те, що ми тут говоримо, по суті:\n",
    "# Пісня тепер дорівнює новому значенню song.replace(\"їсти\", \"рубати\")"
   ]
  },
  {
   "cell_type": "code",
   "execution_count": 20,
   "id": "5ef39c76",
   "metadata": {},
   "outputs": [],
   "source": [
    "# Якщо у вас є багато замін на рядку, ви * могли б * зробити це так:\n",
    "song = song.replace(\"apples\", \"mangos\")\n",
    "song = song.replace(\" and\", \", pears, and\")\n",
    "song = song.replace(\"bananas\", \"kiwis\")"
   ]
  },
  {
   "cell_type": "code",
   "execution_count": 21,
   "id": "3d21042d",
   "metadata": {},
   "outputs": [
    {
     "name": "stdout",
     "output_type": "stream",
     "text": [
      "chop, chop, chop, mangos, pears, and kiwis\n"
     ]
    }
   ],
   "source": [
    "print(song)"
   ]
  },
  {
   "cell_type": "code",
   "execution_count": 11,
   "id": "1cdfda66",
   "metadata": {},
   "outputs": [],
   "source": [
    "# Або ви можете об'єднати багато замін разом - пам'ятайте, що замінюється те, що передує крапці!\n",
    "# Іншими словами, заміни будуть відбуватися в порядку зліва направо\n",
    "song = \"eat, eat, eat, apples and bananas\"  # setting it back to the original\n",
    "song = song.replace(\"eat\", \"chop\").replace(\"apples\", \"mangos\").replace(\" and\", \", pears, and\")\\\n",
    "    .replace(\"bananas\", \"kiwis\")"
   ]
  },
  {
   "cell_type": "code",
   "execution_count": 12,
   "id": "2a5f7c33",
   "metadata": {},
   "outputs": [
    {
     "name": "stdout",
     "output_type": "stream",
     "text": [
      "chop, chop, chop, mangos, pears, and kiwis\n"
     ]
    }
   ],
   "source": [
    "print(song)"
   ]
  },
  {
   "cell_type": "code",
   "execution_count": null,
   "id": "5eca93a2",
   "metadata": {},
   "outputs": [],
   "source": [
    "song = song.replace(\"eat\", \"chop\")\n",
    "song = song.replace(\"apples\", \"mangos\")"
   ]
  }
 ],
 "metadata": {
  "jupytext": {
   "cell_metadata_filter": "-all",
   "main_language": "python",
   "notebook_metadata_filter": "-all"
  },
  "kernelspec": {
   "display_name": "Python 3",
   "language": "python",
   "name": "python3"
  },
  "language_info": {
   "codemirror_mode": {
    "name": "ipython",
    "version": 3
   },
   "file_extension": ".py",
   "mimetype": "text/x-python",
   "name": "python",
   "nbconvert_exporter": "python",
   "pygments_lexer": "ipython3",
   "version": "3.8.10"
  }
 },
 "nbformat": 4,
 "nbformat_minor": 5
}
