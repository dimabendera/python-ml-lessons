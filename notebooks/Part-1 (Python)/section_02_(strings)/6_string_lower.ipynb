{
 "cells": [
  {
   "cell_type": "markdown",
   "id": "b4611f8a",
   "metadata": {},
   "source": [
    "Методи рядків: string.lower()"
   ]
  },
  {
   "cell_type": "markdown",
   "id": "ba26c9e8",
   "metadata": {},
   "source": [
    "string.lower() використовується для перетворення всіх символів у рядку нижнього регістру.\n",
    "Існують також деякі пов'язані методи рядка, такі як string.upper()"
   ]
  },
  {
   "cell_type": "code",
   "execution_count": 1,
   "id": "648d1c7c",
   "metadata": {},
   "outputs": [],
   "source": [
    "name = \"SHANNON!!\""
   ]
  },
  {
   "cell_type": "code",
   "execution_count": 3,
   "id": "6bc4a5ee",
   "metadata": {},
   "outputs": [
    {
     "name": "stdout",
     "output_type": "stream",
     "text": [
      "shannon!!\n",
      "SHANNON!!\n"
     ]
    }
   ],
   "source": [
    "print(name.lower())  # shannon!!\n",
    "print(name)  # Це повернення до оригіналу SHANNON!!"
   ]
  },
  {
   "cell_type": "code",
   "execution_count": 4,
   "id": "acee35e8",
   "metadata": {},
   "outputs": [],
   "source": [
    "# Щоб внести зміни:\n",
    "name = name.lower()"
   ]
  },
  {
   "cell_type": "code",
   "execution_count": 5,
   "id": "c50b186b",
   "metadata": {
    "lines_to_next_cell": 2
   },
   "outputs": [
    {
     "name": "stdout",
     "output_type": "stream",
     "text": [
      "shannon!!\n"
     ]
    }
   ],
   "source": [
    "print(name)  # shannon!!"
   ]
  },
  {
   "cell_type": "markdown",
   "id": "d7451584",
   "metadata": {},
   "source": [
    "string.upper() перетворить усі символи у верхньому регістрі рядка,\n",
    "але в іншому випадку працюватиме так само, як string.lower()"
   ]
  },
  {
   "cell_type": "code",
   "execution_count": 6,
   "id": "36d0afae",
   "metadata": {},
   "outputs": [],
   "source": [
    "greeting = \"hello, hi\"  # не дуже буйний..."
   ]
  },
  {
   "cell_type": "code",
   "execution_count": 7,
   "id": "40f83f1a",
   "metadata": {},
   "outputs": [
    {
     "name": "stdout",
     "output_type": "stream",
     "text": [
      "HELLO, HI\n"
     ]
    }
   ],
   "source": [
    "print(greeting.upper())  # НАБАГАТО КРАЩЕ!"
   ]
  },
  {
   "cell_type": "code",
   "execution_count": 8,
   "id": "06ce9a10",
   "metadata": {},
   "outputs": [],
   "source": [
    "# Внесення змін залишається:\n",
    "greeting = greeting.upper()"
   ]
  },
  {
   "cell_type": "code",
   "execution_count": 9,
   "id": "ce9661f7",
   "metadata": {
    "lines_to_next_cell": 2
   },
   "outputs": [
    {
     "name": "stdout",
     "output_type": "stream",
     "text": [
      "HELLO, HI\n"
     ]
    }
   ],
   "source": [
    "print(greeting)  # HELLO, hi"
   ]
  },
  {
   "cell_type": "markdown",
   "id": "1dfe971a",
   "metadata": {},
   "source": [
    "string.lower() і .upper() в основному використовуються для тестування рядків нечутливим до регістру способом"
   ]
  },
  {
   "cell_type": "code",
   "execution_count": 10,
   "id": "a0dd45fa",
   "metadata": {},
   "outputs": [],
   "source": [
    "gender = 'F'"
   ]
  },
  {
   "cell_type": "code",
   "execution_count": 22,
   "id": "88c90d31",
   "metadata": {},
   "outputs": [
    {
     "name": "stdout",
     "output_type": "stream",
     "text": [
      "Hi lady!\n"
     ]
    }
   ],
   "source": [
    "if gender.lower() == 'f':\n",
    "    print(\"Hi lady!\")"
   ]
  },
  {
   "cell_type": "code",
   "execution_count": 23,
   "id": "89c207ab",
   "metadata": {},
   "outputs": [
    {
     "name": "stdout",
     "output_type": "stream",
     "text": [
      "Hi lady!\n"
     ]
    }
   ],
   "source": [
    "# Щоб виконати те ж саме без string.lower(), вам доведеться зробити:\n",
    "if gender == 'F' or gender == 'f':\n",
    "    print(\"Hi lady!\")"
   ]
  },
  {
   "cell_type": "code",
   "execution_count": 25,
   "id": "f2722878",
   "metadata": {},
   "outputs": [
    {
     "data": {
      "text/plain": [
       "'Dmitro probachay'"
      ]
     },
     "execution_count": 25,
     "metadata": {},
     "output_type": "execute_result"
    }
   ],
   "source": [
    " \"dmitro probachay\".capitalize()"
   ]
  },
  {
   "cell_type": "code",
   "execution_count": null,
   "id": "e58e191c",
   "metadata": {},
   "outputs": [],
   "source": []
  }
 ],
 "metadata": {
  "jupytext": {
   "cell_metadata_filter": "-all",
   "main_language": "python",
   "notebook_metadata_filter": "-all"
  },
  "kernelspec": {
   "display_name": "Python 3",
   "language": "python",
   "name": "python3"
  },
  "language_info": {
   "codemirror_mode": {
    "name": "ipython",
    "version": 3
   },
   "file_extension": ".py",
   "mimetype": "text/x-python",
   "name": "python",
   "nbconvert_exporter": "python",
   "pygments_lexer": "ipython3",
   "version": "3.8.10"
  }
 },
 "nbformat": 4,
 "nbformat_minor": 5
}
