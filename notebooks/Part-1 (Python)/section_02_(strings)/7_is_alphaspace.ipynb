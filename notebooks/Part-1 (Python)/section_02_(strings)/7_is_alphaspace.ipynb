{
 "cells": [
  {
   "cell_type": "code",
   "execution_count": 7,
   "id": "6d81fa5c",
   "metadata": {},
   "outputs": [],
   "source": [
    "def is_alphaspace(string):\n",
    "    \"\"\"\n",
    "    Повертає значення \"True\", якщо всі символи в рядку складаються з пробілів або літер; інакше повертає значення False.\n",
    "\n",
    "    використання str.isalpha() повертає bool про те, чи ВСІ символи в рядку є літерами\n",
    "    використання str.isspace() повертає bool щодо того, чи ВСІ символи в рядку є пробілами;\n",
    "\n",
    "    Хоча це не строковий метод, ця функція поєднує в собі функціональність строковий методів, наведених вище\n",
    "    \"\"\"\n",
    "    \n",
    "    return all([any([char.isspace(), char.isalpha()]) for char in string])"
   ]
  },
  {
   "cell_type": "markdown",
   "id": "437f4735",
   "metadata": {
    "lines_to_next_cell": 2
   },
   "source": [
    "Ця користувацька функція працюватиме подібно до str.isalpha() та str.isspace(), об'єднаних разом."
   ]
  },
  {
   "cell_type": "code",
   "execution_count": 8,
   "id": "2b8f1931",
   "metadata": {},
   "outputs": [],
   "source": [
    "test_string = \"Цей рядок поверне false для кожної з isalpha та isspace, але повернеться true для користувацької функції\""
   ]
  },
  {
   "cell_type": "code",
   "execution_count": 11,
   "id": "2e4b4933",
   "metadata": {},
   "outputs": [
    {
     "name": "stdout",
     "output_type": "stream",
     "text": [
      "test_string.isalpha() gives us:  False\n",
      "test_string.isspace() gives us:  False\n"
     ]
    }
   ],
   "source": [
    "print(\"test_string.isalpha() gives us: \", test_string.isalpha())\n",
    "print(\"test_string.isspace() gives us: \", test_string.isspace())"
   ]
  },
  {
   "cell_type": "code",
   "execution_count": 12,
   "id": "8ff07643",
   "metadata": {
    "lines_to_next_cell": 2
   },
   "outputs": [
    {
     "name": "stdout",
     "output_type": "stream",
     "text": [
      "But is_alphaspace(test_string) gives us:  False\n"
     ]
    }
   ],
   "source": [
    "# Зверніть увагу на те, чим відрізняється синтаксис.\n",
    "# Це тому, що is_alphaspace() не є рядковим методом, це користувацька функція.\n",
    "print(\"But is_alphaspace(test_string) gives us: \", is_alphaspace(test_string))"
   ]
  },
  {
   "cell_type": "code",
   "execution_count": 13,
   "id": "bf13ad15",
   "metadata": {},
   "outputs": [
    {
     "data": {
      "text/plain": [
       "False"
      ]
     },
     "execution_count": 13,
     "metadata": {},
     "output_type": "execute_result"
    }
   ],
   "source": [
    "is_alphaspace(test_string)"
   ]
  },
  {
   "cell_type": "code",
   "execution_count": null,
   "id": "0a93c39b",
   "metadata": {},
   "outputs": [],
   "source": []
  },
  {
   "cell_type": "markdown",
   "id": "83b7f9f7",
   "metadata": {},
   "source": [
    "Метод isdecimal() - це вбудований метод рядкових даних в Python, який перевіряє, чи складається рядок тільки з десятковими символами. Якщо рядок містить тільки десяткові символи (тобто символи від 0 до 9), метод повертає True, інакше - False.\n",
    "\n",
    "Ось декілька прикладів використання isdecimal():"
   ]
  },
  {
   "cell_type": "code",
   "execution_count": 14,
   "id": "bbc41483",
   "metadata": {},
   "outputs": [
    {
     "name": "stdout",
     "output_type": "stream",
     "text": [
      "True\n",
      "False\n",
      "False\n",
      "True\n"
     ]
    }
   ],
   "source": [
    "s1 = \"12345\"\n",
    "print(s1.isdecimal())  # True\n",
    "\n",
    "s2 = \"12345.67\"\n",
    "print(s2.isdecimal())  # False, тому що крапка не є десятковим символом\n",
    "\n",
    "s3 = \"12three45\"\n",
    "print(s3.isdecimal())  # False, через наявність літер\n",
    "\n",
    "s4 = \"१२३४५\"  # Цифри деванагарі\n",
    "print(s4.isdecimal())  # True, бо це десяткові цифри, хоча вони і належать до іншої писемності"
   ]
  },
  {
   "cell_type": "code",
   "execution_count": null,
   "id": "f2571bc9",
   "metadata": {},
   "outputs": [],
   "source": []
  }
 ],
 "metadata": {
  "jupytext": {
   "cell_metadata_filter": "-all",
   "main_language": "python",
   "notebook_metadata_filter": "-all"
  },
  "kernelspec": {
   "display_name": "Python 3",
   "language": "python",
   "name": "python3"
  },
  "language_info": {
   "codemirror_mode": {
    "name": "ipython",
    "version": 3
   },
   "file_extension": ".py",
   "mimetype": "text/x-python",
   "name": "python",
   "nbconvert_exporter": "python",
   "pygments_lexer": "ipython3",
   "version": "3.8.10"
  }
 },
 "nbformat": 4,
 "nbformat_minor": 5
}
