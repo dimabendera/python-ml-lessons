{
 "cells": [
  {
   "cell_type": "code",
   "execution_count": 1,
   "id": "9d9bef91",
   "metadata": {},
   "outputs": [],
   "source": [
    "# Набір волонтерів\n",
    "# Змініть ці змінні, щоб змінити поведінку програми\n",
    "volunteers_goal = 20\n",
    "current_volunteers = 100"
   ]
  },
  {
   "cell_type": "markdown",
   "id": "b4311265",
   "metadata": {},
   "source": [
    "Чи current_volunteers менше, дорівнює або більше volunteers_goal?"
   ]
  },
  {
   "cell_type": "code",
   "execution_count": 2,
   "id": "ddda77bf",
   "metadata": {},
   "outputs": [
    {
     "name": "stdout",
     "output_type": "stream",
     "text": [
      "You exceeded your recruitment goals by 80! Way to go!\n"
     ]
    }
   ],
   "source": [
    "if current_volunteers < volunteers_goal:\n",
    "    print(\"You still have {0} volunteers to recruit!\".format(volunteers_goal - current_volunteers))\n",
    "elif current_volunteers == volunteers_goal:\n",
    "    print(\"You met your goal exactly! Way to go!\")\n",
    "elif current_volunteers > volunteers_goal:\n",
    "    print(\"You exceeded your recruitment goals by {0}! Way to go!\".format(current_volunteers - volunteers_goal))"
   ]
  },
  {
   "cell_type": "code",
   "execution_count": null,
   "id": "b41ea88c",
   "metadata": {},
   "outputs": [],
   "source": []
  }
 ],
 "metadata": {
  "jupytext": {
   "cell_metadata_filter": "-all",
   "main_language": "python",
   "notebook_metadata_filter": "-all"
  },
  "kernelspec": {
   "display_name": "Python 3",
   "language": "python",
   "name": "python3"
  },
  "language_info": {
   "codemirror_mode": {
    "name": "ipython",
    "version": 3
   },
   "file_extension": ".py",
   "mimetype": "text/x-python",
   "name": "python",
   "nbconvert_exporter": "python",
   "pygments_lexer": "ipython3",
   "version": "3.8.10"
  }
 },
 "nbformat": 4,
 "nbformat_minor": 5
}
