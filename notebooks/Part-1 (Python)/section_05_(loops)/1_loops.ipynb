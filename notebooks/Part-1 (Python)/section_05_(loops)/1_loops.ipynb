{
 "cells": [
  {
   "cell_type": "markdown",
   "id": "ade43afb",
   "metadata": {
    "lines_to_next_cell": 0
   },
   "source": [
    "В Python існує кілька видів циклів: for і while. Давайте розглянемо їх детально."
   ]
  },
  {
   "cell_type": "markdown",
   "id": "76f072ec",
   "metadata": {
    "lines_to_next_cell": 2
   },
   "source": [
    "# Цикл for\n",
    "Цикл for у Python використовується для перебору елементів послідовності (наприклад, списку, кортежу, рядка) або ітератора.\n",
    "\n",
    "Приклад:\n",
    "Перебір елементів списку:"
   ]
  },
  {
   "cell_type": "code",
   "execution_count": 1,
   "id": "c44141f7",
   "metadata": {},
   "outputs": [
    {
     "name": "stdout",
     "output_type": "stream",
     "text": [
      "apple\n",
      "banana\n",
      "cherry\n"
     ]
    }
   ],
   "source": [
    "fruits = [\"apple\", \"banana\", \"cherry\"]\n",
    "for fruit in fruits:\n",
    "    print(fruit)"
   ]
  },
  {
   "cell_type": "markdown",
   "id": "b5f5f5da",
   "metadata": {},
   "source": [
    "Використання range() для генерації послідовності чисел:"
   ]
  },
  {
   "cell_type": "code",
   "execution_count": 4,
   "id": "3248290f",
   "metadata": {},
   "outputs": [
    {
     "name": "stdout",
     "output_type": "stream",
     "text": [
      "1\n",
      "3\n"
     ]
    }
   ],
   "source": [
    "for i in range(1, 5, 2):\n",
    "    print(i)"
   ]
  },
  {
   "cell_type": "markdown",
   "id": "5c1aa9a5",
   "metadata": {},
   "source": [
    "# Цикл while\n",
    "Цикл while продовжує виконання дій, поки умова залишається істинною."
   ]
  },
  {
   "cell_type": "code",
   "execution_count": 9,
   "id": "b481d9c5",
   "metadata": {},
   "outputs": [
    {
     "name": "stdout",
     "output_type": "stream",
     "text": [
      "0\n",
      "1\n",
      "2\n",
      "3\n",
      "4\n"
     ]
    }
   ],
   "source": [
    "count = 0\n",
    "while count < 5:\n",
    "    print(count)\n",
    "    count += 1"
   ]
  },
  {
   "cell_type": "markdown",
   "id": "45507811",
   "metadata": {},
   "source": [
    "# Управління циклами\n",
    "\n",
    "break\n",
    "Використовується для виходу з циклу:"
   ]
  },
  {
   "cell_type": "code",
   "execution_count": 10,
   "id": "385b539c",
   "metadata": {},
   "outputs": [
    {
     "name": "stdout",
     "output_type": "stream",
     "text": [
      "0\n",
      "1\n",
      "2\n",
      "3\n",
      "4\n"
     ]
    }
   ],
   "source": [
    "for i in range(10):\n",
    "    if i == 5:\n",
    "        break\n",
    "    print(i)"
   ]
  },
  {
   "cell_type": "markdown",
   "id": "28f25af4",
   "metadata": {},
   "source": [
    "continue Використовується для переходу до наступної ітерації циклу, пропускаючи певний крок:"
   ]
  },
  {
   "cell_type": "markdown",
   "id": "f71c4669",
   "metadata": {},
   "source": [
    "Функція range() часто використовується в циклах for. Вона може приймати від одного до трьох аргументів:\n",
    "\n",
    "* range(stop): генерує числа від 0 до (stop - 1).\n",
    "* range(start, stop): генерує числа від start до (stop - 1).\n",
    "* range(start, stop, step): генерує числа від start до (stop - 1) з кроком step.\n"
   ]
  },
  {
   "cell_type": "code",
   "execution_count": 5,
   "id": "64a4ad5b",
   "metadata": {},
   "outputs": [
    {
     "name": "stdout",
     "output_type": "stream",
     "text": [
      "0\n",
      "1\n",
      "2\n",
      "3\n",
      "4\n",
      "6\n",
      "7\n",
      "8\n",
      "9\n"
     ]
    }
   ],
   "source": [
    "for i in range(10):\n",
    "    if i == 5:\n",
    "        continue\n",
    "    print(i)"
   ]
  },
  {
   "cell_type": "markdown",
   "id": "674725fe",
   "metadata": {},
   "source": [
    "else після циклів\n",
    "Блок else виконується після завершення циклу, але тільки якщо цикл завершився \"звичайним\" способом (без break):"
   ]
  },
  {
   "cell_type": "code",
   "execution_count": 13,
   "id": "f7f6518c",
   "metadata": {},
   "outputs": [
    {
     "name": "stdout",
     "output_type": "stream",
     "text": [
      "0\n",
      "1\n",
      "2\n",
      "3\n",
      "4\n",
      "Цикл завершено!\n"
     ]
    }
   ],
   "source": [
    "for i in range(5):\n",
    "    print(i)\n",
    "else:\n",
    "    print(\"Цикл завершено!\")"
   ]
  },
  {
   "cell_type": "markdown",
   "id": "cf58157a",
   "metadata": {},
   "source": [
    "# Вкладені цикли\n",
    "Ви можете використовувати цикл усередині іншого циклу. Це називається вкладеним циклом."
   ]
  },
  {
   "cell_type": "code",
   "execution_count": 14,
   "id": "b3268b2b",
   "metadata": {},
   "outputs": [
    {
     "name": "stdout",
     "output_type": "stream",
     "text": [
      "0 0\n",
      "0 1\n",
      "0 2\n",
      "1 0\n",
      "1 1\n",
      "1 2\n",
      "2 0\n",
      "2 1\n",
      "2 2\n"
     ]
    }
   ],
   "source": [
    "for i in range(3):  # Зовнішній цикл\n",
    "    for j in range(3):  # Внутрішній цикл\n",
    "        print(i, j)"
   ]
  },
  {
   "cell_type": "markdown",
   "id": "b953c5e0",
   "metadata": {},
   "source": [
    "# Функція enumerate()\n",
    "Іноді, перебираючи елементи списку, вам може знадобитися знати індекс поточного елемента. Функція enumerate() може бути корисною:"
   ]
  },
  {
   "cell_type": "code",
   "execution_count": 15,
   "id": "37064bf0",
   "metadata": {},
   "outputs": [
    {
     "name": "stdout",
     "output_type": "stream",
     "text": [
      "Index 0 has fruit: apple\n",
      "Index 1 has fruit: banana\n",
      "Index 2 has fruit: cherry\n"
     ]
    }
   ],
   "source": [
    "fruits = [\"apple\", \"banana\", \"cherry\"]\n",
    "for index, fruit in enumerate(fruits):\n",
    "    print(f\"Index {index} has fruit: {fruit}\")"
   ]
  },
  {
   "cell_type": "markdown",
   "id": "7e0a2e3e",
   "metadata": {},
   "source": [
    "# Цикли for з розпаковкою\n",
    "Якщо кожен елемент у вашому списку є кортежем (або іншою колекцією), ви можете використовувати розпаковку в циклі for."
   ]
  },
  {
   "cell_type": "code",
   "execution_count": 16,
   "id": "7dae1565",
   "metadata": {},
   "outputs": [
    {
     "name": "stdout",
     "output_type": "stream",
     "text": [
      "Number: 1, Name: one\n",
      "Number: 2, Name: two\n",
      "Number: 3, Name: three\n"
     ]
    }
   ],
   "source": [
    "pairs = [(1, 'one'), (2, 'two'), (3, 'three')]\n",
    "for num, name in pairs:\n",
    "    print(f\"Number: {num}, Name: {name}\")"
   ]
  },
  {
   "cell_type": "markdown",
   "id": "88af0f26",
   "metadata": {},
   "source": [
    "# Функція zip()\n",
    "Якщо вам потрібно ітеруватися одночасно по двох або більше списках, ви можете використовувати функцію zip()."
   ]
  },
  {
   "cell_type": "code",
   "execution_count": 17,
   "id": "4f5c19c2",
   "metadata": {},
   "outputs": [
    {
     "name": "stdout",
     "output_type": "stream",
     "text": [
      "Name: Alice, Age: 25\n",
      "Name: Bob, Age: 30\n",
      "Name: Charlie, Age: 35\n"
     ]
    }
   ],
   "source": [
    "names = [\"Alice\", \"Bob\", \"Charlie\"]\n",
    "ages = [25, 30, 35]\n",
    "\n",
    "for name, age in zip(names, ages):\n",
    "    print(f\"Name: {name}, Age: {age}\")"
   ]
  },
  {
   "cell_type": "markdown",
   "id": "b41aed0c",
   "metadata": {},
   "source": [
    "# List comprehensions\n",
    "Це короткий спосіб створювати списки в Python за допомогою циклу for."
   ]
  },
  {
   "cell_type": "code",
   "execution_count": 18,
   "id": "974c0e5c",
   "metadata": {},
   "outputs": [
    {
     "name": "stdout",
     "output_type": "stream",
     "text": [
      "[1, 4, 9, 16]\n"
     ]
    }
   ],
   "source": [
    "numbers = [1, 2, 3, 4]\n",
    "squares = [n**2 for n in numbers]\n",
    "print(squares)  # [1, 4, 9, 16]"
   ]
  },
  {
   "cell_type": "code",
   "execution_count": 20,
   "id": "1e2d61a5",
   "metadata": {},
   "outputs": [
    {
     "name": "stdout",
     "output_type": "stream",
     "text": [
      "[[0], [0, 1], [0, 1, 2], [0, 1, 2, 3]]\n"
     ]
    }
   ],
   "source": [
    "numbers = [1, 2, 3, 4]\n",
    "squares = [[item for item in range(n)] for n in numbers]\n",
    "print(squares)  # [1, 4, 9, 16]"
   ]
  },
  {
   "cell_type": "markdown",
   "id": "2df175fb",
   "metadata": {},
   "source": [
    "Можна також додавати умови:"
   ]
  },
  {
   "cell_type": "code",
   "execution_count": 21,
   "id": "679d25d8",
   "metadata": {},
   "outputs": [
    {
     "name": "stdout",
     "output_type": "stream",
     "text": [
      "[4, 16]\n"
     ]
    }
   ],
   "source": [
    "even_squares = [n**2 for n in numbers if n % 2 == 0]\n",
    "print(even_squares)  # [4, 16]"
   ]
  },
  {
   "cell_type": "markdown",
   "id": "5d6dbcf4",
   "metadata": {},
   "source": [
    "# Цикли та рядки\n",
    "Ви можете використовувати цикли для перебору символів у рядках:"
   ]
  },
  {
   "cell_type": "code",
   "execution_count": 22,
   "id": "60d7af3c",
   "metadata": {},
   "outputs": [
    {
     "name": "stdout",
     "output_type": "stream",
     "text": [
      "P\n",
      "y\n",
      "t\n",
      "h\n",
      "o\n",
      "n\n"
     ]
    }
   ],
   "source": [
    "word = \"Python\"\n",
    "for letter in word:\n",
    "    print(letter)"
   ]
  },
  {
   "cell_type": "markdown",
   "id": "a81a6d45",
   "metadata": {},
   "source": [
    "# pass у циклах\n",
    "Оператор pass це порожній оператор, який не робить нічого. Він може бути корисний у місцях, де синтаксис вимагає, щоб було присутнє тіло оператора, але логіка не вимагає виконання жодної дії."
   ]
  },
  {
   "cell_type": "code",
   "execution_count": 25,
   "id": "e68efccc",
   "metadata": {},
   "outputs": [
    {
     "name": "stdout",
     "output_type": "stream",
     "text": [
      "0\n",
      "1\n",
      "2\n",
      "4\n"
     ]
    }
   ],
   "source": [
    "for i in range(5):\n",
    "    if i == 3:\n",
    "        # TODO: \n",
    "        pass  # Не робимо нічого для 3\n",
    "    else:\n",
    "        print(i)"
   ]
  },
  {
   "cell_type": "markdown",
   "id": "775504da",
   "metadata": {},
   "source": [
    "# Змінні циклу після завершення циклу\n",
    "Змінні, що використовуються в циклі, зберігають своє значення після завершення циклу. "
   ]
  },
  {
   "cell_type": "code",
   "execution_count": 27,
   "id": "b33151df",
   "metadata": {},
   "outputs": [
    {
     "name": "stdout",
     "output_type": "stream",
     "text": [
      "0\n",
      "1\n",
      "2\n",
      "3\n",
      "4\n",
      "4\n"
     ]
    }
   ],
   "source": [
    "for i in range(5):\n",
    "    print(i)\n",
    "\n",
    "print(i)  # виведе 4"
   ]
  },
  {
   "cell_type": "markdown",
   "id": "ae4f8d9c",
   "metadata": {},
   "source": [
    "# loop by dict"
   ]
  },
  {
   "cell_type": "markdown",
   "id": "ff62f676",
   "metadata": {},
   "source": [
    "Ітерування по ключах:\n",
    "За замовчуванням, коли ви використовуєте словник в циклі for, ви ітеруєтеся через ключі:"
   ]
  },
  {
   "cell_type": "code",
   "execution_count": 28,
   "id": "ad79a6a4",
   "metadata": {},
   "outputs": [
    {
     "name": "stdout",
     "output_type": "stream",
     "text": [
      "a\n",
      "b\n",
      "c\n"
     ]
    }
   ],
   "source": [
    "dict_example = {'a': 1, 'b': 2, 'c': 3}\n",
    "\n",
    "for key in dict_example:\n",
    "    print(key)"
   ]
  },
  {
   "cell_type": "markdown",
   "id": "ed351b83",
   "metadata": {},
   "source": [
    "Ітерування по значеннях:\n",
    "\n",
    "Ви можете використовувати метод values(), щоб ітеруватися тільки по значеннях:"
   ]
  },
  {
   "cell_type": "code",
   "execution_count": 29,
   "id": "eaab526d",
   "metadata": {},
   "outputs": [
    {
     "name": "stdout",
     "output_type": "stream",
     "text": [
      "1\n",
      "2\n",
      "3\n"
     ]
    }
   ],
   "source": [
    "for value in dict_example.values():\n",
    "    print(value)"
   ]
  },
  {
   "cell_type": "markdown",
   "id": "c8209767",
   "metadata": {},
   "source": [
    "Ітерування по ключах і значеннях:\n",
    "    \n",
    "Метод items() повертає пари ключ-значення, які ви можете розпакувати прямо в циклі:"
   ]
  },
  {
   "cell_type": "code",
   "execution_count": 30,
   "id": "9bf582c1",
   "metadata": {},
   "outputs": [
    {
     "name": "stdout",
     "output_type": "stream",
     "text": [
      "a 1\n",
      "b 2\n",
      "c 3\n"
     ]
    }
   ],
   "source": [
    "for key, value in dict_example.items():\n",
    "    print(key, value)"
   ]
  },
  {
   "cell_type": "markdown",
   "id": "48a5e3ac",
   "metadata": {},
   "source": [
    "Комбіноване ітерування:\n",
    "\n",
    "Ви також можете комбінувати різні методи ітерування. Наприклад, якщо вам потрібно ітеруватися по ключах та звертатися до відповідних значень:"
   ]
  },
  {
   "cell_type": "code",
   "execution_count": 31,
   "id": "277d5783",
   "metadata": {},
   "outputs": [
    {
     "name": "stdout",
     "output_type": "stream",
     "text": [
      "a 1\n",
      "b 2\n",
      "c 3\n"
     ]
    }
   ],
   "source": [
    "for key in dict_example:\n",
    "    value = dict_example[key]\n",
    "    print(key, value)"
   ]
  },
  {
   "cell_type": "markdown",
   "id": "78d297d7",
   "metadata": {},
   "source": [
    "Ітерування по словнику з індексами:\n",
    "    \n",
    "Ви можете комбінувати enumerate() і items() для одночасного отримання індексу, ключа та значення:"
   ]
  },
  {
   "cell_type": "code",
   "execution_count": 32,
   "id": "a6f802ea",
   "metadata": {},
   "outputs": [
    {
     "name": "stdout",
     "output_type": "stream",
     "text": [
      "0 a 1\n",
      "1 b 2\n",
      "2 c 3\n"
     ]
    }
   ],
   "source": [
    "for index, (key, value) in enumerate(dict_example.items()):\n",
    "    print(index, key, value)"
   ]
  },
  {
   "cell_type": "markdown",
   "id": "0756d519",
   "metadata": {},
   "source": [
    "Використовуючи dictionary comprehension, ми можемо створити словник так:"
   ]
  },
  {
   "cell_type": "code",
   "execution_count": 33,
   "id": "69783885",
   "metadata": {},
   "outputs": [
    {
     "name": "stdout",
     "output_type": "stream",
     "text": [
      "{'a': 1, 'b': 2, 'c': 3}\n"
     ]
    }
   ],
   "source": [
    "keys = ['a', 'b', 'c']\n",
    "values = [1, 2, 3]\n",
    "\n",
    "dict_comprehension = {key: value for key, value in zip(keys, values)}\n",
    "print(dict_comprehension)  # Виведе: {'a': 1, 'b': 2, 'c': 3}"
   ]
  },
  {
   "cell_type": "markdown",
   "id": "ae378982",
   "metadata": {},
   "source": [
    "Давайте розглянемо ще один приклад, де ми хочемо створити словник, в якому ключі це числа від 0 до 4, а значення — це їх квадрати:"
   ]
  },
  {
   "cell_type": "code",
   "execution_count": 34,
   "id": "2cd9e5c8",
   "metadata": {},
   "outputs": [
    {
     "name": "stdout",
     "output_type": "stream",
     "text": [
      "{0: 0, 1: 1, 2: 4, 3: 9, 4: 16}\n"
     ]
    }
   ],
   "source": [
    "squared_dict = {x: x**2 for x in range(5)}\n",
    "print(squared_dict)  # Виведе: {0: 0, 1: 1, 2: 4, 3: 9, 4: 16}"
   ]
  },
  {
   "cell_type": "markdown",
   "id": "35af68a3",
   "metadata": {},
   "source": [
    "Ми також можемо використовувати умовні вирази всередині dictionary comprehensions. Наприклад, якщо ми хочемо створити словник тільки з парними числами:"
   ]
  },
  {
   "cell_type": "code",
   "execution_count": 36,
   "id": "c15032eb",
   "metadata": {},
   "outputs": [
    {
     "name": "stdout",
     "output_type": "stream",
     "text": [
      "{0: 0, 2: 4, 4: 16, 6: 36, 8: 64}\n"
     ]
    }
   ],
   "source": [
    "even_squares = {x: x**2 for x in range(10) if x % 2 == 0}\n",
    "print(even_squares)  # Виведе: {0: 0, 2: 4, 4: 16, 6: 36, 8: 64}"
   ]
  },
  {
   "cell_type": "code",
   "execution_count": 37,
   "id": "6aebfdd1",
   "metadata": {},
   "outputs": [
    {
     "data": {
      "text/plain": [
       "dict"
      ]
     },
     "execution_count": 37,
     "metadata": {},
     "output_type": "execute_result"
    }
   ],
   "source": []
  },
  {
   "cell_type": "code",
   "execution_count": null,
   "id": "398efbfc",
   "metadata": {},
   "outputs": [],
   "source": []
  }
 ],
 "metadata": {
  "jupytext": {
   "cell_metadata_filter": "-all",
   "main_language": "python",
   "notebook_metadata_filter": "-all"
  },
  "kernelspec": {
   "display_name": "Python 3",
   "language": "python",
   "name": "python3"
  },
  "language_info": {
   "codemirror_mode": {
    "name": "ipython",
    "version": 3
   },
   "file_extension": ".py",
   "mimetype": "text/x-python",
   "name": "python",
   "nbconvert_exporter": "python",
   "pygments_lexer": "ipython3",
   "version": "3.8.10"
  }
 },
 "nbformat": 4,
 "nbformat_minor": 5
}
