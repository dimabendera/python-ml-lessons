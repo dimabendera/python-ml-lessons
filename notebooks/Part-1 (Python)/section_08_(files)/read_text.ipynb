{
 "cells": [
  {
   "cell_type": "markdown",
   "id": "30e1bbf1",
   "metadata": {},
   "source": [
    "Якщо ви новачок в обробці файлів, обов'язково перевірте with_open.py спочатку!"
   ]
  },
  {
   "cell_type": "code",
   "execution_count": null,
   "id": "d01710c7",
   "metadata": {},
   "outputs": [],
   "source": [
    "with open('states.txt', 'r') as states_file:\n",
    "    states = states_file.read().split(\"\\n\")"
   ]
  },
  {
   "cell_type": "code",
   "execution_count": null,
   "id": "85ddc684",
   "metadata": {},
   "outputs": [],
   "source": [
    "print(states)"
   ]
  },
  {
   "cell_type": "markdown",
   "id": "d0e5401c",
   "metadata": {},
   "source": [
    ".read() це файловий метод, який читає файл (який файл? той, що знаходиться у файловому\n",
    "об'єкті безпосередньо перед крапкою) і повертає весь вміст у вигляді рядка."
   ]
  },
  {
   "cell_type": "markdown",
   "id": "0e6b491d",
   "metadata": {},
   "source": [
    "Замість того, щоб залишати його як рядок, ми розбиваємо файл на список\n",
    "у кожному новому рядку і зберігаємо цей список у станах змінних"
   ]
  },
  {
   "cell_type": "markdown",
   "id": "ff1dfd6a",
   "metadata": {},
   "source": [
    "Тепер ми можемо зациклитися на цьому списку!"
   ]
  },
  {
   "cell_type": "code",
   "execution_count": null,
   "id": "a67ac55b",
   "metadata": {},
   "outputs": [],
   "source": [
    "for state in states:\n",
    "    print(state)"
   ]
  }
 ],
 "metadata": {
  "jupytext": {
   "cell_metadata_filter": "-all",
   "main_language": "python",
   "notebook_metadata_filter": "-all"
  }
 },
 "nbformat": 4,
 "nbformat_minor": 5
}
