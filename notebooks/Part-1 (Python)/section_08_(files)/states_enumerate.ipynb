{
 "cells": [
  {
   "cell_type": "code",
   "execution_count": null,
   "id": "ff02cf72",
   "metadata": {},
   "outputs": [],
   "source": [
    "with open(\"states.csv\", \"r\") as states_file:        \n",
    "    states = states_file.read().split(\"\\n\")"
   ]
  },
  {
   "cell_type": "code",
   "execution_count": null,
   "id": "32b233ba",
   "metadata": {},
   "outputs": [],
   "source": [
    "for index, state in enumerate(states):\n",
    "    states[index] = states[index].split(\",\")\n",
    "\n",
    "    print(\"{0}'s abbreviation is {1}\".format(states[index][1], states[index][0]))    "
   ]
  },
  {
   "cell_type": "markdown",
   "id": "be6272cf",
   "metadata": {},
   "source": [
    "Стани друку"
   ]
  }
 ],
 "metadata": {
  "jupytext": {
   "cell_metadata_filter": "-all",
   "main_language": "python",
   "notebook_metadata_filter": "-all"
  }
 },
 "nbformat": 4,
 "nbformat_minor": 5
}
