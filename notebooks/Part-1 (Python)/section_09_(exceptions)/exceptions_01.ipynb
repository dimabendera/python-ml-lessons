{
 "cells": [
  {
   "cell_type": "markdown",
   "id": "d62fd061",
   "metadata": {},
   "source": [
    "Example #1: Обробка простих винятків"
   ]
  },
  {
   "cell_type": "code",
   "execution_count": null,
   "id": "544fa4c8",
   "metadata": {},
   "outputs": [],
   "source": [
    "try:\n",
    "    print(1/0)  # Зробити це не вдасться.\n",
    "except ZeroDivisionError:\n",
    "    print(\"You can't divide by zero!\")"
   ]
  }
 ],
 "metadata": {
  "jupytext": {
   "cell_metadata_filter": "-all",
   "main_language": "python",
   "notebook_metadata_filter": "-all"
  }
 },
 "nbformat": 4,
 "nbformat_minor": 5
}
