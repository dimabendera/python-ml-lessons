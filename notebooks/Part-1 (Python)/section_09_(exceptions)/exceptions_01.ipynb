{
 "cells": [
  {
   "cell_type": "markdown",
   "id": "d62fd061",
   "metadata": {},
   "source": [
    "## Example #1: Обробка простих винятків"
   ]
  },
  {
   "cell_type": "code",
   "execution_count": 1,
   "id": "544fa4c8",
   "metadata": {},
   "outputs": [
    {
     "name": "stdout",
     "output_type": "stream",
     "text": [
      "You can't divide by zero!\n"
     ]
    }
   ],
   "source": [
    "try:\n",
    "    print(1/0)  # Зробити це не вдасться.\n",
    "except ZeroDivisionError:\n",
    "    print(\"You can't divide by zero!\")"
   ]
  },
  {
   "cell_type": "markdown",
   "id": "379a3acb",
   "metadata": {},
   "source": [
    "## Example #2: Винятки запускають блок except і пропускають будь-який код після помилки."
   ]
  },
  {
   "cell_type": "code",
   "execution_count": 2,
   "id": "114dd128",
   "metadata": {},
   "outputs": [
    {
     "name": "stdout",
     "output_type": "stream",
     "text": [
      "You still can't divide by zero!\n"
     ]
    }
   ],
   "source": [
    "try:\n",
    "    print(1/0)  # Зробити це не вдасться.\n",
    "    print(\"I'm code that will never run!\")\n",
    "\n",
    "    print(555/0)  # Це не вдасться, якщо ми ніколи не потрапимо сюди.\n",
    "    # Ось чому найкраще використовувати блок проб на найменшій кількості рядків коду.\n",
    "except ZeroDivisionError:\n",
    "    print(\"You still can't divide by zero!\")"
   ]
  },
  {
   "cell_type": "markdown",
   "id": "27ccf205",
   "metadata": {},
   "source": [
    "## Example #3: Можуть бути спіймані різні види винятків."
   ]
  },
  {
   "cell_type": "code",
   "execution_count": null,
   "id": "d94efb0d",
   "metadata": {},
   "outputs": [],
   "source": [
    "phonebook = {}\n",
    "\n",
    "while True:  # Це буде циклічно вічно, поки ми не зробимо перерву!\n",
    "\n",
    "    key = input(\" (Ex #3, Phonebook) Please enter a person's name, or leave blank to quit: \")\n",
    "\n",
    "    if key == '':\n",
    "        break\n",
    "    \n",
    "    value = input(\" (Ex #3, Phonebook) Please enter {0}'s phone number with no punctuation: \")\n",
    "\n",
    "    phonebook[key] = value"
   ]
  },
  {
   "cell_type": "code",
   "execution_count": 3,
   "id": "14568cae",
   "metadata": {},
   "outputs": [
    {
     "name": "stdout",
     "output_type": "stream",
     "text": [
      " (Ex #3, Phonebook) Please enter a person's name, or leave blank to quit: 1\n",
      " (Ex #3, Phonebook) Please enter {0}'s phone number with no punctuation: 2\n",
      " (Ex #3, Phonebook) Please enter a person's name, or leave blank to quit: 3\n",
      " (Ex #3, Phonebook) Please enter {0}'s phone number with no punctuation: \n",
      " (Ex #3, Phonebook) Please enter a person's name, or leave blank to quit: \n",
      "Okay, now we're done entering names. Please enter the name of the person whose number you would like: \n",
      "You don't have 's phone number!\n"
     ]
    }
   ],
   "source": [
    "   \n",
    "user_input = input(\"Okay, now we're done entering names. \"\n",
    "                   \"Please enter the name of the person whose number you would like: \")\n",
    "\n",
    "try:\n",
    "    print(int(phonebook[user_input]))\n",
    "except KeyError:\n",
    "    print(\"You don't have {0}'s phone number!\".format(user_input))\n",
    "except ValueError:\n",
    "    print(\"You typed in punctuation, didn't you?\")\n",
    "    print(\"Here's the number anyway ... {0}\".format(phonebook[user_input]))"
   ]
  },
  {
   "cell_type": "markdown",
   "id": "4d22cce5",
   "metadata": {},
   "source": [
    "## Example #4: Універсальний обробник: виняток"
   ]
  },
  {
   "cell_type": "code",
   "execution_count": 4,
   "id": "b4b5fdef",
   "metadata": {},
   "outputs": [
    {
     "name": "stdout",
     "output_type": "stream",
     "text": [
      "Now we'll just repeat the try ... except block from Example #3 but with a catch-all for any exception.\n"
     ]
    }
   ],
   "source": [
    "print(\"Now we'll just repeat the try ... except block from Example #3 but with a catch-all for any exception.\")"
   ]
  },
  {
   "cell_type": "code",
   "execution_count": 5,
   "id": "adf05b7f",
   "metadata": {},
   "outputs": [],
   "source": [
    "phonebook = {}"
   ]
  },
  {
   "cell_type": "code",
   "execution_count": 6,
   "id": "f935c7eb",
   "metadata": {},
   "outputs": [
    {
     "name": "stdout",
     "output_type": "stream",
     "text": [
      " (Ex #3, Phonebook) Please enter a person's name, or leave blank to quit: name\n",
      " (Ex #3, Phonebook) Please enter {0}'s phone number with no punctuation: 345\n",
      " (Ex #3, Phonebook) Please enter a person's name, or leave blank to quit: \n"
     ]
    }
   ],
   "source": [
    "while True:  # Це буде циклічно вічно, поки ми не зробимо перерву!\n",
    "    key = input(\" (Ex #3, Phonebook) Please enter a person's name, or leave blank to quit: \")\n",
    "    if key == '':\n",
    "        break\n",
    "    value = input(\" (Ex #3, Phonebook) Please enter {0}'s phone number with no punctuation: \")\n",
    "    phonebook[key] = value"
   ]
  },
  {
   "cell_type": "code",
   "execution_count": 7,
   "id": "c532045f",
   "metadata": {},
   "outputs": [
    {
     "name": "stdout",
     "output_type": "stream",
     "text": [
      " Okay, now we're done entering names. Please enter the name of the person whose number you would like: a\n"
     ]
    }
   ],
   "source": [
    "user_input = input(\" Okay, now we're done entering names. \"\n",
    "                   \"Please enter the name of the person whose number you would like: \")"
   ]
  },
  {
   "cell_type": "code",
   "execution_count": 8,
   "id": "ecf53063",
   "metadata": {},
   "outputs": [
    {
     "name": "stdout",
     "output_type": "stream",
     "text": [
      "With any exception type (not just Exception), you can find out the detailed message specific to the error by using ', e' afterward.\n",
      "In this case, the detailed message was: 'a'\n",
      "Exception is best used in addition to other specific exceptions first.\n",
      "For best results, think of each except as being similar to an 'elif' statement targeting something specific; except Exception is similar to an 'else' statement being the catch-all.\n"
     ]
    }
   ],
   "source": [
    "try:\n",
    "    print(int(phonebook[user_input]))\n",
    "except Exception as e:\n",
    "    print(\"With any exception type (not just Exception), \"\n",
    "          \"you can find out the detailed message specific to the error by using ', e' afterward.\")\n",
    "    print(\"In this case, the detailed message was: {0}\".format(e))\n",
    "    print(\"Exception is best used in addition to other specific exceptions first.\")\n",
    "    print(\"For best results, think of each except as being similar \"\n",
    "          \"to an 'elif' statement targeting something specific; \"\n",
    "          \"except Exception is similar to an 'else' statement being the catch-all.\")"
   ]
  },
  {
   "cell_type": "markdown",
   "id": "dd4f382d",
   "metadata": {},
   "source": [
    "## Example #5: Обробка винятків для вкладення"
   ]
  },
  {
   "cell_type": "code",
   "execution_count": 9,
   "id": "a719fffe",
   "metadata": {},
   "outputs": [
    {
     "name": "stdout",
     "output_type": "stream",
     "text": [
      " Example #5: enter a number: 1\n"
     ]
    }
   ],
   "source": [
    "user_input = input(\" Example #5: enter a number: \")"
   ]
  },
  {
   "cell_type": "code",
   "execution_count": 10,
   "id": "eae80a80",
   "metadata": {},
   "outputs": [],
   "source": [
    "try:\n",
    "    user_input = int(user_input)\n",
    "except ValueError:\n",
    "    try:\n",
    "        print(\"User input was either a float or a string.\")\n",
    "        user_input = int(float(user_input))\n",
    "        print(\"Turns out it was a float! {0}\".format(user_input))\n",
    "    except ValueError:\n",
    "        print(\"Guess {0} was a string and not a number at all.\".format(user_input))"
   ]
  },
  {
   "cell_type": "code",
   "execution_count": 11,
   "id": "a4daae1c",
   "metadata": {},
   "outputs": [
    {
     "name": "stdout",
     "output_type": "stream",
     "text": [
      "Now the code block above works pretty much the same as the following: \n",
      " Example #5: enter a number: 2\n"
     ]
    }
   ],
   "source": [
    "print(\"Now the code block above works pretty much the same as the following: \")\n",
    "user_input = input(\" Example #5: enter a number: \")\n",
    "\n",
    "try:\n",
    "    user_input = int(float(user_input))\n",
    "except ValueError:\n",
    "    print(\"Guess {0} was a string and not a number at all.\".format(user_input))"
   ]
  },
  {
   "cell_type": "markdown",
   "id": "6ab0107e",
   "metadata": {},
   "source": [
    "## Example #6: Raise (без аргументів)"
   ]
  },
  {
   "cell_type": "code",
   "execution_count": 12,
   "id": "8784b9be",
   "metadata": {},
   "outputs": [],
   "source": [
    "import time"
   ]
  },
  {
   "cell_type": "code",
   "execution_count": 16,
   "id": "d3e2f881",
   "metadata": {},
   "outputs": [
    {
     "name": "stdout",
     "output_type": "stream",
     "text": [
      "I'm going to count down from 1000 as fast as I can.  Hit Ctrl+C three times to stop.\n",
      "1000\n",
      "999\n",
      " You have paused 2 time(s).\n",
      "Pausing for 2 seconds.\n",
      "999\n",
      "998\n",
      " You have paused 3 time(s).\n",
      "You paused 3 times.  Ending early by raising the original exception (KeyboardInterrupt)\n"
     ]
    },
    {
     "ename": "KeyboardInterrupt",
     "evalue": "",
     "output_type": "error",
     "traceback": [
      "\u001b[0;31m---------------------------------------------------------------------------\u001b[0m",
      "\u001b[0;31mKeyboardInterrupt\u001b[0m                         Traceback (most recent call last)",
      "\u001b[0;32m<ipython-input-16-fc14eaa6a74c>\u001b[0m in \u001b[0;36m<module>\u001b[0;34m\u001b[0m\n\u001b[1;32m      8\u001b[0m     \u001b[0;32mtry\u001b[0m\u001b[0;34m:\u001b[0m\u001b[0;34m\u001b[0m\u001b[0;34m\u001b[0m\u001b[0m\n\u001b[1;32m      9\u001b[0m         \u001b[0mprint\u001b[0m\u001b[0;34m(\u001b[0m\u001b[0mx\u001b[0m\u001b[0;34m)\u001b[0m\u001b[0;34m\u001b[0m\u001b[0;34m\u001b[0m\u001b[0m\n\u001b[0;32m---> 10\u001b[0;31m         \u001b[0mtime\u001b[0m\u001b[0;34m.\u001b[0m\u001b[0msleep\u001b[0m\u001b[0;34m(\u001b[0m\u001b[0mtimes_paused\u001b[0m\u001b[0;34m)\u001b[0m\u001b[0;34m\u001b[0m\u001b[0;34m\u001b[0m\u001b[0m\n\u001b[0m\u001b[1;32m     11\u001b[0m         \u001b[0mx\u001b[0m\u001b[0;34m-=\u001b[0m\u001b[0;36m1\u001b[0m\u001b[0;34m\u001b[0m\u001b[0;34m\u001b[0m\u001b[0m\n\u001b[1;32m     12\u001b[0m     \u001b[0;32mexcept\u001b[0m \u001b[0mKeyboardInterrupt\u001b[0m\u001b[0;34m:\u001b[0m\u001b[0;34m\u001b[0m\u001b[0;34m\u001b[0m\u001b[0m\n",
      "\u001b[0;31mKeyboardInterrupt\u001b[0m: "
     ]
    }
   ],
   "source": [
    "print(\"I'm going to count down from 1000 as fast as I can.  Hit Ctrl+C three times to stop.\")\n",
    "\n",
    "x = 1000\n",
    "times_paused = 1\n",
    "\n",
    "while x > 0:\n",
    "\n",
    "    try:\n",
    "        print(x)\n",
    "        time.sleep(times_paused)\n",
    "        x-=1\n",
    "    except KeyboardInterrupt:\n",
    "\n",
    "        times_paused += 1\n",
    "        \n",
    "        print(\" You have paused {0} time(s).\".format(times_paused))\n",
    "\n",
    "        if times_paused == 3:\n",
    "            print(\"You paused 3 times.  Ending early by raising the original exception (KeyboardInterrupt)\")\n",
    "            raise  # це підніме *оригінальний* виняток, яким у цьому випадку є KeyboardInterrupt\n",
    "\n",
    "        print(\"Pausing for {0} seconds.\".format(times_paused))\n",
    "        time.sleep(times_paused)"
   ]
  },
  {
   "cell_type": "markdown",
   "id": "833fbfc6",
   "metadata": {},
   "source": [
    "# Example #7: try-else\n",
    "\n",
    "Використовуйте блок else, приєднаний до блоку проби, якщо потрібно виконати код лише тоді, коли помилок не виникло."
   ]
  },
  {
   "cell_type": "code",
   "execution_count": 19,
   "id": "1ef30a88",
   "metadata": {},
   "outputs": [
    {
     "name": "stdout",
     "output_type": "stream",
     "text": [
      "Please enter a number: 1\n"
     ]
    }
   ],
   "source": [
    "user_input = input(\"Please enter a number: \")"
   ]
  },
  {
   "cell_type": "code",
   "execution_count": 20,
   "id": "37ab65e9",
   "metadata": {},
   "outputs": [
    {
     "name": "stdout",
     "output_type": "stream",
     "text": [
      "Hooray! We didn't encounter any errors!\n",
      "Oh, by the way, your number was: 1\n"
     ]
    }
   ],
   "source": [
    "try:\n",
    "    user_input = int(float(user_input))\n",
    "except ValueError:\n",
    "    print(\"You didn't enter a number, did you?\")\n",
    "else:  # помилок не сталося\n",
    "    print(\"Hooray! We didn't encounter any errors!\")\n",
    "    print(\"Oh, by the way, your number was: {0}\".format(user_input))"
   ]
  },
  {
   "cell_type": "markdown",
   "id": "6ee99abd",
   "metadata": {},
   "source": [
    "## Example #8: try-finally\n",
    "Використовуйте finally блок, приєднаний до блоку try, для виконання коду незалежно від того, що станеться"
   ]
  },
  {
   "cell_type": "code",
   "execution_count": 21,
   "id": "6b26b988",
   "metadata": {},
   "outputs": [
    {
     "name": "stdout",
     "output_type": "stream",
     "text": [
      "Please enter a number: 0\n",
      "Hooray! We didn't encounter any errors!\n",
      "Here was your input: 0\n",
      "'finally' isn't that common though, and you could really just put your code outside of the block entirely.\n",
      "Here was your input: 0\n"
     ]
    }
   ],
   "source": [
    "user_input = input(\"Please enter a number: \")\n",
    "\n",
    "try:\n",
    "    user_input = int(float(user_input))\n",
    "except ValueError:\n",
    "    print(\"You didn't enter a number, did you?\")\n",
    "else:  # помилок не сталося\n",
    "    print(\"Hooray! We didn't encounter any errors!\")\n",
    "finally:  # Незважаючи ні на що\n",
    "    print(\"Here was your input: {0}\".format(user_input))\n",
    "    \n",
    "print(\"'finally' isn't that common though, and you could really just put your code outside of the block entirely.\")\n",
    "print(\"Here was your input: {0}\".format(user_input))"
   ]
  },
  {
   "cell_type": "markdown",
   "id": "39ea2fcd",
   "metadata": {},
   "source": [
    "Ви також можете обробляти кілька типів винятків в одному блоці"
   ]
  },
  {
   "cell_type": "markdown",
   "id": "037dbf32",
   "metadata": {},
   "source": [
    "У наведеному нижче прикладі зміна віку в п'ятому рядку змінить поведінку програми.\n",
    "Якщо вік можна перетворити на int, рядок 13 буде виконуватися.\n",
    "Якщо вік – це рядок, але його не можна перетворити на int, виникне помилка ValueError\n",
    "Якщо вік - це інший тип речей (словник, список тощо),\n",
    "      a TypeError виникне, оскільки їх не можна перетворити на список"
   ]
  },
  {
   "cell_type": "code",
   "execution_count": 25,
   "id": "3b8334e4",
   "metadata": {},
   "outputs": [
    {
     "name": "stdout",
     "output_type": "stream",
     "text": [
      "Invalid entry: ['100']; error: int() argument must be a string, a bytes-like object or a number, not 'list'\n"
     ]
    }
   ],
   "source": [
    "age = ['100']  # спробуйте зі 100, або з 'x100', або з ['100'], або з None, або з False, або з {'age': 100}\n",
    "try:\n",
    "    age = int(age)\n",
    "except (TypeError, ValueError) as err:\n",
    "    print(\"Invalid entry: {0}; error: {1}\".format(age, err))\n",
    "else:\n",
    "    print(\"Your age is: {0}\".format(age))"
   ]
  },
  {
   "cell_type": "code",
   "execution_count": null,
   "id": "673b640f",
   "metadata": {},
   "outputs": [],
   "source": []
  }
 ],
 "metadata": {
  "jupytext": {
   "cell_metadata_filter": "-all",
   "main_language": "python",
   "notebook_metadata_filter": "-all"
  },
  "kernelspec": {
   "display_name": "Python 3",
   "language": "python",
   "name": "python3"
  },
  "language_info": {
   "codemirror_mode": {
    "name": "ipython",
    "version": 3
   },
   "file_extension": ".py",
   "mimetype": "text/x-python",
   "name": "python",
   "nbconvert_exporter": "python",
   "pygments_lexer": "ipython3",
   "version": "3.8.10"
  }
 },
 "nbformat": 4,
 "nbformat_minor": 5
}
