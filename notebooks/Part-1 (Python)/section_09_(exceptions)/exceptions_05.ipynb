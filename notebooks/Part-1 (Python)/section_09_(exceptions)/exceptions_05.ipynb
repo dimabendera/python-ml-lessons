{
 "cells": [
  {
   "cell_type": "markdown",
   "id": "0d70c74d",
   "metadata": {},
   "source": [
    "Example #5: Обробка винятків для вкладення"
   ]
  },
  {
   "cell_type": "markdown",
   "id": "892e2f44",
   "metadata": {},
   "source": [
    "Обробка винятків працює так само, як і будь-який інший рівень відступу в Python"
   ]
  },
  {
   "cell_type": "code",
   "execution_count": null,
   "id": "d7c54dda",
   "metadata": {},
   "outputs": [],
   "source": [
    "user_input = input(\" Example #5: enter a number: \")"
   ]
  },
  {
   "cell_type": "code",
   "execution_count": null,
   "id": "d4aa02c6",
   "metadata": {},
   "outputs": [],
   "source": [
    "try:\n",
    "    user_input = int(user_input)\n",
    "except ValueError:\n",
    "    try:\n",
    "        print(\"User input was either a float or a string.\")\n",
    "        user_input = int(float(user_input))\n",
    "        print(\"Turns out it was a float! {0}\".format(user_input))\n",
    "    except ValueError:\n",
    "        print(\"Guess {0} was a string and not a number at all.\".format(user_input))"
   ]
  },
  {
   "cell_type": "code",
   "execution_count": null,
   "id": "957be3a3",
   "metadata": {},
   "outputs": [],
   "source": [
    "print(\"Now the code block above works pretty much the same as the following: \")"
   ]
  },
  {
   "cell_type": "code",
   "execution_count": null,
   "id": "2da36d59",
   "metadata": {},
   "outputs": [],
   "source": [
    "user_input = input(\" Example #5: enter a number: \")"
   ]
  },
  {
   "cell_type": "code",
   "execution_count": null,
   "id": "39cf2544",
   "metadata": {},
   "outputs": [],
   "source": [
    "try:\n",
    "    user_input = int(float(user_input))\n",
    "except ValueError:\n",
    "    print(\"Guess {0} was a string and not a number at all.\".format(user_input))"
   ]
  }
 ],
 "metadata": {
  "jupytext": {
   "cell_metadata_filter": "-all",
   "main_language": "python",
   "notebook_metadata_filter": "-all"
  }
 },
 "nbformat": 4,
 "nbformat_minor": 5
}
