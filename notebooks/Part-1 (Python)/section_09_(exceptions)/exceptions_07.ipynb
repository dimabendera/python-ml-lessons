{
 "cells": [
  {
   "cell_type": "markdown",
   "id": "d2559a48",
   "metadata": {},
   "source": [
    "Example #7: try-else"
   ]
  },
  {
   "cell_type": "markdown",
   "id": "9c66d9c8",
   "metadata": {},
   "source": [
    "Використовуйте блок else, приєднаний до блоку проби, якщо потрібно виконати код лише тоді, коли помилок не виникло."
   ]
  },
  {
   "cell_type": "code",
   "execution_count": null,
   "id": "708456ce",
   "metadata": {},
   "outputs": [],
   "source": [
    "user_input = input(\"Please enter a number: \")"
   ]
  },
  {
   "cell_type": "code",
   "execution_count": null,
   "id": "57c54c2f",
   "metadata": {},
   "outputs": [],
   "source": [
    "try:\n",
    "    user_input = int(float(user_input))\n",
    "except ValueError:\n",
    "    print(\"You didn't enter a number, did you?\")\n",
    "else:  # помилок не сталося\n",
    "    print(\"Hooray! We didn't encounter any errors!\")\n",
    "    print(\"Oh, by the way, your number was: {0}\".format(user_input))"
   ]
  }
 ],
 "metadata": {
  "jupytext": {
   "cell_metadata_filter": "-all",
   "main_language": "python",
   "notebook_metadata_filter": "-all"
  }
 },
 "nbformat": 4,
 "nbformat_minor": 5
}
