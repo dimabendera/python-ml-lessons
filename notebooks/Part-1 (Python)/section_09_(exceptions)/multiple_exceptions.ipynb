{
 "cells": [
  {
   "cell_type": "markdown",
   "id": "6712f169",
   "metadata": {},
   "source": [
    "Ви також можете обробляти кілька типів винятків в одному блоці"
   ]
  },
  {
   "cell_type": "markdown",
   "id": "4509ca9a",
   "metadata": {},
   "source": [
    "У наведеному нижче прикладі зміна віку в п'ятому рядку змінить поведінку програми.\n",
    "Якщо вік можна перетворити на int, рядок 13 буде виконуватися.\n",
    "Якщо вік – це рядок, але його не можна перетворити на int, виникне помилка ValueError\n",
    "Якщо вік - це інший тип речей (словник, список тощо),\n",
    "      a TypeError виникне, оскільки їх не можна перетворити на список"
   ]
  },
  {
   "cell_type": "code",
   "execution_count": null,
   "id": "e838d6ca",
   "metadata": {},
   "outputs": [],
   "source": [
    "age = ''  # спробуйте зі 100, або з 'x100', або з ['100'], або з None, або з False, або з {'age': 100}"
   ]
  },
  {
   "cell_type": "code",
   "execution_count": null,
   "id": "1cb3a7fa",
   "metadata": {},
   "outputs": [],
   "source": [
    "try:\n",
    "    age = int(age)\n",
    "except (TypeError, ValueError) as err:\n",
    "    print(\"Invalid entry: {0}; error: {1}\".format(age, err))\n",
    "else:\n",
    "    print(\"Your age is: {0}\".format(age))"
   ]
  }
 ],
 "metadata": {
  "finalized": {
   "timestamp": 1695404200128,
   "trusted": false
  },
  "jupytext": {
   "cell_metadata_filter": "-all",
   "main_language": "python",
   "notebook_metadata_filter": "-all"
  },
  "kernelspec": {
   "display_name": "Python 3",
   "language": "python",
   "name": "python3"
  },
  "language_info": {
   "codemirror_mode": {
    "name": "ipython",
    "version": 3
   },
   "file_extension": ".py",
   "mimetype": "text/x-python",
   "name": "python",
   "nbconvert_exporter": "python",
   "pygments_lexer": "ipython3",
   "version": "3.8.10"
  }
 },
 "nbformat": 4,
 "nbformat_minor": 5
}
