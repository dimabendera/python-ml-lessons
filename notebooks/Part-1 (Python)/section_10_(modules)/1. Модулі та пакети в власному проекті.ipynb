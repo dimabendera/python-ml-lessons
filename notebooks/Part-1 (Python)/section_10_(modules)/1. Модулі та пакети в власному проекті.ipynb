{
 "cells": [
  {
   "cell_type": "markdown",
   "id": "f512a518",
   "metadata": {},
   "source": [
    "# Модулі\n",
    "\n",
    "Модуль - це файл, що містить виконуваний код Python. Він може містити функції, класи та змінні, а також може виконувати певний код."
   ]
  },
  {
   "cell_type": "markdown",
   "id": "4b575869",
   "metadata": {},
   "source": [
    "Імпорт модулів:"
   ]
  },
  {
   "cell_type": "code",
   "execution_count": 1,
   "id": "42cf682a",
   "metadata": {},
   "outputs": [
    {
     "name": "stdout",
     "output_type": "stream",
     "text": [
      "4.0\n"
     ]
    }
   ],
   "source": [
    "import math\n",
    "print(math.sqrt(16))  # Виведе: 4.0"
   ]
  },
  {
   "cell_type": "markdown",
   "id": "5cda63d6",
   "metadata": {},
   "source": [
    "Також можна імпортувати певні функції або змінні з модуля:"
   ]
  },
  {
   "cell_type": "code",
   "execution_count": 2,
   "id": "1cd79729",
   "metadata": {},
   "outputs": [
    {
     "name": "stdout",
     "output_type": "stream",
     "text": [
      "4.0\n"
     ]
    }
   ],
   "source": [
    "from math import sqrt\n",
    "print(sqrt(16))  # Виведе: 4.0"
   ]
  },
  {
   "cell_type": "markdown",
   "id": "c5e34168",
   "metadata": {},
   "source": [
    "# Пакети"
   ]
  },
  {
   "cell_type": "markdown",
   "id": "fb03310c",
   "metadata": {},
   "source": [
    "Пакет - це спосіб організації пов'язаних модулів у єдину структуру. Пакети є просто каталогами, але з однією особливістю: вони містять файл `__init__.py` (може бути порожнім), який вказує на те, що цей каталог можна використовувати як пакет."
   ]
  },
  {
   "cell_type": "markdown",
   "id": "b65e83a8",
   "metadata": {},
   "source": [
    "Структура пакету може виглядати так:\n",
    "\n",
    "```\n",
    "mypackage/\n",
    "|-- __init__.py\n",
    "|-- module1.py\n",
    "|-- module2.py\n",
    "|-- subpackage/\n",
    "|   |-- __init__.py\n",
    "|   |-- submodule1.py\n",
    "```"
   ]
  },
  {
   "cell_type": "markdown",
   "id": "75d59f39",
   "metadata": {},
   "source": [
    "Імпорт з пакетів:"
   ]
  },
  {
   "cell_type": "code",
   "execution_count": 4,
   "id": "c8865371",
   "metadata": {},
   "outputs": [],
   "source": [
    "from mypackage import module1\n",
    "from mypackage.subpackage import submodule1"
   ]
  },
  {
   "cell_type": "markdown",
   "id": "3b79e744",
   "metadata": {},
   "source": [
    "# Створення модулів та пакетів"
   ]
  },
  {
   "cell_type": "markdown",
   "id": "70a0f304",
   "metadata": {},
   "source": [
    "Створення модуля: Просто створіть новий файл .py і напишіть в ньому код Python. Наприклад, mymodule.py."
   ]
  },
  {
   "cell_type": "markdown",
   "id": "3344892f",
   "metadata": {},
   "source": [
    "Створення пакету: Створіть новий каталог, а в ньому файл __init__.py. Додайте модулі (файли .py) в цей каталог."
   ]
  },
  {
   "cell_type": "markdown",
   "id": "fa50100c",
   "metadata": {},
   "source": [
    "# Використання"
   ]
  },
  {
   "cell_type": "markdown",
   "id": "a7875afe",
   "metadata": {},
   "source": [
    "Коли ви імпортуєте модуль або пакет, Python шукає його в декількох місцях:\n",
    "\n",
    "* В поточному каталозі.\n",
    "* У каталогах, вказаних у змінній оточення PYTHONPATH.\n",
    "* У стандартних бібліотеках.\n",
    "* У каталогах site-packages (де зберігаються сторонні пакети).\n",
    "* Для управління пакетами та модулями в Python часто використовують pip, який дозволяє встановлювати, оновлювати та видаляти пакети.\n",
    "\n",
    "Сподіваюся, ця інформація була корисною! Якщо у вас є ще питання, не соромтеся задавати."
   ]
  },
  {
   "cell_type": "code",
   "execution_count": null,
   "id": "fa304712",
   "metadata": {},
   "outputs": [],
   "source": []
  }
 ],
 "metadata": {
  "kernelspec": {
   "display_name": "Python 3",
   "language": "python",
   "name": "python3"
  },
  "language_info": {
   "codemirror_mode": {
    "name": "ipython",
    "version": 3
   },
   "file_extension": ".py",
   "mimetype": "text/x-python",
   "name": "python",
   "nbconvert_exporter": "python",
   "pygments_lexer": "ipython3",
   "version": "3.8.10"
  }
 },
 "nbformat": 4,
 "nbformat_minor": 5
}
