{
 "cells": [
  {
   "cell_type": "markdown",
   "id": "358ef879",
   "metadata": {},
   "source": [
    "Віртуальні середовища в Python - це інструмент, який дозволяє створювати ізольовані \"простори\" для проектів, де кожен проект може мати свої власні залежності, незалежно від інших проектів. Це особливо корисно, коли різні проекти вимагають різних версій пакетів."
   ]
  },
  {
   "cell_type": "markdown",
   "id": "ffea0028",
   "metadata": {},
   "source": [
    "### Чому віртуальні середовища важливі?"
   ]
  },
  {
   "cell_type": "markdown",
   "id": "3e0599ea",
   "metadata": {},
   "source": [
    "* Ізоляція залежностей: Кожен проект може мати свої власні залежності, які не конфліктують з іншими проектами.\n",
    "* Версії Python: Ви можете мати проекти, які працюють на різних версіях Python.\n",
    "* Охорона системи: Ви не змушені встановлювати пакети глобально, що може забруднити вашу систему або призвести до конфліктів."
   ]
  },
  {
   "cell_type": "markdown",
   "id": "004e2923",
   "metadata": {},
   "source": [
    "### Як працювати з віртуальними середовищами?"
   ]
  },
  {
   "cell_type": "markdown",
   "id": "b8cf2ece",
   "metadata": {},
   "source": [
    "#### Створення віртуального середовища:"
   ]
  },
  {
   "cell_type": "code",
   "execution_count": 2,
   "id": "19681d2a",
   "metadata": {},
   "outputs": [],
   "source": [
    "!python -m venv myenv"
   ]
  },
  {
   "cell_type": "markdown",
   "id": "290ae731",
   "metadata": {},
   "source": [
    "#### Активація віртуального середовища:"
   ]
  },
  {
   "cell_type": "markdown",
   "id": "f053e0fd",
   "metadata": {},
   "source": [
    "Linux/Mac:"
   ]
  },
  {
   "cell_type": "code",
   "execution_count": 3,
   "id": "e6ce3c98",
   "metadata": {},
   "outputs": [],
   "source": [
    "!source myenv/bin/activate"
   ]
  },
  {
   "cell_type": "markdown",
   "id": "64e5644a",
   "metadata": {},
   "source": [
    "Windows:"
   ]
  },
  {
   "cell_type": "code",
   "execution_count": null,
   "id": "41394470",
   "metadata": {},
   "outputs": [],
   "source": [
    "!myenv\\Scripts\\activate"
   ]
  },
  {
   "cell_type": "markdown",
   "id": "e751e068",
   "metadata": {},
   "source": [
    "#### Деактивація віртуального середовища:"
   ]
  },
  {
   "cell_type": "code",
   "execution_count": 6,
   "id": "59b5386d",
   "metadata": {},
   "outputs": [],
   "source": [
    "!deactivate"
   ]
  },
  {
   "cell_type": "markdown",
   "id": "19ca9f4e",
   "metadata": {},
   "source": [
    "#### Встановлення пакетів у віртуальне середовище:"
   ]
  },
  {
   "cell_type": "markdown",
   "id": "e1d55a8e",
   "metadata": {},
   "source": [
    "Після активації віртуального середовища, ви можете використовувати pip для встановлення пакетів, і вони будуть встановлені лише в межах цього середовища."
   ]
  },
  {
   "cell_type": "markdown",
   "id": "e4ec2f29",
   "metadata": {},
   "source": [
    "# pyenv"
   ]
  },
  {
   "cell_type": "markdown",
   "id": "28567b46",
   "metadata": {},
   "source": [
    "**pyenv** - це відмінний інструмент для керування декількома версіями Python. Він дозволяє вам встановлювати різні версії Python, встановлювати глобальні та локальні версії для проектів, а також створювати віртуальні середовища.\n",
    "\n",
    "Ось як використовувати pyenv для роботи з конкретною версією Python:\n",
    "\n",
    "Встановлення pyenv:\n",
    "Інструкції з встановлення можна знайти на офіційній сторінці pyenv. https://github.com/pyenv/pyenv#installation\n",
    "\n",
    "Встановлення конкретної версії Python:"
   ]
  },
  {
   "cell_type": "code",
   "execution_count": 9,
   "id": "111d6150",
   "metadata": {},
   "outputs": [],
   "source": [
    "!pyenv install 3.9.1"
   ]
  },
  {
   "cell_type": "markdown",
   "id": "4193107c",
   "metadata": {},
   "source": [
    "Перегляд встановлених версій Python:"
   ]
  },
  {
   "cell_type": "code",
   "execution_count": null,
   "id": "65349f19",
   "metadata": {},
   "outputs": [],
   "source": [
    "!pyenv versions"
   ]
  },
  {
   "cell_type": "markdown",
   "id": "7eb2285a",
   "metadata": {},
   "source": [
    "Встановлення глобальної версії Python:"
   ]
  },
  {
   "cell_type": "code",
   "execution_count": null,
   "id": "1f19f6c7",
   "metadata": {},
   "outputs": [],
   "source": [
    "# Ця команда встановить версію Python, яка буде використовуватися за замовчуванням у всій системі:\n",
    "!pyenv global 3.9.1"
   ]
  },
  {
   "cell_type": "markdown",
   "id": "a6e6cd9d",
   "metadata": {},
   "source": [
    "Встановлення локальної версії Python для конкретного каталогу:"
   ]
  },
  {
   "cell_type": "code",
   "execution_count": null,
   "id": "679c7cec",
   "metadata": {},
   "outputs": [],
   "source": [
    "# Ця команда створює файл .python-version у поточному каталозі, \n",
    "# який вказує на конкретну версію Python для цього каталогу та його підкаталогів:\n",
    "!pyenv local 3.8.6"
   ]
  },
  {
   "cell_type": "markdown",
   "id": "00d8307f",
   "metadata": {},
   "source": [
    "Створення віртуального середовища:\n",
    "\n",
    "Для цього вам потрібно спершу встановити плагін pyenv-virtualenv. Після його встановлення ви можете створювати віртуальні середовища:"
   ]
  },
  {
   "cell_type": "code",
   "execution_count": null,
   "id": "7a81d5f9",
   "metadata": {},
   "outputs": [],
   "source": [
    "!pyenv virtualenv 3.9.1 my_venv"
   ]
  },
  {
   "cell_type": "markdown",
   "id": "b7031ad6",
   "metadata": {},
   "source": [
    "Активація та деактивація віртуального середовища:"
   ]
  },
  {
   "cell_type": "code",
   "execution_count": null,
   "id": "01d2e7ac",
   "metadata": {},
   "outputs": [],
   "source": [
    "!pyenv activate my_venv\n",
    "!pyenv deactivate"
   ]
  },
  {
   "cell_type": "markdown",
   "id": "9f990ec1",
   "metadata": {},
   "source": [
    "Видалення версії Python:"
   ]
  },
  {
   "cell_type": "code",
   "execution_count": null,
   "id": "ca9ccd0c",
   "metadata": {},
   "outputs": [],
   "source": [
    "!pyenv uninstall 3.9.1"
   ]
  },
  {
   "cell_type": "markdown",
   "id": "1ebef7d6",
   "metadata": {},
   "source": [
    "Використовуючи pyenv, ви можете легко перемикатися між різними версіями Python та віртуальними середовищами, що робить розробку на Python гнучкою та ефективною."
   ]
  },
  {
   "cell_type": "markdown",
   "id": "927bd100",
   "metadata": {},
   "source": [
    "# conda\n",
    "\n",
    "conda - це відкритий система керування пакетами та система керування середовищами, яка була створена спеціально для наукових застосунків. Хоча conda часто асоціюється з Python, вона може використовуватися для керування пакетами будь-якої мови."
   ]
  },
  {
   "cell_type": "markdown",
   "id": "c4c05aeb",
   "metadata": {},
   "source": [
    "Ось деякі ключові особливості та переваги conda:\n",
    "* Мовно-незалежна: conda може встановлювати пакети не тільки для Python, але й для інших мов, таких як R, Ruby тощо.\n",
    "\n",
    "* Керування середовищами: Так само, як і virtualenv або pyenv для Python, conda дозволяє створювати ізольовані середовища, що містять різні версії пакетів та інтерпретаторів.\n",
    "\n",
    "* Бінарна сумісність: conda встановлює пакети з бінарних збірок, що може бути швидше, ніж компіляція вихідного коду, як це робить pip.\n",
    "\n",
    "* Широкий каталог пакетів: Anaconda, дистрибутив, який використовує conda, містить понад 1500 пакетів для наукових та аналітичних застосунків.\n",
    "\n",
    "* Взаємодія з pip: Ви можете використовувати pip всередині conda середовища, що дозволяє комбінувати переваги обох систем керування пакетами."
   ]
  },
  {
   "cell_type": "markdown",
   "id": "4848b292",
   "metadata": {},
   "source": [
    "### Основні команди conda:"
   ]
  },
  {
   "cell_type": "markdown",
   "id": "ac0e0c48",
   "metadata": {},
   "source": [
    "Створення нового середовища:"
   ]
  },
  {
   "cell_type": "code",
   "execution_count": null,
   "id": "68b40910",
   "metadata": {},
   "outputs": [],
   "source": [
    "!conda create --name myenv python=3.8"
   ]
  },
  {
   "cell_type": "markdown",
   "id": "3af89f68",
   "metadata": {},
   "source": [
    "Активація та деактивація середовищ:"
   ]
  },
  {
   "cell_type": "code",
   "execution_count": null,
   "id": "020822c0",
   "metadata": {},
   "outputs": [],
   "source": [
    "!conda activate myenv\n",
    "!conda deactivate"
   ]
  },
  {
   "cell_type": "markdown",
   "id": "4c32ce0e",
   "metadata": {},
   "source": [
    "Встановлення пакетів:"
   ]
  },
  {
   "cell_type": "code",
   "execution_count": null,
   "id": "c4a4fe78",
   "metadata": {},
   "outputs": [],
   "source": [
    "!conda install numpy pandas"
   ]
  },
  {
   "cell_type": "markdown",
   "id": "f289916a",
   "metadata": {},
   "source": [
    "Перегляд встановлених пакетів:"
   ]
  },
  {
   "cell_type": "code",
   "execution_count": null,
   "id": "d11cc41c",
   "metadata": {},
   "outputs": [],
   "source": [
    "!conda list"
   ]
  },
  {
   "cell_type": "markdown",
   "id": "e49096d7",
   "metadata": {},
   "source": [
    "Оновлення пакетів:"
   ]
  },
  {
   "cell_type": "code",
   "execution_count": null,
   "id": "6d7be5a8",
   "metadata": {},
   "outputs": [],
   "source": [
    "!conda update numpy"
   ]
  },
  {
   "cell_type": "markdown",
   "id": "2a74c6d1",
   "metadata": {},
   "source": [
    "Видалення пакетів:"
   ]
  },
  {
   "cell_type": "code",
   "execution_count": null,
   "id": "6c3e94e1",
   "metadata": {},
   "outputs": [],
   "source": [
    "!conda remove numpy"
   ]
  },
  {
   "cell_type": "markdown",
   "id": "c97afdae",
   "metadata": {},
   "source": [
    "Клонування середовища:"
   ]
  },
  {
   "cell_type": "code",
   "execution_count": null,
   "id": "1bdd5dd4",
   "metadata": {},
   "outputs": [],
   "source": [
    "!conda create --name clonedenv --clone myenv"
   ]
  },
  {
   "cell_type": "markdown",
   "id": "a788c590",
   "metadata": {},
   "source": [
    "Видалення середовища:"
   ]
  },
  {
   "cell_type": "code",
   "execution_count": null,
   "id": "4bd3b533",
   "metadata": {},
   "outputs": [],
   "source": [
    "!conda remove --name myenv --all"
   ]
  },
  {
   "cell_type": "code",
   "execution_count": null,
   "id": "e34fe8a6",
   "metadata": {},
   "outputs": [],
   "source": []
  }
 ],
 "metadata": {
  "kernelspec": {
   "display_name": "Python 3",
   "language": "python",
   "name": "python3"
  },
  "language_info": {
   "codemirror_mode": {
    "name": "ipython",
    "version": 3
   },
   "file_extension": ".py",
   "mimetype": "text/x-python",
   "name": "python",
   "nbconvert_exporter": "python",
   "pygments_lexer": "ipython3",
   "version": "3.8.10"
  }
 },
 "nbformat": 4,
 "nbformat_minor": 5
}
