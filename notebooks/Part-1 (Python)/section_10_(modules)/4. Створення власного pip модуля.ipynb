{
 "cells": [
  {
   "cell_type": "markdown",
   "id": "761c3ae1",
   "metadata": {},
   "source": [
    "Створення власного pip модуля (або пакету) в Python вимагає декількох кроків. Ось крок-за-кроком інструкція:"
   ]
  },
  {
   "cell_type": "markdown",
   "id": "4d1f2254",
   "metadata": {},
   "source": [
    "##  Підготовка вашого коду"
   ]
  },
  {
   "cell_type": "markdown",
   "id": "0013fb20",
   "metadata": {},
   "source": [
    "Створіть директорію для вашого проекту:"
   ]
  },
  {
   "cell_type": "code",
   "execution_count": 1,
   "id": "7af9c36a",
   "metadata": {},
   "outputs": [],
   "source": [
    "!mkdir my_package\n",
    "!cd my_package"
   ]
  },
  {
   "cell_type": "markdown",
   "id": "b1af3e79",
   "metadata": {},
   "source": [
    "У цій директорії створіть файл з вашим кодом, наприклад `my_module.py`."
   ]
  },
  {
   "cell_type": "markdown",
   "id": "7efefa18",
   "metadata": {},
   "source": [
    "## Додайте файл setup.py"
   ]
  },
  {
   "cell_type": "markdown",
   "id": "83fd4c4c",
   "metadata": {},
   "source": [
    "У кореневій директорії вашого проекту створіть файл setup.py, який містить інформацію про ваш пакет:"
   ]
  },
  {
   "cell_type": "markdown",
   "id": "b9798f4b",
   "metadata": {},
   "source": [
    "```\n",
    "from setuptools import setup, find_packages\n",
    "\n",
    "setup(\n",
    "    name=\"my_package\",\n",
    "    version=\"0.1\",\n",
    "    packages=find_packages(),\n",
    "    install_requires=[\n",
    "        # список залежностей вашого пакету, якщо вони є\n",
    "    ],\n",
    "    author=\"Your Name\",\n",
    "    author_email=\"your.email@example.com\",\n",
    "    description=\"A brief description of your package\",\n",
    "    long_description=\"A longer description of your package\",\n",
    "    url=\"https://github.com/your_username/my_package\",\n",
    ")\n",
    "```"
   ]
  },
  {
   "cell_type": "markdown",
   "id": "979fd2a7",
   "metadata": {},
   "source": [
    " ## Створення пакету"
   ]
  },
  {
   "cell_type": "markdown",
   "id": "9fba3670",
   "metadata": {},
   "source": [
    "Використовуйте `setuptools` для створення пакету:"
   ]
  },
  {
   "cell_type": "code",
   "execution_count": null,
   "id": "b6058d51",
   "metadata": {},
   "outputs": [],
   "source": [
    "!python setup.py sdist"
   ]
  },
  {
   "cell_type": "markdown",
   "id": "abe7355b",
   "metadata": {},
   "source": [
    "Це створить директорію dist із архівом вашого пакету."
   ]
  },
  {
   "cell_type": "markdown",
   "id": "932c3015",
   "metadata": {},
   "source": [
    "## Завантаження пакету на PyPI"
   ]
  },
  {
   "cell_type": "markdown",
   "id": "359c5a31",
   "metadata": {},
   "source": [
    "Встановіть `twine`, якщо у вас його ще немає:"
   ]
  },
  {
   "cell_type": "code",
   "execution_count": null,
   "id": "7dbb1ba2",
   "metadata": {},
   "outputs": [],
   "source": [
    "!pip install twine"
   ]
  },
  {
   "cell_type": "markdown",
   "id": "07b1a0cf",
   "metadata": {},
   "source": [
    "Зареєструйтеся на PyPI, якщо у вас ще немає облікового запису.\n",
    "https://pypi.org/"
   ]
  },
  {
   "cell_type": "markdown",
   "id": "fc99b84e",
   "metadata": {},
   "source": [
    "Використовуйте twine для завантаження вашого пакету:"
   ]
  },
  {
   "cell_type": "code",
   "execution_count": null,
   "id": "43ef3738",
   "metadata": {},
   "outputs": [],
   "source": [
    "!twine upload dist/*"
   ]
  },
  {
   "cell_type": "markdown",
   "id": "867cf718",
   "metadata": {},
   "source": [
    "Після цього ваш пакет буде доступний для встановлення через pip:"
   ]
  },
  {
   "cell_type": "code",
   "execution_count": null,
   "id": "8e7a8ce2",
   "metadata": {},
   "outputs": [],
   "source": [
    "!pip install my_package"
   ]
  },
  {
   "cell_type": "markdown",
   "id": "255d6ca4",
   "metadata": {},
   "source": [
    "## Оновлення вашого пакету"
   ]
  },
  {
   "cell_type": "markdown",
   "id": "5d6b3756",
   "metadata": {},
   "source": [
    "Якщо ви робите зміни в своєму пакеті і хочете випустити нову версію, просто змініть версію в `setup.py`, створіть новий пакет за допомогою python `setup.py sdist` і завантажте його на `PyPI` за допомогою `twine`."
   ]
  },
  {
   "cell_type": "markdown",
   "id": "b43dc21f",
   "metadata": {},
   "source": [
    "## Примітка:\n",
    "Переконайтеся, що ваш пакет має унікальне ім'я на PyPI, інакше ви не зможете завантажити його."
   ]
  },
  {
   "cell_type": "markdown",
   "id": "2f95218c",
   "metadata": {},
   "source": [
    "## Приклад: \n",
    "https://github.com/ria-com/modelhub-client"
   ]
  },
  {
   "cell_type": "code",
   "execution_count": null,
   "id": "73ac984a",
   "metadata": {},
   "outputs": [],
   "source": []
  }
 ],
 "metadata": {
  "kernelspec": {
   "display_name": "Python 3",
   "language": "python",
   "name": "python3"
  },
  "language_info": {
   "codemirror_mode": {
    "name": "ipython",
    "version": 3
   },
   "file_extension": ".py",
   "mimetype": "text/x-python",
   "name": "python",
   "nbconvert_exporter": "python",
   "pygments_lexer": "ipython3",
   "version": "3.8.10"
  }
 },
 "nbformat": 4,
 "nbformat_minor": 5
}
