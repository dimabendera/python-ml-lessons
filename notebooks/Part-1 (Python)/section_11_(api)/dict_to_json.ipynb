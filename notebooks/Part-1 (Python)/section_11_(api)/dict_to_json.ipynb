{
 "cells": [
  {
   "cell_type": "markdown",
   "id": "15af04c8",
   "metadata": {},
   "source": [
    "Перетворення словників (а також списків, рядків тощо) у JSON"
   ]
  },
  {
   "cell_type": "code",
   "execution_count": null,
   "id": "f0785422",
   "metadata": {},
   "outputs": [],
   "source": [
    "# Для початку використовуйте вбудовану бібліотеку json.  Вам не потрібно встановлювати це, він поставляється з python.\n",
    "import json"
   ]
  },
  {
   "cell_type": "code",
   "execution_count": null,
   "id": "e72186a7",
   "metadata": {},
   "outputs": [],
   "source": [
    "# Далі створіть свій словник.\n",
    "contacts = [\n",
    "    {\n",
    "        'friends': [\n",
    "            {'Shannon': {'phone': '202-555-1234', 'twitter': '@svt827', 'github': '@shannonturner'}},\n",
    "            {'Amy': {'phone': '410-515-3000', 'fax': '410-555-3001', 'email': 'amy@amy.org'}},\n",
    "            {'Jen': {'phone': '301-600-5555', 'email': 'jen@jen.biz'}},\n",
    "            {'Julie': {'phone': '202-333-9876'}},\n",
    "        ],\n",
    "        'enemies': []\n",
    "    }\n",
    "]"
   ]
  },
  {
   "cell_type": "markdown",
   "id": "73070ae6",
   "metadata": {},
   "source": [
    "Контакти - це список, який містить словник з двома ключами: друзями і ворогами\n",
    "      Друзі - це список, який містить чотири словники\n",
    "          Shannon це один словник, і вона має словник для всіх способів зв'язку з нею\n",
    "          Amy це ще один словник, і у неї є словник для всіх способів зв'язку з нею\n",
    "          Jen це ще один словник, і у неї є словник для всіх способів зв'язку з нею\n",
    "          Julie це ще один словник, і у неї є словник для всіх способів зв'язку з нею\n",
    "      Вороги - це порожній список"
   ]
  },
  {
   "cell_type": "code",
   "execution_count": null,
   "id": "295b06ff",
   "metadata": {},
   "outputs": [],
   "source": [
    "# json.dumps() використовується для скидання інформації,\n",
    "# що зберігається у вигляді словників, списків і рядків, у формат JSON\n",
    "print(json.dumps(contacts, indent=4, sort_keys=True))\n",
    "# indent=4 буде відступати кожен рівень як стільки пробілів (4), що виглядає набагато приємніше, ніж не робити цього.\n",
    "# sort_keys=True відсортує ключі в словнику на основі їх назви"
   ]
  },
  {
   "cell_type": "code",
   "execution_count": null,
   "id": "6f7e535f",
   "metadata": {},
   "outputs": [],
   "source": [
    "# Ви можете не побачити відступ, якщо друкуєте на терміналі;\n",
    "# Можливо, вам доведеться записати вихідні дані у файл, щоб побачити його.\n",
    "with open('contacts.json', 'w') as json_contacts:\n",
    "    json_contacts.write(json.dumps(contacts, indent=4, sort_keys=True))"
   ]
  }
 ],
 "metadata": {
  "jupytext": {
   "cell_metadata_filter": "-all",
   "main_language": "python",
   "notebook_metadata_filter": "-all"
  }
 },
 "nbformat": 4,
 "nbformat_minor": 5
}
