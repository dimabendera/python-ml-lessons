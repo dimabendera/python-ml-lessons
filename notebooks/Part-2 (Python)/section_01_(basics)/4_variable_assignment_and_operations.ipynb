{
 "cells": [
  {
   "cell_type": "markdown",
   "id": "0f2f49d9",
   "metadata": {},
   "source": [
    "# Присвоєння змінної"
   ]
  },
  {
   "cell_type": "markdown",
   "id": "500502cb",
   "metadata": {},
   "source": [
    "У Python (або будь-якій мові програмування) змінні містять інформацію,\n",
    "до якої ви можете отримати доступ, використовувати та змінювати"
   ]
  },
  {
   "cell_type": "markdown",
   "id": "23b24c0b",
   "metadata": {},
   "source": [
    "У Python існує багато різних типів інформації, яку можна зберігати"
   ]
  },
  {
   "cell_type": "markdown",
   "id": "13885371",
   "metadata": {
    "lines_to_next_cell": 2
   },
   "source": [
    "У деяких мовах ви завчасно вказуете, який тип інформації ви хочете зберігати,\n",
    "або навіть назву змінної, ще до того, як ви присвоете їй значення.\n",
    "Мені подобається Python, тому що він гнучкий і щадливий."
   ]
  },
  {
   "cell_type": "markdown",
   "id": "9ddeb64e",
   "metadata": {},
   "source": [
    "Правила імен змінних\n",
    "-----------------------\n",
    "Змінні повинні починатися з букви або підкреслення\n",
    "Змінні можуть містити літери, цифри та підкреслення, але не пробіли\n",
    "Змінні не можуть бути названі так само, як вбудовані команди Python"
   ]
  },
  {
   "cell_type": "markdown",
   "id": "5e532f3d",
   "metadata": {},
   "source": [
    "Якщо ви бачите саме по собі слово, яке не зарезервовано для Python, швидше за все, це змінна."
   ]
  },
  {
   "cell_type": "code",
   "execution_count": 3,
   "id": "8dc58dcf",
   "metadata": {},
   "outputs": [
    {
     "data": {
      "text/plain": [
       "'dsedf'"
      ]
     },
     "execution_count": 3,
     "metadata": {},
     "output_type": "execute_result"
    }
   ],
   "source": [
    "lesson_section = \"dsedf\"\n",
    "lesson_section"
   ]
  },
  {
   "cell_type": "code",
   "execution_count": 2,
   "id": "e089bd0c",
   "metadata": {},
   "outputs": [],
   "source": [
    "lesson_section = 1  # Загальні основи програмування\n",
    "lesson_subsection = 2  # Призначення змінної"
   ]
  },
  {
   "cell_type": "code",
   "execution_count": 5,
   "id": "7d065d1f",
   "metadata": {},
   "outputs": [
    {
     "data": {
      "text/plain": [
       "1"
      ]
     },
     "execution_count": 5,
     "metadata": {},
     "output_type": "execute_result"
    }
   ],
   "source": [
    "lesson_section"
   ]
  },
  {
   "cell_type": "markdown",
   "id": "2fb58145",
   "metadata": {},
   "source": [
    "У рядку вище я кажу Python, що хочу створити змінну під назвою 'lesson_section' і встановити її значення 1"
   ]
  },
  {
   "cell_type": "code",
   "execution_count": 6,
   "id": "99196161",
   "metadata": {},
   "outputs": [],
   "source": [
    "print = 3"
   ]
  },
  {
   "cell_type": "code",
   "execution_count": 7,
   "id": "fb08c4e3",
   "metadata": {},
   "outputs": [
    {
     "ename": "TypeError",
     "evalue": "'int' object is not callable",
     "output_type": "error",
     "traceback": [
      "\u001b[0;31m---------------------------------------------------------------------------\u001b[0m",
      "\u001b[0;31mTypeError\u001b[0m                                 Traceback (most recent call last)",
      "\u001b[0;32m<ipython-input-7-0abbe5be8a91>\u001b[0m in \u001b[0;36m<module>\u001b[0;34m\u001b[0m\n\u001b[0;32m----> 1\u001b[0;31m \u001b[0mprint\u001b[0m\u001b[0;34m(\u001b[0m\u001b[0;34m\"Хочу щось вивести\"\u001b[0m\u001b[0;34m)\u001b[0m \u001b[0;31m# не робити так\u001b[0m\u001b[0;34m\u001b[0m\u001b[0;34m\u001b[0m\u001b[0m\n\u001b[0m",
      "\u001b[0;31mTypeError\u001b[0m: 'int' object is not callable"
     ]
    }
   ],
   "source": [
    "print(\"Хочу щось вивести\") # не робити так"
   ]
  },
  {
   "cell_type": "markdown",
   "id": "91496053",
   "metadata": {},
   "source": [
    "Правила Шеннона імен змінних\n",
    "---------------------------------\n",
    "Змінні повинні бути описовими, навіть якщо це означає, що їх імена довгі\n",
    "Ви повинні мати можливість показати свій код будь-кому, і вони точно знатимуть, яку інформацію містить дана змінна\n",
    "Використовуйте підкреслення, щоб розбити слова!"
   ]
  },
  {
   "cell_type": "markdown",
   "id": "bd6d8331",
   "metadata": {},
   "source": [
    "Ми зберегли значення всередині lesson_section і lesson_subsection, тому тепер давайте використовувати їх!"
   ]
  },
  {
   "cell_type": "code",
   "execution_count": 3,
   "id": "d85ce5c0",
   "metadata": {},
   "outputs": [
    {
     "name": "stdout",
     "output_type": "stream",
     "text": [
      "Ми знаходимося на секції # 1\n",
      "І це підсекція # 2 , який охоплює призначення змінної\n"
     ]
    }
   ],
   "source": [
    "print(\"Ми знаходимося на секції #\", lesson_section)\n",
    "print(\"І це підсекція #\", lesson_subsection, \", який охоплює призначення змінної\")"
   ]
  },
  {
   "cell_type": "code",
   "execution_count": 4,
   "id": "018538ea",
   "metadata": {},
   "outputs": [
    {
     "name": "stdout",
     "output_type": "stream",
     "text": [
      "Погляньте ще раз на код базових математичних операцій.\n",
      "Скрізь, де ви бачите число в цьому коді, ви можете замінити його змінною, яка містить число.\n"
     ]
    }
   ],
   "source": [
    "print(\"Погляньте ще раз на код базових математичних операцій.\")\n",
    "print(\"Скрізь, де ви бачите число в цьому коді, ви можете замінити його змінною, яка містить число.\")"
   ]
  },
  {
   "cell_type": "code",
   "execution_count": 5,
   "id": "9a0a2fd2",
   "metadata": {},
   "outputs": [],
   "source": [
    "# Давайте подивимося це на практиці:\n",
    "days_in_a_year = 365  # Красиво описові назви змінних - це власні коментарі\n",
    "my_age = 15  # Так, вірно!"
   ]
  },
  {
   "cell_type": "code",
   "execution_count": 6,
   "id": "6924160b",
   "metadata": {},
   "outputs": [
    {
     "name": "stdout",
     "output_type": "stream",
     "text": [
      "Мій вік  15 , і я живу  5475  днів.\n"
     ]
    }
   ],
   "source": [
    "print(\"Мій вік \", my_age, \", і я живу \", days_in_a_year * my_age, \" днів.\")"
   ]
  },
  {
   "cell_type": "code",
   "execution_count": 7,
   "id": "16fdf61b",
   "metadata": {},
   "outputs": [],
   "source": [
    "#days_in_a_year = days_in_a_year + .25"
   ]
  },
  {
   "cell_type": "code",
   "execution_count": 12,
   "id": "44297854",
   "metadata": {},
   "outputs": [],
   "source": [
    "days_in_a_year += .25"
   ]
  },
  {
   "cell_type": "code",
   "execution_count": 9,
   "id": "c2827dc9",
   "metadata": {},
   "outputs": [],
   "source": [
    "i = 0\n",
    "i += 1\n",
    "i += 1"
   ]
  },
  {
   "cell_type": "code",
   "execution_count": 10,
   "id": "ecad39dc",
   "metadata": {},
   "outputs": [
    {
     "data": {
      "text/plain": [
       "2"
      ]
     },
     "execution_count": 10,
     "metadata": {},
     "output_type": "execute_result"
    }
   ],
   "source": [
    "i"
   ]
  },
  {
   "cell_type": "code",
   "execution_count": 13,
   "id": "241b2450",
   "metadata": {},
   "outputs": [
    {
     "data": {
      "text/plain": [
       "365.25"
      ]
     },
     "execution_count": 13,
     "metadata": {},
     "output_type": "execute_result"
    }
   ],
   "source": [
    "days_in_a_year"
   ]
  },
  {
   "cell_type": "markdown",
   "id": "1825ac43",
   "metadata": {},
   "source": [
    "Тепер давайте змінимо значення, що зберігається в days_in_a_year, щоб врахувати високосні роки, і спробуємо ще раз."
   ]
  },
  {
   "cell_type": "code",
   "execution_count": 14,
   "id": "e8418924",
   "metadata": {},
   "outputs": [],
   "source": [
    "#days_in_a_year = days_in_a_year + .25  # Еквівалент days_in_a_year = 365 + .25"
   ]
  },
  {
   "cell_type": "code",
   "execution_count": 15,
   "id": "55513248",
   "metadata": {},
   "outputs": [
    {
     "name": "stdout",
     "output_type": "stream",
     "text": [
      "Мій вік  15 , і я живу  5478.75  днів, не додати не відняти.\n"
     ]
    }
   ],
   "source": [
    "print(\"Мій вік \", my_age, \", і я живу \", days_in_a_year * my_age, \" днів, не додати не відняти.\")"
   ]
  },
  {
   "cell_type": "code",
   "execution_count": 11,
   "id": "e0c6d6ed",
   "metadata": {},
   "outputs": [],
   "source": [
    "# snake case\n",
    "number_of_donuts = 34\n",
    "\n",
    "fave_phrase = \"Hello World\""
   ]
  },
  {
   "cell_type": "code",
   "execution_count": 16,
   "id": "d8aaf423",
   "metadata": {},
   "outputs": [],
   "source": [
    "NUMBER_OF_DONUTS = 34\n",
    "\n",
    "FAVE_PHRASE = \"Hello World\""
   ]
  },
  {
   "cell_type": "code",
   "execution_count": 18,
   "id": "5a2c39f1",
   "metadata": {},
   "outputs": [],
   "source": [
    "# # kebab case\n",
    "# number-of-donuts = 34\n",
    "\n",
    "# fave-phrase = \"Hello World\""
   ]
  },
  {
   "cell_type": "code",
   "execution_count": 19,
   "id": "5fe07d74",
   "metadata": {},
   "outputs": [],
   "source": [
    "# camel case\n",
    "numberOfDonuts = 34\n",
    "\n",
    "favePhrase = \"Hello World\""
   ]
  },
  {
   "cell_type": "code",
   "execution_count": 20,
   "id": "540f2187",
   "metadata": {},
   "outputs": [],
   "source": [
    "# pascal case\n",
    "NumberOfDonuts = 34\n",
    "\n",
    "FavePhrase = \"Hello World\""
   ]
  },
  {
   "cell_type": "code",
   "execution_count": null,
   "id": "35f75228",
   "metadata": {},
   "outputs": [],
   "source": []
  },
  {
   "cell_type": "code",
   "execution_count": 22,
   "id": "5f469bc5",
   "metadata": {},
   "outputs": [],
   "source": [
    "x, y = 5, 2"
   ]
  },
  {
   "cell_type": "code",
   "execution_count": 23,
   "id": "05bc0049",
   "metadata": {},
   "outputs": [
    {
     "name": "stdout",
     "output_type": "stream",
     "text": [
      "Сума 7\n",
      "Віднімання 3\n",
      "добуток 3\n",
      "Ступінь 25\n",
      "Корінь 2.23606797749979\n",
      "Поділ 2.5\n",
      "Поділ націло 2\n",
      "Залишок від ділення 1\n"
     ]
    }
   ],
   "source": [
    "print('Сума', x + y)\n",
    "print('Віднімання', x - y)\n",
    "print('добуток', x - y)\n",
    "print('Ступінь', x ** y)\n",
    "print('Корінь', x ** 0.5)\n",
    "print('Поділ', x / y)\n",
    "print('Поділ націло', x // y)\n",
    "print('Залишок від ділення', x % y)"
   ]
  },
  {
   "cell_type": "code",
   "execution_count": 28,
   "id": "6513e1ca",
   "metadata": {},
   "outputs": [
    {
     "name": "stdout",
     "output_type": "stream",
     "text": [
      "1 у двійковій системі 0b1\n",
      "2 у двійковій системі 0b10\n",
      "and 001 & 010: 0\n",
      "or 001 | 010: 3\n",
      "xor 001 ^ 010 = (0 != 0, 0 != 1, 1 != 0): 3\n",
      "побітове зрушення 010 -> 001: 1\n",
      "побітове зрушення 010 -> 100: 4\n"
     ]
    }
   ],
   "source": [
    "# 0  -  000\n",
    "# 1  -  001\n",
    "# 2  -  010\n",
    "# 3  -  011\n",
    "# 4  -  100\n",
    "\n",
    "# бітові операції\n",
    "x, y = 1, 2\n",
    "print(x, \"у двійковій системі\", bin(x))\n",
    "print(y, \"у двійковій системі\", bin(y))\n",
    "\n",
    "print(f'and 001 & 010: {x & y}', \n",
    "      f'or 001 | 010: {x | y}', \n",
    "      f'xor 001 ^ 010 = (0 != 0, 0 != 1, 1 != 0): {x ^ y}',\n",
    "      f'побітове зрушення 010 -> 001: {y >> 1}',\n",
    "      f'побітове зрушення 010 -> 100: {y << 1}',\n",
    "      sep='\\n')"
   ]
  },
  {
   "cell_type": "code",
   "execution_count": 34,
   "id": "5d345c70",
   "metadata": {},
   "outputs": [
    {
     "name": "stdout",
     "output_type": "stream",
     "text": [
      "and: False\n",
      "or: True\n",
      "not: False\n",
      "xor: True\n"
     ]
    }
   ],
   "source": [
    "# bool-евий операції\n",
    "x, y = True, False\n",
    "print(f'and: {x and y}',\n",
    "      f'or: {x or y}', \n",
    "      f'not: {not x}',\n",
    "      f'xor: {x ^ y}',\n",
    "      sep='\\n')"
   ]
  },
  {
   "cell_type": "code",
   "execution_count": 46,
   "id": "9ee2975a",
   "metadata": {},
   "outputs": [
    {
     "name": "stdout",
     "output_type": "stream",
     "text": [
      "Less than 1\n"
     ]
    }
   ],
   "source": [
    "# Умовний оператор\n",
    "x = 0\n",
    "if x > 1:\n",
    "    print('Greater than 1')\n",
    "elif x == 1:\n",
    "    print('Equal to 1')\n",
    "else:\n",
    "    print('Less than 1')"
   ]
  },
  {
   "cell_type": "code",
   "execution_count": 37,
   "id": "82233f7d",
   "metadata": {},
   "outputs": [
    {
     "name": "stdout",
     "output_type": "stream",
     "text": [
      "0\n"
     ]
    }
   ],
   "source": [
    "x = -1\n",
    "if x == 1:\n",
    "    t = 2\n",
    "else:\n",
    "    t = 0\n",
    "print(t)"
   ]
  },
  {
   "cell_type": "code",
   "execution_count": 49,
   "id": "d01da376",
   "metadata": {},
   "outputs": [
    {
     "data": {
      "text/plain": [
       "2"
      ]
     },
     "execution_count": 49,
     "metadata": {},
     "output_type": "execute_result"
    }
   ],
   "source": [
    "# \"тернарный оператор\"\n",
    "x = 1\n",
    "t = 2 if x == 1 else 0\n",
    "t"
   ]
  },
  {
   "cell_type": "markdown",
   "id": "1b7f7b15",
   "metadata": {},
   "source": [
    "is / is not\n",
    "\n",
    "\n",
    "В Python, is і is not це оператори ідентичності. Вони використовуються для перевірки ідентичності об'єктів, а не їх рівності.\n",
    "\n",
    "is: Повертає True, якщо два об'єкти вказують на одну і ту ж пам'ять (тобто це один і той же об'єкт).\n",
    "\n",
    "is not: Повертає True, якщо два об'єкти НЕ вказують на одну і ту ж пам'ять."
   ]
  },
  {
   "cell_type": "code",
   "execution_count": 51,
   "id": "b020c08c",
   "metadata": {},
   "outputs": [
    {
     "data": {
      "text/plain": [
       "True"
      ]
     },
     "execution_count": 51,
     "metadata": {},
     "output_type": "execute_result"
    }
   ],
   "source": [
    "a = 2\n",
    "b = 2\n",
    "\n",
    "a is b"
   ]
  },
  {
   "cell_type": "code",
   "execution_count": 50,
   "id": "3a8fedc1",
   "metadata": {},
   "outputs": [
    {
     "name": "stdout",
     "output_type": "stream",
     "text": [
      "True\n",
      "False\n"
     ]
    }
   ],
   "source": [
    "a = 2390494\n",
    "b = 2390494\n",
    "\n",
    "print(a == b)\n",
    "print(a is b)"
   ]
  },
  {
   "cell_type": "code",
   "execution_count": 31,
   "id": "2b48b231",
   "metadata": {},
   "outputs": [
    {
     "data": {
      "text/plain": [
       "True"
      ]
     },
     "execution_count": 31,
     "metadata": {},
     "output_type": "execute_result"
    }
   ],
   "source": [
    "a = \"asad\"*20\n",
    "b = \"asad\"*20\n",
    "\n",
    "a is b"
   ]
  },
  {
   "cell_type": "markdown",
   "id": "b91f6c01",
   "metadata": {},
   "source": [
    "У Python, невеликі цілі числа (і деякі інші неізмінні типи даних) часто \"кешуються\" з метою оптимізації. Це означає, що для деякого діапазону чисел, Python буде використовувати одну і ту ж область пам'яті для кожного числа в цьому діапазоні.\n",
    "\n",
    "У випадку цілих чисел, інтерпретатор Python часто кешує числа від -5 до 256. Це означає, що кожне число в цьому діапазоні фактично є одним і тим же об'єктом в пам'яті для всього часу роботи програми."
   ]
  },
  {
   "cell_type": "markdown",
   "id": "1f2f0b4d",
   "metadata": {},
   "source": [
    "Важливо розуміти різницю між is (ідентичність) та == (рівність):\n",
    "\n",
    "* == перевіряє, чи рівні значення двох об'єктів.\n",
    "* is перевіряє, чи є два об'єкта одним і тим же об'єктом в пам'яті.\n",
    "\n",
    "У нижчезазначеному прикладі a == c поверне True, оскільки вони мають однакове значення, але a is c поверне False, оскільки вони є різними об'єктами в пам'яті."
   ]
  },
  {
   "cell_type": "code",
   "execution_count": 32,
   "id": "4795b6ac",
   "metadata": {},
   "outputs": [
    {
     "name": "stdout",
     "output_type": "stream",
     "text": [
      "True\n",
      "False\n",
      "True\n"
     ]
    }
   ],
   "source": [
    "a = [1, 2, 3]\n",
    "b = a\n",
    "c = [1, 2, 3]\n",
    "\n",
    "print(a is b)      # True, тому що b є посиланням на той же об'єкт, що і a\n",
    "print(a is c)      # False, навіть якщо списки однакові, але c - це окремий об'єкт в пам'яті\n",
    "\n",
    "print(a is not c)  # True, оскільки a і c - це різні об'єкти"
   ]
  },
  {
   "cell_type": "markdown",
   "id": "5cf63a6f",
   "metadata": {},
   "source": [
    "### Завдання для перевірки"
   ]
  },
  {
   "cell_type": "markdown",
   "id": "fa1906c3",
   "metadata": {},
   "source": [
    "1. Прочитати два числа a i b за допомогою команди input.\n",
    "   І виконатати над ними операції + - / * і вивести результат.\n",
    "2. Перевірити чи b дорівнює 0, якщо дорівнюю не виконувати операцію ділення\n",
    "   А просто вивести \"На 0 ділити не можна\", інакше виконати операцію ділення"
   ]
  },
  {
   "cell_type": "code",
   "execution_count": null,
   "id": "a2a806eb",
   "metadata": {},
   "outputs": [],
   "source": []
  }
 ],
 "metadata": {
  "jupytext": {
   "cell_metadata_filter": "-all",
   "main_language": "python",
   "notebook_metadata_filter": "-all"
  },
  "kernelspec": {
   "display_name": "Python 3",
   "language": "python",
   "name": "python3"
  },
  "language_info": {
   "codemirror_mode": {
    "name": "ipython",
    "version": 3
   },
   "file_extension": ".py",
   "mimetype": "text/x-python",
   "name": "python",
   "nbconvert_exporter": "python",
   "pygments_lexer": "ipython3",
   "version": "3.8.10"
  }
 },
 "nbformat": 4,
 "nbformat_minor": 5
}
