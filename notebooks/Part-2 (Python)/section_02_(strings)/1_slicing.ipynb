{
 "cells": [
  {
   "cell_type": "markdown",
   "id": "fd117965",
   "metadata": {
    "lines_to_next_cell": 2
   },
   "source": [
    "Приклади slice\n",
    "Slicing дозволяє нам бачити один шматок або «фрагмент» елемента, як один символ (або набір символів) у рядку"
   ]
  },
  {
   "cell_type": "code",
   "execution_count": 2,
   "id": "bf790a45",
   "metadata": {
    "lines_to_next_cell": 2
   },
   "outputs": [],
   "source": [
    "# Почнемо зі створення змінної з назвою github_handle; він буде містити рядок з моїм маркером GitHub\n",
    "github_handle = '@dimabendera'"
   ]
  },
  {
   "cell_type": "code",
   "execution_count": 14,
   "id": "7444f331",
   "metadata": {},
   "outputs": [
    {
     "data": {
      "text/plain": [
       "'m'"
      ]
     },
     "execution_count": 14,
     "metadata": {},
     "output_type": "execute_result"
    }
   ],
   "source": [
    "github_handle[3]"
   ]
  },
  {
   "cell_type": "code",
   "execution_count": 15,
   "id": "68341a93",
   "metadata": {
    "lines_to_next_cell": 2
   },
   "outputs": [
    {
     "name": "stdout",
     "output_type": "stream",
     "text": [
      "My github handle is  @dimabendera\n"
     ]
    }
   ],
   "source": [
    "# За допомогою коми можна відокремити різні елементи, які потрібно надрукувати, як показано нижче\n",
    "print(\"My github handle is \", github_handle)"
   ]
  },
  {
   "cell_type": "code",
   "execution_count": 19,
   "id": "93184803",
   "metadata": {
    "lines_to_next_cell": 2
   },
   "outputs": [
    {
     "name": "stdout",
     "output_type": "stream",
     "text": [
      "My first name is  dima\n"
     ]
    }
   ],
   "source": [
    "# Це наш перший приклад slice.\n",
    "# Зверніть увагу на квадратні дужки, прикріплені безпосередньо до імені змінної без пробілів між ними.\n",
    "# Два числа посередині, розділені двокрапкою, називаються індексами slice\n",
    "print(\"My first name is \", github_handle[1:5])"
   ]
  },
  {
   "cell_type": "markdown",
   "id": "25e87701",
   "metadata": {},
   "source": [
    "Ось як можна візуалізувати наведену вище інструкцію\n",
    "```\n",
    "      @dimabendera\n",
    "      01234567....\n",
    "```"
   ]
  },
  {
   "cell_type": "markdown",
   "id": "0c4e9d11",
   "metadata": {},
   "source": [
    "Примітка: Python починає відлік з нуля, а останні кілька букв (d, e, r, a) прив'язані до 8, 9, 10, 11"
   ]
  },
  {
   "cell_type": "markdown",
   "id": "3713b731",
   "metadata": {},
   "source": [
    "Всі індекси виглядабть так:"
   ]
  },
  {
   "cell_type": "markdown",
   "id": "47ed8361",
   "metadata": {
    "lines_to_next_cell": 2
   },
   "source": [
    "-      0\t\t@\n",
    "-      1\t\td\n",
    "-      2\t\ti\n",
    "-      3\t\tm\n",
    "-      4\t\ta\n",
    "-      5\t\tb\n",
    "-      6\t\te\n",
    "-      7\t\tn\n",
    "-      8\t\td\n",
    "-      9\t\te\n",
    "-      10\t\tr\n",
    "-      11\t\ta"
   ]
  },
  {
   "cell_type": "markdown",
   "id": "3dc7241b",
   "metadata": {
    "lines_to_next_cell": 2
   },
   "source": [
    "Отже, у прикладі github_handle[1:5] зверніть увагу, що b (на фрагменті #5) не включено, але d (на фрагменті #1) є.\n",
    "Це тому, що значення першого фрагмента є інклюзивним, але значення другого фрагмента є ексклюзивним."
   ]
  },
  {
   "cell_type": "code",
   "execution_count": 23,
   "id": "716365a8",
   "metadata": {},
   "outputs": [
    {
     "name": "stdout",
     "output_type": "stream",
     "text": [
      "My last name is  bendera\n"
     ]
    }
   ],
   "source": [
    "print(\"My last name is \", github_handle[5:12])"
   ]
  },
  {
   "cell_type": "markdown",
   "id": "8b87b6b6",
   "metadata": {},
   "source": [
    "Зверніть увагу, що індексу 12 немає.\n",
    "Якщо другий індекс вищий за існуючий, Python вважатиме, що ви маєте на увазі \"до самого кінця\""
   ]
  },
  {
   "cell_type": "code",
   "execution_count": 24,
   "id": "3082512f",
   "metadata": {},
   "outputs": [
    {
     "name": "stdout",
     "output_type": "stream",
     "text": [
      "My last name is  bendera\n"
     ]
    }
   ],
   "source": [
    "# Другий індекс можна опустити; Python розуміє це як «йти до кінця»\n",
    "print(\"My last name is \", github_handle[5:])"
   ]
  },
  {
   "cell_type": "code",
   "execution_count": 31,
   "id": "4b69d1d1",
   "metadata": {},
   "outputs": [
    {
     "name": "stdout",
     "output_type": "stream",
     "text": [
      "My twitter handle is NOT  @dima\n"
     ]
    }
   ],
   "source": [
    "# І якщо ви опустите перший індекс, Python розуміє це як \"почати з початку\"\n",
    "print(\"My twitter handle is NOT \", github_handle[:5])"
   ]
  },
  {
   "cell_type": "markdown",
   "id": "4e0f4ec9",
   "metadata": {},
   "source": [
    "Що станеться, якщо використовувати від'ємний індекс розрізання?"
   ]
  },
  {
   "cell_type": "markdown",
   "id": "0f76bb0d",
   "metadata": {},
   "source": [
    "Від'ємні індекси фрагментів можна використовувати для зворотного відліку від кінця, наприклад:"
   ]
  },
  {
   "cell_type": "markdown",
   "id": "d02e2b95",
   "metadata": {},
   "source": [
    "-       -12\t\t@\n",
    "-       -11\t\td\n",
    "-       -10\t\ti\n",
    "-       -9\t\tm\n",
    "-       -8\t\ta\n",
    "-       -7\t\tb\n",
    "-       -6\t\te\n",
    "-       -5\t\tn\n",
    "-       -4\t\td\n",
    "-       -3\t\te\n",
    "-       -2\t\tr\n",
    "-       -1\t\ta"
   ]
  },
  {
   "cell_type": "code",
   "execution_count": 34,
   "id": "4da4effd",
   "metadata": {},
   "outputs": [
    {
     "name": "stdout",
     "output_type": "stream",
     "text": [
      "My last name is  bendera\n"
     ]
    }
   ],
   "source": [
    "print(\"My last name is \", github_handle[-7:])"
   ]
  },
  {
   "cell_type": "markdown",
   "id": "34ae3493",
   "metadata": {},
   "source": [
    "Ви також можете змішувати та поєднувати позитивні та негативні індекси slice за потреби"
   ]
  },
  {
   "cell_type": "code",
   "execution_count": 25,
   "id": "0eb4c156",
   "metadata": {},
   "outputs": [
    {
     "name": "stdout",
     "output_type": "stream",
     "text": [
      "My first name is  dima\n"
     ]
    }
   ],
   "source": [
    "print(\"My first name is \", github_handle[1:-7])"
   ]
  },
  {
   "cell_type": "markdown",
   "id": "2064e6a9",
   "metadata": {},
   "source": [
    "У цих прикладах ми покладаємося на знання точних індексів.\n",
    "Але що робити, якщо наш рядок зміниться в розмірі або вмісті?\n",
    "З короткими рядками досить легко розібратися, які slice-и вам потрібні."
   ]
  },
  {
   "cell_type": "markdown",
   "id": "e1b9e0ab",
   "metadata": {},
   "source": [
    "Але більш поширеним і практичним способом поділу, а не прямим використанням чисел, є створення змінної,\n",
    "яка містить потрібне число (але може змінюватися в міру необхідності)"
   ]
  },
  {
   "cell_type": "markdown",
   "id": "1db2044b",
   "metadata": {},
   "source": [
    "Примітка: тут можна використовувати str.find()"
   ]
  },
  {
   "cell_type": "code",
   "execution_count": 26,
   "id": "6d00713d",
   "metadata": {},
   "outputs": [
    {
     "name": "stdout",
     "output_type": "stream",
     "text": [
      "### Part Two ###\n"
     ]
    }
   ],
   "source": [
    "print(\"### Part Two ###\")"
   ]
  },
  {
   "cell_type": "code",
   "execution_count": 46,
   "id": "d470fe6d",
   "metadata": {},
   "outputs": [],
   "source": [
    "text = \"My GitHub handle is @dimabendera and my Instagram handle is @dm.bendea\""
   ]
  },
  {
   "cell_type": "markdown",
   "id": "9c17ad85",
   "metadata": {},
   "source": [
    "Давайте витягнемо дескриптор GitHub за допомогою str.find() та slice-ів."
   ]
  },
  {
   "cell_type": "code",
   "execution_count": 29,
   "id": "7fceba74",
   "metadata": {},
   "outputs": [],
   "source": [
    "snail_index = text.find('@')"
   ]
  },
  {
   "cell_type": "code",
   "execution_count": 32,
   "id": "8ed5fd42",
   "metadata": {},
   "outputs": [
    {
     "data": {
      "text/plain": [
       "20"
      ]
     },
     "execution_count": 32,
     "metadata": {},
     "output_type": "execute_result"
    }
   ],
   "source": [
    "snail_index"
   ]
  },
  {
   "cell_type": "code",
   "execution_count": 33,
   "id": "1c066008",
   "metadata": {},
   "outputs": [
    {
     "data": {
      "text/plain": [
       "'My GitHub handle is @dimabendera and my Instagram handle is @dm.bendea'"
      ]
     },
     "execution_count": 33,
     "metadata": {},
     "output_type": "execute_result"
    }
   ],
   "source": [
    "text"
   ]
  },
  {
   "cell_type": "code",
   "execution_count": 47,
   "id": "40c8fdd9",
   "metadata": {},
   "outputs": [
    {
     "name": "stdout",
     "output_type": "stream",
     "text": [
      "@dimabendera\n"
     ]
    }
   ],
   "source": [
    "# Отже, перший індекс нарізки задається змінною,\n",
    "# але ми все ще покладаємося на знання точної кількості символів (14).  Ми можемо це покращити.\n",
    "print(text[snail_index:snail_index + 12])"
   ]
  },
  {
   "cell_type": "code",
   "execution_count": 48,
   "id": "8e8e26ed",
   "metadata": {},
   "outputs": [],
   "source": [
    "# Зауважте, що ми використовуємо slice тут, щоб вказати початок .find() після того, як перша собачка знайдена.\n",
    "space_after_first_snail_index = text[snail_index:].find(' ')"
   ]
  },
  {
   "cell_type": "code",
   "execution_count": 49,
   "id": "6ed245d6",
   "metadata": {},
   "outputs": [
    {
     "name": "stdout",
     "output_type": "stream",
     "text": [
      "@dimabendera\n"
     ]
    }
   ],
   "source": [
    "# Навіщо нам додавати snail_index до другого індексу slice? Погляньте:\n",
    "print(text[snail_index:snail_index + space_after_first_snail_index])"
   ]
  },
  {
   "cell_type": "code",
   "execution_count": 50,
   "id": "aaf01a01",
   "metadata": {},
   "outputs": [
    {
     "name": "stdout",
     "output_type": "stream",
     "text": [
      "snail_index is:  20\n",
      "space_after_first_snail_index is:  12\n"
     ]
    }
   ],
   "source": [
    "print(\"snail_index is: \", snail_index)\n",
    "print(\"space_after_first_snail_index is: \", space_after_first_snail_index)"
   ]
  },
  {
   "cell_type": "code",
   "execution_count": 51,
   "id": "dfd7de91",
   "metadata": {},
   "outputs": [
    {
     "name": "stdout",
     "output_type": "stream",
     "text": [
      "Отже, це, по суті, text[20:32] -->  @dimabendera\n"
     ]
    }
   ],
   "source": [
    "print(\"Отже, це, по суті, text[20:32] --> \", text[20:32])"
   ]
  },
  {
   "cell_type": "code",
   "execution_count": 45,
   "id": "9bf20a26",
   "metadata": {},
   "outputs": [
    {
     "name": "stdout",
     "output_type": "stream",
     "text": [
      "@dimabendera\n"
     ]
    }
   ],
   "source": [
    "# Замість того, щоб створювати окрему змінну, ви можете просто додати str.find(), прямо в slice, наприклад:\n",
    "print(text[text.find('@'):text.find('@')+text[text.find('@'):].find(' ')])  # Але, як бачите, він не дуже читабельний."
   ]
  },
  {
   "cell_type": "markdown",
   "id": "c3b8d5c7",
   "metadata": {},
   "source": [
    "### Завдання для перевірки\n",
    "1. Завдання: Напишіть програму, яка перевіряє, чи є введене слово паліндромом за допомогою slice.\n",
    "   Паліндром - це слово, яке однаково читається зліва направо і справа наліво, наприклад \"шалаш\", \"колок\"."
   ]
  },
  {
   "cell_type": "code",
   "execution_count": null,
   "id": "8e41238c",
   "metadata": {},
   "outputs": [],
   "source": []
  }
 ],
 "metadata": {
  "jupytext": {
   "cell_metadata_filter": "-all",
   "main_language": "python",
   "notebook_metadata_filter": "-all"
  },
  "kernelspec": {
   "display_name": "Python 3",
   "language": "python",
   "name": "python3"
  },
  "language_info": {
   "codemirror_mode": {
    "name": "ipython",
    "version": 3
   },
   "file_extension": ".py",
   "mimetype": "text/x-python",
   "name": "python",
   "nbconvert_exporter": "python",
   "pygments_lexer": "ipython3",
   "version": "3.8.10"
  }
 },
 "nbformat": 4,
 "nbformat_minor": 5
}
