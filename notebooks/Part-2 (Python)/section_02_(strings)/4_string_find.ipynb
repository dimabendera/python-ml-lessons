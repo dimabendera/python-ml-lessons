{
 "cells": [
  {
   "cell_type": "markdown",
   "id": "f87289c5",
   "metadata": {},
   "source": [
    "Рядкові методи: string.find()"
   ]
  },
  {
   "cell_type": "markdown",
   "id": "7334dc41",
   "metadata": {},
   "source": [
    "string.find() повідомляє, де можна знайти частину одного рядка у більшому рядку.\n",
    "string.find() поверне число:\n",
    "\t\tЯкщо string.find() повертає -1, він не зможе знайти рядок всередині більшого рядка.\n",
    "\t\tВ іншому випадку string.find() поверне номер фрагмента/індекс того місця, де знайдено цей рядок"
   ]
  },
  {
   "cell_type": "code",
   "execution_count": 8,
   "id": "43469b2e",
   "metadata": {},
   "outputs": [],
   "source": [
    "email_address = \"hoorayforpython@notarealwebsite.com\""
   ]
  },
  {
   "cell_type": "code",
   "execution_count": 9,
   "id": "c0139527",
   "metadata": {},
   "outputs": [
    {
     "data": {
      "text/plain": [
       "6"
      ]
     },
     "execution_count": 9,
     "metadata": {},
     "output_type": "execute_result"
    }
   ],
   "source": [
    "email_address.index(\"forpy\")"
   ]
  },
  {
   "cell_type": "code",
   "execution_count": 10,
   "id": "7d492f7d",
   "metadata": {},
   "outputs": [
    {
     "name": "stdout",
     "output_type": "stream",
     "text": [
      "I found the snail at: 15\n"
     ]
    }
   ],
   "source": [
    "print(\"I found the snail at: {0}\".format(email_address.find(\"@\")))  # Номер/індекс, де з'являється символ @"
   ]
  },
  {
   "cell_type": "markdown",
   "id": "72268188",
   "metadata": {},
   "source": [
    "string.find() + slicing = Супер!"
   ]
  },
  {
   "cell_type": "markdown",
   "id": "acbe28a7",
   "metadata": {},
   "source": [
    "Все, що передує @, є частиною email_handle; Все, що після @ є частиною домену, де зареєстрована електронна пошта.\n",
    "Давайте використаємо string.find() і slice разом, щоб розділити їх на частини."
   ]
  },
  {
   "cell_type": "code",
   "execution_count": 11,
   "id": "2a066852",
   "metadata": {},
   "outputs": [
    {
     "name": "stdout",
     "output_type": "stream",
     "text": [
      "I found the snail at: 15\n"
     ]
    }
   ],
   "source": [
    "at_symbol_index = email_address.find(\"@\")\n",
    "print(\"I found the snail at: {0}\".format(at_symbol_index))"
   ]
  },
  {
   "cell_type": "code",
   "execution_count": 13,
   "id": "35337951",
   "metadata": {},
   "outputs": [],
   "source": [
    "email_handle = email_address[0:at_symbol_index]"
   ]
  },
  {
   "cell_type": "code",
   "execution_count": 15,
   "id": "600ae4ae",
   "metadata": {},
   "outputs": [
    {
     "name": "stdout",
     "output_type": "stream",
     "text": [
      "The email_handle is: hoorayforpython\n"
     ]
    }
   ],
   "source": [
    "print(\"The email_handle is: {0}\".format(email_handle))"
   ]
  },
  {
   "cell_type": "code",
   "execution_count": 19,
   "id": "d2349ed7",
   "metadata": {},
   "outputs": [],
   "source": [
    "# Без +1 символ @ був би включений.\n",
    "# Зверніть увагу, що після двокрапки немає числа, тому Python припускає, що ви хочете, щоб все було до кінця.\n",
    "email_domain = email_address[at_symbol_index + 1:]"
   ]
  },
  {
   "cell_type": "code",
   "execution_count": 20,
   "id": "2b94caad",
   "metadata": {},
   "outputs": [
    {
     "name": "stdout",
     "output_type": "stream",
     "text": [
      "The email_domain is: notarealwebsite.com\n"
     ]
    }
   ],
   "source": [
    "print(\"The email_domain is: {0}\".format(email_domain))"
   ]
  },
  {
   "cell_type": "code",
   "execution_count": 21,
   "id": "8042e840",
   "metadata": {},
   "outputs": [
    {
     "name": "stdout",
     "output_type": "stream",
     "text": [
      "When string.find() can't find a string, it'll give a -1.  So since there's no 'QQQ' in email_address, this will return a -1: -1\n"
     ]
    }
   ],
   "source": [
    "print(\"When string.find() can't find a string, it'll give a -1.  So since there's no 'QQQ' in email_address, \"\n",
    "      \"this will return a -1: {0}\".format(email_address.find(\"QQQ\")))"
   ]
  },
  {
   "cell_type": "code",
   "execution_count": null,
   "id": "36e9f9d5",
   "metadata": {},
   "outputs": [],
   "source": []
  }
 ],
 "metadata": {
  "jupytext": {
   "cell_metadata_filter": "-all",
   "main_language": "python",
   "notebook_metadata_filter": "-all"
  },
  "kernelspec": {
   "display_name": "Python 3",
   "language": "python",
   "name": "python3"
  },
  "language_info": {
   "codemirror_mode": {
    "name": "ipython",
    "version": 3
   },
   "file_extension": ".py",
   "mimetype": "text/x-python",
   "name": "python",
   "nbconvert_exporter": "python",
   "pygments_lexer": "ipython3",
   "version": "3.8.10"
  }
 },
 "nbformat": 4,
 "nbformat_minor": 5
}
