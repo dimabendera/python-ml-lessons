{
 "cells": [
  {
   "cell_type": "markdown",
   "id": "33524a04",
   "metadata": {},
   "source": [
    "Класи в Python - це спосіб групування даних та функцій, який дозволяє створювати нові типи об'єктів. Клас об'єднує дані для об'єкта (атрибути) і методи для взаємодії з цими даними."
   ]
  },
  {
   "cell_type": "markdown",
   "id": "5f53d2a8",
   "metadata": {},
   "source": [
    "# Оголошення класу:"
   ]
  },
  {
   "cell_type": "code",
   "execution_count": 29,
   "id": "b21a0db0",
   "metadata": {},
   "outputs": [],
   "source": [
    "class ClassName:\n",
    "    ..."
   ]
  },
  {
   "cell_type": "markdown",
   "id": "29c62820",
   "metadata": {},
   "source": [
    "# Приклад простого класу:"
   ]
  },
  {
   "cell_type": "code",
   "execution_count": 36,
   "id": "c279b878",
   "metadata": {},
   "outputs": [],
   "source": [
    "class Dog:\n",
    "    def __init__(self, name, age):   # Конструктор класу\n",
    "        self.name = name             # Атрибут класу\n",
    "        self.age = age               # Атрибут класу\n",
    "    \n",
    "    def __call__(self):\n",
    "        self.bark()\n",
    "        \n",
    "    def bark(self):                  # Метод класу\n",
    "        print(f\"{self.name} гавкає!\")"
   ]
  },
  {
   "cell_type": "markdown",
   "id": "d8868211",
   "metadata": {},
   "source": [
    "# Створення об'єкта класу:"
   ]
  },
  {
   "cell_type": "code",
   "execution_count": 37,
   "id": "d8473ca1",
   "metadata": {},
   "outputs": [],
   "source": [
    "my_dog = Dog(name=\"Рекс\", age=5)"
   ]
  },
  {
   "cell_type": "code",
   "execution_count": 38,
   "id": "874deb37",
   "metadata": {},
   "outputs": [
    {
     "name": "stdout",
     "output_type": "stream",
     "text": [
      "Рекс гавкає!\n"
     ]
    }
   ],
   "source": [
    "my_dog()"
   ]
  },
  {
   "cell_type": "markdown",
   "id": "ccb237bb",
   "metadata": {},
   "source": [
    "# Використання атрибутів та методів:"
   ]
  },
  {
   "cell_type": "code",
   "execution_count": 34,
   "id": "b0916083",
   "metadata": {},
   "outputs": [
    {
     "name": "stdout",
     "output_type": "stream",
     "text": [
      "Рекс\n",
      "Рекс гавкає!\n"
     ]
    }
   ],
   "source": [
    "print(my_dog.name)  # Виведе \"Рекс\"\n",
    "my_dog.bark()       # Виведе \"Рекс гавкає!\""
   ]
  },
  {
   "cell_type": "code",
   "execution_count": 39,
   "id": "b7c7244c",
   "metadata": {},
   "outputs": [
    {
     "name": "stdout",
     "output_type": "stream",
     "text": [
      "<__main__.Dog object at 0x7f0c982d2e20>\n"
     ]
    }
   ],
   "source": [
    "print(my_dog)"
   ]
  },
  {
   "cell_type": "markdown",
   "id": "909d952a",
   "metadata": {},
   "source": [
    "# магічні методи"
   ]
  },
  {
   "cell_type": "markdown",
   "id": "8737dd52",
   "metadata": {},
   "source": [
    "В Python багато вбудованих \"магічних\" методів (часто називаються \"дандер\" (double underscore) методами), які ви можете визначити в своїх класах для налаштування різноманітної поведінки. Ось деякі з них:\n",
    "\n",
    "* Представлення об'єкту:\n",
    "    * __repr__(self): Повертає \"офіційне\" рядкове представлення об'єкта, яке, як правило, може використовуватися для відтворення об'єкта.\n",
    "    * __str__(self): Повертає \"неофіційне\" рядкове представлення об'єкта для виводу.\n",
    "* Бінарні операції:\n",
    "    * __add__(self, other): Визначає поведінку для оператора +.\n",
    "    * __sub__(self, other): Визначає поведінку для оператора -.\n",
    "    * ... і так далі для інших бінарних операцій.\n",
    "   \n",
    "* Порівняння:\n",
    "    * __eq__(self, other): Визначає поведінку для ==.\n",
    "    * __ne__(self, other): Визначає поведінку для !=.\n",
    "    * __lt__(self, other): Визначає поведінку для <.\n",
    "    * ... і так далі для інших операцій порівняння.\n",
    "* Емуляція виклику:\n",
    "    * __call__(self, *args, **kwargs): Дозволяє об'єкту класу викликатися як функція.\n",
    "* Емуляція контейнерів:\n",
    "    * __len__(self): Визначає поведінку для вбудованої функції len().\n",
    "    * __getitem__(self, key): Визначає поведінку для доступу до елементу за індексом або ключем.\n",
    "    * __setitem__(self, key, value): Визначає поведінку для присвоєння значення елементу за індексом або ключем.\n",
    "    * __delitem__(self, key): Визначає поведінку для видалення елемента за індексом або ключем.\n",
    "* Емуляція контекстних менеджерів:\n",
    "    * __enter__(self): Визначає, що робити при вході в контекст (наприклад, при використанні з with).\n",
    "    * __exit__(self, exc_type, exc_value, traceback): Визначає, що робити при виході з контексту.\n",
    "* Атрибути і їх властивості:\n",
    "    * __getattr__(self, name): Викликається, коли спроба доступу до атрибута об'єкта завершується невдало.\n",
    "    * __setattr__(self, name, value): Визначає поведінку для присвоєння значення атрибуту.\n",
    "    * __delattr__(self, name): Визначає поведінку при видаленні атрибута.\n",
    " \n",
    "... і багато інших.\n",
    "\n",
    "Зазначені методи дозволяють змінювати стандартну поведінку об'єктів класу та адаптувати їх під конкретні завдання."
   ]
  },
  {
   "cell_type": "markdown",
   "id": "7efd8ec8",
   "metadata": {},
   "source": [
    "# Основні концепції ООП:\n",
    "\n",
    "* Інкапсуляція: Упаковка даних та методів, що на них діють, в одному об'єкті.\n",
    "* Наслідування: Здатність створювати новий клас на базі вже існуючого класу.\n",
    "* Поліморфізм: Використання одного і того ж інтерфейсу для різних типів даних.\n",
    "* Абстракція: Виділення найважливіших характеристик об'єкта, ігноруючи неважливі."
   ]
  },
  {
   "cell_type": "markdown",
   "id": "20b3f76d",
   "metadata": {},
   "source": [
    "# Інкапсуляція :\n",
    "Інкапсуляція – це одна з ключових концепцій об'єктно-орієнтованого програмування, що означає об'єднання даних (атрибутів) та методів (функцій), які працюють з цими даними, в одному об'єкті. Водночас інкапсуляція також включає захист (або приховування) внутрішнього стану об'єкта від небажаного доступу ззовні.\n",
    "\n",
    "У Python є три основних рівня доступу до атрибутів класу:\n",
    "\n",
    "* Публічний (Public): Ці атрибути та методи доступні з будь-якого місця.\n",
    "* Захищений (Protected): Такі атрибути та методи повинні захищатися від зовнішнього доступу, але формально їх можна отримати ззовні. Вони позначаються одним підкресленням перед ім'ям (_name).\n",
    "* Приватний (Private): Ці атрибути та методи недоступні ззовні класу. Вони позначаються двома підкресленнями перед ім'ям (__name)."
   ]
  },
  {
   "cell_type": "code",
   "execution_count": 44,
   "id": "0ed2b240",
   "metadata": {},
   "outputs": [],
   "source": [
    "class EncapsulationDemo:\n",
    "    public_data = \"Public Data\"\n",
    "    _protected_data = \"Protected Data\"\n",
    "    __private_data = \"Private Data\"\n",
    "\n",
    "    def public_method(self):\n",
    "        return \"Public Method\"\n",
    "\n",
    "    def _protected_method(self):\n",
    "        return \"Protected Method\"\n",
    "\n",
    "    def __private_method(self):\n",
    "        return \"Private Method\""
   ]
  },
  {
   "cell_type": "markdown",
   "id": "01259fcc",
   "metadata": {},
   "source": [
    "Використовуючи цей клас, можна спробувати доступитися до різних атрибутів:"
   ]
  },
  {
   "cell_type": "code",
   "execution_count": 48,
   "id": "7769d299",
   "metadata": {},
   "outputs": [
    {
     "name": "stdout",
     "output_type": "stream",
     "text": [
      "Public Data\n",
      "Protected Data\n",
      "Private Data\n"
     ]
    }
   ],
   "source": [
    "obj = EncapsulationDemo()\n",
    "\n",
    "print(obj.public_data)          # \"Public Data\"\n",
    "print(obj._protected_data)      # \"Protected Data\"\n",
    "\n",
    "# Наступний рядок викличе помилку, але можна отримати доступ через \"name mangling\":\n",
    "# print(obj.__private_data)\n",
    "print(obj._EncapsulationDemo__private_data)   # \"Private Data\""
   ]
  },
  {
   "cell_type": "markdown",
   "id": "92e319da",
   "metadata": {},
   "source": [
    "Аналогічно для методів:"
   ]
  },
  {
   "cell_type": "code",
   "execution_count": 49,
   "id": "7cb67f43",
   "metadata": {},
   "outputs": [
    {
     "name": "stdout",
     "output_type": "stream",
     "text": [
      "Public Method\n",
      "Protected Method\n",
      "Private Method\n"
     ]
    }
   ],
   "source": [
    "print(obj.public_method())                  # \"Public Method\"\n",
    "print(obj._protected_method())              # \"Protected Method\"\n",
    "\n",
    "# Також можна отримати доступ через \"name mangling\":\n",
    "# print(obj.__private_method())\n",
    "print(obj._EncapsulationDemo__private_method())   # \"Private Method\""
   ]
  },
  {
   "cell_type": "markdown",
   "id": "411955f3",
   "metadata": {},
   "source": [
    "Важливо розуміти, що, на відміну від деяких інших мов програмування, Python використовує систему \"домовленості\" щодо захищених атрибутів, і фактично немає жорсткого обмеження доступу до приватних атрибутів. Тому важливо поважати ці домовленості під час програмування."
   ]
  },
  {
   "cell_type": "markdown",
   "id": "11a2005c",
   "metadata": {},
   "source": [
    "# Наслідування"
   ]
  },
  {
   "cell_type": "markdown",
   "id": "9b1c3202",
   "metadata": {},
   "source": [
    "Наслідування — це одна з ключових ідей об'єктно-орієнтованого програмування. Ця концепція дозволяє створити новий клас, який базується на вже існуючому (базовому) класі, при цьому новий клас може перевизначити або розширити можливості базового класу.\n",
    "\n",
    "Основні принципи наслідування:\n",
    "\n",
    "* Базовий клас (батьківський клас): Клас, від якого інший клас наслідує властивості.\n",
    "* Підклас (дочірній клас): Клас, який наслідує властивості від іншого класу."
   ]
  },
  {
   "cell_type": "code",
   "execution_count": 50,
   "id": "11f5193b",
   "metadata": {},
   "outputs": [],
   "source": [
    "# Базовий клас\n",
    "class Animal:\n",
    "    def __init__(self, species):\n",
    "        self.species = species\n",
    "\n",
    "    def make_sound(self):\n",
    "        print(\"Цей тварина робить якийсь звук\")\n",
    "\n",
    "# Підклас, що наслідує властивості і методи класу Animal\n",
    "class Dog(Animal):\n",
    "    def make_sound(self):\n",
    "        print(\"Гав!\")"
   ]
  },
  {
   "cell_type": "markdown",
   "id": "5c118fb7",
   "metadata": {},
   "source": [
    "Тут Dog є підкласом Animal і перевизначає його метод make_sound."
   ]
  },
  {
   "cell_type": "code",
   "execution_count": 52,
   "id": "20416edc",
   "metadata": {},
   "outputs": [
    {
     "name": "stdout",
     "output_type": "stream",
     "text": [
      "Цей тварина робить якийсь звук\n",
      "Гав!\n"
     ]
    }
   ],
   "source": [
    "animal = Animal(\"Mammal\")\n",
    "animal.make_sound()  # \"Цей тварина робить якийсь звук\"\n",
    "\n",
    "rex = Dog(\"Canine\")\n",
    "rex.make_sound()   # \"Гав!\""
   ]
  },
  {
   "cell_type": "markdown",
   "id": "8b914513",
   "metadata": {},
   "source": [
    "# Множинне наслідування\n",
    "Python підтримує множинне наслідування, що дозволяє підкласу наслідувати атрибути та методи від декількох базових класів."
   ]
  },
  {
   "cell_type": "code",
   "execution_count": 53,
   "id": "e84f29a0",
   "metadata": {},
   "outputs": [
    {
     "name": "stdout",
     "output_type": "stream",
     "text": [
      "Говорить Parent1\n",
      "Говорить Parent2\n"
     ]
    }
   ],
   "source": [
    "class Parent1:\n",
    "    def speak(self):\n",
    "        print(\"Говорить Parent1\")\n",
    "\n",
    "class Parent2:\n",
    "    def talk(self):\n",
    "        print(\"Говорить Parent2\")\n",
    "\n",
    "class Child(Parent1, Parent2):\n",
    "    pass\n",
    "\n",
    "child = Child()\n",
    "child.speak()  # \"Говорить Parent1\"\n",
    "child.talk()   # \"Говорить Parent2\""
   ]
  },
  {
   "cell_type": "markdown",
   "id": "086bc54b",
   "metadata": {},
   "source": [
    "Важливе зауваження: Множинне наслідування може призвести до деяких складних ситуацій і конфліктів (проблема \"алмазного наслідування\"), тому його слід використовувати обережно і з розумінням."
   ]
  },
  {
   "cell_type": "markdown",
   "id": "6ff839a7",
   "metadata": {},
   "source": [
    "Проблема алмазного наслідування — це проблема, яка може виникнути в мовах програмування, що дозволяють множинне наслідування. Ця проблема отримала свою назву через форму діаграми класів, яка нагадує алмаз, коли зображується ситуація множинного наслідування.\n",
    "\n",
    "Суть проблеми полягає в тому, що коли два класи наслідуються від одного базового класу, а потім об'єднуються в один підклас, може бути неясно, яку версію методу чи атрибута слід використовувати.\n",
    "\n",
    "Розглянемо приклад:"
   ]
  },
  {
   "cell_type": "code",
   "execution_count": 24,
   "id": "b0ff94f2",
   "metadata": {},
   "outputs": [],
   "source": [
    "class BaseClass:\n",
    "    def test(self):\n",
    "        return \"BaseClass\"\n",
    "\n",
    "class LeftSubClass(BaseClass):\n",
    "    def test(self):\n",
    "        return \"LeftSubClass\"\n",
    "\n",
    "class RightSubClass(BaseClass):\n",
    "    def test(self):\n",
    "        return \"RightSubClass\"\n",
    "\n",
    "class DiamondClass(LeftSubClass, RightSubClass):\n",
    "    pass"
   ]
  },
  {
   "cell_type": "markdown",
   "id": "3c5ce086",
   "metadata": {},
   "source": [
    "В Python відбувається лінійний пошук методів зліва направо, тому якщо ми створимо об'єкт DiamondClass і викличемо його метод test, то отримаємо результат \"LeftSubClass\". Проте, у інших мовах поведінка може бути іншою, і не завжди такою очевидною.\n",
    "\n",
    "Щоб вирішити цю проблему, Python використовує алгоритм C3 (також відомий як лініалізація класу), що гарантує, що базовий клас буде викликаний тільки один раз.\n",
    "\n",
    "Тим не менше, незважаючи на вирішення цієї проблеми в Python, множинне наслідування слід використовувати обережно, так як воно може зробити код менш зрозумілим і складнішим для підтримки. Зазвичай, використання композиції або міксинів є кращим вибором, ніж множинне наслідування."
   ]
  },
  {
   "cell_type": "markdown",
   "id": "38a08460",
   "metadata": {},
   "source": [
    "# Метод super()"
   ]
  },
  {
   "cell_type": "markdown",
   "id": "9f967b07",
   "metadata": {},
   "source": [
    "У Python super() – це вбудована функція, яка вказує на базовий клас. Це особливо корисно при роботі з перевизначеними методами."
   ]
  },
  {
   "cell_type": "code",
   "execution_count": 12,
   "id": "05ea7365",
   "metadata": {},
   "outputs": [],
   "source": [
    "class Animal:\n",
    "    def __init__(self, species):\n",
    "        self.species = species\n",
    "\n",
    "class Dog(Animal):\n",
    "    def __init__(self, species, name):\n",
    "        super().__init__(species)\n",
    "        self.name = name"
   ]
  },
  {
   "cell_type": "markdown",
   "id": "ba7d40a7",
   "metadata": {},
   "source": [
    "Тут super().__init__(species) викликає конструктор __init__ базового класу Animal з підкласу Dog.\n",
    "\n",
    "Таким чином, наслідування дозволяє створювати більш модульний та повторно використовуваний код, а також визначати ієрархії об'єктів."
   ]
  },
  {
   "cell_type": "markdown",
   "id": "9c97af2e",
   "metadata": {},
   "source": [
    "# Поліморфізм\n",
    "\n",
    "Поліморфізм — одна з фундаментальних концепцій об'єктно-орієнтованого програмування. Він дозволяє об'єктам різних класів використовувати методи з однаковою назвою, але з різною реалізацією.\n",
    "\n",
    "Для Python поліморфізм є досить природнім, оскільки ця мова є динамічно типізованою, і \"очікуємий\" тип об'єкта часто визначається його поведінкою, а не формальним наслідуванням від конкретного класу."
   ]
  },
  {
   "cell_type": "code",
   "execution_count": 54,
   "id": "bbe5fb96",
   "metadata": {},
   "outputs": [],
   "source": [
    "class Dog:\n",
    "    def sound(self):\n",
    "        return \"Гав!\"\n",
    "\n",
    "class Cat:\n",
    "    def sound(self):\n",
    "        return \"М'яу!\"\n",
    "\n",
    "def animal_sound(animal):\n",
    "    return animal.sound()"
   ]
  },
  {
   "cell_type": "code",
   "execution_count": 55,
   "id": "6a41508c",
   "metadata": {},
   "outputs": [
    {
     "name": "stdout",
     "output_type": "stream",
     "text": [
      "Гав!\n",
      "М'яу!\n"
     ]
    }
   ],
   "source": [
    "rex = Dog()\n",
    "whiskers = Cat()\n",
    "\n",
    "print(animal_sound(rex))      # \"Гав!\"\n",
    "print(animal_sound(whiskers)) # \"М'яу!\""
   ]
  },
  {
   "cell_type": "markdown",
   "id": "c0c340eb",
   "metadata": {},
   "source": [
    "У цьому прикладі, функція animal_sound приймає об'єкт animal і викликає його метод sound(). Це працює як для об'єктів класу Dog, так і для Cat, оскільки обидва класи мають метод з назвою sound."
   ]
  },
  {
   "cell_type": "markdown",
   "id": "d71752fb",
   "metadata": {},
   "source": [
    "#### Особливості поліморфізму в Python:\n",
    "* Пізнє зв'язування (Late Binding): Python не вимагає об'єкта мати конкретний тип для виклику методу. Якщо об'єкт має необхідний метод, його можна викликати, незалежно від його класу.\n",
    "\n",
    "* Вбудований поліморфізм: Багато вбудованих операцій Python є поліморфними. Наприклад, операція + може використовуватися як для додавання чисел, так і для конкатенації рядків чи списків.\n",
    "\n",
    "* Поліморфізм з наслідуванням: Якщо клас наслідується від іншого класу і перевизначає деякі його методи, це також може стати проявом поліморфізму. Об'єкти дочірнього класу можуть бути використані там, де очікується об'єкт базового класу."
   ]
  },
  {
   "cell_type": "code",
   "execution_count": 57,
   "id": "cf63ea77",
   "metadata": {},
   "outputs": [
    {
     "name": "stdout",
     "output_type": "stream",
     "text": [
      "Ця тварина робить якийсь звук\n",
      "Гав!\n",
      "М'яу!\n"
     ]
    }
   ],
   "source": [
    "class Animal:\n",
    "    def sound(self):\n",
    "        return \"Ця тварина робить якийсь звук\"\n",
    "\n",
    "class Dog(Animal):\n",
    "    def sound(self):\n",
    "        return \"Гав!\"\n",
    "\n",
    "class Cat(Animal):\n",
    "    def sound(self):\n",
    "        return \"М'яу!\"\n",
    "\n",
    "def make_sound(animal):\n",
    "    print(animal.sound())\n",
    "\n",
    "make_sound(Animal()) # \"Ця тварина робить якийсь звук\"\n",
    "make_sound(Dog())    # \"Гав!\"\n",
    "make_sound(Cat())    # \"М'яу!\""
   ]
  },
  {
   "cell_type": "markdown",
   "id": "60278895",
   "metadata": {},
   "source": [
    "Тут Dog і Cat є підкласами Animal, але обидва перевизначають метод sound.\n",
    "\n",
    "Поліморфізм спрощує розробку, дозволяючи писати більш загальний та абстрактний код, який може працювати з об'єктами різних класів."
   ]
  },
  {
   "cell_type": "markdown",
   "id": "246287e2",
   "metadata": {},
   "source": [
    "# Абстракцію в python\n",
    "Абстракція — це процес приховування внутрішніх деталей реалізації та висвітлення лише того, що корисно та безпечно для зовнішнього користувача. У контексті програмування це означає створення інтерфейсів, які дозволяють взаємодіяти з об'єктом без потреби розуміння всієї його внутрішньої логіки та реалізації.\n",
    "\n",
    "У Python можна створювати абстрактні класи за допомогою модуля abc (Abstract Base Classes). Ці класи не можна інстанціювати напряму; вони служать як основа для інших класів.\n",
    "\n",
    "Ось основні концепції абстракції в Python:\n",
    "* Абстрактний клас: Клас, який не може бути інстанційованим напряму. Його головна мета — служити базою для підкласів.\n",
    "\n",
    "* Абстрактний метод: Метод, який оголошений у абстрактному класі, але не має реалізації. Підкласи, що наслідуються від абстрактного класу, повинні надати реалізацію цьому методу.\n",
    "\n"
   ]
  },
  {
   "cell_type": "code",
   "execution_count": 61,
   "id": "312d80af",
   "metadata": {},
   "outputs": [],
   "source": [
    "from abc import ABC, abstractmethod\n",
    "\n",
    "# Абстрактний клас\n",
    "class Animal(ABC):\n",
    "\n",
    "    @abstractmethod\n",
    "    def sound(self):\n",
    "        pass\n",
    "\n",
    "# Клас Dog наслідується від абстрактного класу Animal\n",
    "class Dog(Animal):\n",
    "\n",
    "    # Реалізація абстрактного методу sound\n",
    "    def sound(self):\n",
    "        return \"Гав!\"\n",
    "\n",
    "# Клас Cat також наслідується від Animal\n",
    "class Cat(Animal):\n",
    "\n",
    "    def sound(self):\n",
    "        return \"М'яу!\""
   ]
  },
  {
   "cell_type": "markdown",
   "id": "847ba9ff",
   "metadata": {},
   "source": [
    "Тут ми створили абстрактний клас Animal з абстрактним методом sound. Класи Dog та Cat наслідують Animal та реалізують метод sound.\n",
    "\n",
    "Спроба створити інстанцію абстрактного класу завершиться помилкою:"
   ]
  },
  {
   "cell_type": "code",
   "execution_count": 59,
   "id": "5fc5ee56",
   "metadata": {},
   "outputs": [
    {
     "ename": "TypeError",
     "evalue": "Can't instantiate abstract class Animal with abstract methods sound",
     "output_type": "error",
     "traceback": [
      "\u001b[0;31m---------------------------------------------------------------------------\u001b[0m",
      "\u001b[0;31mTypeError\u001b[0m                                 Traceback (most recent call last)",
      "\u001b[0;32m<ipython-input-59-0bbaf5d01b35>\u001b[0m in \u001b[0;36m<module>\u001b[0;34m\u001b[0m\n\u001b[0;32m----> 1\u001b[0;31m \u001b[0manimal\u001b[0m \u001b[0;34m=\u001b[0m \u001b[0mAnimal\u001b[0m\u001b[0;34m(\u001b[0m\u001b[0;34m)\u001b[0m  \u001b[0;31m# TypeError: Can't instantiate abstract class Animal with abstract methods sound\u001b[0m\u001b[0;34m\u001b[0m\u001b[0;34m\u001b[0m\u001b[0m\n\u001b[0m",
      "\u001b[0;31mTypeError\u001b[0m: Can't instantiate abstract class Animal with abstract methods sound"
     ]
    }
   ],
   "source": [
    "animal = Animal()  # TypeError: Can't instantiate abstract class Animal with abstract methods sound"
   ]
  },
  {
   "cell_type": "markdown",
   "id": "617e4a40",
   "metadata": {},
   "source": [
    "Проте інстанціювання підкласів, які надають реалізацію всім абстрактним методам, працює без проблем:"
   ]
  },
  {
   "cell_type": "code",
   "execution_count": 60,
   "id": "2515c3c7",
   "metadata": {},
   "outputs": [
    {
     "name": "stdout",
     "output_type": "stream",
     "text": [
      "Гав!\n",
      "М'яу!\n"
     ]
    }
   ],
   "source": [
    "dog = Dog()\n",
    "print(dog.sound())  # Гав!\n",
    "\n",
    "cat = Cat()\n",
    "print(cat.sound())  # М'яу!"
   ]
  },
  {
   "cell_type": "markdown",
   "id": "f736908c",
   "metadata": {},
   "source": [
    "Абстракція дозволяє вам визначати \"контракти\" для класів, що забезпечують структуру та визначають очікувані поведінки без конкретної реалізації. Це корисно для визначення загальних інтерфейсів, які можуть мати різні реалізації в різних підкласах."
   ]
  },
  {
   "cell_type": "markdown",
   "id": "81ba6afa",
   "metadata": {},
   "source": [
    "# Статичні атрибути"
   ]
  },
  {
   "cell_type": "markdown",
   "id": "8e209644",
   "metadata": {},
   "source": [
    "Статичні атрибути (іноді називаються атрибутами класу) в Python - це атрибути, які належать самому класу, а не екземпляру класу. Вони мають одне значення для всього класу та всіх його екземплярів.\n",
    "\n",
    "Ось як їх можна визначити та використовувати:"
   ]
  },
  {
   "cell_type": "code",
   "execution_count": 64,
   "id": "1e81606f",
   "metadata": {},
   "outputs": [
    {
     "name": "stdout",
     "output_type": "stream",
     "text": [
      "This is a class attribute\n",
      "This is a class attribute\n",
      "Changed class attribute\n"
     ]
    }
   ],
   "source": [
    "class MyClass:\n",
    "    class_attribute = \"This is a class attribute\"  # Статичний атрибут\n",
    "\n",
    "    def __init__(self, value):\n",
    "        self.instance_attribute = value  # Атрибут екземпляра\n",
    "\n",
    "# Доступ до статичного атрибута через клас\n",
    "print(MyClass.class_attribute)  # Виведе: \"This is a class attribute\"\n",
    "\n",
    "# Створення екземплярів\n",
    "obj1 = MyClass(\"Object 1\")\n",
    "obj2 = MyClass(\"Object 2\")\n",
    "\n",
    "# Статичний атрибут можна отримати також через екземпляр класу, але це не завжди рекомендовано\n",
    "print(obj1.class_attribute)  # Виведе: \"This is a class attribute\"\n",
    "\n",
    "# Якщо ми змінимо значення статичного атрибута, воно зміниться для всіх екземплярів\n",
    "MyClass.class_attribute = \"Changed class attribute\"\n",
    "print(obj2.class_attribute)  # Виведе: \"Changed class attribute\""
   ]
  },
  {
   "cell_type": "markdown",
   "id": "7f5171e3",
   "metadata": {},
   "source": [
    "Важливо зауважити, що якщо ви намагаєтеся змінити статичний атрибут через екземпляр, ви насправді створите новий атрибут екземпляра з такою ж назвою, і статичний атрибут не буде змінено:"
   ]
  },
  {
   "cell_type": "code",
   "execution_count": 66,
   "id": "e6fff517",
   "metadata": {},
   "outputs": [
    {
     "name": "stdout",
     "output_type": "stream",
     "text": [
      "Changed class attribute\n",
      "New value for obj1\n",
      "Changed class attribute\n"
     ]
    }
   ],
   "source": [
    "obj1.class_attribute = \"New value for obj1\"\n",
    "print(MyClass.class_attribute)  # Виведе: \"Changed class attribute\"\n",
    "print(obj1.class_attribute)    # Виведе: \"New value for obj1\"\n",
    "print(obj2.class_attribute)    # Виведе: \"Changed class attribute\""
   ]
  },
  {
   "cell_type": "markdown",
   "id": "6cd5c811",
   "metadata": {},
   "source": [
    "Тут, коли ми змінили class_attribute для obj1, ми насправді створили новий атрибут екземпляра obj1, і він не вплив на атрибут класу."
   ]
  },
  {
   "cell_type": "markdown",
   "id": "33e2e86b",
   "metadata": {},
   "source": [
    "# Статичні методи "
   ]
  },
  {
   "cell_type": "markdown",
   "id": "85ba66db",
   "metadata": {},
   "source": [
    "Статичні методи в Python — це методи, які належать до класу, а не до екземпляра класу. Вони ведуть себе подібно до звичайних функцій, за винятком того, що вони є частиною класу.\n",
    "\n",
    "Ось основні риси статичних методів:\n",
    "\n",
    "* Вони декоруються за допомогою @staticmethod.\n",
    "* Вони не приймають спеціальний перший параметр, як self (для звичайних методів) або cls (для методів класу).\n",
    "* Вони не можуть змінювати стан об'єкта класу або стан екземпляра, оскільки вони не мають доступу до них.\n",
    "* Статичні методи можна викликати на класі або на його екземплярі.\n"
   ]
  },
  {
   "cell_type": "code",
   "execution_count": 67,
   "id": "8ca56468",
   "metadata": {},
   "outputs": [
    {
     "name": "stdout",
     "output_type": "stream",
     "text": [
      "15\n",
      "5\n"
     ]
    }
   ],
   "source": [
    "class Math:\n",
    "\n",
    "    @staticmethod\n",
    "    def add(x, y):\n",
    "        return x + y\n",
    "\n",
    "    @staticmethod\n",
    "    def subtract(x, y):\n",
    "        return x - y\n",
    "\n",
    "# Використання статичного методу без створення екземпляра класу\n",
    "result = Math.add(10, 5)\n",
    "print(result)  # 15\n",
    "\n",
    "result2 = Math.subtract(10, 5)\n",
    "print(result2)  # 5"
   ]
  },
  {
   "cell_type": "code",
   "execution_count": 68,
   "id": "96b1ce80",
   "metadata": {},
   "outputs": [
    {
     "data": {
      "text/plain": [
       "15"
      ]
     },
     "execution_count": 68,
     "metadata": {},
     "output_type": "execute_result"
    }
   ],
   "source": [
    "math = Math()\n",
    "math.add(10, 5)"
   ]
  },
  {
   "cell_type": "markdown",
   "id": "3c30302f",
   "metadata": {},
   "source": [
    "У цьому прикладі add та subtract є статичними методами класу Math. Ми можемо використовувати їх без створення екземпляра класу.\n",
    "\n",
    "Коли використовувати статичні методи?\n",
    "Коли метод не використовує атрибути класу чи екземпляра.\n",
    "Якщо вам потрібна функція, яка пов'язана з класом, але не потребує доступу до його стану.\n",
    "Для створення допоміжних функцій, які не змінюють основний стан об'єктів, але є корисними в контексті цього класу.\n",
    "Додатково, статичні методи часто використовуються в контексті дизайну програми для реалізації шаблону Одинак (Singleton) або фабричних методів."
   ]
  },
  {
   "cell_type": "markdown",
   "id": "70ae27be",
   "metadata": {},
   "source": [
    "# Метакласи"
   ]
  },
  {
   "cell_type": "markdown",
   "id": "37270629",
   "metadata": {},
   "source": [
    "Метакласи в Python — це дуже глибока тема, яка часто вважається однією з найскладніших частин мови. Для початку добре розуміти, що все в Python є об'єктом, включаючи класи. Таким чином, якщо клас є \"шаблоном\" для створення об'єктів, метаклас є \"шаблоном\" для створення класів. Спрощено кажучи, метаклас визначає, як клас поводиться."
   ]
  },
  {
   "cell_type": "markdown",
   "id": "94a44382",
   "metadata": {},
   "source": [
    "* Створення класу: Коли ви визначаєте новий клас в Python (наприклад, class MyClass:), насправді відбувається виклик метакласу. Метаклас створює та повертає новий клас, аналогічно тому, як клас створює та повертає новий об'єкт.\n",
    "\n",
    "* type — базовий метаклас: В Python метаклас за замовчуванням є type. Це може бути трохи заплутаним, адже type також використовується для визначення типу об'єкта. Але коли type використовується з трьома аргументами, він стає конструктором класу."
   ]
  },
  {
   "cell_type": "code",
   "execution_count": 69,
   "id": "66e14240",
   "metadata": {},
   "outputs": [],
   "source": [
    "MyClass = type('MyClass', (object,), {'x': 5})"
   ]
  },
  {
   "cell_type": "markdown",
   "id": "094c96de",
   "metadata": {},
   "source": [
    "Це рівноцінно такому визначенню:"
   ]
  },
  {
   "cell_type": "code",
   "execution_count": 70,
   "id": "68b4461e",
   "metadata": {},
   "outputs": [],
   "source": [
    "class MyClass(object):\n",
    "    x = 5"
   ]
  },
  {
   "cell_type": "markdown",
   "id": "f5f414e1",
   "metadata": {},
   "source": [
    "Створення власних метакласів: Ви можете створювати власні метакласи, щоб змінювати поведінку створення класу."
   ]
  },
  {
   "cell_type": "code",
   "execution_count": 71,
   "id": "90c08b8f",
   "metadata": {},
   "outputs": [
    {
     "name": "stdout",
     "output_type": "stream",
     "text": [
      "I was added dynamically!\n"
     ]
    }
   ],
   "source": [
    "class Meta(type):\n",
    "    def __new__(cls, name, bases, dct):\n",
    "        dct['added_attribute'] = \"I was added dynamically!\"\n",
    "        return super(Meta, cls).__new__(cls, name, bases, dct)\n",
    "\n",
    "class MyClass(metaclass=Meta):\n",
    "    pass\n",
    "\n",
    "obj = MyClass()\n",
    "print(obj.added_attribute)  # Outputs: I was added dynamically!"
   ]
  },
  {
   "cell_type": "markdown",
   "id": "2f2997d7",
   "metadata": {},
   "source": [
    "В прикладі вище метаклас Meta динамічно додає атрибут до класу MyClass під час його створення."
   ]
  },
  {
   "cell_type": "markdown",
   "id": "85193811",
   "metadata": {},
   "source": [
    "Використання метакласів: Метакласи можуть бути корисними в різних ситуаціях, наприклад, для автоматичного додавання методів або атрибутів до класу, перевірки правил в класі, реалізації орм-подібних механізмів тощо.\n",
    "\n",
    "\n",
    "Тим не менше, метакласи слід використовувати обережно, оскільки вони можуть робити код менш очевидним та складнішим для розуміння. Зазвичай, існують інші менш складні способи досягти бажаного результату без використання метакласів."
   ]
  },
  {
   "cell_type": "markdown",
   "id": "e62bce42",
   "metadata": {},
   "source": [
    "# Getter Setter\n",
    "В Python, getter та setter використовуються для контролю доступу до атрибутів об'єкта. Вони дозволяють вам визначати логіку, яка буде виконуватися при отриманні або встановленні значення атрибута."
   ]
  },
  {
   "cell_type": "markdown",
   "id": "f3d2d866",
   "metadata": {},
   "source": [
    "### getter\n",
    "Getter дозволяє вам отримувати значення атрибута. Ви можете використовувати декоратор @property для визначення методу як getter."
   ]
  },
  {
   "cell_type": "code",
   "execution_count": 2,
   "id": "78360f02",
   "metadata": {},
   "outputs": [
    {
     "data": {
      "text/plain": [
       "'David'"
      ]
     },
     "execution_count": 2,
     "metadata": {},
     "output_type": "execute_result"
    }
   ],
   "source": [
    "class Person:\n",
    "    def __init__(self, name):\n",
    "        self._name = name\n",
    "\n",
    "    @property\n",
    "    def name(self):\n",
    "        return self._name\n",
    "    \n",
    "\n",
    "person = Person(\"David\")\n",
    "person.name"
   ]
  },
  {
   "cell_type": "markdown",
   "id": "bdf3eb86",
   "metadata": {},
   "source": [
    "Тут, коли ви спробуєте отримати доступ до атрибута name, буде викликано метод name, який повертає _name."
   ]
  },
  {
   "cell_type": "markdown",
   "id": "5755d7bb",
   "metadata": {},
   "source": [
    "## setter\n",
    "Setter дозволяє вам встановлювати значення атрибута. Ви можете використовувати декоратор @<attribute>.setter для визначення методу як setter."
   ]
  },
  {
   "cell_type": "code",
   "execution_count": 3,
   "id": "7aef827e",
   "metadata": {},
   "outputs": [],
   "source": [
    "class Person:\n",
    "    def __init__(self, name):\n",
    "        self._name = name\n",
    "\n",
    "    @property\n",
    "    def name(self):\n",
    "        return self._name\n",
    "\n",
    "    @name.setter\n",
    "    def name(self, value):\n",
    "        if not isinstance(value, str):\n",
    "            raise ValueError(\"Name must be a string!\")\n",
    "        self._name = value"
   ]
  },
  {
   "cell_type": "markdown",
   "id": "7785b859",
   "metadata": {},
   "source": [
    "Тут, коли ви спробуєте встановити значення для атрибута name, буде викликано метод name, який встановлює _name."
   ]
  },
  {
   "cell_type": "code",
   "execution_count": 4,
   "id": "08ef600c",
   "metadata": {},
   "outputs": [
    {
     "name": "stdout",
     "output_type": "stream",
     "text": [
      "John\n",
      "Doe\n"
     ]
    }
   ],
   "source": [
    "p = Person(\"John\")\n",
    "print(p.name)  # John\n",
    "\n",
    "p.name = \"Doe\"\n",
    "print(p.name)  # Doe"
   ]
  },
  {
   "cell_type": "markdown",
   "id": "4f221455",
   "metadata": {},
   "source": [
    "Використання getter та setter дозволяє вам вводити додаткову логіку при роботі з атрибутами, таку як перевірка даних або логування."
   ]
  },
  {
   "cell_type": "markdown",
   "id": "b6656955",
   "metadata": {},
   "source": [
    "# Які є особливості реалізації ООП в Python\n",
    "\n",
    "Python є мовою з дуже потужною підтримкою об'єктно-орієнтованого програмування (ООП). Ось додаткові особливості та концепції ООП в Python:\n",
    "\n",
    "* Динамічна типізація: Відсутність строгих типових декларацій означає, що в Python можна динамічно змінювати тип атрибуту або методу об'єкта.\n",
    "\n",
    "* Прямий доступ до атрибутів: За замовчуванням, усі атрибути і методи в Python є публічними. Проте, конвенція прийнята в Python передбачає, що атрибути, які починаються з нижнього підкреслення (наприклад, _private_var), повинні трактуватися як \"приватні\".\n",
    "\n",
    "* \"Name mangling\": Якщо атрибут класу починається з двох нижніх підкреслень і не закінчується так само (наприклад, __private_var), то Python змінює його ім'я, щоб уникнути конфліктів імен в підкласах.\n",
    "\n",
    "* Магічні методи: Це спеціальні методи, які починаються та закінчуються двома нижніми підкресленнями (наприклад, __init__, __str__, __call__). Вони використовуються для перевизначення стандартних операцій в Python для об'єктів вашого класу.\n",
    "\n",
    "* Міксини: У Python дозволено множинне наслідування, завдяки чому можна створювати міксини — невеликі базові класи, що надають додаткову функціональність і можуть бути комбінованими з іншими класами.\n",
    "\n",
    "* Методи класу: Це методи, які приймають клас, а не екземпляр, як перший параметр. Вони декоруються за допомогою @classmethod.\n",
    "\n",
    "* Slots: Використовуючи __slots__, можна фіксувати множину допустимих атрибутів у класі, що може поліпшити продуктивність та контролювати використання пам'яті.\n",
    "\n",
    "* Properties: За допомогою декоратора @property можна створювати гетери і сетери для атрибутів, дозволяючи контролювати доступ до даних атрибутів, а також можливість створення віртуальних атрибутів.\n",
    "\n",
    "* Декоратори: Це механізм, який дозволяє модифікувати або розширювати функції чи методи без зміни їхнього коду.\n",
    "\n",
    "* Метакласи: Це \"класи класів\". Вони контролюють поведінку створення та визначення класів. Це досить глибока та складна тема, але вона дозволяє реалізовувати додатковий рівень керування і модифікації в ООП."
   ]
  },
  {
   "cell_type": "markdown",
   "id": "23c43b2c",
   "metadata": {},
   "source": [
    "### Завдання для перевірки:\n",
    "\n",
    "1. Створіть клас Book, який містить приватні атрибути для назви книги, автора, року видання та ISBN номеру.\n",
    "Ваш клас повинен мати методи, що дозволяють отримати цю інформацію, але не змінювати її після створення об'єкту.\n",
    "\n",
    "2. Створіть клас Reader, який містить ім'я, контактну інформацію та номер читацького квитка.\n",
    "Клас повинен мати методи для отримання цієї інформації.\n",
    "\n",
    "3. Створіть клас Catalog, який буде агрегувати об'єкти класу Book. Він повинен мати можливість додавати книги,\n",
    "видаляти книги за ISBN, шукати книгу за назвою або автором.\n",
    "\n",
    "4. Додайте клас Borrowing, який дозволяє читачам брати книги на певний термін. Клас повинен відстежувати,\n",
    "хто взяв книгу, яку книгу взяли, та коли книга повинна бути повернена.\n",
    "\n",
    "5. створіть кілька об'єктів для кожного класу і продемонструйте, як вони взаємодіють один з одним.\n",
    "\n",
    "6.  створити новий клас IllustratedBook, який наслідується від класу Book. Цей підклас призначений для книг з ілюстраціями. Він повинен мати додаткові атрибути, такі як illustrator (художник-ілюстратор) та illustrations_count (кількість ілюстрацій). Під час створення екземпляру IllustratedBook, необхідно використовувати методи батьківського класу для установки атрибутів, які спільні для всіх книг, а також додавати нові атрибути, що стосуються лише ілюстрованих книг. Також створіть методи, які дозволять користувачеві отримувати і нформацію про художника-ілюстратора та кількість ілюстрацій.\n",
    "\n",
    "7. Додайте метод __str__ у класі IllustratedBook, який перезаписує оригінальний метод в класі Book, додаючи до інформації про книгу дані про ілюстрації.\n"
   ]
  },
  {
   "cell_type": "markdown",
   "id": "63e1c9c8",
   "metadata": {},
   "source": [
    "### Завдання для перевірки:\n",
    "Уявіть, що ви розробляєте програмне забезпечення для банківської системи. У системі є клас BankAccount,\n",
    "який має методи для внесення та зняття коштів. Вам потрібно визначити власні класи виключень, які будуть\n",
    "використовуватися для обробки типових проблем, що можуть виникнути під час цих операцій.\n",
    "\n",
    "Задачі:\n",
    "1. Створіть клас BankAccount з приватним атрибутом балансу, початковий баланс повинен бути нульовим.\n",
    "2. Реалізуйте метод deposit(amount) для внесення коштів та withdraw(amount) для зняття коштів з рахунку.\n",
    "3. Створіть власні виключення: NegativeDepositError при спробі внести від'ємну суму, InsufficientFundsError при спробі\n",
    "   зняти суму, яка перевищує залишок на рахунку, та NegativeWithdrawalError при спробі зняти від'ємну суму.\n",
    "4. Використовуйте ці виключення у ваших методах deposit та withdraw, викидаючи їх при виникненні відповідних ситуацій.\n",
    "5. Напишіть код, який демонструє обробку цих виключень, використовуючи блоки try/except."
   ]
  },
  {
   "cell_type": "code",
   "execution_count": null,
   "id": "9e30032c",
   "metadata": {},
   "outputs": [],
   "source": []
  }
 ],
 "metadata": {
  "kernelspec": {
   "display_name": "Python 3",
   "language": "python",
   "name": "python3"
  },
  "language_info": {
   "codemirror_mode": {
    "name": "ipython",
    "version": 3
   },
   "file_extension": ".py",
   "mimetype": "text/x-python",
   "name": "python",
   "nbconvert_exporter": "python",
   "pygments_lexer": "ipython3",
   "version": "3.8.10"
  }
 },
 "nbformat": 4,
 "nbformat_minor": 5
}
