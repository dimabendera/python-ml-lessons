{
 "cells": [
  {
   "cell_type": "markdown",
   "id": "da0b183c",
   "metadata": {},
   "source": [
    "Словники та списки разом"
   ]
  },
  {
   "cell_type": "code",
   "execution_count": null,
   "id": "77b22b9d",
   "metadata": {},
   "outputs": [],
   "source": [
    "investigations = {\n",
    "  \"type\": \"FeatureCollection\",\n",
    "  \"features\": [\n",
    "      {\n",
    "       \"type\": \"Feature\",\n",
    "       \"geometry\": {\n",
    "          \"type\": \"Point\",\n",
    "          \"coordinates\": [\n",
    "             -112.073032,\n",
    "             33.453527\n",
    "            ]\n",
    "       },\n",
    "       \"properties\": {\n",
    "          \"marker-symbol\": \"marker\",\n",
    "          \"marker-color\": \"#D4500F\",\n",
    "          \"address\": \" AZ \",\n",
    "          \"name\": \"Arizona State University\"\n",
    "          }\n",
    "      },\n",
    "      {\n",
    "       \"type\": \"Feature\",\n",
    "       \"geometry\": {\n",
    "          \"type\": \"Point\",\n",
    "          \"coordinates\": [\n",
    "             -121.645734,\n",
    "             39.648248\n",
    "            ]\n",
    "        },\n",
    "       \"properties\": {\n",
    "          \"marker-symbol\": \"marker\",\n",
    "          \"marker-color\": \"#D4500F\",\n",
    "          \"address\": \" CA \",\n",
    "          \"name\": \"Butte-Glen Community College District\"\n",
    "       }\n",
    "      },\n",
    "  ]\n",
    "}"
   ]
  },
  {
   "cell_type": "markdown",
   "id": "c6718991",
   "metadata": {},
   "source": [
    "Перший рівень - словник з двома ключами: тип і особливості\n",
    "Значення типу – рядок: FeatureCollection\n",
    "features' значення - список словників"
   ]
  },
  {
   "cell_type": "markdown",
   "id": "3041b486",
   "metadata": {},
   "source": [
    "Ми зосередимося на списку функцій."
   ]
  },
  {
   "cell_type": "markdown",
   "id": "f6a2b5f4",
   "metadata": {},
   "source": [
    "Кожен елемент у списку функцій є словником, який має три ключі: тип, геометрія та властивості"
   ]
  },
  {
   "cell_type": "code",
   "execution_count": null,
   "id": "82d8530c",
   "metadata": {},
   "outputs": [],
   "source": [
    "# Якби ми хотіли отримати доступ до всіх переваг для першої точки карти, ось як це зробити:\n",
    "print(investigations['features'][0]['properties'])\n",
    "#   Список словників     ^       ^        ^\n",
    "#              Перша точка карти |        | Властивості"
   ]
  },
  {
   "cell_type": "markdown",
   "id": "a0952ff6",
   "metadata": {},
   "source": [
    "{\n",
    "  \"marker-symbol\": \"marker\",\n",
    "  \"marker-color\": \"#D4500F\",\n",
    "  \"address\": \" AZ \",\n",
    "  \"name\": \"Arizona State University\"\n",
    "}"
   ]
  },
  {
   "cell_type": "markdown",
   "id": "9f047c60",
   "metadata": {},
   "source": [
    "Як ми бачимо вище, властивості самі по собі є словником"
   ]
  },
  {
   "cell_type": "code",
   "execution_count": null,
   "id": "a6839d7a",
   "metadata": {
    "lines_to_next_cell": 2
   },
   "outputs": [],
   "source": [
    "# Щоб отримати назву цієї точки карти:\n",
    "print(investigations['features'][0]['properties']['name'])"
   ]
  },
  {
   "cell_type": "markdown",
   "id": "99de9531",
   "metadata": {},
   "source": [
    "Взагалі кажучи, якщо між квадратними дужками є число, ви отримуєте доступ до списку.\n",
    "Якщо це рядок, ви отримуєте доступ до словника.\n",
    "Якщо ви застрягли або отримуєте помилки, спробуйте роздрукувати елемент і ключ або індекс."
   ]
  }
 ],
 "metadata": {
  "jupytext": {
   "cell_metadata_filter": "-all",
   "main_language": "python",
   "notebook_metadata_filter": "-all"
  }
 },
 "nbformat": 4,
 "nbformat_minor": 5
}
