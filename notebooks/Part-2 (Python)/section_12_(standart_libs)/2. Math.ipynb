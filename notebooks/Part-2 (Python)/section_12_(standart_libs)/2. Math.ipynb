{
 "cells": [
  {
   "cell_type": "markdown",
   "id": "dd5ca711",
   "metadata": {},
   "source": [
    "Бібліотека math в Python надає доступ до математичних функцій, визначених стандартом C. Вона допомагає виконувати математичні операції, які вимагають більше, ніж прості арифметичні дії.\n",
    "\n",
    "Ось деякі функції та константи з бібліотеки math:\n",
    "\n",
    "* Константи:\n",
    "    * math.pi: Значення математичної константи π (3.141592...).\n",
    "    * math.e: Основа натуральних логарифмів (2.718281...).\n",
    "    * math.tau: Тау - це два π (6.283185...).\n",
    "    * math.inf: Позитивна нескінченність.\n",
    "    * math.nan: \"Not a Number\" або \"не число\".\n",
    "* Функції:\n",
    "    * Тригонометричні функції: math.sin(x), math.cos(x), math.tan(x), math.asin(x), math.acos(x), math.atan(x), math.atan2(y, x).\n",
    "    * Гіперболічні функції: math.sinh(x), math.cosh(x), math.tanh(x), math.asinh(x), math.acosh(x), math.atanh(x).\n",
    "    * Потужність та логарифмічні функції: math.pow(x, y): x піднесено до степеня y.\n",
    "    * math.sqrt(x): Квадратний корінь з x.\n",
    "    * math.exp(x): e піднесено до степеня x.\n",
    "    * math.log(x[, base]): Натуральний логарифм x, або логарифм x по основі base.\n",
    "* Дії з числами:\n",
    "    * math.ceil(x): Найменше ціле число, яке більше або дорівнює x.\n",
    "    * math.floor(x): Найбільше ціле число, яке менше або дорівнює x.\n",
    "    * math.fabs(x): Абсолютне значення x.\n",
    "    * math.factorial(x): Факторіал x.\n",
    "    * math.fmod(x, y): Остача від ділення x на y.\n",
    "    * math.gcd(a, b): Найбільший спільний дільник чисел a і b.\n",
    "    * math.isclose(a, b, *, rel_tol=1e-09, abs_tol=0.0): Перевіряє, чи є два значення близькими (за допомогою вказаних tolerance).\n",
    "    \n",
    "* Додаткові функції:\n",
    "\n",
    "    * math.modf(x): Повертає дробову та цілу частину x.\n",
    "    * math.isfinite(x), math.isinf(x), math.isnan(x): Перевіряє, чи є x відповідно кінцевим числом, нескінченністю або NaN.\n",
    "    * math.radians(x), math.degrees(x): Конвертує кути між радіанами та градусами.\n",
    "\n",
    "Це лише деякі з функцій, які надає бібліотека math. Для детального огляду всіх функцій та їх документації ви можете звертатися до офіційної документації Python."
   ]
  },
  {
   "cell_type": "code",
   "execution_count": null,
   "id": "f31cb485",
   "metadata": {},
   "outputs": [],
   "source": []
  }
 ],
 "metadata": {
  "kernelspec": {
   "display_name": "Python 3",
   "language": "python",
   "name": "python3"
  },
  "language_info": {
   "codemirror_mode": {
    "name": "ipython",
    "version": 3
   },
   "file_extension": ".py",
   "mimetype": "text/x-python",
   "name": "python",
   "nbconvert_exporter": "python",
   "pygments_lexer": "ipython3",
   "version": "3.8.10"
  }
 },
 "nbformat": 4,
 "nbformat_minor": 5
}
