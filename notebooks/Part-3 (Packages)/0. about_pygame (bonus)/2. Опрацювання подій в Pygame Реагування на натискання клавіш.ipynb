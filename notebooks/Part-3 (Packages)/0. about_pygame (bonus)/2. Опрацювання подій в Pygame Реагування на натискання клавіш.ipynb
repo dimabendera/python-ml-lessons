{
 "cells": [
  {
   "cell_type": "markdown",
   "id": "84dfaae9",
   "metadata": {},
   "source": [
    "<div class=\"markdown prose w-full break-words dark:prose-invert light\"><h3>Лекція: Опрацювання подій в Pygame - Реагування на натискання клавіш</h3><h4>Частина 1: Основи обробки подій в Pygame</h4><p>Події в Pygame — це дії, що відбуваються через взаємодію користувача з грою, такі як натискання клавіш на клавіатурі або рух миші. Кожен раз, коли подія відбувається, Pygame реєструє цю подію у черзі подій, яку ваша програма може опрацьовувати.</p><h4>Частина 2: Реагування на натискання клавіш</h4><p>Щоб реагувати на натискання клавіш, ваша гра повинна \"слухати\" події клавіатури у головному циклі гри. Pygame надає події <code>KEYDOWN</code> та <code>KEYUP</code> для виявлення, коли клавіша натиснута та коли відпущена відповідно.</p><h4>Приклад: Пересування об'єкта за допомогою клавіш</h4><p>Давайте модифікуємо нашу базову програму з попередньої лекції, щоб додати можливість пересування квадрата за допомогою стрілок клавіатури.</p><ol><li><strong>Підготовка програми</strong></li></ol><p>Переконайтеся, що у вашій програмі є імпортований модуль <code>pygame</code> та викликано <code>pygame.init()</code>.</p><ol start=\"2\"><li><strong>Ініціалізація змінних для координат об'єкта</strong></li></ol><p>Додайте змінні для координат X та Y вашого об'єкта. Це будуть початкові позиції об'єкта на екрані.</p><pre><div class=\"dark bg-gray-950 rounded-md\"><div class=\"flex items-center relative text-token-text-secondary bg-token-main-surface-secondary px-4 py-2 text-xs font-sans justify-between rounded-t-md\"><span>python</span><span class=\"\" data-state=\"closed\"><button class=\"flex gap-1 items-center\"><svg width=\"24\" height=\"24\" viewBox=\"0 0 24 24\" fill=\"none\" xmlns=\"http://www.w3.org/2000/svg\" class=\"icon-sm\"><path fill-rule=\"evenodd\" clip-rule=\"evenodd\" d=\"M12 4C10.8954 4 10 4.89543 10 6H14C14 4.89543 13.1046 4 12 4ZM8.53513 4C9.22675 2.8044 10.5194 2 12 2C13.4806 2 14.7733 2.8044 15.4649 4H17C18.6569 4 20 5.34315 20 7V19C20 20.6569 18.6569 22 17 22H7C5.34315 22 4 20.6569 4 19V7C4 5.34315 5.34315 4 7 4H8.53513ZM8 6H7C6.44772 6 6 6.44772 6 7V19C6 19.5523 6.44772 20 7 20H17C17.5523 20 18 19.5523 18 19V7C18 6.44772 17.5523 6 17 6H16C16 7.10457 15.1046 8 14 8H10C8.89543 8 8 7.10457 8 6Z\" fill=\"currentColor\"></path></svg>Copy code</button></span></div><div class=\"p-4 overflow-y-auto\"><code class=\"!whitespace-pre hljs language-python\">x = <span class=\"hljs-number\">100</span>\n",
    "y = <span class=\"hljs-number\">100</span>\n",
    "</code></div></div></pre><ol start=\"3\"><li><strong>Малювання об'єкта</strong></li></ol><p>У вашому головному циклі, перед <code>pygame.display.flip()</code>, додайте код для малювання об'єкта. Ми використаємо <code>pygame.draw.rect()</code> для малювання прямокутника.</p><pre><div class=\"dark bg-gray-950 rounded-md\"><div class=\"flex items-center relative text-token-text-secondary bg-token-main-surface-secondary px-4 py-2 text-xs font-sans justify-between rounded-t-md\"><span>python</span><span class=\"\" data-state=\"closed\"><button class=\"flex gap-1 items-center\"><svg width=\"24\" height=\"24\" viewBox=\"0 0 24 24\" fill=\"none\" xmlns=\"http://www.w3.org/2000/svg\" class=\"icon-sm\"><path fill-rule=\"evenodd\" clip-rule=\"evenodd\" d=\"M12 4C10.8954 4 10 4.89543 10 6H14C14 4.89543 13.1046 4 12 4ZM8.53513 4C9.22675 2.8044 10.5194 2 12 2C13.4806 2 14.7733 2.8044 15.4649 4H17C18.6569 4 20 5.34315 20 7V19C20 20.6569 18.6569 22 17 22H7C5.34315 22 4 20.6569 4 19V7C4 5.34315 5.34315 4 7 4H8.53513ZM8 6H7C6.44772 6 6 6.44772 6 7V19C6 19.5523 6.44772 20 7 20H17C17.5523 20 18 19.5523 18 19V7C18 6.44772 17.5523 6 17 6H16C16 7.10457 15.1046 8 14 8H10C8.89543 8 8 7.10457 8 6Z\" fill=\"currentColor\"></path></svg>Copy code</button></span></div><div class=\"p-4 overflow-y-auto\"><code class=\"!whitespace-pre hljs language-python\">pygame.draw.rect(screen, (<span class=\"hljs-number\">255</span>, <span class=\"hljs-number\">0</span>, <span class=\"hljs-number\">0</span>), (x, y, <span class=\"hljs-number\">50</span>, <span class=\"hljs-number\">50</span>))\n",
    "</code></div></div></pre><ol start=\"4\"><li><strong>Обробка подій натискання клавіш</strong></li></ol><p>В головному циклі, додайте обробку подій для виявлення натискання клавіш. Коли виявлено подію <code>KEYDOWN</code>, перевірте, яка саме клавіша натиснута, і змініть координати <code>x</code> та <code>y</code> відповідно.</p><pre><div class=\"dark bg-gray-950 rounded-md\"><div class=\"flex items-center relative text-token-text-secondary bg-token-main-surface-secondary px-4 py-2 text-xs font-sans justify-between rounded-t-md\"><span>python</span><span class=\"\" data-state=\"closed\"><button class=\"flex gap-1 items-center\"><svg width=\"24\" height=\"24\" viewBox=\"0 0 24 24\" fill=\"none\" xmlns=\"http://www.w3.org/2000/svg\" class=\"icon-sm\"><path fill-rule=\"evenodd\" clip-rule=\"evenodd\" d=\"M12 4C10.8954 4 10 4.89543 10 6H14C14 4.89543 13.1046 4 12 4ZM8.53513 4C9.22675 2.8044 10.5194 2 12 2C13.4806 2 14.7733 2.8044 15.4649 4H17C18.6569 4 20 5.34315 20 7V19C20 20.6569 18.6569 22 17 22H7C5.34315 22 4 20.6569 4 19V7C4 5.34315 5.34315 4 7 4H8.53513ZM8 6H7C6.44772 6 6 6.44772 6 7V19C6 19.5523 6.44772 20 7 20H17C17.5523 20 18 19.5523 18 19V7C18 6.44772 17.5523 6 17 6H16C16 7.10457 15.1046 8 14 8H10C8.89543 8 8 7.10457 8 6Z\" fill=\"currentColor\"></path></svg>Copy code</button></span></div><div class=\"p-4 overflow-y-auto\"><code class=\"!whitespace-pre hljs language-python\"><span class=\"hljs-keyword\">for</span> event <span class=\"hljs-keyword\">in</span> pygame.event.get():\n",
    "    <span class=\"hljs-keyword\">if</span> event.<span class=\"hljs-built_in\">type</span> == pygame.QUIT:\n",
    "        pygame.quit()\n",
    "        sys.exit()\n",
    "    <span class=\"hljs-keyword\">elif</span> event.<span class=\"hljs-built_in\">type</span> == pygame.KEYDOWN:\n",
    "        <span class=\"hljs-keyword\">if</span> event.key == pygame.K_LEFT:\n",
    "            x -= <span class=\"hljs-number\">5</span>\n",
    "        <span class=\"hljs-keyword\">elif</span> event.key == pygame.K_RIGHT:\n",
    "            x += <span class=\"hljs-number\">5</span>\n",
    "        <span class=\"hljs-keyword\">elif</span> event.key == pygame.K_UP:\n",
    "            y -= <span class=\"hljs-number\">5</span>\n",
    "        <span class=\"hljs-keyword\">elif</span> event.key == pygame.K_DOWN:\n",
    "            y += <span class=\"hljs-number\">5</span>\n",
    "</code></div></div></pre><ol start=\"5\"><li><strong>Очищення екрану</strong></li></ol><p>Перед малюванням об'єкта на новій позиції, додайте очищення екрану, щоб видалити попередні малюнки. Це запобігає \"слідам\" від об'єкта під час його руху.</p><pre><div class=\"dark bg-gray-950 rounded-md\"><div class=\"flex items-center relative text-token-text-secondary bg-token-main-surface-secondary px-4 py-2 text-xs font-sans justify-between rounded-t-md\"><span>python</span><span class=\"\" data-state=\"closed\"><button class=\"flex gap-1 items-center\"><svg width=\"24\" height=\"24\" viewBox=\"0 0 24 24\" fill=\"none\" xmlns=\"http://www.w3.org/2000/svg\" class=\"icon-sm\"><path fill-rule=\"evenodd\" clip-rule=\"evenodd\" d=\"M12 4C10.8954 4 10 4.89543 10 6H14C14 4.89543 13.1046 4 12 4ZM8.53513 4C9.22675 2.8044 10.5194 2 12 2C13.4806 2 14.7733 2.8044 15.4649 4H17C18.6569 4 20 5.34315 20 7V19C20 20.6569 18.6569 22 17 22H7C5.34315 22 4 20.6569 4 19V7C4 5.34315 5.34315 4 7 4H8.53513ZM8 6H7C6.44772 6 6 6.44772 6 7V19C6 19.5523 6.44772 20 7 20H17C17.5523 20 18 19.5523 18 19V7C18 6.44772 17.5523 6 17 6H16C16 7.10457 15.1046 8 14 8H10C8.89543 8 8 7.10457 8 6Z\" fill=\"currentColor\"></path></svg>Copy code</button></span></div><div class=\"p-4 overflow-y-auto\"><code class=\"!whitespace-pre hljs language-python\">screen.fill((<span class=\"hljs-number\">0</span>, <span class=\"hljs-number\">0</span>, <span class=\"hljs-number\">0</span>)) <span class=\"hljs-comment\"># Заповнює екран чорним кольором</span>\n",
    "</code></div></div></pre><ol start=\"6\"><li><strong>Тестування програми</strong></li></ol><p>Запустіть вашу програму. Ви повинні бачити, як при натисканні стрілок клавіатури, квадрат пересувається у відповідному напрямку.</p><h4>Частина 3: Пояснення коду</h4><ul><li><strong><code>pygame.draw.rect()</code></strong> використовується для малювання прямокутника. Він приймає параметри: поверхню для малювання, колір у форматі RGB, та кортеж з позицією та розмірами прямокутника.</li><li><strong><code>event.key</code></strong> містить код клавіші, що була натиснута. <code>pygame.K_LEFT</code>, <code>pygame.K_RIGHT</code>, <code>pygame.K_UP</code>, та <code>pygame.K_DOWN</code> — це константи, які відповідають стрілкам клавіатури.</li><li><strong><code>screen.fill()</code></strong> очищує екран, заповнюючи його кольором, що передається як параметр.</li></ul><p>Цей приклад демонструє базову обробку подій в Pygame і дає уявлення про те, як реагувати на взаємодію користувача з програмою. Розширюючи ці концепції, ви можете додавати складнішу логіку управління та інтерактивність до ваших ігор.</p></div>"
   ]
  },
  {
   "cell_type": "code",
   "execution_count": null,
   "id": "af545169",
   "metadata": {},
   "outputs": [],
   "source": []
  }
 ],
 "metadata": {
  "kernelspec": {
   "display_name": "Python 3 (ipykernel)",
   "language": "python",
   "name": "python3"
  },
  "language_info": {
   "codemirror_mode": {
    "name": "ipython",
    "version": 3
   },
   "file_extension": ".py",
   "mimetype": "text/x-python",
   "name": "python",
   "nbconvert_exporter": "python",
   "pygments_lexer": "ipython3",
   "version": "3.10.12"
  }
 },
 "nbformat": 4,
 "nbformat_minor": 5
}
