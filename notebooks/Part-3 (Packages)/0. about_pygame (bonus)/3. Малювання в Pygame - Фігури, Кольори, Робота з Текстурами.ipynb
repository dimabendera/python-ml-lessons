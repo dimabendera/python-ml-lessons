{
 "cells": [
  {
   "cell_type": "markdown",
   "id": "1158cc69",
   "metadata": {},
   "source": [
    "<div class=\"markdown prose w-full break-words dark:prose-invert light\"><h3>Лекція: Рисування в Pygame - Фігури, Кольори, Робота з Текстурами</h3><h4>Частина 1: Рисування Фігур</h4><p>Pygame дозволяє легко малювати різні геометричні фігури, такі як прямокутники, круги, еліпси та лінії. Для цього використовуються спеціальні функції, що приймають параметри, які описують форму, розташування та розміри фігури.</p><p><strong>Прямокутники:</strong></p><pre><div class=\"dark bg-gray-950 rounded-md\"><div class=\"flex items-center relative text-token-text-secondary bg-token-main-surface-secondary px-4 py-2 text-xs font-sans justify-between rounded-t-md\"><span>python</span><span class=\"\" data-state=\"closed\"><button class=\"flex gap-1 items-center\"><svg width=\"24\" height=\"24\" viewBox=\"0 0 24 24\" fill=\"none\" xmlns=\"http://www.w3.org/2000/svg\" class=\"icon-sm\"><path fill-rule=\"evenodd\" clip-rule=\"evenodd\" d=\"M12 4C10.8954 4 10 4.89543 10 6H14C14 4.89543 13.1046 4 12 4ZM8.53513 4C9.22675 2.8044 10.5194 2 12 2C13.4806 2 14.7733 2.8044 15.4649 4H17C18.6569 4 20 5.34315 20 7V19C20 20.6569 18.6569 22 17 22H7C5.34315 22 4 20.6569 4 19V7C4 5.34315 5.34315 4 7 4H8.53513ZM8 6H7C6.44772 6 6 6.44772 6 7V19C6 19.5523 6.44772 20 7 20H17C17.5523 20 18 19.5523 18 19V7C18 6.44772 17.5523 6 17 6H16C16 7.10457 15.1046 8 14 8H10C8.89543 8 8 7.10457 8 6Z\" fill=\"currentColor\"></path></svg>Copy code</button></span></div><div class=\"p-4 overflow-y-auto\"><code class=\"!whitespace-pre hljs language-python\">pygame.draw.rect(screen, color, pygame.Rect(x, y, width, height))\n",
    "</code></div></div></pre><p><strong>Круги:</strong></p><pre><div class=\"dark bg-gray-950 rounded-md\"><div class=\"flex items-center relative text-token-text-secondary bg-token-main-surface-secondary px-4 py-2 text-xs font-sans justify-between rounded-t-md\"><span>python</span><span class=\"\" data-state=\"closed\"><button class=\"flex gap-1 items-center\"><svg width=\"24\" height=\"24\" viewBox=\"0 0 24 24\" fill=\"none\" xmlns=\"http://www.w3.org/2000/svg\" class=\"icon-sm\"><path fill-rule=\"evenodd\" clip-rule=\"evenodd\" d=\"M12 4C10.8954 4 10 4.89543 10 6H14C14 4.89543 13.1046 4 12 4ZM8.53513 4C9.22675 2.8044 10.5194 2 12 2C13.4806 2 14.7733 2.8044 15.4649 4H17C18.6569 4 20 5.34315 20 7V19C20 20.6569 18.6569 22 17 22H7C5.34315 22 4 20.6569 4 19V7C4 5.34315 5.34315 4 7 4H8.53513ZM8 6H7C6.44772 6 6 6.44772 6 7V19C6 19.5523 6.44772 20 7 20H17C17.5523 20 18 19.5523 18 19V7C18 6.44772 17.5523 6 17 6H16C16 7.10457 15.1046 8 14 8H10C8.89543 8 8 7.10457 8 6Z\" fill=\"currentColor\"></path></svg>Copy code</button></span></div><div class=\"p-4 overflow-y-auto\"><code class=\"!whitespace-pre hljs language-python\">pygame.draw.circle(screen, color, (x, y), radius)\n",
    "</code></div></div></pre><p><strong>Лінії:</strong></p><pre><div class=\"dark bg-gray-950 rounded-md\"><div class=\"flex items-center relative text-token-text-secondary bg-token-main-surface-secondary px-4 py-2 text-xs font-sans justify-between rounded-t-md\"><span>python</span><span class=\"\" data-state=\"closed\"><button class=\"flex gap-1 items-center\"><svg width=\"24\" height=\"24\" viewBox=\"0 0 24 24\" fill=\"none\" xmlns=\"http://www.w3.org/2000/svg\" class=\"icon-sm\"><path fill-rule=\"evenodd\" clip-rule=\"evenodd\" d=\"M12 4C10.8954 4 10 4.89543 10 6H14C14 4.89543 13.1046 4 12 4ZM8.53513 4C9.22675 2.8044 10.5194 2 12 2C13.4806 2 14.7733 2.8044 15.4649 4H17C18.6569 4 20 5.34315 20 7V19C20 20.6569 18.6569 22 17 22H7C5.34315 22 4 20.6569 4 19V7C4 5.34315 5.34315 4 7 4H8.53513ZM8 6H7C6.44772 6 6 6.44772 6 7V19C6 19.5523 6.44772 20 7 20H17C17.5523 20 18 19.5523 18 19V7C18 6.44772 17.5523 6 17 6H16C16 7.10457 15.1046 8 14 8H10C8.89543 8 8 7.10457 8 6Z\" fill=\"currentColor\"></path></svg>Copy code</button></span></div><div class=\"p-4 overflow-y-auto\"><code class=\"!whitespace-pre hljs language-python\">pygame.draw.line(screen, color, (start_x, start_y), (end_x, end_y), width)\n",
    "</code></div></div></pre><ul><li><code>screen</code> - поверхня, на якій буде намальована фігура.</li><li><code>color</code> - колір фігури, вказаний у форматі RGB (наприклад, <code>(255, 0, 0)</code> для червоного).</li><li><code>pygame.Rect</code> - об'єкт, що представляє прямокутник з позицією <code>(x, y)</code> та розмірами <code>width</code> та <code>height</code>.</li><li><code>(x, y)</code> - координати центру фігури на поверхні.</li><li><code>radius</code> - радіус круга.</li><li><code>(start_x, start_y)</code> та <code>(end_x, end_y)</code> - координати початку та кінця лінії.</li><li><code>width</code> - товщина лінії.</li></ul><h4>Частина 2: Кольори</h4><p>У Pygame кольори представлені у форматі RGB, де кожен компонент має значення від 0 до 255. Також можливе використання прозорості за допомогою четвертого компонента, альфа-каналу (RGBA).</p><p><strong>Приклад кольору:</strong></p><pre><div class=\"dark bg-gray-950 rounded-md\"><div class=\"flex items-center relative text-token-text-secondary bg-token-main-surface-secondary px-4 py-2 text-xs font-sans justify-between rounded-t-md\"><span>python</span><span class=\"\" data-state=\"closed\"><button class=\"flex gap-1 items-center\"><svg width=\"24\" height=\"24\" viewBox=\"0 0 24 24\" fill=\"none\" xmlns=\"http://www.w3.org/2000/svg\" class=\"icon-sm\"><path fill-rule=\"evenodd\" clip-rule=\"evenodd\" d=\"M12 4C10.8954 4 10 4.89543 10 6H14C14 4.89543 13.1046 4 12 4ZM8.53513 4C9.22675 2.8044 10.5194 2 12 2C13.4806 2 14.7733 2.8044 15.4649 4H17C18.6569 4 20 5.34315 20 7V19C20 20.6569 18.6569 22 17 22H7C5.34315 22 4 20.6569 4 19V7C4 5.34315 5.34315 4 7 4H8.53513ZM8 6H7C6.44772 6 6 6.44772 6 7V19C6 19.5523 6.44772 20 7 20H17C17.5523 20 18 19.5523 18 19V7C18 6.44772 17.5523 6 17 6H16C16 7.10457 15.1046 8 14 8H10C8.89543 8 8 7.10457 8 6Z\" fill=\"currentColor\"></path></svg>Copy code</button></span></div><div class=\"p-4 overflow-y-auto\"><code class=\"!whitespace-pre hljs language-python\">green = (<span class=\"hljs-number\">0</span>, <span class=\"hljs-number\">255</span>, <span class=\"hljs-number\">0</span>)  <span class=\"hljs-comment\"># RGB для яскраво-зеленого</span>\n",
    "semi_transparent_red = (<span class=\"hljs-number\">255</span>, <span class=\"hljs-number\">0</span>, <span class=\"hljs-number\">0</span>, <span class=\"hljs-number\">128</span>)  <span class=\"hljs-comment\"># RGBA для напівпрозорого червоного</span>\n",
    "</code></div></div></pre><h4>Частина 3: Робота з Текстурами</h4><p>Текстури в Pygame використовуються для додання візуальних деталей до об'єктів. Текстура може бути завантажена з зображення та накладена на фігуру або поверхню.</p><p><strong>Завантаження зображення:</strong></p><pre><div class=\"dark bg-gray-950 rounded-md\"><div class=\"flex items-center relative text-token-text-secondary bg-token-main-surface-secondary px-4 py-2 text-xs font-sans justify-between rounded-t-md\"><span>python</span><span class=\"\" data-state=\"closed\"><button class=\"flex gap-1 items-center\"><svg width=\"24\" height=\"24\" viewBox=\"0 0 24 24\" fill=\"none\" xmlns=\"http://www.w3.org/2000/svg\" class=\"icon-sm\"><path fill-rule=\"evenodd\" clip-rule=\"evenodd\" d=\"M12 4C10.8954 4 10 4.89543 10 6H14C14 4.89543 13.1046 4 12 4ZM8.53513 4C9.22675 2.8044 10.5194 2 12 2C13.4806 2 14.7733 2.8044 15.4649 4H17C18.6569 4 20 5.34315 20 7V19C20 20.6569 18.6569 22 17 22H7C5.34315 22 4 20.6569 4 19V7C4 5.34315 5.34315 4 7 4H8.53513ZM8 6H7C6.44772 6 6 6.44772 6 7V19C6 19.5523 6.44772 20 7 20H17C17.5523 20 18 19.5523 18 19V7C18 6.44772 17.5523 6 17 6H16C16 7.10457 15.1046 8 14 8H10C8.89543 8 8 7.10457 8 6Z\" fill=\"currentColor\"></path></svg>Copy code</button></span></div><div class=\"p-4 overflow-y-auto\"><code class=\"!whitespace-pre hljs language-python\">texture = pygame.image.load(<span class=\"hljs-string\">'path/to/image.png'</span>).convert()\n",
    "</code></div></div></pre><p><strong>Відображення зображення:</strong></p><pre><div class=\"dark bg-gray-950 rounded-md\"><div class=\"flex items-center relative text-token-text-secondary bg-token-main-surface-secondary px-4 py-2 text-xs font-sans justify-between rounded-t-md\"><span>python</span><span class=\"\" data-state=\"closed\"><button class=\"flex gap-1 items-center\"><svg width=\"24\" height=\"24\" viewBox=\"0 0 24 24\" fill=\"none\" xmlns=\"http://www.w3.org/2000/svg\" class=\"icon-sm\"><path fill-rule=\"evenodd\" clip-rule=\"evenodd\" d=\"M12 4C10.8954 4 10 4.89543 10 6H14C14 4.89543 13.1046 4 12 4ZM8.53513 4C9.22675 2.8044 10.5194 2 12 2C13.4806 2 14.7733 2.8044 15.4649 4H17C18.6569 4 20 5.34315 20 7V19C20 20.6569 18.6569 22 17 22H7C5.34315 22 4 20.6569 4 19V7C4 5.34315 5.34315 4 7 4H8.53513ZM8 6H7C6.44772 6 6 6.44772 6 7V19C6 19.5523 6.44772 20 7 20H17C17.5523 20 18 19.5523 18 19V7C18 6.44772 17.5523 6 17 6H16C16 7.10457 15.1046 8 14 8H10C8.89543 8 8 7.10457 8 6Z\" fill=\"currentColor\"></path></svg>Copy code</button></span></div><div class=\"p-4 overflow-y-auto\"><code class=\"!whitespace-pre hljs language-python\">screen.blit(texture, (x, y))\n",
    "</code></div></div></pre><ul><li><code>convert()</code> оптимізує зображення для швидшого відображення.</li><li><code>(x, y)</code> - координати на екрані, де буде розміщено зображення.</li></ul><h4>Приклад програми</h4><p>Давайте створимо програму, що демонструє рисування різних фігур, використання кольорів та роботу з текстурами.</p><pre><div class=\"dark bg-gray-950 rounded-md\"><div class=\"flex items-center relative text-token-text-secondary bg-token-main-surface-secondary px-4 py-2 text-xs font-sans justify-between rounded-t-md\"><span>python</span><span class=\"\" data-state=\"closed\"><button class=\"flex gap-1 items-center\"><svg width=\"24\" height=\"24\" viewBox=\"0 0 24 24\" fill=\"none\" xmlns=\"http://www.w3.org/2000/svg\" class=\"icon-sm\"><path fill-rule=\"evenodd\" clip-rule=\"evenodd\" d=\"M12 4C10.8954 4 10 4.89543 10 6H14C14 4.89543 13.1046 4 12 4ZM8.53513 4C9.22675 2.8044 10.5194 2 12 2C13.4806 2 14.7733 2.8044 15.4649 4H17C18.6569 4 20 5.34315 20 7V19C20 20.6569 18.6569 22 17 22H7C5.34315 22 4 20.6569 4 19V7C4 5.34315 5.34315 4 7 4H8.53513ZM8 6H7C6.44772 6 6 6.44772 6 7V19C6 19.5523 6.44772 20 7 20H17C17.5523 20 18 19.5523 18 19V7C18 6.44772 17.5523 6 17 6H16C16 7.10457 15.1046 8 14 8H10C8.89543 8 8 7.10457 8 6Z\" fill=\"currentColor\"></path></svg>Copy code</button></span></div><div class=\"p-4 overflow-y-auto\"><code class=\"!whitespace-pre hljs language-python\"><span class=\"hljs-keyword\">import</span> pygame\n",
    "<span class=\"hljs-keyword\">import</span> sys\n",
    "\n",
    "<span class=\"hljs-comment\"># Ініціалізація Pygame</span>\n",
    "pygame.init()\n",
    "\n",
    "<span class=\"hljs-comment\"># Налаштування вікна</span>\n",
    "screen_size = (<span class=\"hljs-number\">800</span>, <span class=\"hljs-number\">600</span>)\n",
    "screen = pygame.display.set_mode(screen_size)\n",
    "pygame.display.set_caption(<span class=\"hljs-string\">\"Фігури, Кольори і Текстури в Pygame\"</span>)\n",
    "\n",
    "<span class=\"hljs-comment\"># Колір фону</span>\n",
    "background_color = (<span class=\"hljs-number\">0</span>, <span class=\"hljs-number\">0</span>, <span class=\"hljs-number\">0</span>)  <span class=\"hljs-comment\"># Чорний</span>\n",
    "\n",
    "<span class=\"hljs-comment\"># Головний цикл програми</span>\n",
    "<span class=\"hljs-keyword\">while</span> <span class=\"hljs-literal\">True</span>:\n",
    "    <span class=\"hljs-keyword\">for</span> event <span class=\"hljs-keyword\">in</span> pygame.event.get():\n",
    "        <span class=\"hljs-keyword\">if</span> event.<span class=\"hljs-built_in\">type</span> == pygame.QUIT:\n",
    "            pygame.quit()\n",
    "            sys.exit()\n",
    "\n",
    "    <span class=\"hljs-comment\"># Заливка фону</span>\n",
    "    screen.fill(background_color)\n",
    "\n",
    "    <span class=\"hljs-comment\"># Рисування фігур</span>\n",
    "    pygame.draw.rect(screen, (<span class=\"hljs-number\">255</span>, <span class=\"hljs-number\">0</span>, <span class=\"hljs-number\">0</span>), pygame.Rect(<span class=\"hljs-number\">50</span>, <span class=\"hljs-number\">50</span>, <span class=\"hljs-number\">100</span>, <span class=\"hljs-number\">50</span>))  <span class=\"hljs-comment\"># Прямокутник</span>\n",
    "    pygame.draw.circle(screen, (<span class=\"hljs-number\">0</span>, <span class=\"hljs-number\">255</span>, <span class=\"hljs-number\">0</span>), (<span class=\"hljs-number\">200</span>, <span class=\"hljs-number\">150</span>), <span class=\"hljs-number\">50</span>)  <span class=\"hljs-comment\"># Круг</span>\n",
    "    pygame.draw.line(screen, (<span class=\"hljs-number\">0</span>, <span class=\"hljs-number\">0</span>, <span class=\"hljs-number\">255</span>), (<span class=\"hljs-number\">300</span>, <span class=\"hljs-number\">200</span>), (<span class=\"hljs-number\">400</span>, <span class=\"hljs-number\">300</span>), <span class=\"hljs-number\">5</span>)  <span class=\"hljs-comment\"># Лінія</span>\n",
    "\n",
    "    <span class=\"hljs-comment\"># Робота з текстурами</span>\n",
    "    texture = pygame.image.load(<span class=\"hljs-string\">'example.png'</span>).convert()  <span class=\"hljs-comment\"># Припустимо, що файл example.png існує</span>\n",
    "    screen.blit(texture, (<span class=\"hljs-number\">500</span>, <span class=\"hljs-number\">50</span>))\n",
    "\n",
    "    <span class=\"hljs-comment\"># Оновлення екрану</span>\n",
    "    pygame.display.flip()\n",
    "\n",
    "    <span class=\"hljs-comment\"># Очікування для зменшення швидкості циклу</span>\n",
    "    pygame.time.wait(<span class=\"hljs-number\">10</span>)\n",
    "</code></div></div></pre><p>У цьому прикладі ми ініціалізуємо Pygame, створюємо вікно, заливаємо фон чорним кольором, рисуємо різні фігури різними кольорами та відображаємо текстуру на екрані. Це базовий приклад, який ви можете розширити, додавши більше фігур, кольорів та текстур для створення власних візуальних ефектів у грі або застосунку.</p></div>"
   ]
  },
  {
   "cell_type": "code",
   "execution_count": null,
   "id": "c12fcca8",
   "metadata": {},
   "outputs": [],
   "source": []
  }
 ],
 "metadata": {
  "kernelspec": {
   "display_name": "Python 3 (ipykernel)",
   "language": "python",
   "name": "python3"
  },
  "language_info": {
   "codemirror_mode": {
    "name": "ipython",
    "version": 3
   },
   "file_extension": ".py",
   "mimetype": "text/x-python",
   "name": "python",
   "nbconvert_exporter": "python",
   "pygments_lexer": "ipython3",
   "version": "3.10.12"
  }
 },
 "nbformat": 4,
 "nbformat_minor": 5
}
