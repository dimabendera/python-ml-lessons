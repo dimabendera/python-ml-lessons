{
 "cells": [
  {
   "cell_type": "markdown",
   "id": "3f6335fb",
   "metadata": {},
   "source": [
    "<div class=\"markdown prose w-full break-words dark:prose-invert light\"><h3>Лекція: Розробка Простої Гри-Головоломки в Pygame</h3><h4>Мета Проекту</h4><p>Створити просту гру-головоломку, де гравець має перемістити об'єкт до заданої цілі, використовуючи клавіатуру. Цей проект допоможе зрозуміти основи роботи з Pygame, включаючи рендеринг, обробку подій та логіку гри.</p><h4>Основні Компоненти</h4><ul><li><strong>Вікно гри</strong>: основний інтерфейс, де відбуваються всі дії.</li><li><strong>Гравець</strong>: об'єкт, яким керує гравець.</li><li><strong>Ціль</strong>: місце, куди гравець повинен доставити об'єкт.</li><li><strong>Перешкоди</strong> (опціонально): об'єкти, які ускладнюють досягнення цілі.</li></ul><h4>Технічні Деталі</h4><ul><li><strong>Мова програмування</strong>: Python 3</li><li><strong>Бібліотека</strong>: Pygame</li></ul><h4>Кроки Розробки</h4><h5>Крок 1: Підготовка Проекту</h5><ol><li><strong>Ініціалізація Pygame та Створення Вікна Гри</strong><ul><li>Встановіть Pygame та створіть вікно гри з базовим циклом обробки подій.</li></ul></li></ol><h5>Крок 2: Додавання Гравця та Цілі</h5><ol><li><strong>Створення Класу Гравця</strong><ul><li>Використайте прямокутник як об'єкт гравця для простоти.</li></ul></li><li><strong>Керування Гравцем</strong><ul><li>Додайте можливість переміщення об'єкта гравця за допомогою клавіш.</li></ul></li></ol><h5>Крок 3: Логіка Переміщення</h5><ol><li><strong>Обробка Натискання Клавіш</strong><ul><li>Реалізуйте логіку реагування на натискання клавіш для переміщення гравця.</li></ul></li></ol><h5>Крок 4: Додавання Цілі</h5><ol><li><strong>Розміщення Цілі</strong><ul><li>Визначте позицію цілі та візуалізуйте її у вікні гри.</li></ul></li></ol><h5>Крок 5: Перевірка Умови Перемоги</h5><ol><li><strong>Визначення Перемоги</strong><ul><li>Додайте логіку для визначення, коли гравець досяг цілі.</li></ul></li></ol><h5>Крок 6: Додавання Перешкод (Опціонально)</h5><ol><li><strong>Розміщення Перешкод</strong><ul><li>Створіть перешкоди, які гравець повинен обходити або подолати.</li></ul></li></ol><h4>Приклад Коду</h4><pre><div class=\"dark bg-gray-950 rounded-md\"><div class=\"flex items-center relative text-token-text-secondary bg-token-main-surface-secondary px-4 py-2 text-xs font-sans justify-between rounded-t-md\"><span>python</span><span class=\"\" data-state=\"closed\"><button class=\"flex gap-1 items-center\"><svg width=\"24\" height=\"24\" viewBox=\"0 0 24 24\" fill=\"none\" xmlns=\"http://www.w3.org/2000/svg\" class=\"icon-sm\"><path fill-rule=\"evenodd\" clip-rule=\"evenodd\" d=\"M12 4C10.8954 4 10 4.89543 10 6H14C14 4.89543 13.1046 4 12 4ZM8.53513 4C9.22675 2.8044 10.5194 2 12 2C13.4806 2 14.7733 2.8044 15.4649 4H17C18.6569 4 20 5.34315 20 7V19C20 20.6569 18.6569 22 17 22H7C5.34315 22 4 20.6569 4 19V7C4 5.34315 5.34315 4 7 4H8.53513ZM8 6H7C6.44772 6 6 6.44772 6 7V19C6 19.5523 6.44772 20 7 20H17C17.5523 20 18 19.5523 18 19V7C18 6.44772 17.5523 6 17 6H16C16 7.10457 15.1046 8 14 8H10C8.89543 8 8 7.10457 8 6Z\" fill=\"currentColor\"></path></svg>Copy code</button></span></div><div class=\"p-4 overflow-y-auto\"><code class=\"!whitespace-pre hljs language-python\"><span class=\"hljs-keyword\">import</span> pygame\n",
    "<span class=\"hljs-keyword\">import</span> sys\n",
    "\n",
    "<span class=\"hljs-comment\"># Ініціалізація Pygame</span>\n",
    "pygame.init()\n",
    "\n",
    "<span class=\"hljs-comment\"># Розміри вікна</span>\n",
    "screen_width = <span class=\"hljs-number\">640</span>\n",
    "screen_height = <span class=\"hljs-number\">480</span>\n",
    "screen = pygame.display.set_mode((screen_width, screen_height))\n",
    "\n",
    "<span class=\"hljs-comment\"># Кольори</span>\n",
    "black = (<span class=\"hljs-number\">0</span>, <span class=\"hljs-number\">0</span>, <span class=\"hljs-number\">0</span>)\n",
    "white = (<span class=\"hljs-number\">255</span>, <span class=\"hljs-number\">255</span>, <span class=\"hljs-number\">255</span>)\n",
    "red = (<span class=\"hljs-number\">255</span>, <span class=\"hljs-number\">0</span>, <span class=\"hljs-number\">0</span>)\n",
    "\n",
    "<span class=\"hljs-comment\"># Позиція гравця та цілі</span>\n",
    "player_pos = [<span class=\"hljs-number\">300</span>, <span class=\"hljs-number\">400</span>]\n",
    "goal_pos = [<span class=\"hljs-number\">100</span>, <span class=\"hljs-number\">50</span>]\n",
    "player_size = <span class=\"hljs-number\">50</span>\n",
    "goal_size = <span class=\"hljs-number\">50</span>\n",
    "\n",
    "<span class=\"hljs-comment\"># Головний цикл гри</span>\n",
    "running = <span class=\"hljs-literal\">True</span>\n",
    "<span class=\"hljs-keyword\">while</span> running:\n",
    "    <span class=\"hljs-keyword\">for</span> event <span class=\"hljs-keyword\">in</span> pygame.event.get():\n",
    "        <span class=\"hljs-keyword\">if</span> event.<span class=\"hljs-built_in\">type</span> == pygame.QUIT:\n",
    "            pygame.quit()\n",
    "            sys.exit()\n",
    "\n",
    "<span class=\"hljs-comment\"># Обробка натискання клавіш</span>\n",
    "keys = pygame.key.get_pressed()\n",
    "<span class=\"hljs-keyword\">if</span> keys[pygame.K_LEFT]:\n",
    "    player_pos[<span class=\"hljs-number\">0</span>] -= <span class=\"hljs-number\">5</span>\n",
    "<span class=\"hljs-keyword\">if</span> keys[pygame.K_RIGHT]:\n",
    "    player_pos[<span class=\"hljs-number\">0</span>] += <span class=\"hljs-number\">5</span>\n",
    "<span class=\"hljs-keyword\">if</span> keys[pygame.K_UP]:\n",
    "    player_pos[<span class=\"hljs-number\">1</span>] -= <span class=\"hljs-number\">5</span>\n",
    "<span class=\"hljs-keyword\">if</span> keys[pygame.K_DOWN]:\n",
    "    player_pos[<span class=\"hljs-number\">1</span>] += <span class=\"hljs-number\">5</span>\n",
    "\n",
    "<span class=\"hljs-comment\"># Очищення екрану</span>\n",
    "screen.fill(black)\n",
    "\n",
    "<span class=\"hljs-comment\"># Малювання гравця та цілі</span>\n",
    "pygame.draw.rect(screen, white, (player_pos[<span class=\"hljs-number\">0</span>], player_pos[<span class=\"hljs-number\">1</span>], player_size, player_size))\n",
    "pygame.draw.rect(screen, red, (goal_pos[<span class=\"hljs-number\">0</span>], goal_pos[<span class=\"hljs-number\">1</span>], goal_size, goal_size))\n",
    "\n",
    "<span class=\"hljs-comment\"># Перевірка умови перемоги</span>\n",
    "<span class=\"hljs-keyword\">if</span> player_pos[<span class=\"hljs-number\">0</span>] &lt; goal_pos[<span class=\"hljs-number\">0</span>] + goal_size <span class=\"hljs-keyword\">and</span> player_pos[<span class=\"hljs-number\">0</span>] + player_size &gt; goal_pos[<span class=\"hljs-number\">0</span>] <span class=\"hljs-keyword\">and</span> player_pos[<span class=\"hljs-number\">1</span>] &lt; goal_pos[<span class=\"hljs-number\">1</span>] + goal_size <span class=\"hljs-keyword\">and</span> player_pos[<span class=\"hljs-number\">1</span>] + player_size &gt; goal_pos[<span class=\"hljs-number\">1</span>]:\n",
    "    <span class=\"hljs-built_in\">print</span>(<span class=\"hljs-string\">\"Перемога!\"</span>)\n",
    "    running = <span class=\"hljs-literal\">False</span>\n",
    "\n",
    "    pygame.display.flip()\n",
    "</code></div></div></pre><h4>Висновок</h4><p>Цей проект демонструє основи розробки ігор за допомогою Pygame, включаючи рендеринг, обробку вводу та просту логіку гри. Ви можете розширити цей проект, додавши нові рівні, перешкоди, та інші елементи, щоб зробити гру більш захоплюючою та викликаючою.</p></div>"
   ]
  },
  {
   "cell_type": "code",
   "execution_count": null,
   "id": "6d0ac568",
   "metadata": {},
   "outputs": [],
   "source": []
  }
 ],
 "metadata": {
  "kernelspec": {
   "display_name": "Python 3 (ipykernel)",
   "language": "python",
   "name": "python3"
  },
  "language_info": {
   "codemirror_mode": {
    "name": "ipython",
    "version": 3
   },
   "file_extension": ".py",
   "mimetype": "text/x-python",
   "name": "python",
   "nbconvert_exporter": "python",
   "pygments_lexer": "ipython3",
   "version": "3.10.12"
  }
 },
 "nbformat": 4,
 "nbformat_minor": 5
}
