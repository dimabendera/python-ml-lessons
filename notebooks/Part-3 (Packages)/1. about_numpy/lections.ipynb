{
 "cells": [
  {
   "cell_type": "markdown",
   "id": "8f7969e4",
   "metadata": {},
   "source": [
    "# План вивчення бібліотеки NumPy\n",
    "\n",
    "1. Основи NumPy:\n",
    "    * Встановлення та імпортування NumPy.\n",
    "    * Основи масивів: створення масивів, індексація, зрізи, форми, типи даних.\n",
    "    * Операції з масивами: арифметичні операції, логічні операції.\n",
    "   \n",
    "  \n",
    "2. Продвинуті Операції з Масивами:\n",
    "    * Агрегація даних: sum, min, max, mean.\n",
    "    * Трансформації масивів: reshape, transpose.\n",
    "    * Об'єднання та розділення масивів.\n",
    "    \n",
    "    \n",
    "3. Операції лінійної алгебри:\n",
    "    * Множення матриць.\n",
    "    * Визначники, ранги, сліди матриць.\n",
    "    * Рішення лінійних систем рівнянь.\n",
    "\n",
    "\n",
    "4. Обробка Даних:\n",
    "    * Використання масивів для обробки даних.\n",
    "    * Функції для статистичного аналізу.\n",
    "\n",
    "\n",
    "5. Застосування NumPy в реальних задачах:\n",
    "    * Аналіз даних.\n",
    "    * Машинне навчання з використанням NumPy.\n",
    "    * Використання разом з іншими бібліотеками, як-от Pandas, Matplotlib.\n",
    "  \n",
    "  \n",
    "6. Додаткові Матеріали та Ресурси:\n",
    "    * Офіційна документація NumPy.\n",
    "    * Онлайн курси та навчальні посібники.\n",
    "    * Вивчення джерельних кодів бібліотеки.\n",
    "    \n",
    "    \n",
    "7. Практичні завдання та проекти:\n",
    "    * Реалізація простих проектів для закріплення знань.\n",
    "    * Вирішення задач з обробки даних та лінійної алгебри."
   ]
  },
  {
   "cell_type": "markdown",
   "id": "87e4a349",
   "metadata": {},
   "source": [
    "# Основи NumPy\n",
    "\n",
    "NumPy, що розшифровується як \"Numerical Python\", є однією з основних бібліотек для наукових обчислень в Python. Вона надає підтримку великих, багатовимірних масивів і матриць, разом із великою колекцією високорівневих математичних функцій для ефективної роботи з цими даними.\n",
    "\n",
    "Основні Особливості NumPy:\n",
    "* Ефективність: NumPy використовує оптимізовані C API для обчислень, що робить його набагато швидшим, ніж вбудовані Python списки для великих об'ємів даних.\n",
    "\n",
    "* Масиви: Центральним елементом NumPy є n-вимірні масиви (ndarray), які дозволяють виконувати векторизовані операції (операції, виконувані над кожним елементом масиву одночасно), значно підвищуючи ефективність.\n",
    "\n",
    "* Типи Даних: NumPy підтримує більший діапазон числових типів, ніж Python, що є критично важливим для наукових обчислень.\n",
    "\n",
    "* Широкий Спектр Математичних Функцій: NumPy містить функції для роботи з основними математичними операціями, статистикою, алгеброю, трансформаціями Фур'є, оптимізаціями та іншими.\n",
    "\n",
    "* Інтеграція з Іншими Бібліотеками: NumPy інтегрується з багатьма іншими науковими та інженерними бібліотеками Python, такими як SciPy, Pandas, Matplotlib, scikit-learn, scikit-image тощо.\n",
    "\n",
    "Приклади Використання NumPy:\n",
    "* Наукові Обчислення: Розрахунок складних математичних формул, включаючи лінійну алгебру, статистику, оптимізацію.\n",
    "\n",
    "* Обробка Даних / Аналіз Даних: Перетворення та маніпуляції з великими датасетами, включаючи фільтрацію, сортування, групування.\n",
    "\n",
    "* Машинне Навчання: Використання для зберігання та обробки даних, на яких базуються моделі машинного навчання.\n",
    "\n",
    "* Обробка Зображень та Сигналів: Застосування для аналізу та модифікації зображень і сигналів.\n"
   ]
  },
  {
   "cell_type": "markdown",
   "id": "11462b6b",
   "metadata": {},
   "source": [
    "### Встановлення та Імпортування NumPy\n",
    "Встановіть NumPy через pip:\n",
    "\n",
    "```bash\n",
    "pip install numpy\n",
    "```"
   ]
  },
  {
   "cell_type": "markdown",
   "id": "7653a083",
   "metadata": {},
   "source": [
    "Імпортуйте бібліотеку:"
   ]
  },
  {
   "cell_type": "code",
   "execution_count": 2,
   "id": "a13ba773",
   "metadata": {},
   "outputs": [],
   "source": [
    "import numpy as np"
   ]
  },
  {
   "cell_type": "markdown",
   "id": "f3283975",
   "metadata": {},
   "source": [
    "### Створення масивів:"
   ]
  },
  {
   "cell_type": "markdown",
   "id": "6893b729",
   "metadata": {},
   "source": [
    "Одновимірні масиви: "
   ]
  },
  {
   "cell_type": "code",
   "execution_count": 4,
   "id": "a275bb7b",
   "metadata": {},
   "outputs": [
    {
     "name": "stdout",
     "output_type": "stream",
     "text": [
      "[1 2 3]\n"
     ]
    }
   ],
   "source": [
    "arr = np.array([1, 2, 3])\n",
    "print(arr)"
   ]
  },
  {
   "cell_type": "markdown",
   "id": "75c6bfaf",
   "metadata": {},
   "source": [
    "Двовимірні масиви: "
   ]
  },
  {
   "cell_type": "code",
   "execution_count": 5,
   "id": "3c081c68",
   "metadata": {},
   "outputs": [
    {
     "name": "stdout",
     "output_type": "stream",
     "text": [
      "[[1 2 3]\n",
      " [4 5 6]]\n"
     ]
    }
   ],
   "source": [
    "arr = np.array([[1, 2, 3], [4, 5, 6]])\n",
    "print(arr)"
   ]
  },
  {
   "cell_type": "markdown",
   "id": "e942bda5",
   "metadata": {},
   "source": [
    "Спеціальні масиви: "
   ]
  },
  {
   "cell_type": "code",
   "execution_count": 7,
   "id": "379df455",
   "metadata": {},
   "outputs": [
    {
     "name": "stdout",
     "output_type": "stream",
     "text": [
      "[[0. 0.]\n",
      " [0. 0.]]\n"
     ]
    }
   ],
   "source": [
    "arr = np.zeros((2,2)) # створити матрицю і заповнити її нулями\n",
    "print(arr)"
   ]
  },
  {
   "cell_type": "code",
   "execution_count": 6,
   "id": "a6b96e6f",
   "metadata": {},
   "outputs": [
    {
     "name": "stdout",
     "output_type": "stream",
     "text": [
      "[[1. 1. 1.]\n",
      " [1. 1. 1.]\n",
      " [1. 1. 1.]]\n"
     ]
    }
   ],
   "source": [
    "arr = np.ones((3,3)) # створити матрицю і заповнити її одиницями\n",
    "print(arr)"
   ]
  },
  {
   "cell_type": "code",
   "execution_count": 8,
   "id": "7cecd0b1",
   "metadata": {},
   "outputs": [
    {
     "name": "stdout",
     "output_type": "stream",
     "text": [
      "[[1. 0. 0.]\n",
      " [0. 1. 0.]\n",
      " [0. 0. 1.]]\n"
     ]
    }
   ],
   "source": [
    "arr = np.eye(3) # одинична матриця\n",
    "print(arr)"
   ]
  },
  {
   "cell_type": "code",
   "execution_count": 11,
   "id": "490b5699",
   "metadata": {},
   "outputs": [
    {
     "name": "stdout",
     "output_type": "stream",
     "text": [
      "[1 3 5 7]\n"
     ]
    }
   ],
   "source": [
    "arr = np.arange(start=1, stop=9, step=2)  # анафлог range в python\n",
    "print(arr)"
   ]
  },
  {
   "cell_type": "markdown",
   "id": "c4fe9851",
   "metadata": {},
   "source": [
    "### Індексація та Зрізи:"
   ]
  },
  {
   "cell_type": "markdown",
   "id": "99dbf1f9",
   "metadata": {},
   "source": [
    "Отримання елементу: \n",
    "    "
   ]
  },
  {
   "cell_type": "code",
   "execution_count": 13,
   "id": "f9528abf",
   "metadata": {},
   "outputs": [
    {
     "name": "stdout",
     "output_type": "stream",
     "text": [
      "Елемент під індексом 2 3\n",
      "Останній елемент 3\n"
     ]
    }
   ],
   "source": [
    "arr = np.array([1, 2, 3])\n",
    "print(\"Елемент під індексом 2\", arr[2])\n",
    "print(\"Останній елемент\", arr[-1])"
   ]
  },
  {
   "cell_type": "markdown",
   "id": "4de4731d",
   "metadata": {},
   "source": [
    "Зрізи: "
   ]
  },
  {
   "cell_type": "code",
   "execution_count": 14,
   "id": "3db1b2a0",
   "metadata": {},
   "outputs": [
    {
     "name": "stdout",
     "output_type": "stream",
     "text": [
      "Від 0 індекса включно по 2 невключно [1 2]\n",
      "до 2 індекса невключно [1 2]\n",
      "з 2 індекса невключно [3 4 5 6]\n"
     ]
    }
   ],
   "source": [
    "arr = np.array([1, 2, 3, 4, 5, 6])\n",
    "print(\"Від 0 індекса включно по 2 невключно\", arr[0:2])\n",
    "print(\"до 2 індекса невключно\", arr[:2])\n",
    "print(\"з 2 індекса невключно\", arr[2:])"
   ]
  },
  {
   "cell_type": "markdown",
   "id": "e007031f",
   "metadata": {},
   "source": [
    "Індексація у двовимірних масивах: "
   ]
  },
  {
   "cell_type": "code",
   "execution_count": 15,
   "id": "2af21641",
   "metadata": {},
   "outputs": [
    {
     "name": "stdout",
     "output_type": "stream",
     "text": [
      "перший рядок, другий стовпець 2\n"
     ]
    }
   ],
   "source": [
    "arr = np.array([[1, 2, 3], [4, 5, 6]])\n",
    "print(\"перший рядок, другий стовпець\", arr[0, 1])"
   ]
  },
  {
   "cell_type": "markdown",
   "id": "fb697fd1",
   "metadata": {},
   "source": [
    "### Форми та Перетворення Масивів"
   ]
  },
  {
   "cell_type": "markdown",
   "id": "4227330c",
   "metadata": {},
   "source": [
    "Форма масиву: "
   ]
  },
  {
   "cell_type": "code",
   "execution_count": 16,
   "id": "662053d6",
   "metadata": {},
   "outputs": [
    {
     "data": {
      "text/plain": [
       "(2, 3)"
      ]
     },
     "execution_count": 16,
     "metadata": {},
     "output_type": "execute_result"
    }
   ],
   "source": [
    "arr = np.array([[1, 2, 3], [4, 5, 6]])\n",
    "print(arr.shape)"
   ]
  },
  {
   "cell_type": "markdown",
   "id": "806e5058",
   "metadata": {},
   "source": [
    "Зміна форми: "
   ]
  },
  {
   "cell_type": "code",
   "execution_count": 17,
   "id": "cff50f31",
   "metadata": {},
   "outputs": [
    {
     "name": "stdout",
     "output_type": "stream",
     "text": [
      "[[1 2]\n",
      " [3 4]\n",
      " [5 6]]\n"
     ]
    }
   ],
   "source": [
    "arr = np.array([[1, 2, 3], [4, 5, 6]])\n",
    "print(arr.reshape(3, 2))"
   ]
  },
  {
   "cell_type": "markdown",
   "id": "cb6ec5f1",
   "metadata": {},
   "source": [
    "### Типи Даних:"
   ]
  },
  {
   "cell_type": "markdown",
   "id": "897b52e8",
   "metadata": {},
   "source": [
    "Дізнатися тип даних масиву: "
   ]
  },
  {
   "cell_type": "code",
   "execution_count": 21,
   "id": "1c6b0db9",
   "metadata": {},
   "outputs": [
    {
     "data": {
      "text/plain": [
       "dtype('int64')"
      ]
     },
     "execution_count": 21,
     "metadata": {},
     "output_type": "execute_result"
    }
   ],
   "source": [
    "arr = np.array([[1, 2, 3], [4, 5, 6]])\n",
    "arr.dtype"
   ]
  },
  {
   "cell_type": "markdown",
   "id": "d300c85b",
   "metadata": {},
   "source": [
    "Задавання типу даних при створенні: "
   ]
  },
  {
   "cell_type": "code",
   "execution_count": 22,
   "id": "4413f94d",
   "metadata": {},
   "outputs": [
    {
     "data": {
      "text/plain": [
       "dtype('float64')"
      ]
     },
     "execution_count": 22,
     "metadata": {},
     "output_type": "execute_result"
    }
   ],
   "source": [
    "arr = np.array([[1, 2, 3], [4, 5, 6]], dtype=np.float64)\n",
    "arr.dtype"
   ]
  },
  {
   "cell_type": "markdown",
   "id": "111bf991",
   "metadata": {},
   "source": [
    "### Арифметичні Операції:"
   ]
  },
  {
   "cell_type": "markdown",
   "id": "0a87eb28",
   "metadata": {},
   "source": [
    "Операції з числами: \n",
    "    "
   ]
  },
  {
   "cell_type": "code",
   "execution_count": 25,
   "id": "de8d4756",
   "metadata": {},
   "outputs": [
    {
     "data": {
      "text/plain": [
       "array([[2, 3, 4],\n",
       "       [5, 6, 7]])"
      ]
     },
     "execution_count": 25,
     "metadata": {},
     "output_type": "execute_result"
    }
   ],
   "source": [
    "arr = np.array([[1, 2, 3], [4, 5, 6]])\n",
    "arr + 1"
   ]
  },
  {
   "cell_type": "code",
   "execution_count": 26,
   "id": "9d1a4f29",
   "metadata": {},
   "outputs": [
    {
     "data": {
      "text/plain": [
       "array([[0, 1, 2],\n",
       "       [3, 4, 5]])"
      ]
     },
     "execution_count": 26,
     "metadata": {},
     "output_type": "execute_result"
    }
   ],
   "source": [
    "arr = np.array([[1, 2, 3], [4, 5, 6]])\n",
    "arr - 1"
   ]
  },
  {
   "cell_type": "code",
   "execution_count": 27,
   "id": "398dc34b",
   "metadata": {},
   "outputs": [
    {
     "data": {
      "text/plain": [
       "array([[ 2,  4,  6],\n",
       "       [ 8, 10, 12]])"
      ]
     },
     "execution_count": 27,
     "metadata": {},
     "output_type": "execute_result"
    }
   ],
   "source": [
    "arr = np.array([[1, 2, 3], [4, 5, 6]])\n",
    "arr * 2"
   ]
  },
  {
   "cell_type": "code",
   "execution_count": 28,
   "id": "0ca4781f",
   "metadata": {},
   "outputs": [
    {
     "data": {
      "text/plain": [
       "array([[0.5, 1. , 1.5],\n",
       "       [2. , 2.5, 3. ]])"
      ]
     },
     "execution_count": 28,
     "metadata": {},
     "output_type": "execute_result"
    }
   ],
   "source": [
    "arr = np.array([[1, 2, 3], [4, 5, 6]])\n",
    "arr / 2."
   ]
  },
  {
   "cell_type": "markdown",
   "id": "df338f18",
   "metadata": {},
   "source": [
    "Операції з масивами: \n",
    "    "
   ]
  },
  {
   "cell_type": "code",
   "execution_count": 30,
   "id": "72b273f4",
   "metadata": {},
   "outputs": [
    {
     "data": {
      "text/plain": [
       "array([[3, 5, 7],\n",
       "       [5, 8, 8]])"
      ]
     },
     "execution_count": 30,
     "metadata": {},
     "output_type": "execute_result"
    }
   ],
   "source": [
    "arr1 = np.array([[1, 2, 3], [4, 5, 6]])\n",
    "arr2 = np.array([[2, 3, 4], [1, 3, 2]])\n",
    "arr1 + arr2"
   ]
  },
  {
   "cell_type": "code",
   "execution_count": 32,
   "id": "04f14cb2",
   "metadata": {},
   "outputs": [
    {
     "data": {
      "text/plain": [
       "array([[-5,  1,  0],\n",
       "       [ 3,  2,  4]])"
      ]
     },
     "execution_count": 32,
     "metadata": {},
     "output_type": "execute_result"
    }
   ],
   "source": [
    "arr1 = np.array([[1, 2, 3], [4, 5, 6]])\n",
    "arr2 = np.array([[6, 1, 3], [1, 3, 2]])\n",
    "arr1 - arr2"
   ]
  },
  {
   "cell_type": "markdown",
   "id": "b6fa3bcb",
   "metadata": {},
   "source": [
    "### Логічні Операції:\n",
    "Порівняння: "
   ]
  },
  {
   "cell_type": "code",
   "execution_count": 33,
   "id": "73ec5297",
   "metadata": {},
   "outputs": [
    {
     "data": {
      "text/plain": [
       "array([[False, False,  True],\n",
       "       [ True,  True,  True]])"
      ]
     },
     "execution_count": 33,
     "metadata": {},
     "output_type": "execute_result"
    }
   ],
   "source": [
    "arr = np.array([[1, 2, 3], [4, 5, 6]])\n",
    "arr > 2"
   ]
  },
  {
   "cell_type": "markdown",
   "id": "4bb843e0",
   "metadata": {},
   "source": [
    "Фільтрація елементів по умові"
   ]
  },
  {
   "cell_type": "code",
   "execution_count": 40,
   "id": "2b65e0bb",
   "metadata": {},
   "outputs": [
    {
     "data": {
      "text/plain": [
       "array([3, 4, 5, 6])"
      ]
     },
     "execution_count": 40,
     "metadata": {},
     "output_type": "execute_result"
    }
   ],
   "source": [
    "arr = np.array([[1, 2, 3], [4, 5, 6]])\n",
    "arr[arr > 2]"
   ]
  },
  {
   "cell_type": "code",
   "execution_count": 34,
   "id": "816e1540",
   "metadata": {},
   "outputs": [
    {
     "data": {
      "text/plain": [
       "array([[False, False, False],\n",
       "       [False,  True, False]])"
      ]
     },
     "execution_count": 34,
     "metadata": {},
     "output_type": "execute_result"
    }
   ],
   "source": [
    "arr = np.array([[1, 2, 3], [4, 5, 6]])\n",
    "arr == 5"
   ]
  },
  {
   "cell_type": "markdown",
   "id": "5334bf9e",
   "metadata": {},
   "source": [
    "Логічні операції: "
   ]
  },
  {
   "cell_type": "code",
   "execution_count": 35,
   "id": "63f8e63b",
   "metadata": {},
   "outputs": [
    {
     "data": {
      "text/plain": [
       "array([[False, False,  True],\n",
       "       [ True, False, False]])"
      ]
     },
     "execution_count": 35,
     "metadata": {},
     "output_type": "execute_result"
    }
   ],
   "source": [
    "arr = np.array([[1, 2, 3], [4, 5, 6]])\n",
    "np.logical_and(arr > 2, arr < 5)"
   ]
  },
  {
   "cell_type": "code",
   "execution_count": 37,
   "id": "bb21c43d",
   "metadata": {},
   "outputs": [
    {
     "data": {
      "text/plain": [
       "array([[False,  True,  True],\n",
       "       [ True,  True,  True]])"
      ]
     },
     "execution_count": 37,
     "metadata": {},
     "output_type": "execute_result"
    }
   ],
   "source": [
    "arr = np.array([[1, 2, 3], [4, 5, 6]])\n",
    "np.logical_or(arr > 1, arr < 1)"
   ]
  },
  {
   "cell_type": "markdown",
   "id": "1925e0f8",
   "metadata": {},
   "source": [
    "### Завдання для Самоперевірки\n",
    "\n",
    "1. Створіть одновимірний масив з елементами від 5 до 15. Змініть форму цього масиву на 2x5. Отримайте всі елементи, які більші за 10. Порахуйте кількість елементів у вашому масиві, які діляться на 3 без залишку.\n",
    "\n",
    "\n",
    "2. Створіть масив 3x3 з нулів, а потім замініть центральний елемент на 1. Відніміть 2 від усіх елементів.\n",
    "3. Створіть два масиви різних форм і спробуйте виконати арифметичні операції над ними. Поясніть результат."
   ]
  },
  {
   "cell_type": "markdown",
   "id": "c9680310",
   "metadata": {},
   "source": [
    "# Продвинуті Операції з Масивами\n",
    "\n",
    "### Агрегація Даних:\n",
    "\n",
    "Сума: "
   ]
  },
  {
   "cell_type": "code",
   "execution_count": 3,
   "id": "988dfd4f",
   "metadata": {},
   "outputs": [
    {
     "data": {
      "text/plain": [
       "21"
      ]
     },
     "execution_count": 3,
     "metadata": {},
     "output_type": "execute_result"
    }
   ],
   "source": [
    "arr = np.array([[1, 2, 3], [4, 5, 6]])\n",
    "np.sum(arr)"
   ]
  },
  {
   "cell_type": "markdown",
   "id": "693323bb",
   "metadata": {},
   "source": [
    "Мінімум та максимум: "
   ]
  },
  {
   "cell_type": "code",
   "execution_count": 4,
   "id": "fab7c495",
   "metadata": {},
   "outputs": [
    {
     "data": {
      "text/plain": [
       "1"
      ]
     },
     "execution_count": 4,
     "metadata": {},
     "output_type": "execute_result"
    }
   ],
   "source": [
    "arr = np.array([[1, 2, 3], [4, 5, 6]])\n",
    "np.min(arr)"
   ]
  },
  {
   "cell_type": "code",
   "execution_count": 5,
   "id": "72575d4e",
   "metadata": {},
   "outputs": [
    {
     "data": {
      "text/plain": [
       "6"
      ]
     },
     "execution_count": 5,
     "metadata": {},
     "output_type": "execute_result"
    }
   ],
   "source": [
    "arr = np.array([[1, 2, 3], [4, 5, 6]])\n",
    "np.max(arr)"
   ]
  },
  {
   "cell_type": "markdown",
   "id": "21ae11bd",
   "metadata": {},
   "source": [
    "Середнє та медіана: "
   ]
  },
  {
   "cell_type": "code",
   "execution_count": 6,
   "id": "1c147ca3",
   "metadata": {},
   "outputs": [
    {
     "data": {
      "text/plain": [
       "3.5"
      ]
     },
     "execution_count": 6,
     "metadata": {},
     "output_type": "execute_result"
    }
   ],
   "source": [
    "arr = np.array([[1, 2, 3], [4, 5, 6]])\n",
    "np.mean(arr)"
   ]
  },
  {
   "cell_type": "code",
   "execution_count": 9,
   "id": "d1f2e0fc",
   "metadata": {},
   "outputs": [
    {
     "data": {
      "text/plain": [
       "3.0"
      ]
     },
     "execution_count": 9,
     "metadata": {},
     "output_type": "execute_result"
    }
   ],
   "source": [
    "arr = np.array([[1, 2, 3], [3, 4, 6]])\n",
    "np.median(arr)"
   ]
  },
  {
   "cell_type": "markdown",
   "id": "84986579",
   "metadata": {},
   "source": [
    "Стандартне відхилення: "
   ]
  },
  {
   "cell_type": "code",
   "execution_count": 10,
   "id": "d7abf8c6",
   "metadata": {},
   "outputs": [
    {
     "data": {
      "text/plain": [
       "1.707825127659933"
      ]
     },
     "execution_count": 10,
     "metadata": {},
     "output_type": "execute_result"
    }
   ],
   "source": [
    "arr = np.array([[1, 2, 3], [4, 5, 6]])\n",
    "np.std(arr)"
   ]
  },
  {
   "cell_type": "markdown",
   "id": "9bc2e873",
   "metadata": {},
   "source": [
    "### Трансформації Масивів:"
   ]
  },
  {
   "cell_type": "markdown",
   "id": "01f3d627",
   "metadata": {},
   "source": [
    "Зміна форми (не змінюючи дані): "
   ]
  },
  {
   "cell_type": "code",
   "execution_count": 11,
   "id": "f0124197",
   "metadata": {},
   "outputs": [
    {
     "data": {
      "text/plain": [
       "array([[1, 2],\n",
       "       [3, 4],\n",
       "       [5, 6]])"
      ]
     },
     "execution_count": 11,
     "metadata": {},
     "output_type": "execute_result"
    }
   ],
   "source": [
    "arr = np.array([[1, 2, 3], [4, 5, 6]])\n",
    "arr.reshape((3, 2))"
   ]
  },
  {
   "cell_type": "markdown",
   "id": "0bd272d8",
   "metadata": {},
   "source": [
    "Вирівнювання масиву в один рядок: "
   ]
  },
  {
   "cell_type": "code",
   "execution_count": 12,
   "id": "ffcb2f0f",
   "metadata": {},
   "outputs": [
    {
     "data": {
      "text/plain": [
       "array([1, 2, 3, 4, 5, 6])"
      ]
     },
     "execution_count": 12,
     "metadata": {},
     "output_type": "execute_result"
    }
   ],
   "source": [
    "arr = np.array([[1, 2, 3], [4, 5, 6]])\n",
    "arr.ravel()"
   ]
  },
  {
   "cell_type": "code",
   "execution_count": 13,
   "id": "e4b534a3",
   "metadata": {},
   "outputs": [
    {
     "data": {
      "text/plain": [
       "array([1, 2, 3, 4, 5, 6])"
      ]
     },
     "execution_count": 13,
     "metadata": {},
     "output_type": "execute_result"
    }
   ],
   "source": [
    "arr = np.array([[1, 2, 3], [4, 5, 6]])\n",
    "arr.flatten()"
   ]
  },
  {
   "cell_type": "markdown",
   "id": "5777dc4a",
   "metadata": {},
   "source": [
    "### Об'єднання та Розділення Масивів:"
   ]
  },
  {
   "cell_type": "markdown",
   "id": "51d74e32",
   "metadata": {},
   "source": [
    "Об'єднання: "
   ]
  },
  {
   "cell_type": "code",
   "execution_count": 14,
   "id": "1ad06d47",
   "metadata": {},
   "outputs": [
    {
     "data": {
      "text/plain": [
       "array([[ 1,  2,  3],\n",
       "       [ 4,  5,  6],\n",
       "       [ 7,  8,  9],\n",
       "       [10, 11, 12]])"
      ]
     },
     "execution_count": 14,
     "metadata": {},
     "output_type": "execute_result"
    }
   ],
   "source": [
    "arr1 = np.array([[1, 2, 3], [4, 5, 6]])\n",
    "arr2 = np.array([[7, 8, 9], [10, 11, 12]])\n",
    "np.concatenate([arr1, arr2])"
   ]
  },
  {
   "cell_type": "code",
   "execution_count": 15,
   "id": "54cb2809",
   "metadata": {},
   "outputs": [
    {
     "data": {
      "text/plain": [
       "array([[ 1,  2,  3],\n",
       "       [ 4,  5,  6],\n",
       "       [ 7,  8,  9],\n",
       "       [10, 11, 12]])"
      ]
     },
     "execution_count": 15,
     "metadata": {},
     "output_type": "execute_result"
    }
   ],
   "source": [
    "arr1 = np.array([[1, 2, 3], [4, 5, 6]])\n",
    "arr2 = np.array([[7, 8, 9], [10, 11, 12]])\n",
    "np.vstack([arr1, arr2])"
   ]
  },
  {
   "cell_type": "code",
   "execution_count": 17,
   "id": "29df83a9",
   "metadata": {},
   "outputs": [
    {
     "data": {
      "text/plain": [
       "array([[ 1,  2,  3,  4,  5,  6],\n",
       "       [ 7,  8,  9, 10, 11, 12]])"
      ]
     },
     "execution_count": 17,
     "metadata": {},
     "output_type": "execute_result"
    }
   ],
   "source": [
    "arr1 = np.array([[1, 2, 3], [7, 8, 9]])\n",
    "arr2 = np.array([[4, 5, 6], [10, 11, 12]])\n",
    "np.hstack([arr1, arr2])"
   ]
  },
  {
   "cell_type": "markdown",
   "id": "acf654d0",
   "metadata": {},
   "source": [
    "Розділення: "
   ]
  },
  {
   "cell_type": "code",
   "execution_count": 21,
   "id": "27a99c17",
   "metadata": {},
   "outputs": [
    {
     "data": {
      "text/plain": [
       "[array([1]), array([2, 3]), array([4, 5, 6])]"
      ]
     },
     "execution_count": 21,
     "metadata": {},
     "output_type": "execute_result"
    }
   ],
   "source": [
    "arr = np.array([1, 2, 3, 4, 5, 6])\n",
    "np.split(arr, [1, 3])"
   ]
  },
  {
   "cell_type": "code",
   "execution_count": 25,
   "id": "1a32954e",
   "metadata": {},
   "outputs": [
    {
     "data": {
      "text/plain": [
       "[array([[1],\n",
       "        [4]]),\n",
       " array([[2, 3],\n",
       "        [5, 6]])]"
      ]
     },
     "execution_count": 25,
     "metadata": {},
     "output_type": "execute_result"
    }
   ],
   "source": [
    "arr = np.array([[1, 2, 3], [4, 5, 6]])\n",
    "np.hsplit(arr, [1])"
   ]
  },
  {
   "cell_type": "code",
   "execution_count": 27,
   "id": "627b2652",
   "metadata": {},
   "outputs": [
    {
     "data": {
      "text/plain": [
       "[array([[1, 2, 3]]),\n",
       " array([[4, 5, 6],\n",
       "        [7, 8, 9]])]"
      ]
     },
     "execution_count": 27,
     "metadata": {},
     "output_type": "execute_result"
    }
   ],
   "source": [
    "arr = np.array([[1, 2, 3], [4, 5, 6], [7, 8, 9]])\n",
    "np.vsplit(arr, [1])"
   ]
  },
  {
   "cell_type": "markdown",
   "id": "a8577eac",
   "metadata": {},
   "source": [
    "### Індексація та Слайсинг Заумовлених Масивів:"
   ]
  },
  {
   "cell_type": "markdown",
   "id": "bb1bdc8d",
   "metadata": {},
   "source": [
    "Булева індексація: "
   ]
  },
  {
   "cell_type": "code",
   "execution_count": 28,
   "id": "79686384",
   "metadata": {},
   "outputs": [
    {
     "data": {
      "text/plain": [
       "array([6])"
      ]
     },
     "execution_count": 28,
     "metadata": {},
     "output_type": "execute_result"
    }
   ],
   "source": [
    "arr = np.array([[1, 2, 3], [4, 5, 6]])\n",
    "arr[arr > 5]"
   ]
  },
  {
   "cell_type": "markdown",
   "id": "21aae8b4",
   "metadata": {},
   "source": [
    "Функції np.where: "
   ]
  },
  {
   "cell_type": "code",
   "execution_count": 29,
   "id": "a9362db1",
   "metadata": {},
   "outputs": [
    {
     "data": {
      "text/plain": [
       "array([[0, 0, 0],\n",
       "       [0, 0, 1]])"
      ]
     },
     "execution_count": 29,
     "metadata": {},
     "output_type": "execute_result"
    }
   ],
   "source": [
    "arr = np.array([[1, 2, 3], [4, 5, 6]])\n",
    "np.where(arr > 5, 1, 0)"
   ]
  },
  {
   "cell_type": "markdown",
   "id": "1687dbe2",
   "metadata": {},
   "source": [
    "### Векторизація Функцій:"
   ]
  },
  {
   "cell_type": "markdown",
   "id": "ccb3dc64",
   "metadata": {},
   "source": [
    "Застосування функцій до кожного елемента: "
   ]
  },
  {
   "cell_type": "code",
   "execution_count": 34,
   "id": "5cd38ab5",
   "metadata": {},
   "outputs": [
    {
     "data": {
      "text/plain": [
       "array([[ 2,  6, 12],\n",
       "       [20, 30, 42]])"
      ]
     },
     "execution_count": 34,
     "metadata": {},
     "output_type": "execute_result"
    }
   ],
   "source": [
    "arr = np.array([[1, 2, 3], [4, 5, 6]])\n",
    "arr**2 + arr"
   ]
  },
  {
   "cell_type": "code",
   "execution_count": 35,
   "id": "e6006cfa",
   "metadata": {},
   "outputs": [
    {
     "data": {
      "text/plain": [
       "array([[ 2,  6, 12],\n",
       "       [20, 30, 42]])"
      ]
     },
     "execution_count": 35,
     "metadata": {},
     "output_type": "execute_result"
    }
   ],
   "source": [
    "def func(x):\n",
    "    return x**2 + x\n",
    "\n",
    "np.vectorize(func)(arr)"
   ]
  },
  {
   "cell_type": "markdown",
   "id": "0247c8e2",
   "metadata": {},
   "source": [
    "### Бінарні Операції та Порівняння:"
   ]
  },
  {
   "cell_type": "markdown",
   "id": "c51e3a1e",
   "metadata": {},
   "source": [
    "Порівняння масивів: "
   ]
  },
  {
   "cell_type": "code",
   "execution_count": 37,
   "id": "65940bcf",
   "metadata": {},
   "outputs": [
    {
     "data": {
      "text/plain": [
       "array([[ True, False, False],\n",
       "       [False,  True, False]])"
      ]
     },
     "execution_count": 37,
     "metadata": {},
     "output_type": "execute_result"
    }
   ],
   "source": [
    "arr1 = np.array([[1, 2, 3], [7, 8, 9]])\n",
    "arr2 = np.array([[1, 5, 6], [10, 8, 12]])\n",
    "np.equal(arr1, arr2)"
   ]
  },
  {
   "cell_type": "code",
   "execution_count": 39,
   "id": "0d4c8a97",
   "metadata": {},
   "outputs": [
    {
     "data": {
      "text/plain": [
       "array([[False,  True, False],\n",
       "       [False, False,  True]])"
      ]
     },
     "execution_count": 39,
     "metadata": {},
     "output_type": "execute_result"
    }
   ],
   "source": [
    "arr1 = np.array([[1, 9, 3], [7, 8, 13]])\n",
    "arr2 = np.array([[4, 5, 6], [10, 11, 12]])\n",
    "np.greater(arr1, arr2)"
   ]
  },
  {
   "cell_type": "markdown",
   "id": "bf5e9f0b",
   "metadata": {},
   "source": [
    "### Завдання для Самоперевірки\n",
    "* Створіть два масиви з випадковими числами та знайдіть їхню суму, мінімум та максимум.\n",
    "* Змініть форму одного з масивів і об'єднайте їх вертикально.\n",
    "* Розділіть отриманий в попередньому пункті масив на три рівні частини.\n",
    "* Створіть масив і знайдіть всі елементи, які більші за середнє значення цього масиву.\n",
    "* Створіть власну функцію, яка змінює значення елемента, і застосуйте її до масиву з використанням np.vectorize.\n",
    "* Порівняйте два масиви і знайдіть елементи, які є в обох масивах.\n",
    "* Створіть масив і реалізуйте умовне присвоєння значень за допомогою np.where."
   ]
  },
  {
   "cell_type": "markdown",
   "id": "caac837b",
   "metadata": {},
   "source": [
    "### Операції Лінійної Алгебри в NumPy\n"
   ]
  },
  {
   "cell_type": "markdown",
   "id": "75c94e99",
   "metadata": {},
   "source": [
    "#### Множення Матриць:\n",
    "- **Використання**: `np.dot(a, b)` або `a @ b` для множення матриць `a` і `b`.\n"
   ]
  },
  {
   "cell_type": "markdown",
   "id": "baf0239c",
   "metadata": {},
   "source": [
    "Множення матриць - це основна операція в лінійній алгебрі, яка використовується для комбінування даних з двох матриць, щоб отримати нову матрицю. "
   ]
  },
  {
   "cell_type": "markdown",
   "id": "18b19ce0",
   "metadata": {},
   "source": [
    "Example 1:\n",
    "\n",
    "![assert/animated-gif-determinant-of-2x2-matrix.gif](assert/animated-gif-determinant-of-2x2-matrix.gif)\n",
    "\n",
    "\n",
    "Example 2:\n",
    "\n",
    "![assert/multiply_matrices.gif](assert/multiply_matrices.gif)"
   ]
  },
  {
   "cell_type": "markdown",
   "id": "28074bc6",
   "metadata": {},
   "source": [
    "У цьому прикладі ми множимо дві квадратні матриці a і b, кожна з розміром 2x2. Результатом буде нова матриця, де кожен елемент обчислюється як скалярний добуток відповідних рядків з матриці a і стовпців з матриці b.\n",
    "\n"
   ]
  },
  {
   "cell_type": "code",
   "execution_count": 43,
   "id": "86376047",
   "metadata": {},
   "outputs": [
    {
     "name": "stdout",
     "output_type": "stream",
     "text": [
      "[[19 22]\n",
      " [43 50]]\n"
     ]
    }
   ],
   "source": [
    "import numpy as np\n",
    "\n",
    "# Створення двох квадратних матриць розміром 2x2\n",
    "a = np.array([[1, 2],\n",
    "              [3, 4]])\n",
    "\n",
    "b = np.array([[5, 6],\n",
    "              [7, 8]])\n",
    "\n",
    "# Множення матриць a і b\n",
    "result = np.dot(a, b)\n",
    "\n",
    "print(result)"
   ]
  },
  {
   "cell_type": "markdown",
   "id": "b3de9932",
   "metadata": {},
   "source": [
    "У цьому випадку ми множимо матрицю matrix розміром 2x3 на вектор vector розміром 3. Результатом буде новий вектор, де кожен елемент обчислюється як скалярний добуток відповідного рядка з матриці і вектора."
   ]
  },
  {
   "cell_type": "code",
   "execution_count": 42,
   "id": "53f1f50f",
   "metadata": {},
   "outputs": [
    {
     "name": "stdout",
     "output_type": "stream",
     "text": [
      "[ 50 122]\n"
     ]
    }
   ],
   "source": [
    "import numpy as np\n",
    "\n",
    "# Створення матриці розміром 2x3 і вектора розміром 3\n",
    "matrix = np.array([[1, 2, 3],\n",
    "                   [4, 5, 6]])\n",
    "\n",
    "vector = np.array([7, 8, 9])\n",
    "\n",
    "# Множення матриці на вектор\n",
    "result = np.dot(matrix, vector)\n",
    "\n",
    "print(result)"
   ]
  },
  {
   "cell_type": "markdown",
   "id": "f8d21671",
   "metadata": {},
   "source": [
    "#### Визначник та Ранг Матриці:\n",
    "- **Визначник**: `np.linalg.det(a)`.\n",
    "- **Ранг матриці**: `np.linalg.matrix_rank(a)`.\n"
   ]
  },
  {
   "cell_type": "markdown",
   "id": "b3732d8a",
   "metadata": {},
   "source": [
    "Визначник і ранг матриці - це важливі характеристики матриць, які використовуються в лінійній алгебрі та чисельних методах."
   ]
  },
  {
   "cell_type": "markdown",
   "id": "35da0037",
   "metadata": {},
   "source": [
    "<b>Визначник матриці</b> - це числова характеристика матриці, яка обчислюється для квадратної матриці. В даному прикладі, визначник матриці a дорівнює 10. Визначник вказує на те, як матриця впливає на масштаб області векторів у просторі, і він є корисним, наприклад, при розв'язанні систем лінійних рівнянь і обчисленні оберненої матриці.\n",
    "\n"
   ]
  },
  {
   "cell_type": "markdown",
   "id": "fb91de44",
   "metadata": {},
   "source": [
    "2 dimensional:\n",
    "\n",
    "![assert/animated-gif-determinant-of-2x2-matrix.gif](assert/animated-gif-determinant-of-2x2-matrix.gif)\n",
    "\n",
    "3 dimensional\n",
    "\n",
    "![assert/animated-formula-determinant-3x3-matrix.gif](assert/animated-formula-determinant-3x3-matrix.gif)\n",
    "\n",
    "4 dimensional\n",
    "\n",
    "![assert/suud1.1.gif](assert/suud1.1.gif)"
   ]
  },
  {
   "cell_type": "code",
   "execution_count": 44,
   "id": "2862211c",
   "metadata": {},
   "outputs": [
    {
     "name": "stdout",
     "output_type": "stream",
     "text": [
      "Визначник матриці a: 10.000000000000002\n"
     ]
    }
   ],
   "source": [
    "import numpy as np\n",
    "\n",
    "# Створення квадратної матриці 2x2\n",
    "a = np.array([[3, 1],\n",
    "              [2, 4]])\n",
    "\n",
    "# Обчислення визначника матриці a\n",
    "determinant = np.linalg.det(a)\n",
    "\n",
    "print(\"Визначник матриці a:\", determinant)"
   ]
  },
  {
   "cell_type": "markdown",
   "id": "bb804c4c",
   "metadata": {},
   "source": [
    "<b>Ранг</b> матриці вказує на максимальну кількість лінійно незалежних рядків (або стовпців) у матриці. У цьому прикладі, ранг матриці b дорівнює 2, що означає, що є два лінійно незалежних рядки у цій матриці. Ранг матриці є важливою характеристикою при розв'язанні систем лінійних рівнянь і визначенні розмірності простору, що охоплюється матрицею."
   ]
  },
  {
   "cell_type": "markdown",
   "id": "318e562f",
   "metadata": {},
   "source": [
    "2 dimensional\n",
    "\n",
    "\n",
    "![assert/1_XXmAVU0DypKnwGrg5nQE1Q.webp](assert/1_XXmAVU0DypKnwGrg5nQE1Q.webp)\n",
    "\n",
    "\n",
    "4 dimensional\n",
    "\n",
    "![assert/1__VKG-MvESmtQSmwc7tkIkA.webp](assert/1__VKG-MvESmtQSmwc7tkIkA.webp)"
   ]
  },
  {
   "cell_type": "code",
   "execution_count": 45,
   "id": "7aabfe1d",
   "metadata": {},
   "outputs": [
    {
     "name": "stdout",
     "output_type": "stream",
     "text": [
      "Ранг матриці b: 2\n"
     ]
    }
   ],
   "source": [
    "import numpy as np\n",
    "\n",
    "# Створення матриці розміром 3x3\n",
    "b = np.array([[1, 2, 3],\n",
    "              [4, 5, 6],\n",
    "              [7, 8, 9]])\n",
    "\n",
    "# Обчислення рангу матриці b\n",
    "rank = np.linalg.matrix_rank(b)\n",
    "\n",
    "print(\"Ранг матриці b:\", rank)"
   ]
  },
  {
   "cell_type": "markdown",
   "id": "3f89b51d",
   "metadata": {},
   "source": [
    "#### Слід Матриці:\n",
    "- **Слід (сума елементів на головній діагоналі)**: `np.trace(a)`.\n"
   ]
  },
  {
   "cell_type": "markdown",
   "id": "8647d47a",
   "metadata": {},
   "source": [
    "Слід матриці - це сума всіх елементів, які розташовані на головній діагоналі квадратної матриці. Визначення сліду матриці виглядає так:\n",
    "\n",
    "Слід(A) = a[0,0] + a[1,1] + ... + a[n-1,n-1], де A - квадратна матриця розміром n x n.\n",
    "\n",
    "Давайте розглянемо приклад та пояснення обчислення сліду матриці за допомогою функції np.trace(a) в бібліотеці NumPy."
   ]
  },
  {
   "cell_type": "code",
   "execution_count": 49,
   "id": "35d92b1f",
   "metadata": {},
   "outputs": [
    {
     "name": "stdout",
     "output_type": "stream",
     "text": [
      "Слід матриці a: 15\n"
     ]
    }
   ],
   "source": [
    "import numpy as np\n",
    "\n",
    "# Створення квадратної матриці 3x3\n",
    "a = np.array([[1, 2, 3],\n",
    "              [4, 5, 6],\n",
    "              [7, 8, 9]])\n",
    "\n",
    "# Обчислення сліду матриці a\n",
    "trace = np.trace(a)\n",
    "\n",
    "print(\"Слід матриці a:\", trace)"
   ]
  },
  {
   "cell_type": "markdown",
   "id": "4d8f44d4",
   "metadata": {},
   "source": [
    "У цьому прикладі ми маємо квадратну матрицю a розміром 3x3. Слід матриці обчислюється як сума елементів на головній діагоналі, тобто 1 + 5 + 9, що дорівнює 15. Отже, слід матриці a дорівнює 15.\n",
    "\n",
    "Слід матриці має декілька важливих використань в лінійній алгебрі та матричних операціях. Наприклад, він може бути корисним при обчисленні власних значень та власних векторів матриці, а також у визначенні детермінанта матриці."
   ]
  },
  {
   "cell_type": "markdown",
   "id": "b3533949",
   "metadata": {},
   "source": [
    "#### Рішення Лінійних Систем Рівнянь:\n",
    "- **Формула**: `np.linalg.solve(A, b)`, де `A` - матриця коефіцієнтів, а `b` - вектор вільних членів.\n"
   ]
  },
  {
   "cell_type": "markdown",
   "id": "71a06e79",
   "metadata": {},
   "source": [
    "Рішення лінійних систем рівнянь є важливою задачею в лінійній алгебрі та чисельних методах. Для цього використовується формула np.linalg.solve(A, b), де A - матриця коефіцієнтів системи рівнянь, а b - вектор вільних членів. Давайте розглянемо приклад та пояснення цієї операції.\n",
    "\n",
    "\n",
    "Приклад:\n",
    "Розглянемо наступну систему лінійних рівнянь:\n",
    "```\n",
    "2x + y = 5\n",
    "3x - 2y = 8\n",
    "```\n",
    "Ми можемо представити цю систему у вигляді матриці коефіцієнтів A і вектора вільних членів b:"
   ]
  },
  {
   "cell_type": "code",
   "execution_count": 50,
   "id": "7e639862",
   "metadata": {},
   "outputs": [
    {
     "name": "stdout",
     "output_type": "stream",
     "text": [
      "Рішення системи рівнянь (x, y): [ 2.57142857 -0.14285714]\n"
     ]
    }
   ],
   "source": [
    "import numpy as np\n",
    "\n",
    "# Матриця коефіцієнтів A\n",
    "A = np.array([[2, 1],\n",
    "              [3, -2]])\n",
    "\n",
    "# Вектор вільних членів b\n",
    "b = np.array([5, 8])\n",
    "\n",
    "# Рішення системи рівнянь\n",
    "solution = np.linalg.solve(A, b)\n",
    "\n",
    "print(\"Рішення системи рівнянь (x, y):\", solution)"
   ]
  },
  {
   "cell_type": "markdown",
   "id": "ea74e33c",
   "metadata": {},
   "source": [
    "У цьому прикладі ми використали функцію np.linalg.solve(A, b) для знаходження розв'язку системи лінійних рівнянь. Результатом є вектор, який містить значення змінних x та y, що задовольняють обидві рівняння одночасно. У нашому випадку розв'язок буде x = 2 і y = 1.\n",
    "\n",
    "Функція np.linalg.solve розв'язує системи лінійних рівнянь ефективним чисельним методом і дуже корисна в багатьох областях, включаючи науку про дані, інженерію та фізику."
   ]
  },
  {
   "cell_type": "markdown",
   "id": "434850c8",
   "metadata": {},
   "source": [
    "#### Власні Значення та Власні Вектори:\n",
    "- **Функція**: `np.linalg.eig(a)` повертає кортеж з власних значень та власних векторів матриці `a`.\n"
   ]
  },
  {
   "cell_type": "markdown",
   "id": "09541f8d",
   "metadata": {},
   "source": [
    "Власні значення і власні вектори є важливими концепціями в лінійній алгебрі та матричних обчисленнях. Вони використовуються для аналізу та розв'язання численних задач у багатьох областях науки та інженерії. Функція np.linalg.eig(a) в бібліотеці NumPy дозволяє знайти власні значення і власні вектори матриці a. Давайте розглянемо приклади і пояснення цих концепцій.\n",
    "\n",
    "Приклад 1: Знаходження власних значень і власних векторів квадратної матриці"
   ]
  },
  {
   "cell_type": "code",
   "execution_count": 52,
   "id": "c7465c35",
   "metadata": {},
   "outputs": [
    {
     "name": "stdout",
     "output_type": "stream",
     "text": [
      "Власні значення: [4. 1.]\n",
      "Власні вектори:\n",
      "[[ 0.70710678 -0.4472136 ]\n",
      " [ 0.70710678  0.89442719]]\n"
     ]
    }
   ],
   "source": [
    "import numpy as np\n",
    "\n",
    "# Створення квадратної матриці 2x2\n",
    "a = np.array([[3, 1],\n",
    "              [2, 2]])\n",
    "\n",
    "# Знаходження власних значень і власних векторів\n",
    "eigenvalues, eigenvectors = np.linalg.eig(a)\n",
    "\n",
    "print(\"Власні значення:\", eigenvalues)\n",
    "print(\"Власні вектори:\")\n",
    "print(eigenvectors)"
   ]
  },
  {
   "cell_type": "markdown",
   "id": "513514b1",
   "metadata": {},
   "source": [
    "Власні значення (eigenvalues) матриці a - це числа, які характеризують, як матриця перетворює простір. Власні вектори (eigenvectors) - це вектори, які залишають свій напрям після цього перетворення.\n",
    "\n",
    "Приклад 2: Знаходження власних значень і власних векторів для симетричної матриці"
   ]
  },
  {
   "cell_type": "code",
   "execution_count": 53,
   "id": "e5f41740",
   "metadata": {},
   "outputs": [
    {
     "name": "stdout",
     "output_type": "stream",
     "text": [
      "Власні значення: [ 9.09783468  0.28620826 -0.38404294]\n",
      "Власні вектори:\n",
      "[[-0.32798528 -0.73697623  0.59100905]\n",
      " [-0.59100905 -0.32798528 -0.73697623]\n",
      " [-0.73697623  0.59100905  0.32798528]]\n"
     ]
    }
   ],
   "source": [
    "import numpy as np\n",
    "\n",
    "# Створення симетричної матриці 3x3\n",
    "b = np.array([[1, 2, 2],\n",
    "              [2, 3, 4],\n",
    "              [2, 4, 5]])\n",
    "\n",
    "# Знаходження власних значень і власних векторів\n",
    "eigenvalues, eigenvectors = np.linalg.eig(b)\n",
    "\n",
    "print(\"Власні значення:\", eigenvalues)\n",
    "print(\"Власні вектори:\")\n",
    "print(eigenvectors)"
   ]
  },
  {
   "cell_type": "markdown",
   "id": "10b9fafb",
   "metadata": {},
   "source": [
    "У цьому прикладі ми розглядаємо симетричну матрицю b. В такому випадку власні значення завжди є дійсними числами, і власні вектори є ортогональними один одному.\n",
    "\n",
    "Знання власних значень і власних векторів може бути корисним у багатьох задачах, таких як аналіз коливань в фізиці, розпізнавання образів в обробці зображень, розв'язання систем лінійних диференціальних рівнянь та багатьох інших."
   ]
  },
  {
   "cell_type": "markdown",
   "id": "a49b14a6",
   "metadata": {},
   "source": [
    "#### Обернена Матриця:\n",
    "- **Функція**: `np.linalg.inv(a)`.\n"
   ]
  },
  {
   "cell_type": "markdown",
   "id": "59fd9cfa",
   "metadata": {},
   "source": [
    "Обернена матриця - це матриця, яка, помножена на вихідну матрицю, дає одиничну матрицю. Обернена матриця дозволяє розв'язувати системи лінійних рівнянь, знаходити розв'язки та виконувати інші математичні операції. У бібліотеці NumPy функція np.linalg.inv(a) використовується для знаходження оберненої матриці. Давайте розглянемо приклади та пояснення цієї операції."
   ]
  },
  {
   "cell_type": "code",
   "execution_count": 54,
   "id": "4ebac906",
   "metadata": {},
   "outputs": [
    {
     "name": "stdout",
     "output_type": "stream",
     "text": [
      "Вихідна матриця:\n",
      "[[3 1]\n",
      " [2 4]]\n",
      "Обернена матриця:\n",
      "[[ 0.4 -0.1]\n",
      " [-0.2  0.3]]\n"
     ]
    }
   ],
   "source": [
    "import numpy as np\n",
    "\n",
    "# Створення квадратної матриці 2x2\n",
    "a = np.array([[3, 1],\n",
    "              [2, 4]])\n",
    "\n",
    "# Знаходження оберненої матриці\n",
    "inverse_a = np.linalg.inv(a)\n",
    "\n",
    "print(\"Вихідна матриця:\")\n",
    "print(a)\n",
    "print(\"Обернена матриця:\")\n",
    "print(inverse_a)"
   ]
  },
  {
   "cell_type": "markdown",
   "id": "9f00b3cb",
   "metadata": {},
   "source": [
    "Обернена матриця для матриці a обчислюється за допомогою функції np.linalg.inv(a). В результаті ми отримуємо матрицю, яка, помножена на вихідну матрицю a, дорівнює одиничній матриці. Обернена матриця дозволяє розв'язувати системи лінійних рівнянь та інші математичні операції, але важливо враховувати, що не всі матриці мають обернену.\n",
    "\n",
    "Приклад 2: Застосування оберненої матриці для розв'язання системи рівнянь"
   ]
  },
  {
   "cell_type": "code",
   "execution_count": 55,
   "id": "c9ad5018",
   "metadata": {},
   "outputs": [
    {
     "name": "stdout",
     "output_type": "stream",
     "text": [
      "Розв'язок системи рівнянь (x1, x2): [2.6 1.2]\n"
     ]
    }
   ],
   "source": [
    "import numpy as np\n",
    "\n",
    "# Створення матриці коефіцієнтів A та вектора вільних членів b\n",
    "A = np.array([[3, 1],\n",
    "              [2, 4]])\n",
    "\n",
    "b = np.array([9, 10])\n",
    "\n",
    "# Знаходження оберненої матриці A\n",
    "inverse_A = np.linalg.inv(A)\n",
    "\n",
    "# Розв'язання системи рівнянь Ax = b\n",
    "x = np.dot(inverse_A, b)\n",
    "\n",
    "print(\"Розв'язок системи рівнянь (x1, x2):\", x)"
   ]
  },
  {
   "cell_type": "markdown",
   "id": "5d73e4b2",
   "metadata": {},
   "source": [
    "У цьому прикладі ми спочатку знаходимо обернену матрицю inverse_A, а потім використовуємо її для розв'язання системи лінійних рівнянь Ax = b. Розв'язок цієї системи дає нам значення змінних x1 і x2."
   ]
  },
  {
   "cell_type": "markdown",
   "id": "68de99eb",
   "metadata": {},
   "source": [
    "#### Завдання для Самоперевірки\n",
    "1. **Створіть** дві матриці та **виконайте** їх множення.\n",
    "2. **Розрахуйте** визначник та ранг згенерованої матриці.\n",
    "3. **Знайдіть** слід матриці.\n",
    "4. **Розв'яжіть** лінійну систему рівнянь, створивши власну систему з двох рівнянь і двох невідомих.\n",
    "5. **Знайдіть** власні значення та власні вектори для квадратної матриці.\n",
    "6. **Створіть** квадратну матрицю та **знайдіть** її обернену матрицю.\n",
    "7. **Перевірте**, чи дійсно обернена матриця, отримана у попередньому пункті, є правильною (перемножте її з оригінальною матрицею).\n"
   ]
  },
  {
   "cell_type": "markdown",
   "id": "04e342d2",
   "metadata": {},
   "source": [
    "### Обробка Даних в NumPy\n"
   ]
  },
  {
   "cell_type": "markdown",
   "id": "f5c90dde",
   "metadata": {},
   "source": [
    "#### Використання Масивів для Обробки Даних:\n",
    "- **Завантаження даних у масиви**: Використання `np.loadtxt()` або `np.genfromtxt()` для читання даних з файлів.\n",
    "- **Застосування математичних та статистичних функцій**: `np.mean()`, `np.median()`, `np.std()`, `np.percentile()`.\n"
   ]
  },
  {
   "cell_type": "markdown",
   "id": "a763ab9d",
   "metadata": {},
   "source": [
    "Використання масивів для обробки даних є дуже поширеною задачею у наукових областях, програмуванні та аналізі даних. NumPy, бібліотека для чисельних обчислень в Python, надає засоби для завантаження, обробки і аналізу даних в масивах. Давайте розглянемо приклади та пояснення використання масивів для цих завдань.\n",
    "\n",
    "###### Збереження данних "
   ]
  },
  {
   "cell_type": "code",
   "execution_count": 59,
   "id": "b5495368",
   "metadata": {},
   "outputs": [],
   "source": [
    "x = np.arange(0.0,5.0,1.0)\n",
    "np.savetxt('data.txt', x)"
   ]
  },
  {
   "cell_type": "markdown",
   "id": "91914175",
   "metadata": {},
   "source": [
    "###### Завантаження даних у масиви:\n",
    "\n",
    "Приклад 1: Завантаження даних з текстового файлу за допомогою np.loadtxt()."
   ]
  },
  {
   "cell_type": "code",
   "execution_count": 60,
   "id": "534151d5",
   "metadata": {},
   "outputs": [
    {
     "name": "stdout",
     "output_type": "stream",
     "text": [
      "Завантажені дані:\n",
      "[0. 1. 2. 3. 4.]\n"
     ]
    }
   ],
   "source": [
    "import numpy as np\n",
    "\n",
    "# Завантаження даних з файлу \"data.txt\" (розділені пробілами) у масив\n",
    "data = np.loadtxt(\"data.txt\")\n",
    "\n",
    "print(\"Завантажені дані:\")\n",
    "print(data)"
   ]
  },
  {
   "cell_type": "markdown",
   "id": "c06c95e7",
   "metadata": {},
   "source": [
    "У цьому прикладі np.loadtxt() використовується для завантаження даних з файлу \"data.txt\" у масив data. Функція автоматично визначає типи даних та роздільники між значеннями.\n",
    "\n",
    "\n",
    "###### Застосування математичних та статистичних функцій:\n",
    "\n",
    "Приклад 2: Застосування функцій np.mean(), np.median(), np.std(), np.percentile() до масиву даних."
   ]
  },
  {
   "cell_type": "code",
   "execution_count": 61,
   "id": "41a39cf7",
   "metadata": {},
   "outputs": [
    {
     "name": "stdout",
     "output_type": "stream",
     "text": [
      "Середнє значення: 36.2\n",
      "Медіана: 32.5\n",
      "Стандартне відхилення: 20.118648065911387\n",
      "25-й перцентиль: 19.0\n",
      "75-й перцентиль: 51.25\n"
     ]
    }
   ],
   "source": [
    "import numpy as np\n",
    "\n",
    "# Створення масиву даних\n",
    "data = np.array([12, 15, 18, 22, 30, 35, 40, 55, 60, 75])\n",
    "\n",
    "# Обчислення середнього значення\n",
    "mean_value = np.mean(data)\n",
    "\n",
    "# Обчислення медіани\n",
    "median_value = np.median(data)\n",
    "\n",
    "# Обчислення стандартного відхилення\n",
    "std_deviation = np.std(data)\n",
    "\n",
    "# Обчислення 25-го та 75-го перцентилів\n",
    "percentile_25 = np.percentile(data, 25)\n",
    "percentile_75 = np.percentile(data, 75)\n",
    "\n",
    "print(\"Середнє значення:\", mean_value)\n",
    "print(\"Медіана:\", median_value)\n",
    "print(\"Стандартне відхилення:\", std_deviation)\n",
    "print(\"25-й перцентиль:\", percentile_25)\n",
    "print(\"75-й перцентиль:\", percentile_75)"
   ]
  },
  {
   "cell_type": "markdown",
   "id": "8f3ede25",
   "metadata": {},
   "source": [
    "У цьому прикладі ми використовуємо функції NumPy для обчислення різних статистичних параметрів масиву data, таких як середнє значення, медіана, стандартне відхилення та перцентилі.\n",
    "\n",
    "Ці інструменти дозволяють легко і ефективно обробляти та аналізувати дані в Python, що робить їх корисними для наукових досліджень, аналізу даних та інших завдань.\n",
    "\n",
    "\n",
    "* Середнє значення: 36.2\n",
    "Уяви, що ти ділиш цукерки між друзями. Середнє значення - це коли ти збираєш усі цукерки разом і ділиш їх порівну між усіма. У нашому випадку, якби цукерки були числами, кожен отримав би приблизно 36 цукерок.\n",
    "* Медіана: 32.5\n",
    "Уяви, що ти з друзями стоїш у ряд за зростом. Медіана - це зріст того, хто стоїть посередині. Тут це число 32.5, тобто половина чисел менша за 32.5, а половина - більша.\n",
    "* Стандартне відхилення: 20.12\n",
    "Це як \"середня відстань\" усіх чисел від середнього значення. Якщо уявити, що всі числа - це діти на ігровому майданчику, то стандартне відхилення показує, наскільки далеко вони розбіглися від центру майданчика.\n",
    "* 25-й перцентиль: 19.0\n",
    "Уяви, що ти роздаєш морозиво 100 дітям. 25-й перцентиль - це кількість морозива у 25-ї дитини, якщо рахувати від того, хто отримав найменше. Тут це 19, тобто 25 дітей отримали 19 або менше морозива.\n",
    "* 75-й перцентиль: 51.25\n",
    "А це кількість морозива у 75-ї дитини. 51.25 означає, що 75 дітей отримали 51.25 або менше морозива, а 25 дітей - більше."
   ]
  },
  {
   "cell_type": "markdown",
   "id": "dfaf1e4a",
   "metadata": {},
   "source": [
    "#### Функції для Статистичного Аналізу:\n",
    "- **Розрахунок кореляції**: `np.corrcoef()`.\n",
    "- **Розрахунок коваріації**: `np.cov()`.\n",
    "- **Стандартизація даних**: `(arr - np.mean(arr)) / np.std(arr)`.\n"
   ]
  },
  {
   "cell_type": "markdown",
   "id": "d57f0329",
   "metadata": {},
   "source": [
    "Статистичний аналіз даних важливий для виявлення зв'язків і закономірностей у наборі даних. Функції NumPy дозволяють виконувати різні операції для статистичного аналізу, такі як розрахунок кореляції, коваріації та стандартизації даних. Давайте розглянемо приклади та пояснення використання цих функцій.\n",
    "\n",
    "\n",
    "* Кореляція\n",
    "Уяви, що ти з другом їсте морозиво. Кореляція показує, чи ви їсте його однаково. Якщо ти їси багато, і твій друг теж їсть багато, або ти їси мало, і друг теж мало - це позитивна кореляція. Якщо ти їси багато, а друг мало (або навпаки) - це негативна кореляція. Якщо ваші звички не пов'язані - кореляції немає.\n",
    "* Коваріація\n",
    "Це схоже на кореляцію, але трохи складніше. Уяви, що ви з другом стрибаєте на батуті. Коваріація показує, чи стрибаєте ви в одному напрямку. Якщо ви обидва стрибаєте високо або обидва низько - коваріація позитивна. Якщо один високо, а інший низько - негативна.\n",
    "* Стандартизація даних\n",
    "Уяви, що в класі є високі і низькі діти. Стандартизація - це ніби всіх дітей \"вирівняли\" за зростом. Після цього ми можемо легко порівняти, хто вищий чи нижчий від середнього зросту в класі."
   ]
  },
  {
   "cell_type": "markdown",
   "id": "3b55fd35",
   "metadata": {},
   "source": [
    "###### Розрахунок кореляції:\n",
    "\n",
    "Приклад 1: Розрахунок кореляційної матриці за допомогою np.corrcoef()."
   ]
  },
  {
   "cell_type": "code",
   "execution_count": 62,
   "id": "6f5bab70",
   "metadata": {},
   "outputs": [
    {
     "name": "stdout",
     "output_type": "stream",
     "text": [
      "Кореляційна матриця:\n",
      "[[1.         0.83742252]\n",
      " [0.83742252 1.        ]]\n"
     ]
    }
   ],
   "source": [
    "import numpy as np\n",
    "\n",
    "# Створення двох масивів з оцінками для двох ознак (наприклад, оцінки за математику і фізику)\n",
    "math_scores = np.array([90, 85, 88, 92, 78])\n",
    "physics_scores = np.array([88, 87, 84, 90, 82])\n",
    "\n",
    "# Розрахунок кореляційної матриці\n",
    "correlation_matrix = np.corrcoef(math_scores, physics_scores)\n",
    "\n",
    "print(\"Кореляційна матриця:\")\n",
    "print(correlation_matrix)"
   ]
  },
  {
   "cell_type": "markdown",
   "id": "dc5977da",
   "metadata": {},
   "source": [
    "У цьому прикладі ми використовуємо функцію np.corrcoef() для розрахунку кореляційної матриці між двома масивами даних, які представляють оцінки за математику та фізику. Кореляційна матриця показує кореляційні коефіцієнти між ознаками. Значення на головній діагоналі будуть 1, оскільки кореляція між ознаками та самих собою завжди дорівнює 1.\n",
    "\n",
    "###### Розрахунок коваріації:\n",
    "\n",
    "Приклад 2: Розрахунок коваріації між двома масивами за допомогою np.cov()."
   ]
  },
  {
   "cell_type": "code",
   "execution_count": 63,
   "id": "64bf6321",
   "metadata": {},
   "outputs": [
    {
     "name": "stdout",
     "output_type": "stream",
     "text": [
      "Коваріація між математикою і фізикою:\n",
      "[[29.8 14.6]\n",
      " [14.6 10.2]]\n"
     ]
    }
   ],
   "source": [
    "import numpy as np\n",
    "\n",
    "# Створення двох масивів з оцінками для двох ознак (наприклад, оцінки за математику і фізику)\n",
    "math_scores = np.array([90, 85, 88, 92, 78])\n",
    "physics_scores = np.array([88, 87, 84, 90, 82])\n",
    "\n",
    "# Розрахунок коваріації між оцінками за математику і фізику\n",
    "covariance = np.cov(math_scores, physics_scores)\n",
    "\n",
    "print(\"Коваріація між математикою і фізикою:\")\n",
    "print(covariance)"
   ]
  },
  {
   "cell_type": "markdown",
   "id": "8f9ec8c5",
   "metadata": {},
   "source": [
    "У цьому прикладі ми використовуємо функцію np.cov() для розрахунку коваріації між двома масивами даних, які представляють оцінки за математику та фізику. Коваріація вказує на ступінь лінійного відношення між двома ознаками.\n",
    "\n",
    "###### Стандартизація даних:\n",
    "\n",
    "Приклад 3: Стандартизація масиву даних за допомогою формули (arr - np.mean(arr)) / np.std(arr)."
   ]
  },
  {
   "cell_type": "code",
   "execution_count": 65,
   "id": "d6b1f46c",
   "metadata": {},
   "outputs": [
    {
     "name": "stdout",
     "output_type": "stream",
     "text": [
      "Стандартизовані дані:\n",
      "[-1.61837995 -0.17339785  0.98258783 -0.65505855 -1.32938353  0.59725927\n",
      "  1.75324495  0.01926643 -0.36606213  0.78992355]\n"
     ]
    }
   ],
   "source": [
    "import numpy as np\n",
    "\n",
    "# Створення масиву з випадковими даними\n",
    "data = np.array([45, 60, 72, 55, 48, 68, 80, 62, 58, 70])\n",
    "\n",
    "# Стандартизація даних\n",
    "standardized_data = (data - np.mean(data)) / np.std(data)\n",
    "\n",
    "print(\"Стандартизовані дані:\")\n",
    "print(standardized_data)"
   ]
  },
  {
   "cell_type": "markdown",
   "id": "2dd50768",
   "metadata": {},
   "source": [
    "У цьому прикладі ми застосовуємо формулу стандартизації до масиву даних. Спершу віднімаємо середнє значення масиву (np.mean(data)) від кожного значення, а потім ділимо отримане значення на стандартне відхилення масиву (np.std(data)). Результат - стандартизовані дані, які мають середнє значення 0 і стандартне відхилення 1."
   ]
  },
  {
   "cell_type": "markdown",
   "id": "848a60fc",
   "metadata": {},
   "source": [
    "#### Обробка Пропущених Значень:\n",
    "- **Виявлення пропущених значень**: `np.isnan(arr)`.\n",
    "- **Заповнення пропущених значень**: `arr[np.isnan(arr)] = value`.\n"
   ]
  },
  {
   "cell_type": "markdown",
   "id": "c961615f",
   "metadata": {},
   "source": [
    "Обробка пропущених значень є важливим етапом в аналізі та обробці даних. NumPy надає зручні засоби для виявлення та заповнення пропущених значень в масивах даних. Давайте розглянемо приклади та пояснення використання цих функцій."
   ]
  },
  {
   "cell_type": "markdown",
   "id": "523f74b7",
   "metadata": {},
   "source": [
    "###### Виявлення пропущених значень:\n",
    "\n",
    "Приклад 1: Виявлення пропущених значень в масиві за допомогою np.isnan()."
   ]
  },
  {
   "cell_type": "code",
   "execution_count": 66,
   "id": "ccf08578",
   "metadata": {},
   "outputs": [
    {
     "name": "stdout",
     "output_type": "stream",
     "text": [
      "Масив пропущених значень:\n",
      "[False False False  True False  True False False]\n"
     ]
    }
   ],
   "source": [
    "import numpy as np\n",
    "\n",
    "# Створення масиву з даними, включаючи пропущене значення (NaN)\n",
    "data = np.array([12, 18, 15, np.nan, 24, np.nan, 30, 27])\n",
    "\n",
    "# Виявлення пропущених значень\n",
    "missing_values = np.isnan(data)\n",
    "\n",
    "print(\"Масив пропущених значень:\")\n",
    "print(missing_values)"
   ]
  },
  {
   "cell_type": "markdown",
   "id": "c1523598",
   "metadata": {},
   "source": [
    "У цьому прикладі функція np.isnan() використовується для виявлення пропущених значень в масиві data. Функція повертає масив булевих значень, де True вказує на наявність пропущених значень, а False - на наявність дійсних числових значень.\n",
    "\n",
    "###### Заповнення пропущених значень:\n",
    "\n",
    "Приклад 2: Заповнення пропущених значень певним значенням за допомогою індексації."
   ]
  },
  {
   "cell_type": "code",
   "execution_count": 67,
   "id": "48bd91d5",
   "metadata": {},
   "outputs": [
    {
     "name": "stdout",
     "output_type": "stream",
     "text": [
      "Масив з заповненими пропущеними значеннями:\n",
      "[12. 18. 15.  0. 24.  0. 30. 27.]\n"
     ]
    }
   ],
   "source": [
    "import numpy as np\n",
    "\n",
    "# Створення масиву з даними, включаючи пропущене значення (NaN)\n",
    "data = np.array([12, 18, 15, np.nan, 24, np.nan, 30, 27])\n",
    "\n",
    "# Заповнення пропущених значень значенням 0\n",
    "data[np.isnan(data)] = 0\n",
    "\n",
    "print(\"Масив з заповненими пропущеними значеннями:\")\n",
    "print(data)"
   ]
  },
  {
   "cell_type": "markdown",
   "id": "5e10f6cc",
   "metadata": {},
   "source": [
    "У цьому прикладі ми використовуємо індексацію масиву data[np.isnan(data)] для вибору всіх пропущених значень (де np.isnan(data) є True) і присвоюємо їм значення 0. Як результат, ми отримуємо масив, в якому пропущені значення заповнені заданим значенням (0 в цьому випадку).\n",
    "\n",
    "Ці функції дозволяють легко виявляти та обробляти пропущені значення в масивах даних, що є важливим завданням в аналізі та обробці даних."
   ]
  },
  {
   "cell_type": "markdown",
   "id": "02a78c9d",
   "metadata": {},
   "source": [
    "#### Сортування та Фільтрація:\n",
    "- **Сортування масивів**: `np.sort(arr)`.\n",
    "- **Умовна фільтрація**: Використання булевих масивів для фільтрації даних.\n"
   ]
  },
  {
   "cell_type": "markdown",
   "id": "2cb7cc47",
   "metadata": {},
   "source": [
    "Сортування та фільтрація є важливими операціями при обробці та аналізі даних. NumPy надає зручні засоби для сортування масивів та фільтрації даних з використанням булевих масивів. Давайте розглянемо приклади та пояснення цих операцій."
   ]
  },
  {
   "cell_type": "markdown",
   "id": "dcff5bb3",
   "metadata": {},
   "source": [
    "##### Сортування масивів:\n",
    "\n",
    "Приклад 1: Сортування масиву за допомогою np.sort()."
   ]
  },
  {
   "cell_type": "code",
   "execution_count": 69,
   "id": "bae0178b",
   "metadata": {},
   "outputs": [
    {
     "name": "stdout",
     "output_type": "stream",
     "text": [
      "Відсортований масив:\n",
      "[ 7 12 18 24 35 48 55 62]\n"
     ]
    }
   ],
   "source": [
    "import numpy as np\n",
    "\n",
    "# Створення масиву з випадковими числами\n",
    "arr = np.array([35, 12, 55, 7, 24, 48, 18, 62])\n",
    "\n",
    "# Сортування масиву в порядку зростання\n",
    "sorted_arr = np.sort(arr)\n",
    "\n",
    "print(\"Відсортований масив:\")\n",
    "print(sorted_arr)"
   ]
  },
  {
   "cell_type": "markdown",
   "id": "0e4b3d46",
   "metadata": {},
   "source": [
    "У цьому прикладі ми використовуємо функцію np.sort() для сортування масиву arr в порядку зростання. Функція повертає новий масив, в якому значення впорядковані.\n",
    "\n",
    "###### Умовна фільтрація:\n",
    "\n",
    "Приклад 2: Фільтрація масиву на основі умови за допомогою булевого масиву."
   ]
  },
  {
   "cell_type": "code",
   "execution_count": 70,
   "id": "9a751368",
   "metadata": {},
   "outputs": [
    {
     "name": "stdout",
     "output_type": "stream",
     "text": [
      "Масив, що відповідає умові:\n",
      "[35 55 48 62]\n"
     ]
    }
   ],
   "source": [
    "import numpy as np\n",
    "\n",
    "# Створення масиву з випадковими числами\n",
    "arr = np.array([35, 12, 55, 7, 24, 48, 18, 62])\n",
    "\n",
    "# Створення булевого масиву, де True відповідає числам більше 30\n",
    "condition = arr > 30\n",
    "\n",
    "# Фільтрація масиву на основі умови\n",
    "filtered_arr = arr[condition]\n",
    "\n",
    "print(\"Масив, що відповідає умові:\")\n",
    "print(filtered_arr)"
   ]
  },
  {
   "cell_type": "markdown",
   "id": "5ffb0666",
   "metadata": {},
   "source": [
    "У цьому прикладі ми створюємо булевий масив condition, де True відповідає елементам масиву arr, які більше 30. Потім ми використовуємо цей булевий масив для фільтрації arr за допомогою індексації. Результат - масив, що містить тільки ті значення, які відповідають умові.\n",
    "\n",
    "Ці операції дозволяють ефективно сортувати та фільтрувати дані, що є важливими завданнями в аналізі та обробці даних."
   ]
  },
  {
   "cell_type": "markdown",
   "id": "c29aecbe",
   "metadata": {},
   "source": [
    "#### Векторизація:\n",
    "- **Використання векторизованих операцій** для ефективної обробки даних без необхідності використання циклів.\n"
   ]
  },
  {
   "cell_type": "markdown",
   "id": "f849b3ce",
   "metadata": {},
   "source": [
    "Векторизація - це техніка, яка дозволяє виконувати операції на цілих масивах даних одночасно, без необхідності використання циклів або інших ітераційних конструкцій. В NumPy, бібліотеці для чисельних обчислень в Python, векторизовані операції реалізуються за допомогою масивів, що дозволяє вам ефективно обробляти великі об'єми даних. Давайте розглянемо приклади та пояснення векторизації.\n",
    "\n",
    "Приклад 1: Додавання двох масивів без векторизації."
   ]
  },
  {
   "cell_type": "code",
   "execution_count": 71,
   "id": "4ed0c17a",
   "metadata": {},
   "outputs": [
    {
     "name": "stdout",
     "output_type": "stream",
     "text": [
      "Результат додавання без векторизації:\n",
      "[11 22 33 44 55]\n"
     ]
    }
   ],
   "source": [
    "import numpy as np\n",
    "\n",
    "# Створення двох масивів\n",
    "a = np.array([1, 2, 3, 4, 5])\n",
    "b = np.array([10, 20, 30, 40, 50])\n",
    "\n",
    "# Додавання елементів масивів один до одного\n",
    "result = np.empty_like(a)\n",
    "for i in range(len(a)):\n",
    "    result[i] = a[i] + b[i]\n",
    "\n",
    "print(\"Результат додавання без векторизації:\")\n",
    "print(result)"
   ]
  },
  {
   "cell_type": "markdown",
   "id": "14cf9582",
   "metadata": {},
   "source": [
    "У цьому прикладі ми додаємо відповідні елементи двох масивів a і b за допомогою циклу. Це працює, але для великих масивів це може бути повільно.\n",
    "\n",
    "Приклад 2: Додавання двох масивів з векторизацією."
   ]
  },
  {
   "cell_type": "code",
   "execution_count": 72,
   "id": "7c7a0ec6",
   "metadata": {},
   "outputs": [
    {
     "name": "stdout",
     "output_type": "stream",
     "text": [
      "Результат додавання з векторизацією:\n",
      "[11 22 33 44 55]\n"
     ]
    }
   ],
   "source": [
    "import numpy as np\n",
    "\n",
    "# Створення двох масивів\n",
    "a = np.array([1, 2, 3, 4, 5])\n",
    "b = np.array([10, 20, 30, 40, 50])\n",
    "\n",
    "# Додавання елементів масивів за допомогою векторизованої операції\n",
    "result = a + b\n",
    "\n",
    "print(\"Результат додавання з векторизацією:\")\n",
    "print(result)"
   ]
  },
  {
   "cell_type": "markdown",
   "id": "ddd9cefd",
   "metadata": {},
   "source": [
    "У цьому прикладі ми просто додаємо масиви a і b, і операція виконується одночасно для всіх елементів. Це значно підвищує швидкість обчислень, особливо при роботі з великими об'ємами даних.\n",
    "\n",
    "Векторизація дозволяє писати більш зрозумливий та ефективний код, зменшує кількість потрібних ітерацій та полегшує обробку даних. У NumPy і інших бібліотеках для наукових обчислень векторизація є невід'ємною частиною для оптимізації обчислень."
   ]
  },
  {
   "cell_type": "markdown",
   "id": "994b320f",
   "metadata": {},
   "source": [
    "#### Завдання для Самоперевірки\n",
    "1. **Завантажте датасет** (наприклад, з файлу CSV) у NumPy масив і **виведіть основні статистики** (середнє, медіана, стандартне відхилення).\n",
    "2. **Розрахуйте кореляцію** між двома стовпцями датасету.\n",
    "3. **Стандартизуйте один із стовпців** датасету.\n",
    "4. **Ідентифікуйте та заповніть пропущені значення** в одному із стовпців.\n",
    "5. **Виконайте сортування** датасету за значеннями одного зі стовпців.\n",
    "6. **Фільтруйте дані**, використовуючи булеві умови (наприклад, виберіть всі записи, де значення в стовпці більше певного числа).\n",
    "7. **Застосуйте власну функцію** до елементів масиву з допомогою `np.vectorize`.\n"
   ]
  },
  {
   "cell_type": "markdown",
   "id": "f2fcc3eb",
   "metadata": {},
   "source": [
    "\n",
    "# Додаткові Матеріали та Ресурси для Вивчення NumPy\n",
    "\n",
    "## Офіційна Документація NumPy\n",
    "- **NumPy Documentation**: Офіційна документація є першим та найважливішим ресурсом. Вона включає пояснення всіх функцій, класів, і модулів, а також численні приклади.\n",
    "\n",
    "## Онлайн Курси та Навчальні Посібники\n",
    "- **Coursera, Udemy, edX**: Багато курсів по програмуванню в Python включають розділи про NumPy.\n",
    "- **Khan Academy**: Курси з математики та статистики, які можна використовувати для кращого розуміння фонових знань.\n",
    "\n",
    "## Книги\n",
    "- **\"Python for Data Analysis\"** автора Wes McKinney: Книга добре пояснює використання NumPy в контексті аналізу даних.\n",
    "- **\"Numerical Python\"** автора Robert Johansson: Включає більш глибоке розуміння чисельних методів у NumPy.\n",
    "\n",
    "## Інтерактивні Платформи\n",
    "- **DataCamp, Codecademy**: Інтерактивні платформи, де можна практикувати роботу з NumPy.\n",
    "\n",
    "## Відеоуроки\n",
    "- **YouTube**: Численні підручники та лекції, які можна знайти, використовуючи пошук \"NumPy tutorials\".\n",
    "\n",
    "## Форуми та Спільноти\n",
    "- **Stack Overflow**: Велика спільнота, де можна ставити питання та отримувати відповіді.\n",
    "- **GitHub**: Джерело для вивчення коду та участі у проектах, які використовують NumPy.\n"
   ]
  },
  {
   "cell_type": "code",
   "execution_count": null,
   "id": "abd14858",
   "metadata": {},
   "outputs": [],
   "source": []
  }
 ],
 "metadata": {
  "kernelspec": {
   "display_name": "Python 3 (ipykernel)",
   "language": "python",
   "name": "python3"
  },
  "language_info": {
   "codemirror_mode": {
    "name": "ipython",
    "version": 3
   },
   "file_extension": ".py",
   "mimetype": "text/x-python",
   "name": "python",
   "nbconvert_exporter": "python",
   "pygments_lexer": "ipython3",
   "version": "3.9.18"
  }
 },
 "nbformat": 4,
 "nbformat_minor": 5
}
