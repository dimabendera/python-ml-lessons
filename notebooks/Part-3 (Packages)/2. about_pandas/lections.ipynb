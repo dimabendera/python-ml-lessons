{
 "cells": [
  {
   "cell_type": "markdown",
   "id": "8f41cd59",
   "metadata": {},
   "source": [
    "# План вивчення бібліотеки Pandas \n",
    "1. Основи Pandas:\n",
    "    * Встановлення та імпорт Pandas.\n",
    "    * Основні структури даних: DataFrame та Series.\n",
    "\n",
    "2. Основні операції з DataFrame:\n",
    "    * Читання даних з різних джерел (CSV, Excel, SQL).\n",
    "    * Огляд даних: перегляд головних та хвостових рядків, опис статистик.\n",
    "    * Вибір даних за індексом, за назвами стовпців.\n",
    "    * Фільтрування даних.\n",
    "\n",
    "3. Обробка та очищення даних:\n",
    "    * Робота з пропущеними значеннями.\n",
    "    * Зміна типів даних.\n",
    "    * Перейменування стовпців.\n",
    "    * Групування даних і агрегування.\n",
    "\n",
    "4. Розширений аналіз даних:\n",
    "    * Об'єднання та злиття датасетів.\n",
    "    * Створення нових змінних.\n",
    "    * Використання методів apply і map.\n",
    "    * Візуалізація даних з використанням Pandas.\n",
    "   \n",
    "5. Практичні проекти:\n",
    "    * Аналіз реальних наборів даних.\n",
    "    * Робота з великими датасетами.\n",
    "    * Автоматизація повсякденних завдань аналізу даних.\n",
    "\n",
    "6. Додаткові теми:\n",
    "    * Оптимізація продуктивності.\n",
    "    * Інтеграція з іншими бібліотеками (наприклад, NumPy, Matplotlib).\n"
   ]
  },
  {
   "cell_type": "markdown",
   "id": "7516b13c",
   "metadata": {},
   "source": [
    "#  Основи Pandas"
   ]
  },
  {
   "cell_type": "markdown",
   "id": "88915fe6",
   "metadata": {},
   "source": [
    "Встановлення та Імпорт Pandas\n",
    "\n",
    "Pandas - це потужна бібліотека для аналізу даних у Python. Для її встановлення використовуйте менеджер пакетів pip:\n",
    "    \n",
    "```\n",
    "pip install pandas\n",
    "```\n",
    "\n",
    "Після встановлення, імпортуйте бібліотеку в свій проект:"
   ]
  },
  {
   "cell_type": "code",
   "execution_count": 2,
   "id": "f83f1eca",
   "metadata": {},
   "outputs": [],
   "source": [
    "import pandas as pd"
   ]
  },
  {
   "cell_type": "markdown",
   "id": "e6990e62",
   "metadata": {},
   "source": [
    "pd - це загальноприйняте скорочення для Pandas, яке дозволяє легко звертатися до функцій бібліотеки.\n",
    "\n",
    "Основні Структури Даних: DataFrame та Series\n",
    "    \n",
    "<b>DataFrame</b>\n",
    "\n",
    "DataFrame - це двовимірна, розмірно змінна, потенційно гетерогенна таблична структура даних з маркованими осями (рядки та стовпці). Можна уявити як ексель-таблицю.\n",
    "\n",
    "<b>Приклад створення DataFrame:</b>"
   ]
  },
  {
   "cell_type": "code",
   "execution_count": 3,
   "id": "9c421132",
   "metadata": {},
   "outputs": [],
   "source": [
    "data = {\n",
    "    \"Name\": [\"Anna\", \"Bob\", \"Charles\"],\n",
    "    \"Age\": [28, 35, 22],\n",
    "    \"City\": [\"Kyiv\", \"Lviv\", \"Odesa\"]\n",
    "}\n",
    "df = pd.DataFrame(data)"
   ]
  },
  {
   "cell_type": "markdown",
   "id": "d34522a8",
   "metadata": {},
   "source": [
    "<b>Series</b>\n",
    "\n",
    "Series - це одновимірний масив з будь-яким типом даних\n",
    "\n",
    "<b>Приклад створення Series:</b>"
   ]
  },
  {
   "cell_type": "code",
   "execution_count": 5,
   "id": "63b4e76a",
   "metadata": {},
   "outputs": [],
   "source": [
    "ages = pd.Series([28, 35, 22], name=\"Age\")"
   ]
  },
  {
   "cell_type": "markdown",
   "id": "506e89f0",
   "metadata": {},
   "source": [
    "### Завдання для Самоперевірки\n",
    "1. Створення DataFrame та Series:\n",
    "    * Створіть Series з іменами людей.\n",
    "    * Створіть DataFrame зі стовпцями: Name, Age, City. Заповніть його даними."
   ]
  },
  {
   "cell_type": "markdown",
   "id": "8b239a23",
   "metadata": {},
   "source": [
    "# Основні Операції з DataFrame"
   ]
  },
  {
   "cell_type": "markdown",
   "id": "f6ba3619",
   "metadata": {},
   "source": [
    "Читання Даних з Різних Джерел\n",
    "Pandas дозволяє з легкістю читати дані з різноманітних джерел, таких як CSV, Excel та SQL бази даних.\n",
    "\n",
    "Читання з CSV:"
   ]
  },
  {
   "cell_type": "code",
   "execution_count": 8,
   "id": "15af86d7",
   "metadata": {},
   "outputs": [],
   "source": [
    "df_csv = pd.read_csv('шлях/до/файлу.csv')"
   ]
  },
  {
   "cell_type": "markdown",
   "id": "b302b4c9",
   "metadata": {},
   "source": [
    "Читання з Excel:"
   ]
  },
  {
   "cell_type": "code",
   "execution_count": null,
   "id": "9b402096",
   "metadata": {},
   "outputs": [],
   "source": [
    "df_excel = pd.read_excel('шлях/до/файлу.xlsx')"
   ]
  },
  {
   "cell_type": "markdown",
   "id": "969eb97f",
   "metadata": {},
   "source": [
    "Читання з SQL бази даних:"
   ]
  },
  {
   "cell_type": "code",
   "execution_count": null,
   "id": "8599b94b",
   "metadata": {},
   "outputs": [],
   "source": [
    "from sqlalchemy import create_engine\n",
    "engine = create_engine('sqlite:///шлях/до/бази.db')\n",
    "df_sql = pd.read_sql('SELECT * FROM таблиця', con=engine)"
   ]
  },
  {
   "cell_type": "markdown",
   "id": "26046d1a",
   "metadata": {},
   "source": [
    "Огляд Даних\n",
    "Огляд даних включає в себе перегляд головних та хвостових рядків, а також отримання описових статистик."
   ]
  },
  {
   "cell_type": "code",
   "execution_count": 13,
   "id": "f0e39352",
   "metadata": {},
   "outputs": [],
   "source": [
    "data = {\n",
    "    \"Name\": [\"Anna\", \"Bob\", \"Charles\", \"Ivan\", \"Denis\", \"Dmitro\"],\n",
    "    \"Age\": [28, 35, 22, 18, 23, 67],\n",
    "    \"City\": [\"Kyiv\", \"Lviv\", \"Odesa\", \"Seul\", \"Amsterdam\", \"New York\"]\n",
    "}\n",
    "df = pd.DataFrame(data)"
   ]
  },
  {
   "cell_type": "markdown",
   "id": "a53c414e",
   "metadata": {},
   "source": [
    "Перегляд рядків:"
   ]
  },
  {
   "cell_type": "code",
   "execution_count": 14,
   "id": "4e7da2ea",
   "metadata": {},
   "outputs": [
    {
     "data": {
      "text/html": [
       "<div>\n",
       "<style scoped>\n",
       "    .dataframe tbody tr th:only-of-type {\n",
       "        vertical-align: middle;\n",
       "    }\n",
       "\n",
       "    .dataframe tbody tr th {\n",
       "        vertical-align: top;\n",
       "    }\n",
       "\n",
       "    .dataframe thead th {\n",
       "        text-align: right;\n",
       "    }\n",
       "</style>\n",
       "<table border=\"1\" class=\"dataframe\">\n",
       "  <thead>\n",
       "    <tr style=\"text-align: right;\">\n",
       "      <th></th>\n",
       "      <th>Name</th>\n",
       "      <th>Age</th>\n",
       "      <th>City</th>\n",
       "    </tr>\n",
       "  </thead>\n",
       "  <tbody>\n",
       "    <tr>\n",
       "      <th>0</th>\n",
       "      <td>Anna</td>\n",
       "      <td>28</td>\n",
       "      <td>Kyiv</td>\n",
       "    </tr>\n",
       "    <tr>\n",
       "      <th>1</th>\n",
       "      <td>Bob</td>\n",
       "      <td>35</td>\n",
       "      <td>Lviv</td>\n",
       "    </tr>\n",
       "    <tr>\n",
       "      <th>2</th>\n",
       "      <td>Charles</td>\n",
       "      <td>22</td>\n",
       "      <td>Odesa</td>\n",
       "    </tr>\n",
       "    <tr>\n",
       "      <th>3</th>\n",
       "      <td>Ivan</td>\n",
       "      <td>18</td>\n",
       "      <td>Seul</td>\n",
       "    </tr>\n",
       "    <tr>\n",
       "      <th>4</th>\n",
       "      <td>Denis</td>\n",
       "      <td>23</td>\n",
       "      <td>Amsterdam</td>\n",
       "    </tr>\n",
       "  </tbody>\n",
       "</table>\n",
       "</div>"
      ],
      "text/plain": [
       "      Name  Age       City\n",
       "0     Anna   28       Kyiv\n",
       "1      Bob   35       Lviv\n",
       "2  Charles   22      Odesa\n",
       "3     Ivan   18       Seul\n",
       "4    Denis   23  Amsterdam"
      ]
     },
     "execution_count": 14,
     "metadata": {},
     "output_type": "execute_result"
    }
   ],
   "source": [
    "df.head()  # Перші 5 рядків"
   ]
  },
  {
   "cell_type": "code",
   "execution_count": 15,
   "id": "fc7c8b73",
   "metadata": {},
   "outputs": [
    {
     "data": {
      "text/html": [
       "<div>\n",
       "<style scoped>\n",
       "    .dataframe tbody tr th:only-of-type {\n",
       "        vertical-align: middle;\n",
       "    }\n",
       "\n",
       "    .dataframe tbody tr th {\n",
       "        vertical-align: top;\n",
       "    }\n",
       "\n",
       "    .dataframe thead th {\n",
       "        text-align: right;\n",
       "    }\n",
       "</style>\n",
       "<table border=\"1\" class=\"dataframe\">\n",
       "  <thead>\n",
       "    <tr style=\"text-align: right;\">\n",
       "      <th></th>\n",
       "      <th>Name</th>\n",
       "      <th>Age</th>\n",
       "      <th>City</th>\n",
       "    </tr>\n",
       "  </thead>\n",
       "  <tbody>\n",
       "    <tr>\n",
       "      <th>1</th>\n",
       "      <td>Bob</td>\n",
       "      <td>35</td>\n",
       "      <td>Lviv</td>\n",
       "    </tr>\n",
       "    <tr>\n",
       "      <th>2</th>\n",
       "      <td>Charles</td>\n",
       "      <td>22</td>\n",
       "      <td>Odesa</td>\n",
       "    </tr>\n",
       "    <tr>\n",
       "      <th>3</th>\n",
       "      <td>Ivan</td>\n",
       "      <td>18</td>\n",
       "      <td>Seul</td>\n",
       "    </tr>\n",
       "    <tr>\n",
       "      <th>4</th>\n",
       "      <td>Denis</td>\n",
       "      <td>23</td>\n",
       "      <td>Amsterdam</td>\n",
       "    </tr>\n",
       "    <tr>\n",
       "      <th>5</th>\n",
       "      <td>Dmitro</td>\n",
       "      <td>67</td>\n",
       "      <td>New York</td>\n",
       "    </tr>\n",
       "  </tbody>\n",
       "</table>\n",
       "</div>"
      ],
      "text/plain": [
       "      Name  Age       City\n",
       "1      Bob   35       Lviv\n",
       "2  Charles   22      Odesa\n",
       "3     Ivan   18       Seul\n",
       "4    Denis   23  Amsterdam\n",
       "5   Dmitro   67   New York"
      ]
     },
     "execution_count": 15,
     "metadata": {},
     "output_type": "execute_result"
    }
   ],
   "source": [
    "df.tail()  # Останні 5 рядків"
   ]
  },
  {
   "cell_type": "markdown",
   "id": "0625537b",
   "metadata": {},
   "source": [
    "Описові статистики:"
   ]
  },
  {
   "cell_type": "code",
   "execution_count": 18,
   "id": "567f21b8",
   "metadata": {},
   "outputs": [
    {
     "data": {
      "text/html": [
       "<div>\n",
       "<style scoped>\n",
       "    .dataframe tbody tr th:only-of-type {\n",
       "        vertical-align: middle;\n",
       "    }\n",
       "\n",
       "    .dataframe tbody tr th {\n",
       "        vertical-align: top;\n",
       "    }\n",
       "\n",
       "    .dataframe thead th {\n",
       "        text-align: right;\n",
       "    }\n",
       "</style>\n",
       "<table border=\"1\" class=\"dataframe\">\n",
       "  <thead>\n",
       "    <tr style=\"text-align: right;\">\n",
       "      <th></th>\n",
       "      <th>Age</th>\n",
       "    </tr>\n",
       "  </thead>\n",
       "  <tbody>\n",
       "    <tr>\n",
       "      <th>count</th>\n",
       "      <td>6.000000</td>\n",
       "    </tr>\n",
       "    <tr>\n",
       "      <th>mean</th>\n",
       "      <td>32.166667</td>\n",
       "    </tr>\n",
       "    <tr>\n",
       "      <th>std</th>\n",
       "      <td>18.037923</td>\n",
       "    </tr>\n",
       "    <tr>\n",
       "      <th>min</th>\n",
       "      <td>18.000000</td>\n",
       "    </tr>\n",
       "    <tr>\n",
       "      <th>25%</th>\n",
       "      <td>22.250000</td>\n",
       "    </tr>\n",
       "    <tr>\n",
       "      <th>50%</th>\n",
       "      <td>25.500000</td>\n",
       "    </tr>\n",
       "    <tr>\n",
       "      <th>75%</th>\n",
       "      <td>33.250000</td>\n",
       "    </tr>\n",
       "    <tr>\n",
       "      <th>max</th>\n",
       "      <td>67.000000</td>\n",
       "    </tr>\n",
       "  </tbody>\n",
       "</table>\n",
       "</div>"
      ],
      "text/plain": [
       "             Age\n",
       "count   6.000000\n",
       "mean   32.166667\n",
       "std    18.037923\n",
       "min    18.000000\n",
       "25%    22.250000\n",
       "50%    25.500000\n",
       "75%    33.250000\n",
       "max    67.000000"
      ]
     },
     "execution_count": 18,
     "metadata": {},
     "output_type": "execute_result"
    }
   ],
   "source": [
    "df.describe()"
   ]
  },
  {
   "cell_type": "markdown",
   "id": "1cb7f573",
   "metadata": {},
   "source": [
    "Вибір Даних за Індексом, за Назвами Стовпців\n",
    "Вибір певних даних є ключовою операцією при аналізі.\n",
    "\n",
    "Вибір за назвами стовпців:"
   ]
  },
  {
   "cell_type": "code",
   "execution_count": 20,
   "id": "05be3523",
   "metadata": {},
   "outputs": [
    {
     "data": {
      "text/plain": [
       "0       Anna\n",
       "1        Bob\n",
       "2    Charles\n",
       "3       Ivan\n",
       "4      Denis\n",
       "5     Dmitro\n",
       "Name: Name, dtype: object"
      ]
     },
     "execution_count": 20,
     "metadata": {},
     "output_type": "execute_result"
    }
   ],
   "source": [
    "names = df['Name']\n",
    "names"
   ]
  },
  {
   "cell_type": "markdown",
   "id": "180b58f6",
   "metadata": {},
   "source": [
    "Вибір за індексом:"
   ]
  },
  {
   "cell_type": "code",
   "execution_count": 22,
   "id": "28bcfcbf",
   "metadata": {},
   "outputs": [
    {
     "data": {
      "text/plain": [
       "Name    Anna\n",
       "Age       28\n",
       "City    Kyiv\n",
       "Name: 0, dtype: object"
      ]
     },
     "execution_count": 22,
     "metadata": {},
     "output_type": "execute_result"
    }
   ],
   "source": [
    "first_row = df.iloc[0]  # Перший рядок\n",
    "first_row"
   ]
  },
  {
   "cell_type": "code",
   "execution_count": 24,
   "id": "1889e58e",
   "metadata": {},
   "outputs": [
    {
     "data": {
      "text/plain": [
       "'Anna'"
      ]
     },
     "execution_count": 24,
     "metadata": {},
     "output_type": "execute_result"
    }
   ],
   "source": [
    "specific_cell = df.at[0, 'Name']  # Конкретна клітина\n",
    "specific_cell"
   ]
  },
  {
   "cell_type": "markdown",
   "id": "6984c05d",
   "metadata": {},
   "source": [
    "Фільтрування Даних\n",
    "\n",
    "Фільтрування даних - це процес вибору рядків, які задовольняють певні критерії.\n",
    "\n",
    "Приклад фільтрування:"
   ]
  },
  {
   "cell_type": "code",
   "execution_count": 26,
   "id": "2731a286",
   "metadata": {},
   "outputs": [
    {
     "data": {
      "text/html": [
       "<div>\n",
       "<style scoped>\n",
       "    .dataframe tbody tr th:only-of-type {\n",
       "        vertical-align: middle;\n",
       "    }\n",
       "\n",
       "    .dataframe tbody tr th {\n",
       "        vertical-align: top;\n",
       "    }\n",
       "\n",
       "    .dataframe thead th {\n",
       "        text-align: right;\n",
       "    }\n",
       "</style>\n",
       "<table border=\"1\" class=\"dataframe\">\n",
       "  <thead>\n",
       "    <tr style=\"text-align: right;\">\n",
       "      <th></th>\n",
       "      <th>Name</th>\n",
       "      <th>Age</th>\n",
       "      <th>City</th>\n",
       "    </tr>\n",
       "  </thead>\n",
       "  <tbody>\n",
       "    <tr>\n",
       "      <th>1</th>\n",
       "      <td>Bob</td>\n",
       "      <td>35</td>\n",
       "      <td>Lviv</td>\n",
       "    </tr>\n",
       "    <tr>\n",
       "      <th>5</th>\n",
       "      <td>Dmitro</td>\n",
       "      <td>67</td>\n",
       "      <td>New York</td>\n",
       "    </tr>\n",
       "  </tbody>\n",
       "</table>\n",
       "</div>"
      ],
      "text/plain": [
       "     Name  Age      City\n",
       "1     Bob   35      Lviv\n",
       "5  Dmitro   67  New York"
      ]
     },
     "execution_count": 26,
     "metadata": {},
     "output_type": "execute_result"
    }
   ],
   "source": [
    "filtered_df = df[df['Age'] > 30]\n",
    "filtered_df"
   ]
  },
  {
   "cell_type": "markdown",
   "id": "374c3f55",
   "metadata": {},
   "source": [
    "### Завдання для Самоперевірки\n",
    "1. Читання Даних:\n",
    "    * Читайте дані з CSV файлу, який ви знайдете в інтернеті або створите самостійно.\n",
    "    * Спробуйте прочитати Excel файл.\n",
    "\n",
    "\n",
    "2. Огляд Даних:\n",
    "    * Виконайте head, tail, і describe на вашому DataFrame.\n",
    "    * Знайдіть кількість рядків та стовпців у DataFrame.\n",
    "\n",
    "\n",
    "3. Вибір та Фільтрування:\n",
    "    * Виберіть один стовпець за назвою.\n",
    "    * Створіть новий DataFrame, в якому зберігатимуться лише ті рядки, де вік більше 25.\n"
   ]
  },
  {
   "cell_type": "markdown",
   "id": "478a5697",
   "metadata": {},
   "source": [
    "# Обробка та Очищення Даних"
   ]
  },
  {
   "cell_type": "markdown",
   "id": "c8b42921",
   "metadata": {},
   "source": [
    "Робота з Пропущеними Значеннями\n",
    "Пропущені значення можуть суттєво вплинути на аналіз даних. Pandas пропонує різні способи їх обробки.\n",
    "\n",
    "Знаходження пропущених значень:"
   ]
  },
  {
   "cell_type": "code",
   "execution_count": 28,
   "id": "14428a5b",
   "metadata": {},
   "outputs": [
    {
     "data": {
      "text/html": [
       "<div>\n",
       "<style scoped>\n",
       "    .dataframe tbody tr th:only-of-type {\n",
       "        vertical-align: middle;\n",
       "    }\n",
       "\n",
       "    .dataframe tbody tr th {\n",
       "        vertical-align: top;\n",
       "    }\n",
       "\n",
       "    .dataframe thead th {\n",
       "        text-align: right;\n",
       "    }\n",
       "</style>\n",
       "<table border=\"1\" class=\"dataframe\">\n",
       "  <thead>\n",
       "    <tr style=\"text-align: right;\">\n",
       "      <th></th>\n",
       "      <th>Name</th>\n",
       "      <th>Age</th>\n",
       "      <th>City</th>\n",
       "    </tr>\n",
       "  </thead>\n",
       "  <tbody>\n",
       "    <tr>\n",
       "      <th>0</th>\n",
       "      <td>False</td>\n",
       "      <td>False</td>\n",
       "      <td>False</td>\n",
       "    </tr>\n",
       "    <tr>\n",
       "      <th>1</th>\n",
       "      <td>False</td>\n",
       "      <td>False</td>\n",
       "      <td>False</td>\n",
       "    </tr>\n",
       "    <tr>\n",
       "      <th>2</th>\n",
       "      <td>False</td>\n",
       "      <td>False</td>\n",
       "      <td>False</td>\n",
       "    </tr>\n",
       "    <tr>\n",
       "      <th>3</th>\n",
       "      <td>False</td>\n",
       "      <td>False</td>\n",
       "      <td>False</td>\n",
       "    </tr>\n",
       "    <tr>\n",
       "      <th>4</th>\n",
       "      <td>False</td>\n",
       "      <td>False</td>\n",
       "      <td>False</td>\n",
       "    </tr>\n",
       "    <tr>\n",
       "      <th>5</th>\n",
       "      <td>False</td>\n",
       "      <td>False</td>\n",
       "      <td>False</td>\n",
       "    </tr>\n",
       "  </tbody>\n",
       "</table>\n",
       "</div>"
      ],
      "text/plain": [
       "    Name    Age   City\n",
       "0  False  False  False\n",
       "1  False  False  False\n",
       "2  False  False  False\n",
       "3  False  False  False\n",
       "4  False  False  False\n",
       "5  False  False  False"
      ]
     },
     "execution_count": 28,
     "metadata": {},
     "output_type": "execute_result"
    }
   ],
   "source": [
    "missing_values = df.isnull()\n",
    "missing_values"
   ]
  },
  {
   "cell_type": "markdown",
   "id": "9d5f4a26",
   "metadata": {},
   "source": [
    "Видалення рядків/стовпців з пропущеними значеннями:"
   ]
  },
  {
   "cell_type": "code",
   "execution_count": null,
   "id": "79f7c97a",
   "metadata": {},
   "outputs": [],
   "source": [
    "df_cleaned = df.dropna()  # Видалення рядків"
   ]
  },
  {
   "cell_type": "code",
   "execution_count": 29,
   "id": "e7143dc5",
   "metadata": {},
   "outputs": [],
   "source": [
    "df_cleaned_columns = df.dropna(axis=1)  # Видалення стовпців"
   ]
  },
  {
   "cell_type": "markdown",
   "id": "15112989",
   "metadata": {},
   "source": [
    "Заповнення пропущених значень:"
   ]
  },
  {
   "cell_type": "code",
   "execution_count": 30,
   "id": "151e525e",
   "metadata": {},
   "outputs": [],
   "source": [
    "df_filled = df.fillna(0)  # Заповнення нулями"
   ]
  },
  {
   "cell_type": "code",
   "execution_count": 31,
   "id": "14e085ac",
   "metadata": {},
   "outputs": [
    {
     "name": "stderr",
     "output_type": "stream",
     "text": [
      "2024-01-12 23:13:16,317 [790431] WARNING  py.warnings:109: [JupyterRequire] <ipython-input-31-b11c59d14fbe>:1: FutureWarning: The default value of numeric_only in DataFrame.mean is deprecated. In a future version, it will default to False. In addition, specifying 'numeric_only=None' is deprecated. Select only valid columns or specify the value of numeric_only to silence this warning.\n",
      "  df_filled_mean = df.fillna(df.mean())  # Заповнення середнім значенням\n",
      "\n"
     ]
    }
   ],
   "source": [
    "df_filled_mean = df.fillna(df.mean())  # Заповнення середнім значенням"
   ]
  },
  {
   "cell_type": "markdown",
   "id": "36cdee95",
   "metadata": {},
   "source": [
    "Зміна Типів Даних\n",
    "\n",
    "Зміна типів даних важлива для коректної обробки та аналізу даних.\n",
    "\n",
    "Зміна типу даних стовпця:"
   ]
  },
  {
   "cell_type": "code",
   "execution_count": 32,
   "id": "598970dd",
   "metadata": {},
   "outputs": [],
   "source": [
    "df['Age'] = df['Age'].astype(float)"
   ]
  },
  {
   "cell_type": "markdown",
   "id": "53bfc8c3",
   "metadata": {},
   "source": [
    "Перейменування Стовпців\n",
    "\n",
    "Перейменування стовпців може бути корисним для зручності або стандартизації.\n",
    "\n",
    "Перейменування стовпців:"
   ]
  },
  {
   "cell_type": "code",
   "execution_count": null,
   "id": "62667c20",
   "metadata": {},
   "outputs": [],
   "source": [
    "df.rename(columns={'OldName1': 'NewName1', 'OldName2': 'NewName2'}, inplace=True)"
   ]
  },
  {
   "cell_type": "markdown",
   "id": "33ebb89d",
   "metadata": {},
   "source": [
    "Групування Даних і Агрегування\n",
    "\n",
    "Групування даних - це процес об'єднання рядків на основі однієї або декількох змінних та обчислення агрегованих статистик в кожній групі."
   ]
  },
  {
   "cell_type": "code",
   "execution_count": null,
   "id": "5a6657a4",
   "metadata": {},
   "outputs": [],
   "source": []
  }
 ],
 "metadata": {
  "kernelspec": {
   "display_name": "Python 3",
   "language": "python",
   "name": "python3"
  },
  "language_info": {
   "codemirror_mode": {
    "name": "ipython",
    "version": 3
   },
   "file_extension": ".py",
   "mimetype": "text/x-python",
   "name": "python",
   "nbconvert_exporter": "python",
   "pygments_lexer": "ipython3",
   "version": "3.8.10"
  }
 },
 "nbformat": 4,
 "nbformat_minor": 5
}
