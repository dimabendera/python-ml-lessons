{
 "cells": [
  {
   "cell_type": "markdown",
   "id": "958d94d0",
   "metadata": {},
   "source": [
    "Косинусна подібність (cosine similarity) — це міра подібності між двома ненульовими векторами у внутрішньому просторі, яка вимірює косинус кута між ними. Ця міра варіює від -1 до 1, де 1 означає, що вектори спрямовані в одному напрямку (ідентичні), 0 означає, що вектори ортогональні (не пов'язані), а -1 означає, що вектори спрямовані в протилежних напрямках.\n",
    "\n",
    "Формула косинусної подібності для двох векторів A та B виглядає так:"
   ]
  },
  {
   "cell_type": "markdown",
   "id": "5d699413",
   "metadata": {},
   "source": [
    "<img src=\"https://wikimedia.org/api/rest_v1/media/math/render/svg/8824e32cf3231efb52d53818b7f0e551f8179f46\"></img>"
   ]
  },
  {
   "cell_type": "markdown",
   "id": "1c604de4",
   "metadata": {},
   "source": [
    "Просте пояснення сенсу\n",
    "\n",
    "Уявімо, що у нас є два стрілки, які вказують у різних напрямках. Якщо обидві стрілки вказують у одному і тому ж напрямку, то вони \"схожі\". Якщо стрілки вказують у протилежних напрямках, то вони \"різні\". Якщо стрілки вказують у різних напрямках, але не прямо проти одна одної, то вони \"трохи схожі\".\n",
    "\n",
    "Косинусна подібність — це спосіб вимірювання, наскільки дві стрілки \"схожі\" одна на одну. Це як вимірювання кута між двома стрілками. Якщо кут дорівнює 0 градусів (стрілки вказують у одному напрямку), вони максимально схожі. Якщо кут дорівнює 180 градусів (стрілки вказують у протилежних напрямках), вони максимально різні.\n",
    "\n",
    "Отже, косинусна подібність — це як \"гра в кути\", де ми дивимося, наскільки близько дві стрілки вказують у одному напрямку!"
   ]
  },
  {
   "cell_type": "code",
   "execution_count": 5,
   "id": "cdb09e59",
   "metadata": {},
   "outputs": [
    {
     "name": "stdout",
     "output_type": "stream",
     "text": [
      "Counter({'я': 1, 'люблю': 1, 'програмування': 1, '(Я)': 1})\n",
      "Counter({'програмування': 1, 'це': 1, 'цікаво': 1})\n",
      "0.2886751345948129\n"
     ]
    }
   ],
   "source": [
    "from math import sqrt\n",
    "from collections import Counter\n",
    "\n",
    "\n",
    "def cos_sim(str1, str2):\n",
    "    # Розбиваємо рядки на слова (words1  words2) за допомогою split для str1 str2\n",
    "    words1 = str1.split()\n",
    "    words2 = str2.split()\n",
    "    \n",
    "    # Створюємо словники(counter1 counter2) з кількістю входжень для кожного слова для words1 words2\n",
    "    counter1 = Counter(words1)\n",
    "    counter2 = Counter(words2)\n",
    "    print(counter1)\n",
    "    print(counter2)\n",
    "    \n",
    "    # Об'єднуємо ключи словники\n",
    "    all_words = set(counter1.keys()).union(set(counter2.keys()))\n",
    "    \n",
    "    # Створюємо вектори для обох рядків\n",
    "    vector1 = [counter1.get(word, 0) for word in all_words]\n",
    "    vector2 = [counter2.get(word, 0) for word in all_words]\n",
    "    \n",
    "    # Обчислюємо косинусну подібність\n",
    "    dot_product = sum([vector1[i] * vector2[i] for i in range(len(vector1))])\n",
    "    magnitude1 = sqrt(sum([vector1[i]**2 for i in range(len(vector1))]))\n",
    "    magnitude2 = sqrt(sum([vector2[i]**2 for i in range(len(vector2))]))\n",
    "    \n",
    "    if not magnitude1 or not magnitude2:\n",
    "        return 0\n",
    "    \n",
    "    return dot_product / (magnitude1 * magnitude2)\n",
    "\n",
    "# Тест\n",
    "str1 = \"я люблю програмування\"\n",
    "str2 = \"програмування це цікаво\"\n",
    "print(cos_sim(str1, str2))"
   ]
  },
  {
   "cell_type": "code",
   "execution_count": null,
   "id": "f859d324",
   "metadata": {},
   "outputs": [],
   "source": []
  }
 ],
 "metadata": {
  "kernelspec": {
   "display_name": "Python 3",
   "language": "python",
   "name": "python3"
  },
  "language_info": {
   "codemirror_mode": {
    "name": "ipython",
    "version": 3
   },
   "file_extension": ".py",
   "mimetype": "text/x-python",
   "name": "python",
   "nbconvert_exporter": "python",
   "pygments_lexer": "ipython3",
   "version": "3.8.10"
  }
 },
 "nbformat": 4,
 "nbformat_minor": 5
}