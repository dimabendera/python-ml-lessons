{
 "cells": [
  {
   "cell_type": "markdown",
   "id": "b2cc4d98",
   "metadata": {},
   "source": [
    "\n",
    "\n",
    "# Побудувати просту систему рекомендацій аніме\n",
    "Треба побудувати рекомендації аніме по схемі \"Разом з цим дивились\"\n",
    "\n",
    "### Датасет\n",
    "Для початку качаємо датасет за <a scr=\"https://www.kaggle.com/datasets/CooperUnion/anime-recommendations-database\">посиланням</a> (Потрбна реестрація).\n",
    "і розпаковуємо в папку з проектом\n",
    "\n",
    "В нас є два файли `Anime.csv` і `Rating.csv`\n",
    "\n",
    "`Anime.csv` має формат:\n",
    "* **anime_id** - унікальний ідентифікатор, який ідентифікує аніме.\n",
    "* **name** - повна назва аніме.\n",
    "* **genre** - розділений комами список жанрів для цього аніме.\n",
    "* **type** - фільм, ТБ, OVA тощо.\n",
    "* **episodes** - скільки епізодів у цьому шоу. (1 якщо фільм).\n",
    "* **rating** - середня оцінка з 10 для цього аніме.\n",
    "* **members** - кількість членів спільноти, які входять до «групи» цього аніме.\n",
    "\n",
    "`Rating.csv` має формат:\n",
    "* **user_id** - не ідентифікований випадково згенерований ідентифікатор користувача.\n",
    "* **anime_id** - аніме, яке оцінив цей користувач.\n",
    "* **rating** - оцінка з 10, призначена цим користувачем (-1, якщо користувач дивився, але не поставив оцінку).\n",
    "\n",
    "### Аналіз датасету:\n",
    "* Порахувати кількість унікальних user_id, anime_id та звязків\n",
    "* Вирахувати топ 100 самих популярних аніме\n",
    "* Вирахувати середній рейтінг по аніме та середній рейтінг для кожного юзера (не враховувати -1)\n",
    "\n",
    "### Підготовка датасету:\n",
    "* Читаємо файл rating.csv, розбиваємо по \"\\n\" (переносу на новий рядок) і формуємо список зі строчок. Слід зауважати що перший рядочок з назвою колонок треба пропустити. Далі для кожного елементу списку розбиваемо сточку по розділювальному знаку \",\" і отримуємо список зі списків, де перший елемент це id юзера, другий - id аніме, 3 - оцінка\n",
    "* Пройтись по отрманому списку і сформувати словник, де ключом буде user_id, а значенням список із anime_id, які він дивився\n",
    "```\n",
    "{\n",
    "    \"user_id_1\": [anime_id_1, anime_id_2, ... ],\n",
    "    \"user_id_2\": [anime_id_2, anime_id_4, ... ],\n",
    "    ...\n",
    "}\n",
    "```\n",
    " * Розбити датасет на 2 підвіборки train та test\n",
    "     * за допомогою slice (просте) (для початку робимо так)\n",
    "     * за допомогою random (середне)\n",
    "     * за допомогою sklern по юзерам (складніше)\n",
    "\n",
    "### Побудова простої рекомендації (по train):\n",
    "\n",
    "* Після цього переформотувати цей словник в новий словник, де ключом буде аніме_id_n, а значенням словник з ключом anime_id_m а значенням кількість юзерів які дивились разом (будемо називати це rank) з аніме_id_n і аніме_id_m\n",
    "```\n",
    "{\n",
    "    \"anime_id_1\": {\n",
    "        \"anime_id_2\": 2,\n",
    "        \"anime_id_3\": 3,\n",
    "        ...\n",
    "    },\n",
    "    \"anime_id_2\": {\n",
    "        \"anime_id_2\": 1,\n",
    "        \"anime_id_1\": 3,\n",
    "        ...\n",
    "    },\n",
    "    ...\n",
    "}\n",
    "```\n",
    "* Зберігти в форматі json отримані рекомендації\n",
    "\n",
    "\n",
    "### Predict\n",
    "Як зробити рекомендацію anime по тому яке ви дивились:\n",
    "* Підзавантажити отримані рекомендації з json файлу\n",
    "* Читаємо файл anime.csv, розбиваємо по \"\\n\" (переносу на новий рядок) і формуємо список зі строчок. Слід зауважати що перший рядочок з назвою колонок треба пропустити. Далі для кожного елементу списку розбиваемо сточку по розділювальному знаку \",\" і отримуємо список зі списків, де перший елемент це id anime, другий - назва аніме і так далі\n",
    "* Пройтись по отрманому списку і сформувати два словники, Перший: ключ - anime_name, значенням - anime_id. Другий: ключ - anime_id, значенням - anime_name. \n",
    "* Обрати зі списку аніме яке вам подобаеться. Напиклад: \"One Piece\". По назві аніме з словника отримати anime_id\n",
    "* По anime_id отримати зі словника рекомендацій схожі anime_id(s). Відсортувати їх в порядку спадання.\n",
    "* По словнику(ключ - anime_id, значенням - anime_name) отримати і вивести назви рекомендуемих аніме\n",
    "\n",
    "### Predict batch\n",
    "Як зробити рекомендацію anime по декільком аніме які ви(користувач) дивились\n",
    "* Для кожного anime_id отримати зі словника рекомендацій схожі anime_id(s)\n",
    "* Всі отримані рекомендації змерджити в один словник просумувавши всі rank\n",
    "* Відсортувати отрмані айтеми словника по спаданню \n",
    "* Вивести максимум топ 100 рекомендуемих аніме\n",
    "\n",
    "\n",
    "### Evaluate\n",
    "Ця секція про тестування (в контексті ml) нашого рішення на датасеті test\n",
    "Тут ми хочемо перевірити наскільки добре працює наше рішення\n",
    "\n",
    "Якщо ми тестуемо це по 1 аніме\n",
    "\n",
    "Ми можемо взяти кожного юзера і перше anime_id в списку яке він дивився вважати що ми дійсно знаемо на данний момент часу, що він його дивився, а всі інші вважати, що він поживиться пісця цього моменту часу\n",
    "Тоді ми можемо порівняти всі інші anime які він дивився з рекомендаціями по першому аніме (Топ 10)\n",
    "\n",
    "Наприклад:\n",
    "Ми знаемо що Юзер1 дивився anime1,anime2,anime3,anime4,anime5.\n",
    "Беремо рекомендації по anime1 - нехай це буде anime2,anime6,anime4,anime7.\n",
    "Тоді рахуемо кількість аніме яку б цей юзер точно подивився (anime2, anime4) 2.\n",
    "І кількість яку ми не знаемо чи подиввся би (anime6, anime7) 2.\n",
    "Тоді точніть по цьому юзеру наших рекомендацій буде 2/(2+2) = 0.5.\n",
    "Так треба порахувати для кожного юзера і взяти від цього середне"
   ]
  },
  {
   "cell_type": "code",
   "execution_count": null,
   "id": "4abc0558",
   "metadata": {},
   "outputs": [],
   "source": [
    "# https://github.com/krishnaik06/Recommendation_complete_tutorial/blob/master/Content%20Based%20Recommendation%20Engines%20using%20Python.ipynb"
   ]
  },
  {
   "cell_type": "code",
   "execution_count": null,
   "outputs": [],
   "source": [
    "import tqdm"
   ],
   "metadata": {
    "collapsed": false,
    "pycharm": {
     "name": "#%%\n"
    }
   }
  },
  {
   "cell_type": "code",
   "execution_count": null,
   "outputs": [],
   "source": [
    "with open('datasets/anime.csv', encoding='utf8') as anime_file:\n",
    "    lines_A = anime_file.readlines()\n",
    "\n",
    "columns = lines_A[0]\n",
    "data = lines_A[1:]\n",
    "\n",
    "columns = columns.split(\",\")\n",
    "data = [item.split(\",\") for item in data]\n",
    "\n",
    "dataset_A = {column: [] for column in columns}\n",
    "\n",
    "for item in data:\n",
    "    for i, column in enumerate(columns):\n",
    "        dataset_A[column].append(item[i])\n",
    "dataset_A[\"anime_id\"] = list(map(int, dataset_A[\"anime_id\"]))\n",
    "dataset_A[\"anime_id\"] = sorted(dataset_A[\"anime_id\"])\n",
    "dataset_A[\"anime_id\"] = list(map(str, dataset_A[\"anime_id\"]))\n"
   ],
   "metadata": {
    "collapsed": false,
    "pycharm": {
     "name": "#%%\n"
    }
   }
  },
  {
   "cell_type": "code",
   "execution_count": null,
   "outputs": [],
   "source": [
    "with open('datasets/rating.csv', encoding='utf8') as rating_file:\n",
    "    lines_R = rating_file.readlines()\n",
    "\n",
    "columns_R = lines_R[0]\n",
    "data_R = lines_R[1:]\n",
    "\n",
    "columns_R = columns_R.split(\",\")\n",
    "data_R = [item.split(',') for item in data_R]\n",
    "\n",
    "dataset_R = {column: [] for column in columns_R}\n",
    "\n",
    "for item in data_R:\n",
    "    for i, column in enumerate(columns_R):\n",
    "        dataset_R[column].append(item[i])\n"
   ],
   "metadata": {
    "collapsed": false,
    "pycharm": {
     "name": "#%%\n"
    }
   }
  },
  {
   "cell_type": "code",
   "execution_count": null,
   "outputs": [],
   "source": [
    "user_ids = dataset_R[\"user_id\"]\n",
    "anime_ids = dataset_R[\"anime_id\"]\n",
    "\n",
    "users_animes_views = {user_id : [] for user_id in user_ids}\n",
    "id = \"1\"\n",
    "arr = []\n",
    "for user_id, anime_id in zip(user_ids, anime_ids):\n",
    "    if(id == user_id):\n",
    "        arr.append(anime_id)\n",
    "    else:\n",
    "        users_animes_views[id] = arr\n",
    "        id = str(int(id) + 1)\n",
    "        arr = []\n",
    "\n",
    "users_animes_views.keys()"
   ],
   "metadata": {
    "collapsed": false,
    "pycharm": {
     "name": "#%%\n"
    }
   }
  },
  {
   "cell_type": "code",
   "execution_count": null,
   "outputs": [],
   "source": [
    "anime_ids_all = dataset_A[\"anime_id\"]\n",
    "anime_group_views = {}\n",
    "\n",
    "# dict = {anime_id : 0 for anime_id in anime_ids_all}\n",
    "\n",
    "\n",
    "for i in tqdm.tqdm(list(users_animes_views.keys())[:1000]):\n",
    "    for user_anime in users_animes_views[i]:\n",
    "        if user_anime not in anime_group_views:\n",
    "            anime_group_views[user_anime] = {}\n",
    "        for user_anime_too  in users_animes_views[i]:\n",
    "            if user_anime_too not in anime_group_views:\n",
    "                anime_group_views[user_anime_too] = {}\n",
    "            if user_anime_too in anime_group_views[user_anime]:\n",
    "                anime_group_views[user_anime][user_anime_too] += 1\n",
    "            else:\n",
    "                anime_group_views[user_anime][user_anime_too] = 1\n",
    "            if user_anime in anime_group_views[user_anime_too]:\n",
    "                anime_group_views[user_anime_too][user_anime] += 1\n",
    "            else:\n",
    "                anime_group_views[user_anime_too][user_anime] = 1\n",
    "\n",
    "anime_group_views\n",
    "\n",
    "\n",
    "#\n",
    "    # for anime_id in anime_ids_all:\n",
    "    #     if anime_id in users_animes_views[i]:\n",
    "    #         if str(anime_id) in anime_groups:\n",
    "    #             anime_groups[str(anime_id)] += 1\n",
    "    #         else:\n",
    "    #             anime_groups[str(anime_id)] = 1\n",
    "    #     if len(anime_groups)>0:\n",
    "            # anime_group_views[anime_id] = anime_groups"
   ],
   "metadata": {
    "collapsed": false,
    "pycharm": {
     "name": "#%%\n"
    }
   }
  },
  {
   "cell_type": "code",
   "execution_count": null,
   "outputs": [],
   "source": [
    "# anime_ids_all\n",
    "users_animes_views[i]\n",
    "anime_id in users_animes_views[i]\n",
    "users_animes_views"
   ],
   "metadata": {
    "collapsed": false,
    "pycharm": {
     "name": "#%%\n"
    }
   }
  },
  {
   "cell_type": "code",
   "execution_count": null,
   "outputs": [],
   "source": [],
   "metadata": {
    "collapsed": false,
    "pycharm": {
     "name": "#%%\n"
    }
   }
  }
 ],
 "metadata": {
  "kernelspec": {
   "display_name": "Python 3",
   "language": "python",
   "name": "python3"
  },
  "language_info": {
   "codemirror_mode": {
    "name": "ipython",
    "version": 3
   },
   "file_extension": ".py",
   "mimetype": "text/x-python",
   "name": "python",
   "nbconvert_exporter": "python",
   "pygments_lexer": "ipython3",
   "version": "3.8.10"
  }
 },
 "nbformat": 4,
 "nbformat_minor": 5
}