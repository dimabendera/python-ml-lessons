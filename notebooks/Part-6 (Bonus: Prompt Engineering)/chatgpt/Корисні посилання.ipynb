{
 "cells": [
  {
   "cell_type": "markdown",
   "id": "3770f0e3",
   "metadata": {},
   "source": [
    "Корисні посилання\n",
    "* [ml генератор промтів](https://huggingface.co/spaces/merve/ChatGPT-prompt-generator)\n",
    "* [🧠 підказки ChatGPT](https://github.com/taishi-i/awesome-ChatGPT-repositories)"
   ]
  },
  {
   "cell_type": "markdown",
   "id": "e5898bf8",
   "metadata": {},
   "source": []
  }
 ],
 "metadata": {
  "kernelspec": {
   "display_name": "Python 3",
   "language": "python",
   "name": "python3"
  },
  "language_info": {
   "codemirror_mode": {
    "name": "ipython",
    "version": 3
   },
   "file_extension": ".py",
   "mimetype": "text/x-python",
   "name": "python",
   "nbconvert_exporter": "python",
   "pygments_lexer": "ipython3",
   "version": "3.8.10"
  }
 },
 "nbformat": 4,
 "nbformat_minor": 5
}
