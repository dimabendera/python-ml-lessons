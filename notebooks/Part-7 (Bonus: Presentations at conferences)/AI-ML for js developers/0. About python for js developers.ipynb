{
 "cells": [
  {
   "cell_type": "code",
   "execution_count": 1,
   "id": "a7e2f817-0551-4cf8-8758-ef2d3995507a",
   "metadata": {},
   "outputs": [
    {
     "name": "stdout",
     "output_type": "stream",
     "text": [
      "The Zen of Python, by Tim Peters\n",
      "\n",
      "Beautiful is better than ugly.\n",
      "Explicit is better than implicit.\n",
      "Simple is better than complex.\n",
      "Complex is better than complicated.\n",
      "Flat is better than nested.\n",
      "Sparse is better than dense.\n",
      "Readability counts.\n",
      "Special cases aren't special enough to break the rules.\n",
      "Although practicality beats purity.\n",
      "Errors should never pass silently.\n",
      "Unless explicitly silenced.\n",
      "In the face of ambiguity, refuse the temptation to guess.\n",
      "There should be one-- and preferably only one --obvious way to do it.\n",
      "Although that way may not be obvious at first unless you're Dutch.\n",
      "Now is better than never.\n",
      "Although never is often better than *right* now.\n",
      "If the implementation is hard to explain, it's a bad idea.\n",
      "If the implementation is easy to explain, it may be a good idea.\n",
      "Namespaces are one honking great idea -- let's do more of those!\n"
     ]
    }
   ],
   "source": [
    "import this"
   ]
  },
  {
   "cell_type": "markdown",
   "id": "fe5b7d6d-6f18-4e58-9656-ea94bc766085",
   "metadata": {
    "heading_collapsed": "true",
    "tags": []
   },
   "source": [
    "# Zen of Python"
   ]
  },
  {
   "cell_type": "markdown",
   "id": "8e76c2ed-c48e-44dc-b542-6ea8725fec4c",
   "metadata": {
    "heading_collapsed": "true",
    "tags": []
   },
   "source": [
    "- Красивое лучше, чем уродливое.\n",
    "- Явное лучше, чем неявное.\n",
    "- Простое лучше, чем сложное.\n",
    "- Сложное лучше, чем запутанное.\n",
    "- Плоское лучше, чем вложенное.\n",
    "- Разреженное лучше, чем плотное.\n",
    "- Читаемость имеет значение.\n",
    "- Особые случаи не настолько особые, чтобы нарушать правила.\n",
    "- При этом практичность важнее безупречности.\n",
    "- Ошибки никогда не должны замалчиваться.\n",
    "- Если они не замалчиваются явно.\n",
    "- Встретив двусмысленность, отбрось искушение угадать.\n",
    "- Должен существовать один и, желательно, только один очевидный способ сделать это.\n",
    "- Хотя он поначалу может быть и не очевиден, если вы не голландец (Гвидо ван Россум голландец).\n",
    "- Сейчас лучше, чем никогда.\n",
    "- Хотя никогда зачастую лучше, чем прямо сейчас.\n",
    "- Если реализацию сложно объяснить — идея плоха.\n",
    "- Если реализацию легко объяснить — идея, возможно, хороша.\n",
    "- Пространства имён — отличная штука! Будем делать их больше!"
   ]
  },
  {
   "cell_type": "markdown",
   "id": "e5269283-d906-4e57-917f-fb3f1c9a99e6",
   "metadata": {},
   "source": [
    "Появился в 1991 году"
   ]
  },
  {
   "cell_type": "markdown",
   "id": "dee0242a-269e-453e-b608-178b8bd31b64",
   "metadata": {
    "heading_collapsed": "true",
    "tags": []
   },
   "source": [
    "# Области применения Python:"
   ]
  },
  {
   "cell_type": "markdown",
   "id": "b8058bc7-986f-4462-a205-4d57a1221798",
   "metadata": {
    "heading_collapsed": "true",
    "tags": []
   },
   "source": [
    " - веб разработка\n",
    " - анализ данных\n",
    " - машинное обучение\n",
    " - DevOps\n",
    " - тестирование\n",
    " - прототипирование проектов\n",
    " - etc"
   ]
  },
  {
   "cell_type": "markdown",
   "id": "2ffb4f82-b27e-45a4-a20a-5b8d7099a172",
   "metadata": {
    "heading_collapsed": "true",
    "tags": []
   },
   "source": [
    "# Python - объектно-ориентированный язык со строгой и динамической типизацией"
   ]
  },
  {
   "cell_type": "markdown",
   "id": "5d3c7932-4289-44a1-bebf-4fbbd5cb8c38",
   "metadata": {
    "heading_collapsed": "true",
    "tags": []
   },
   "source": [
    "Преимущества:\n",
    " - легкость освоениея\n",
    " - быстрая скорость разработки\n",
    " - кроссплатформенность\n",
    " - большая стандартная библиотека\n",
    " - инструменты для анализа данных и научных задач\n",
    "\n",
    "Недостатки:\n",
    " - чистый Python - медленный\n",
    " - кривая многопоточность\n",
    " - слаб в мобильной и фронтэнд разработке\n",
    " - Python2 (RIP 1 янв. 2020)"
   ]
  },
  {
   "cell_type": "markdown",
   "id": "71ba28a1-2bc1-4d92-855b-20c4ee973bec",
   "metadata": {},
   "source": [
    "Некоторые стандартные библиотеки:\n",
    "- abc - абстрактные классы\n",
    "- argparse - парсинг консольных аргументов\n",
    "- asyncio - асинхронность\n",
    "- collections - коллекции\n",
    "- datetime - дата и время\n",
    "- decimal - рациональные числа\n",
    "- functools, itertools - функциональное программирование\n",
    "- logging - логирование\n",
    "- threading, multiprocessing - многопоточность\n",
    "- os, sys - работа с ОС\n",
    "- re - регулярные выражения\n",
    "- unittest - юнит-тесты"
   ]
  },
  {
   "cell_type": "markdown",
   "id": "e6610b48-c06d-4540-9979-d276d84f1a6f",
   "metadata": {},
   "source": [
    "На Python разработка очень быстрая\n",
    "\n",
    "А скорость самого python во многих случаях не критичная, \n",
    "так как многие модули написаны на C/C++ и python просто вызывает их функционал\n",
    "\n",
    "Таким образом мы можем быстро писать производительный код\n",
    "\n",
    "В ml вызовы си-шного кода могут занимать много времени, по этому обычно строится граф вычислений, который будет целиком обарабатываться плюсами"
   ]
  },
  {
   "cell_type": "markdown",
   "id": "a96030d3-70d5-4dfd-8ed6-9fbe2eebb1ea",
   "metadata": {
    "heading_collapsed": "true",
    "tags": []
   },
   "source": [
    "# Базовые конструкции"
   ]
  },
  {
   "cell_type": "markdown",
   "id": "0bb6ffd1-c115-4502-b599-3de031cdc7e6",
   "metadata": {},
   "source": [
    "Неизменяемые типы данных:\n",
    "- int\n",
    "- float\n",
    "- decimal\n",
    "- bool\n",
    "- string\n",
    "- tuple\n",
    "- range\n",
    "\n",
    "Изменяемые типы данных: \n",
    "- list\n",
    "- dictionary\n",
    "- set\n",
    "- user-defined classes"
   ]
  },
  {
   "cell_type": "markdown",
   "id": "f31659c8-1130-4792-a4f3-f9231cad6623",
   "metadata": {
    "tags": []
   },
   "source": [
    "### Подключение модулей"
   ]
  },
  {
   "cell_type": "code",
   "execution_count": 16,
   "id": "f71730ce-2513-40a7-8499-c02d94bb67b7",
   "metadata": {},
   "outputs": [],
   "source": [
    "import os\n",
    "import sys"
   ]
  },
  {
   "cell_type": "code",
   "execution_count": 17,
   "id": "4a179e96-adc8-4dca-8249-29b6e2433db7",
   "metadata": {},
   "outputs": [],
   "source": [
    "import pandas as pd"
   ]
  },
  {
   "cell_type": "code",
   "execution_count": 23,
   "id": "e44b2131-ac09-4924-8091-72a5ae7cbec2",
   "metadata": {},
   "outputs": [],
   "source": [
    "from typing import Union, List"
   ]
  },
  {
   "cell_type": "code",
   "execution_count": null,
   "id": "dd6fe491-208e-443a-a3d9-e0e97a3c6d1d",
   "metadata": {},
   "outputs": [],
   "source": []
  },
  {
   "cell_type": "markdown",
   "id": "9d0a6b98-d017-4496-8695-49f41895e4f5",
   "metadata": {
    "heading_collapsed": "true",
    "tags": []
   },
   "source": [
    "### Переменные"
   ]
  },
  {
   "cell_type": "markdown",
   "id": "38a23d42-7807-448d-9c8f-7227e8f2f1ad",
   "metadata": {},
   "source": [
    "**Все переменные - ссылки**  \n",
    "**Всё есть объект**"
   ]
  },
  {
   "cell_type": "code",
   "execution_count": 8,
   "id": "1af29f96-0321-4388-ade9-ccbbd49528a4",
   "metadata": {},
   "outputs": [],
   "source": [
    "# x и y ссылаются на два РАЗНЫХ объекта 1\n",
    "x = 1\n",
    "y = 1"
   ]
  },
  {
   "cell_type": "code",
   "execution_count": 6,
   "id": "38b1706e-3f99-4347-a67a-2408f64277d4",
   "metadata": {},
   "outputs": [
    {
     "name": "stdout",
     "output_type": "stream",
     "text": [
      "x = 2, y = 1\n"
     ]
    }
   ],
   "source": [
    "x = 1\n",
    "y = x\n",
    "x = 2\n",
    "print(f'x = {x}, y = {y}')"
   ]
  },
  {
   "cell_type": "code",
   "execution_count": 7,
   "id": "6ae9a353-1877-4240-b013-cadd64691072",
   "metadata": {},
   "outputs": [
    {
     "name": "stdout",
     "output_type": "stream",
     "text": [
      "x = [1, 2, 3], y = [1, 2, 3]\n"
     ]
    }
   ],
   "source": [
    "x = [1, 2]\n",
    "y = x\n",
    "x.append(3)\n",
    "print(f'x = {x}, y = {y}')"
   ]
  },
  {
   "cell_type": "code",
   "execution_count": 89,
   "id": "838a4190-0359-4026-b78f-58dadc3f6cf5",
   "metadata": {},
   "outputs": [
    {
     "name": "stdout",
     "output_type": "stream",
     "text": [
      "1 2\n",
      "2 1\n"
     ]
    }
   ],
   "source": [
    "# то чем выделываются все питонисты\n",
    "x = 1\n",
    "y = 2\n",
    "print(x, y)\n",
    "x, y = y, x\n",
    "print(x, y)"
   ]
  },
  {
   "cell_type": "markdown",
   "id": "62886f66-3a4f-4f87-b8da-04d69020af10",
   "metadata": {
    "heading_collapsed": "true",
    "tags": []
   },
   "source": [
    "### Операторы"
   ]
  },
  {
   "cell_type": "code",
   "execution_count": 87,
   "id": "271bd220-671f-479d-bd70-8e329095d58e",
   "metadata": {},
   "outputs": [
    {
     "name": "stdout",
     "output_type": "stream",
     "text": [
      "Сумма 7\n",
      "Вычитание 3\n",
      "Произведение 3\n",
      "Степень 25\n",
      "Корень 2.23606797749979\n",
      "Деление 2.5\n",
      "Деление нацело 2\n",
      "Остаток от деления 1\n"
     ]
    }
   ],
   "source": [
    "x, y = 5, 2\n",
    "print('Сумма', x + y)\n",
    "print('Вычитание', x - y)\n",
    "print('Произведение', x - y)\n",
    "print('Степень', x ** y)\n",
    "print('Корень', x ** 0.5)\n",
    "print('Деление', x / y)\n",
    "print('Деление нацело', x // y)\n",
    "print('Остаток от деления', x % y)"
   ]
  },
  {
   "cell_type": "code",
   "execution_count": 221,
   "id": "a34ca53d-64d3-4058-8ddb-681e576d384f",
   "metadata": {},
   "outputs": [
    {
     "data": {
      "text/plain": [
       "19950631168807583848837421626835850838234968318861924548520089498529438830221946631919961684036194597899331129423209124271556491349413781117593785932096323957855730046793794526765246551266059895520550086918193311542508608460618104685509074866089624888090489894838009253941633257850621568309473902556912388065225096643874441046759871626985453222868538161694315775629640762836880760732228535091641476183956381458969463899410840960536267821064621427333394036525565649530603142680234969400335934316651459297773279665775606172582031407994198179607378245683762280037302885487251900834464581454650557929601414833921615734588139257095379769119277800826957735674444123062018757836325502728323789270710373802866393031428133241401624195671690574061419654342324638801248856147305207431992259611796250130992860241708340807605932320161268492288496255841312844061536738951487114256315111089745514203313820202931640957596464756010405845841566072044962867016515061920631004186422275908670900574606417856951911456055068251250406007519842261898059237118054444788072906395242548339221982707404473162376760846613033778706039803413197133493654622700563169937455508241780972810983291314403571877524768509857276937926433221599399876886660808368837838027643282775172273657572744784112294389733810861607423253291974813120197604178281965697475898164531258434135959862784130128185406283476649088690521047580882615823961985770122407044330583075869039319604603404973156583208672105913300903752823415539745394397715257455290510212310947321610753474825740775273986348298498340756937955646638621874569499279016572103701364433135817214311791398222983845847334440270964182851005072927748364550578634501100852987812389473928699540834346158807043959118985815145779177143619698728131459483783202081474982171858011389071228250905826817436220577475921417653715687725614904582904992461028630081535583308130101987675856234343538955409175623400844887526162643568648833519463720377293240094456246923254350400678027273837755376406726898636241037491410966718557050759098100246789880178271925953381282421954028302759408448955014676668389697996886241636313376393903373455801407636741877711055384225739499110186468219696581651485130494222369947714763069155468217682876200362777257723781365331611196811280792669481887201298643660768551639860534602297871557517947385246369446923087894265948217008051120322365496288169035739121368338393591756418733850510970271613915439590991598154654417336311656936031122249937969999226781732358023111862644575299135758175008199839236284615249881088960232244362173771618086357015468484058622329792853875623486556440536962622018963571028812361567512543338303270029097668650568557157505516727518899194129711337690149916181315171544007728650573189557450920330185304847113818315407324053319038462084036421763703911550639789000742853672196280903477974533320468368795868580237952218629120080742819551317948157624448298518461509704888027274721574688131594750409732115080498190455803416826949787141316063210686391511681774304792596709376"
      ]
     },
     "execution_count": 221,
     "metadata": {},
     "output_type": "execute_result"
    }
   ],
   "source": [
    "# Вбудована робота з великими числами\n",
    "2**10000"
   ]
  },
  {
   "cell_type": "code",
   "execution_count": 96,
   "id": "d70c656a-09ba-44f1-bf86-bdf06a0f678f",
   "metadata": {},
   "outputs": [
    {
     "name": "stdout",
     "output_type": "stream",
     "text": [
      "and: 0\n",
      "or: 3\n",
      "not: False\n",
      "xor: 3\n",
      "побитовый сдвиг: 0\n",
      "побитовый сдвиг: 2\n"
     ]
    }
   ],
   "source": [
    "# битовые операции\n",
    "x, y = 1, 2\n",
    "print(f'and: {x & y}', \n",
    "      f'or: {x | y}', \n",
    "      f'xor: {x ^ y}',\n",
    "      f'побитовый сдвиг: {x >> 1}',\n",
    "      f'побитовый сдвиг: {x << 1}',\n",
    "      sep='\\n')"
   ]
  },
  {
   "cell_type": "code",
   "execution_count": 100,
   "id": "9c55f1e5-7473-4924-a67e-17735470a4f1",
   "metadata": {},
   "outputs": [
    {
     "name": "stdout",
     "output_type": "stream",
     "text": [
      "and: False\n",
      "or: True\n",
      "not: False\n",
      "xor: True\n"
     ]
    }
   ],
   "source": [
    "x, y = True, False\n",
    "print(f'and: {x and y}', \n",
    "      f'or: {x or y}', \n",
    "      f'not: {not x}',\n",
    "      f'xor: {x ^ y}',\n",
    "      sep='\\n')"
   ]
  },
  {
   "cell_type": "markdown",
   "id": "6f4daaef-d4e0-443f-9fd4-eac0675bdb8a",
   "metadata": {
    "heading_collapsed": "true",
    "tags": []
   },
   "source": [
    "### Условный оператор"
   ]
  },
  {
   "cell_type": "code",
   "execution_count": 146,
   "id": "df809f6d-737c-4ea9-8947-abb5f1ea5373",
   "metadata": {},
   "outputs": [
    {
     "name": "stdout",
     "output_type": "stream",
     "text": [
      "Equal to 1\n"
     ]
    }
   ],
   "source": [
    "x = 1\n",
    "if x > 1:\n",
    "    print('Greater than 1')\n",
    "elif x == 1:\n",
    "    print('Equal to 1')\n",
    "else:\n",
    "    print('Less than 1')"
   ]
  },
  {
   "cell_type": "code",
   "execution_count": 66,
   "id": "9e9422c0-63db-4506-b859-d08a37ebdb54",
   "metadata": {},
   "outputs": [
    {
     "data": {
      "text/plain": [
       "2"
      ]
     },
     "execution_count": 66,
     "metadata": {},
     "output_type": "execute_result"
    }
   ],
   "source": [
    "# \"тернарный оператор\"\n",
    "x = 1\n",
    "t = 2 if x == 1 else 0\n",
    "t"
   ]
  },
  {
   "cell_type": "markdown",
   "id": "b3caf9dd-4010-4cee-872c-c20b725e96a4",
   "metadata": {
    "heading_collapsed": "true",
    "tags": []
   },
   "source": [
    "### Циклы"
   ]
  },
  {
   "cell_type": "code",
   "execution_count": 145,
   "id": "aae67600-fa34-49eb-bcce-2cbbe77d51db",
   "metadata": {},
   "outputs": [
    {
     "name": "stdout",
     "output_type": "stream",
     "text": [
      "1 4 9 16 25 36 49 64 81 "
     ]
    }
   ],
   "source": [
    "i = 1\n",
    "while i < 10:\n",
    "    print(i**2, end=' ')\n",
    "    i += 1"
   ]
  },
  {
   "cell_type": "code",
   "execution_count": 10,
   "id": "0a5046b1-5388-41d3-bcae-00bf6ec6cffb",
   "metadata": {},
   "outputs": [
    {
     "name": "stdout",
     "output_type": "stream",
     "text": [
      "0 1 4 9 16 25 36 49 64 81 "
     ]
    }
   ],
   "source": [
    "for i in range(0, 10):\n",
    "    print(i**2, end=' ')"
   ]
  },
  {
   "cell_type": "code",
   "execution_count": null,
   "id": "2c921471-6477-464f-8dcb-73e3c53ac43d",
   "metadata": {},
   "outputs": [],
   "source": []
  },
  {
   "cell_type": "markdown",
   "id": "aede0eda-e527-47f2-a181-39aa708e1561",
   "metadata": {
    "heading_collapsed": "true",
    "tags": []
   },
   "source": [
    "### Обработка исключений"
   ]
  },
  {
   "cell_type": "code",
   "execution_count": 20,
   "id": "f4d7c920-f70b-4c56-953a-0b0f6dc0e4d6",
   "metadata": {},
   "outputs": [
    {
     "name": "stdout",
     "output_type": "stream",
     "text": [
      "unsupported operand type(s) for ** or pow(): 'str' and 'int'\n",
      "Is always executed\n"
     ]
    }
   ],
   "source": [
    "x = 't'\n",
    "try:\n",
    "    x = x**2\n",
    "except TypeError as e:\n",
    "    print(e)\n",
    "finally:\n",
    "    print('Is always executed')"
   ]
  },
  {
   "cell_type": "code",
   "execution_count": 27,
   "id": "ab4635c7-ff2c-45a4-9df5-e19ebda5a6d9",
   "metadata": {},
   "outputs": [
    {
     "name": "stdout",
     "output_type": "stream",
     "text": [
      "Is always executed\n"
     ]
    }
   ],
   "source": [
    "x = 2\n",
    "try:\n",
    "    x = x**2\n",
    "except TypeError as e:\n",
    "    print(e)\n",
    "finally:\n",
    "    print('Is always executed')"
   ]
  },
  {
   "cell_type": "code",
   "execution_count": 28,
   "id": "1659549f-c738-4c24-9d4b-20d8262e558e",
   "metadata": {},
   "outputs": [],
   "source": [
    "# предпочтительнее делать try, вместо if проверок на допустимость\n",
    "# это связано с производительностью и количеством недопустимых значений\n",
    "# а так же дзеном, потому что проверка исключительной ситуации менее явна, чем try обработка "
   ]
  },
  {
   "cell_type": "code",
   "execution_count": 25,
   "id": "4643a0c1-3761-48e0-ad79-29162792d982",
   "metadata": {},
   "outputs": [
    {
     "name": "stdout",
     "output_type": "stream",
     "text": [
      "CPU times: user 23 µs, sys: 0 ns, total: 23 µs\n",
      "Wall time: 24.3 µs\n"
     ]
    }
   ],
   "source": [
    "%%time\n",
    "x = list(range(0, 100))\n",
    "for i in x:\n",
    "    if i != 0:\n",
    "        t = 1/i"
   ]
  },
  {
   "cell_type": "code",
   "execution_count": 26,
   "id": "db68d5f7-4706-4638-b7e9-e025f52b62da",
   "metadata": {},
   "outputs": [
    {
     "name": "stdout",
     "output_type": "stream",
     "text": [
      "CPU times: user 15 µs, sys: 0 ns, total: 15 µs\n",
      "Wall time: 17.6 µs\n"
     ]
    }
   ],
   "source": [
    "%%time\n",
    "x = list(range(1, 100))\n",
    "for i in x:\n",
    "    try:\n",
    "        t = 1/i\n",
    "    except ZeroDivisionError:\n",
    "        pass"
   ]
  },
  {
   "cell_type": "code",
   "execution_count": 33,
   "id": "720107d4-bfa0-410b-a71e-b0c2e3ec8e1f",
   "metadata": {},
   "outputs": [],
   "source": [
    "# если исключительных ситуаций больше корректных, то if будет быстрее\n",
    "# но почему исключительных ситуаций должно быть больше?"
   ]
  },
  {
   "cell_type": "code",
   "execution_count": 31,
   "id": "68f8b9e3-cf3d-4dcb-9eeb-a8bd5a917490",
   "metadata": {},
   "outputs": [
    {
     "name": "stdout",
     "output_type": "stream",
     "text": [
      "CPU times: user 18 µs, sys: 0 ns, total: 18 µs\n",
      "Wall time: 21 µs\n"
     ]
    }
   ],
   "source": [
    "%%time\n",
    "x = [0]*90 + [1]*10\n",
    "for i in x:\n",
    "    if i != 0:\n",
    "        t = 1/i"
   ]
  },
  {
   "cell_type": "code",
   "execution_count": 32,
   "id": "501856bd-ac14-4310-b7a8-fded727dc495",
   "metadata": {},
   "outputs": [
    {
     "name": "stdout",
     "output_type": "stream",
     "text": [
      "CPU times: user 41 µs, sys: 0 ns, total: 41 µs\n",
      "Wall time: 42.9 µs\n"
     ]
    }
   ],
   "source": [
    "%%time\n",
    "x = [0]*90 + [1]*10\n",
    "for i in x:\n",
    "    try:\n",
    "        t = 1/i\n",
    "    except ZeroDivisionError:\n",
    "        pass"
   ]
  },
  {
   "cell_type": "markdown",
   "id": "2884980d-014b-4404-9c5e-ab88e04ee5a0",
   "metadata": {
    "heading_collapsed": "true",
    "tags": []
   },
   "source": [
    "# Collections"
   ]
  },
  {
   "cell_type": "markdown",
   "id": "1caee47f-fa4b-4838-a4a9-45c9326424a6",
   "metadata": {
    "heading_collapsed": "true",
    "tags": []
   },
   "source": [
    "### list"
   ]
  },
  {
   "cell_type": "code",
   "execution_count": 69,
   "id": "90395dcd-0d08-4f48-a3eb-42c816ff948b",
   "metadata": {},
   "outputs": [],
   "source": [
    "# список не список, а динамический массив (vector из плюсов)"
   ]
  },
  {
   "cell_type": "code",
   "execution_count": 53,
   "id": "c8220ba1-97f3-4bef-b6cf-856cb50ead7e",
   "metadata": {},
   "outputs": [],
   "source": [
    "# списки могут хранить объекты любых типов\n",
    "x = [1, 2.3, 'some_string', True]"
   ]
  },
  {
   "cell_type": "code",
   "execution_count": 67,
   "id": "36e4a5b9-3d28-49ca-a340-8f50df18698f",
   "metadata": {},
   "outputs": [
    {
     "data": {
      "text/plain": [
       "[0, 2, 4, 6, 8, 10, 12, 14, 16, 18]"
      ]
     },
     "execution_count": 67,
     "metadata": {},
     "output_type": "execute_result"
    }
   ],
   "source": [
    "x = list(range(0, 20, 2))\n",
    "x"
   ]
  },
  {
   "cell_type": "code",
   "execution_count": 73,
   "id": "5562ee0e-20a9-4e7d-a136-b8b34bf675c4",
   "metadata": {},
   "outputs": [
    {
     "name": "stdout",
     "output_type": "stream",
     "text": [
      "[0, 2, 4, 6, 8, 10, 12, 14, 16, 18, 20]\n",
      "[0, 2, 4, 6, 8, 10, 12, 14, 16, 18, 20, 22]\n"
     ]
    }
   ],
   "source": [
    "# добавление в список\n",
    "x = list(range(0, 20, 2))\n",
    "\n",
    "x.append(20)\n",
    "print(x)\n",
    "\n",
    "x += [22]\n",
    "print(x)"
   ]
  },
  {
   "cell_type": "code",
   "execution_count": 72,
   "id": "00dd67b1-cba4-4f79-855e-496dc2f34890",
   "metadata": {},
   "outputs": [
    {
     "data": {
      "text/plain": [
       "[0, 2, 4, 6, 8, 10, 12, 14, 16, 18, 0, 1, 2]"
      ]
     },
     "execution_count": 72,
     "metadata": {},
     "output_type": "execute_result"
    }
   ],
   "source": [
    "# расширение списка\n",
    "x = list(range(0, 20, 2))\n",
    "x.extend([0, 1, 2])\n",
    "x"
   ]
  },
  {
   "cell_type": "code",
   "execution_count": 129,
   "id": "653b3aa8-8171-40e7-b9ce-d167fd41d857",
   "metadata": {},
   "outputs": [
    {
     "data": {
      "text/plain": [
       "10"
      ]
     },
     "execution_count": 129,
     "metadata": {},
     "output_type": "execute_result"
    }
   ],
   "source": [
    "# длина списка\n",
    "len(x)"
   ]
  },
  {
   "cell_type": "markdown",
   "id": "a7f45c3d-79ba-4a0c-b5d2-e74b661012d8",
   "metadata": {},
   "source": [
    "#### Проверка наличия в списке"
   ]
  },
  {
   "cell_type": "code",
   "execution_count": 204,
   "id": "177977c9-4cb8-4e4b-a858-dd8a411aa89d",
   "metadata": {},
   "outputs": [
    {
     "data": {
      "text/plain": [
       "[0, 1, 2, 3, 4, 5, 6, 7, 8, 9]"
      ]
     },
     "execution_count": 204,
     "metadata": {},
     "output_type": "execute_result"
    }
   ],
   "source": [
    "x = list(range(10))\n",
    "x"
   ]
  },
  {
   "cell_type": "code",
   "execution_count": 206,
   "id": "34be67e8-9fc6-4b68-8c7b-9b8f3477005e",
   "metadata": {},
   "outputs": [
    {
     "name": "stdout",
     "output_type": "stream",
     "text": [
      "True\n",
      "False\n"
     ]
    }
   ],
   "source": [
    "print(1 in x)\n",
    "print(-1 in x)"
   ]
  },
  {
   "cell_type": "markdown",
   "id": "cda2046e-6bd2-462b-ad98-8dd6086d1518",
   "metadata": {
    "heading_collapsed": "true",
    "tags": []
   },
   "source": [
    "#### Сортировка"
   ]
  },
  {
   "cell_type": "code",
   "execution_count": 164,
   "id": "f851e7a6-9e34-4be8-9789-21a9db0e263c",
   "metadata": {},
   "outputs": [
    {
     "data": {
      "text/plain": [
       "[0, 2, 4, 6, 8, 10, 12, 14, 16, 18]"
      ]
     },
     "execution_count": 164,
     "metadata": {},
     "output_type": "execute_result"
    }
   ],
   "source": [
    "x = list(range(0, 20, 2))\n",
    "x"
   ]
  },
  {
   "cell_type": "code",
   "execution_count": 170,
   "id": "0929470a-5ab8-4a59-8a6f-f801bf2cba09",
   "metadata": {},
   "outputs": [
    {
     "data": {
      "text/plain": [
       "([18, 16, 14, 12, 10, 8, 6, 4, 2, 0], [18, 16, 14, 12, 10, 8, 6, 4, 2, 0])"
      ]
     },
     "execution_count": 170,
     "metadata": {},
     "output_type": "execute_result"
    }
   ],
   "source": [
    "# sorted возвращает новый список\n",
    "y = sorted(x, reverse=True)\n",
    "x, y"
   ]
  },
  {
   "cell_type": "code",
   "execution_count": 169,
   "id": "e1093bb1-c72b-4ad9-b45b-5ee0f50daf59",
   "metadata": {},
   "outputs": [
    {
     "data": {
      "text/plain": [
       "[18, 16, 14, 12, 10, 8, 6, 4, 2, 0]"
      ]
     },
     "execution_count": 169,
     "metadata": {},
     "output_type": "execute_result"
    }
   ],
   "source": [
    "# sort изменяет список\n",
    "x.sort(reverse=True)\n",
    "x"
   ]
  },
  {
   "cell_type": "code",
   "execution_count": 171,
   "id": "77a7a5ab-c2d5-4749-8451-4bd08ef19e3e",
   "metadata": {},
   "outputs": [],
   "source": [
    "x = [[1, 3], [2, 0], [3, 2], [4, -1]]"
   ]
  },
  {
   "cell_type": "code",
   "execution_count": 177,
   "id": "c8a474fc-6d9e-4505-a37b-9fb042dd9c01",
   "metadata": {},
   "outputs": [
    {
     "data": {
      "text/plain": [
       "[[4, -1], [2, 0], [3, 2], [1, 3]]"
      ]
     },
     "execution_count": 177,
     "metadata": {},
     "output_type": "execute_result"
    }
   ],
   "source": [
    "# можно использовать key, чтобы сортировать по некоторой \"функции\"\n",
    "# в данном случае мы сортируем по второму элементу\n",
    "sorted(x, key=lambda i: i[1])"
   ]
  },
  {
   "cell_type": "code",
   "execution_count": 110,
   "id": "85bd736b-078d-431e-84a8-77d3ef03c330",
   "metadata": {},
   "outputs": [],
   "source": [
    "# индексация"
   ]
  },
  {
   "cell_type": "code",
   "execution_count": 110,
   "id": "08ed8074-ed19-431d-b798-f8ea255d39fe",
   "metadata": {},
   "outputs": [],
   "source": [
    "x = list(range(0, 20, 2))"
   ]
  },
  {
   "cell_type": "code",
   "execution_count": 113,
   "id": "3ae6f84c-c225-4205-8c26-616bdd15e34e",
   "metadata": {},
   "outputs": [
    {
     "data": {
      "text/plain": [
       "0"
      ]
     },
     "execution_count": 113,
     "metadata": {},
     "output_type": "execute_result"
    }
   ],
   "source": [
    "# доступ по индексу с нуля\n",
    "x[0]"
   ]
  },
  {
   "cell_type": "code",
   "execution_count": 115,
   "id": "39c44c69-f880-4e4c-bd44-03d8f50f24ed",
   "metadata": {},
   "outputs": [
    {
     "data": {
      "text/plain": [
       "18"
      ]
     },
     "execution_count": 115,
     "metadata": {},
     "output_type": "execute_result"
    }
   ],
   "source": [
    "# доступ по индексу с конца (-1 - первый элемент с конца')\n",
    "x[-1]"
   ]
  },
  {
   "cell_type": "markdown",
   "id": "24d14b39-eff0-409d-9915-c23c9ea6c6d4",
   "metadata": {
    "heading_collapsed": "true",
    "tags": []
   },
   "source": [
    "#### Срезы"
   ]
  },
  {
   "cell_type": "markdown",
   "id": "e5bedd7e-49da-407e-a385-0dea23a761c5",
   "metadata": {},
   "source": [
    "**x[start : end : step]**"
   ]
  },
  {
   "cell_type": "code",
   "execution_count": 116,
   "id": "c303a460-6214-4b15-8e12-adb10510cb32",
   "metadata": {},
   "outputs": [
    {
     "data": {
      "text/plain": [
       "[10, 12, 14, 16, 18]"
      ]
     },
     "execution_count": 116,
     "metadata": {},
     "output_type": "execute_result"
    }
   ],
   "source": [
    "x[5:]"
   ]
  },
  {
   "cell_type": "code",
   "execution_count": 117,
   "id": "1ae55176-f83a-45be-82d5-d9342197f7c8",
   "metadata": {},
   "outputs": [
    {
     "data": {
      "text/plain": [
       "[0, 2, 4, 6, 8]"
      ]
     },
     "execution_count": 117,
     "metadata": {},
     "output_type": "execute_result"
    }
   ],
   "source": [
    "x[:5]"
   ]
  },
  {
   "cell_type": "code",
   "execution_count": 118,
   "id": "dd7b9a09-1577-426b-95dc-80b4f55ff627",
   "metadata": {},
   "outputs": [
    {
     "data": {
      "text/plain": [
       "[6, 8, 10]"
      ]
     },
     "execution_count": 118,
     "metadata": {},
     "output_type": "execute_result"
    }
   ],
   "source": [
    "x[3:6]"
   ]
  },
  {
   "cell_type": "code",
   "execution_count": 119,
   "id": "186b11a8-81d3-4040-a3f8-fe48e2a85601",
   "metadata": {},
   "outputs": [
    {
     "data": {
      "text/plain": [
       "[0, 4, 8, 12, 16]"
      ]
     },
     "execution_count": 119,
     "metadata": {},
     "output_type": "execute_result"
    }
   ],
   "source": [
    "x[::2]"
   ]
  },
  {
   "cell_type": "code",
   "execution_count": 122,
   "id": "09b902a9-09a9-4789-ad99-4d8d873524c3",
   "metadata": {},
   "outputs": [
    {
     "data": {
      "text/plain": [
       "[18, 14, 10, 6, 2]"
      ]
     },
     "execution_count": 122,
     "metadata": {},
     "output_type": "execute_result"
    }
   ],
   "source": [
    "x[::-2]"
   ]
  },
  {
   "cell_type": "code",
   "execution_count": 125,
   "id": "bde2fb23-a82a-4139-a353-97e8db25a651",
   "metadata": {},
   "outputs": [
    {
     "data": {
      "text/plain": [
       "[18, 14]"
      ]
     },
     "execution_count": 125,
     "metadata": {},
     "output_type": "execute_result"
    }
   ],
   "source": [
    "x[-1:-5:-2]"
   ]
  },
  {
   "cell_type": "markdown",
   "id": "cd0c4a1a-d29b-46f0-beef-86754b760c98",
   "metadata": {},
   "source": []
  },
  {
   "cell_type": "markdown",
   "id": "9312e4f4-f264-4e1e-88f5-c0343dfa58c6",
   "metadata": {
    "heading_collapsed": "true",
    "tags": []
   },
   "source": [
    "#### Итерирование"
   ]
  },
  {
   "cell_type": "code",
   "execution_count": 182,
   "id": "cd08aa62-e244-4d52-bca3-9285408f78a5",
   "metadata": {},
   "outputs": [],
   "source": [
    "x = list(range(0, 10))"
   ]
  },
  {
   "cell_type": "code",
   "execution_count": 186,
   "id": "5b896c58-47c4-4007-922c-c3026b8ced17",
   "metadata": {},
   "outputs": [
    {
     "name": "stdout",
     "output_type": "stream",
     "text": [
      "597 ns ± 9.67 ns per loop (mean ± std. dev. of 7 runs, 1000000 loops each)\n"
     ]
    }
   ],
   "source": [
    "%%timeit\n",
    "s = 0\n",
    "# плохой способ\n",
    "for i in range(len(x)):\n",
    "    s += x[i]"
   ]
  },
  {
   "cell_type": "code",
   "execution_count": 187,
   "id": "ddf8e5d8-5459-4ff8-a737-1f197c9105ca",
   "metadata": {},
   "outputs": [
    {
     "name": "stdout",
     "output_type": "stream",
     "text": [
      "217 ns ± 18.3 ns per loop (mean ± std. dev. of 7 runs, 1000000 loops each)\n"
     ]
    }
   ],
   "source": [
    "%%timeit\n",
    "s = 0\n",
    "# хороший способ\n",
    "for val in x: \n",
    "    s += val"
   ]
  },
  {
   "cell_type": "code",
   "execution_count": 191,
   "id": "df9e3019-4b67-4559-b5ea-021351884a75",
   "metadata": {},
   "outputs": [
    {
     "name": "stdout",
     "output_type": "stream",
     "text": [
      "0 1 2 3 4 5 6 7 8 9 \n",
      "45\n"
     ]
    }
   ],
   "source": [
    "s = 0\n",
    "# если нужен индекс элемента, то используем enumerate\n",
    "for idx, val in enumerate(x):\n",
    "    print(idx, end=' ')\n",
    "    s += val\n",
    "print('\\n', s, sep='')"
   ]
  },
  {
   "cell_type": "markdown",
   "id": "8528a7d7-651b-4a6d-9501-acef1205c9fa",
   "metadata": {
    "heading_collapsed": "true",
    "tags": []
   },
   "source": [
    "### tuple"
   ]
  },
  {
   "cell_type": "code",
   "execution_count": 139,
   "id": "ccb49591-ce8e-4918-957d-11b340090dff",
   "metadata": {},
   "outputs": [
    {
     "data": {
      "text/plain": [
       "(1, 2)"
      ]
     },
     "execution_count": 139,
     "metadata": {},
     "output_type": "execute_result"
    }
   ],
   "source": [
    "x = (1, 2)\n",
    "x"
   ]
  },
  {
   "cell_type": "code",
   "execution_count": 141,
   "id": "e87b705d-727e-4a06-9020-4a112ea9ee6f",
   "metadata": {},
   "outputs": [
    {
     "data": {
      "text/plain": [
       "(1,)"
      ]
     },
     "execution_count": 141,
     "metadata": {},
     "output_type": "execute_result"
    }
   ],
   "source": [
    "x = (1,)\n",
    "x"
   ]
  },
  {
   "cell_type": "code",
   "execution_count": 126,
   "id": "fa3e6923-86d5-49a0-8e4f-21bfc51b1bba",
   "metadata": {},
   "outputs": [
    {
     "data": {
      "text/plain": [
       "(0, 2, 4, 6, 8, 10, 12, 14, 16, 18)"
      ]
     },
     "execution_count": 126,
     "metadata": {},
     "output_type": "execute_result"
    }
   ],
   "source": [
    "x = tuple(range(0, 20, 2))\n",
    "x"
   ]
  },
  {
   "cell_type": "code",
   "execution_count": 109,
   "id": "c4bfd827-60d6-4858-aed4-5cddce1fdedb",
   "metadata": {},
   "outputs": [
    {
     "ename": "TypeError",
     "evalue": "'tuple' object does not support item assignment",
     "output_type": "error",
     "traceback": [
      "\u001b[0;31m---------------------------------------------------------------------------\u001b[0m",
      "\u001b[0;31mTypeError\u001b[0m                                 Traceback (most recent call last)",
      "\u001b[0;32m<ipython-input-109-826f8bbb1bfa>\u001b[0m in \u001b[0;36m<module>\u001b[0;34m\u001b[0m\n\u001b[0;32m----> 1\u001b[0;31m \u001b[0mx\u001b[0m\u001b[0;34m[\u001b[0m\u001b[0;36m3\u001b[0m\u001b[0;34m]\u001b[0m \u001b[0;34m=\u001b[0m \u001b[0;36m1\u001b[0m\u001b[0;34m\u001b[0m\u001b[0;34m\u001b[0m\u001b[0m\n\u001b[0m",
      "\u001b[0;31mTypeError\u001b[0m: 'tuple' object does not support item assignment"
     ]
    }
   ],
   "source": [
    "# кортеж - неизменяемый\n",
    "x[3] = 1"
   ]
  },
  {
   "cell_type": "code",
   "execution_count": 128,
   "id": "15e8c9c0-1c06-4314-82cd-6c33e4d2d107",
   "metadata": {},
   "outputs": [
    {
     "data": {
      "text/plain": [
       "(0, 2, 4, 6, 8)"
      ]
     },
     "execution_count": 128,
     "metadata": {},
     "output_type": "execute_result"
    }
   ],
   "source": [
    "# работают слайсы\n",
    "x[:5]"
   ]
  },
  {
   "cell_type": "markdown",
   "id": "9a66238f-003f-4573-97e9-56d0e351a61d",
   "metadata": {
    "heading_collapsed": "true",
    "tags": []
   },
   "source": [
    "### set"
   ]
  },
  {
   "cell_type": "code",
   "execution_count": 157,
   "id": "daa8bff5-946f-42d5-9143-27bc1a471c1a",
   "metadata": {},
   "outputs": [],
   "source": [
    "x = {1, 2, 3}"
   ]
  },
  {
   "cell_type": "code",
   "execution_count": 158,
   "id": "272dd043-5232-4b40-af3d-d3f781c25dfd",
   "metadata": {},
   "outputs": [
    {
     "data": {
      "text/plain": [
       "{1, 2, 3, 4}"
      ]
     },
     "execution_count": 158,
     "metadata": {},
     "output_type": "execute_result"
    }
   ],
   "source": [
    "x.add(4)\n",
    "x"
   ]
  },
  {
   "cell_type": "code",
   "execution_count": 159,
   "id": "06b8fc9b-e5c5-4101-84d1-b5854893e16f",
   "metadata": {},
   "outputs": [
    {
     "data": {
      "text/plain": [
       "{1, 2, 3, 4}"
      ]
     },
     "execution_count": 159,
     "metadata": {},
     "output_type": "execute_result"
    }
   ],
   "source": [
    "x.add(3)\n",
    "x"
   ]
  },
  {
   "cell_type": "code",
   "execution_count": 160,
   "id": "814f434b-56b6-428b-a4ff-ffeffa3de75f",
   "metadata": {},
   "outputs": [
    {
     "data": {
      "text/plain": [
       "{2, 4}"
      ]
     },
     "execution_count": 160,
     "metadata": {},
     "output_type": "execute_result"
    }
   ],
   "source": [
    "x.remove(3)\n",
    "x.discard(1)\n",
    "x"
   ]
  },
  {
   "cell_type": "code",
   "execution_count": 161,
   "id": "0fe22088-878c-41d5-92f2-0b7972de975c",
   "metadata": {},
   "outputs": [
    {
     "ename": "KeyError",
     "evalue": "3",
     "output_type": "error",
     "traceback": [
      "\u001b[0;31m---------------------------------------------------------------------------\u001b[0m",
      "\u001b[0;31mKeyError\u001b[0m                                  Traceback (most recent call last)",
      "\u001b[0;32m<ipython-input-161-c4efe2720efe>\u001b[0m in \u001b[0;36m<module>\u001b[0;34m\u001b[0m\n\u001b[0;32m----> 1\u001b[0;31m \u001b[0mx\u001b[0m\u001b[0;34m.\u001b[0m\u001b[0mremove\u001b[0m\u001b[0;34m(\u001b[0m\u001b[0;36m3\u001b[0m\u001b[0;34m)\u001b[0m\u001b[0;34m\u001b[0m\u001b[0;34m\u001b[0m\u001b[0m\n\u001b[0m",
      "\u001b[0;31mKeyError\u001b[0m: 3"
     ]
    }
   ],
   "source": [
    "x.remove(3)"
   ]
  },
  {
   "cell_type": "code",
   "execution_count": 162,
   "id": "e5ba9939-a6e3-4687-9157-1783afcd3d75",
   "metadata": {},
   "outputs": [],
   "source": [
    "x.discard(5)"
   ]
  },
  {
   "cell_type": "code",
   "execution_count": 207,
   "id": "28dbd01e-91a5-4d35-ac9c-50f1a968b315",
   "metadata": {},
   "outputs": [],
   "source": [
    "s1 = {1, 2, 3, 4, 5}\n",
    "s2 = {4, 5, 6, 7, 8}"
   ]
  },
  {
   "cell_type": "code",
   "execution_count": 197,
   "id": "2f5d3cd4-ea21-4b80-ad9b-c8368387ac59",
   "metadata": {},
   "outputs": [
    {
     "name": "stdout",
     "output_type": "stream",
     "text": [
      "{1, 2, 3, 4, 5, 6, 7, 8}\n",
      "{1, 2, 3, 4, 5, 6, 7, 8}\n"
     ]
    }
   ],
   "source": [
    "# Union\n",
    "print(s1.union(s2))\n",
    "print(s1 | s2)"
   ]
  },
  {
   "cell_type": "code",
   "execution_count": 198,
   "id": "888ec0d4-ad48-4538-806d-cccc9ef7429e",
   "metadata": {},
   "outputs": [
    {
     "name": "stdout",
     "output_type": "stream",
     "text": [
      "{4, 5}\n",
      "{4, 5}\n"
     ]
    }
   ],
   "source": [
    "# Intersection\n",
    "print(s1.intersection(s2))\n",
    "print(s1 & s2)"
   ]
  },
  {
   "cell_type": "code",
   "execution_count": 199,
   "id": "03a43309-055d-4247-a591-c19886180213",
   "metadata": {},
   "outputs": [
    {
     "name": "stdout",
     "output_type": "stream",
     "text": [
      "{1, 2, 3}\n",
      "{1, 2, 3}\n"
     ]
    }
   ],
   "source": [
    "# Difference\n",
    "print(s1.difference(s2))\n",
    "print(s1 - s2)"
   ]
  },
  {
   "cell_type": "code",
   "execution_count": 200,
   "id": "b6f98c01-dd10-4045-9c32-811690ded762",
   "metadata": {},
   "outputs": [
    {
     "name": "stdout",
     "output_type": "stream",
     "text": [
      "{8, 6, 7}\n",
      "{8, 6, 7}\n"
     ]
    }
   ],
   "source": [
    "print(s2.difference(s1))\n",
    "print(s2 - s1)"
   ]
  },
  {
   "cell_type": "code",
   "execution_count": 201,
   "id": "b480ad5f-2a65-44e9-a3af-5beada34ea78",
   "metadata": {},
   "outputs": [
    {
     "name": "stdout",
     "output_type": "stream",
     "text": [
      "{1, 2, 3, 6, 7, 8}\n",
      "{1, 2, 3, 6, 7, 8}\n"
     ]
    }
   ],
   "source": [
    "# Symmetric Difference Operation\n",
    "print(s1.symmetric_difference(s2))\n",
    "print(s1 ^ s2)"
   ]
  },
  {
   "cell_type": "code",
   "execution_count": 208,
   "id": "9dda3560-c8e7-41b4-82fb-594fe1992403",
   "metadata": {},
   "outputs": [
    {
     "name": "stdout",
     "output_type": "stream",
     "text": [
      "False\n",
      "True\n"
     ]
    }
   ],
   "source": [
    "# Проверка подмножества\n",
    "s1 = {1, 2, 3, 4, 5}\n",
    "s2 = {4, 5}\n",
    "print(s1.issubset(s2))\n",
    "print(s2.issubset(s1))"
   ]
  },
  {
   "cell_type": "code",
   "execution_count": null,
   "id": "3be12c26-f20c-47a8-9405-dce46b35dbff",
   "metadata": {},
   "outputs": [],
   "source": []
  },
  {
   "cell_type": "code",
   "execution_count": 179,
   "id": "e989ee1d-f55d-4b16-925e-b8ad62565dfc",
   "metadata": {},
   "outputs": [],
   "source": [
    "x = [1, 2, 3, 1, 7]\n",
    "def remove_duplicates(original):\n",
    "    unique = []\n",
    "    [unique.append(n) for n in original if n not in unique]\n",
    "    return(unique)"
   ]
  },
  {
   "cell_type": "code",
   "execution_count": 180,
   "id": "4fcfe05e-5b2e-4bd0-bb0e-4b7e720ace03",
   "metadata": {},
   "outputs": [
    {
     "name": "stdout",
     "output_type": "stream",
     "text": [
      "474 ns ± 3.67 ns per loop (mean ± std. dev. of 7 runs, 1000000 loops each)\n"
     ]
    }
   ],
   "source": [
    "%%timeit\n",
    "remove_duplicates(x)"
   ]
  },
  {
   "cell_type": "code",
   "execution_count": 181,
   "id": "495c5fe8-256f-428b-a0b7-a30ae2587b2e",
   "metadata": {},
   "outputs": [
    {
     "name": "stdout",
     "output_type": "stream",
     "text": [
      "232 ns ± 3.07 ns per loop (mean ± std. dev. of 7 runs, 1000000 loops each)\n"
     ]
    }
   ],
   "source": [
    "%%timeit\n",
    "list(set(x))"
   ]
  },
  {
   "cell_type": "markdown",
   "id": "71d89206-bff6-4a38-bbea-536b8931f851",
   "metadata": {
    "heading_collapsed": "true",
    "tags": []
   },
   "source": [
    "### list comprehension"
   ]
  },
  {
   "cell_type": "code",
   "execution_count": 104,
   "id": "8d89f2b0-e5ca-45f4-9859-fe9d40d0626c",
   "metadata": {},
   "outputs": [
    {
     "name": "stdout",
     "output_type": "stream",
     "text": [
      "[0, 2, 4, 6, 8, 10, 12, 14, 16, 18]\n"
     ]
    }
   ],
   "source": [
    "# фильтрация\n",
    "x = list(range(0, 20, 2))\n",
    "y = filter(lambda i: i % 2 == 0, x)\n",
    "print(list(y))"
   ]
  },
  {
   "cell_type": "code",
   "execution_count": 106,
   "id": "408e97e3-c578-4d6c-9b97-7bd90c6da53c",
   "metadata": {},
   "outputs": [
    {
     "data": {
      "text/plain": [
       "[0, 2, 4, 6, 8, 10, 12, 14, 16, 18]"
      ]
     },
     "execution_count": 106,
     "metadata": {},
     "output_type": "execute_result"
    }
   ],
   "source": [
    "# но есть гораздо более pythonic-way - list comprehension\n",
    "x = list(range(0, 20, 2))\n",
    "[i for i in x if i % 2 == 0]"
   ]
  },
  {
   "cell_type": "code",
   "execution_count": 133,
   "id": "00f4cda2-f399-46e4-93d9-59b7f31e8f43",
   "metadata": {},
   "outputs": [
    {
     "data": {
      "text/plain": [
       "[0, 4, 16, 36, 64, 100, 144, 196, 256, 324]"
      ]
     },
     "execution_count": 133,
     "metadata": {},
     "output_type": "execute_result"
    }
   ],
   "source": [
    "x = list(range(0, 20, 2))\n",
    "[i**2 for i in x]"
   ]
  },
  {
   "cell_type": "code",
   "execution_count": 217,
   "id": "5224b78c-7303-4427-a14f-7acaecc0d79d",
   "metadata": {},
   "outputs": [
    {
     "name": "stdout",
     "output_type": "stream",
     "text": [
      "x=1, y=1, x*y=1\n",
      "x=1, y=2, x*y=2\n",
      "x=1, y=3, x*y=3\n",
      "x=2, y=1, x*y=2\n",
      "x=2, y=2, x*y=4\n",
      "x=2, y=3, x*y=6\n",
      "x=3, y=1, x*y=3\n",
      "x=3, y=2, x*y=6\n",
      "x=3, y=3, x*y=9\n"
     ]
    },
    {
     "data": {
      "text/plain": [
       "[None, None, None, None, None, None, None, None, None]"
      ]
     },
     "execution_count": 217,
     "metadata": {},
     "output_type": "execute_result"
    }
   ],
   "source": [
    "# это можно делать для вложенных циклов\n",
    "[print(f'x={x}, y={y}, x*y={x*y}') for x in range(1, 4) for y in range(1, 4)]"
   ]
  },
  {
   "cell_type": "code",
   "execution_count": 136,
   "id": "5ba95ee2-4510-41fe-83d0-fd6bc980c13c",
   "metadata": {},
   "outputs": [],
   "source": [
    "# так же это работает со словарями, множествами"
   ]
  },
  {
   "cell_type": "code",
   "execution_count": 137,
   "id": "5deef4c5-b39b-44df-8d07-438b609bf922",
   "metadata": {},
   "outputs": [
    {
     "data": {
      "text/plain": [
       "(0, 16, 256, 1296, 4096, 10000, 20736, 38416, 65536, 104976)"
      ]
     },
     "execution_count": 137,
     "metadata": {},
     "output_type": "execute_result"
    }
   ],
   "source": [
    "tuple(i**2 for i in x)"
   ]
  },
  {
   "cell_type": "code",
   "execution_count": 144,
   "id": "944ec3cf-d692-4093-8cd6-e72976c29044",
   "metadata": {},
   "outputs": [
    {
     "data": {
      "text/plain": [
       "{0: 0, 1: 1, 2: 4, 3: 9, 4: 16, 5: 25, 6: 36, 7: 49, 8: 64, 9: 81}"
      ]
     },
     "execution_count": 144,
     "metadata": {},
     "output_type": "execute_result"
    }
   ],
   "source": [
    "{i:i**2 for i in range(0, 10)}"
   ]
  },
  {
   "cell_type": "code",
   "execution_count": 138,
   "id": "47c49c72-454c-4b41-8383-ce8b358dc68e",
   "metadata": {},
   "outputs": [
    {
     "data": {
      "text/plain": [
       "{0, 1, 4, 9, 16, 25, 36, 49, 64, 81}"
      ]
     },
     "execution_count": 138,
     "metadata": {},
     "output_type": "execute_result"
    }
   ],
   "source": [
    "{i**2 for i in range(0, 10)}"
   ]
  },
  {
   "cell_type": "markdown",
   "id": "cb997b98-dd12-457d-b798-28655099f8f0",
   "metadata": {
    "heading_collapsed": "true",
    "tags": []
   },
   "source": [
    "# Работа с файлами"
   ]
  },
  {
   "cell_type": "code",
   "execution_count": 11,
   "id": "bb48766d-69dc-41de-8e61-eb7c3af6042d",
   "metadata": {},
   "outputs": [],
   "source": [
    "with open('data.txt', 'w') as file:\n",
    "    data = 'some data to be written to the file\\n'\n",
    "    file.write(data)"
   ]
  },
  {
   "cell_type": "code",
   "execution_count": 12,
   "id": "d85a5d03-0e2b-4638-9e1a-7074c8980755",
   "metadata": {},
   "outputs": [],
   "source": [
    "with open('data.txt', 'a') as file:\n",
    "    data = ['1\\n', '2\\n', '3\\n', '4\\n']\n",
    "    file.writelines(data)"
   ]
  },
  {
   "cell_type": "code",
   "execution_count": 13,
   "id": "02e23abf-021e-4e42-91dc-7e688fed799c",
   "metadata": {},
   "outputs": [
    {
     "data": {
      "text/plain": [
       "'some data to be written to the file\\n1\\n2\\n3\\n4\\n'"
      ]
     },
     "execution_count": 13,
     "metadata": {},
     "output_type": "execute_result"
    }
   ],
   "source": [
    "with open('data.txt', 'r') as file:\n",
    "    data = file.read()\n",
    "data"
   ]
  },
  {
   "cell_type": "code",
   "execution_count": 14,
   "id": "b83c2a77-05fc-4e15-a246-c6f4a7ddef34",
   "metadata": {},
   "outputs": [
    {
     "data": {
      "text/plain": [
       "['some data to be written to the file\\n', '1\\n', '2\\n', '3\\n', '4\\n']"
      ]
     },
     "execution_count": 14,
     "metadata": {},
     "output_type": "execute_result"
    }
   ],
   "source": [
    "with open('data.txt', 'r') as file:\n",
    "    data = file.readlines()\n",
    "data"
   ]
  },
  {
   "cell_type": "code",
   "execution_count": 15,
   "id": "9aa512f6-2125-43c0-b83f-039dbf2e9f83",
   "metadata": {},
   "outputs": [
    {
     "name": "stdout",
     "output_type": "stream",
     "text": [
      "some data to be written to the file\n",
      "1\n",
      "2\n",
      "3\n",
      "4\n"
     ]
    }
   ],
   "source": [
    "with open('data.txt', 'r') as file:\n",
    "    for line in file:\n",
    "        print(line, end='')"
   ]
  },
  {
   "cell_type": "markdown",
   "id": "821bcffe-e070-42cb-87ca-4afc6ab59d9a",
   "metadata": {
    "heading_collapsed": "true",
    "tags": []
   },
   "source": [
    "# Функции"
   ]
  },
  {
   "cell_type": "code",
   "execution_count": null,
   "id": "f52b055c-4c4c-41bb-9524-7396fb7a8ac8",
   "metadata": {},
   "outputs": [],
   "source": [
    "x = 2"
   ]
  },
  {
   "cell_type": "code",
   "execution_count": 45,
   "id": "b319b013-0646-4eda-9822-863aeda32a87",
   "metadata": {},
   "outputs": [
    {
     "name": "stdout",
     "output_type": "stream",
     "text": [
      "4\n"
     ]
    }
   ],
   "source": [
    "# аргументы тоже передаются как ссылка\n",
    "def print_sqr(x: Union[int, float]) -> None:\n",
    "    print(x**2)\n",
    "\n",
    "print_sqr(x)"
   ]
  },
  {
   "cell_type": "code",
   "execution_count": 47,
   "id": "ccb20c2f-de52-4fa5-888d-757d1b786133",
   "metadata": {},
   "outputs": [],
   "source": [
    "def do_nothing() -> None:\n",
    "    pass\n",
    "\n",
    "do_nothing()"
   ]
  },
  {
   "cell_type": "code",
   "execution_count": 48,
   "id": "46d80bf8-4962-4050-ad86-79d0c6dce2ed",
   "metadata": {},
   "outputs": [],
   "source": [
    "def return_sqr(x: Union[int, float]) -> Union[int, float]:\n",
    "    return x**2"
   ]
  },
  {
   "cell_type": "code",
   "execution_count": 49,
   "id": "d9bfd50e-0d67-4e40-9ab6-d8754e25da7d",
   "metadata": {},
   "outputs": [
    {
     "data": {
      "text/plain": [
       "4"
      ]
     },
     "execution_count": 49,
     "metadata": {},
     "output_type": "execute_result"
    }
   ],
   "source": [
    "y = return_sqr(x)\n",
    "y"
   ]
  },
  {
   "cell_type": "markdown",
   "id": "c9870ac1-3179-4508-99f8-95a952b881d8",
   "metadata": {
    "tags": []
   },
   "source": [
    "#### Аргументы"
   ]
  },
  {
   "cell_type": "code",
   "execution_count": 47,
   "id": "287cb8ea-ca81-4e62-9aa9-da77c6acc6c1",
   "metadata": {},
   "outputs": [
    {
     "data": {
      "image/png": "[encoded data removed]",
      "text/plain": [
       "<Figure size 432x288 with 1 Axes>"
      ]
     },
     "metadata": {
      "needs_background": "light"
     },
     "output_type": "display_data"
    }
   ],
   "source": [
    "import matplotlib.pyplot as plt\n",
    "import numpy as np\n",
    "\n",
    "\n",
    "def draw_line(k: Union[int, float] = 1, b: Union[int, float] = 0):\n",
    "    fig = plt.figure()\n",
    "    ax = plt.axes()\n",
    "\n",
    "    x = np.linspace(-5, 5, 1000)\n",
    "    ax.plot(x, k*x + b)\n",
    "    plt.xlim([-5, 5])\n",
    "    plt.ylim([-5, 5])\n",
    "    plt.show()\n",
    "\n",
    "\n",
    "draw_line(2)"
   ]
  },
  {
   "cell_type": "code",
   "execution_count": 25,
   "id": "0aa35cba-c760-4f78-ace6-7f81a88c925d",
   "metadata": {},
   "outputs": [
    {
     "name": "stdout",
     "output_type": "stream",
     "text": [
      "1\n",
      "8\n",
      "27\n",
      "64\n"
     ]
    }
   ],
   "source": [
    "def args_to_power(power: Union[int, float], *args):\n",
    "    for a in args:\n",
    "        print(a**power)\n",
    "power = 3\n",
    "args_to_power(power, 1, 2, 3, 4)"
   ]
  },
  {
   "cell_type": "code",
   "execution_count": 21,
   "id": "2e7df525-aa94-410b-bc20-a814b2232516",
   "metadata": {},
   "outputs": [
    {
     "name": "stdout",
     "output_type": "stream",
     "text": [
      "a 1\n",
      "b 2\n"
     ]
    }
   ],
   "source": [
    "def print_kwargs(**kwargs):\n",
    "    for key, val in kwargs.items():\n",
    "        print(key, val)\n",
    "print_kwargs(a=1, b='2')"
   ]
  },
  {
   "cell_type": "markdown",
   "id": "784563fa-9cba-458f-a9fd-9cc6aa685465",
   "metadata": {
    "heading_collapsed": "true",
    "tags": []
   },
   "source": [
    "# Декораторы"
   ]
  },
  {
   "cell_type": "code",
   "execution_count": 1,
   "id": "75ff060b-3f68-4084-ac4f-17b3eb6c0a01",
   "metadata": {},
   "outputs": [],
   "source": [
    "def say_hello(name):\n",
    "    return f\"Hello {name}\"\n",
    "\n",
    "def say_hi(name):\n",
    "    return f\"Hi {name}\"\n",
    "\n",
    "def greet_bob(greeter_func):\n",
    "    return greeter_func(\"Bob\")"
   ]
  },
  {
   "cell_type": "code",
   "execution_count": 2,
   "id": "82990a68-4092-4c74-ad74-70ea5958863a",
   "metadata": {},
   "outputs": [
    {
     "data": {
      "text/plain": [
       "'Hello Bob'"
      ]
     },
     "execution_count": 2,
     "metadata": {},
     "output_type": "execute_result"
    }
   ],
   "source": [
    "greet_bob(say_hello)"
   ]
  },
  {
   "cell_type": "code",
   "execution_count": 3,
   "id": "899843b6-8e9c-4f3c-bd24-5a1e147ee144",
   "metadata": {},
   "outputs": [
    {
     "data": {
      "text/plain": [
       "'Hi Bob'"
      ]
     },
     "execution_count": 3,
     "metadata": {},
     "output_type": "execute_result"
    }
   ],
   "source": [
    "greet_bob(say_hi)"
   ]
  },
  {
   "cell_type": "code",
   "execution_count": 4,
   "id": "14d18aea-4212-4ace-96bf-f402c643c7fd",
   "metadata": {},
   "outputs": [
    {
     "name": "stdout",
     "output_type": "stream",
     "text": [
      "Printing from the parent() function\n",
      "Printing from the second_child() function\n",
      "Printing from the first_child() function\n"
     ]
    }
   ],
   "source": [
    "# внутрение функции\n",
    "def parent():\n",
    "    print(\"Printing from the parent() function\")\n",
    "\n",
    "    def first_child():\n",
    "        print(\"Printing from the first_child() function\")\n",
    "\n",
    "    def second_child():\n",
    "        print(\"Printing from the second_child() function\")\n",
    "\n",
    "    second_child()\n",
    "    first_child()\n",
    "parent()"
   ]
  },
  {
   "cell_type": "code",
   "execution_count": 5,
   "id": "401cddd0-dac6-4de8-a3e9-92dd521fceb9",
   "metadata": {},
   "outputs": [],
   "source": [
    "# возвращение функции из функции\n",
    "def parent(num):\n",
    "    def first_child():\n",
    "        return \"First\"\n",
    "\n",
    "    def second_child():\n",
    "        return \"Second\"\n",
    "\n",
    "    if num == 1:\n",
    "        return first_child\n",
    "    else:\n",
    "        return second_child\n",
    "first = parent(1)\n",
    "second = parent(2)"
   ]
  },
  {
   "cell_type": "code",
   "execution_count": 6,
   "id": "110b4b94-99e4-4810-89cd-8688a6b0a4c4",
   "metadata": {},
   "outputs": [
    {
     "data": {
      "text/plain": [
       "'First'"
      ]
     },
     "execution_count": 6,
     "metadata": {},
     "output_type": "execute_result"
    }
   ],
   "source": [
    "first()"
   ]
  },
  {
   "cell_type": "code",
   "execution_count": 7,
   "id": "da68fdd0-166e-4e49-8e7c-fb879bb5f2f9",
   "metadata": {},
   "outputs": [
    {
     "data": {
      "text/plain": [
       "'Second'"
      ]
     },
     "execution_count": 7,
     "metadata": {},
     "output_type": "execute_result"
    }
   ],
   "source": [
    "second()"
   ]
  },
  {
   "cell_type": "code",
   "execution_count": 8,
   "id": "24e160e7-391c-4b7f-8c17-f58f9f7f77e7",
   "metadata": {},
   "outputs": [],
   "source": [
    "# простой декоратор\n",
    "def my_decorator(func):\n",
    "    def wrapper():\n",
    "        print(\"Something is happening before the function is called.\")\n",
    "        func()\n",
    "        print(\"Something is happening after the function is called.\")\n",
    "    return wrapper\n",
    "\n",
    "def say_whee():\n",
    "    print(\"Whee!\")\n",
    "\n",
    "say_whee = my_decorator(say_whee)"
   ]
  },
  {
   "cell_type": "code",
   "execution_count": 9,
   "id": "c4d943eb-e976-49b3-8dfb-2be9486bcb08",
   "metadata": {},
   "outputs": [
    {
     "name": "stdout",
     "output_type": "stream",
     "text": [
      "Something is happening before the function is called.\n",
      "Whee!\n",
      "Something is happening after the function is called.\n"
     ]
    }
   ],
   "source": [
    "say_whee()"
   ]
  },
  {
   "cell_type": "code",
   "execution_count": null,
   "id": "b4cbd2b7-fa15-4ee3-a3e7-00be52cbbc3d",
   "metadata": {},
   "outputs": [],
   "source": []
  },
  {
   "cell_type": "code",
   "execution_count": 10,
   "id": "05595114-7350-482c-a2b3-816852eba5fd",
   "metadata": {},
   "outputs": [
    {
     "name": "stdout",
     "output_type": "stream",
     "text": [
      "Something is happening before the function is called.\n",
      "Whee!\n",
      "Something is happening after the function is called.\n"
     ]
    }
   ],
   "source": [
    "def my_decorator(func):\n",
    "    def wrapper():\n",
    "        print(\"Something is happening before the function is called.\")\n",
    "        func()\n",
    "        print(\"Something is happening after the function is called.\")\n",
    "    return wrapper\n",
    "\n",
    "@my_decorator\n",
    "def say_whee():\n",
    "    print(\"Whee!\")\n",
    "\n",
    "say_whee()"
   ]
  },
  {
   "cell_type": "code",
   "execution_count": null,
   "id": "ebf2fbcf-16b3-4371-acda-80714e6b4d43",
   "metadata": {},
   "outputs": [],
   "source": []
  },
  {
   "cell_type": "code",
   "execution_count": 11,
   "id": "60619758-19e9-4650-92ef-0b4914c74c29",
   "metadata": {},
   "outputs": [
    {
     "name": "stdout",
     "output_type": "stream",
     "text": [
      "say_hello\n",
      "say_hello\n"
     ]
    }
   ],
   "source": [
    "# декораторы с аргументами\n",
    "def do_twice(func):\n",
    "    def wrapper_do_twice(*args, **kwargs):\n",
    "        func(*args, **kwargs)\n",
    "        func(*args, **kwargs)\n",
    "    return wrapper_do_twice\n",
    "\n",
    "@do_twice\n",
    "def say_hello(name):\n",
    "    print('say_hello')\n",
    "    return f\"Hello {name}\"\n",
    "\n",
    "say_hello('Bob')"
   ]
  },
  {
   "cell_type": "code",
   "execution_count": 17,
   "id": "a18457b0-194e-4fb1-8edd-ae45ab3dfa7d",
   "metadata": {},
   "outputs": [
    {
     "name": "stdout",
     "output_type": "stream",
     "text": [
      "say_hello\n",
      "say_hello\n"
     ]
    },
    {
     "data": {
      "text/plain": [
       "'Hello Bob'"
      ]
     },
     "execution_count": 17,
     "metadata": {},
     "output_type": "execute_result"
    }
   ],
   "source": [
    "# import functools\n",
    "\n",
    "# декораторы с аргументами\n",
    "def do_twice(func):\n",
    "    # @functools.wraps(func)\n",
    "    def wrapper_do_twice(*args, **kwargs):\n",
    "        func(*args, **kwargs)\n",
    "        return func(*args, **kwargs)\n",
    "    return wrapper_do_twice\n",
    "\n",
    "@do_twice\n",
    "def say_hello(name):\n",
    "    \"\"\"\n",
    "    Function to say Hello\n",
    "    ----\n",
    "    name: str\n",
    "    \"\"\"\n",
    "    print('say_hello')\n",
    "    return f\"Hello {name}\"\n",
    "\n",
    "say_hello('Bob')"
   ]
  },
  {
   "cell_type": "code",
   "execution_count": 18,
   "id": "ffaeaf6d-d451-487b-96af-a6b2a5dddbce",
   "metadata": {},
   "outputs": [
    {
     "name": "stdout",
     "output_type": "stream",
     "text": [
      "Help on function say_hello in module __main__:\n",
      "\n",
      "say_hello(name)\n",
      "    Function to say Hello\n",
      "    ----\n",
      "    name: str\n",
      "\n"
     ]
    }
   ],
   "source": [
    "help(say_hello)"
   ]
  },
  {
   "cell_type": "code",
   "execution_count": 14,
   "id": "3e19eb93-53a0-4757-90a3-b2ade44379e6",
   "metadata": {},
   "outputs": [
    {
     "data": {
      "text/plain": [
       "'wrapper_do_twice'"
      ]
     },
     "execution_count": 14,
     "metadata": {},
     "output_type": "execute_result"
    }
   ],
   "source": [
    "say_hello.__name__"
   ]
  },
  {
   "cell_type": "code",
   "execution_count": null,
   "id": "7aa2ea73-1a3b-4fda-b40f-52217c209a60",
   "metadata": {},
   "outputs": [],
   "source": []
  },
  {
   "cell_type": "code",
   "execution_count": 15,
   "id": "7939d0a5-189f-4532-89c3-92f599d9facb",
   "metadata": {},
   "outputs": [],
   "source": [
    "import functools\n",
    "import time\n",
    "\n",
    "\n",
    "def timer(func):\n",
    "    \"\"\"Print the runtime of the decorated function\"\"\"\n",
    "    @functools.wraps(func)\n",
    "    def wrapper_timer(*args, **kwargs):\n",
    "        start_time = time.perf_counter()\n",
    "        value = func(*args, **kwargs)\n",
    "        run_time = time.perf_counter() - start_time\n",
    "        print(f\"Finished {func.__name__!r} in {run_time:.4f} secs\")\n",
    "        return value\n",
    "    return wrapper_timer\n",
    "\n",
    "@timer\n",
    "def waste_some_time(num_times):\n",
    "    for _ in range(num_times):\n",
    "        sum([i**2 for i in range(10000)])"
   ]
  },
  {
   "cell_type": "code",
   "execution_count": 16,
   "id": "eff2a91b-0864-41d7-9280-e9061176cdfd",
   "metadata": {},
   "outputs": [
    {
     "name": "stdout",
     "output_type": "stream",
     "text": [
      "Finished 'waste_some_time' in 0.0045 secs\n"
     ]
    }
   ],
   "source": [
    "waste_some_time(1)"
   ]
  },
  {
   "cell_type": "code",
   "execution_count": null,
   "id": "b0ddaeb5-3a2d-41c1-a3e8-1605fdd4492b",
   "metadata": {},
   "outputs": [],
   "source": []
  },
  {
   "cell_type": "code",
   "execution_count": null,
   "id": "705f34bd-6f74-49ea-a0df-c793fa2c829c",
   "metadata": {},
   "outputs": [],
   "source": []
  },
  {
   "cell_type": "code",
   "execution_count": null,
   "id": "c8d06460-f76c-4d0e-a141-7636e4b0680d",
   "metadata": {},
   "outputs": [],
   "source": []
  },
  {
   "cell_type": "markdown",
   "id": "91dc2eb9-e652-47d3-b2b8-63656e90d54f",
   "metadata": {},
   "source": [
    "# Классы"
   ]
  },
  {
   "cell_type": "code",
   "execution_count": 168,
   "id": "eea9d30b-393f-4446-9faf-0b6b966a3055",
   "metadata": {},
   "outputs": [
    {
     "name": "stdout",
     "output_type": "stream",
     "text": [
      "a 1\n"
     ]
    },
    {
     "data": {
      "text/plain": [
       "<__main__.B at 0x7f66460c51f0>"
      ]
     },
     "execution_count": 168,
     "metadata": {},
     "output_type": "execute_result"
    }
   ],
   "source": [
    "class A:\n",
    "    def __init__(self, t):\n",
    "        print('a', t)\n",
    "\n",
    "class B(A):\n",
    "    pass\n",
    "\n",
    "B(1)"
   ]
  },
  {
   "cell_type": "code",
   "execution_count": 75,
   "id": "7e944cfc-85f9-4496-b2e1-bd24a1ed5c91",
   "metadata": {},
   "outputs": [],
   "source": [
    "class Vehicle:\n",
    "    def __init__(self, name: str, year: int, type_: str):\n",
    "        self.name = name\n",
    "        self.year = year\n",
    "        self.type_ = type_\n",
    "    \n",
    "    def __str__(self):\n",
    "        return f'{self.name} {self.year}'\n",
    "    \n",
    "    def __repr__(self):\n",
    "        return f'{self.name} {self.year}'"
   ]
  },
  {
   "cell_type": "code",
   "execution_count": 68,
   "id": "43cd2fb3-ebff-4bea-925d-4ab1b315fb25",
   "metadata": {},
   "outputs": [
    {
     "data": {
      "text/plain": [
       "'Toyota Camry 2018'"
      ]
     },
     "execution_count": 68,
     "metadata": {},
     "output_type": "execute_result"
    }
   ],
   "source": [
    "str(Vehicle('Toyota Camry', 2018, 'auto'))"
   ]
  },
  {
   "cell_type": "code",
   "execution_count": 157,
   "id": "de84afc9-728c-4cd2-92d6-f5a633cc3a4d",
   "metadata": {},
   "outputs": [],
   "source": [
    "class Garage:\n",
    "    def __init__(self):\n",
    "        self.vehicles = [\n",
    "            Vehicle('Toyota Camry', 2018, 'auto'),\n",
    "            Vehicle('Honda Shadow 750', 2019, 'moto')\n",
    "        ]\n",
    "        self._index = 0\n",
    "    \n",
    "    def add_vehicle(self, vehicle: Vehicle):\n",
    "        self.vehicles.append(vehicle)\n",
    "        \n",
    "    def __str__(self):\n",
    "        return str(self.vehicles)\n",
    "    \n",
    "    def __len__(self):\n",
    "        return len(self.vehicles)\n",
    "    \n",
    "    def __getitem__(self, idx):\n",
    "        return self.vehicles[idx]\n",
    "\n",
    "    def __next__(self):\n",
    "        try:\n",
    "            item = self.vehicles[self._index]\n",
    "        except IndexError:\n",
    "            self._index = 0\n",
    "            raise StopIteration\n",
    "        self._index += 1\n",
    "        return item\n",
    "\n",
    "\n",
    "garage = Garage()\n",
    "garage.add_vehicle(Vehicle('BMW X5', 2018, 'auto'))"
   ]
  },
  {
   "cell_type": "code",
   "execution_count": 158,
   "id": "8928b47f-c04b-49a5-bd7a-5b82292278f3",
   "metadata": {},
   "outputs": [
    {
     "data": {
      "text/plain": [
       "3"
      ]
     },
     "execution_count": 158,
     "metadata": {},
     "output_type": "execute_result"
    }
   ],
   "source": [
    "# __len__\n",
    "len(garage)"
   ]
  },
  {
   "cell_type": "code",
   "execution_count": 159,
   "id": "fec5e824-e955-4bd7-9b8a-1748f4768081",
   "metadata": {},
   "outputs": [
    {
     "name": "stdout",
     "output_type": "stream",
     "text": [
      "[Toyota Camry 2018, Honda Shadow 750 2019, BMW X5 2018]\n"
     ]
    }
   ],
   "source": [
    "# __str__\n",
    "print(garage)"
   ]
  },
  {
   "cell_type": "code",
   "execution_count": 160,
   "id": "76a66cb2-7089-4bcd-a690-7e9841f0f682",
   "metadata": {},
   "outputs": [
    {
     "name": "stdout",
     "output_type": "stream",
     "text": [
      "[Toyota Camry 2018, Honda Shadow 750 2019]\n"
     ]
    }
   ],
   "source": [
    "# __getitem__\n",
    "print(garage[:2])"
   ]
  },
  {
   "cell_type": "code",
   "execution_count": 161,
   "id": "2bfe3f72-6114-4312-8026-037b4253fd50",
   "metadata": {},
   "outputs": [
    {
     "name": "stdout",
     "output_type": "stream",
     "text": [
      "Toyota Camry 2018\n",
      "Honda Shadow 750 2019\n",
      "BMW X5 2018\n"
     ]
    }
   ],
   "source": [
    "# __getitem__\n",
    "for vehicle in garage:\n",
    "    print(vehicle)"
   ]
  },
  {
   "cell_type": "code",
   "execution_count": 162,
   "id": "86ceda90-f0e9-4ac6-8f3b-9bd6d3ab1e79",
   "metadata": {},
   "outputs": [
    {
     "name": "stdout",
     "output_type": "stream",
     "text": [
      "Toyota Camry 2018\n",
      "Honda Shadow 750 2019\n",
      "BMW X5 2018\n"
     ]
    }
   ],
   "source": [
    "# __next__\n",
    "while True:\n",
    "    try:\n",
    "        item = next(garage)\n",
    "        print(item)\n",
    "    except StopIteration:\n",
    "        break"
   ]
  },
  {
   "cell_type": "code",
   "execution_count": null,
   "id": "a03b3541-de9c-4268-b3fb-82ae5448230a",
   "metadata": {},
   "outputs": [],
   "source": [
    "Статический метод\n",
    "Абстрактный класс\n",
    "Есть множественное наследование"
   ]
  },
  {
   "cell_type": "markdown",
   "id": "1198fd97-85e3-44e6-a9de-e8ef7a626a58",
   "metadata": {},
   "source": [
    "# Многопоточность"
   ]
  },
  {
   "cell_type": "markdown",
   "id": "7aec5dcf-08ef-435c-b9d7-d4a42949d77a",
   "metadata": {},
   "source": [
    "Есть потоки и процессы  \n",
    "Потоки не работают. Есть такая штука как GIL, которая по сути первращает многопоточность в однопоточность  \n",
    "Есть процессы, которые работают, но у них изолированая память"
   ]
  },
  {
   "cell_type": "markdown",
   "id": "6cf1908e-c6b2-434f-9de2-61a4ee36db6f",
   "metadata": {},
   "source": [
    "# Сравнение ноды и питона"
   ]
  },
  {
   "cell_type": "code",
   "execution_count": null,
   "id": "256bba92-867c-4a0d-9745-7c0c1dad4cc2",
   "metadata": {},
   "outputs": [],
   "source": []
  },
  {
   "cell_type": "code",
   "execution_count": null,
   "id": "126ccf17-152e-4803-a49a-7fdacec03f8d",
   "metadata": {},
   "outputs": [],
   "source": []
  },
  {
   "cell_type": "markdown",
   "id": "4ae66743-d51a-40e2-af38-7bdf4ac69b49",
   "metadata": {},
   "source": [
    "# Скрипты"
   ]
  },
  {
   "cell_type": "code",
   "execution_count": null,
   "id": "9cf3f00d-3c58-4885-a904-3e4ad95f8722",
   "metadata": {},
   "outputs": [],
   "source": []
  },
  {
   "cell_type": "code",
   "execution_count": null,
   "id": "f1fdb1c1-38b2-4048-b5a5-62d5e7b18ec7",
   "metadata": {},
   "outputs": [],
   "source": []
  },
  {
   "cell_type": "code",
   "execution_count": null,
   "id": "e6db6f59-35a4-40f8-83d5-66e390fd2f67",
   "metadata": {},
   "outputs": [],
   "source": [
    "python удобнее node js\n",
    "чтобы что-то простое протестить в питоне просто открой консоль и сделай\n",
    "в ноде это проблемно\n",
    "\n",
    "нода - внешний модуль на любой чих. ставишь несколько либ и у тебя может быть несколько тысяч зависимостей\n",
    "у нас в модерации 722 зависимостей\n",
    "\n",
    "питон - на один функционал, обычно есть один модуль. модули не строятся на куче других модулей и зависимостей гораздо меньше\n",
    "в админаи 134"
   ]
  },
  {
   "cell_type": "code",
   "execution_count": null,
   "id": "bd634759-1def-44a9-af7c-e8b5119bdd83",
   "metadata": {},
   "outputs": [],
   "source": []
  }
 ],
 "metadata": {
  "kernelspec": {
   "display_name": "Python 3",
   "language": "python",
   "name": "python3"
  },
  "language_info": {
   "codemirror_mode": {
    "name": "ipython",
    "version": 3
   },
   "file_extension": ".py",
   "mimetype": "text/x-python",
   "name": "python",
   "nbconvert_exporter": "python",
   "pygments_lexer": "ipython3",
   "version": "3.8.10"
  }
 },
 "nbformat": 4,
 "nbformat_minor": 5
}
