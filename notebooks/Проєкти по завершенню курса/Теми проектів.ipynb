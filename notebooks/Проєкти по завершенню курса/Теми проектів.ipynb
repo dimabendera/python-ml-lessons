{
 "cells": [
  {
   "cell_type": "markdown",
   "id": "397c8acb",
   "metadata": {},
   "source": [
    "<h1>Теми проєктів:</h1>\n",
    "\n",
    "<ol> \n",
    "  <li type=\"1\">Визначення овуляції в жінок по слині</li>\n",
    "  <li type=\"1\">Розпізнавання військової техніки по фото/відео</li>\n",
    "  <li type=\"1\">Захват цілі дроном комінкадзе і автопілот до цілі при втраті з'вязку</li>\n",
    "  \n",
    "</ol>"
   ]
  },
  {
   "cell_type": "code",
   "execution_count": null,
   "id": "68d0fa2d",
   "metadata": {},
   "outputs": [],
   "source": []
  }
 ],
 "metadata": {
  "kernelspec": {
   "display_name": "Python 3",
   "language": "python",
   "name": "python3"
  },
  "language_info": {
   "codemirror_mode": {
    "name": "ipython",
    "version": 3
   },
   "file_extension": ".py",
   "mimetype": "text/x-python",
   "name": "python",
   "nbconvert_exporter": "python",
   "pygments_lexer": "ipython3",
   "version": "3.8.10"
  }
 },
 "nbformat": 4,
 "nbformat_minor": 5
}
